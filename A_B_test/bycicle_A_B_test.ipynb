{
 "cells": [
  {
   "cell_type": "markdown",
   "id": "667d469b",
   "metadata": {},
   "source": [
    "# Описание проекта :\n",
    "Сервис аренды самокатов GoFast передал данные о некоторых пользователях из нескольких городов, а также об их поездках. Чтобы совершать поездки по городу, пользователи сервиса GoFast пользуются мобильным приложением. Сервисом можно пользоваться:\n",
    "\n",
    "    - без подписки: \n",
    "        - абонентская плата отсутствует;\n",
    "        - стоимость одной минуты поездки — 8 рублей;\n",
    "        - стоимость старта (начала поездки) — 50 рублей;\n",
    "    - с подпиской Ultra:\n",
    "        - абонентская плата — 199 рублей в месяц;\n",
    "        - стоимость одной минуты поездки — 6 рублей;\n",
    "        - стоимость старта — бесплатно."
   ]
  },
  {
   "cell_type": "markdown",
   "id": "0cf6faca",
   "metadata": {},
   "source": [
    "# Описание задачи \n",
    "\n",
    "1. Посчитать совокупную выкучку за год по всем пользователям\n",
    "2. Продакт-менеджеры сервиса хотят увеличить количество пользователей с подпиской. Для этого они будут проводить различные акции, но сначала нужно выяснить несколько важных моментов и проверить следующие гипотезы:\n",
    "   \n",
    "   -  Проверить гипотезу о том,что  пользователи с подпиской тратят больше времени на поездки?\n",
    "   -  Расстояние одной поездки в 3130 метров — оптимальное с точки зрения износа самоката. Можно ли сказать, что среднее расстояние, которое проезжают пользователи с подпиской за одну поездку, не превышает 3130 метров?\n",
    "   -  Будет ли помесячная выручка от пользователей с подпиской по месяцам выше, чем выручка от пользователей без подписки.\n",
    "   -  Отделу маркетинга GoFast поставили задачу: нужно провести акцию с раздачей промокодов на один бесплатный месяц подписки, в рамках которой как минимум 100 существующих клиентов должны продлить эту подписку. То есть по завершении периода действия подписки пользователь может либо отказаться от неё, либо продлить, совершив соответствующий платёж. Эта акция уже проводилась ранее и по итогу выяснилось, что после бесплатного пробного периода подписку продлевают 10 % пользователей. Выясните, какое минимальное количество промокодов нужно разослать, чтобы вероятность не выполнить план была примерно 5 %. Постройте график распределения и сформулируйте ответ на вопрос о количестве промокодов.\n",
    "   -  Отдел маркетинга рассылает клиентам push-уведомления в мобильном приложении. Клиенты могут открыть его или не открывать. Известно, что уведомления открывают около 40 % получивших клиентов. Отдел планирует разослать 1 млн уведомлений. С помощью аппроксимации постройте примерный график распределения и оцените вероятность того, что уведомление откроют не более 399,5 тыс. пользователей."
   ]
  },
  {
   "cell_type": "code",
   "execution_count": 1,
   "id": "72576667",
   "metadata": {},
   "outputs": [],
   "source": [
    "import pandas as pd\n",
    "import datetime as dt\n",
    "import numpy as np\n",
    "import matplotlib.pyplot as plt\n",
    "import seaborn as sns\n",
    "\n",
    "from scipy import stats as st\n",
    "from scipy.stats import binom,norm,poisson\n",
    "from math import factorial,exp,sqrt\n",
    "from statsmodels.stats.weightstats import ttest_ind\n",
    "\n",
    "sns.set_palette('pastel')\n",
    "pd.options.mode.chained_assignment = None\n",
    "pd.options.display.float_format = '{:,.2f}'.format"
   ]
  },
  {
   "cell_type": "code",
   "execution_count": 2,
   "id": "8e0181e6-783b-43ad-aa14-4530e0bb8b6c",
   "metadata": {},
   "outputs": [],
   "source": [
    "# функция отображения признака в зависимости от целевого\n",
    "def plot_feature_tag (df,col,tag):\n",
    "    \n",
    "    plt.figure(figsize=(8, 8))\n",
    "    if tag != 0 :  sns.histplot(y=col, data=df,hue =tag)\n",
    "    else : sns.histplot(y=col, data=df)\n",
    "    plt.tight_layout()    \n",
    "    plt.show()\n",
    "    return()  "
   ]
  },
  {
   "cell_type": "code",
   "execution_count": 3,
   "id": "7b3f56c7-d7f5-4f08-88b1-a693a7541e4d",
   "metadata": {},
   "outputs": [],
   "source": [
    "def hist (df,featur,tag):\n",
    "    display(featur)\n",
    "    fig, (ax_box, ax_hist) = plt.subplots(2,sharex=True, gridspec_kw={\"height_ratios\": (0.20, 0.80)},figsize=(10, 10)) \n",
    "    sns.boxplot(x=df[featur], ax=ax_box)\n",
    "    if tag != 0 : sns.histplot(data=df,x=featur, bins=100, hue=tag)\n",
    "        \n",
    "    else: sns.histplot(df[featur], bins=100)\n",
    "    ax_box.set(xlabel=\"\")\n",
    "    ax_hist.set(xlabel=featur)\n",
    "    ax_hist.set(ylabel=\"Count\")\n",
    "    plt.tight_layout()\n",
    "    plt.show()\n",
    "    return() "
   ]
  },
  {
   "cell_type": "markdown",
   "id": "c42cbe00",
   "metadata": {},
   "source": [
    "#  Загрузка данных"
   ]
  },
  {
   "cell_type": "code",
   "execution_count": 4,
   "id": "eff9f206",
   "metadata": {
    "scrolled": true
   },
   "outputs": [
    {
     "name": "stdout",
     "output_type": "stream",
     "text": [
      "<class 'pandas.core.frame.DataFrame'>\n",
      "RangeIndex: 1565 entries, 0 to 1564\n",
      "Data columns (total 5 columns):\n",
      " #   Column             Non-Null Count  Dtype \n",
      "---  ------             --------------  ----- \n",
      " 0   user_id            1565 non-null   int64 \n",
      " 1   name               1565 non-null   object\n",
      " 2   age                1565 non-null   int64 \n",
      " 3   city               1565 non-null   object\n",
      " 4   subscription_type  1565 non-null   object\n",
      "dtypes: int64(2), object(3)\n",
      "memory usage: 61.3+ KB\n"
     ]
    },
    {
     "data": {
      "text/html": [
       "<div>\n",
       "<style scoped>\n",
       "    .dataframe tbody tr th:only-of-type {\n",
       "        vertical-align: middle;\n",
       "    }\n",
       "\n",
       "    .dataframe tbody tr th {\n",
       "        vertical-align: top;\n",
       "    }\n",
       "\n",
       "    .dataframe thead th {\n",
       "        text-align: right;\n",
       "    }\n",
       "</style>\n",
       "<table border=\"1\" class=\"dataframe\">\n",
       "  <thead>\n",
       "    <tr style=\"text-align: right;\">\n",
       "      <th></th>\n",
       "      <th>user_id</th>\n",
       "      <th>name</th>\n",
       "      <th>age</th>\n",
       "      <th>city</th>\n",
       "      <th>subscription_type</th>\n",
       "    </tr>\n",
       "  </thead>\n",
       "  <tbody>\n",
       "    <tr>\n",
       "      <th>0</th>\n",
       "      <td>1</td>\n",
       "      <td>Кира</td>\n",
       "      <td>22</td>\n",
       "      <td>Тюмень</td>\n",
       "      <td>ultra</td>\n",
       "    </tr>\n",
       "    <tr>\n",
       "      <th>1</th>\n",
       "      <td>2</td>\n",
       "      <td>Станислав</td>\n",
       "      <td>31</td>\n",
       "      <td>Омск</td>\n",
       "      <td>ultra</td>\n",
       "    </tr>\n",
       "    <tr>\n",
       "      <th>2</th>\n",
       "      <td>3</td>\n",
       "      <td>Алексей</td>\n",
       "      <td>20</td>\n",
       "      <td>Москва</td>\n",
       "      <td>ultra</td>\n",
       "    </tr>\n",
       "    <tr>\n",
       "      <th>3</th>\n",
       "      <td>4</td>\n",
       "      <td>Константин</td>\n",
       "      <td>26</td>\n",
       "      <td>Ростов-на-Дону</td>\n",
       "      <td>ultra</td>\n",
       "    </tr>\n",
       "    <tr>\n",
       "      <th>4</th>\n",
       "      <td>5</td>\n",
       "      <td>Адель</td>\n",
       "      <td>28</td>\n",
       "      <td>Омск</td>\n",
       "      <td>ultra</td>\n",
       "    </tr>\n",
       "  </tbody>\n",
       "</table>\n",
       "</div>"
      ],
      "text/plain": [
       "   user_id        name  age            city subscription_type\n",
       "0        1        Кира   22          Тюмень             ultra\n",
       "1        2   Станислав   31            Омск             ultra\n",
       "2        3     Алексей   20          Москва             ultra\n",
       "3        4  Константин   26  Ростов-на-Дону             ultra\n",
       "4        5       Адель   28            Омск             ultra"
      ]
     },
     "metadata": {},
     "output_type": "display_data"
    },
    {
     "name": "stdout",
     "output_type": "stream",
     "text": [
      "<class 'pandas.core.frame.DataFrame'>\n",
      "RangeIndex: 18068 entries, 0 to 18067\n",
      "Data columns (total 4 columns):\n",
      " #   Column    Non-Null Count  Dtype  \n",
      "---  ------    --------------  -----  \n",
      " 0   user_id   18068 non-null  int64  \n",
      " 1   distance  18068 non-null  float64\n",
      " 2   duration  18068 non-null  float64\n",
      " 3   date      18068 non-null  object \n",
      "dtypes: float64(2), int64(1), object(1)\n",
      "memory usage: 564.8+ KB\n"
     ]
    },
    {
     "data": {
      "text/html": [
       "<div>\n",
       "<style scoped>\n",
       "    .dataframe tbody tr th:only-of-type {\n",
       "        vertical-align: middle;\n",
       "    }\n",
       "\n",
       "    .dataframe tbody tr th {\n",
       "        vertical-align: top;\n",
       "    }\n",
       "\n",
       "    .dataframe thead th {\n",
       "        text-align: right;\n",
       "    }\n",
       "</style>\n",
       "<table border=\"1\" class=\"dataframe\">\n",
       "  <thead>\n",
       "    <tr style=\"text-align: right;\">\n",
       "      <th></th>\n",
       "      <th>user_id</th>\n",
       "      <th>distance</th>\n",
       "      <th>duration</th>\n",
       "      <th>date</th>\n",
       "    </tr>\n",
       "  </thead>\n",
       "  <tbody>\n",
       "    <tr>\n",
       "      <th>0</th>\n",
       "      <td>1</td>\n",
       "      <td>4,409.92</td>\n",
       "      <td>25.60</td>\n",
       "      <td>2021-01-01</td>\n",
       "    </tr>\n",
       "    <tr>\n",
       "      <th>1</th>\n",
       "      <td>1</td>\n",
       "      <td>2,617.59</td>\n",
       "      <td>15.82</td>\n",
       "      <td>2021-01-18</td>\n",
       "    </tr>\n",
       "    <tr>\n",
       "      <th>2</th>\n",
       "      <td>1</td>\n",
       "      <td>754.16</td>\n",
       "      <td>6.23</td>\n",
       "      <td>2021-04-20</td>\n",
       "    </tr>\n",
       "    <tr>\n",
       "      <th>3</th>\n",
       "      <td>1</td>\n",
       "      <td>2,694.78</td>\n",
       "      <td>18.51</td>\n",
       "      <td>2021-08-11</td>\n",
       "    </tr>\n",
       "    <tr>\n",
       "      <th>4</th>\n",
       "      <td>1</td>\n",
       "      <td>4,028.69</td>\n",
       "      <td>26.27</td>\n",
       "      <td>2021-08-28</td>\n",
       "    </tr>\n",
       "  </tbody>\n",
       "</table>\n",
       "</div>"
      ],
      "text/plain": [
       "   user_id  distance  duration        date\n",
       "0        1  4,409.92     25.60  2021-01-01\n",
       "1        1  2,617.59     15.82  2021-01-18\n",
       "2        1    754.16      6.23  2021-04-20\n",
       "3        1  2,694.78     18.51  2021-08-11\n",
       "4        1  4,028.69     26.27  2021-08-28"
      ]
     },
     "metadata": {},
     "output_type": "display_data"
    },
    {
     "name": "stdout",
     "output_type": "stream",
     "text": [
      "<class 'pandas.core.frame.DataFrame'>\n",
      "RangeIndex: 2 entries, 0 to 1\n",
      "Data columns (total 4 columns):\n",
      " #   Column             Non-Null Count  Dtype \n",
      "---  ------             --------------  ----- \n",
      " 0   subscription_type  2 non-null      object\n",
      " 1   minute_price       2 non-null      int64 \n",
      " 2   start_ride_price   2 non-null      int64 \n",
      " 3   subscription_fee   2 non-null      int64 \n",
      "dtypes: int64(3), object(1)\n",
      "memory usage: 196.0+ bytes\n"
     ]
    },
    {
     "data": {
      "text/html": [
       "<div>\n",
       "<style scoped>\n",
       "    .dataframe tbody tr th:only-of-type {\n",
       "        vertical-align: middle;\n",
       "    }\n",
       "\n",
       "    .dataframe tbody tr th {\n",
       "        vertical-align: top;\n",
       "    }\n",
       "\n",
       "    .dataframe thead th {\n",
       "        text-align: right;\n",
       "    }\n",
       "</style>\n",
       "<table border=\"1\" class=\"dataframe\">\n",
       "  <thead>\n",
       "    <tr style=\"text-align: right;\">\n",
       "      <th></th>\n",
       "      <th>subscription_type</th>\n",
       "      <th>minute_price</th>\n",
       "      <th>start_ride_price</th>\n",
       "      <th>subscription_fee</th>\n",
       "    </tr>\n",
       "  </thead>\n",
       "  <tbody>\n",
       "    <tr>\n",
       "      <th>0</th>\n",
       "      <td>free</td>\n",
       "      <td>8</td>\n",
       "      <td>50</td>\n",
       "      <td>0</td>\n",
       "    </tr>\n",
       "    <tr>\n",
       "      <th>1</th>\n",
       "      <td>ultra</td>\n",
       "      <td>6</td>\n",
       "      <td>0</td>\n",
       "      <td>199</td>\n",
       "    </tr>\n",
       "  </tbody>\n",
       "</table>\n",
       "</div>"
      ],
      "text/plain": [
       "  subscription_type  minute_price  start_ride_price  subscription_fee\n",
       "0              free             8                50                 0\n",
       "1             ultra             6                 0               199"
      ]
     },
     "metadata": {},
     "output_type": "display_data"
    }
   ],
   "source": [
    "DATA_PATHS = {\n",
    "    'users': 'users_go.csv',\n",
    "    'rides': 'rides_go.csv', \n",
    "    'subscriptions': 'subscriptions_go.csv'\n",
    "}\n",
    "\n",
    "data_user = pd.read_csv(DATA_PATHS['users'])\n",
    "data_rid = pd.read_csv(DATA_PATHS['rides'])\n",
    "data_sub = pd.read_csv(DATA_PATHS['subscriptions'])\n",
    "\n",
    "dat_name=[data_user,data_rid,data_sub]\n",
    "for d in dat_name:\n",
    "    d.info()\n",
    "    display (d.head())"
   ]
  },
  {
   "cell_type": "markdown",
   "id": "816e5e5d",
   "metadata": {},
   "source": [
    "## Описание данных \n",
    "В основных данных есть информация о пользователях, их поездках и подписках.\n",
    "\n",
    "    * Пользователи — users_go.csv (кол-во записей 1565):    \n",
    "        - user_id уникальный идентификатор пользователя\n",
    "        - name имя пользователя\n",
    "        -  age возраст\n",
    "        -  city город\n",
    "        -  subscription_type тип подписки (free, ultra)\n",
    "    \n",
    "    * Поездки — rides_go.csv (кол-во записей 18068):\n",
    "     \n",
    "     -  user_id уникальный идентификатор пользователя\n",
    "     -  distance расстояние, которое пользователь проехал в текущей сессии (в метрах)\n",
    "     -  duration продолжительность сессии (в минутах) — время с того момента, как пользователь нажал кнопку «Начать поездку» до момента, как он нажал кнопку «Завершить поездку»\n",
    "     -  date дата совершения поездки\n",
    "     \n",
    "    * Подписки — subscriptions_go.csv ( 2 записи):\n",
    "    \n",
    "     - subscription_type тип подписки\n",
    "     - minute_price стоимость одной минуты поездки по данной подписке\n",
    "     - start_ride_price стоимость начала поездки\n",
    "     - subscription_fee стоимость ежемесячного платежа\n"
   ]
  },
  {
   "cell_type": "markdown",
   "id": "e95ebca7",
   "metadata": {},
   "source": [
    "## Предобработка данных"
   ]
  },
  {
   "cell_type": "code",
   "execution_count": 5,
   "id": "2f044bd9-5182-4958-8af9-96844d70b60a",
   "metadata": {},
   "outputs": [
    {
     "name": "stdout",
     "output_type": "stream",
     "text": [
      "количество дубликатов в базе data_user 31\n"
     ]
    },
    {
     "data": {
      "text/plain": [
       "'Дубликаты в базе data_user'"
      ]
     },
     "metadata": {},
     "output_type": "display_data"
    },
    {
     "data": {
      "text/html": [
       "<div>\n",
       "<style scoped>\n",
       "    .dataframe tbody tr th:only-of-type {\n",
       "        vertical-align: middle;\n",
       "    }\n",
       "\n",
       "    .dataframe tbody tr th {\n",
       "        vertical-align: top;\n",
       "    }\n",
       "\n",
       "    .dataframe thead th {\n",
       "        text-align: right;\n",
       "    }\n",
       "</style>\n",
       "<table border=\"1\" class=\"dataframe\">\n",
       "  <thead>\n",
       "    <tr style=\"text-align: right;\">\n",
       "      <th></th>\n",
       "      <th>user_id</th>\n",
       "      <th>name</th>\n",
       "      <th>age</th>\n",
       "      <th>city</th>\n",
       "      <th>subscription_type</th>\n",
       "    </tr>\n",
       "  </thead>\n",
       "  <tbody>\n",
       "    <tr>\n",
       "      <th>1534</th>\n",
       "      <td>293</td>\n",
       "      <td>Агата</td>\n",
       "      <td>26</td>\n",
       "      <td>Краснодар</td>\n",
       "      <td>ultra</td>\n",
       "    </tr>\n",
       "    <tr>\n",
       "      <th>1535</th>\n",
       "      <td>16</td>\n",
       "      <td>Амалия</td>\n",
       "      <td>27</td>\n",
       "      <td>Краснодар</td>\n",
       "      <td>ultra</td>\n",
       "    </tr>\n",
       "    <tr>\n",
       "      <th>1536</th>\n",
       "      <td>909</td>\n",
       "      <td>Константин</td>\n",
       "      <td>20</td>\n",
       "      <td>Екатеринбург</td>\n",
       "      <td>free</td>\n",
       "    </tr>\n",
       "    <tr>\n",
       "      <th>1537</th>\n",
       "      <td>403</td>\n",
       "      <td>Полина</td>\n",
       "      <td>19</td>\n",
       "      <td>Сочи</td>\n",
       "      <td>ultra</td>\n",
       "    </tr>\n",
       "    <tr>\n",
       "      <th>1538</th>\n",
       "      <td>908</td>\n",
       "      <td>Рустам</td>\n",
       "      <td>30</td>\n",
       "      <td>Тюмень</td>\n",
       "      <td>free</td>\n",
       "    </tr>\n",
       "    <tr>\n",
       "      <th>1539</th>\n",
       "      <td>43</td>\n",
       "      <td>Стефания</td>\n",
       "      <td>22</td>\n",
       "      <td>Омск</td>\n",
       "      <td>ultra</td>\n",
       "    </tr>\n",
       "    <tr>\n",
       "      <th>1540</th>\n",
       "      <td>127</td>\n",
       "      <td>Павел</td>\n",
       "      <td>25</td>\n",
       "      <td>Пятигорск</td>\n",
       "      <td>ultra</td>\n",
       "    </tr>\n",
       "    <tr>\n",
       "      <th>1541</th>\n",
       "      <td>659</td>\n",
       "      <td>Злата</td>\n",
       "      <td>27</td>\n",
       "      <td>Ростов-на-Дону</td>\n",
       "      <td>ultra</td>\n",
       "    </tr>\n",
       "    <tr>\n",
       "      <th>1542</th>\n",
       "      <td>204</td>\n",
       "      <td>Руслан</td>\n",
       "      <td>30</td>\n",
       "      <td>Пятигорск</td>\n",
       "      <td>ultra</td>\n",
       "    </tr>\n",
       "    <tr>\n",
       "      <th>1543</th>\n",
       "      <td>153</td>\n",
       "      <td>Герман</td>\n",
       "      <td>23</td>\n",
       "      <td>Москва</td>\n",
       "      <td>ultra</td>\n",
       "    </tr>\n",
       "    <tr>\n",
       "      <th>1544</th>\n",
       "      <td>1245</td>\n",
       "      <td>Регина</td>\n",
       "      <td>27</td>\n",
       "      <td>Пятигорск</td>\n",
       "      <td>free</td>\n",
       "    </tr>\n",
       "    <tr>\n",
       "      <th>1545</th>\n",
       "      <td>807</td>\n",
       "      <td>Александр</td>\n",
       "      <td>28</td>\n",
       "      <td>Екатеринбург</td>\n",
       "      <td>free</td>\n",
       "    </tr>\n",
       "    <tr>\n",
       "      <th>1546</th>\n",
       "      <td>924</td>\n",
       "      <td>Мария</td>\n",
       "      <td>23</td>\n",
       "      <td>Пятигорск</td>\n",
       "      <td>free</td>\n",
       "    </tr>\n",
       "    <tr>\n",
       "      <th>1547</th>\n",
       "      <td>635</td>\n",
       "      <td>Герман</td>\n",
       "      <td>21</td>\n",
       "      <td>Москва</td>\n",
       "      <td>ultra</td>\n",
       "    </tr>\n",
       "    <tr>\n",
       "      <th>1548</th>\n",
       "      <td>136</td>\n",
       "      <td>Марсель</td>\n",
       "      <td>25</td>\n",
       "      <td>Тюмень</td>\n",
       "      <td>ultra</td>\n",
       "    </tr>\n",
       "    <tr>\n",
       "      <th>1549</th>\n",
       "      <td>108</td>\n",
       "      <td>Влада</td>\n",
       "      <td>29</td>\n",
       "      <td>Тюмень</td>\n",
       "      <td>ultra</td>\n",
       "    </tr>\n",
       "    <tr>\n",
       "      <th>1550</th>\n",
       "      <td>737</td>\n",
       "      <td>Мелания</td>\n",
       "      <td>27</td>\n",
       "      <td>Ростов-на-Дону</td>\n",
       "      <td>free</td>\n",
       "    </tr>\n",
       "    <tr>\n",
       "      <th>1551</th>\n",
       "      <td>666</td>\n",
       "      <td>Зарина</td>\n",
       "      <td>29</td>\n",
       "      <td>Москва</td>\n",
       "      <td>ultra</td>\n",
       "    </tr>\n",
       "    <tr>\n",
       "      <th>1552</th>\n",
       "      <td>297</td>\n",
       "      <td>Егор</td>\n",
       "      <td>33</td>\n",
       "      <td>Пятигорск</td>\n",
       "      <td>ultra</td>\n",
       "    </tr>\n",
       "    <tr>\n",
       "      <th>1553</th>\n",
       "      <td>121</td>\n",
       "      <td>Алина</td>\n",
       "      <td>25</td>\n",
       "      <td>Пятигорск</td>\n",
       "      <td>ultra</td>\n",
       "    </tr>\n",
       "    <tr>\n",
       "      <th>1554</th>\n",
       "      <td>1198</td>\n",
       "      <td>Демид</td>\n",
       "      <td>29</td>\n",
       "      <td>Ростов-на-Дону</td>\n",
       "      <td>free</td>\n",
       "    </tr>\n",
       "    <tr>\n",
       "      <th>1555</th>\n",
       "      <td>72</td>\n",
       "      <td>Никита</td>\n",
       "      <td>25</td>\n",
       "      <td>Москва</td>\n",
       "      <td>ultra</td>\n",
       "    </tr>\n",
       "    <tr>\n",
       "      <th>1556</th>\n",
       "      <td>422</td>\n",
       "      <td>Кирилл</td>\n",
       "      <td>27</td>\n",
       "      <td>Сочи</td>\n",
       "      <td>ultra</td>\n",
       "    </tr>\n",
       "    <tr>\n",
       "      <th>1557</th>\n",
       "      <td>611</td>\n",
       "      <td>Владимир</td>\n",
       "      <td>28</td>\n",
       "      <td>Омск</td>\n",
       "      <td>ultra</td>\n",
       "    </tr>\n",
       "    <tr>\n",
       "      <th>1558</th>\n",
       "      <td>1237</td>\n",
       "      <td>Евгения</td>\n",
       "      <td>23</td>\n",
       "      <td>Тюмень</td>\n",
       "      <td>free</td>\n",
       "    </tr>\n",
       "    <tr>\n",
       "      <th>1559</th>\n",
       "      <td>209</td>\n",
       "      <td>Андрей</td>\n",
       "      <td>23</td>\n",
       "      <td>Омск</td>\n",
       "      <td>ultra</td>\n",
       "    </tr>\n",
       "    <tr>\n",
       "      <th>1560</th>\n",
       "      <td>829</td>\n",
       "      <td>Федор</td>\n",
       "      <td>29</td>\n",
       "      <td>Пятигорск</td>\n",
       "      <td>free</td>\n",
       "    </tr>\n",
       "    <tr>\n",
       "      <th>1561</th>\n",
       "      <td>809</td>\n",
       "      <td>Юрий</td>\n",
       "      <td>26</td>\n",
       "      <td>Сочи</td>\n",
       "      <td>free</td>\n",
       "    </tr>\n",
       "    <tr>\n",
       "      <th>1562</th>\n",
       "      <td>307</td>\n",
       "      <td>Ясмина</td>\n",
       "      <td>19</td>\n",
       "      <td>Краснодар</td>\n",
       "      <td>ultra</td>\n",
       "    </tr>\n",
       "    <tr>\n",
       "      <th>1563</th>\n",
       "      <td>47</td>\n",
       "      <td>Юрий</td>\n",
       "      <td>28</td>\n",
       "      <td>Тюмень</td>\n",
       "      <td>ultra</td>\n",
       "    </tr>\n",
       "    <tr>\n",
       "      <th>1564</th>\n",
       "      <td>1045</td>\n",
       "      <td>Артемий</td>\n",
       "      <td>28</td>\n",
       "      <td>Ростов-на-Дону</td>\n",
       "      <td>free</td>\n",
       "    </tr>\n",
       "  </tbody>\n",
       "</table>\n",
       "</div>"
      ],
      "text/plain": [
       "      user_id        name  age            city subscription_type\n",
       "1534      293       Агата   26       Краснодар             ultra\n",
       "1535       16      Амалия   27       Краснодар             ultra\n",
       "1536      909  Константин   20    Екатеринбург              free\n",
       "1537      403      Полина   19            Сочи             ultra\n",
       "1538      908      Рустам   30          Тюмень              free\n",
       "1539       43    Стефания   22            Омск             ultra\n",
       "1540      127       Павел   25       Пятигорск             ultra\n",
       "1541      659       Злата   27  Ростов-на-Дону             ultra\n",
       "1542      204      Руслан   30       Пятигорск             ultra\n",
       "1543      153      Герман   23          Москва             ultra\n",
       "1544     1245      Регина   27       Пятигорск              free\n",
       "1545      807   Александр   28    Екатеринбург              free\n",
       "1546      924       Мария   23       Пятигорск              free\n",
       "1547      635      Герман   21          Москва             ultra\n",
       "1548      136     Марсель   25          Тюмень             ultra\n",
       "1549      108       Влада   29          Тюмень             ultra\n",
       "1550      737     Мелания   27  Ростов-на-Дону              free\n",
       "1551      666      Зарина   29          Москва             ultra\n",
       "1552      297        Егор   33       Пятигорск             ultra\n",
       "1553      121       Алина   25       Пятигорск             ultra\n",
       "1554     1198       Демид   29  Ростов-на-Дону              free\n",
       "1555       72      Никита   25          Москва             ultra\n",
       "1556      422      Кирилл   27            Сочи             ultra\n",
       "1557      611    Владимир   28            Омск             ultra\n",
       "1558     1237     Евгения   23          Тюмень              free\n",
       "1559      209      Андрей   23            Омск             ultra\n",
       "1560      829       Федор   29       Пятигорск              free\n",
       "1561      809        Юрий   26            Сочи              free\n",
       "1562      307      Ясмина   19       Краснодар             ultra\n",
       "1563       47        Юрий   28          Тюмень             ultra\n",
       "1564     1045     Артемий   28  Ростов-на-Дону              free"
      ]
     },
     "metadata": {},
     "output_type": "display_data"
    },
    {
     "data": {
      "text/plain": [
       "'Дубликаты в базе data_sub'"
      ]
     },
     "metadata": {},
     "output_type": "display_data"
    },
    {
     "data": {
      "text/html": [
       "<div>\n",
       "<style scoped>\n",
       "    .dataframe tbody tr th:only-of-type {\n",
       "        vertical-align: middle;\n",
       "    }\n",
       "\n",
       "    .dataframe tbody tr th {\n",
       "        vertical-align: top;\n",
       "    }\n",
       "\n",
       "    .dataframe thead th {\n",
       "        text-align: right;\n",
       "    }\n",
       "</style>\n",
       "<table border=\"1\" class=\"dataframe\">\n",
       "  <thead>\n",
       "    <tr style=\"text-align: right;\">\n",
       "      <th></th>\n",
       "      <th>subscription_type</th>\n",
       "      <th>minute_price</th>\n",
       "      <th>start_ride_price</th>\n",
       "      <th>subscription_fee</th>\n",
       "    </tr>\n",
       "  </thead>\n",
       "  <tbody>\n",
       "  </tbody>\n",
       "</table>\n",
       "</div>"
      ],
      "text/plain": [
       "Empty DataFrame\n",
       "Columns: [subscription_type, minute_price, start_ride_price, subscription_fee]\n",
       "Index: []"
      ]
     },
     "metadata": {},
     "output_type": "display_data"
    },
    {
     "data": {
      "text/plain": [
       "'Дубликаты в базе data_rid'"
      ]
     },
     "metadata": {},
     "output_type": "display_data"
    },
    {
     "data": {
      "text/html": [
       "<div>\n",
       "<style scoped>\n",
       "    .dataframe tbody tr th:only-of-type {\n",
       "        vertical-align: middle;\n",
       "    }\n",
       "\n",
       "    .dataframe tbody tr th {\n",
       "        vertical-align: top;\n",
       "    }\n",
       "\n",
       "    .dataframe thead th {\n",
       "        text-align: right;\n",
       "    }\n",
       "</style>\n",
       "<table border=\"1\" class=\"dataframe\">\n",
       "  <thead>\n",
       "    <tr style=\"text-align: right;\">\n",
       "      <th></th>\n",
       "      <th>user_id</th>\n",
       "      <th>distance</th>\n",
       "      <th>duration</th>\n",
       "      <th>date</th>\n",
       "    </tr>\n",
       "  </thead>\n",
       "  <tbody>\n",
       "  </tbody>\n",
       "</table>\n",
       "</div>"
      ],
      "text/plain": [
       "Empty DataFrame\n",
       "Columns: [user_id, distance, duration, date]\n",
       "Index: []"
      ]
     },
     "metadata": {},
     "output_type": "display_data"
    }
   ],
   "source": [
    "print('количество дубликатов в базе data_user',data_user.duplicated().sum())\n",
    "display('Дубликаты в базе data_user',data_user[data_user.duplicated()==True])\n",
    "display('Дубликаты в базе data_sub',data_sub[data_sub.duplicated()==True])\n",
    "display('Дубликаты в базе data_rid',data_rid[data_rid.duplicated()==True])\n",
    "\n",
    "# удаляем дубликаты в базе dat_user\n",
    "data_user=data_user.drop_duplicates().copy()\n",
    "data_rid['date']=data_rid['date'].astype('datetime64[ns]')\n",
    "\n",
    "#display(data_rid.describe(include='all') )\n",
    "\n",
    "# поскольку данные представлены в рамкамх одного года - дополним данные выделенным месяцкм\n",
    "data_rid['month']=pd.to_datetime(data_rid['date'], format='%Y-%m-%d').dt.month\n",
    "\n",
    "\n"
   ]
  },
  {
   "cell_type": "markdown",
   "id": "212593c7",
   "metadata": {},
   "source": [
    "# Исследовательский анализ данных"
   ]
  },
  {
   "cell_type": "markdown",
   "id": "c36834e0",
   "metadata": {},
   "source": [
    "## Анализ распределения клиентов городам"
   ]
  },
  {
   "cell_type": "code",
   "execution_count": 6,
   "id": "0048e004-d55c-4e28-8fa2-ae3a57ed0fce",
   "metadata": {},
   "outputs": [
    {
     "data": {
      "image/png": "[encoded data removed]",
      "text/plain": [
       "<Figure size 800x800 with 1 Axes>"
      ]
     },
     "metadata": {},
     "output_type": "display_data"
    },
    {
     "data": {
      "text/plain": [
       "()"
      ]
     },
     "execution_count": 6,
     "metadata": {},
     "output_type": "execute_result"
    }
   ],
   "source": [
    "plot_feature_tag (data_user,'city','subscription_type')"
   ]
  },
  {
   "cell_type": "markdown",
   "id": "6157fabb",
   "metadata": {},
   "source": [
    "- в базе предствалены пользователи из городов разной географической широты и разной численностью населения. Представлены более-менее равномерно : 1534 / 8 городов = 192, разброс от экстремальных значений 25- выборка репрезентативна по этому параметру , при учете принятия условия однородности городов.\n",
    "- наибольшее количество пользователей в базе из Пятигорска - 219 человек.\n",
    "- наименьшее количество пользователей в базе из Москвы - 168 человек.\n",
    "- В Омске и Москве количество пользователей с подпиской и без приблизительно одинаковое\n"
   ]
  },
  {
   "cell_type": "markdown",
   "id": "e2280dee",
   "metadata": {},
   "source": [
    "## Пользователи с подпиской и без "
   ]
  },
  {
   "cell_type": "code",
   "execution_count": 7,
   "id": "cab2b808",
   "metadata": {},
   "outputs": [
    {
     "name": "stdout",
     "output_type": "stream",
     "text": [
      "\u001b[1mВсего пользовтелей  1534 \u001b[0m\n"
     ]
    },
    {
     "data": {
      "text/plain": [
       "([<matplotlib.patches.Wedge at 0x16e5d1f8e00>,\n",
       "  <matplotlib.patches.Wedge at 0x16e5cb20e90>],\n",
       " [Text(-0.152693865829377, 1.0893505328121342, 'free'),\n",
       "  Text(0.15269396782173408, -1.0893505185158978, 'ultra')],\n",
       " [Text(-0.08328756317966017, 0.5941911997157094, '54.43%'),\n",
       "  Text(0.08328761881185494, -0.5941911919177624, '45.57%')])"
      ]
     },
     "execution_count": 7,
     "metadata": {},
     "output_type": "execute_result"
    },
    {
     "data": {
      "image/png": "[encoded data removed]",
      "text/plain": [
       "<Figure size 640x480 with 1 Axes>"
      ]
     },
     "metadata": {},
     "output_type": "display_data"
    }
   ],
   "source": [
    "total_user=data_user['subscription_type'].count()\n",
    "\n",
    "print('\\033[1m'+'Всего пользовтелей ',total_user ,'\\033[0m')\n",
    "\n",
    "fig, ax = plt.subplots()\n",
    "ax.set_title('рапределение пользователей')\n",
    "sizes = data_user['subscription_type'].value_counts()\n",
    "ax.pie(sizes, labels=sizes.index , autopct='%1.2f%%')\n",
    "\n",
    "\n",
    "\n"
   ]
  },
  {
   "cell_type": "markdown",
   "id": "abb4d80a",
   "metadata": {},
   "source": [
    "- соотношение элементов базы пользователей с подпиской  и без 45.57% / 54.43% . Приблизительно равномерны распределены -  можно сказать , что по этому параметру выборка репрезентативна"
   ]
  },
  {
   "cell_type": "markdown",
   "id": "4eae86ef-47ae-40e5-89c3-63a0e34dfcb1",
   "metadata": {},
   "source": [
    "## Анализ  возраста пользователей"
   ]
  },
  {
   "cell_type": "code",
   "execution_count": 8,
   "id": "d5fcc3ca-8faf-4956-8ae4-664bfb6eeb80",
   "metadata": {},
   "outputs": [
    {
     "data": {
      "image/png": "[encoded data removed]",
      "text/plain": [
       "<Figure size 800x800 with 1 Axes>"
      ]
     },
     "metadata": {},
     "output_type": "display_data"
    },
    {
     "data": {
      "image/png": "[encoded data removed]",
      "text/plain": [
       "<Figure size 800x200 with 1 Axes>"
      ]
     },
     "metadata": {},
     "output_type": "display_data"
    }
   ],
   "source": [
    "\n",
    "plt.figure(figsize=(8, 8))\n",
    "plt.title('рапределение возраста')\n",
    "\n",
    "\n",
    "plt.pie(data_user['age'].value_counts(), labels=data_user['age'].value_counts().index , autopct='%1.2f%%')\n",
    "plt.show()\n",
    "plt.figure(figsize=(8, 2))\n",
    "sns.boxplot(x=data_user['age'])\n",
    "plt.show()"
   ]
  },
  {
   "cell_type": "markdown",
   "id": "59fd08cb",
   "metadata": {},
   "source": [
    "- распределение клиентов по возрасту близко к нормальному - выборка репрезентативна по данному параметру\n",
    "- нет пользователей старше 43 лет. Границу осечения можно провести и по 36 годам: количество клиентов старше не значительно \n",
    "- оценивая максимальные и минимальные значения выявлены группы пользователей младше 14 лет. Хотя по ПДД пользоваться самостоятельно они могут самокатами, однако фирмы проката в правилах прописали совершенолетний ценз. Сообщить заказчику о данной группе"
   ]
  },
  {
   "cell_type": "markdown",
   "id": "d1640a97",
   "metadata": {},
   "source": [
    "## Анализ поездок пользователей"
   ]
  },
  {
   "cell_type": "code",
   "execution_count": 9,
   "id": "8bb62c09-f3ba-461e-9639-a50517e367c4",
   "metadata": {},
   "outputs": [
    {
     "data": {
      "text/html": [
       "<div>\n",
       "<style scoped>\n",
       "    .dataframe tbody tr th:only-of-type {\n",
       "        vertical-align: middle;\n",
       "    }\n",
       "\n",
       "    .dataframe tbody tr th {\n",
       "        vertical-align: top;\n",
       "    }\n",
       "\n",
       "    .dataframe thead th {\n",
       "        text-align: right;\n",
       "    }\n",
       "</style>\n",
       "<table border=\"1\" class=\"dataframe\">\n",
       "  <thead>\n",
       "    <tr style=\"text-align: right;\">\n",
       "      <th></th>\n",
       "      <th>user_id</th>\n",
       "      <th>distance</th>\n",
       "      <th>duration</th>\n",
       "      <th>date</th>\n",
       "      <th>month</th>\n",
       "      <th>speed_avg</th>\n",
       "    </tr>\n",
       "  </thead>\n",
       "  <tbody>\n",
       "    <tr>\n",
       "      <th>6531</th>\n",
       "      <td>701</td>\n",
       "      <td>4,196.45</td>\n",
       "      <td>0.50</td>\n",
       "      <td>2021-08-31</td>\n",
       "      <td>8</td>\n",
       "      <td>503.57</td>\n",
       "    </tr>\n",
       "    <tr>\n",
       "      <th>6570</th>\n",
       "      <td>704</td>\n",
       "      <td>4,830.82</td>\n",
       "      <td>0.50</td>\n",
       "      <td>2021-10-14</td>\n",
       "      <td>10</td>\n",
       "      <td>579.70</td>\n",
       "    </tr>\n",
       "    <tr>\n",
       "      <th>6680</th>\n",
       "      <td>712</td>\n",
       "      <td>4,684.00</td>\n",
       "      <td>0.50</td>\n",
       "      <td>2021-03-04</td>\n",
       "      <td>3</td>\n",
       "      <td>562.08</td>\n",
       "    </tr>\n",
       "    <tr>\n",
       "      <th>6695</th>\n",
       "      <td>713</td>\n",
       "      <td>5,215.64</td>\n",
       "      <td>0.50</td>\n",
       "      <td>2021-02-25</td>\n",
       "      <td>2</td>\n",
       "      <td>625.88</td>\n",
       "    </tr>\n",
       "    <tr>\n",
       "      <th>6768</th>\n",
       "      <td>718</td>\n",
       "      <td>5,197.44</td>\n",
       "      <td>0.50</td>\n",
       "      <td>2021-02-11</td>\n",
       "      <td>2</td>\n",
       "      <td>623.69</td>\n",
       "    </tr>\n",
       "    <tr>\n",
       "      <th>...</th>\n",
       "      <td>...</td>\n",
       "      <td>...</td>\n",
       "      <td>...</td>\n",
       "      <td>...</td>\n",
       "      <td>...</td>\n",
       "      <td>...</td>\n",
       "    </tr>\n",
       "    <tr>\n",
       "      <th>17004</th>\n",
       "      <td>1460</td>\n",
       "      <td>5,531.34</td>\n",
       "      <td>0.50</td>\n",
       "      <td>2021-01-19</td>\n",
       "      <td>1</td>\n",
       "      <td>663.76</td>\n",
       "    </tr>\n",
       "    <tr>\n",
       "      <th>17242</th>\n",
       "      <td>1477</td>\n",
       "      <td>6,724.93</td>\n",
       "      <td>0.50</td>\n",
       "      <td>2021-01-12</td>\n",
       "      <td>1</td>\n",
       "      <td>806.99</td>\n",
       "    </tr>\n",
       "    <tr>\n",
       "      <th>17314</th>\n",
       "      <td>1483</td>\n",
       "      <td>4,445.48</td>\n",
       "      <td>0.50</td>\n",
       "      <td>2021-03-06</td>\n",
       "      <td>3</td>\n",
       "      <td>533.46</td>\n",
       "    </tr>\n",
       "    <tr>\n",
       "      <th>17505</th>\n",
       "      <td>1496</td>\n",
       "      <td>5,722.55</td>\n",
       "      <td>0.50</td>\n",
       "      <td>2021-02-14</td>\n",
       "      <td>2</td>\n",
       "      <td>686.71</td>\n",
       "    </tr>\n",
       "    <tr>\n",
       "      <th>17909</th>\n",
       "      <td>1524</td>\n",
       "      <td>4,104.00</td>\n",
       "      <td>0.50</td>\n",
       "      <td>2021-06-18</td>\n",
       "      <td>6</td>\n",
       "      <td>492.48</td>\n",
       "    </tr>\n",
       "  </tbody>\n",
       "</table>\n",
       "<p>95 rows × 6 columns</p>\n",
       "</div>"
      ],
      "text/plain": [
       "       user_id  distance  duration       date  month  speed_avg\n",
       "6531       701  4,196.45      0.50 2021-08-31      8     503.57\n",
       "6570       704  4,830.82      0.50 2021-10-14     10     579.70\n",
       "6680       712  4,684.00      0.50 2021-03-04      3     562.08\n",
       "6695       713  5,215.64      0.50 2021-02-25      2     625.88\n",
       "6768       718  5,197.44      0.50 2021-02-11      2     623.69\n",
       "...        ...       ...       ...        ...    ...        ...\n",
       "17004     1460  5,531.34      0.50 2021-01-19      1     663.76\n",
       "17242     1477  6,724.93      0.50 2021-01-12      1     806.99\n",
       "17314     1483  4,445.48      0.50 2021-03-06      3     533.46\n",
       "17505     1496  5,722.55      0.50 2021-02-14      2     686.71\n",
       "17909     1524  4,104.00      0.50 2021-06-18      6     492.48\n",
       "\n",
       "[95 rows x 6 columns]"
      ]
     },
     "execution_count": 9,
     "metadata": {},
     "output_type": "execute_result"
    }
   ],
   "source": [
    "data_rid['speed_avg']=(data_rid['distance']/1000)/(data_rid['duration']/60)\n",
    "data_rid['user_id'][data_rid['duration']<=0.5].nunique()\n",
    "# data_rid = data_rid[data_rid['duration']>0.5].copy()\n",
    "data_rid[data_rid['duration']<=0.5]\n",
    "#data_rid[data_rid['user_id']==701]"
   ]
  },
  {
   "cell_type": "markdown",
   "id": "a2f84d8c-c2cd-456f-bf2b-86e7ec31336c",
   "metadata": {},
   "source": [
    " В ходе исследования выявленна группа значений у которых ошибочно указанно время пользования - у всех 0.5 минут. "
   ]
  },
  {
   "cell_type": "markdown",
   "id": "3e262f89-4c39-4e0b-88ac-2b838582c5fc",
   "metadata": {},
   "source": [
    "### Анализ расстояний"
   ]
  },
  {
   "cell_type": "code",
   "execution_count": 10,
   "id": "67464eb7-b767-4d74-ad60-b27d7a91260a",
   "metadata": {},
   "outputs": [
    {
     "data": {
      "text/plain": [
       "'Описательная статистика поездок '"
      ]
     },
     "metadata": {},
     "output_type": "display_data"
    },
    {
     "data": {
      "text/html": [
       "<div>\n",
       "<style scoped>\n",
       "    .dataframe tbody tr th:only-of-type {\n",
       "        vertical-align: middle;\n",
       "    }\n",
       "\n",
       "    .dataframe tbody tr th {\n",
       "        vertical-align: top;\n",
       "    }\n",
       "\n",
       "    .dataframe thead th {\n",
       "        text-align: right;\n",
       "    }\n",
       "</style>\n",
       "<table border=\"1\" class=\"dataframe\">\n",
       "  <thead>\n",
       "    <tr style=\"text-align: right;\">\n",
       "      <th></th>\n",
       "      <th>user_id</th>\n",
       "      <th>distance</th>\n",
       "      <th>duration</th>\n",
       "      <th>date</th>\n",
       "      <th>month</th>\n",
       "      <th>speed_avg</th>\n",
       "    </tr>\n",
       "  </thead>\n",
       "  <tbody>\n",
       "    <tr>\n",
       "      <th>count</th>\n",
       "      <td>18,068.00</td>\n",
       "      <td>18,068.00</td>\n",
       "      <td>18,068.00</td>\n",
       "      <td>18068</td>\n",
       "      <td>18,068.00</td>\n",
       "      <td>18,068.00</td>\n",
       "    </tr>\n",
       "    <tr>\n",
       "      <th>mean</th>\n",
       "      <td>842.87</td>\n",
       "      <td>3,070.66</td>\n",
       "      <td>17.81</td>\n",
       "      <td>2021-06-30 19:47:21.266327296</td>\n",
       "      <td>6.49</td>\n",
       "      <td>13.79</td>\n",
       "    </tr>\n",
       "    <tr>\n",
       "      <th>min</th>\n",
       "      <td>1.00</td>\n",
       "      <td>0.86</td>\n",
       "      <td>0.50</td>\n",
       "      <td>2021-01-01 00:00:00</td>\n",
       "      <td>1.00</td>\n",
       "      <td>0.01</td>\n",
       "    </tr>\n",
       "    <tr>\n",
       "      <th>25%</th>\n",
       "      <td>487.00</td>\n",
       "      <td>2,543.23</td>\n",
       "      <td>13.60</td>\n",
       "      <td>2021-04-02 00:00:00</td>\n",
       "      <td>4.00</td>\n",
       "      <td>8.13</td>\n",
       "    </tr>\n",
       "    <tr>\n",
       "      <th>50%</th>\n",
       "      <td>889.00</td>\n",
       "      <td>3,133.61</td>\n",
       "      <td>17.68</td>\n",
       "      <td>2021-06-30 00:00:00</td>\n",
       "      <td>6.00</td>\n",
       "      <td>10.25</td>\n",
       "    </tr>\n",
       "    <tr>\n",
       "      <th>75%</th>\n",
       "      <td>1,213.25</td>\n",
       "      <td>3,776.22</td>\n",
       "      <td>21.72</td>\n",
       "      <td>2021-09-28 00:00:00</td>\n",
       "      <td>9.00</td>\n",
       "      <td>12.93</td>\n",
       "    </tr>\n",
       "    <tr>\n",
       "      <th>max</th>\n",
       "      <td>1,534.00</td>\n",
       "      <td>7,211.01</td>\n",
       "      <td>40.82</td>\n",
       "      <td>2021-12-30 00:00:00</td>\n",
       "      <td>12.00</td>\n",
       "      <td>865.32</td>\n",
       "    </tr>\n",
       "    <tr>\n",
       "      <th>std</th>\n",
       "      <td>434.73</td>\n",
       "      <td>1,116.83</td>\n",
       "      <td>6.09</td>\n",
       "      <td>NaN</td>\n",
       "      <td>3.44</td>\n",
       "      <td>44.16</td>\n",
       "    </tr>\n",
       "  </tbody>\n",
       "</table>\n",
       "</div>"
      ],
      "text/plain": [
       "        user_id  distance  duration                           date     month  \\\n",
       "count 18,068.00 18,068.00 18,068.00                          18068 18,068.00   \n",
       "mean     842.87  3,070.66     17.81  2021-06-30 19:47:21.266327296      6.49   \n",
       "min        1.00      0.86      0.50            2021-01-01 00:00:00      1.00   \n",
       "25%      487.00  2,543.23     13.60            2021-04-02 00:00:00      4.00   \n",
       "50%      889.00  3,133.61     17.68            2021-06-30 00:00:00      6.00   \n",
       "75%    1,213.25  3,776.22     21.72            2021-09-28 00:00:00      9.00   \n",
       "max    1,534.00  7,211.01     40.82            2021-12-30 00:00:00     12.00   \n",
       "std      434.73  1,116.83      6.09                            NaN      3.44   \n",
       "\n",
       "       speed_avg  \n",
       "count  18,068.00  \n",
       "mean       13.79  \n",
       "min         0.01  \n",
       "25%         8.13  \n",
       "50%        10.25  \n",
       "75%        12.93  \n",
       "max       865.32  \n",
       "std        44.16  "
      ]
     },
     "metadata": {},
     "output_type": "display_data"
    },
    {
     "data": {
      "text/plain": [
       "'поездки с расстоянием менее 5 м'"
      ]
     },
     "metadata": {},
     "output_type": "display_data"
    },
    {
     "data": {
      "text/html": [
       "<div>\n",
       "<style scoped>\n",
       "    .dataframe tbody tr th:only-of-type {\n",
       "        vertical-align: middle;\n",
       "    }\n",
       "\n",
       "    .dataframe tbody tr th {\n",
       "        vertical-align: top;\n",
       "    }\n",
       "\n",
       "    .dataframe thead th {\n",
       "        text-align: right;\n",
       "    }\n",
       "</style>\n",
       "<table border=\"1\" class=\"dataframe\">\n",
       "  <thead>\n",
       "    <tr style=\"text-align: right;\">\n",
       "      <th></th>\n",
       "      <th>user_id</th>\n",
       "      <th>distance</th>\n",
       "      <th>duration</th>\n",
       "      <th>date</th>\n",
       "      <th>month</th>\n",
       "      <th>speed_avg</th>\n",
       "    </tr>\n",
       "  </thead>\n",
       "  <tbody>\n",
       "    <tr>\n",
       "      <th>11555</th>\n",
       "      <td>1069</td>\n",
       "      <td>0.86</td>\n",
       "      <td>10.00</td>\n",
       "      <td>2021-01-31</td>\n",
       "      <td>1</td>\n",
       "      <td>0.01</td>\n",
       "    </tr>\n",
       "    <tr>\n",
       "      <th>13690</th>\n",
       "      <td>1223</td>\n",
       "      <td>4.33</td>\n",
       "      <td>4.01</td>\n",
       "      <td>2021-05-22</td>\n",
       "      <td>5</td>\n",
       "      <td>0.06</td>\n",
       "    </tr>\n",
       "    <tr>\n",
       "      <th>9541</th>\n",
       "      <td>925</td>\n",
       "      <td>2.57</td>\n",
       "      <td>3.01</td>\n",
       "      <td>2021-10-19</td>\n",
       "      <td>10</td>\n",
       "      <td>0.05</td>\n",
       "    </tr>\n",
       "  </tbody>\n",
       "</table>\n",
       "</div>"
      ],
      "text/plain": [
       "       user_id  distance  duration       date  month  speed_avg\n",
       "11555     1069      0.86     10.00 2021-01-31      1       0.01\n",
       "13690     1223      4.33      4.01 2021-05-22      5       0.06\n",
       "9541       925      2.57      3.01 2021-10-19     10       0.05"
      ]
     },
     "metadata": {},
     "output_type": "display_data"
    },
    {
     "data": {
      "image/png": "[encoded data removed]",
      "text/plain": [
       "<Figure size 800x200 with 1 Axes>"
      ]
     },
     "metadata": {},
     "output_type": "display_data"
    }
   ],
   "source": [
    "display('Описательная статистика поездок ', data_rid.describe())\n",
    "display ('поездки с расстоянием менее 5 м',data_rid[data_rid['distance']<= 5].sort_values('date',ascending=True))\n",
    "\n",
    "\n",
    "#hist (data_rid,'distance','month')\n",
    "plt.figure(figsize=(8, 2))\n",
    "sns.boxplot(x=data_rid['distance'])\n",
    "plt.show()\n"
   ]
  },
  {
   "cell_type": "markdown",
   "id": "982e3bfc",
   "metadata": {},
   "source": [
    "Выводы :\n",
    "- за год пользователи берут в аренду самокат в среднем 12 раз.\n",
    "- пользователи берут в аренду самокаты приблизительно равномерно по месяцам при учете по всем городам как по количеству поездок , так и по суммарным расстояниям\n",
    "- среднее расстояние, которое проезжает клиент за один заказ - около 3100 м (среднее значение между медийным и арифметическим средним)\n",
    "- есть значительная группа поездок с расстоянием менее 1500 м , которые можно выделить в отдельное исследование"
   ]
  },
  {
   "cell_type": "markdown",
   "id": "f16075da",
   "metadata": {},
   "source": [
    "### продолжительность поездок."
   ]
  },
  {
   "cell_type": "code",
   "execution_count": 11,
   "id": "0a2aa8c0-d222-46e0-9dc8-b1eb3d6f91e5",
   "metadata": {},
   "outputs": [
    {
     "data": {
      "text/plain": [
       "<Axes: xlabel='duration'>"
      ]
     },
     "execution_count": 11,
     "metadata": {},
     "output_type": "execute_result"
    },
    {
     "data": {
      "image/png": "[encoded data removed]",
      "text/plain": [
       "<Figure size 800x200 with 1 Axes>"
      ]
     },
     "metadata": {},
     "output_type": "display_data"
    }
   ],
   "source": [
    "plt.figure(figsize=(8, 2))\n",
    "sns.boxplot(x=data_rid['duration'])"
   ]
  },
  {
   "cell_type": "markdown",
   "id": "1a582fdc",
   "metadata": {},
   "source": [
    "Выводы:\n",
    "- пользователи не используют самокаты более 40 минут\n",
    "- среднее время аренды - около 17.8 минут (округляя , получится 18 минут)\n"
   ]
  },
  {
   "cell_type": "markdown",
   "id": "4ef51331",
   "metadata": {},
   "source": [
    "## Объединение данных"
   ]
  },
  {
   "cell_type": "code",
   "execution_count": 12,
   "id": "6bf288b5",
   "metadata": {
    "scrolled": true
   },
   "outputs": [
    {
     "data": {
      "text/html": [
       "<div>\n",
       "<style scoped>\n",
       "    .dataframe tbody tr th:only-of-type {\n",
       "        vertical-align: middle;\n",
       "    }\n",
       "\n",
       "    .dataframe tbody tr th {\n",
       "        vertical-align: top;\n",
       "    }\n",
       "\n",
       "    .dataframe thead th {\n",
       "        text-align: right;\n",
       "    }\n",
       "</style>\n",
       "<table border=\"1\" class=\"dataframe\">\n",
       "  <thead>\n",
       "    <tr style=\"text-align: right;\">\n",
       "      <th></th>\n",
       "      <th>subscription_type</th>\n",
       "      <th>minute_price</th>\n",
       "      <th>start_ride_price</th>\n",
       "      <th>subscription_fee</th>\n",
       "      <th>user_id</th>\n",
       "      <th>name</th>\n",
       "      <th>age</th>\n",
       "      <th>city</th>\n",
       "      <th>distance</th>\n",
       "      <th>duration</th>\n",
       "      <th>date</th>\n",
       "      <th>month</th>\n",
       "      <th>speed_avg</th>\n",
       "    </tr>\n",
       "  </thead>\n",
       "  <tbody>\n",
       "    <tr>\n",
       "      <th>31</th>\n",
       "      <td>free</td>\n",
       "      <td>8</td>\n",
       "      <td>50</td>\n",
       "      <td>0</td>\n",
       "      <td>701</td>\n",
       "      <td>Иван</td>\n",
       "      <td>31</td>\n",
       "      <td>Екатеринбург</td>\n",
       "      <td>4,196.45</td>\n",
       "      <td>1</td>\n",
       "      <td>2021-08-31</td>\n",
       "      <td>8</td>\n",
       "      <td>503.57</td>\n",
       "    </tr>\n",
       "    <tr>\n",
       "      <th>70</th>\n",
       "      <td>free</td>\n",
       "      <td>8</td>\n",
       "      <td>50</td>\n",
       "      <td>0</td>\n",
       "      <td>704</td>\n",
       "      <td>Мирон</td>\n",
       "      <td>29</td>\n",
       "      <td>Ростов-на-Дону</td>\n",
       "      <td>4,830.82</td>\n",
       "      <td>1</td>\n",
       "      <td>2021-10-14</td>\n",
       "      <td>10</td>\n",
       "      <td>579.70</td>\n",
       "    </tr>\n",
       "    <tr>\n",
       "      <th>180</th>\n",
       "      <td>free</td>\n",
       "      <td>8</td>\n",
       "      <td>50</td>\n",
       "      <td>0</td>\n",
       "      <td>712</td>\n",
       "      <td>Дарья</td>\n",
       "      <td>28</td>\n",
       "      <td>Москва</td>\n",
       "      <td>4,684.00</td>\n",
       "      <td>1</td>\n",
       "      <td>2021-03-04</td>\n",
       "      <td>3</td>\n",
       "      <td>562.08</td>\n",
       "    </tr>\n",
       "    <tr>\n",
       "      <th>195</th>\n",
       "      <td>free</td>\n",
       "      <td>8</td>\n",
       "      <td>50</td>\n",
       "      <td>0</td>\n",
       "      <td>713</td>\n",
       "      <td>Святослав</td>\n",
       "      <td>30</td>\n",
       "      <td>Краснодар</td>\n",
       "      <td>5,215.64</td>\n",
       "      <td>1</td>\n",
       "      <td>2021-02-25</td>\n",
       "      <td>2</td>\n",
       "      <td>625.88</td>\n",
       "    </tr>\n",
       "    <tr>\n",
       "      <th>268</th>\n",
       "      <td>free</td>\n",
       "      <td>8</td>\n",
       "      <td>50</td>\n",
       "      <td>0</td>\n",
       "      <td>718</td>\n",
       "      <td>Владислава</td>\n",
       "      <td>31</td>\n",
       "      <td>Москва</td>\n",
       "      <td>5,197.44</td>\n",
       "      <td>1</td>\n",
       "      <td>2021-02-11</td>\n",
       "      <td>2</td>\n",
       "      <td>623.69</td>\n",
       "    </tr>\n",
       "    <tr>\n",
       "      <th>...</th>\n",
       "      <td>...</td>\n",
       "      <td>...</td>\n",
       "      <td>...</td>\n",
       "      <td>...</td>\n",
       "      <td>...</td>\n",
       "      <td>...</td>\n",
       "      <td>...</td>\n",
       "      <td>...</td>\n",
       "      <td>...</td>\n",
       "      <td>...</td>\n",
       "      <td>...</td>\n",
       "      <td>...</td>\n",
       "      <td>...</td>\n",
       "    </tr>\n",
       "    <tr>\n",
       "      <th>10504</th>\n",
       "      <td>free</td>\n",
       "      <td>8</td>\n",
       "      <td>50</td>\n",
       "      <td>0</td>\n",
       "      <td>1460</td>\n",
       "      <td>Жанна</td>\n",
       "      <td>27</td>\n",
       "      <td>Пятигорск</td>\n",
       "      <td>5,531.34</td>\n",
       "      <td>1</td>\n",
       "      <td>2021-01-19</td>\n",
       "      <td>1</td>\n",
       "      <td>663.76</td>\n",
       "    </tr>\n",
       "    <tr>\n",
       "      <th>10742</th>\n",
       "      <td>free</td>\n",
       "      <td>8</td>\n",
       "      <td>50</td>\n",
       "      <td>0</td>\n",
       "      <td>1477</td>\n",
       "      <td>Ян</td>\n",
       "      <td>17</td>\n",
       "      <td>Сочи</td>\n",
       "      <td>6,724.93</td>\n",
       "      <td>1</td>\n",
       "      <td>2021-01-12</td>\n",
       "      <td>1</td>\n",
       "      <td>806.99</td>\n",
       "    </tr>\n",
       "    <tr>\n",
       "      <th>10814</th>\n",
       "      <td>free</td>\n",
       "      <td>8</td>\n",
       "      <td>50</td>\n",
       "      <td>0</td>\n",
       "      <td>1483</td>\n",
       "      <td>Роберт</td>\n",
       "      <td>26</td>\n",
       "      <td>Екатеринбург</td>\n",
       "      <td>4,445.48</td>\n",
       "      <td>1</td>\n",
       "      <td>2021-03-06</td>\n",
       "      <td>3</td>\n",
       "      <td>533.46</td>\n",
       "    </tr>\n",
       "    <tr>\n",
       "      <th>11005</th>\n",
       "      <td>free</td>\n",
       "      <td>8</td>\n",
       "      <td>50</td>\n",
       "      <td>0</td>\n",
       "      <td>1496</td>\n",
       "      <td>Яна</td>\n",
       "      <td>19</td>\n",
       "      <td>Москва</td>\n",
       "      <td>5,722.55</td>\n",
       "      <td>1</td>\n",
       "      <td>2021-02-14</td>\n",
       "      <td>2</td>\n",
       "      <td>686.71</td>\n",
       "    </tr>\n",
       "    <tr>\n",
       "      <th>11409</th>\n",
       "      <td>free</td>\n",
       "      <td>8</td>\n",
       "      <td>50</td>\n",
       "      <td>0</td>\n",
       "      <td>1524</td>\n",
       "      <td>Матвей</td>\n",
       "      <td>32</td>\n",
       "      <td>Москва</td>\n",
       "      <td>4,104.00</td>\n",
       "      <td>1</td>\n",
       "      <td>2021-06-18</td>\n",
       "      <td>6</td>\n",
       "      <td>492.48</td>\n",
       "    </tr>\n",
       "  </tbody>\n",
       "</table>\n",
       "<p>95 rows × 13 columns</p>\n",
       "</div>"
      ],
      "text/plain": [
       "      subscription_type  minute_price  start_ride_price  subscription_fee  \\\n",
       "31                 free             8                50                 0   \n",
       "70                 free             8                50                 0   \n",
       "180                free             8                50                 0   \n",
       "195                free             8                50                 0   \n",
       "268                free             8                50                 0   \n",
       "...                 ...           ...               ...               ...   \n",
       "10504              free             8                50                 0   \n",
       "10742              free             8                50                 0   \n",
       "10814              free             8                50                 0   \n",
       "11005              free             8                50                 0   \n",
       "11409              free             8                50                 0   \n",
       "\n",
       "       user_id        name  age            city  distance  duration  \\\n",
       "31         701        Иван   31    Екатеринбург  4,196.45         1   \n",
       "70         704       Мирон   29  Ростов-на-Дону  4,830.82         1   \n",
       "180        712       Дарья   28          Москва  4,684.00         1   \n",
       "195        713   Святослав   30       Краснодар  5,215.64         1   \n",
       "268        718  Владислава   31          Москва  5,197.44         1   \n",
       "...        ...         ...  ...             ...       ...       ...   \n",
       "10504     1460       Жанна   27       Пятигорск  5,531.34         1   \n",
       "10742     1477          Ян   17            Сочи  6,724.93         1   \n",
       "10814     1483      Роберт   26    Екатеринбург  4,445.48         1   \n",
       "11005     1496         Яна   19          Москва  5,722.55         1   \n",
       "11409     1524      Матвей   32          Москва  4,104.00         1   \n",
       "\n",
       "            date  month  speed_avg  \n",
       "31    2021-08-31      8     503.57  \n",
       "70    2021-10-14     10     579.70  \n",
       "180   2021-03-04      3     562.08  \n",
       "195   2021-02-25      2     625.88  \n",
       "268   2021-02-11      2     623.69  \n",
       "...          ...    ...        ...  \n",
       "10504 2021-01-19      1     663.76  \n",
       "10742 2021-01-12      1     806.99  \n",
       "10814 2021-03-06      3     533.46  \n",
       "11005 2021-02-14      2     686.71  \n",
       "11409 2021-06-18      6     492.48  \n",
       "\n",
       "[95 rows x 13 columns]"
      ]
     },
     "execution_count": 12,
     "metadata": {},
     "output_type": "execute_result"
    }
   ],
   "source": [
    "\n",
    "# размерность основной базы - 17973, после объединения должно быть не меньше\n",
    "df_total=data_user.merge(data_rid, on='user_id', how='left' )\n",
    "#df_total.info()\n",
    "df_total=data_sub.merge(df_total, on='subscription_type', how='left' )\n",
    "# округляем время до минут\n",
    "df_total['duration'] = np.ceil(df_total['duration']).astype('int32') \n",
    "df_total[df_total['duration']<=1]"
   ]
  },
  {
   "cell_type": "code",
   "execution_count": 13,
   "id": "e3a4274c",
   "metadata": {},
   "outputs": [
    {
     "name": "stdout",
     "output_type": "stream",
     "text": [
      "\u001b[1mРаспределение данных o пользователей с подпиской 11568 \n",
      " и без  6500 \u001b[0m\n"
     ]
    },
    {
     "data": {
      "image/png": "[encoded data removed]",
      "text/plain": [
       "<Figure size 640x480 with 1 Axes>"
      ]
     },
     "metadata": {},
     "output_type": "display_data"
    }
   ],
   "source": [
    "#количество пользователей с подпиской /без\n",
    "s=df_total[df_total['subscription_type']=='ultra']['subscription_type'].count() \n",
    "w=df_total[df_total['subscription_type']=='free']['subscription_type'].count()\n",
    "\n",
    "print('\\033[1m'+'Распределение данных o пользователей с подпиской', w,'\\n и без ',  s,'\\033[0m')\n",
    "\n",
    "fig, ax = plt.subplots()\n",
    "#ax.set_title='рапределение пользователей' , w , s\n",
    "labels = 'ultra', 'free'\n",
    "sizes = [w ,s]\n",
    "ax.pie(sizes, labels=labels, autopct='%1.2f%%')\n",
    "ax.pie(sizes, labels=labels)\n",
    "ax.set_title('Распределение данных  пользователей по подписке')\n",
    "plt.show()\n"
   ]
  },
  {
   "cell_type": "markdown",
   "id": "af74a1fc",
   "metadata": {},
   "source": [
    "Выводы :\n",
    "- объединение баз данных прошло успешно, элементы не потеряны\n",
    "- разделение баз прошло успешно - сумма элементов равно общему количеству исходной базы\n",
    "- в базе преобладают данные о поездках без подписки 68.83%/36.17%"
   ]
  },
  {
   "cell_type": "markdown",
   "id": "65154adb",
   "metadata": {},
   "source": [
    "## Визуализация информации о расстоянии и времени поездок для пользователей с подпиской и без"
   ]
  },
  {
   "cell_type": "code",
   "execution_count": 14,
   "id": "2befde91",
   "metadata": {},
   "outputs": [
    {
     "data": {
      "text/plain": [
       "'duration'"
      ]
     },
     "metadata": {},
     "output_type": "display_data"
    },
    {
     "data": {
      "image/png": "[encoded data removed]",
      "text/plain": [
       "<Figure size 1000x1000 with 2 Axes>"
      ]
     },
     "metadata": {},
     "output_type": "display_data"
    },
    {
     "data": {
      "text/plain": [
       "'distance'"
      ]
     },
     "metadata": {},
     "output_type": "display_data"
    },
    {
     "data": {
      "image/png": "[encoded data removed]",
      "text/plain": [
       "<Figure size 1000x1000 with 2 Axes>"
      ]
     },
     "metadata": {},
     "output_type": "display_data"
    },
    {
     "data": {
      "text/plain": [
       "()"
      ]
     },
     "execution_count": 14,
     "metadata": {},
     "output_type": "execute_result"
    }
   ],
   "source": [
    "hist (df_total,'duration','subscription_type')\n",
    "hist (df_total,'distance','subscription_type')"
   ]
  },
  {
   "cell_type": "markdown",
   "id": "477cb1ee",
   "metadata": {},
   "source": [
    "Выводы:\n",
    "- количество поездок относительно времени у пользователей обоих групп разница присутствует, но, в целом, профили схожие\n",
    "- пользовтели без подписки проезжают больше расстояний (на 1000 м) , чем без подписки\n",
    "- наблюдается тенденция пользования самокатом на расстояния около 1 км - возможно стоит исследовать причины и зависимости появления \"горба\" на графике\n",
    "- больший разброс по расстояниям и продолжительности поездок у пользователй без подписки\n"
   ]
  },
  {
   "cell_type": "markdown",
   "id": "402d620f",
   "metadata": {},
   "source": [
    "## Подсчёт выручки"
   ]
  },
  {
   "cell_type": "code",
   "execution_count": 15,
   "id": "e893a808-6a07-4977-ad86-5318b9692575",
   "metadata": {
    "scrolled": true
   },
   "outputs": [],
   "source": [
    "data_c=df_total.groupby(['month','subscription_type'],as_index=False ).agg({'distance':['sum'],'duration':['sum','count']})\n",
    "data_c.columns=['month','subscription_type','distance_sum','duration_sum','count']\n",
    "# объеденяем с базой описания подписки и расчета\n",
    "data_c=data_c.merge(data_sub, on='subscription_type', how='left' )\n",
    "#ata_c.info()\n",
    "\n",
    "# объединение - успешно\n"
   ]
  },
  {
   "cell_type": "code",
   "execution_count": 16,
   "id": "00c99831-6685-4237-ab29-0b444f8f1736",
   "metadata": {
    "scrolled": true
   },
   "outputs": [
    {
     "data": {
      "text/html": [
       "<div>\n",
       "<style scoped>\n",
       "    .dataframe tbody tr th:only-of-type {\n",
       "        vertical-align: middle;\n",
       "    }\n",
       "\n",
       "    .dataframe tbody tr th {\n",
       "        vertical-align: top;\n",
       "    }\n",
       "\n",
       "    .dataframe thead th {\n",
       "        text-align: right;\n",
       "    }\n",
       "</style>\n",
       "<table border=\"1\" class=\"dataframe\">\n",
       "  <thead>\n",
       "    <tr style=\"text-align: right;\">\n",
       "      <th></th>\n",
       "      <th>month</th>\n",
       "      <th>subscription_type</th>\n",
       "      <th>distance_sum</th>\n",
       "      <th>duration_sum</th>\n",
       "      <th>count</th>\n",
       "      <th>minute_price</th>\n",
       "      <th>start_ride_price</th>\n",
       "      <th>subscription_fee</th>\n",
       "      <th>m_cost</th>\n",
       "      <th>cost_mean</th>\n",
       "    </tr>\n",
       "  </thead>\n",
       "  <tbody>\n",
       "    <tr>\n",
       "      <th>0</th>\n",
       "      <td>1</td>\n",
       "      <td>free</td>\n",
       "      <td>3,100,236.49</td>\n",
       "      <td>17975</td>\n",
       "      <td>1001</td>\n",
       "      <td>8</td>\n",
       "      <td>50</td>\n",
       "      <td>0</td>\n",
       "      <td>193850</td>\n",
       "      <td>193.66</td>\n",
       "    </tr>\n",
       "    <tr>\n",
       "      <th>1</th>\n",
       "      <td>1</td>\n",
       "      <td>ultra</td>\n",
       "      <td>1,797,157.59</td>\n",
       "      <td>11083</td>\n",
       "      <td>584</td>\n",
       "      <td>6</td>\n",
       "      <td>0</td>\n",
       "      <td>199</td>\n",
       "      <td>182714</td>\n",
       "      <td>312.87</td>\n",
       "    </tr>\n",
       "    <tr>\n",
       "      <th>2</th>\n",
       "      <td>2</td>\n",
       "      <td>free</td>\n",
       "      <td>2,625,061.89</td>\n",
       "      <td>15307</td>\n",
       "      <td>868</td>\n",
       "      <td>8</td>\n",
       "      <td>50</td>\n",
       "      <td>0</td>\n",
       "      <td>165856</td>\n",
       "      <td>191.08</td>\n",
       "    </tr>\n",
       "    <tr>\n",
       "      <th>3</th>\n",
       "      <td>2</td>\n",
       "      <td>ultra</td>\n",
       "      <td>1,451,161.34</td>\n",
       "      <td>9021</td>\n",
       "      <td>468</td>\n",
       "      <td>6</td>\n",
       "      <td>0</td>\n",
       "      <td>199</td>\n",
       "      <td>147258</td>\n",
       "      <td>314.65</td>\n",
       "    </tr>\n",
       "    <tr>\n",
       "      <th>4</th>\n",
       "      <td>3</td>\n",
       "      <td>free</td>\n",
       "      <td>2,944,074.73</td>\n",
       "      <td>17258</td>\n",
       "      <td>983</td>\n",
       "      <td>8</td>\n",
       "      <td>50</td>\n",
       "      <td>0</td>\n",
       "      <td>187214</td>\n",
       "      <td>190.45</td>\n",
       "    </tr>\n",
       "  </tbody>\n",
       "</table>\n",
       "</div>"
      ],
      "text/plain": [
       "   month subscription_type  distance_sum  duration_sum  count  minute_price  \\\n",
       "0      1              free  3,100,236.49         17975   1001             8   \n",
       "1      1             ultra  1,797,157.59         11083    584             6   \n",
       "2      2              free  2,625,061.89         15307    868             8   \n",
       "3      2             ultra  1,451,161.34          9021    468             6   \n",
       "4      3              free  2,944,074.73         17258    983             8   \n",
       "\n",
       "   start_ride_price  subscription_fee  m_cost  cost_mean  \n",
       "0                50                 0  193850     193.66  \n",
       "1                 0               199  182714     312.87  \n",
       "2                50                 0  165856     191.08  \n",
       "3                 0               199  147258     314.65  \n",
       "4                50                 0  187214     190.45  "
      ]
     },
     "metadata": {},
     "output_type": "display_data"
    },
    {
     "name": "stdout",
     "output_type": "stream",
     "text": [
      "\u001b[1mОбщая выручка за год по всем клиентам ULTRA  2035970 рублей\u001b[0m\n",
      "\u001b[1mОбщая выручка за год по всем клиентам FREE  2234104 рублей\u001b[0m\n",
      "\u001b[1mОбщая выручка за год по всем клиентам 4270074 рублей\u001b[0m\n"
     ]
    }
   ],
   "source": [
    "#Помесячная выручка считается по формуле: стоимость старта поездки××  количество поездок +\n",
    "# + стоимость одной минуты поездки ×× общая продолжительность всех поездок в минутах + стоимость подписки.\n",
    "\n",
    "#data_c['subscription_type']=data_c['subscription_type'].apply(lambda x: 1 if x =='ultra'  else 0)\n",
    "data_c['m_cost'] = data_c['start_ride_price']*data_c['count'] + \\\n",
    "                   data_c['minute_price'] * data_c['duration_sum'] + \\\n",
    "                   data_c['subscription_fee'] *data_c['count'] \n",
    "data_c['cost_mean']=data_c['m_cost']/data_c['count']\n",
    "tot_ultra = data_c[data_c['subscription_type']=='ultra']['m_cost'].sum()\n",
    "tot_free = data_c[data_c['subscription_type']=='free']['m_cost'].sum()\n",
    "tot_all = data_c['m_cost'].sum()\n",
    "display(data_c.head())\n",
    "print ('\\033[1m'+'Общая выручка за год по всем клиентам ULTRA ', tot_ultra,'рублей' +'\\033[0m')\n",
    "print ('\\033[1m'+'Общая выручка за год по всем клиентам FREE ',tot_free,'рублей' +'\\033[0m')\n",
    "print ('\\033[1m'+'Общая выручка за год по всем клиентам',tot_all,'рублей' +'\\033[0m')\n"
   ]
  },
  {
   "cell_type": "code",
   "execution_count": 17,
   "id": "283265bf-39d3-4d25-80b0-31d80cc36f42",
   "metadata": {},
   "outputs": [
    {
     "data": {
      "image/png": "[encoded data removed]",
      "text/plain": [
       "<Figure size 800x400 with 1 Axes>"
      ]
     },
     "metadata": {},
     "output_type": "display_data"
    },
    {
     "data": {
      "image/png": "[encoded data removed]",
      "text/plain": [
       "<Figure size 800x400 with 1 Axes>"
      ]
     },
     "metadata": {},
     "output_type": "display_data"
    }
   ],
   "source": [
    "plt.figure(figsize=(8, 4))\n",
    "plt.title('выручка')\n",
    "sns.barplot(x= 'month', y='m_cost', data=data_c,hue ='subscription_type')\n",
    "plt.tight_layout()    \n",
    "plt.show()\n",
    "\n",
    "plt.figure(figsize=(8, 4))\n",
    "plt.title('средняя стоимость одной поездки')\n",
    "sns.barplot(x= 'month', y='cost_mean', data=data_c,hue ='subscription_type')\n",
    "plt.tight_layout()    \n",
    "plt.show()\n",
    "\n",
    "\n"
   ]
  },
  {
   "cell_type": "markdown",
   "id": "b4dbbeff",
   "metadata": {},
   "source": [
    "Выводы :\n",
    "\n",
    "- в среднем,пользователи без подписки тратят на одну поездку около 190 рублей, с подписко - около 310\n"
   ]
  },
  {
   "cell_type": "markdown",
   "id": "41545ac0",
   "metadata": {},
   "source": [
    "## Проверка гипотез"
   ]
  },
  {
   "cell_type": "code",
   "execution_count": 18,
   "id": "ec655585-ea73-4880-8ac4-76132da4c15f",
   "metadata": {},
   "outputs": [],
   "source": [
    "# удалим ошибочные данные по времени 0.5 мин \n",
    "# данные с пользователями с подпиской\n",
    "df_tot = df_total[df_total['duration']>1].copy()\n",
    "ds_s=df_tot[df_tot['subscription_type']=='ultra'].copy()\n",
    "# данные с пользователями без подписки\n",
    "ds_w=df_tot[df_tot['subscription_type']=='free'].copy()\n"
   ]
  },
  {
   "cell_type": "markdown",
   "id": "bdfd80b9",
   "metadata": {},
   "source": [
    "### Гипотеза о том,что  пользователи с подпиской тратят больше времени на поездки"
   ]
  },
  {
   "cell_type": "markdown",
   "id": "c6d6a492",
   "metadata": {},
   "source": [
    "Проверим гипотезу :\n",
    "- нулевая : пользователи с подпиской используют самокат по времени дольше, чем  пользователи без подписки\n",
    "- альтернативная : пользователи с подпиской используют  самокат по времени  меньше  , чем пользователи без подписки\n"
   ]
  },
  {
   "cell_type": "code",
   "execution_count": 19,
   "id": "255d951e",
   "metadata": {},
   "outputs": [
    {
     "name": "stdout",
     "output_type": "stream",
     "text": [
      "p-значение: 8.577910347796266e-28\n",
      "Не принимаем нулевую гипотезу\n",
      "TtestResult(statistic=-10.881761649647034, pvalue=8.577910347796266e-28, df=17971.0)\n"
     ]
    }
   ],
   "source": [
    "alpha = 0.05 # уровень статистической значимости\n",
    "# если p-value окажется меньше него, отвергнем гипотезу\n",
    "\n",
    "results = st.ttest_ind(ds_w['duration'],ds_s['duration'], alternative='less')\n",
    "\n",
    "print('p-значение:', results.pvalue)\n",
    "\n",
    "if results.pvalue < alpha:\n",
    "    print('Не принимаем нулевую гипотезу')\n",
    "else:\n",
    "    print('Не получилось отвергнуть нулевую гипотезу') \n",
    "print(results)"
   ]
  },
  {
   "cell_type": "markdown",
   "id": "ff44b359",
   "metadata": {},
   "source": [
    "#### Выводы:\n",
    "- Нулевая гипотеза отвергнута, есть основания утверждать, что средняя продолжительность поездки с подпиской меньше продолжительности поездок без подписки"
   ]
  },
  {
   "cell_type": "markdown",
   "id": "9fd0acce",
   "metadata": {},
   "source": [
    "### Гипотеза о том, что среднее расстояние, которое проезжают пользователи с подпиской за одну поездку, не превышает 3130 метров"
   ]
  },
  {
   "cell_type": "markdown",
   "id": "c7a8918d",
   "metadata": {},
   "source": [
    "Проверим гипотезу :\n",
    "- нулевая : пользователи с подпиской проезжают не более 3130 \n",
    "- альтернативная : пользователи с подпиской проезжают больше 3130 \n"
   ]
  },
  {
   "cell_type": "code",
   "execution_count": 20,
   "id": "32b27d92",
   "metadata": {
    "scrolled": true
   },
   "outputs": [
    {
     "name": "stdout",
     "output_type": "stream",
     "text": [
      "p-значение: 0.9195368847849785\n",
      "Не получилось отвергнуть нулевую гипотезу\n"
     ]
    }
   ],
   "source": [
    "alpha = 0.05 # уровень статистической значимости\n",
    "# если p-value окажется меньше него, отвергнем гипотезу\n",
    "dis_mark=3130\n",
    "# используем порядок сравнения данных , согласно основной гипотезы: \n",
    "# дистанцию пользователей сравниваем со значение 3130, но меняем условие на обратное, чтобы не упустить тождества выборок\n",
    "\n",
    "results = st.ttest_1samp(ds_s['distance'],dis_mark, alternative='greater')\n",
    "print('p-значение:', results.pvalue)\n",
    "\n",
    "if results.pvalue < alpha:\n",
    "    print('Отвергаем нулевую гипотезу')\n",
    "else:\n",
    "    print('Не получилось отвергнуть нулевую гипотезу') "
   ]
  },
  {
   "cell_type": "markdown",
   "id": "d86c9e0e",
   "metadata": {},
   "source": [
    "#### Вывод :\n",
    "- нулевая гипотеза о значении \"оптмального износа\" равным 3130 принимается с вероятностью почти 92%\n",
    "- данная гипотеза подтверждается другими стат данными, такими как среднее значение 3115 м и медийное 3148 "
   ]
  },
  {
   "cell_type": "markdown",
   "id": "777162c9",
   "metadata": {},
   "source": [
    "### Гипотеза о том, что помесячная выручка от пользователей с подпиской по месяцам будет выше, чем выручка от пользователей без подписки"
   ]
  },
  {
   "cell_type": "markdown",
   "id": "673c8d87",
   "metadata": {},
   "source": [
    "Проверим гипотезу :\n",
    "- нулевая : помесячная выручка от пользователей с подпиской  меньше выручки пользователей без подписки \n",
    "- альернативная: выручка больше у пользователей с подпиской"
   ]
  },
  {
   "cell_type": "code",
   "execution_count": 21,
   "id": "5a02529b",
   "metadata": {},
   "outputs": [
    {
     "name": "stdout",
     "output_type": "stream",
     "text": [
      "p-значение: 0.9996696620607795\n",
      "Не получилось отвергнуть нулевую гипотезу\n",
      "TtestResult(statistic=-3.9626098134356202, pvalue=0.9996696620607795, df=22.0)\n"
     ]
    }
   ],
   "source": [
    "alpha = 0.05 # уровень статистической значимости\n",
    "# если p-value окажется меньше него, отвергнем гипотезу\n",
    "\n",
    "dc_ms=data_c[data_c['subscription_type']=='ultra']\n",
    "dc_mw=data_c[data_c['subscription_type']=='free']\n",
    "\n",
    "results = st.ttest_ind(dc_ms['m_cost'],dc_mw['m_cost'], alternative='greater')\n",
    "\n",
    "print('p-значение:', results.pvalue)\n",
    "\n",
    "if results.pvalue < alpha:\n",
    "    print('Отвергаем нулевую гипотезу')\n",
    "else:\n",
    "    print('Не получилось отвергнуть нулевую гипотезу') \n",
    "print(results)"
   ]
  },
  {
   "cell_type": "markdown",
   "id": "9c0d46ca",
   "metadata": {},
   "source": [
    "#### Вывод:\n",
    "- Нулевая гипотеза не отвергнута,с вероятностью более 99%\n",
    "- предыдущие графики это подтверждают"
   ]
  },
  {
   "cell_type": "markdown",
   "id": "61213c5e",
   "metadata": {},
   "source": [
    "## Распределения"
   ]
  },
  {
   "cell_type": "markdown",
   "id": "584220c2",
   "metadata": {},
   "source": [
    "### Отделу маркетинга GoFast поставили задачу: нужно провести акцию с раздачей промокодов на один бесплатный месяц подписки, в рамках которой как минимум 100 существующих клиентов должны продлить эту подписку. То есть по завершении периода действия подписки пользователь может либо отказаться от неё, либо продлить, совершив соответствующий платёж.Эта акция уже проводилась ранее и по итогу выяснилось, что после бесплатного пробного периода подписку продлевают 10 % пользователей. Выясните, какое минимальное количество промокодов нужно разослать, чтобы вероятность не выполнить план была примерно 5 %. "
   ]
  },
  {
   "cell_type": "code",
   "execution_count": 23,
   "id": "8c990fa0",
   "metadata": {},
   "outputs": [
    {
     "name": "stdout",
     "output_type": "stream",
     "text": [
      "\u001b[1mЧтобы выполнить план в  100  клиентов с вероятностю 95% нужно раздать  1172  купонов\u001b[0m\n"
     ]
    },
    {
     "data": {
      "image/png": "[encoded data removed]",
      "text/plain": [
       "<Figure size 640x480 with 1 Axes>"
      ]
     },
     "metadata": {},
     "output_type": "display_data"
    }
   ],
   "source": [
    "# описываем графиком распределение\n",
    "col = 100 # количество попыток\n",
    "p1 = 0.1 # вероятность успеха\n",
    "x1 = np.random.binomial(col , p1, 1500 )\n",
    "\n",
    "#sns.histplot(x1, kde=True,stat=\"density\")\n",
    "plt.show()\n",
    "i=1000\n",
    "p=0.05\n",
    "while p< binom.cdf(k= col , n= i , p= p1 ):\n",
    "    i=i+1\n",
    "\n",
    "print('\\033[1m'+'Чтобы выполнить план в ',col,' клиентов с вероятностю 95% нужно раздать ',i,' купонов'+'\\033[0m')\n",
    "\n",
    "# Визуализация\n",
    "n = i\n",
    "p = 0.1\n",
    "x = np.arange(50, 150)\n",
    "plt.bar(x, binom.pmf(x, n, p))\n",
    "plt.axvline(100, color='red', linestyle='--')\n",
    "plt.title(f'Биномиальное распределение (n={n}, p={p})')\n",
    "plt.xlabel('Количество продлений')\n",
    "plt.ylabel('Вероятность')\n",
    "plt.show()"
   ]
  },
  {
   "cell_type": "markdown",
   "id": "c0b48943",
   "metadata": {},
   "source": [
    "### Отдел маркетинга рассылает клиентам push-уведомления в мобильном приложении. Клиенты могут открыть его или не открывать. Известно, что уведомления открывают около 40% получивших клиентов. Отдел планирует разослать 1 млн уведомлений. С помощью аппроксимации постройте примерный график распределения и оцените вероятность того, что уведомление откроют не более 399,5 тыс. пользователей."
   ]
  },
  {
   "cell_type": "code",
   "execution_count": 24,
   "id": "720e3381",
   "metadata": {},
   "outputs": [
    {
     "name": "stdout",
     "output_type": "stream",
     "text": [
      "\u001b[1mВероятность открытий <= 399,500: 15.371708296369768 %\u001b[1m\n"
     ]
    },
    {
     "data": {
      "image/png": "[encoded data removed]",
      "text/plain": [
       "<Figure size 640x480 with 1 Axes>"
      ]
     },
     "metadata": {},
     "output_type": "display_data"
    }
   ],
   "source": [
    "n_notifications = 1_000_000\n",
    "p_open = 0.4\n",
    "mean = n_notifications * p_open\n",
    "std = np.sqrt(n_notifications * p_open * (1 - p_open))\n",
    "\n",
    "target = 399_500\n",
    "z_score = (target - mean) / std\n",
    "prob = norm.cdf(z_score)\n",
    "\n",
    "print(\"\\033[1m\"+\"Вероятность открытий <= 399,500:\",prob*100,\"%\"+\"\\033[1m\")\n",
    "\n",
    "# Визуализация\n",
    "x = np.linspace(mean - 3*std, mean + 3*std, 1000)\n",
    "plt.plot(x, norm.pdf(x, mean, std))\n",
    "plt.axvline(target, color='red', linestyle='--')\n",
    "plt.fill_between(x, 0, norm.pdf(x, mean, std), where=(x <= target), alpha=0.3)\n",
    "plt.title('Нормальное распределение открытий push-уведомлений')\n",
    "plt.xlabel('Количество открытий')\n",
    "plt.ylabel('Плотность вероятности')\n",
    "plt.show()"
   ]
  },
  {
   "cell_type": "markdown",
   "id": "938cc49f",
   "metadata": {},
   "source": [
    "## Итоговые выводы :\n",
    "- все данные состоят из 3-х блоков:\n",
    "    * блока, идентифицирующего пользователй :имя, возраст, город, тип пользования (с подпиской/или без)\n",
    "    * блока, описывающего сами поезки пользователей: дата, продолжительность аренды, расстояние, которое прехал пользователь\n",
    "    * блока, описывающего условия аренды: стоимость подписки, стоимость минуты аренды, единовременный платеж при использовании аренды\n",
    "- при обработке данных были произведены следующие преобразованиния:\n",
    "    * были удаляем дубликаты в описании (блок 2). Была выявлена 31 избыточная запись\n",
    "    \n",
    "- анализ данных :\n",
    "    * в базе предствалены пользователи из городов разной географической широты и разной численностью населения. Представлены более-менее равномерно (1534 / 8 городов = 192, разброс от эксремальных значений 25, либо, по другому, матожидание от среднего по городам имеет отклонение не более 13%)- выборка репрезентативна по этому параметру , при учете принятия условия однородности городов)\n",
    "    * наибольшее количество пользователей в базе из Пятигорска - 219 человек\n",
    "    * наименьшее количество пользователей в базе из Москвы - 168 человек\n",
    "    * соотношение элементов базы идентифицирующей пользователей с свойством \"подписка\" (есть/нет) 45.57% / 54.43% . Приблизительно равномерны распределены -  можно сказать , что по этому параметру выборка репрезентативна\n",
    "    * распределение клиентов по возрасту близко к нормальному - выборка репрезентативна по данному параметру\n",
    "    * нет пользователей старше 43 лет. Границу осечения можно провести и по 36 годам: количество клиентов старше не значительно \n",
    "    * оценивая максимальные и минимальные значения выявлены группы пользователей младше 14 лет. Хотя по ПДД пользоваться самостоятельно они могут самокатами, однако фирмы проката в правилах прописали совершенолетний ценз. Сообщить заказчику о данной группе\n",
    "    * за год пользователи берут в аренду самокат в среднем 12 раз.\n",
    "    * пользователи берут в аренду самокаты приблизительно равномерно по месяцам при учете по всем городам (или так база была \"собрана\") как по количеству поездок , так и по суммарным расстояниям\n",
    "    * среднее расстояние, которое проезжает клиент за один заказ - около 3100 м (среднее значение между медийным и арифметическим средним)\n",
    "    * есть значительная группа заказов (в смысле возможного отдельного исследования) - заказы с расстоянием менее 1500 м\n",
    "    * пользователи не используют самокаты более 40 минут\n",
    "    *  среднее время аренды - около 17.8 минут (округляя , получится 18 минут)\n",
    "    * явной корреляции между параметрами базы (расстояние, месяц, время) нет\n",
    "- преобразование данных :\n",
    "    * было произведено объединение баз данных для анализа совокупных параметров\n",
    "    * из объединенной базы были выделены два датасета по признаку подписки (ultra/free)\n",
    "- анализ объединенных данных :\n",
    "    * в объединенной базе преобладают данные о поездках без подписки 68.83%/36.17%\n",
    "    * количество поездок относительно времени у пользователей обоих групп распределено приблизительно одинаково в отрезке от 1 до 36 минут\n",
    "    * пользовтели без подписки проезжают больше расстояний (на 1000 м) , чем без подписки\n",
    "    * наблюдается тенденция пользования самокатом на расстояния около 1 км - возможно стоит исследовать причины и зависимости появления \"горба\" на графике\n",
    "    * разброс  по расстояниям и продолжительности поездок больше у пользователй без подписки\n",
    "    * приблизительно графики повторяют конфигурацию друг, друга , из чего можно сделать вывод , что поведение пользователй по этим параметрам приблизительно совпадает\n",
    "    * общая выручка за год по всем клиентам \"GoFast\" 4 270 074 рублей\n",
    "- анализ гипотез. Были выдвинуты следующие гипотезы :\n",
    "    - пользователи с подпиской используют самокат  меньшее, чем пользователи без подписки\n",
    "    \n",
    "    - пользователи с подпиской проезжают не более 3130 \n",
    "    \n",
    "    - пользователи с подпиской тратят денег больше , чем пользователи без подписки\n",
    "    \n",
    "- были решены следующие задачи :\n",
    "    - какое минимальное количество промокодов нужно разослать, чтобы вероятность была примерно 5 % не выполнить план: раздать промокодов на один бесплатный месяц подписки, в рамках которой как минимум 100 существующих клиентов должны продлить эту подписку, монетизация происхлдит с вероятностью 10% \n",
    "    -* результат : нужно раздать 1172 купон, чтобы выполнить план с вероятностью около 95%\n",
    "    - отдел планирует разослать 1 млн push уведомлений. вероятность, что уведомления откроют 40%. Нужно оценить вероятность того, что уведомление откроют не более 399,5 тыс\n",
    "    -* результат : вероятность -  около 15.37 %\n",
    "    \n",
    "\n",
    "    \n",
    "    \n",
    "\n"
   ]
  },
  {
   "cell_type": "code",
   "execution_count": null,
   "id": "547e3488-df3d-42b3-90ec-5be42d4a23cd",
   "metadata": {},
   "outputs": [],
   "source": []
  }
 ],
 "metadata": {
  "ExecuteTimeLog": [
   {
    "duration": 1331,
    "start_time": "2024-04-02T20:49:54.818Z"
   },
   {
    "duration": 49,
    "start_time": "2024-04-02T20:49:56.151Z"
   },
   {
    "duration": 324,
    "start_time": "2024-04-02T20:50:06.509Z"
   },
   {
    "duration": 73,
    "start_time": "2024-04-02T20:50:23.071Z"
   },
   {
    "duration": 137,
    "start_time": "2024-04-02T20:54:42.603Z"
   },
   {
    "duration": 104,
    "start_time": "2024-04-02T20:55:43.292Z"
   },
   {
    "duration": 8,
    "start_time": "2024-04-02T21:15:06.733Z"
   },
   {
    "duration": 6,
    "start_time": "2024-04-02T21:15:24.100Z"
   },
   {
    "duration": 13,
    "start_time": "2024-04-02T21:16:40.078Z"
   },
   {
    "duration": 48,
    "start_time": "2024-04-02T21:36:38.655Z"
   },
   {
    "duration": 49,
    "start_time": "2024-04-02T21:38:18.208Z"
   },
   {
    "duration": 39,
    "start_time": "2024-04-02T21:38:52.224Z"
   },
   {
    "duration": 48,
    "start_time": "2024-04-02T21:39:07.847Z"
   },
   {
    "duration": 51,
    "start_time": "2024-04-02T21:39:29.769Z"
   },
   {
    "duration": 61,
    "start_time": "2024-04-02T21:44:21.668Z"
   },
   {
    "duration": 47,
    "start_time": "2024-04-02T21:44:28.588Z"
   },
   {
    "duration": 43,
    "start_time": "2024-04-02T21:48:41.296Z"
   },
   {
    "duration": 117,
    "start_time": "2024-04-02T21:49:43.313Z"
   },
   {
    "duration": 5,
    "start_time": "2024-04-02T21:49:56.560Z"
   },
   {
    "duration": 106,
    "start_time": "2024-04-02T21:49:59.528Z"
   },
   {
    "duration": 52,
    "start_time": "2024-04-02T21:50:10.305Z"
   },
   {
    "duration": 50,
    "start_time": "2024-04-02T21:53:29.395Z"
   },
   {
    "duration": 72,
    "start_time": "2024-04-02T21:54:57.037Z"
   },
   {
    "duration": 54,
    "start_time": "2024-04-02T21:55:37.509Z"
   },
   {
    "duration": 959,
    "start_time": "2024-04-02T21:58:41.433Z"
   },
   {
    "duration": 18,
    "start_time": "2024-04-02T21:59:17.464Z"
   },
   {
    "duration": 1054,
    "start_time": "2024-04-02T21:59:31.976Z"
   },
   {
    "duration": 16,
    "start_time": "2024-04-02T22:01:37.723Z"
   },
   {
    "duration": 17,
    "start_time": "2024-04-02T22:02:57.819Z"
   },
   {
    "duration": 1031,
    "start_time": "2024-04-02T22:04:33.661Z"
   },
   {
    "duration": 59,
    "start_time": "2024-04-02T22:05:12.525Z"
   },
   {
    "duration": 63,
    "start_time": "2024-04-02T22:05:49.990Z"
   },
   {
    "duration": 68,
    "start_time": "2024-04-02T22:06:09.559Z"
   },
   {
    "duration": 22,
    "start_time": "2024-04-02T22:06:58.072Z"
   },
   {
    "duration": 52,
    "start_time": "2024-04-03T05:57:11.338Z"
   },
   {
    "duration": 1321,
    "start_time": "2024-04-03T05:57:25.322Z"
   },
   {
    "duration": 243,
    "start_time": "2024-04-03T05:57:28.307Z"
   },
   {
    "duration": 80,
    "start_time": "2024-04-03T05:57:31.265Z"
   },
   {
    "duration": 78,
    "start_time": "2024-04-03T05:58:40.242Z"
   },
   {
    "duration": 1151,
    "start_time": "2024-04-03T06:15:33.392Z"
   },
   {
    "duration": 106,
    "start_time": "2024-04-03T06:15:34.545Z"
   },
   {
    "duration": 65,
    "start_time": "2024-04-03T06:15:34.653Z"
   },
   {
    "duration": 5,
    "start_time": "2024-04-03T06:15:34.721Z"
   },
   {
    "duration": 121,
    "start_time": "2024-04-03T06:15:34.728Z"
   },
   {
    "duration": 1197,
    "start_time": "2024-04-03T06:18:46.942Z"
   },
   {
    "duration": 117,
    "start_time": "2024-04-03T06:18:48.141Z"
   },
   {
    "duration": 67,
    "start_time": "2024-04-03T06:18:48.259Z"
   },
   {
    "duration": 115,
    "start_time": "2024-04-03T06:18:48.328Z"
   },
   {
    "duration": 0,
    "start_time": "2024-04-03T06:18:48.445Z"
   },
   {
    "duration": 1158,
    "start_time": "2024-04-03T06:24:37.934Z"
   },
   {
    "duration": 104,
    "start_time": "2024-04-03T06:24:39.094Z"
   },
   {
    "duration": 83,
    "start_time": "2024-04-03T06:24:39.200Z"
   },
   {
    "duration": 114,
    "start_time": "2024-04-03T06:24:39.285Z"
   },
   {
    "duration": 0,
    "start_time": "2024-04-03T06:24:39.400Z"
   },
   {
    "duration": 0,
    "start_time": "2024-04-03T06:24:39.401Z"
   },
   {
    "duration": 1209,
    "start_time": "2024-04-03T06:30:27.203Z"
   },
   {
    "duration": 107,
    "start_time": "2024-04-03T06:30:28.414Z"
   },
   {
    "duration": 100,
    "start_time": "2024-04-03T06:30:28.522Z"
   },
   {
    "duration": 112,
    "start_time": "2024-04-03T06:30:28.623Z"
   },
   {
    "duration": 0,
    "start_time": "2024-04-03T06:30:28.736Z"
   },
   {
    "duration": 0,
    "start_time": "2024-04-03T06:30:28.737Z"
   },
   {
    "duration": 92,
    "start_time": "2024-04-03T06:33:32.448Z"
   },
   {
    "duration": 83,
    "start_time": "2024-04-03T06:34:22.097Z"
   },
   {
    "duration": 75,
    "start_time": "2024-04-03T06:40:28.606Z"
   },
   {
    "duration": 71,
    "start_time": "2024-04-03T06:40:42.262Z"
   },
   {
    "duration": 72,
    "start_time": "2024-04-03T06:40:52.623Z"
   },
   {
    "duration": 71,
    "start_time": "2024-04-03T06:41:56.880Z"
   },
   {
    "duration": 136,
    "start_time": "2024-04-03T06:42:06.215Z"
   },
   {
    "duration": 78,
    "start_time": "2024-04-03T06:42:16.736Z"
   },
   {
    "duration": 75,
    "start_time": "2024-04-03T06:42:40.800Z"
   },
   {
    "duration": 103,
    "start_time": "2024-04-03T07:27:24.525Z"
   },
   {
    "duration": 14,
    "start_time": "2024-04-03T09:04:17.343Z"
   },
   {
    "duration": 16,
    "start_time": "2024-04-03T09:05:08.120Z"
   },
   {
    "duration": 11,
    "start_time": "2024-04-03T09:05:43.263Z"
   },
   {
    "duration": 1159,
    "start_time": "2024-04-03T09:05:52.753Z"
   },
   {
    "duration": 1228,
    "start_time": "2024-04-03T09:07:20.267Z"
   },
   {
    "duration": 15,
    "start_time": "2024-04-03T09:08:51.404Z"
   },
   {
    "duration": 13,
    "start_time": "2024-04-03T09:09:14.436Z"
   },
   {
    "duration": 164,
    "start_time": "2024-04-03T09:10:23.687Z"
   },
   {
    "duration": 54,
    "start_time": "2024-04-03T09:19:01.825Z"
   },
   {
    "duration": 12,
    "start_time": "2024-04-03T09:19:10.761Z"
   },
   {
    "duration": 10,
    "start_time": "2024-04-03T09:19:28.497Z"
   },
   {
    "duration": 12,
    "start_time": "2024-04-03T09:19:59.130Z"
   },
   {
    "duration": 6,
    "start_time": "2024-04-03T09:20:16.858Z"
   },
   {
    "duration": 4,
    "start_time": "2024-04-03T09:22:18.700Z"
   },
   {
    "duration": 101,
    "start_time": "2024-04-03T09:22:22.092Z"
   },
   {
    "duration": 84,
    "start_time": "2024-04-03T09:22:23.653Z"
   },
   {
    "duration": 150,
    "start_time": "2024-04-03T09:22:26.124Z"
   },
   {
    "duration": 6,
    "start_time": "2024-04-03T09:22:27.907Z"
   },
   {
    "duration": 301,
    "start_time": "2024-04-03T09:24:24.543Z"
   },
   {
    "duration": 12,
    "start_time": "2024-04-03T09:55:48.706Z"
   },
   {
    "duration": 12,
    "start_time": "2024-04-03T09:58:11.988Z"
   },
   {
    "duration": 16,
    "start_time": "2024-04-03T09:59:31.405Z"
   },
   {
    "duration": 51168,
    "start_time": "2024-04-03T10:00:36.157Z"
   },
   {
    "duration": 50302,
    "start_time": "2024-04-03T10:02:15.231Z"
   },
   {
    "duration": 171,
    "start_time": "2024-04-03T10:06:03.339Z"
   },
   {
    "duration": 303,
    "start_time": "2024-04-03T10:06:49.515Z"
   },
   {
    "duration": 18,
    "start_time": "2024-04-03T10:09:03.702Z"
   },
   {
    "duration": 173,
    "start_time": "2024-04-03T10:09:37.276Z"
   },
   {
    "duration": 326,
    "start_time": "2024-04-03T10:14:12.296Z"
   },
   {
    "duration": 47641,
    "start_time": "2024-04-03T10:16:10.993Z"
   },
   {
    "duration": 1155,
    "start_time": "2024-04-03T16:48:31.697Z"
   },
   {
    "duration": 116,
    "start_time": "2024-04-03T16:48:32.854Z"
   },
   {
    "duration": 81,
    "start_time": "2024-04-03T16:48:32.972Z"
   },
   {
    "duration": 198,
    "start_time": "2024-04-03T16:48:33.056Z"
   },
   {
    "duration": 6,
    "start_time": "2024-04-03T16:48:33.255Z"
   },
   {
    "duration": 350,
    "start_time": "2024-04-03T16:48:33.262Z"
   },
   {
    "duration": 148,
    "start_time": "2024-04-03T16:48:33.613Z"
   },
   {
    "duration": 0,
    "start_time": "2024-04-03T16:48:33.763Z"
   },
   {
    "duration": 0,
    "start_time": "2024-04-03T16:48:33.764Z"
   },
   {
    "duration": 0,
    "start_time": "2024-04-03T16:48:33.765Z"
   },
   {
    "duration": 410,
    "start_time": "2024-04-03T16:48:59.368Z"
   },
   {
    "duration": 449,
    "start_time": "2024-04-03T16:51:00.408Z"
   },
   {
    "duration": 502,
    "start_time": "2024-04-03T16:51:32.193Z"
   },
   {
    "duration": 28,
    "start_time": "2024-04-03T16:52:12.010Z"
   },
   {
    "duration": 414,
    "start_time": "2024-04-03T16:52:49.970Z"
   },
   {
    "duration": 21,
    "start_time": "2024-04-03T16:54:55.844Z"
   },
   {
    "duration": 456,
    "start_time": "2024-04-03T16:56:25.597Z"
   },
   {
    "duration": 21,
    "start_time": "2024-04-03T16:56:50.324Z"
   },
   {
    "duration": 21,
    "start_time": "2024-04-03T16:59:33.762Z"
   },
   {
    "duration": 20,
    "start_time": "2024-04-03T17:00:09.146Z"
   },
   {
    "duration": 439,
    "start_time": "2024-04-03T17:04:55.352Z"
   },
   {
    "duration": 21,
    "start_time": "2024-04-03T17:05:30.403Z"
   },
   {
    "duration": 22,
    "start_time": "2024-04-03T17:07:08.429Z"
   },
   {
    "duration": 22,
    "start_time": "2024-04-03T17:07:22.238Z"
   },
   {
    "duration": 28,
    "start_time": "2024-04-03T20:42:04.628Z"
   },
   {
    "duration": 24,
    "start_time": "2024-04-03T20:42:44.490Z"
   },
   {
    "duration": 4,
    "start_time": "2024-04-03T20:43:40.476Z"
   },
   {
    "duration": 439,
    "start_time": "2024-04-03T20:43:51.956Z"
   },
   {
    "duration": 298,
    "start_time": "2024-04-03T20:45:10.917Z"
   },
   {
    "duration": 391,
    "start_time": "2024-04-03T20:45:27.270Z"
   },
   {
    "duration": 445,
    "start_time": "2024-04-03T20:46:24.397Z"
   },
   {
    "duration": 436,
    "start_time": "2024-04-03T20:47:12.046Z"
   },
   {
    "duration": 447,
    "start_time": "2024-04-03T20:48:45.256Z"
   },
   {
    "duration": 438,
    "start_time": "2024-04-03T20:49:01.153Z"
   },
   {
    "duration": 430,
    "start_time": "2024-04-03T20:49:08.424Z"
   },
   {
    "duration": 537,
    "start_time": "2024-04-03T20:50:40.906Z"
   },
   {
    "duration": 33,
    "start_time": "2024-04-03T20:51:41.355Z"
   },
   {
    "duration": 39,
    "start_time": "2024-04-03T21:02:09.018Z"
   },
   {
    "duration": 43,
    "start_time": "2024-04-03T21:04:53.686Z"
   },
   {
    "duration": 4,
    "start_time": "2024-04-03T21:05:15.381Z"
   },
   {
    "duration": 22,
    "start_time": "2024-04-03T21:07:41.930Z"
   },
   {
    "duration": 32,
    "start_time": "2024-04-03T21:09:02.996Z"
   },
   {
    "duration": 44,
    "start_time": "2024-04-03T21:14:32.835Z"
   },
   {
    "duration": 49,
    "start_time": "2024-04-03T21:14:56.299Z"
   },
   {
    "duration": 44,
    "start_time": "2024-04-03T21:15:17.571Z"
   },
   {
    "duration": 45,
    "start_time": "2024-04-03T21:16:14.748Z"
   },
   {
    "duration": 50,
    "start_time": "2024-04-03T21:17:10.405Z"
   },
   {
    "duration": 49,
    "start_time": "2024-04-03T21:17:26.005Z"
   },
   {
    "duration": 42,
    "start_time": "2024-04-03T21:17:57.319Z"
   },
   {
    "duration": 53,
    "start_time": "2024-04-03T21:18:33.094Z"
   },
   {
    "duration": 435,
    "start_time": "2024-04-03T21:20:31.337Z"
   },
   {
    "duration": 455,
    "start_time": "2024-04-03T21:21:01.697Z"
   },
   {
    "duration": 31,
    "start_time": "2024-04-03T21:23:47.949Z"
   },
   {
    "duration": 37,
    "start_time": "2024-04-03T21:24:14.444Z"
   },
   {
    "duration": 245,
    "start_time": "2024-04-03T21:26:46.319Z"
   },
   {
    "duration": 251,
    "start_time": "2024-04-03T21:27:04.359Z"
   },
   {
    "duration": 253,
    "start_time": "2024-04-03T21:29:41.322Z"
   },
   {
    "duration": 776,
    "start_time": "2024-04-03T21:30:26.026Z"
   },
   {
    "duration": 530,
    "start_time": "2024-04-03T21:31:49.417Z"
   },
   {
    "duration": 507,
    "start_time": "2024-04-03T21:32:10.154Z"
   },
   {
    "duration": 535,
    "start_time": "2024-04-03T21:33:01.730Z"
   },
   {
    "duration": 346,
    "start_time": "2024-04-03T21:34:13.320Z"
   },
   {
    "duration": 3,
    "start_time": "2024-04-03T21:34:15.128Z"
   },
   {
    "duration": 27,
    "start_time": "2024-04-03T21:39:22.169Z"
   },
   {
    "duration": 60,
    "start_time": "2024-04-04T07:13:29.271Z"
   },
   {
    "duration": 1302,
    "start_time": "2024-04-04T07:13:48.384Z"
   },
   {
    "duration": 241,
    "start_time": "2024-04-04T07:13:49.688Z"
   },
   {
    "duration": 66,
    "start_time": "2024-04-04T07:13:49.931Z"
   },
   {
    "duration": 191,
    "start_time": "2024-04-04T07:13:49.999Z"
   },
   {
    "duration": 10,
    "start_time": "2024-04-04T07:13:50.193Z"
   },
   {
    "duration": 307,
    "start_time": "2024-04-04T07:13:50.205Z"
   },
   {
    "duration": 494,
    "start_time": "2024-04-04T07:13:50.514Z"
   },
   {
    "duration": 279,
    "start_time": "2024-04-04T07:13:51.010Z"
   },
   {
    "duration": 115,
    "start_time": "2024-04-04T07:13:51.291Z"
   },
   {
    "duration": 0,
    "start_time": "2024-04-04T07:13:51.408Z"
   },
   {
    "duration": 37,
    "start_time": "2024-04-04T07:15:11.587Z"
   },
   {
    "duration": 25,
    "start_time": "2024-04-04T07:24:36.924Z"
   },
   {
    "duration": 39,
    "start_time": "2024-04-04T07:25:02.604Z"
   },
   {
    "duration": 50,
    "start_time": "2024-04-04T07:28:05.134Z"
   },
   {
    "duration": 42,
    "start_time": "2024-04-04T07:29:51.792Z"
   },
   {
    "duration": 40,
    "start_time": "2024-04-04T08:12:32.580Z"
   },
   {
    "duration": 1112,
    "start_time": "2024-04-04T08:16:14.575Z"
   },
   {
    "duration": 118,
    "start_time": "2024-04-04T08:16:15.688Z"
   },
   {
    "duration": 74,
    "start_time": "2024-04-04T08:16:15.808Z"
   },
   {
    "duration": 174,
    "start_time": "2024-04-04T08:16:15.884Z"
   },
   {
    "duration": 8,
    "start_time": "2024-04-04T08:16:16.060Z"
   },
   {
    "duration": 309,
    "start_time": "2024-04-04T08:16:16.069Z"
   },
   {
    "duration": 534,
    "start_time": "2024-04-04T08:16:16.380Z"
   },
   {
    "duration": 245,
    "start_time": "2024-04-04T08:16:16.917Z"
   },
   {
    "duration": 39,
    "start_time": "2024-04-04T08:16:17.165Z"
   },
   {
    "duration": 2,
    "start_time": "2024-04-04T08:16:17.206Z"
   },
   {
    "duration": 158,
    "start_time": "2024-04-04T08:17:53.130Z"
   },
   {
    "duration": 63,
    "start_time": "2024-04-04T08:18:16.105Z"
   },
   {
    "duration": 13,
    "start_time": "2024-04-04T08:20:09.242Z"
   },
   {
    "duration": 138,
    "start_time": "2024-04-04T08:20:58.019Z"
   },
   {
    "duration": 17,
    "start_time": "2024-04-04T08:21:02.060Z"
   },
   {
    "duration": 5,
    "start_time": "2024-04-04T08:21:55.028Z"
   },
   {
    "duration": 6,
    "start_time": "2024-04-04T08:22:03.781Z"
   },
   {
    "duration": 10,
    "start_time": "2024-04-04T08:22:22.030Z"
   },
   {
    "duration": 22,
    "start_time": "2024-04-04T08:22:52.324Z"
   },
   {
    "duration": 1160,
    "start_time": "2024-04-04T09:14:11.833Z"
   },
   {
    "duration": 113,
    "start_time": "2024-04-04T09:14:12.994Z"
   },
   {
    "duration": 80,
    "start_time": "2024-04-04T09:14:13.108Z"
   },
   {
    "duration": 192,
    "start_time": "2024-04-04T09:14:13.190Z"
   },
   {
    "duration": 8,
    "start_time": "2024-04-04T09:14:13.384Z"
   },
   {
    "duration": 348,
    "start_time": "2024-04-04T09:14:13.393Z"
   },
   {
    "duration": 552,
    "start_time": "2024-04-04T09:14:13.743Z"
   },
   {
    "duration": 249,
    "start_time": "2024-04-04T09:14:14.297Z"
   },
   {
    "duration": 70,
    "start_time": "2024-04-04T09:14:14.547Z"
   },
   {
    "duration": 21,
    "start_time": "2024-04-04T09:14:14.620Z"
   },
   {
    "duration": 3,
    "start_time": "2024-04-04T09:14:14.643Z"
   },
   {
    "duration": 316,
    "start_time": "2024-04-04T09:14:44.722Z"
   },
   {
    "duration": 41,
    "start_time": "2024-04-04T09:15:52.370Z"
   },
   {
    "duration": 54,
    "start_time": "2024-04-04T09:16:40.178Z"
   },
   {
    "duration": 25,
    "start_time": "2024-04-04T10:36:40.081Z"
   },
   {
    "duration": 1161,
    "start_time": "2024-04-04T10:41:14.039Z"
   },
   {
    "duration": 112,
    "start_time": "2024-04-04T10:41:15.201Z"
   },
   {
    "duration": 82,
    "start_time": "2024-04-04T10:41:15.315Z"
   },
   {
    "duration": 196,
    "start_time": "2024-04-04T10:41:15.399Z"
   },
   {
    "duration": 6,
    "start_time": "2024-04-04T10:41:15.597Z"
   },
   {
    "duration": 338,
    "start_time": "2024-04-04T10:41:15.605Z"
   },
   {
    "duration": 538,
    "start_time": "2024-04-04T10:41:15.944Z"
   },
   {
    "duration": 269,
    "start_time": "2024-04-04T10:41:16.484Z"
   },
   {
    "duration": 67,
    "start_time": "2024-04-04T10:41:16.755Z"
   },
   {
    "duration": 19,
    "start_time": "2024-04-04T10:41:16.825Z"
   },
   {
    "duration": 37,
    "start_time": "2024-04-04T10:41:47.968Z"
   },
   {
    "duration": 50,
    "start_time": "2024-04-04T10:42:22.569Z"
   },
   {
    "duration": 42,
    "start_time": "2024-04-04T10:44:09.819Z"
   },
   {
    "duration": 332,
    "start_time": "2024-04-04T10:53:00.490Z"
   },
   {
    "duration": 327,
    "start_time": "2024-04-04T10:54:15.883Z"
   },
   {
    "duration": 294,
    "start_time": "2024-04-04T10:55:01.084Z"
   },
   {
    "duration": 448,
    "start_time": "2024-04-04T10:55:11.572Z"
   },
   {
    "duration": 1095,
    "start_time": "2024-04-04T10:56:02.725Z"
   },
   {
    "duration": 968,
    "start_time": "2024-04-04T10:56:24.869Z"
   },
   {
    "duration": 1069,
    "start_time": "2024-04-04T10:56:51.176Z"
   },
   {
    "duration": 1077,
    "start_time": "2024-04-04T10:57:06.997Z"
   },
   {
    "duration": 1074,
    "start_time": "2024-04-04T10:59:59.552Z"
   },
   {
    "duration": 5,
    "start_time": "2024-04-04T11:07:09.726Z"
   },
   {
    "duration": 5,
    "start_time": "2024-04-04T11:07:43.150Z"
   },
   {
    "duration": 120,
    "start_time": "2024-04-04T12:50:10.336Z"
   },
   {
    "duration": 25,
    "start_time": "2024-04-04T12:50:22.111Z"
   },
   {
    "duration": 26,
    "start_time": "2024-04-04T12:51:02.880Z"
   },
   {
    "duration": 26,
    "start_time": "2024-04-04T12:51:48.384Z"
   },
   {
    "duration": 30,
    "start_time": "2024-04-04T12:53:07.450Z"
   },
   {
    "duration": 34,
    "start_time": "2024-04-04T12:58:26.262Z"
   },
   {
    "duration": 34,
    "start_time": "2024-04-04T12:59:16.263Z"
   },
   {
    "duration": 39,
    "start_time": "2024-04-04T12:59:37.847Z"
   },
   {
    "duration": 45,
    "start_time": "2024-04-04T13:00:30.633Z"
   },
   {
    "duration": 27,
    "start_time": "2024-04-04T13:00:40.802Z"
   },
   {
    "duration": 41,
    "start_time": "2024-04-04T13:06:53.701Z"
   },
   {
    "duration": 32,
    "start_time": "2024-04-04T14:05:49.697Z"
   },
   {
    "duration": 1143,
    "start_time": "2024-04-04T14:06:24.387Z"
   },
   {
    "duration": 105,
    "start_time": "2024-04-04T14:06:25.532Z"
   },
   {
    "duration": 65,
    "start_time": "2024-04-04T14:06:25.639Z"
   },
   {
    "duration": 209,
    "start_time": "2024-04-04T14:06:25.706Z"
   },
   {
    "duration": 7,
    "start_time": "2024-04-04T14:06:25.916Z"
   },
   {
    "duration": 327,
    "start_time": "2024-04-04T14:06:25.925Z"
   },
   {
    "duration": 532,
    "start_time": "2024-04-04T14:06:26.253Z"
   },
   {
    "duration": 276,
    "start_time": "2024-04-04T14:06:26.786Z"
   },
   {
    "duration": 58,
    "start_time": "2024-04-04T14:06:27.063Z"
   },
   {
    "duration": 42,
    "start_time": "2024-04-04T14:06:27.123Z"
   },
   {
    "duration": 1048,
    "start_time": "2024-04-04T14:06:27.167Z"
   },
   {
    "duration": 125,
    "start_time": "2024-04-04T14:06:28.216Z"
   },
   {
    "duration": 37,
    "start_time": "2024-04-04T14:06:57.036Z"
   },
   {
    "duration": 52,
    "start_time": "2024-04-04T14:15:06.340Z"
   },
   {
    "duration": 51,
    "start_time": "2024-04-04T14:15:15.732Z"
   },
   {
    "duration": 54,
    "start_time": "2024-04-04T14:15:26.363Z"
   },
   {
    "duration": 52,
    "start_time": "2024-04-04T14:16:23.573Z"
   },
   {
    "duration": 43,
    "start_time": "2024-04-04T14:18:51.967Z"
   },
   {
    "duration": 37,
    "start_time": "2024-04-04T14:19:04.687Z"
   },
   {
    "duration": 1229,
    "start_time": "2024-04-04T14:23:41.458Z"
   },
   {
    "duration": 105,
    "start_time": "2024-04-04T14:23:42.688Z"
   },
   {
    "duration": 78,
    "start_time": "2024-04-04T14:23:42.795Z"
   },
   {
    "duration": 178,
    "start_time": "2024-04-04T14:23:42.876Z"
   },
   {
    "duration": 6,
    "start_time": "2024-04-04T14:23:43.064Z"
   },
   {
    "duration": 300,
    "start_time": "2024-04-04T14:23:43.071Z"
   },
   {
    "duration": 525,
    "start_time": "2024-04-04T14:23:43.372Z"
   },
   {
    "duration": 273,
    "start_time": "2024-04-04T14:23:43.899Z"
   },
   {
    "duration": 56,
    "start_time": "2024-04-04T14:23:44.173Z"
   },
   {
    "duration": 39,
    "start_time": "2024-04-04T14:23:44.231Z"
   },
   {
    "duration": 1097,
    "start_time": "2024-04-04T14:23:44.271Z"
   },
   {
    "duration": 39,
    "start_time": "2024-04-04T14:23:45.369Z"
   },
   {
    "duration": 132,
    "start_time": "2024-04-04T14:25:12.044Z"
   },
   {
    "duration": 40,
    "start_time": "2024-04-04T14:25:42.492Z"
   },
   {
    "duration": 41,
    "start_time": "2024-04-04T14:26:20.885Z"
   },
   {
    "duration": 6,
    "start_time": "2024-04-04T14:40:52.947Z"
   },
   {
    "duration": 1169,
    "start_time": "2024-04-04T14:58:48.125Z"
   },
   {
    "duration": 107,
    "start_time": "2024-04-04T14:58:49.295Z"
   },
   {
    "duration": 97,
    "start_time": "2024-04-04T14:58:49.404Z"
   },
   {
    "duration": 203,
    "start_time": "2024-04-04T14:58:49.503Z"
   },
   {
    "duration": 7,
    "start_time": "2024-04-04T14:58:49.707Z"
   },
   {
    "duration": 316,
    "start_time": "2024-04-04T14:58:49.715Z"
   },
   {
    "duration": 495,
    "start_time": "2024-04-04T14:58:50.032Z"
   },
   {
    "duration": 261,
    "start_time": "2024-04-04T14:58:50.528Z"
   },
   {
    "duration": 59,
    "start_time": "2024-04-04T14:58:50.791Z"
   },
   {
    "duration": 38,
    "start_time": "2024-04-04T14:58:50.852Z"
   },
   {
    "duration": 1029,
    "start_time": "2024-04-04T14:58:50.892Z"
   },
   {
    "duration": 58,
    "start_time": "2024-04-04T14:58:51.923Z"
   },
   {
    "duration": 5,
    "start_time": "2024-04-04T14:58:51.982Z"
   },
   {
    "duration": 6,
    "start_time": "2024-04-04T14:59:25.041Z"
   },
   {
    "duration": 6,
    "start_time": "2024-04-04T14:59:29.280Z"
   },
   {
    "duration": 6,
    "start_time": "2024-04-04T15:07:55.193Z"
   },
   {
    "duration": 28,
    "start_time": "2024-04-04T15:18:38.066Z"
   },
   {
    "duration": 6,
    "start_time": "2024-04-04T15:20:17.651Z"
   },
   {
    "duration": 24,
    "start_time": "2024-04-04T15:20:23.531Z"
   },
   {
    "duration": 5,
    "start_time": "2024-04-04T15:25:58.873Z"
   },
   {
    "duration": 5,
    "start_time": "2024-04-04T15:26:42.337Z"
   },
   {
    "duration": 6,
    "start_time": "2024-04-04T15:28:21.330Z"
   },
   {
    "duration": 8,
    "start_time": "2024-04-04T15:32:41.639Z"
   },
   {
    "duration": 32,
    "start_time": "2024-04-04T15:40:30.805Z"
   },
   {
    "duration": 56,
    "start_time": "2024-04-04T15:52:17.263Z"
   },
   {
    "duration": 7,
    "start_time": "2024-04-04T15:53:13.087Z"
   },
   {
    "duration": 6,
    "start_time": "2024-04-04T15:54:21.641Z"
   },
   {
    "duration": 7,
    "start_time": "2024-04-04T15:54:47.745Z"
   },
   {
    "duration": 7,
    "start_time": "2024-04-04T15:55:14.130Z"
   },
   {
    "duration": 8,
    "start_time": "2024-04-04T15:59:58.566Z"
   },
   {
    "duration": 4,
    "start_time": "2024-04-04T16:03:03.801Z"
   },
   {
    "duration": 64,
    "start_time": "2024-04-04T16:10:07.279Z"
   },
   {
    "duration": 97,
    "start_time": "2024-04-04T16:10:23.024Z"
   },
   {
    "duration": 33,
    "start_time": "2024-04-04T16:11:05.952Z"
   },
   {
    "duration": 34,
    "start_time": "2024-04-04T16:14:09.059Z"
   },
   {
    "duration": 15,
    "start_time": "2024-04-04T16:16:23.108Z"
   },
   {
    "duration": 18,
    "start_time": "2024-04-04T16:16:34.316Z"
   },
   {
    "duration": 36,
    "start_time": "2024-04-04T16:16:40.284Z"
   },
   {
    "duration": 57,
    "start_time": "2024-04-04T16:18:13.510Z"
   },
   {
    "duration": 9,
    "start_time": "2024-04-04T16:44:55.381Z"
   },
   {
    "duration": 1205,
    "start_time": "2024-04-04T20:31:02.436Z"
   },
   {
    "duration": 106,
    "start_time": "2024-04-04T20:31:03.643Z"
   },
   {
    "duration": 61,
    "start_time": "2024-04-04T20:31:03.751Z"
   },
   {
    "duration": 180,
    "start_time": "2024-04-04T20:31:03.814Z"
   },
   {
    "duration": 8,
    "start_time": "2024-04-04T20:31:03.996Z"
   },
   {
    "duration": 295,
    "start_time": "2024-04-04T20:31:04.005Z"
   },
   {
    "duration": 524,
    "start_time": "2024-04-04T20:31:04.301Z"
   },
   {
    "duration": 268,
    "start_time": "2024-04-04T20:31:04.826Z"
   },
   {
    "duration": 56,
    "start_time": "2024-04-04T20:31:05.096Z"
   },
   {
    "duration": 23,
    "start_time": "2024-04-04T20:31:05.164Z"
   },
   {
    "duration": 1030,
    "start_time": "2024-04-04T20:31:05.188Z"
   },
   {
    "duration": 68,
    "start_time": "2024-04-04T20:31:06.220Z"
   },
   {
    "duration": 5,
    "start_time": "2024-04-04T20:31:06.289Z"
   },
   {
    "duration": 27,
    "start_time": "2024-04-04T20:31:06.296Z"
   },
   {
    "duration": 10,
    "start_time": "2024-04-04T20:31:06.324Z"
   },
   {
    "duration": 56,
    "start_time": "2024-04-04T20:31:06.336Z"
   },
   {
    "duration": 7,
    "start_time": "2024-04-04T20:31:06.393Z"
   },
   {
    "duration": 30,
    "start_time": "2024-04-04T20:31:06.401Z"
   },
   {
    "duration": 1508,
    "start_time": "2024-04-04T20:31:06.433Z"
   },
   {
    "duration": 1419,
    "start_time": "2024-04-05T09:07:58.509Z"
   },
   {
    "duration": 3,
    "start_time": "2024-04-05T09:07:59.930Z"
   },
   {
    "duration": 340,
    "start_time": "2024-04-05T09:07:59.935Z"
   },
   {
    "duration": 65,
    "start_time": "2024-04-05T09:08:00.276Z"
   },
   {
    "duration": 185,
    "start_time": "2024-04-05T09:08:00.343Z"
   },
   {
    "duration": 8,
    "start_time": "2024-04-05T09:08:00.529Z"
   },
   {
    "duration": 366,
    "start_time": "2024-04-05T09:08:00.538Z"
   },
   {
    "duration": 584,
    "start_time": "2024-04-05T09:08:00.905Z"
   },
   {
    "duration": 283,
    "start_time": "2024-04-05T09:08:01.490Z"
   },
   {
    "duration": 62,
    "start_time": "2024-04-05T09:08:01.774Z"
   },
   {
    "duration": 50,
    "start_time": "2024-04-05T09:08:01.838Z"
   },
   {
    "duration": 1146,
    "start_time": "2024-04-05T09:08:01.890Z"
   },
   {
    "duration": 54,
    "start_time": "2024-04-05T09:08:03.037Z"
   },
   {
    "duration": 5,
    "start_time": "2024-04-05T09:08:03.094Z"
   },
   {
    "duration": 52,
    "start_time": "2024-04-05T09:08:03.100Z"
   },
   {
    "duration": 5,
    "start_time": "2024-04-05T09:08:03.153Z"
   },
   {
    "duration": 52,
    "start_time": "2024-04-05T09:08:03.160Z"
   },
   {
    "duration": 7,
    "start_time": "2024-04-05T09:08:03.213Z"
   },
   {
    "duration": 23,
    "start_time": "2024-04-05T09:08:03.221Z"
   },
   {
    "duration": 133,
    "start_time": "2024-04-05T09:08:03.246Z"
   },
   {
    "duration": 1183,
    "start_time": "2024-04-05T09:08:55.526Z"
   },
   {
    "duration": 3,
    "start_time": "2024-04-05T09:08:56.711Z"
   },
   {
    "duration": 109,
    "start_time": "2024-04-05T09:08:56.716Z"
   },
   {
    "duration": 80,
    "start_time": "2024-04-05T09:08:56.827Z"
   },
   {
    "duration": 199,
    "start_time": "2024-04-05T09:08:56.909Z"
   },
   {
    "duration": 9,
    "start_time": "2024-04-05T09:08:57.109Z"
   },
   {
    "duration": 328,
    "start_time": "2024-04-05T09:08:57.119Z"
   },
   {
    "duration": 565,
    "start_time": "2024-04-05T09:08:57.449Z"
   },
   {
    "duration": 302,
    "start_time": "2024-04-05T09:08:58.015Z"
   },
   {
    "duration": 57,
    "start_time": "2024-04-05T09:08:58.319Z"
   },
   {
    "duration": 32,
    "start_time": "2024-04-05T09:08:58.378Z"
   },
   {
    "duration": 1123,
    "start_time": "2024-04-05T09:08:58.412Z"
   },
   {
    "duration": 59,
    "start_time": "2024-04-05T09:08:59.537Z"
   },
   {
    "duration": 5,
    "start_time": "2024-04-05T09:08:59.598Z"
   },
   {
    "duration": 57,
    "start_time": "2024-04-05T09:08:59.605Z"
   },
   {
    "duration": 5,
    "start_time": "2024-04-05T09:08:59.663Z"
   },
   {
    "duration": 43,
    "start_time": "2024-04-05T09:08:59.669Z"
   },
   {
    "duration": 6,
    "start_time": "2024-04-05T09:08:59.714Z"
   },
   {
    "duration": 36,
    "start_time": "2024-04-05T09:08:59.722Z"
   },
   {
    "duration": 149,
    "start_time": "2024-04-05T09:08:59.759Z"
   },
   {
    "duration": 133,
    "start_time": "2024-04-05T09:09:37.581Z"
   },
   {
    "duration": 64,
    "start_time": "2024-04-05T09:10:28.806Z"
   },
   {
    "duration": 14,
    "start_time": "2024-04-05T09:10:40.271Z"
   },
   {
    "duration": 15,
    "start_time": "2024-04-05T09:11:17.951Z"
   },
   {
    "duration": 23,
    "start_time": "2024-04-05T09:13:25.528Z"
   },
   {
    "duration": 1164,
    "start_time": "2024-04-05T09:17:10.349Z"
   },
   {
    "duration": 3,
    "start_time": "2024-04-05T09:17:11.515Z"
   },
   {
    "duration": 112,
    "start_time": "2024-04-05T09:17:11.519Z"
   },
   {
    "duration": 70,
    "start_time": "2024-04-05T09:17:11.633Z"
   },
   {
    "duration": 191,
    "start_time": "2024-04-05T09:17:11.705Z"
   },
   {
    "duration": 8,
    "start_time": "2024-04-05T09:17:11.898Z"
   },
   {
    "duration": 320,
    "start_time": "2024-04-05T09:17:11.907Z"
   },
   {
    "duration": 552,
    "start_time": "2024-04-05T09:17:12.229Z"
   },
   {
    "duration": 283,
    "start_time": "2024-04-05T09:17:12.786Z"
   },
   {
    "duration": 66,
    "start_time": "2024-04-05T09:17:13.072Z"
   },
   {
    "duration": 23,
    "start_time": "2024-04-05T09:17:13.139Z"
   },
   {
    "duration": 1135,
    "start_time": "2024-04-05T09:17:13.164Z"
   },
   {
    "duration": 46,
    "start_time": "2024-04-05T09:17:14.301Z"
   },
   {
    "duration": 6,
    "start_time": "2024-04-05T09:17:14.349Z"
   },
   {
    "duration": 79,
    "start_time": "2024-04-05T09:17:14.357Z"
   },
   {
    "duration": 29,
    "start_time": "2024-04-05T09:17:14.438Z"
   },
   {
    "duration": 63,
    "start_time": "2024-04-05T09:17:14.469Z"
   },
   {
    "duration": 10,
    "start_time": "2024-04-05T09:17:14.533Z"
   },
   {
    "duration": 32,
    "start_time": "2024-04-05T09:17:14.544Z"
   },
   {
    "duration": 274,
    "start_time": "2024-04-05T09:17:14.578Z"
   },
   {
    "duration": 1653,
    "start_time": "2024-04-05T13:42:10.892Z"
   },
   {
    "duration": 1701,
    "start_time": "2024-04-05T13:50:21.644Z"
   },
   {
    "duration": 332,
    "start_time": "2024-04-05T13:54:20.839Z"
   },
   {
    "duration": 245,
    "start_time": "2024-04-05T13:56:23.257Z"
   },
   {
    "duration": 246,
    "start_time": "2024-04-05T13:56:49.608Z"
   },
   {
    "duration": 247,
    "start_time": "2024-04-05T13:57:01.897Z"
   },
   {
    "duration": 252,
    "start_time": "2024-04-05T13:59:04.035Z"
   },
   {
    "duration": 250,
    "start_time": "2024-04-05T13:59:32.380Z"
   },
   {
    "duration": 345,
    "start_time": "2024-04-05T13:59:56.131Z"
   },
   {
    "duration": 241,
    "start_time": "2024-04-05T14:02:50.391Z"
   },
   {
    "duration": 264,
    "start_time": "2024-04-05T14:03:04.958Z"
   },
   {
    "duration": 2357,
    "start_time": "2024-04-05T14:03:22.679Z"
   },
   {
    "duration": 2382,
    "start_time": "2024-04-05T14:03:37.871Z"
   },
   {
    "duration": 1187,
    "start_time": "2024-04-05T14:04:05.617Z"
   },
   {
    "duration": 4,
    "start_time": "2024-04-05T14:04:06.806Z"
   },
   {
    "duration": 107,
    "start_time": "2024-04-05T14:04:06.811Z"
   },
   {
    "duration": 83,
    "start_time": "2024-04-05T14:04:06.919Z"
   },
   {
    "duration": 189,
    "start_time": "2024-04-05T14:04:07.004Z"
   },
   {
    "duration": 10,
    "start_time": "2024-04-05T14:04:07.195Z"
   },
   {
    "duration": 345,
    "start_time": "2024-04-05T14:04:07.207Z"
   },
   {
    "duration": 570,
    "start_time": "2024-04-05T14:04:07.554Z"
   },
   {
    "duration": 296,
    "start_time": "2024-04-05T14:04:08.126Z"
   },
   {
    "duration": 72,
    "start_time": "2024-04-05T14:04:08.424Z"
   },
   {
    "duration": 28,
    "start_time": "2024-04-05T14:04:08.498Z"
   },
   {
    "duration": 1106,
    "start_time": "2024-04-05T14:04:08.528Z"
   },
   {
    "duration": 64,
    "start_time": "2024-04-05T14:04:09.635Z"
   },
   {
    "duration": 5,
    "start_time": "2024-04-05T14:04:09.701Z"
   },
   {
    "duration": 50,
    "start_time": "2024-04-05T14:04:09.707Z"
   },
   {
    "duration": 6,
    "start_time": "2024-04-05T14:04:09.758Z"
   },
   {
    "duration": 44,
    "start_time": "2024-04-05T14:04:09.765Z"
   },
   {
    "duration": 6,
    "start_time": "2024-04-05T14:04:09.810Z"
   },
   {
    "duration": 20,
    "start_time": "2024-04-05T14:04:09.818Z"
   },
   {
    "duration": 244,
    "start_time": "2024-04-05T14:04:09.839Z"
   },
   {
    "duration": 2347,
    "start_time": "2024-04-05T14:04:20.072Z"
   },
   {
    "duration": 2398,
    "start_time": "2024-04-05T14:04:30.609Z"
   },
   {
    "duration": 2371,
    "start_time": "2024-04-05T14:04:50.929Z"
   },
   {
    "duration": 1947,
    "start_time": "2024-04-05T14:07:05.164Z"
   },
   {
    "duration": 1222,
    "start_time": "2024-04-05T14:07:27.471Z"
   },
   {
    "duration": 3,
    "start_time": "2024-04-05T14:07:28.696Z"
   },
   {
    "duration": 114,
    "start_time": "2024-04-05T14:07:28.700Z"
   },
   {
    "duration": 77,
    "start_time": "2024-04-05T14:07:28.816Z"
   },
   {
    "duration": 188,
    "start_time": "2024-04-05T14:07:28.895Z"
   },
   {
    "duration": 8,
    "start_time": "2024-04-05T14:07:29.086Z"
   },
   {
    "duration": 325,
    "start_time": "2024-04-05T14:07:29.095Z"
   },
   {
    "duration": 546,
    "start_time": "2024-04-05T14:07:29.421Z"
   },
   {
    "duration": 305,
    "start_time": "2024-04-05T14:07:29.968Z"
   },
   {
    "duration": 65,
    "start_time": "2024-04-05T14:07:30.277Z"
   },
   {
    "duration": 23,
    "start_time": "2024-04-05T14:07:30.344Z"
   },
   {
    "duration": 1131,
    "start_time": "2024-04-05T14:07:30.368Z"
   },
   {
    "duration": 41,
    "start_time": "2024-04-05T14:07:31.501Z"
   },
   {
    "duration": 52,
    "start_time": "2024-04-05T14:07:31.543Z"
   },
   {
    "duration": 85,
    "start_time": "2024-04-05T14:07:31.596Z"
   },
   {
    "duration": 47,
    "start_time": "2024-04-05T14:07:31.683Z"
   },
   {
    "duration": 117,
    "start_time": "2024-04-05T14:07:31.732Z"
   },
   {
    "duration": 66,
    "start_time": "2024-04-05T14:07:31.850Z"
   },
   {
    "duration": 70,
    "start_time": "2024-04-05T14:07:31.917Z"
   },
   {
    "duration": 325,
    "start_time": "2024-04-05T14:07:31.988Z"
   },
   {
    "duration": 1128,
    "start_time": "2024-04-05T14:08:47.074Z"
   },
   {
    "duration": 3,
    "start_time": "2024-04-05T14:08:48.204Z"
   },
   {
    "duration": 116,
    "start_time": "2024-04-05T14:08:48.208Z"
   },
   {
    "duration": 89,
    "start_time": "2024-04-05T14:08:48.327Z"
   },
   {
    "duration": 164,
    "start_time": "2024-04-05T14:08:48.418Z"
   },
   {
    "duration": 8,
    "start_time": "2024-04-05T14:08:48.584Z"
   },
   {
    "duration": 249,
    "start_time": "2024-04-05T14:08:48.593Z"
   },
   {
    "duration": 466,
    "start_time": "2024-04-05T14:08:48.844Z"
   },
   {
    "duration": 240,
    "start_time": "2024-04-05T14:08:49.312Z"
   },
   {
    "duration": 67,
    "start_time": "2024-04-05T14:08:49.554Z"
   },
   {
    "duration": 24,
    "start_time": "2024-04-05T14:08:49.623Z"
   },
   {
    "duration": 953,
    "start_time": "2024-04-05T14:08:49.648Z"
   },
   {
    "duration": 38,
    "start_time": "2024-04-05T14:08:50.602Z"
   },
   {
    "duration": 5,
    "start_time": "2024-04-05T14:08:50.642Z"
   },
   {
    "duration": 74,
    "start_time": "2024-04-05T14:08:50.648Z"
   },
   {
    "duration": 5,
    "start_time": "2024-04-05T14:08:50.724Z"
   },
   {
    "duration": 35,
    "start_time": "2024-04-05T14:08:50.730Z"
   },
   {
    "duration": 7,
    "start_time": "2024-04-05T14:08:50.766Z"
   },
   {
    "duration": 20,
    "start_time": "2024-04-05T14:08:50.788Z"
   },
   {
    "duration": 220,
    "start_time": "2024-04-05T14:08:50.813Z"
   },
   {
    "duration": 1932,
    "start_time": "2024-04-05T14:08:56.444Z"
   },
   {
    "duration": 1906,
    "start_time": "2024-04-05T14:09:19.773Z"
   },
   {
    "duration": 626,
    "start_time": "2024-04-05T14:09:33.142Z"
   },
   {
    "duration": 348,
    "start_time": "2024-04-05T14:09:55.213Z"
   },
   {
    "duration": 221,
    "start_time": "2024-04-05T14:12:36.881Z"
   },
   {
    "duration": 712,
    "start_time": "2024-04-05T14:13:06.145Z"
   },
   {
    "duration": 2076,
    "start_time": "2024-04-05T14:13:41.898Z"
   },
   {
    "duration": 2005,
    "start_time": "2024-04-05T14:17:16.477Z"
   },
   {
    "duration": 2173,
    "start_time": "2024-04-05T14:17:51.941Z"
   },
   {
    "duration": 2048,
    "start_time": "2024-04-05T14:21:07.176Z"
   },
   {
    "duration": 730,
    "start_time": "2024-04-05T14:27:24.878Z"
   },
   {
    "duration": 737,
    "start_time": "2024-04-05T14:28:40.120Z"
   },
   {
    "duration": 2131,
    "start_time": "2024-04-05T14:30:01.883Z"
   },
   {
    "duration": 2085,
    "start_time": "2024-04-05T14:30:21.937Z"
   },
   {
    "duration": 1186,
    "start_time": "2024-04-05T14:40:04.002Z"
   },
   {
    "duration": 3,
    "start_time": "2024-04-05T14:40:05.190Z"
   },
   {
    "duration": 117,
    "start_time": "2024-04-05T14:40:05.194Z"
   },
   {
    "duration": 75,
    "start_time": "2024-04-05T14:40:05.313Z"
   },
   {
    "duration": 160,
    "start_time": "2024-04-05T14:40:05.389Z"
   },
   {
    "duration": 8,
    "start_time": "2024-04-05T14:40:05.551Z"
   },
   {
    "duration": 281,
    "start_time": "2024-04-05T14:40:05.561Z"
   },
   {
    "duration": 490,
    "start_time": "2024-04-05T14:40:05.843Z"
   },
   {
    "duration": 253,
    "start_time": "2024-04-05T14:40:06.335Z"
   },
   {
    "duration": 57,
    "start_time": "2024-04-05T14:40:06.591Z"
   },
   {
    "duration": 40,
    "start_time": "2024-04-05T14:40:06.650Z"
   },
   {
    "duration": 980,
    "start_time": "2024-04-05T14:40:06.692Z"
   },
   {
    "duration": 54,
    "start_time": "2024-04-05T14:40:07.674Z"
   },
   {
    "duration": 6,
    "start_time": "2024-04-05T14:40:07.730Z"
   },
   {
    "duration": 54,
    "start_time": "2024-04-05T14:40:07.738Z"
   },
   {
    "duration": 6,
    "start_time": "2024-04-05T14:40:07.794Z"
   },
   {
    "duration": 32,
    "start_time": "2024-04-05T14:40:07.802Z"
   },
   {
    "duration": 7,
    "start_time": "2024-04-05T14:40:07.835Z"
   },
   {
    "duration": 49,
    "start_time": "2024-04-05T14:40:07.843Z"
   },
   {
    "duration": 2076,
    "start_time": "2024-04-05T14:40:07.893Z"
   },
   {
    "duration": 3,
    "start_time": "2024-04-05T14:40:09.970Z"
   },
   {
    "duration": 2116,
    "start_time": "2024-04-05T14:40:15.809Z"
   },
   {
    "duration": 1420,
    "start_time": "2024-04-05T14:54:19.189Z"
   },
   {
    "duration": 3,
    "start_time": "2024-04-05T14:54:20.611Z"
   },
   {
    "duration": 425,
    "start_time": "2024-04-05T14:54:20.616Z"
   },
   {
    "duration": 70,
    "start_time": "2024-04-05T14:54:21.043Z"
   },
   {
    "duration": 178,
    "start_time": "2024-04-05T14:54:21.115Z"
   },
   {
    "duration": 10,
    "start_time": "2024-04-05T14:54:21.295Z"
   },
   {
    "duration": 296,
    "start_time": "2024-04-05T14:54:21.307Z"
   },
   {
    "duration": 494,
    "start_time": "2024-04-05T14:54:21.605Z"
   },
   {
    "duration": 264,
    "start_time": "2024-04-05T14:54:22.100Z"
   },
   {
    "duration": 62,
    "start_time": "2024-04-05T14:54:22.365Z"
   },
   {
    "duration": 25,
    "start_time": "2024-04-05T14:54:22.428Z"
   },
   {
    "duration": 1079,
    "start_time": "2024-04-05T14:54:22.455Z"
   },
   {
    "duration": 75,
    "start_time": "2024-04-05T14:54:23.536Z"
   },
   {
    "duration": 6,
    "start_time": "2024-04-05T14:54:23.614Z"
   },
   {
    "duration": 54,
    "start_time": "2024-04-05T14:54:23.621Z"
   },
   {
    "duration": 11,
    "start_time": "2024-04-05T14:54:23.677Z"
   },
   {
    "duration": 55,
    "start_time": "2024-04-05T14:54:23.689Z"
   },
   {
    "duration": 6,
    "start_time": "2024-04-05T14:54:23.746Z"
   },
   {
    "duration": 26,
    "start_time": "2024-04-05T14:54:23.754Z"
   },
   {
    "duration": 2206,
    "start_time": "2024-04-05T14:54:23.782Z"
   },
   {
    "duration": 3,
    "start_time": "2024-04-05T14:54:25.989Z"
   },
   {
    "duration": 21,
    "start_time": "2024-04-05T16:24:34.514Z"
   },
   {
    "duration": 14,
    "start_time": "2024-04-05T16:25:00.938Z"
   },
   {
    "duration": 6,
    "start_time": "2024-04-05T16:31:04.603Z"
   },
   {
    "duration": 1275,
    "start_time": "2024-04-05T16:35:21.440Z"
   },
   {
    "duration": 4,
    "start_time": "2024-04-05T16:35:22.717Z"
   },
   {
    "duration": 128,
    "start_time": "2024-04-05T16:35:22.722Z"
   },
   {
    "duration": 66,
    "start_time": "2024-04-05T16:35:22.852Z"
   },
   {
    "duration": 171,
    "start_time": "2024-04-05T16:35:22.920Z"
   },
   {
    "duration": 8,
    "start_time": "2024-04-05T16:35:23.093Z"
   },
   {
    "duration": 263,
    "start_time": "2024-04-05T16:35:23.103Z"
   },
   {
    "duration": 504,
    "start_time": "2024-04-05T16:35:23.372Z"
   },
   {
    "duration": 290,
    "start_time": "2024-04-05T16:35:23.877Z"
   },
   {
    "duration": 63,
    "start_time": "2024-04-05T16:35:24.172Z"
   },
   {
    "duration": 41,
    "start_time": "2024-04-05T16:35:24.236Z"
   },
   {
    "duration": 1006,
    "start_time": "2024-04-05T16:35:24.279Z"
   },
   {
    "duration": 46,
    "start_time": "2024-04-05T16:35:25.287Z"
   },
   {
    "duration": 7,
    "start_time": "2024-04-05T16:35:25.337Z"
   },
   {
    "duration": 50,
    "start_time": "2024-04-05T16:35:25.345Z"
   },
   {
    "duration": 5,
    "start_time": "2024-04-05T16:35:25.397Z"
   },
   {
    "duration": 33,
    "start_time": "2024-04-05T16:35:25.404Z"
   },
   {
    "duration": 35,
    "start_time": "2024-04-05T16:35:25.439Z"
   },
   {
    "duration": 21,
    "start_time": "2024-04-05T16:35:25.476Z"
   },
   {
    "duration": 2180,
    "start_time": "2024-04-05T16:35:25.499Z"
   },
   {
    "duration": 2,
    "start_time": "2024-04-05T16:35:27.680Z"
   },
   {
    "duration": 1234,
    "start_time": "2024-04-05T16:35:42.170Z"
   },
   {
    "duration": 4,
    "start_time": "2024-04-05T16:35:43.406Z"
   },
   {
    "duration": 126,
    "start_time": "2024-04-05T16:35:43.411Z"
   },
   {
    "duration": 68,
    "start_time": "2024-04-05T16:35:43.539Z"
   },
   {
    "duration": 166,
    "start_time": "2024-04-05T16:35:43.609Z"
   },
   {
    "duration": 9,
    "start_time": "2024-04-05T16:35:43.777Z"
   },
   {
    "duration": 281,
    "start_time": "2024-04-05T16:35:43.787Z"
   },
   {
    "duration": 539,
    "start_time": "2024-04-05T16:35:44.072Z"
   },
   {
    "duration": 272,
    "start_time": "2024-04-05T16:35:44.613Z"
   },
   {
    "duration": 59,
    "start_time": "2024-04-05T16:35:44.887Z"
   },
   {
    "duration": 37,
    "start_time": "2024-04-05T16:35:44.948Z"
   },
   {
    "duration": 1025,
    "start_time": "2024-04-05T16:35:44.986Z"
   },
   {
    "duration": 65,
    "start_time": "2024-04-05T16:35:46.013Z"
   },
   {
    "duration": 6,
    "start_time": "2024-04-05T16:35:46.082Z"
   },
   {
    "duration": 75,
    "start_time": "2024-04-05T16:35:46.089Z"
   },
   {
    "duration": 26,
    "start_time": "2024-04-05T16:35:46.166Z"
   },
   {
    "duration": 69,
    "start_time": "2024-04-05T16:35:46.194Z"
   },
   {
    "duration": 16,
    "start_time": "2024-04-05T16:35:46.264Z"
   },
   {
    "duration": 56,
    "start_time": "2024-04-05T16:35:46.282Z"
   },
   {
    "duration": 2211,
    "start_time": "2024-04-05T16:35:46.340Z"
   },
   {
    "duration": 2,
    "start_time": "2024-04-05T16:35:48.552Z"
   },
   {
    "duration": 1181,
    "start_time": "2024-04-05T16:36:41.817Z"
   },
   {
    "duration": 4,
    "start_time": "2024-04-05T16:36:43.001Z"
   },
   {
    "duration": 118,
    "start_time": "2024-04-05T16:36:43.006Z"
   },
   {
    "duration": 75,
    "start_time": "2024-04-05T16:36:43.126Z"
   },
   {
    "duration": 173,
    "start_time": "2024-04-05T16:36:43.202Z"
   },
   {
    "duration": 8,
    "start_time": "2024-04-05T16:36:43.377Z"
   },
   {
    "duration": 308,
    "start_time": "2024-04-05T16:36:43.387Z"
   },
   {
    "duration": 514,
    "start_time": "2024-04-05T16:36:43.698Z"
   },
   {
    "duration": 255,
    "start_time": "2024-04-05T16:36:44.214Z"
   },
   {
    "duration": 57,
    "start_time": "2024-04-05T16:36:44.474Z"
   },
   {
    "duration": 40,
    "start_time": "2024-04-05T16:36:44.533Z"
   },
   {
    "duration": 1016,
    "start_time": "2024-04-05T16:36:44.574Z"
   },
   {
    "duration": 42,
    "start_time": "2024-04-05T16:36:45.592Z"
   },
   {
    "duration": 5,
    "start_time": "2024-04-05T16:36:45.636Z"
   },
   {
    "duration": 52,
    "start_time": "2024-04-05T16:36:45.643Z"
   },
   {
    "duration": 5,
    "start_time": "2024-04-05T16:36:45.697Z"
   },
   {
    "duration": 37,
    "start_time": "2024-04-05T16:36:45.704Z"
   },
   {
    "duration": 7,
    "start_time": "2024-04-05T16:36:45.742Z"
   },
   {
    "duration": 43,
    "start_time": "2024-04-05T16:36:45.751Z"
   },
   {
    "duration": 2187,
    "start_time": "2024-04-05T16:36:45.795Z"
   },
   {
    "duration": 2,
    "start_time": "2024-04-05T16:36:47.984Z"
   },
   {
    "duration": 2282,
    "start_time": "2024-04-05T16:38:56.845Z"
   },
   {
    "duration": 2297,
    "start_time": "2024-04-05T16:39:08.260Z"
   },
   {
    "duration": 2248,
    "start_time": "2024-04-05T16:39:12.605Z"
   },
   {
    "duration": 2335,
    "start_time": "2024-04-05T16:40:35.701Z"
   },
   {
    "duration": 2159,
    "start_time": "2024-04-05T16:40:39.054Z"
   },
   {
    "duration": 1247,
    "start_time": "2024-04-05T16:40:45.081Z"
   },
   {
    "duration": 4,
    "start_time": "2024-04-05T16:40:46.329Z"
   },
   {
    "duration": 120,
    "start_time": "2024-04-05T16:40:46.335Z"
   },
   {
    "duration": 66,
    "start_time": "2024-04-05T16:40:46.457Z"
   },
   {
    "duration": 167,
    "start_time": "2024-04-05T16:40:46.525Z"
   },
   {
    "duration": 9,
    "start_time": "2024-04-05T16:40:46.694Z"
   },
   {
    "duration": 277,
    "start_time": "2024-04-05T16:40:46.705Z"
   },
   {
    "duration": 497,
    "start_time": "2024-04-05T16:40:46.984Z"
   },
   {
    "duration": 274,
    "start_time": "2024-04-05T16:40:47.483Z"
   },
   {
    "duration": 63,
    "start_time": "2024-04-05T16:40:47.759Z"
   },
   {
    "duration": 24,
    "start_time": "2024-04-05T16:40:47.824Z"
   },
   {
    "duration": 1080,
    "start_time": "2024-04-05T16:40:47.850Z"
   },
   {
    "duration": 66,
    "start_time": "2024-04-05T16:40:48.932Z"
   },
   {
    "duration": 6,
    "start_time": "2024-04-05T16:40:49.002Z"
   },
   {
    "duration": 33,
    "start_time": "2024-04-05T16:40:49.010Z"
   },
   {
    "duration": 30,
    "start_time": "2024-04-05T16:40:49.045Z"
   },
   {
    "duration": 45,
    "start_time": "2024-04-05T16:40:49.076Z"
   },
   {
    "duration": 7,
    "start_time": "2024-04-05T16:40:49.123Z"
   },
   {
    "duration": 47,
    "start_time": "2024-04-05T16:40:49.131Z"
   },
   {
    "duration": 2177,
    "start_time": "2024-04-05T16:40:49.179Z"
   },
   {
    "duration": 3,
    "start_time": "2024-04-05T16:40:51.358Z"
   },
   {
    "duration": 2293,
    "start_time": "2024-04-05T16:40:54.838Z"
   },
   {
    "duration": 2208,
    "start_time": "2024-04-05T16:40:58.517Z"
   },
   {
    "duration": 2220,
    "start_time": "2024-04-05T16:41:21.469Z"
   },
   {
    "duration": 1303,
    "start_time": "2024-04-05T16:43:29.055Z"
   },
   {
    "duration": 4,
    "start_time": "2024-04-05T16:43:30.360Z"
   },
   {
    "duration": 154,
    "start_time": "2024-04-05T16:43:30.366Z"
   },
   {
    "duration": 94,
    "start_time": "2024-04-05T16:43:30.523Z"
   },
   {
    "duration": 263,
    "start_time": "2024-04-05T16:43:30.619Z"
   },
   {
    "duration": 10,
    "start_time": "2024-04-05T16:43:30.884Z"
   },
   {
    "duration": 319,
    "start_time": "2024-04-05T16:43:30.896Z"
   },
   {
    "duration": 542,
    "start_time": "2024-04-05T16:43:31.217Z"
   },
   {
    "duration": 334,
    "start_time": "2024-04-05T16:43:31.761Z"
   },
   {
    "duration": 77,
    "start_time": "2024-04-05T16:43:32.097Z"
   },
   {
    "duration": 27,
    "start_time": "2024-04-05T16:43:32.176Z"
   },
   {
    "duration": 1111,
    "start_time": "2024-04-05T16:43:32.205Z"
   },
   {
    "duration": 78,
    "start_time": "2024-04-05T16:43:33.318Z"
   },
   {
    "duration": 7,
    "start_time": "2024-04-05T16:43:33.400Z"
   },
   {
    "duration": 41,
    "start_time": "2024-04-05T16:43:33.409Z"
   },
   {
    "duration": 26,
    "start_time": "2024-04-05T16:43:33.452Z"
   },
   {
    "duration": 40,
    "start_time": "2024-04-05T16:43:33.480Z"
   },
   {
    "duration": 9,
    "start_time": "2024-04-05T16:43:33.522Z"
   },
   {
    "duration": 61,
    "start_time": "2024-04-05T16:43:33.533Z"
   },
   {
    "duration": 2414,
    "start_time": "2024-04-05T16:43:33.596Z"
   },
   {
    "duration": 3,
    "start_time": "2024-04-05T16:43:36.013Z"
   },
   {
    "duration": 58,
    "start_time": "2024-04-05T20:56:19.685Z"
   },
   {
    "duration": 105,
    "start_time": "2024-04-05T21:25:16.667Z"
   },
   {
    "duration": 153,
    "start_time": "2024-04-05T21:29:19.278Z"
   },
   {
    "duration": 97,
    "start_time": "2024-04-05T21:32:35.889Z"
   },
   {
    "duration": 178,
    "start_time": "2024-04-05T21:32:58.216Z"
   },
   {
    "duration": 9,
    "start_time": "2024-04-05T21:45:49.051Z"
   },
   {
    "duration": 11,
    "start_time": "2024-04-05T21:46:12.746Z"
   },
   {
    "duration": 21,
    "start_time": "2024-04-05T21:46:21.795Z"
   },
   {
    "duration": 1064,
    "start_time": "2024-04-05T21:46:34.613Z"
   },
   {
    "duration": 2,
    "start_time": "2024-04-05T21:46:35.679Z"
   },
   {
    "duration": 102,
    "start_time": "2024-04-05T21:46:35.686Z"
   },
   {
    "duration": 22,
    "start_time": "2024-04-05T21:46:35.789Z"
   },
   {
    "duration": 9,
    "start_time": "2024-04-05T21:46:35.813Z"
   },
   {
    "duration": 40,
    "start_time": "2024-04-05T21:46:35.823Z"
   },
   {
    "duration": 212,
    "start_time": "2024-04-05T21:46:35.864Z"
   },
   {
    "duration": 14,
    "start_time": "2024-04-05T21:46:36.077Z"
   },
   {
    "duration": 230,
    "start_time": "2024-04-05T21:46:36.092Z"
   },
   {
    "duration": 429,
    "start_time": "2024-04-05T21:46:36.324Z"
   },
   {
    "duration": 230,
    "start_time": "2024-04-05T21:46:36.755Z"
   },
   {
    "duration": 54,
    "start_time": "2024-04-05T21:46:36.987Z"
   },
   {
    "duration": 20,
    "start_time": "2024-04-05T21:46:37.043Z"
   },
   {
    "duration": 881,
    "start_time": "2024-04-05T21:46:37.064Z"
   },
   {
    "duration": 57,
    "start_time": "2024-04-05T21:46:37.947Z"
   },
   {
    "duration": 5,
    "start_time": "2024-04-05T21:46:38.006Z"
   },
   {
    "duration": 36,
    "start_time": "2024-04-05T21:46:38.012Z"
   },
   {
    "duration": 5,
    "start_time": "2024-04-05T21:46:38.050Z"
   },
   {
    "duration": 45,
    "start_time": "2024-04-05T21:46:38.056Z"
   },
   {
    "duration": 5,
    "start_time": "2024-04-05T21:46:38.103Z"
   },
   {
    "duration": 15,
    "start_time": "2024-04-05T21:46:38.110Z"
   },
   {
    "duration": 1999,
    "start_time": "2024-04-05T21:46:38.127Z"
   },
   {
    "duration": 2,
    "start_time": "2024-04-05T21:46:40.128Z"
   },
   {
    "duration": 30,
    "start_time": "2024-04-05T21:48:58.296Z"
   },
   {
    "duration": 85,
    "start_time": "2024-04-05T21:51:34.011Z"
   },
   {
    "duration": 21,
    "start_time": "2024-04-05T21:51:54.179Z"
   },
   {
    "duration": 80,
    "start_time": "2024-04-05T21:53:23.588Z"
   },
   {
    "duration": 25,
    "start_time": "2024-04-05T21:53:32.308Z"
   },
   {
    "duration": 24,
    "start_time": "2024-04-05T21:54:12.133Z"
   },
   {
    "duration": 1259,
    "start_time": "2024-04-06T04:42:10.909Z"
   },
   {
    "duration": 3,
    "start_time": "2024-04-06T04:42:12.170Z"
   },
   {
    "duration": 247,
    "start_time": "2024-04-06T04:42:12.175Z"
   },
   {
    "duration": 23,
    "start_time": "2024-04-06T04:42:12.424Z"
   },
   {
    "duration": 8,
    "start_time": "2024-04-06T04:42:12.449Z"
   },
   {
    "duration": 36,
    "start_time": "2024-04-06T04:42:12.458Z"
   },
   {
    "duration": 190,
    "start_time": "2024-04-06T04:42:12.495Z"
   },
   {
    "duration": 194,
    "start_time": "2024-04-06T04:42:12.686Z"
   },
   {
    "duration": 0,
    "start_time": "2024-04-06T04:42:12.882Z"
   },
   {
    "duration": 0,
    "start_time": "2024-04-06T04:42:12.883Z"
   },
   {
    "duration": 0,
    "start_time": "2024-04-06T04:42:12.884Z"
   },
   {
    "duration": 0,
    "start_time": "2024-04-06T04:42:12.885Z"
   },
   {
    "duration": 0,
    "start_time": "2024-04-06T04:42:12.886Z"
   },
   {
    "duration": 0,
    "start_time": "2024-04-06T04:42:12.887Z"
   },
   {
    "duration": 0,
    "start_time": "2024-04-06T04:42:12.888Z"
   },
   {
    "duration": 0,
    "start_time": "2024-04-06T04:42:12.889Z"
   },
   {
    "duration": 0,
    "start_time": "2024-04-06T04:42:12.890Z"
   },
   {
    "duration": 1,
    "start_time": "2024-04-06T04:42:12.890Z"
   },
   {
    "duration": 0,
    "start_time": "2024-04-06T04:42:12.892Z"
   },
   {
    "duration": 0,
    "start_time": "2024-04-06T04:42:12.893Z"
   },
   {
    "duration": 0,
    "start_time": "2024-04-06T04:42:12.895Z"
   },
   {
    "duration": 0,
    "start_time": "2024-04-06T04:42:12.896Z"
   },
   {
    "duration": 0,
    "start_time": "2024-04-06T04:42:12.897Z"
   },
   {
    "duration": 6,
    "start_time": "2024-04-06T10:22:22.264Z"
   },
   {
    "duration": 6,
    "start_time": "2024-04-06T10:22:50.912Z"
   },
   {
    "duration": 117,
    "start_time": "2024-04-06T10:23:16.256Z"
   },
   {
    "duration": 99,
    "start_time": "2024-04-06T10:23:50.577Z"
   },
   {
    "duration": 83,
    "start_time": "2024-04-06T10:24:22.803Z"
   },
   {
    "duration": 58,
    "start_time": "2024-04-06T10:26:30.164Z"
   },
   {
    "duration": 178,
    "start_time": "2024-04-06T10:26:48.044Z"
   },
   {
    "duration": 110,
    "start_time": "2024-04-06T10:28:13.076Z"
   },
   {
    "duration": 201,
    "start_time": "2024-04-06T10:28:59.766Z"
   },
   {
    "duration": 176,
    "start_time": "2024-04-06T10:30:13.615Z"
   },
   {
    "duration": 180,
    "start_time": "2024-04-06T10:31:12.007Z"
   },
   {
    "duration": 13,
    "start_time": "2024-04-06T10:31:55.432Z"
   },
   {
    "duration": 15,
    "start_time": "2024-04-06T10:36:23.732Z"
   },
   {
    "duration": 200,
    "start_time": "2024-04-06T10:36:49.460Z"
   },
   {
    "duration": 198,
    "start_time": "2024-04-06T10:37:03.703Z"
   },
   {
    "duration": 150,
    "start_time": "2024-04-06T16:10:16.195Z"
   },
   {
    "duration": 52,
    "start_time": "2024-04-06T16:22:10.485Z"
   },
   {
    "duration": 64,
    "start_time": "2024-04-06T16:22:25.910Z"
   },
   {
    "duration": 53,
    "start_time": "2024-04-06T16:22:35.554Z"
   },
   {
    "duration": 10,
    "start_time": "2024-04-06T16:23:49.462Z"
   },
   {
    "duration": 54,
    "start_time": "2024-04-06T16:24:06.310Z"
   },
   {
    "duration": 135,
    "start_time": "2024-04-06T16:25:49.079Z"
   },
   {
    "duration": 110,
    "start_time": "2024-04-06T16:29:00.363Z"
   },
   {
    "duration": 146,
    "start_time": "2024-04-06T16:29:19.702Z"
   },
   {
    "duration": 102,
    "start_time": "2024-04-06T16:30:37.452Z"
   },
   {
    "duration": 120,
    "start_time": "2024-04-06T16:30:52.244Z"
   },
   {
    "duration": 122,
    "start_time": "2024-04-06T16:32:11.366Z"
   },
   {
    "duration": 92,
    "start_time": "2024-04-06T16:32:27.677Z"
   },
   {
    "duration": 229,
    "start_time": "2024-04-06T16:35:00.056Z"
   },
   {
    "duration": 320,
    "start_time": "2024-04-06T16:37:41.073Z"
   },
   {
    "duration": 246,
    "start_time": "2024-04-06T16:41:27.277Z"
   },
   {
    "duration": 243,
    "start_time": "2024-04-06T16:41:50.175Z"
   },
   {
    "duration": 228,
    "start_time": "2024-04-06T16:42:04.438Z"
   },
   {
    "duration": 432,
    "start_time": "2024-04-06T16:49:10.291Z"
   },
   {
    "duration": 976,
    "start_time": "2024-04-06T16:56:55.406Z"
   },
   {
    "duration": 542,
    "start_time": "2024-04-06T16:57:20.187Z"
   },
   {
    "duration": 216,
    "start_time": "2024-04-06T16:57:22.321Z"
   },
   {
    "duration": 19,
    "start_time": "2024-04-06T16:57:26.811Z"
   },
   {
    "duration": 1051,
    "start_time": "2024-04-06T16:58:00.817Z"
   },
   {
    "duration": 3,
    "start_time": "2024-04-06T16:58:01.869Z"
   },
   {
    "duration": 133,
    "start_time": "2024-04-06T16:58:01.874Z"
   },
   {
    "duration": 25,
    "start_time": "2024-04-06T16:58:02.008Z"
   },
   {
    "duration": 37,
    "start_time": "2024-04-06T16:58:02.035Z"
   },
   {
    "duration": 95,
    "start_time": "2024-04-06T16:58:02.074Z"
   },
   {
    "duration": 194,
    "start_time": "2024-04-06T16:58:02.171Z"
   },
   {
    "duration": 103,
    "start_time": "2024-04-06T16:58:02.366Z"
   },
   {
    "duration": 280,
    "start_time": "2024-04-06T16:58:02.471Z"
   },
   {
    "duration": 425,
    "start_time": "2024-04-06T16:58:02.752Z"
   },
   {
    "duration": 218,
    "start_time": "2024-04-06T16:58:03.179Z"
   },
   {
    "duration": 17,
    "start_time": "2024-04-06T16:58:03.399Z"
   },
   {
    "duration": 67,
    "start_time": "2024-04-06T16:58:03.417Z"
   },
   {
    "duration": 21,
    "start_time": "2024-04-06T16:58:03.486Z"
   },
   {
    "duration": 1015,
    "start_time": "2024-04-06T16:58:03.508Z"
   },
   {
    "duration": 53,
    "start_time": "2024-04-06T16:58:04.524Z"
   },
   {
    "duration": 4,
    "start_time": "2024-04-06T16:58:04.579Z"
   },
   {
    "duration": 44,
    "start_time": "2024-04-06T16:58:04.584Z"
   },
   {
    "duration": 5,
    "start_time": "2024-04-06T16:58:04.630Z"
   },
   {
    "duration": 31,
    "start_time": "2024-04-06T16:58:04.636Z"
   },
   {
    "duration": 6,
    "start_time": "2024-04-06T16:58:04.668Z"
   },
   {
    "duration": 19,
    "start_time": "2024-04-06T16:58:04.675Z"
   },
   {
    "duration": 1943,
    "start_time": "2024-04-06T16:58:04.695Z"
   },
   {
    "duration": 4,
    "start_time": "2024-04-06T16:58:06.639Z"
   },
   {
    "duration": 1137,
    "start_time": "2024-04-06T16:58:37.197Z"
   },
   {
    "duration": 2,
    "start_time": "2024-04-06T16:58:38.336Z"
   },
   {
    "duration": 101,
    "start_time": "2024-04-06T16:58:38.340Z"
   },
   {
    "duration": 25,
    "start_time": "2024-04-06T16:58:38.442Z"
   },
   {
    "duration": 9,
    "start_time": "2024-04-06T16:58:38.469Z"
   },
   {
    "duration": 70,
    "start_time": "2024-04-06T16:58:38.479Z"
   },
   {
    "duration": 192,
    "start_time": "2024-04-06T16:58:38.550Z"
   },
   {
    "duration": 84,
    "start_time": "2024-04-06T16:58:38.744Z"
   },
   {
    "duration": 306,
    "start_time": "2024-04-06T16:58:38.829Z"
   },
   {
    "duration": 465,
    "start_time": "2024-04-06T16:58:39.136Z"
   },
   {
    "duration": 242,
    "start_time": "2024-04-06T16:58:39.602Z"
   },
   {
    "duration": 25,
    "start_time": "2024-04-06T16:58:39.846Z"
   },
   {
    "duration": 57,
    "start_time": "2024-04-06T16:58:39.873Z"
   },
   {
    "duration": 41,
    "start_time": "2024-04-06T16:58:39.933Z"
   },
   {
    "duration": 934,
    "start_time": "2024-04-06T16:58:39.976Z"
   },
   {
    "duration": 54,
    "start_time": "2024-04-06T16:58:40.911Z"
   },
   {
    "duration": 5,
    "start_time": "2024-04-06T16:58:40.967Z"
   },
   {
    "duration": 24,
    "start_time": "2024-04-06T16:58:40.974Z"
   },
   {
    "duration": 4,
    "start_time": "2024-04-06T16:58:41.000Z"
   },
   {
    "duration": 28,
    "start_time": "2024-04-06T16:58:41.005Z"
   },
   {
    "duration": 32,
    "start_time": "2024-04-06T16:58:41.035Z"
   },
   {
    "duration": 17,
    "start_time": "2024-04-06T16:58:41.069Z"
   },
   {
    "duration": 1890,
    "start_time": "2024-04-06T16:58:41.088Z"
   },
   {
    "duration": 3,
    "start_time": "2024-04-06T16:58:42.979Z"
   },
   {
    "duration": 545,
    "start_time": "2024-04-06T17:07:54.364Z"
   },
   {
    "duration": 422,
    "start_time": "2024-04-06T17:09:42.703Z"
   },
   {
    "duration": 476,
    "start_time": "2024-04-06T17:12:28.513Z"
   },
   {
    "duration": 54,
    "start_time": "2024-04-06T17:14:22.205Z"
   },
   {
    "duration": 444,
    "start_time": "2024-04-06T17:14:31.650Z"
   },
   {
    "duration": 64,
    "start_time": "2024-04-06T17:21:50.153Z"
   },
   {
    "duration": 353,
    "start_time": "2024-04-06T17:24:06.043Z"
   },
   {
    "duration": 294,
    "start_time": "2024-04-06T17:24:28.747Z"
   },
   {
    "duration": 362,
    "start_time": "2024-04-06T17:28:57.503Z"
   },
   {
    "duration": 54,
    "start_time": "2024-04-06T17:33:16.611Z"
   },
   {
    "duration": 63,
    "start_time": "2024-04-06T17:33:30.195Z"
   },
   {
    "duration": 338,
    "start_time": "2024-04-06T17:33:59.995Z"
   },
   {
    "duration": 0,
    "start_time": "2024-04-06T17:36:45.186Z"
   },
   {
    "duration": 218667,
    "start_time": "2024-04-06T17:40:03.325Z"
   },
   {
    "duration": 34176,
    "start_time": "2024-04-06T17:46:46.958Z"
   },
   {
    "duration": 451,
    "start_time": "2024-04-06T17:47:57.497Z"
   },
   {
    "duration": 440,
    "start_time": "2024-04-06T17:50:29.129Z"
   },
   {
    "duration": 509,
    "start_time": "2024-04-06T17:53:09.703Z"
   },
   {
    "duration": 696,
    "start_time": "2024-04-06T17:55:02.328Z"
   },
   {
    "duration": 1321,
    "start_time": "2024-04-06T17:55:48.003Z"
   },
   {
    "duration": 624,
    "start_time": "2024-04-06T17:58:02.721Z"
   },
   {
    "duration": 475,
    "start_time": "2024-04-06T18:06:38.687Z"
   },
   {
    "duration": 357,
    "start_time": "2024-04-06T18:07:02.223Z"
   },
   {
    "duration": 343,
    "start_time": "2024-04-06T18:08:41.649Z"
   },
   {
    "duration": 328,
    "start_time": "2024-04-06T18:09:33.978Z"
   },
   {
    "duration": 205,
    "start_time": "2024-04-06T18:15:36.832Z"
   },
   {
    "duration": 214,
    "start_time": "2024-04-06T18:17:24.689Z"
   },
   {
    "duration": 231,
    "start_time": "2024-04-06T18:17:50.329Z"
   },
   {
    "duration": 237,
    "start_time": "2024-04-06T18:18:15.714Z"
   },
   {
    "duration": 218,
    "start_time": "2024-04-06T18:18:24.202Z"
   },
   {
    "duration": 225,
    "start_time": "2024-04-06T18:19:23.171Z"
   },
   {
    "duration": 228,
    "start_time": "2024-04-06T18:22:01.398Z"
   },
   {
    "duration": 246,
    "start_time": "2024-04-06T18:22:13.861Z"
   },
   {
    "duration": 230,
    "start_time": "2024-04-06T18:22:25.150Z"
   },
   {
    "duration": 237,
    "start_time": "2024-04-06T18:22:35.406Z"
   },
   {
    "duration": 222,
    "start_time": "2024-04-06T18:22:50.607Z"
   },
   {
    "duration": 234,
    "start_time": "2024-04-06T18:24:46.048Z"
   },
   {
    "duration": 693,
    "start_time": "2024-04-06T19:58:06.944Z"
   },
   {
    "duration": 1343,
    "start_time": "2024-04-07T06:48:15.474Z"
   },
   {
    "duration": 3,
    "start_time": "2024-04-07T06:48:16.819Z"
   },
   {
    "duration": 341,
    "start_time": "2024-04-07T06:48:16.824Z"
   },
   {
    "duration": 26,
    "start_time": "2024-04-07T06:48:17.166Z"
   },
   {
    "duration": 10,
    "start_time": "2024-04-07T06:48:17.194Z"
   },
   {
    "duration": 58,
    "start_time": "2024-04-07T06:48:17.205Z"
   },
   {
    "duration": 218,
    "start_time": "2024-04-07T06:48:17.279Z"
   },
   {
    "duration": 98,
    "start_time": "2024-04-07T06:48:17.499Z"
   },
   {
    "duration": 262,
    "start_time": "2024-04-07T06:48:17.598Z"
   },
   {
    "duration": 449,
    "start_time": "2024-04-07T06:48:17.861Z"
   },
   {
    "duration": 478,
    "start_time": "2024-04-07T06:48:18.312Z"
   },
   {
    "duration": 282,
    "start_time": "2024-04-07T06:48:18.792Z"
   },
   {
    "duration": 25,
    "start_time": "2024-04-07T06:48:19.075Z"
   },
   {
    "duration": 55,
    "start_time": "2024-04-07T06:48:19.103Z"
   },
   {
    "duration": 42,
    "start_time": "2024-04-07T06:48:19.160Z"
   },
   {
    "duration": 109,
    "start_time": "2024-04-07T06:48:19.203Z"
   },
   {
    "duration": 0,
    "start_time": "2024-04-07T06:48:19.313Z"
   },
   {
    "duration": 0,
    "start_time": "2024-04-07T06:48:19.315Z"
   },
   {
    "duration": 0,
    "start_time": "2024-04-07T06:48:19.316Z"
   },
   {
    "duration": 0,
    "start_time": "2024-04-07T06:48:19.317Z"
   },
   {
    "duration": 0,
    "start_time": "2024-04-07T06:48:19.318Z"
   },
   {
    "duration": 0,
    "start_time": "2024-04-07T06:48:19.319Z"
   },
   {
    "duration": 0,
    "start_time": "2024-04-07T06:48:19.320Z"
   },
   {
    "duration": 0,
    "start_time": "2024-04-07T06:48:19.321Z"
   },
   {
    "duration": 0,
    "start_time": "2024-04-07T06:48:19.322Z"
   },
   {
    "duration": 11,
    "start_time": "2024-04-07T06:48:36.668Z"
   },
   {
    "duration": 299,
    "start_time": "2024-04-07T06:49:05.596Z"
   },
   {
    "duration": 305,
    "start_time": "2024-04-07T06:49:30.709Z"
   },
   {
    "duration": 298,
    "start_time": "2024-04-07T06:49:54.140Z"
   },
   {
    "duration": 318,
    "start_time": "2024-04-07T06:51:03.326Z"
   },
   {
    "duration": 454,
    "start_time": "2024-04-07T06:52:22.646Z"
   },
   {
    "duration": 281,
    "start_time": "2024-04-07T06:53:09.463Z"
   },
   {
    "duration": 299,
    "start_time": "2024-04-07T06:55:09.401Z"
   },
   {
    "duration": 300,
    "start_time": "2024-04-07T06:56:15.378Z"
   },
   {
    "duration": 779,
    "start_time": "2024-04-07T07:00:43.981Z"
   },
   {
    "duration": 802,
    "start_time": "2024-04-07T07:01:17.191Z"
   },
   {
    "duration": 110,
    "start_time": "2024-04-07T07:02:14.415Z"
   },
   {
    "duration": 661,
    "start_time": "2024-04-07T07:07:24.980Z"
   },
   {
    "duration": 677,
    "start_time": "2024-04-07T07:08:17.412Z"
   },
   {
    "duration": 725,
    "start_time": "2024-04-07T10:10:15.463Z"
   },
   {
    "duration": 814,
    "start_time": "2024-04-07T10:11:45.630Z"
   },
   {
    "duration": 765,
    "start_time": "2024-04-07T11:52:12.877Z"
   },
   {
    "duration": 556,
    "start_time": "2024-04-07T11:52:19.896Z"
   },
   {
    "duration": 964,
    "start_time": "2024-04-07T11:53:08.165Z"
   },
   {
    "duration": 606,
    "start_time": "2024-04-07T11:54:11.544Z"
   },
   {
    "duration": 748,
    "start_time": "2024-04-07T11:55:57.409Z"
   },
   {
    "duration": 669,
    "start_time": "2024-04-07T11:57:35.058Z"
   },
   {
    "duration": 25,
    "start_time": "2024-04-07T11:59:04.372Z"
   },
   {
    "duration": 19,
    "start_time": "2024-04-07T12:06:18.589Z"
   },
   {
    "duration": 577,
    "start_time": "2024-04-07T12:06:36.971Z"
   },
   {
    "duration": 816,
    "start_time": "2024-04-07T12:07:37.302Z"
   },
   {
    "duration": 625,
    "start_time": "2024-04-07T12:09:27.638Z"
   },
   {
    "duration": 677,
    "start_time": "2024-04-07T12:10:00.189Z"
   },
   {
    "duration": 877,
    "start_time": "2024-04-07T12:12:44.113Z"
   },
   {
    "duration": 1272,
    "start_time": "2024-04-07T12:27:43.925Z"
   },
   {
    "duration": 3,
    "start_time": "2024-04-07T12:27:45.200Z"
   },
   {
    "duration": 176,
    "start_time": "2024-04-07T12:27:45.205Z"
   },
   {
    "duration": 35,
    "start_time": "2024-04-07T12:27:45.383Z"
   },
   {
    "duration": 35,
    "start_time": "2024-04-07T12:27:45.421Z"
   },
   {
    "duration": 161,
    "start_time": "2024-04-07T12:27:45.459Z"
   },
   {
    "duration": 254,
    "start_time": "2024-04-07T12:27:45.622Z"
   },
   {
    "duration": 131,
    "start_time": "2024-04-07T12:27:45.880Z"
   },
   {
    "duration": 308,
    "start_time": "2024-04-07T12:27:46.012Z"
   },
   {
    "duration": 479,
    "start_time": "2024-04-07T12:27:46.322Z"
   },
   {
    "duration": 0,
    "start_time": "2024-04-07T12:27:46.805Z"
   },
   {
    "duration": 0,
    "start_time": "2024-04-07T12:27:46.806Z"
   },
   {
    "duration": 0,
    "start_time": "2024-04-07T12:27:46.808Z"
   },
   {
    "duration": 0,
    "start_time": "2024-04-07T12:27:46.810Z"
   },
   {
    "duration": 0,
    "start_time": "2024-04-07T12:27:46.813Z"
   },
   {
    "duration": 0,
    "start_time": "2024-04-07T12:27:46.814Z"
   },
   {
    "duration": 0,
    "start_time": "2024-04-07T12:27:46.816Z"
   },
   {
    "duration": 0,
    "start_time": "2024-04-07T12:27:46.818Z"
   },
   {
    "duration": 0,
    "start_time": "2024-04-07T12:27:46.820Z"
   },
   {
    "duration": 0,
    "start_time": "2024-04-07T12:27:46.822Z"
   },
   {
    "duration": 0,
    "start_time": "2024-04-07T12:27:46.823Z"
   },
   {
    "duration": 0,
    "start_time": "2024-04-07T12:27:46.825Z"
   },
   {
    "duration": 0,
    "start_time": "2024-04-07T12:27:46.827Z"
   },
   {
    "duration": 0,
    "start_time": "2024-04-07T12:27:46.829Z"
   },
   {
    "duration": 0,
    "start_time": "2024-04-07T12:27:46.831Z"
   },
   {
    "duration": 588,
    "start_time": "2024-04-07T12:28:20.355Z"
   },
   {
    "duration": 723,
    "start_time": "2024-04-07T12:29:38.156Z"
   },
   {
    "duration": 596,
    "start_time": "2024-04-07T12:31:35.838Z"
   },
   {
    "duration": 78,
    "start_time": "2024-04-07T12:32:24.670Z"
   },
   {
    "duration": 577,
    "start_time": "2024-04-07T12:32:31.920Z"
   },
   {
    "duration": 590,
    "start_time": "2024-04-07T12:35:14.281Z"
   },
   {
    "duration": 551,
    "start_time": "2024-04-07T12:36:23.825Z"
   },
   {
    "duration": 517,
    "start_time": "2024-04-07T12:42:58.110Z"
   },
   {
    "duration": 574,
    "start_time": "2024-04-07T12:43:17.958Z"
   },
   {
    "duration": 316,
    "start_time": "2024-04-07T12:43:23.302Z"
   },
   {
    "duration": 23,
    "start_time": "2024-04-07T12:43:28.837Z"
   },
   {
    "duration": 62,
    "start_time": "2024-04-07T12:48:33.386Z"
   },
   {
    "duration": 26,
    "start_time": "2024-04-07T12:48:41.626Z"
   },
   {
    "duration": 756,
    "start_time": "2024-04-07T12:48:50.249Z"
   },
   {
    "duration": 855,
    "start_time": "2024-04-07T12:56:59.792Z"
   },
   {
    "duration": 741,
    "start_time": "2024-04-07T12:58:38.185Z"
   },
   {
    "duration": 664,
    "start_time": "2024-04-07T12:59:53.068Z"
   },
   {
    "duration": 30,
    "start_time": "2024-04-07T13:07:22.140Z"
   },
   {
    "duration": 18,
    "start_time": "2024-04-07T13:13:43.409Z"
   },
   {
    "duration": 42,
    "start_time": "2024-04-07T13:14:03.185Z"
   },
   {
    "duration": 385,
    "start_time": "2024-04-07T13:15:58.460Z"
   },
   {
    "duration": 210,
    "start_time": "2024-04-07T13:17:17.687Z"
   },
   {
    "duration": 200,
    "start_time": "2024-04-07T13:17:48.046Z"
   },
   {
    "duration": 96,
    "start_time": "2024-04-07T13:23:57.547Z"
   },
   {
    "duration": 189,
    "start_time": "2024-04-07T13:25:08.129Z"
   },
   {
    "duration": 201,
    "start_time": "2024-04-07T13:28:42.049Z"
   },
   {
    "duration": 114,
    "start_time": "2024-04-07T13:29:30.953Z"
   },
   {
    "duration": 105,
    "start_time": "2024-04-07T13:30:16.434Z"
   },
   {
    "duration": 96,
    "start_time": "2024-04-07T13:30:30.459Z"
   },
   {
    "duration": 22,
    "start_time": "2024-04-07T13:31:24.995Z"
   },
   {
    "duration": 116,
    "start_time": "2024-04-07T13:33:06.087Z"
   },
   {
    "duration": 100,
    "start_time": "2024-04-07T13:38:11.755Z"
   },
   {
    "duration": 100,
    "start_time": "2024-04-07T13:38:30.667Z"
   },
   {
    "duration": 277,
    "start_time": "2024-04-07T13:38:50.834Z"
   },
   {
    "duration": 1264,
    "start_time": "2024-04-07T13:39:30.050Z"
   },
   {
    "duration": 3,
    "start_time": "2024-04-07T13:39:31.315Z"
   },
   {
    "duration": 147,
    "start_time": "2024-04-07T13:39:31.320Z"
   },
   {
    "duration": 26,
    "start_time": "2024-04-07T13:39:31.469Z"
   },
   {
    "duration": 45,
    "start_time": "2024-04-07T13:39:31.497Z"
   },
   {
    "duration": 79,
    "start_time": "2024-04-07T13:39:31.543Z"
   },
   {
    "duration": 218,
    "start_time": "2024-04-07T13:39:31.624Z"
   },
   {
    "duration": 102,
    "start_time": "2024-04-07T13:39:31.844Z"
   },
   {
    "duration": 292,
    "start_time": "2024-04-07T13:39:31.948Z"
   },
   {
    "duration": 492,
    "start_time": "2024-04-07T13:39:32.242Z"
   },
   {
    "duration": 431,
    "start_time": "2024-04-07T13:39:32.736Z"
   },
   {
    "duration": 287,
    "start_time": "2024-04-07T13:39:33.169Z"
   },
   {
    "duration": 27,
    "start_time": "2024-04-07T13:39:33.458Z"
   },
   {
    "duration": 55,
    "start_time": "2024-04-07T13:39:33.487Z"
   },
   {
    "duration": 208,
    "start_time": "2024-04-07T13:39:33.544Z"
   },
   {
    "duration": 681,
    "start_time": "2024-04-07T13:39:33.754Z"
   },
   {
    "duration": 62,
    "start_time": "2024-04-07T13:39:34.437Z"
   },
   {
    "duration": 6,
    "start_time": "2024-04-07T13:39:34.501Z"
   },
   {
    "duration": 34,
    "start_time": "2024-04-07T13:39:34.508Z"
   },
   {
    "duration": 7,
    "start_time": "2024-04-07T13:39:34.543Z"
   },
   {
    "duration": 57,
    "start_time": "2024-04-07T13:39:34.552Z"
   },
   {
    "duration": 7,
    "start_time": "2024-04-07T13:39:34.610Z"
   },
   {
    "duration": 23,
    "start_time": "2024-04-07T13:39:34.618Z"
   },
   {
    "duration": 2231,
    "start_time": "2024-04-07T13:39:34.642Z"
   },
   {
    "duration": 5,
    "start_time": "2024-04-07T13:39:36.875Z"
   },
   {
    "duration": 105,
    "start_time": "2024-04-07T13:41:02.109Z"
   },
   {
    "duration": 61,
    "start_time": "2024-04-07T15:52:43.574Z"
   },
   {
    "duration": 85,
    "start_time": "2024-04-07T15:54:49.014Z"
   },
   {
    "duration": 529,
    "start_time": "2024-04-07T15:58:35.579Z"
   },
   {
    "duration": 71,
    "start_time": "2024-04-07T15:59:45.746Z"
   },
   {
    "duration": 65,
    "start_time": "2024-04-07T16:04:58.937Z"
   },
   {
    "duration": 83,
    "start_time": "2024-04-07T16:10:41.447Z"
   },
   {
    "duration": 65,
    "start_time": "2024-04-07T16:11:36.742Z"
   },
   {
    "duration": 435,
    "start_time": "2024-04-07T16:14:52.208Z"
   },
   {
    "duration": 434,
    "start_time": "2024-04-07T16:15:46.007Z"
   },
   {
    "duration": 483,
    "start_time": "2024-04-07T16:16:14.607Z"
   },
   {
    "duration": 430,
    "start_time": "2024-04-07T16:16:29.743Z"
   },
   {
    "duration": 72,
    "start_time": "2024-04-07T16:16:40.663Z"
   },
   {
    "duration": 87,
    "start_time": "2024-04-07T16:20:24.480Z"
   },
   {
    "duration": 66,
    "start_time": "2024-04-07T16:20:34.879Z"
   },
   {
    "duration": 107,
    "start_time": "2024-04-07T16:47:12.519Z"
   },
   {
    "duration": 523,
    "start_time": "2024-04-07T16:48:21.703Z"
   },
   {
    "duration": 548,
    "start_time": "2024-04-07T16:48:51.760Z"
   },
   {
    "duration": 189,
    "start_time": "2024-04-07T16:49:28.297Z"
   },
   {
    "duration": 63,
    "start_time": "2024-04-07T16:53:08.065Z"
   },
   {
    "duration": 73,
    "start_time": "2024-04-07T16:53:20.938Z"
   },
   {
    "duration": 74,
    "start_time": "2024-04-07T16:54:33.901Z"
   },
   {
    "duration": 491,
    "start_time": "2024-04-07T16:56:23.256Z"
   },
   {
    "duration": 477,
    "start_time": "2024-04-07T16:57:11.033Z"
   },
   {
    "duration": 347,
    "start_time": "2024-04-07T16:57:52.018Z"
   },
   {
    "duration": 1534,
    "start_time": "2024-04-07T16:58:30.156Z"
   },
   {
    "duration": 1658,
    "start_time": "2024-04-07T17:04:01.676Z"
   },
   {
    "duration": 311,
    "start_time": "2024-04-07T17:04:25.868Z"
   },
   {
    "duration": 89,
    "start_time": "2024-04-07T17:05:21.749Z"
   },
   {
    "duration": 86,
    "start_time": "2024-04-07T17:07:02.815Z"
   },
   {
    "duration": 569,
    "start_time": "2024-04-07T17:13:27.503Z"
   },
   {
    "duration": 84,
    "start_time": "2024-04-07T19:28:58.480Z"
   },
   {
    "duration": 583,
    "start_time": "2024-04-07T19:29:26.622Z"
   },
   {
    "duration": 1476,
    "start_time": "2024-04-07T19:30:55.770Z"
   },
   {
    "duration": 1454,
    "start_time": "2024-04-07T19:31:19.345Z"
   },
   {
    "duration": 431,
    "start_time": "2024-04-07T19:31:50.225Z"
   },
   {
    "duration": 66,
    "start_time": "2024-04-07T19:33:31.003Z"
   },
   {
    "duration": 265,
    "start_time": "2024-04-07T19:33:56.196Z"
   },
   {
    "duration": 224,
    "start_time": "2024-04-07T19:34:49.380Z"
   },
   {
    "duration": 217,
    "start_time": "2024-04-07T19:35:31.478Z"
   },
   {
    "duration": 221,
    "start_time": "2024-04-07T19:35:41.550Z"
   },
   {
    "duration": 430,
    "start_time": "2024-04-07T19:38:24.561Z"
   },
   {
    "duration": 379,
    "start_time": "2024-04-07T19:40:53.361Z"
   },
   {
    "duration": 494,
    "start_time": "2024-04-07T19:41:27.042Z"
   },
   {
    "duration": 437,
    "start_time": "2024-04-07T19:42:46.282Z"
   },
   {
    "duration": 232,
    "start_time": "2024-04-07T19:46:29.291Z"
   },
   {
    "duration": 67,
    "start_time": "2024-04-07T19:49:23.470Z"
   },
   {
    "duration": 86,
    "start_time": "2024-04-07T19:50:24.541Z"
   },
   {
    "duration": 185,
    "start_time": "2024-04-07T19:51:08.870Z"
   },
   {
    "duration": 259,
    "start_time": "2024-04-07T19:53:37.241Z"
   },
   {
    "duration": 81,
    "start_time": "2024-04-07T19:55:05.633Z"
   },
   {
    "duration": 67,
    "start_time": "2024-04-07T19:55:18.768Z"
   },
   {
    "duration": 42,
    "start_time": "2024-04-07T20:01:48.829Z"
   },
   {
    "duration": 27,
    "start_time": "2024-04-07T20:05:08.905Z"
   },
   {
    "duration": 24,
    "start_time": "2024-04-07T20:08:44.895Z"
   },
   {
    "duration": 34,
    "start_time": "2024-04-07T20:10:06.229Z"
   },
   {
    "duration": 35,
    "start_time": "2024-04-07T20:12:12.255Z"
   },
   {
    "duration": 28,
    "start_time": "2024-04-07T20:13:58.616Z"
   },
   {
    "duration": 23,
    "start_time": "2024-04-07T20:21:12.550Z"
   },
   {
    "duration": 22,
    "start_time": "2024-04-07T20:22:58.663Z"
   },
   {
    "duration": 21,
    "start_time": "2024-04-07T20:23:30.615Z"
   },
   {
    "duration": 30,
    "start_time": "2024-04-07T20:24:33.584Z"
   },
   {
    "duration": 28,
    "start_time": "2024-04-07T20:26:54.987Z"
   },
   {
    "duration": 340,
    "start_time": "2024-04-07T20:28:20.357Z"
   },
   {
    "duration": 666,
    "start_time": "2024-04-07T20:31:02.934Z"
   },
   {
    "duration": 525,
    "start_time": "2024-04-07T20:31:53.990Z"
   },
   {
    "duration": 521,
    "start_time": "2024-04-07T20:34:31.201Z"
   },
   {
    "duration": 496,
    "start_time": "2024-04-07T20:41:30.714Z"
   },
   {
    "duration": 283,
    "start_time": "2024-04-07T20:44:09.089Z"
   },
   {
    "duration": 572,
    "start_time": "2024-04-07T20:45:54.739Z"
   },
   {
    "duration": 1403,
    "start_time": "2024-04-08T08:55:47.112Z"
   },
   {
    "duration": 3,
    "start_time": "2024-04-08T08:55:48.517Z"
   },
   {
    "duration": 248,
    "start_time": "2024-04-08T08:55:48.521Z"
   },
   {
    "duration": 30,
    "start_time": "2024-04-08T08:55:48.770Z"
   },
   {
    "duration": 11,
    "start_time": "2024-04-08T08:55:48.803Z"
   },
   {
    "duration": 85,
    "start_time": "2024-04-08T08:55:48.816Z"
   },
   {
    "duration": 234,
    "start_time": "2024-04-08T08:55:48.903Z"
   },
   {
    "duration": 96,
    "start_time": "2024-04-08T08:55:49.138Z"
   },
   {
    "duration": 291,
    "start_time": "2024-04-08T08:55:49.236Z"
   },
   {
    "duration": 488,
    "start_time": "2024-04-08T08:55:49.529Z"
   },
   {
    "duration": 468,
    "start_time": "2024-04-08T08:55:50.019Z"
   },
   {
    "duration": 306,
    "start_time": "2024-04-08T08:55:50.488Z"
   },
   {
    "duration": 21,
    "start_time": "2024-04-08T08:55:50.795Z"
   },
   {
    "duration": 74,
    "start_time": "2024-04-08T08:55:50.819Z"
   },
   {
    "duration": 102,
    "start_time": "2024-04-08T08:55:50.894Z"
   },
   {
    "duration": 690,
    "start_time": "2024-04-08T08:55:50.997Z"
   },
   {
    "duration": 157,
    "start_time": "2024-04-08T08:55:51.689Z"
   },
   {
    "duration": 0,
    "start_time": "2024-04-08T08:55:51.848Z"
   },
   {
    "duration": 0,
    "start_time": "2024-04-08T08:55:51.849Z"
   },
   {
    "duration": 0,
    "start_time": "2024-04-08T08:55:51.850Z"
   },
   {
    "duration": 0,
    "start_time": "2024-04-08T08:55:51.851Z"
   },
   {
    "duration": 0,
    "start_time": "2024-04-08T08:55:51.853Z"
   },
   {
    "duration": 0,
    "start_time": "2024-04-08T08:55:51.854Z"
   },
   {
    "duration": 0,
    "start_time": "2024-04-08T08:55:51.855Z"
   },
   {
    "duration": 0,
    "start_time": "2024-04-08T08:55:51.857Z"
   },
   {
    "duration": 0,
    "start_time": "2024-04-08T08:55:51.858Z"
   },
   {
    "duration": 53,
    "start_time": "2024-04-08T08:56:07.668Z"
   },
   {
    "duration": 58,
    "start_time": "2024-04-08T08:57:53.759Z"
   },
   {
    "duration": 584,
    "start_time": "2024-04-08T09:00:11.016Z"
   },
   {
    "duration": 64,
    "start_time": "2024-04-08T09:01:58.761Z"
   },
   {
    "duration": 499,
    "start_time": "2024-04-08T09:03:45.667Z"
   },
   {
    "duration": 557,
    "start_time": "2024-04-08T09:09:59.473Z"
   },
   {
    "duration": 72,
    "start_time": "2024-04-08T09:13:18.837Z"
   },
   {
    "duration": 51,
    "start_time": "2024-04-08T09:13:46.073Z"
   },
   {
    "duration": 65,
    "start_time": "2024-04-08T09:14:35.605Z"
   },
   {
    "duration": 501,
    "start_time": "2024-04-08T09:16:06.142Z"
   },
   {
    "duration": 1211,
    "start_time": "2024-04-08T09:17:05.392Z"
   },
   {
    "duration": 7,
    "start_time": "2024-04-08T09:17:06.605Z"
   },
   {
    "duration": 126,
    "start_time": "2024-04-08T09:17:06.614Z"
   },
   {
    "duration": 27,
    "start_time": "2024-04-08T09:17:06.741Z"
   },
   {
    "duration": 20,
    "start_time": "2024-04-08T09:17:06.770Z"
   },
   {
    "duration": 82,
    "start_time": "2024-04-08T09:17:06.792Z"
   },
   {
    "duration": 237,
    "start_time": "2024-04-08T09:17:06.876Z"
   },
   {
    "duration": 105,
    "start_time": "2024-04-08T09:17:07.115Z"
   },
   {
    "duration": 289,
    "start_time": "2024-04-08T09:17:07.222Z"
   },
   {
    "duration": 473,
    "start_time": "2024-04-08T09:17:07.512Z"
   },
   {
    "duration": 477,
    "start_time": "2024-04-08T09:17:07.986Z"
   },
   {
    "duration": 310,
    "start_time": "2024-04-08T09:17:08.465Z"
   },
   {
    "duration": 25,
    "start_time": "2024-04-08T09:17:08.784Z"
   },
   {
    "duration": 74,
    "start_time": "2024-04-08T09:17:08.812Z"
   },
   {
    "duration": 96,
    "start_time": "2024-04-08T09:17:08.888Z"
   },
   {
    "duration": 671,
    "start_time": "2024-04-08T09:17:08.986Z"
   },
   {
    "duration": 75,
    "start_time": "2024-04-08T09:17:09.659Z"
   },
   {
    "duration": 625,
    "start_time": "2024-04-08T09:17:09.736Z"
   },
   {
    "duration": 5,
    "start_time": "2024-04-08T09:17:10.362Z"
   },
   {
    "duration": 51,
    "start_time": "2024-04-08T09:17:10.369Z"
   },
   {
    "duration": 5,
    "start_time": "2024-04-08T09:17:10.422Z"
   },
   {
    "duration": 35,
    "start_time": "2024-04-08T09:17:10.429Z"
   },
   {
    "duration": 1209,
    "start_time": "2024-04-08T09:17:10.465Z"
   },
   {
    "duration": 0,
    "start_time": "2024-04-08T09:17:11.677Z"
   },
   {
    "duration": 0,
    "start_time": "2024-04-08T09:17:11.679Z"
   },
   {
    "duration": 0,
    "start_time": "2024-04-08T09:17:11.680Z"
   },
   {
    "duration": 62,
    "start_time": "2024-04-08T09:19:37.462Z"
   },
   {
    "duration": 515,
    "start_time": "2024-04-08T09:19:47.726Z"
   },
   {
    "duration": 507,
    "start_time": "2024-04-08T09:20:40.592Z"
   },
   {
    "duration": 527,
    "start_time": "2024-04-08T09:21:25.722Z"
   },
   {
    "duration": 6,
    "start_time": "2024-04-08T11:48:07.122Z"
   },
   {
    "duration": 1163,
    "start_time": "2024-04-08T11:49:58.737Z"
   },
   {
    "duration": 4,
    "start_time": "2024-04-08T11:49:59.902Z"
   },
   {
    "duration": 109,
    "start_time": "2024-04-08T11:49:59.908Z"
   },
   {
    "duration": 26,
    "start_time": "2024-04-08T11:50:00.018Z"
   },
   {
    "duration": 29,
    "start_time": "2024-04-08T11:50:00.046Z"
   },
   {
    "duration": 83,
    "start_time": "2024-04-08T11:50:00.081Z"
   },
   {
    "duration": 208,
    "start_time": "2024-04-08T11:50:00.166Z"
   },
   {
    "duration": 89,
    "start_time": "2024-04-08T11:50:00.381Z"
   },
   {
    "duration": 298,
    "start_time": "2024-04-08T11:50:00.471Z"
   },
   {
    "duration": 474,
    "start_time": "2024-04-08T11:50:00.771Z"
   },
   {
    "duration": 445,
    "start_time": "2024-04-08T11:50:01.246Z"
   },
   {
    "duration": 302,
    "start_time": "2024-04-08T11:50:01.693Z"
   },
   {
    "duration": 21,
    "start_time": "2024-04-08T11:50:01.997Z"
   },
   {
    "duration": 87,
    "start_time": "2024-04-08T11:50:02.021Z"
   },
   {
    "duration": 105,
    "start_time": "2024-04-08T11:50:02.109Z"
   },
   {
    "duration": 682,
    "start_time": "2024-04-08T11:50:02.216Z"
   },
   {
    "duration": 81,
    "start_time": "2024-04-08T11:50:02.900Z"
   },
   {
    "duration": 586,
    "start_time": "2024-04-08T11:50:02.983Z"
   },
   {
    "duration": 13,
    "start_time": "2024-04-08T11:50:03.570Z"
   },
   {
    "duration": 81,
    "start_time": "2024-04-08T11:50:03.584Z"
   },
   {
    "duration": 5,
    "start_time": "2024-04-08T11:50:03.667Z"
   },
   {
    "duration": 43,
    "start_time": "2024-04-08T11:50:03.673Z"
   },
   {
    "duration": 1192,
    "start_time": "2024-04-08T11:50:03.718Z"
   },
   {
    "duration": 0,
    "start_time": "2024-04-08T11:50:04.912Z"
   },
   {
    "duration": 0,
    "start_time": "2024-04-08T11:50:04.914Z"
   },
   {
    "duration": 0,
    "start_time": "2024-04-08T11:50:04.914Z"
   },
   {
    "duration": 28,
    "start_time": "2024-04-08T12:06:56.046Z"
   },
   {
    "duration": 12,
    "start_time": "2024-04-08T12:07:49.925Z"
   },
   {
    "duration": 28,
    "start_time": "2024-04-08T12:08:06.542Z"
   },
   {
    "duration": 16,
    "start_time": "2024-04-08T12:08:36.829Z"
   },
   {
    "duration": 19,
    "start_time": "2024-04-08T12:09:50.639Z"
   },
   {
    "duration": 124,
    "start_time": "2024-04-08T12:12:44.487Z"
   },
   {
    "duration": 93,
    "start_time": "2024-04-08T12:13:32.209Z"
   },
   {
    "duration": 104,
    "start_time": "2024-04-08T12:14:03.280Z"
   },
   {
    "duration": 93,
    "start_time": "2024-04-08T12:14:54.137Z"
   },
   {
    "duration": 10,
    "start_time": "2024-04-08T12:21:36.286Z"
   },
   {
    "duration": 10,
    "start_time": "2024-04-08T12:21:49.805Z"
   },
   {
    "duration": 11,
    "start_time": "2024-04-08T12:22:17.037Z"
   },
   {
    "duration": 44,
    "start_time": "2024-04-08T12:28:41.261Z"
   },
   {
    "duration": 8,
    "start_time": "2024-04-08T13:45:54.948Z"
   },
   {
    "duration": 1181,
    "start_time": "2024-04-08T13:50:16.399Z"
   },
   {
    "duration": 3,
    "start_time": "2024-04-08T13:50:17.582Z"
   },
   {
    "duration": 113,
    "start_time": "2024-04-08T13:50:17.587Z"
   },
   {
    "duration": 26,
    "start_time": "2024-04-08T13:50:17.702Z"
   },
   {
    "duration": 11,
    "start_time": "2024-04-08T13:50:17.729Z"
   },
   {
    "duration": 79,
    "start_time": "2024-04-08T13:50:17.741Z"
   },
   {
    "duration": 233,
    "start_time": "2024-04-08T13:50:17.822Z"
   },
   {
    "duration": 96,
    "start_time": "2024-04-08T13:50:18.057Z"
   },
   {
    "duration": 282,
    "start_time": "2024-04-08T13:50:18.154Z"
   },
   {
    "duration": 458,
    "start_time": "2024-04-08T13:50:18.439Z"
   },
   {
    "duration": 450,
    "start_time": "2024-04-08T13:50:18.899Z"
   },
   {
    "duration": 275,
    "start_time": "2024-04-08T13:50:19.351Z"
   },
   {
    "duration": 20,
    "start_time": "2024-04-08T13:50:19.628Z"
   },
   {
    "duration": 71,
    "start_time": "2024-04-08T13:50:19.650Z"
   },
   {
    "duration": 114,
    "start_time": "2024-04-08T13:50:19.723Z"
   },
   {
    "duration": 0,
    "start_time": "2024-04-08T13:50:19.839Z"
   },
   {
    "duration": 0,
    "start_time": "2024-04-08T13:50:19.840Z"
   },
   {
    "duration": 0,
    "start_time": "2024-04-08T13:50:19.842Z"
   },
   {
    "duration": 0,
    "start_time": "2024-04-08T13:50:19.842Z"
   },
   {
    "duration": 0,
    "start_time": "2024-04-08T13:50:19.843Z"
   },
   {
    "duration": 0,
    "start_time": "2024-04-08T13:50:19.844Z"
   },
   {
    "duration": 0,
    "start_time": "2024-04-08T13:50:19.846Z"
   },
   {
    "duration": 0,
    "start_time": "2024-04-08T13:50:19.847Z"
   },
   {
    "duration": 0,
    "start_time": "2024-04-08T13:50:19.848Z"
   },
   {
    "duration": 0,
    "start_time": "2024-04-08T13:50:19.849Z"
   },
   {
    "duration": 0,
    "start_time": "2024-04-08T13:50:19.850Z"
   },
   {
    "duration": 146,
    "start_time": "2024-04-08T13:52:05.344Z"
   },
   {
    "duration": 1168,
    "start_time": "2024-04-08T13:52:18.234Z"
   },
   {
    "duration": 4,
    "start_time": "2024-04-08T13:52:19.405Z"
   },
   {
    "duration": 109,
    "start_time": "2024-04-08T13:52:19.411Z"
   },
   {
    "duration": 28,
    "start_time": "2024-04-08T13:52:19.522Z"
   },
   {
    "duration": 39,
    "start_time": "2024-04-08T13:52:19.552Z"
   },
   {
    "duration": 62,
    "start_time": "2024-04-08T13:52:19.593Z"
   },
   {
    "duration": 244,
    "start_time": "2024-04-08T13:52:19.657Z"
   },
   {
    "duration": 105,
    "start_time": "2024-04-08T13:52:19.902Z"
   },
   {
    "duration": 296,
    "start_time": "2024-04-08T13:52:20.009Z"
   },
   {
    "duration": 458,
    "start_time": "2024-04-08T13:52:20.308Z"
   },
   {
    "duration": 482,
    "start_time": "2024-04-08T13:52:20.768Z"
   },
   {
    "duration": 293,
    "start_time": "2024-04-08T13:52:21.252Z"
   },
   {
    "duration": 21,
    "start_time": "2024-04-08T13:52:21.547Z"
   },
   {
    "duration": 66,
    "start_time": "2024-04-08T13:52:21.569Z"
   },
   {
    "duration": 173,
    "start_time": "2024-04-08T13:52:21.637Z"
   },
   {
    "duration": 604,
    "start_time": "2024-04-08T13:52:21.812Z"
   },
   {
    "duration": 46,
    "start_time": "2024-04-08T13:52:22.418Z"
   },
   {
    "duration": 636,
    "start_time": "2024-04-08T13:52:22.466Z"
   },
   {
    "duration": 7,
    "start_time": "2024-04-08T13:52:23.104Z"
   },
   {
    "duration": 50,
    "start_time": "2024-04-08T13:52:23.112Z"
   },
   {
    "duration": 6,
    "start_time": "2024-04-08T13:52:23.164Z"
   },
   {
    "duration": 55,
    "start_time": "2024-04-08T13:52:23.172Z"
   },
   {
    "duration": 1207,
    "start_time": "2024-04-08T13:52:23.229Z"
   },
   {
    "duration": 0,
    "start_time": "2024-04-08T13:52:24.437Z"
   },
   {
    "duration": 0,
    "start_time": "2024-04-08T13:52:24.439Z"
   },
   {
    "duration": 0,
    "start_time": "2024-04-08T13:52:24.440Z"
   },
   {
    "duration": 540,
    "start_time": "2024-04-08T14:01:46.505Z"
   },
   {
    "duration": 6,
    "start_time": "2024-04-08T14:10:45.271Z"
   },
   {
    "duration": 7,
    "start_time": "2024-04-08T14:29:11.538Z"
   },
   {
    "duration": 6,
    "start_time": "2024-04-08T14:32:36.484Z"
   },
   {
    "duration": 5,
    "start_time": "2024-04-08T14:39:43.201Z"
   },
   {
    "duration": 6,
    "start_time": "2024-04-08T14:40:13.432Z"
   },
   {
    "duration": 7,
    "start_time": "2024-04-08T14:42:52.714Z"
   },
   {
    "duration": 53,
    "start_time": "2024-04-08T17:37:12.103Z"
   },
   {
    "duration": 8,
    "start_time": "2024-04-08T17:37:19.726Z"
   },
   {
    "duration": 7,
    "start_time": "2024-04-08T17:37:43.206Z"
   },
   {
    "duration": 9,
    "start_time": "2024-04-08T19:40:00.226Z"
   },
   {
    "duration": 8,
    "start_time": "2024-04-08T19:41:16.411Z"
   },
   {
    "duration": 7,
    "start_time": "2024-04-08T19:41:42.941Z"
   },
   {
    "duration": 8,
    "start_time": "2024-04-08T19:49:46.817Z"
   },
   {
    "duration": 6,
    "start_time": "2024-04-08T19:49:58.961Z"
   },
   {
    "duration": 911,
    "start_time": "2024-04-08T20:00:59.084Z"
   },
   {
    "duration": 898,
    "start_time": "2024-04-08T20:02:27.885Z"
   },
   {
    "duration": 21,
    "start_time": "2024-04-08T20:11:34.222Z"
   },
   {
    "duration": 919,
    "start_time": "2024-04-08T20:12:30.949Z"
   },
   {
    "duration": 11,
    "start_time": "2024-04-08T20:13:20.966Z"
   },
   {
    "duration": 32,
    "start_time": "2024-04-08T20:14:36.471Z"
   },
   {
    "duration": 13,
    "start_time": "2024-04-08T20:15:24.456Z"
   },
   {
    "duration": 2074,
    "start_time": "2024-04-08T20:28:13.490Z"
   },
   {
    "duration": 44,
    "start_time": "2024-04-09T14:03:44.568Z"
   },
   {
    "duration": 1314,
    "start_time": "2024-04-09T14:03:58.776Z"
   },
   {
    "duration": 3,
    "start_time": "2024-04-09T14:04:00.092Z"
   },
   {
    "duration": 364,
    "start_time": "2024-04-09T14:04:00.096Z"
   },
   {
    "duration": 23,
    "start_time": "2024-04-09T14:04:00.462Z"
   },
   {
    "duration": 92,
    "start_time": "2024-04-09T14:04:00.486Z"
   },
   {
    "duration": 110,
    "start_time": "2024-04-09T14:04:00.579Z"
   },
   {
    "duration": 201,
    "start_time": "2024-04-09T14:04:00.690Z"
   },
   {
    "duration": 92,
    "start_time": "2024-04-09T14:04:00.893Z"
   },
   {
    "duration": 296,
    "start_time": "2024-04-09T14:04:00.986Z"
   },
   {
    "duration": 424,
    "start_time": "2024-04-09T14:04:01.284Z"
   },
   {
    "duration": 438,
    "start_time": "2024-04-09T14:04:01.710Z"
   },
   {
    "duration": 271,
    "start_time": "2024-04-09T14:04:02.150Z"
   },
   {
    "duration": 36,
    "start_time": "2024-04-09T14:04:02.423Z"
   },
   {
    "duration": 146,
    "start_time": "2024-04-09T14:04:02.461Z"
   },
   {
    "duration": 162,
    "start_time": "2024-04-09T14:04:02.609Z"
   },
   {
    "duration": 552,
    "start_time": "2024-04-09T14:04:02.772Z"
   },
   {
    "duration": 49,
    "start_time": "2024-04-09T14:04:03.326Z"
   },
   {
    "duration": 574,
    "start_time": "2024-04-09T14:04:03.376Z"
   },
   {
    "duration": 10,
    "start_time": "2024-04-09T14:04:03.952Z"
   },
   {
    "duration": 51,
    "start_time": "2024-04-09T14:04:03.963Z"
   },
   {
    "duration": 35,
    "start_time": "2024-04-09T14:04:04.016Z"
   },
   {
    "duration": 13,
    "start_time": "2024-04-09T14:04:04.052Z"
   },
   {
    "duration": 41,
    "start_time": "2024-04-09T14:04:04.067Z"
   },
   {
    "duration": 1935,
    "start_time": "2024-04-09T14:04:04.110Z"
   },
   {
    "duration": 2166,
    "start_time": "2024-04-09T14:04:06.047Z"
   },
   {
    "duration": 2,
    "start_time": "2024-04-09T14:04:08.215Z"
   },
   {
    "duration": 246,
    "start_time": "2024-04-09T14:24:28.776Z"
   },
   {
    "duration": 117,
    "start_time": "2024-04-09T14:26:50.450Z"
   },
   {
    "duration": 339,
    "start_time": "2024-04-09T14:27:20.580Z"
   },
   {
    "duration": 371,
    "start_time": "2024-04-09T14:27:50.187Z"
   },
   {
    "duration": 87,
    "start_time": "2024-04-09T14:28:30.733Z"
   },
   {
    "duration": 77,
    "start_time": "2024-04-09T14:28:47.284Z"
   },
   {
    "duration": 1106,
    "start_time": "2024-04-09T14:28:54.059Z"
   },
   {
    "duration": 3,
    "start_time": "2024-04-09T14:28:55.167Z"
   },
   {
    "duration": 112,
    "start_time": "2024-04-09T14:28:55.171Z"
   },
   {
    "duration": 25,
    "start_time": "2024-04-09T14:28:55.285Z"
   },
   {
    "duration": 10,
    "start_time": "2024-04-09T14:28:55.312Z"
   },
   {
    "duration": 76,
    "start_time": "2024-04-09T14:28:55.324Z"
   },
   {
    "duration": 213,
    "start_time": "2024-04-09T14:28:55.402Z"
   },
   {
    "duration": 93,
    "start_time": "2024-04-09T14:28:55.616Z"
   },
   {
    "duration": 266,
    "start_time": "2024-04-09T14:28:55.711Z"
   },
   {
    "duration": 416,
    "start_time": "2024-04-09T14:28:55.979Z"
   },
   {
    "duration": 420,
    "start_time": "2024-04-09T14:28:56.397Z"
   },
   {
    "duration": 277,
    "start_time": "2024-04-09T14:28:56.818Z"
   },
   {
    "duration": 19,
    "start_time": "2024-04-09T14:28:57.096Z"
   },
   {
    "duration": 73,
    "start_time": "2024-04-09T14:28:57.117Z"
   },
   {
    "duration": 137,
    "start_time": "2024-04-09T14:28:57.191Z"
   },
   {
    "duration": 586,
    "start_time": "2024-04-09T14:28:57.329Z"
   },
   {
    "duration": 49,
    "start_time": "2024-04-09T14:28:57.917Z"
   },
   {
    "duration": 548,
    "start_time": "2024-04-09T14:28:57.968Z"
   },
   {
    "duration": 7,
    "start_time": "2024-04-09T14:28:58.518Z"
   },
   {
    "duration": 5,
    "start_time": "2024-04-09T14:28:58.526Z"
   },
   {
    "duration": 49,
    "start_time": "2024-04-09T14:28:58.533Z"
   },
   {
    "duration": 12,
    "start_time": "2024-04-09T14:28:58.584Z"
   },
   {
    "duration": 21,
    "start_time": "2024-04-09T14:28:58.597Z"
   },
   {
    "duration": 1941,
    "start_time": "2024-04-09T14:28:58.620Z"
   },
   {
    "duration": 91,
    "start_time": "2024-04-09T14:29:00.562Z"
   },
   {
    "duration": 1,
    "start_time": "2024-04-09T14:29:00.654Z"
   },
   {
    "duration": 79,
    "start_time": "2024-04-09T14:29:44.542Z"
   },
   {
    "duration": 247,
    "start_time": "2024-04-09T14:30:30.094Z"
   },
   {
    "duration": 1597,
    "start_time": "2024-04-09T14:30:57.830Z"
   },
   {
    "duration": 388,
    "start_time": "2024-04-09T14:31:34.568Z"
   },
   {
    "duration": 651,
    "start_time": "2024-04-09T16:25:55.265Z"
   },
   {
    "duration": 380,
    "start_time": "2024-04-09T16:26:45.184Z"
   },
   {
    "duration": 374,
    "start_time": "2024-04-09T16:27:19.490Z"
   },
   {
    "duration": 516,
    "start_time": "2024-04-09T16:27:48.089Z"
   },
   {
    "duration": 377,
    "start_time": "2024-04-09T16:28:50.130Z"
   },
   {
    "duration": 508,
    "start_time": "2024-04-09T16:29:14.698Z"
   },
   {
    "duration": 432,
    "start_time": "2024-04-09T16:29:41.562Z"
   },
   {
    "duration": 452,
    "start_time": "2024-04-09T16:33:25.686Z"
   },
   {
    "duration": 378,
    "start_time": "2024-04-09T16:43:52.767Z"
   },
   {
    "duration": 401,
    "start_time": "2024-04-09T16:45:30.514Z"
   },
   {
    "duration": 480,
    "start_time": "2024-04-09T16:48:37.298Z"
   },
   {
    "duration": 564,
    "start_time": "2024-04-09T16:49:28.490Z"
   },
   {
    "duration": 390,
    "start_time": "2024-04-09T16:49:48.964Z"
   },
   {
    "duration": 411,
    "start_time": "2024-04-09T16:50:14.660Z"
   },
   {
    "duration": 395,
    "start_time": "2024-04-09T16:51:13.092Z"
   },
   {
    "duration": 184,
    "start_time": "2024-04-09T16:54:27.151Z"
   },
   {
    "duration": 309,
    "start_time": "2024-04-09T16:54:52.127Z"
   },
   {
    "duration": 197,
    "start_time": "2024-04-09T16:55:25.816Z"
   },
   {
    "duration": 180,
    "start_time": "2024-04-09T16:55:35.392Z"
   },
   {
    "duration": 181,
    "start_time": "2024-04-09T16:55:42.960Z"
   },
   {
    "duration": 179,
    "start_time": "2024-04-09T16:56:29.143Z"
   },
   {
    "duration": 158,
    "start_time": "2024-04-09T16:56:39.072Z"
   },
   {
    "duration": 168,
    "start_time": "2024-04-09T16:56:53.824Z"
   },
   {
    "duration": 168,
    "start_time": "2024-04-09T16:58:00.041Z"
   },
   {
    "duration": 162,
    "start_time": "2024-04-09T16:58:07.793Z"
   },
   {
    "duration": 173,
    "start_time": "2024-04-09T16:58:24.081Z"
   },
   {
    "duration": 167,
    "start_time": "2024-04-09T16:58:46.994Z"
   },
   {
    "duration": 309,
    "start_time": "2024-04-09T16:58:56.034Z"
   },
   {
    "duration": 167,
    "start_time": "2024-04-09T16:59:05.882Z"
   },
   {
    "duration": 163,
    "start_time": "2024-04-09T16:59:12.411Z"
   },
   {
    "duration": 174,
    "start_time": "2024-04-09T17:00:21.419Z"
   },
   {
    "duration": 91,
    "start_time": "2024-04-09T17:37:40.964Z"
   },
   {
    "duration": 158,
    "start_time": "2024-04-09T17:37:49.547Z"
   },
   {
    "duration": 151,
    "start_time": "2024-04-09T17:38:21.740Z"
   },
   {
    "duration": 162,
    "start_time": "2024-04-09T17:39:23.820Z"
   },
   {
    "duration": 167,
    "start_time": "2024-04-09T17:39:31.846Z"
   },
   {
    "duration": 165,
    "start_time": "2024-04-09T17:40:21.158Z"
   },
   {
    "duration": 159,
    "start_time": "2024-04-09T17:40:31.670Z"
   },
   {
    "duration": 150,
    "start_time": "2024-04-09T17:40:43.874Z"
   },
   {
    "duration": 154,
    "start_time": "2024-04-09T17:40:52.999Z"
   },
   {
    "duration": 170,
    "start_time": "2024-04-09T17:42:50.537Z"
   },
   {
    "duration": 373,
    "start_time": "2024-04-09T17:43:54.369Z"
   },
   {
    "duration": 210,
    "start_time": "2024-04-09T17:45:25.682Z"
   },
   {
    "duration": 699,
    "start_time": "2024-04-09T17:46:34.572Z"
   },
   {
    "duration": 1955,
    "start_time": "2024-04-09T17:47:18.492Z"
   },
   {
    "duration": 14980,
    "start_time": "2024-04-09T17:48:30.445Z"
   },
   {
    "duration": 242,
    "start_time": "2024-04-09T17:48:48.501Z"
   },
   {
    "duration": 223,
    "start_time": "2024-04-09T17:49:56.759Z"
   },
   {
    "duration": 1367,
    "start_time": "2024-04-09T17:50:40.575Z"
   },
   {
    "duration": 15495,
    "start_time": "2024-04-09T17:50:50.200Z"
   },
   {
    "duration": 249,
    "start_time": "2024-04-09T17:51:49.071Z"
   },
   {
    "duration": 181,
    "start_time": "2024-04-09T17:56:11.308Z"
   },
   {
    "duration": 1109,
    "start_time": "2024-04-09T17:56:47.345Z"
   },
   {
    "duration": 3,
    "start_time": "2024-04-09T17:56:48.456Z"
   },
   {
    "duration": 105,
    "start_time": "2024-04-09T17:56:48.460Z"
   },
   {
    "duration": 25,
    "start_time": "2024-04-09T17:56:48.566Z"
   },
   {
    "duration": 9,
    "start_time": "2024-04-09T17:56:48.592Z"
   },
   {
    "duration": 70,
    "start_time": "2024-04-09T17:56:48.603Z"
   },
   {
    "duration": 192,
    "start_time": "2024-04-09T17:56:48.675Z"
   },
   {
    "duration": 96,
    "start_time": "2024-04-09T17:56:48.868Z"
   },
   {
    "duration": 257,
    "start_time": "2024-04-09T17:56:48.966Z"
   },
   {
    "duration": 413,
    "start_time": "2024-04-09T17:56:49.226Z"
   },
   {
    "duration": 435,
    "start_time": "2024-04-09T17:56:49.641Z"
   },
   {
    "duration": 273,
    "start_time": "2024-04-09T17:56:50.077Z"
   },
   {
    "duration": 20,
    "start_time": "2024-04-09T17:56:50.352Z"
   },
   {
    "duration": 53,
    "start_time": "2024-04-09T17:56:50.373Z"
   },
   {
    "duration": 159,
    "start_time": "2024-04-09T17:56:50.427Z"
   },
   {
    "duration": 585,
    "start_time": "2024-04-09T17:56:50.588Z"
   },
   {
    "duration": 45,
    "start_time": "2024-04-09T17:56:51.175Z"
   },
   {
    "duration": 589,
    "start_time": "2024-04-09T17:56:51.222Z"
   },
   {
    "duration": 7,
    "start_time": "2024-04-09T17:56:51.812Z"
   },
   {
    "duration": 23,
    "start_time": "2024-04-09T17:56:51.820Z"
   },
   {
    "duration": 38,
    "start_time": "2024-04-09T17:56:51.844Z"
   },
   {
    "duration": 13,
    "start_time": "2024-04-09T17:56:51.884Z"
   },
   {
    "duration": 35,
    "start_time": "2024-04-09T17:56:51.898Z"
   },
   {
    "duration": 1933,
    "start_time": "2024-04-09T17:56:51.935Z"
   },
   {
    "duration": 212,
    "start_time": "2024-04-09T17:56:53.869Z"
   },
   {
    "duration": 179,
    "start_time": "2024-04-09T17:58:47.742Z"
   },
   {
    "duration": 174,
    "start_time": "2024-04-09T17:59:24.390Z"
   },
   {
    "duration": 176,
    "start_time": "2024-04-09T17:59:38.159Z"
   },
   {
    "duration": 174,
    "start_time": "2024-04-09T17:59:51.470Z"
   },
   {
    "duration": 181,
    "start_time": "2024-04-09T18:00:13.951Z"
   },
   {
    "duration": 280,
    "start_time": "2024-04-09T18:00:44.822Z"
   },
   {
    "duration": 183,
    "start_time": "2024-04-09T18:01:14.342Z"
   },
   {
    "duration": 185,
    "start_time": "2024-04-09T18:01:50.039Z"
   },
   {
    "duration": 166,
    "start_time": "2024-04-09T18:02:02.992Z"
   },
   {
    "duration": 178,
    "start_time": "2024-04-09T18:02:18.583Z"
   },
   {
    "duration": 196,
    "start_time": "2024-04-09T18:02:31.008Z"
   },
   {
    "duration": 177,
    "start_time": "2024-04-09T18:02:38.519Z"
   },
   {
    "duration": 151,
    "start_time": "2024-04-09T18:02:47.656Z"
   },
   {
    "duration": 179,
    "start_time": "2024-04-09T18:03:00.520Z"
   },
   {
    "duration": 158,
    "start_time": "2024-04-09T18:03:09.567Z"
   },
   {
    "duration": 121,
    "start_time": "2024-04-09T18:10:57.891Z"
   },
   {
    "duration": 289,
    "start_time": "2024-04-09T18:11:10.131Z"
   },
   {
    "duration": 262,
    "start_time": "2024-04-09T18:16:39.350Z"
   },
   {
    "duration": 1096,
    "start_time": "2024-04-09T21:21:36.678Z"
   },
   {
    "duration": 3,
    "start_time": "2024-04-09T21:21:37.775Z"
   },
   {
    "duration": 117,
    "start_time": "2024-04-09T21:21:37.779Z"
   },
   {
    "duration": 24,
    "start_time": "2024-04-09T21:21:37.898Z"
   },
   {
    "duration": 8,
    "start_time": "2024-04-09T21:21:37.924Z"
   },
   {
    "duration": 82,
    "start_time": "2024-04-09T21:21:37.933Z"
   },
   {
    "duration": 194,
    "start_time": "2024-04-09T21:21:38.017Z"
   },
   {
    "duration": 88,
    "start_time": "2024-04-09T21:21:38.212Z"
   },
   {
    "duration": 258,
    "start_time": "2024-04-09T21:21:38.302Z"
   },
   {
    "duration": 410,
    "start_time": "2024-04-09T21:21:38.562Z"
   },
   {
    "duration": 414,
    "start_time": "2024-04-09T21:21:38.974Z"
   },
   {
    "duration": 276,
    "start_time": "2024-04-09T21:21:39.390Z"
   },
   {
    "duration": 17,
    "start_time": "2024-04-09T21:21:39.668Z"
   },
   {
    "duration": 51,
    "start_time": "2024-04-09T21:21:39.688Z"
   },
   {
    "duration": 189,
    "start_time": "2024-04-09T21:21:39.741Z"
   },
   {
    "duration": 0,
    "start_time": "2024-04-09T21:21:39.932Z"
   },
   {
    "duration": 0,
    "start_time": "2024-04-09T21:21:39.932Z"
   },
   {
    "duration": 0,
    "start_time": "2024-04-09T21:21:39.934Z"
   },
   {
    "duration": 0,
    "start_time": "2024-04-09T21:21:39.934Z"
   },
   {
    "duration": 0,
    "start_time": "2024-04-09T21:21:39.935Z"
   },
   {
    "duration": 0,
    "start_time": "2024-04-09T21:21:39.937Z"
   },
   {
    "duration": 0,
    "start_time": "2024-04-09T21:21:39.937Z"
   },
   {
    "duration": 0,
    "start_time": "2024-04-09T21:21:39.938Z"
   },
   {
    "duration": 0,
    "start_time": "2024-04-09T21:21:39.939Z"
   },
   {
    "duration": 0,
    "start_time": "2024-04-09T21:21:39.958Z"
   },
   {
    "duration": 216,
    "start_time": "2024-04-09T21:22:30.692Z"
   },
   {
    "duration": 1115,
    "start_time": "2024-04-09T21:23:25.812Z"
   },
   {
    "duration": 2,
    "start_time": "2024-04-09T21:23:26.929Z"
   },
   {
    "duration": 105,
    "start_time": "2024-04-09T21:23:26.933Z"
   },
   {
    "duration": 26,
    "start_time": "2024-04-09T21:23:27.039Z"
   },
   {
    "duration": 10,
    "start_time": "2024-04-09T21:23:27.067Z"
   },
   {
    "duration": 56,
    "start_time": "2024-04-09T21:23:27.079Z"
   },
   {
    "duration": 196,
    "start_time": "2024-04-09T21:23:27.136Z"
   },
   {
    "duration": 88,
    "start_time": "2024-04-09T21:23:27.333Z"
   },
   {
    "duration": 287,
    "start_time": "2024-04-09T21:23:27.423Z"
   },
   {
    "duration": 435,
    "start_time": "2024-04-09T21:23:27.712Z"
   },
   {
    "duration": 413,
    "start_time": "2024-04-09T21:23:28.148Z"
   },
   {
    "duration": 264,
    "start_time": "2024-04-09T21:23:28.563Z"
   },
   {
    "duration": 30,
    "start_time": "2024-04-09T21:23:28.829Z"
   },
   {
    "duration": 52,
    "start_time": "2024-04-09T21:23:28.862Z"
   },
   {
    "duration": 160,
    "start_time": "2024-04-09T21:23:28.916Z"
   },
   {
    "duration": 675,
    "start_time": "2024-04-09T21:23:29.078Z"
   },
   {
    "duration": 41,
    "start_time": "2024-04-09T21:23:29.758Z"
   },
   {
    "duration": 611,
    "start_time": "2024-04-09T21:23:29.801Z"
   },
   {
    "duration": 15,
    "start_time": "2024-04-09T21:23:30.414Z"
   },
   {
    "duration": 78,
    "start_time": "2024-04-09T21:23:30.431Z"
   },
   {
    "duration": 94,
    "start_time": "2024-04-09T21:23:30.511Z"
   },
   {
    "duration": 38,
    "start_time": "2024-04-09T21:23:30.607Z"
   },
   {
    "duration": 85,
    "start_time": "2024-04-09T21:23:30.646Z"
   },
   {
    "duration": 1981,
    "start_time": "2024-04-09T21:23:30.732Z"
   },
   {
    "duration": 303,
    "start_time": "2024-04-09T21:23:32.715Z"
   },
   {
    "duration": 64,
    "start_time": "2024-04-10T13:27:47.196Z"
   },
   {
    "duration": 1420,
    "start_time": "2024-04-10T13:27:56.837Z"
   },
   {
    "duration": 3,
    "start_time": "2024-04-10T13:27:58.259Z"
   },
   {
    "duration": 256,
    "start_time": "2024-04-10T13:27:58.264Z"
   },
   {
    "duration": 24,
    "start_time": "2024-04-10T13:27:58.522Z"
   },
   {
    "duration": 9,
    "start_time": "2024-04-10T13:27:58.548Z"
   },
   {
    "duration": 71,
    "start_time": "2024-04-10T13:27:58.559Z"
   },
   {
    "duration": 221,
    "start_time": "2024-04-10T13:27:58.631Z"
   },
   {
    "duration": 94,
    "start_time": "2024-04-10T13:27:58.859Z"
   },
   {
    "duration": 273,
    "start_time": "2024-04-10T13:27:58.954Z"
   },
   {
    "duration": 430,
    "start_time": "2024-04-10T13:27:59.229Z"
   },
   {
    "duration": 441,
    "start_time": "2024-04-10T13:27:59.661Z"
   },
   {
    "duration": 301,
    "start_time": "2024-04-10T13:28:00.104Z"
   },
   {
    "duration": 25,
    "start_time": "2024-04-10T13:28:00.406Z"
   },
   {
    "duration": 83,
    "start_time": "2024-04-10T13:28:00.433Z"
   },
   {
    "duration": 241,
    "start_time": "2024-04-10T13:28:00.518Z"
   },
   {
    "duration": 758,
    "start_time": "2024-04-10T13:28:00.761Z"
   },
   {
    "duration": 44,
    "start_time": "2024-04-10T13:28:01.521Z"
   },
   {
    "duration": 638,
    "start_time": "2024-04-10T13:28:01.566Z"
   },
   {
    "duration": 11,
    "start_time": "2024-04-10T13:28:02.205Z"
   },
   {
    "duration": 113,
    "start_time": "2024-04-10T13:28:02.217Z"
   },
   {
    "duration": 89,
    "start_time": "2024-04-10T13:28:02.332Z"
   },
   {
    "duration": 89,
    "start_time": "2024-04-10T13:28:02.423Z"
   },
   {
    "duration": 47,
    "start_time": "2024-04-10T13:28:02.514Z"
   },
   {
    "duration": 2019,
    "start_time": "2024-04-10T13:28:02.563Z"
   },
   {
    "duration": 189,
    "start_time": "2024-04-10T13:28:04.584Z"
   },
   {
    "duration": 99,
    "start_time": "2024-04-10T13:30:39.988Z"
   },
   {
    "duration": 9,
    "start_time": "2024-04-10T13:33:31.539Z"
   },
   {
    "duration": 8,
    "start_time": "2024-04-10T13:33:39.454Z"
   },
   {
    "duration": 181,
    "start_time": "2024-04-10T13:47:46.239Z"
   },
   {
    "duration": 183,
    "start_time": "2024-04-10T13:47:59.039Z"
   },
   {
    "duration": 192,
    "start_time": "2024-04-10T13:48:17.031Z"
   },
   {
    "duration": 190,
    "start_time": "2024-04-10T13:51:52.938Z"
   },
   {
    "duration": 53,
    "start_time": "2024-04-10T13:53:15.676Z"
   },
   {
    "duration": 212,
    "start_time": "2024-04-10T13:53:46.915Z"
   },
   {
    "duration": 296,
    "start_time": "2024-04-10T13:54:07.644Z"
   },
   {
    "duration": 239,
    "start_time": "2024-04-10T13:57:34.776Z"
   },
   {
    "duration": 2013,
    "start_time": "2024-04-10T14:00:43.515Z"
   },
   {
    "duration": 1970,
    "start_time": "2024-04-10T14:01:12.370Z"
   },
   {
    "duration": 84,
    "start_time": "2024-04-10T15:41:12.164Z"
   },
   {
    "duration": 2653,
    "start_time": "2024-04-10T15:41:21.115Z"
   },
   {
    "duration": 33352,
    "start_time": "2024-04-10T15:46:29.170Z"
   },
   {
    "duration": 2016,
    "start_time": "2024-04-10T15:47:55.297Z"
   },
   {
    "duration": 1957,
    "start_time": "2024-04-10T15:48:20.033Z"
   },
   {
    "duration": 6586,
    "start_time": "2024-04-10T15:49:34.634Z"
   },
   {
    "duration": 1475,
    "start_time": "2024-04-10T15:49:53.795Z"
   },
   {
    "duration": 1367,
    "start_time": "2024-04-10T15:50:16.339Z"
   },
   {
    "duration": 212,
    "start_time": "2024-04-10T15:51:42.508Z"
   },
   {
    "duration": 208,
    "start_time": "2024-04-10T15:52:19.792Z"
   },
   {
    "duration": 210,
    "start_time": "2024-04-10T15:53:15.077Z"
   },
   {
    "duration": 7,
    "start_time": "2024-04-10T16:03:32.998Z"
   },
   {
    "duration": 12,
    "start_time": "2024-04-10T16:04:37.143Z"
   },
   {
    "duration": 9,
    "start_time": "2024-04-10T16:04:54.295Z"
   },
   {
    "duration": 5,
    "start_time": "2024-04-10T16:06:04.432Z"
   },
   {
    "duration": 33552,
    "start_time": "2024-04-10T16:08:52.972Z"
   },
   {
    "duration": 3937,
    "start_time": "2024-04-10T16:16:18.745Z"
   },
   {
    "duration": 4028,
    "start_time": "2024-04-10T16:17:20.712Z"
   },
   {
    "duration": 4071,
    "start_time": "2024-04-10T16:18:32.747Z"
   },
   {
    "duration": 4254,
    "start_time": "2024-04-10T16:19:31.235Z"
   },
   {
    "duration": 4904,
    "start_time": "2024-04-10T16:19:52.132Z"
   },
   {
    "duration": 4742,
    "start_time": "2024-04-10T16:21:48.509Z"
   },
   {
    "duration": 1168,
    "start_time": "2024-04-10T21:02:45.558Z"
   },
   {
    "duration": 4,
    "start_time": "2024-04-10T21:02:46.727Z"
   },
   {
    "duration": 128,
    "start_time": "2024-04-10T21:02:46.733Z"
   },
   {
    "duration": 34,
    "start_time": "2024-04-10T21:02:46.864Z"
   },
   {
    "duration": 11,
    "start_time": "2024-04-10T21:02:46.915Z"
   },
   {
    "duration": 55,
    "start_time": "2024-04-10T21:02:46.928Z"
   },
   {
    "duration": 225,
    "start_time": "2024-04-10T21:02:46.985Z"
   },
   {
    "duration": 86,
    "start_time": "2024-04-10T21:02:47.215Z"
   },
   {
    "duration": 265,
    "start_time": "2024-04-10T21:02:47.315Z"
   },
   {
    "duration": 432,
    "start_time": "2024-04-10T21:02:47.584Z"
   },
   {
    "duration": 504,
    "start_time": "2024-04-10T21:02:48.018Z"
   },
   {
    "duration": 302,
    "start_time": "2024-04-10T21:02:48.524Z"
   },
   {
    "duration": 20,
    "start_time": "2024-04-10T21:02:48.828Z"
   },
   {
    "duration": 76,
    "start_time": "2024-04-10T21:02:48.850Z"
   },
   {
    "duration": 152,
    "start_time": "2024-04-10T21:02:48.928Z"
   },
   {
    "duration": 735,
    "start_time": "2024-04-10T21:02:49.082Z"
   },
   {
    "duration": 44,
    "start_time": "2024-04-10T21:02:49.819Z"
   },
   {
    "duration": 598,
    "start_time": "2024-04-10T21:02:49.865Z"
   },
   {
    "duration": 7,
    "start_time": "2024-04-10T21:02:50.464Z"
   },
   {
    "duration": 22,
    "start_time": "2024-04-10T21:02:50.473Z"
   },
   {
    "duration": 32,
    "start_time": "2024-04-10T21:02:50.497Z"
   },
   {
    "duration": 13,
    "start_time": "2024-04-10T21:02:50.531Z"
   },
   {
    "duration": 25,
    "start_time": "2024-04-10T21:02:50.546Z"
   },
   {
    "duration": 228,
    "start_time": "2024-04-10T21:02:50.573Z"
   },
   {
    "duration": 216,
    "start_time": "2024-04-10T21:02:50.803Z"
   },
   {
    "duration": 4704,
    "start_time": "2024-04-10T21:02:51.021Z"
   },
   {
    "duration": 519,
    "start_time": "2024-04-10T21:04:14.691Z"
   },
   {
    "duration": 7,
    "start_time": "2024-04-10T21:04:33.053Z"
   },
   {
    "duration": 7,
    "start_time": "2024-04-10T21:05:22.503Z"
   },
   {
    "duration": 6,
    "start_time": "2024-04-10T21:05:27.268Z"
   },
   {
    "duration": 31,
    "start_time": "2024-04-10T21:06:03.229Z"
   },
   {
    "duration": 13,
    "start_time": "2024-04-10T21:06:20.974Z"
   },
   {
    "duration": 31,
    "start_time": "2024-04-10T21:07:10.992Z"
   },
   {
    "duration": 1078,
    "start_time": "2024-04-10T22:04:52.951Z"
   },
   {
    "duration": 3,
    "start_time": "2024-04-10T22:04:54.030Z"
   },
   {
    "duration": 109,
    "start_time": "2024-04-10T22:04:54.035Z"
   },
   {
    "duration": 26,
    "start_time": "2024-04-10T22:04:54.145Z"
   },
   {
    "duration": 10,
    "start_time": "2024-04-10T22:04:54.173Z"
   },
   {
    "duration": 77,
    "start_time": "2024-04-10T22:04:54.185Z"
   },
   {
    "duration": 220,
    "start_time": "2024-04-10T22:04:54.264Z"
   },
   {
    "duration": 92,
    "start_time": "2024-04-10T22:04:54.486Z"
   },
   {
    "duration": 273,
    "start_time": "2024-04-10T22:04:54.579Z"
   },
   {
    "duration": 423,
    "start_time": "2024-04-10T22:04:54.854Z"
   },
   {
    "duration": 459,
    "start_time": "2024-04-10T22:04:55.278Z"
   },
   {
    "duration": 304,
    "start_time": "2024-04-10T22:04:55.739Z"
   },
   {
    "duration": 21,
    "start_time": "2024-04-10T22:04:56.045Z"
   },
   {
    "duration": 69,
    "start_time": "2024-04-10T22:04:56.070Z"
   },
   {
    "duration": 150,
    "start_time": "2024-04-10T22:04:56.140Z"
   },
   {
    "duration": 701,
    "start_time": "2024-04-10T22:04:56.291Z"
   },
   {
    "duration": 52,
    "start_time": "2024-04-10T22:04:56.994Z"
   },
   {
    "duration": 584,
    "start_time": "2024-04-10T22:04:57.048Z"
   },
   {
    "duration": 9,
    "start_time": "2024-04-10T22:04:57.634Z"
   },
   {
    "duration": 18,
    "start_time": "2024-04-10T22:04:57.644Z"
   },
   {
    "duration": 41,
    "start_time": "2024-04-10T22:04:57.663Z"
   },
   {
    "duration": 17,
    "start_time": "2024-04-10T22:04:57.706Z"
   },
   {
    "duration": 24,
    "start_time": "2024-04-10T22:04:57.725Z"
   },
   {
    "duration": 228,
    "start_time": "2024-04-10T22:04:57.751Z"
   },
   {
    "duration": 222,
    "start_time": "2024-04-10T22:04:57.981Z"
   },
   {
    "duration": 4622,
    "start_time": "2024-04-10T22:04:58.205Z"
   },
   {
    "duration": 4562,
    "start_time": "2024-04-10T22:11:18.689Z"
   },
   {
    "duration": 4550,
    "start_time": "2024-04-10T22:12:19.002Z"
   },
   {
    "duration": 4656,
    "start_time": "2024-04-10T22:12:35.539Z"
   },
   {
    "duration": 1123,
    "start_time": "2024-04-10T22:13:39.692Z"
   },
   {
    "duration": 3,
    "start_time": "2024-04-10T22:13:40.817Z"
   },
   {
    "duration": 118,
    "start_time": "2024-04-10T22:13:40.822Z"
   },
   {
    "duration": 24,
    "start_time": "2024-04-10T22:13:40.942Z"
   },
   {
    "duration": 9,
    "start_time": "2024-04-10T22:13:40.968Z"
   },
   {
    "duration": 81,
    "start_time": "2024-04-10T22:13:40.978Z"
   },
   {
    "duration": 204,
    "start_time": "2024-04-10T22:13:41.060Z"
   },
   {
    "duration": 94,
    "start_time": "2024-04-10T22:13:41.265Z"
   },
   {
    "duration": 262,
    "start_time": "2024-04-10T22:13:41.361Z"
   },
   {
    "duration": 422,
    "start_time": "2024-04-10T22:13:41.625Z"
   },
   {
    "duration": 440,
    "start_time": "2024-04-10T22:13:42.049Z"
   },
   {
    "duration": 271,
    "start_time": "2024-04-10T22:13:42.491Z"
   },
   {
    "duration": 20,
    "start_time": "2024-04-10T22:13:42.763Z"
   },
   {
    "duration": 73,
    "start_time": "2024-04-10T22:13:42.785Z"
   },
   {
    "duration": 167,
    "start_time": "2024-04-10T22:13:42.860Z"
   },
   {
    "duration": 696,
    "start_time": "2024-04-10T22:13:43.029Z"
   },
   {
    "duration": 42,
    "start_time": "2024-04-10T22:13:43.727Z"
   },
   {
    "duration": 585,
    "start_time": "2024-04-10T22:13:43.770Z"
   },
   {
    "duration": 6,
    "start_time": "2024-04-10T22:13:44.357Z"
   },
   {
    "duration": 5,
    "start_time": "2024-04-10T22:13:44.364Z"
   },
   {
    "duration": 50,
    "start_time": "2024-04-10T22:13:44.370Z"
   },
   {
    "duration": 13,
    "start_time": "2024-04-10T22:13:44.422Z"
   },
   {
    "duration": 27,
    "start_time": "2024-04-10T22:13:44.437Z"
   },
   {
    "duration": 229,
    "start_time": "2024-04-10T22:13:44.465Z"
   },
   {
    "duration": 234,
    "start_time": "2024-04-10T22:13:44.695Z"
   },
   {
    "duration": 4592,
    "start_time": "2024-04-10T22:13:44.930Z"
   },
   {
    "duration": 987,
    "start_time": "2024-04-10T22:51:52.661Z"
   },
   {
    "duration": 3,
    "start_time": "2024-04-10T22:51:53.649Z"
   },
   {
    "duration": 250,
    "start_time": "2024-04-10T22:51:53.653Z"
   },
   {
    "duration": 28,
    "start_time": "2024-04-10T22:51:53.904Z"
   },
   {
    "duration": 10,
    "start_time": "2024-04-10T22:51:53.933Z"
   },
   {
    "duration": 59,
    "start_time": "2024-04-10T22:51:53.944Z"
   },
   {
    "duration": 193,
    "start_time": "2024-04-10T22:51:54.004Z"
   },
   {
    "duration": 79,
    "start_time": "2024-04-10T22:51:54.199Z"
   },
   {
    "duration": 220,
    "start_time": "2024-04-10T22:51:54.280Z"
   },
   {
    "duration": 344,
    "start_time": "2024-04-10T22:51:54.502Z"
   },
   {
    "duration": 346,
    "start_time": "2024-04-10T22:51:54.847Z"
   },
   {
    "duration": 220,
    "start_time": "2024-04-10T22:51:55.194Z"
   },
   {
    "duration": 17,
    "start_time": "2024-04-10T22:51:55.416Z"
   },
   {
    "duration": 43,
    "start_time": "2024-04-10T22:51:55.434Z"
   },
   {
    "duration": 141,
    "start_time": "2024-04-10T22:51:55.478Z"
   },
   {
    "duration": 542,
    "start_time": "2024-04-10T22:51:55.620Z"
   },
   {
    "duration": 44,
    "start_time": "2024-04-10T22:51:56.163Z"
   },
   {
    "duration": 470,
    "start_time": "2024-04-10T22:51:56.209Z"
   },
   {
    "duration": 6,
    "start_time": "2024-04-10T22:51:56.681Z"
   },
   {
    "duration": 14,
    "start_time": "2024-04-10T22:51:56.688Z"
   },
   {
    "duration": 24,
    "start_time": "2024-04-10T22:51:56.703Z"
   },
   {
    "duration": 10,
    "start_time": "2024-04-10T22:51:56.729Z"
   },
   {
    "duration": 19,
    "start_time": "2024-04-10T22:51:56.740Z"
   },
   {
    "duration": 197,
    "start_time": "2024-04-10T22:51:56.761Z"
   },
   {
    "duration": 172,
    "start_time": "2024-04-10T22:51:56.959Z"
   },
   {
    "duration": 3905,
    "start_time": "2024-04-10T22:51:57.133Z"
   },
   {
    "duration": 1090,
    "start_time": "2024-04-10T22:52:37.276Z"
   },
   {
    "duration": 3,
    "start_time": "2024-04-10T22:52:38.368Z"
   },
   {
    "duration": 123,
    "start_time": "2024-04-10T22:52:38.373Z"
   },
   {
    "duration": 22,
    "start_time": "2024-04-10T22:52:38.497Z"
   },
   {
    "duration": 8,
    "start_time": "2024-04-10T22:52:38.521Z"
   },
   {
    "duration": 48,
    "start_time": "2024-04-10T22:52:38.530Z"
   },
   {
    "duration": 185,
    "start_time": "2024-04-10T22:52:38.580Z"
   },
   {
    "duration": 78,
    "start_time": "2024-04-10T22:52:38.766Z"
   },
   {
    "duration": 212,
    "start_time": "2024-04-10T22:52:38.846Z"
   },
   {
    "duration": 371,
    "start_time": "2024-04-10T22:52:39.060Z"
   },
   {
    "duration": 348,
    "start_time": "2024-04-10T22:52:39.432Z"
   },
   {
    "duration": 233,
    "start_time": "2024-04-10T22:52:39.782Z"
   },
   {
    "duration": 16,
    "start_time": "2024-04-10T22:52:40.016Z"
   },
   {
    "duration": 55,
    "start_time": "2024-04-10T22:52:40.035Z"
   },
   {
    "duration": 131,
    "start_time": "2024-04-10T22:52:40.092Z"
   },
   {
    "duration": 583,
    "start_time": "2024-04-10T22:52:40.224Z"
   },
   {
    "duration": 35,
    "start_time": "2024-04-10T22:52:40.808Z"
   },
   {
    "duration": 502,
    "start_time": "2024-04-10T22:52:40.845Z"
   },
   {
    "duration": 6,
    "start_time": "2024-04-10T22:52:41.348Z"
   },
   {
    "duration": 15,
    "start_time": "2024-04-10T22:52:41.355Z"
   },
   {
    "duration": 30,
    "start_time": "2024-04-10T22:52:41.372Z"
   },
   {
    "duration": 11,
    "start_time": "2024-04-10T22:52:41.404Z"
   },
   {
    "duration": 30,
    "start_time": "2024-04-10T22:52:41.416Z"
   },
   {
    "duration": 184,
    "start_time": "2024-04-10T22:52:41.448Z"
   },
   {
    "duration": 160,
    "start_time": "2024-04-10T22:52:41.634Z"
   },
   {
    "duration": 4002,
    "start_time": "2024-04-10T22:52:41.802Z"
   },
   {
    "duration": 38,
    "start_time": "2024-04-10T22:59:36.053Z"
   },
   {
    "duration": 74,
    "start_time": "2024-04-10T22:59:38.524Z"
   },
   {
    "duration": 183,
    "start_time": "2024-04-10T22:59:56.556Z"
   },
   {
    "duration": 146,
    "start_time": "2024-04-10T23:00:03.341Z"
   },
   {
    "duration": 92,
    "start_time": "2024-04-10T23:00:59.468Z"
   },
   {
    "duration": 81,
    "start_time": "2024-04-10T23:01:07.533Z"
   },
   {
    "duration": 12,
    "start_time": "2024-04-10T23:11:31.084Z"
   },
   {
    "duration": 8,
    "start_time": "2024-04-10T23:11:58.361Z"
   },
   {
    "duration": 13,
    "start_time": "2024-04-10T23:12:00.312Z"
   },
   {
    "duration": 13,
    "start_time": "2024-04-10T23:12:05.880Z"
   },
   {
    "duration": 7,
    "start_time": "2024-04-10T23:12:24.800Z"
   },
   {
    "duration": 5,
    "start_time": "2024-04-10T23:13:56.377Z"
   },
   {
    "duration": 6,
    "start_time": "2024-04-10T23:17:19.834Z"
   },
   {
    "duration": 1030,
    "start_time": "2024-04-10T23:22:03.465Z"
   },
   {
    "duration": 3,
    "start_time": "2024-04-10T23:22:04.496Z"
   },
   {
    "duration": 98,
    "start_time": "2024-04-10T23:22:04.501Z"
   },
   {
    "duration": 22,
    "start_time": "2024-04-10T23:22:04.600Z"
   },
   {
    "duration": 24,
    "start_time": "2024-04-10T23:22:04.624Z"
   },
   {
    "duration": 55,
    "start_time": "2024-04-10T23:22:04.649Z"
   },
   {
    "duration": 215,
    "start_time": "2024-04-10T23:22:04.705Z"
   },
   {
    "duration": 68,
    "start_time": "2024-04-10T23:22:04.921Z"
   },
   {
    "duration": 235,
    "start_time": "2024-04-10T23:22:04.991Z"
   },
   {
    "duration": 367,
    "start_time": "2024-04-10T23:22:05.228Z"
   },
   {
    "duration": 342,
    "start_time": "2024-04-10T23:22:05.596Z"
   },
   {
    "duration": 221,
    "start_time": "2024-04-10T23:22:05.939Z"
   },
   {
    "duration": 15,
    "start_time": "2024-04-10T23:22:06.161Z"
   },
   {
    "duration": 67,
    "start_time": "2024-04-10T23:22:06.178Z"
   },
   {
    "duration": 115,
    "start_time": "2024-04-10T23:22:06.246Z"
   },
   {
    "duration": 562,
    "start_time": "2024-04-10T23:22:06.362Z"
   },
   {
    "duration": 35,
    "start_time": "2024-04-10T23:22:06.925Z"
   },
   {
    "duration": 491,
    "start_time": "2024-04-10T23:22:06.961Z"
   },
   {
    "duration": 6,
    "start_time": "2024-04-10T23:22:07.453Z"
   },
   {
    "duration": 12,
    "start_time": "2024-04-10T23:22:07.460Z"
   },
   {
    "duration": 30,
    "start_time": "2024-04-10T23:22:07.473Z"
   },
   {
    "duration": 10,
    "start_time": "2024-04-10T23:22:07.504Z"
   },
   {
    "duration": 31,
    "start_time": "2024-04-10T23:22:07.515Z"
   },
   {
    "duration": 183,
    "start_time": "2024-04-10T23:22:07.548Z"
   },
   {
    "duration": 171,
    "start_time": "2024-04-10T23:22:07.732Z"
   },
   {
    "duration": 3941,
    "start_time": "2024-04-10T23:22:07.905Z"
   },
   {
    "duration": 7,
    "start_time": "2024-04-10T23:22:56.963Z"
   },
   {
    "duration": 981,
    "start_time": "2024-04-10T23:23:39.945Z"
   },
   {
    "duration": 3,
    "start_time": "2024-04-10T23:23:40.928Z"
   },
   {
    "duration": 97,
    "start_time": "2024-04-10T23:23:40.932Z"
   },
   {
    "duration": 20,
    "start_time": "2024-04-10T23:23:41.031Z"
   },
   {
    "duration": 7,
    "start_time": "2024-04-10T23:23:41.053Z"
   },
   {
    "duration": 62,
    "start_time": "2024-04-10T23:23:41.062Z"
   },
   {
    "duration": 176,
    "start_time": "2024-04-10T23:23:41.125Z"
   },
   {
    "duration": 69,
    "start_time": "2024-04-10T23:23:41.303Z"
   },
   {
    "duration": 221,
    "start_time": "2024-04-10T23:23:41.373Z"
   },
   {
    "duration": 331,
    "start_time": "2024-04-10T23:23:41.601Z"
   },
   {
    "duration": 339,
    "start_time": "2024-04-10T23:23:41.933Z"
   },
   {
    "duration": 220,
    "start_time": "2024-04-10T23:23:42.273Z"
   },
   {
    "duration": 16,
    "start_time": "2024-04-10T23:23:42.501Z"
   },
   {
    "duration": 46,
    "start_time": "2024-04-10T23:23:42.519Z"
   },
   {
    "duration": 136,
    "start_time": "2024-04-10T23:23:42.567Z"
   },
   {
    "duration": 615,
    "start_time": "2024-04-10T23:23:42.704Z"
   },
   {
    "duration": 35,
    "start_time": "2024-04-10T23:23:43.321Z"
   },
   {
    "duration": 463,
    "start_time": "2024-04-10T23:23:43.357Z"
   },
   {
    "duration": 5,
    "start_time": "2024-04-10T23:23:43.821Z"
   },
   {
    "duration": 4,
    "start_time": "2024-04-10T23:23:43.828Z"
   },
   {
    "duration": 24,
    "start_time": "2024-04-10T23:23:43.833Z"
   },
   {
    "duration": 11,
    "start_time": "2024-04-10T23:23:43.858Z"
   },
   {
    "duration": 41,
    "start_time": "2024-04-10T23:23:43.870Z"
   },
   {
    "duration": 175,
    "start_time": "2024-04-10T23:23:43.912Z"
   },
   {
    "duration": 172,
    "start_time": "2024-04-10T23:23:44.088Z"
   },
   {
    "duration": 3978,
    "start_time": "2024-04-10T23:23:44.261Z"
   },
   {
    "duration": 1500,
    "start_time": "2024-04-11T03:48:24.256Z"
   },
   {
    "duration": 3,
    "start_time": "2024-04-11T03:48:25.758Z"
   },
   {
    "duration": 420,
    "start_time": "2024-04-11T03:48:25.763Z"
   },
   {
    "duration": 31,
    "start_time": "2024-04-11T03:48:26.186Z"
   },
   {
    "duration": 11,
    "start_time": "2024-04-11T03:48:26.218Z"
   },
   {
    "duration": 81,
    "start_time": "2024-04-11T03:48:26.231Z"
   },
   {
    "duration": 240,
    "start_time": "2024-04-11T03:48:26.313Z"
   },
   {
    "duration": 125,
    "start_time": "2024-04-11T03:48:26.555Z"
   },
   {
    "duration": 339,
    "start_time": "2024-04-11T03:48:26.683Z"
   },
   {
    "duration": 509,
    "start_time": "2024-04-11T03:48:27.026Z"
   },
   {
    "duration": 488,
    "start_time": "2024-04-11T03:48:27.537Z"
   },
   {
    "duration": 395,
    "start_time": "2024-04-11T03:48:28.027Z"
   },
   {
    "duration": 22,
    "start_time": "2024-04-11T03:48:28.423Z"
   },
   {
    "duration": 81,
    "start_time": "2024-04-11T03:48:28.446Z"
   },
   {
    "duration": 193,
    "start_time": "2024-04-11T03:48:28.529Z"
   },
   {
    "duration": 816,
    "start_time": "2024-04-11T03:48:28.723Z"
   },
   {
    "duration": 62,
    "start_time": "2024-04-11T03:48:29.541Z"
   },
   {
    "duration": 618,
    "start_time": "2024-04-11T03:48:29.604Z"
   },
   {
    "duration": 7,
    "start_time": "2024-04-11T03:48:30.224Z"
   },
   {
    "duration": 50,
    "start_time": "2024-04-11T03:48:30.233Z"
   },
   {
    "duration": 166,
    "start_time": "2024-04-11T03:48:30.286Z"
   },
   {
    "duration": 15,
    "start_time": "2024-04-11T03:48:30.453Z"
   },
   {
    "duration": 131,
    "start_time": "2024-04-11T03:48:30.473Z"
   },
   {
    "duration": 317,
    "start_time": "2024-04-11T03:48:30.606Z"
   },
   {
    "duration": 261,
    "start_time": "2024-04-11T03:48:30.925Z"
   },
   {
    "duration": 6769,
    "start_time": "2024-04-11T03:48:31.189Z"
   },
   {
    "duration": 87,
    "start_time": "2024-04-11T04:00:21.915Z"
   },
   {
    "duration": 86,
    "start_time": "2024-04-11T04:00:48.602Z"
   },
   {
    "duration": 1259,
    "start_time": "2024-04-11T04:01:01.767Z"
   },
   {
    "duration": 4,
    "start_time": "2024-04-11T04:01:03.030Z"
   },
   {
    "duration": 130,
    "start_time": "2024-04-11T04:01:03.035Z"
   },
   {
    "duration": 30,
    "start_time": "2024-04-11T04:01:03.167Z"
   },
   {
    "duration": 10,
    "start_time": "2024-04-11T04:01:03.200Z"
   },
   {
    "duration": 103,
    "start_time": "2024-04-11T04:01:03.212Z"
   },
   {
    "duration": 264,
    "start_time": "2024-04-11T04:01:03.318Z"
   },
   {
    "duration": 117,
    "start_time": "2024-04-11T04:01:03.584Z"
   },
   {
    "duration": 308,
    "start_time": "2024-04-11T04:01:03.703Z"
   },
   {
    "duration": 507,
    "start_time": "2024-04-11T04:01:04.016Z"
   },
   {
    "duration": 489,
    "start_time": "2024-04-11T04:01:04.525Z"
   },
   {
    "duration": 300,
    "start_time": "2024-04-11T04:01:05.016Z"
   },
   {
    "duration": 22,
    "start_time": "2024-04-11T04:01:05.318Z"
   },
   {
    "duration": 79,
    "start_time": "2024-04-11T04:01:05.343Z"
   },
   {
    "duration": 0,
    "start_time": "2024-04-11T04:01:05.424Z"
   },
   {
    "duration": 0,
    "start_time": "2024-04-11T04:01:05.425Z"
   },
   {
    "duration": 0,
    "start_time": "2024-04-11T04:01:05.427Z"
   },
   {
    "duration": 0,
    "start_time": "2024-04-11T04:01:05.428Z"
   },
   {
    "duration": 0,
    "start_time": "2024-04-11T04:01:05.429Z"
   },
   {
    "duration": 0,
    "start_time": "2024-04-11T04:01:05.430Z"
   },
   {
    "duration": 0,
    "start_time": "2024-04-11T04:01:05.431Z"
   },
   {
    "duration": 0,
    "start_time": "2024-04-11T04:01:05.432Z"
   },
   {
    "duration": 0,
    "start_time": "2024-04-11T04:01:05.433Z"
   },
   {
    "duration": 0,
    "start_time": "2024-04-11T04:01:05.434Z"
   },
   {
    "duration": 0,
    "start_time": "2024-04-11T04:01:05.436Z"
   },
   {
    "duration": 0,
    "start_time": "2024-04-11T04:01:05.437Z"
   },
   {
    "duration": 0,
    "start_time": "2024-04-11T04:01:05.438Z"
   },
   {
    "duration": 80,
    "start_time": "2024-04-11T04:01:18.821Z"
   },
   {
    "duration": 143,
    "start_time": "2024-04-11T07:11:20.866Z"
   },
   {
    "duration": 1651,
    "start_time": "2024-04-11T07:11:35.359Z"
   },
   {
    "duration": 4,
    "start_time": "2024-04-11T07:11:37.012Z"
   },
   {
    "duration": 152,
    "start_time": "2024-04-11T07:11:37.018Z"
   },
   {
    "duration": 51,
    "start_time": "2024-04-11T07:11:37.174Z"
   },
   {
    "duration": 18,
    "start_time": "2024-04-11T07:11:37.228Z"
   },
   {
    "duration": 118,
    "start_time": "2024-04-11T07:11:37.272Z"
   },
   {
    "duration": 340,
    "start_time": "2024-04-11T07:11:37.392Z"
   },
   {
    "duration": 177,
    "start_time": "2024-04-11T07:11:37.734Z"
   },
   {
    "duration": 462,
    "start_time": "2024-04-11T07:11:37.914Z"
   },
   {
    "duration": 845,
    "start_time": "2024-04-11T07:11:38.381Z"
   },
   {
    "duration": 534,
    "start_time": "2024-04-11T07:11:39.228Z"
   },
   {
    "duration": 322,
    "start_time": "2024-04-11T07:11:39.772Z"
   },
   {
    "duration": 25,
    "start_time": "2024-04-11T07:11:40.097Z"
   },
   {
    "duration": 101,
    "start_time": "2024-04-11T07:11:40.124Z"
   },
   {
    "duration": 190,
    "start_time": "2024-04-11T07:11:40.228Z"
   },
   {
    "duration": 1188,
    "start_time": "2024-04-11T07:11:40.420Z"
   },
   {
    "duration": 63,
    "start_time": "2024-04-11T07:11:41.610Z"
   },
   {
    "duration": 840,
    "start_time": "2024-04-11T07:11:41.675Z"
   },
   {
    "duration": 10,
    "start_time": "2024-04-11T07:11:42.517Z"
   },
   {
    "duration": 11,
    "start_time": "2024-04-11T07:11:42.530Z"
   },
   {
    "duration": 191,
    "start_time": "2024-04-11T07:11:42.544Z"
   },
   {
    "duration": 22,
    "start_time": "2024-04-11T07:11:42.738Z"
   },
   {
    "duration": 38,
    "start_time": "2024-04-11T07:11:42.773Z"
   },
   {
    "duration": 376,
    "start_time": "2024-04-11T07:11:42.814Z"
   },
   {
    "duration": 384,
    "start_time": "2024-04-11T07:11:43.193Z"
   },
   {
    "duration": 7767,
    "start_time": "2024-04-11T07:11:43.579Z"
   },
   {
    "duration": 31,
    "start_time": "2024-04-11T08:26:34.570Z"
   },
   {
    "duration": 146,
    "start_time": "2024-04-11T08:31:00.260Z"
   },
   {
    "duration": 21,
    "start_time": "2024-04-11T08:31:10.213Z"
   },
   {
    "duration": 1332,
    "start_time": "2024-04-11T21:33:05.502Z"
   },
   {
    "duration": 3,
    "start_time": "2024-04-11T21:33:06.837Z"
   },
   {
    "duration": 123,
    "start_time": "2024-04-11T21:33:06.842Z"
   },
   {
    "duration": 42,
    "start_time": "2024-04-11T21:33:06.967Z"
   },
   {
    "duration": 12,
    "start_time": "2024-04-11T21:33:07.010Z"
   },
   {
    "duration": 102,
    "start_time": "2024-04-11T21:33:07.023Z"
   },
   {
    "duration": 246,
    "start_time": "2024-04-11T21:33:07.127Z"
   },
   {
    "duration": 143,
    "start_time": "2024-04-11T21:33:07.375Z"
   },
   {
    "duration": 325,
    "start_time": "2024-04-11T21:33:07.521Z"
   },
   {
    "duration": 539,
    "start_time": "2024-04-11T21:33:07.849Z"
   },
   {
    "duration": 524,
    "start_time": "2024-04-11T21:33:08.390Z"
   },
   {
    "duration": 337,
    "start_time": "2024-04-11T21:33:08.916Z"
   },
   {
    "duration": 30,
    "start_time": "2024-04-11T21:33:09.254Z"
   },
   {
    "duration": 61,
    "start_time": "2024-04-11T21:33:09.286Z"
   },
   {
    "duration": 191,
    "start_time": "2024-04-11T21:33:09.349Z"
   },
   {
    "duration": 823,
    "start_time": "2024-04-11T21:33:09.542Z"
   },
   {
    "duration": 71,
    "start_time": "2024-04-11T21:33:10.367Z"
   },
   {
    "duration": 625,
    "start_time": "2024-04-11T21:33:10.440Z"
   },
   {
    "duration": 9,
    "start_time": "2024-04-11T21:33:11.066Z"
   },
   {
    "duration": 7,
    "start_time": "2024-04-11T21:33:11.079Z"
   },
   {
    "duration": 163,
    "start_time": "2024-04-11T21:33:11.088Z"
   },
   {
    "duration": 21,
    "start_time": "2024-04-11T21:33:11.252Z"
   },
   {
    "duration": 35,
    "start_time": "2024-04-11T21:33:11.276Z"
   },
   {
    "duration": 286,
    "start_time": "2024-04-11T21:33:11.313Z"
   },
   {
    "duration": 245,
    "start_time": "2024-04-11T21:33:11.601Z"
   },
   {
    "duration": 5449,
    "start_time": "2024-04-11T21:33:11.847Z"
   },
   {
    "duration": 55,
    "start_time": "2024-04-11T21:34:00.713Z"
   },
   {
    "duration": 1277,
    "start_time": "2024-04-11T21:41:22.044Z"
   },
   {
    "duration": 5,
    "start_time": "2024-04-11T21:41:23.323Z"
   },
   {
    "duration": 133,
    "start_time": "2024-04-11T21:41:23.330Z"
   },
   {
    "duration": 38,
    "start_time": "2024-04-11T21:41:23.465Z"
   },
   {
    "duration": 11,
    "start_time": "2024-04-11T21:41:23.505Z"
   },
   {
    "duration": 82,
    "start_time": "2024-04-11T21:41:23.518Z"
   },
   {
    "duration": 242,
    "start_time": "2024-04-11T21:41:23.601Z"
   },
   {
    "duration": 119,
    "start_time": "2024-04-11T21:41:23.845Z"
   },
   {
    "duration": 372,
    "start_time": "2024-04-11T21:41:23.976Z"
   },
   {
    "duration": 519,
    "start_time": "2024-04-11T21:41:24.351Z"
   },
   {
    "duration": 538,
    "start_time": "2024-04-11T21:41:24.873Z"
   },
   {
    "duration": 338,
    "start_time": "2024-04-11T21:41:25.413Z"
   },
   {
    "duration": 31,
    "start_time": "2024-04-11T21:41:25.752Z"
   },
   {
    "duration": 63,
    "start_time": "2024-04-11T21:41:25.784Z"
   },
   {
    "duration": 179,
    "start_time": "2024-04-11T21:41:25.849Z"
   },
   {
    "duration": 820,
    "start_time": "2024-04-11T21:41:26.030Z"
   },
   {
    "duration": 76,
    "start_time": "2024-04-11T21:41:26.853Z"
   },
   {
    "duration": 640,
    "start_time": "2024-04-11T21:41:26.931Z"
   },
   {
    "duration": 12,
    "start_time": "2024-04-11T21:41:27.575Z"
   },
   {
    "duration": 65,
    "start_time": "2024-04-11T21:41:27.589Z"
   },
   {
    "duration": 40,
    "start_time": "2024-04-11T21:41:27.656Z"
   },
   {
    "duration": 111,
    "start_time": "2024-04-11T21:41:27.698Z"
   },
   {
    "duration": 38,
    "start_time": "2024-04-11T21:41:27.811Z"
   },
   {
    "duration": 282,
    "start_time": "2024-04-11T21:41:27.850Z"
   },
   {
    "duration": 268,
    "start_time": "2024-04-11T21:41:28.134Z"
   },
   {
    "duration": 6596,
    "start_time": "2024-04-11T21:41:28.404Z"
   },
   {
    "duration": 1140,
    "start_time": "2024-04-11T21:57:28.340Z"
   },
   {
    "duration": 3,
    "start_time": "2024-04-11T21:57:29.482Z"
   },
   {
    "duration": 111,
    "start_time": "2024-04-11T21:57:29.486Z"
   },
   {
    "duration": 26,
    "start_time": "2024-04-11T21:57:29.599Z"
   },
   {
    "duration": 18,
    "start_time": "2024-04-11T21:57:29.627Z"
   },
   {
    "duration": 73,
    "start_time": "2024-04-11T21:57:29.646Z"
   },
   {
    "duration": 212,
    "start_time": "2024-04-11T21:57:29.720Z"
   },
   {
    "duration": 110,
    "start_time": "2024-04-11T21:57:29.934Z"
   },
   {
    "duration": 287,
    "start_time": "2024-04-11T21:57:30.045Z"
   },
   {
    "duration": 503,
    "start_time": "2024-04-11T21:57:30.334Z"
   },
   {
    "duration": 471,
    "start_time": "2024-04-11T21:57:30.838Z"
   },
   {
    "duration": 301,
    "start_time": "2024-04-11T21:57:31.311Z"
   },
   {
    "duration": 21,
    "start_time": "2024-04-11T21:57:31.613Z"
   },
   {
    "duration": 310,
    "start_time": "2024-04-11T21:57:31.638Z"
   },
   {
    "duration": 170,
    "start_time": "2024-04-11T21:57:31.950Z"
   },
   {
    "duration": 719,
    "start_time": "2024-04-11T21:57:32.122Z"
   },
   {
    "duration": 60,
    "start_time": "2024-04-11T21:57:32.843Z"
   },
   {
    "duration": 523,
    "start_time": "2024-04-11T21:57:32.904Z"
   },
   {
    "duration": 7,
    "start_time": "2024-04-11T21:57:33.429Z"
   },
   {
    "duration": 56,
    "start_time": "2024-04-11T21:57:33.437Z"
   },
   {
    "duration": 37,
    "start_time": "2024-04-11T21:57:33.494Z"
   },
   {
    "duration": 102,
    "start_time": "2024-04-11T21:57:33.533Z"
   },
   {
    "duration": 58,
    "start_time": "2024-04-11T21:57:33.636Z"
   },
   {
    "duration": 222,
    "start_time": "2024-04-11T21:57:33.695Z"
   },
   {
    "duration": 214,
    "start_time": "2024-04-11T21:57:33.918Z"
   },
   {
    "duration": 5760,
    "start_time": "2024-04-11T21:57:34.133Z"
   },
   {
    "duration": 9,
    "start_time": "2024-04-11T22:04:12.316Z"
   },
   {
    "duration": 17,
    "start_time": "2024-04-11T22:05:45.740Z"
   },
   {
    "duration": 10,
    "start_time": "2024-04-11T22:09:01.178Z"
   },
   {
    "duration": 54,
    "start_time": "2024-04-11T22:10:36.847Z"
   },
   {
    "duration": 9,
    "start_time": "2024-04-11T22:10:40.765Z"
   },
   {
    "duration": 7,
    "start_time": "2024-04-11T22:22:37.922Z"
   },
   {
    "duration": 8,
    "start_time": "2024-04-11T22:23:49.329Z"
   },
   {
    "duration": 1233,
    "start_time": "2024-04-11T22:30:39.773Z"
   },
   {
    "duration": 4,
    "start_time": "2024-04-11T22:30:41.008Z"
   },
   {
    "duration": 118,
    "start_time": "2024-04-11T22:30:41.014Z"
   },
   {
    "duration": 34,
    "start_time": "2024-04-11T22:30:41.134Z"
   },
   {
    "duration": 18,
    "start_time": "2024-04-11T22:30:41.171Z"
   },
   {
    "duration": 56,
    "start_time": "2024-04-11T22:30:41.190Z"
   },
   {
    "duration": 235,
    "start_time": "2024-04-11T22:30:41.248Z"
   },
   {
    "duration": 122,
    "start_time": "2024-04-11T22:30:41.486Z"
   },
   {
    "duration": 289,
    "start_time": "2024-04-11T22:30:41.609Z"
   },
   {
    "duration": 465,
    "start_time": "2024-04-11T22:30:41.900Z"
   },
   {
    "duration": 450,
    "start_time": "2024-04-11T22:30:42.367Z"
   },
   {
    "duration": 317,
    "start_time": "2024-04-11T22:30:42.819Z"
   },
   {
    "duration": 19,
    "start_time": "2024-04-11T22:30:43.138Z"
   },
   {
    "duration": 70,
    "start_time": "2024-04-11T22:30:43.160Z"
   },
   {
    "duration": 160,
    "start_time": "2024-04-11T22:30:43.232Z"
   },
   {
    "duration": 688,
    "start_time": "2024-04-11T22:30:43.394Z"
   },
   {
    "duration": 49,
    "start_time": "2024-04-11T22:30:44.084Z"
   },
   {
    "duration": 560,
    "start_time": "2024-04-11T22:30:44.135Z"
   },
   {
    "duration": 7,
    "start_time": "2024-04-11T22:30:44.697Z"
   },
   {
    "duration": 16,
    "start_time": "2024-04-11T22:30:44.706Z"
   },
   {
    "duration": 33,
    "start_time": "2024-04-11T22:30:44.723Z"
   },
   {
    "duration": 110,
    "start_time": "2024-04-11T22:30:44.757Z"
   },
   {
    "duration": 33,
    "start_time": "2024-04-11T22:30:44.869Z"
   },
   {
    "duration": 229,
    "start_time": "2024-04-11T22:30:44.904Z"
   },
   {
    "duration": 202,
    "start_time": "2024-04-11T22:30:45.135Z"
   },
   {
    "duration": 4686,
    "start_time": "2024-04-11T22:30:45.338Z"
   },
   {
    "duration": 1150,
    "start_time": "2024-04-11T22:34:04.042Z"
   },
   {
    "duration": 3,
    "start_time": "2024-04-11T22:34:05.194Z"
   },
   {
    "duration": 113,
    "start_time": "2024-04-11T22:34:05.198Z"
   },
   {
    "duration": 26,
    "start_time": "2024-04-11T22:34:05.314Z"
   },
   {
    "duration": 9,
    "start_time": "2024-04-11T22:34:05.342Z"
   },
   {
    "duration": 77,
    "start_time": "2024-04-11T22:34:05.353Z"
   },
   {
    "duration": 206,
    "start_time": "2024-04-11T22:34:05.432Z"
   },
   {
    "duration": 111,
    "start_time": "2024-04-11T22:34:05.640Z"
   },
   {
    "duration": 295,
    "start_time": "2024-04-11T22:34:05.753Z"
   },
   {
    "duration": 432,
    "start_time": "2024-04-11T22:34:06.050Z"
   },
   {
    "duration": 443,
    "start_time": "2024-04-11T22:34:06.484Z"
   },
   {
    "duration": 292,
    "start_time": "2024-04-11T22:34:06.929Z"
   },
   {
    "duration": 21,
    "start_time": "2024-04-11T22:34:07.222Z"
   },
   {
    "duration": 92,
    "start_time": "2024-04-11T22:34:07.246Z"
   },
   {
    "duration": 160,
    "start_time": "2024-04-11T22:34:07.340Z"
   },
   {
    "duration": 668,
    "start_time": "2024-04-11T22:34:07.502Z"
   },
   {
    "duration": 53,
    "start_time": "2024-04-11T22:34:08.172Z"
   },
   {
    "duration": 549,
    "start_time": "2024-04-11T22:34:08.226Z"
   },
   {
    "duration": 6,
    "start_time": "2024-04-11T22:34:08.777Z"
   },
   {
    "duration": 24,
    "start_time": "2024-04-11T22:34:08.785Z"
   },
   {
    "duration": 32,
    "start_time": "2024-04-11T22:34:08.811Z"
   },
   {
    "duration": 118,
    "start_time": "2024-04-11T22:34:08.844Z"
   },
   {
    "duration": 33,
    "start_time": "2024-04-11T22:34:08.964Z"
   },
   {
    "duration": 211,
    "start_time": "2024-04-11T22:34:08.998Z"
   },
   {
    "duration": 215,
    "start_time": "2024-04-11T22:34:09.210Z"
   },
   {
    "duration": 4625,
    "start_time": "2024-04-11T22:34:09.426Z"
   },
   {
    "duration": 117,
    "start_time": "2024-04-12T05:42:09.547Z"
   },
   {
    "duration": 1475,
    "start_time": "2024-04-12T05:42:36.960Z"
   },
   {
    "duration": 4,
    "start_time": "2024-04-12T05:42:38.439Z"
   },
   {
    "duration": 326,
    "start_time": "2024-04-12T05:42:38.445Z"
   },
   {
    "duration": 46,
    "start_time": "2024-04-12T05:42:38.775Z"
   },
   {
    "duration": 14,
    "start_time": "2024-04-12T05:42:38.823Z"
   },
   {
    "duration": 101,
    "start_time": "2024-04-12T05:42:38.839Z"
   },
   {
    "duration": 238,
    "start_time": "2024-04-12T05:42:38.941Z"
   },
   {
    "duration": 115,
    "start_time": "2024-04-12T05:42:39.181Z"
   },
   {
    "duration": 308,
    "start_time": "2024-04-12T05:42:39.298Z"
   },
   {
    "duration": 502,
    "start_time": "2024-04-12T05:42:39.609Z"
   },
   {
    "duration": 537,
    "start_time": "2024-04-12T05:42:40.113Z"
   },
   {
    "duration": 384,
    "start_time": "2024-04-12T05:42:40.651Z"
   },
   {
    "duration": 23,
    "start_time": "2024-04-12T05:42:41.037Z"
   },
   {
    "duration": 75,
    "start_time": "2024-04-12T05:42:41.061Z"
   },
   {
    "duration": 205,
    "start_time": "2024-04-12T05:42:41.139Z"
   },
   {
    "duration": 907,
    "start_time": "2024-04-12T05:42:41.347Z"
   },
   {
    "duration": 79,
    "start_time": "2024-04-12T05:42:42.256Z"
   },
   {
    "duration": 602,
    "start_time": "2024-04-12T05:42:42.338Z"
   },
   {
    "duration": 9,
    "start_time": "2024-04-12T05:42:42.942Z"
   },
   {
    "duration": 10,
    "start_time": "2024-04-12T05:42:42.953Z"
   },
   {
    "duration": 162,
    "start_time": "2024-04-12T05:42:42.964Z"
   },
   {
    "duration": 18,
    "start_time": "2024-04-12T05:42:43.129Z"
   },
   {
    "duration": 35,
    "start_time": "2024-04-12T05:42:43.150Z"
   },
   {
    "duration": 276,
    "start_time": "2024-04-12T05:42:43.188Z"
   },
   {
    "duration": 270,
    "start_time": "2024-04-12T05:42:43.466Z"
   },
   {
    "duration": 5753,
    "start_time": "2024-04-12T05:42:43.738Z"
   },
   {
    "duration": 1277,
    "start_time": "2024-04-12T16:32:43.706Z"
   },
   {
    "duration": 3,
    "start_time": "2024-04-12T16:32:44.985Z"
   },
   {
    "duration": 129,
    "start_time": "2024-04-12T16:32:44.991Z"
   },
   {
    "duration": 42,
    "start_time": "2024-04-12T16:32:45.123Z"
   },
   {
    "duration": 12,
    "start_time": "2024-04-12T16:32:45.168Z"
   },
   {
    "duration": 121,
    "start_time": "2024-04-12T16:32:45.181Z"
   },
   {
    "duration": 232,
    "start_time": "2024-04-12T16:32:45.304Z"
   },
   {
    "duration": 122,
    "start_time": "2024-04-12T16:32:45.539Z"
   },
   {
    "duration": 448,
    "start_time": "2024-04-12T16:32:45.662Z"
   },
   {
    "duration": 497,
    "start_time": "2024-04-12T16:32:46.116Z"
   },
   {
    "duration": 522,
    "start_time": "2024-04-12T16:32:46.616Z"
   },
   {
    "duration": 364,
    "start_time": "2024-04-12T16:32:47.140Z"
   },
   {
    "duration": 37,
    "start_time": "2024-04-12T16:32:47.506Z"
   },
   {
    "duration": 117,
    "start_time": "2024-04-12T16:32:47.545Z"
   },
   {
    "duration": 282,
    "start_time": "2024-04-12T16:32:47.665Z"
   },
   {
    "duration": 806,
    "start_time": "2024-04-12T16:32:47.949Z"
   },
   {
    "duration": 91,
    "start_time": "2024-04-12T16:32:48.757Z"
   },
   {
    "duration": 742,
    "start_time": "2024-04-12T16:32:48.850Z"
   },
   {
    "duration": 10,
    "start_time": "2024-04-12T16:32:49.596Z"
   },
   {
    "duration": 8,
    "start_time": "2024-04-12T16:32:49.615Z"
   },
   {
    "duration": 195,
    "start_time": "2024-04-12T16:32:49.625Z"
   },
   {
    "duration": 28,
    "start_time": "2024-04-12T16:32:49.824Z"
   },
   {
    "duration": 79,
    "start_time": "2024-04-12T16:32:49.854Z"
   },
   {
    "duration": 313,
    "start_time": "2024-04-12T16:32:49.936Z"
   },
   {
    "duration": 245,
    "start_time": "2024-04-12T16:32:50.252Z"
   },
   {
    "duration": 5201,
    "start_time": "2024-04-12T16:32:50.500Z"
   },
   {
    "duration": 1231,
    "start_time": "2024-04-12T17:34:24.994Z"
   },
   {
    "duration": 4,
    "start_time": "2024-04-12T17:34:26.227Z"
   },
   {
    "duration": 118,
    "start_time": "2024-04-12T17:34:26.232Z"
   },
   {
    "duration": 27,
    "start_time": "2024-04-12T17:34:26.351Z"
   },
   {
    "duration": 10,
    "start_time": "2024-04-12T17:34:26.381Z"
   },
   {
    "duration": 55,
    "start_time": "2024-04-12T17:34:26.392Z"
   },
   {
    "duration": 232,
    "start_time": "2024-04-12T17:34:26.449Z"
   },
   {
    "duration": 109,
    "start_time": "2024-04-12T17:34:26.682Z"
   },
   {
    "duration": 306,
    "start_time": "2024-04-12T17:34:26.793Z"
   },
   {
    "duration": 483,
    "start_time": "2024-04-12T17:34:27.101Z"
   },
   {
    "duration": 453,
    "start_time": "2024-04-12T17:34:27.586Z"
   },
   {
    "duration": 302,
    "start_time": "2024-04-12T17:34:28.040Z"
   },
   {
    "duration": 30,
    "start_time": "2024-04-12T17:34:28.343Z"
   },
   {
    "duration": 58,
    "start_time": "2024-04-12T17:34:28.375Z"
   },
   {
    "duration": 175,
    "start_time": "2024-04-12T17:34:28.435Z"
   },
   {
    "duration": 757,
    "start_time": "2024-04-12T17:34:28.611Z"
   },
   {
    "duration": 54,
    "start_time": "2024-04-12T17:34:29.372Z"
   },
   {
    "duration": 548,
    "start_time": "2024-04-12T17:34:29.427Z"
   },
   {
    "duration": 6,
    "start_time": "2024-04-12T17:34:29.977Z"
   },
   {
    "duration": 6,
    "start_time": "2024-04-12T17:34:29.985Z"
   },
   {
    "duration": 33,
    "start_time": "2024-04-12T17:34:29.993Z"
   },
   {
    "duration": 134,
    "start_time": "2024-04-12T17:34:30.028Z"
   },
   {
    "duration": 37,
    "start_time": "2024-04-12T17:34:30.164Z"
   },
   {
    "duration": 304,
    "start_time": "2024-04-12T17:34:30.202Z"
   },
   {
    "duration": 235,
    "start_time": "2024-04-12T17:34:30.507Z"
   },
   {
    "duration": 5113,
    "start_time": "2024-04-12T17:34:30.744Z"
   },
   {
    "duration": 1238,
    "start_time": "2024-04-12T17:36:25.059Z"
   },
   {
    "duration": 3,
    "start_time": "2024-04-12T17:36:26.299Z"
   },
   {
    "duration": 117,
    "start_time": "2024-04-12T17:36:26.304Z"
   },
   {
    "duration": 26,
    "start_time": "2024-04-12T17:36:26.423Z"
   },
   {
    "duration": 25,
    "start_time": "2024-04-12T17:36:26.451Z"
   },
   {
    "duration": 67,
    "start_time": "2024-04-12T17:36:26.477Z"
   },
   {
    "duration": 220,
    "start_time": "2024-04-12T17:36:26.546Z"
   },
   {
    "duration": 114,
    "start_time": "2024-04-12T17:36:26.768Z"
   },
   {
    "duration": 330,
    "start_time": "2024-04-12T17:36:26.883Z"
   },
   {
    "duration": 470,
    "start_time": "2024-04-12T17:36:27.215Z"
   },
   {
    "duration": 473,
    "start_time": "2024-04-12T17:36:27.686Z"
   },
   {
    "duration": 307,
    "start_time": "2024-04-12T17:36:28.161Z"
   },
   {
    "duration": 27,
    "start_time": "2024-04-12T17:36:28.473Z"
   },
   {
    "duration": 73,
    "start_time": "2024-04-12T17:36:28.506Z"
   },
   {
    "duration": 167,
    "start_time": "2024-04-12T17:36:28.581Z"
   },
   {
    "duration": 760,
    "start_time": "2024-04-12T17:36:28.750Z"
   },
   {
    "duration": 67,
    "start_time": "2024-04-12T17:36:29.511Z"
   },
   {
    "duration": 558,
    "start_time": "2024-04-12T17:36:29.580Z"
   },
   {
    "duration": 7,
    "start_time": "2024-04-12T17:36:30.140Z"
   },
   {
    "duration": 45,
    "start_time": "2024-04-12T17:36:30.149Z"
   },
   {
    "duration": 153,
    "start_time": "2024-04-12T17:36:30.196Z"
   },
   {
    "duration": 15,
    "start_time": "2024-04-12T17:36:30.350Z"
   },
   {
    "duration": 87,
    "start_time": "2024-04-12T17:36:30.366Z"
   },
   {
    "duration": 238,
    "start_time": "2024-04-12T17:36:30.455Z"
   },
   {
    "duration": 236,
    "start_time": "2024-04-12T17:36:30.695Z"
   },
   {
    "duration": 5100,
    "start_time": "2024-04-12T17:36:30.933Z"
   },
   {
    "duration": 11,
    "start_time": "2024-04-12T17:50:52.555Z"
   },
   {
    "duration": 1214,
    "start_time": "2024-04-12T18:21:35.008Z"
   },
   {
    "duration": 3,
    "start_time": "2024-04-12T18:21:36.224Z"
   },
   {
    "duration": 124,
    "start_time": "2024-04-12T18:21:36.229Z"
   },
   {
    "duration": 29,
    "start_time": "2024-04-12T18:21:36.356Z"
   },
   {
    "duration": 14,
    "start_time": "2024-04-12T18:21:36.388Z"
   },
   {
    "duration": 86,
    "start_time": "2024-04-12T18:21:36.404Z"
   },
   {
    "duration": 230,
    "start_time": "2024-04-12T18:21:36.492Z"
   },
   {
    "duration": 120,
    "start_time": "2024-04-12T18:21:36.724Z"
   },
   {
    "duration": 341,
    "start_time": "2024-04-12T18:21:36.845Z"
   },
   {
    "duration": 480,
    "start_time": "2024-04-12T18:21:37.190Z"
   },
   {
    "duration": 487,
    "start_time": "2024-04-12T18:21:37.672Z"
   },
   {
    "duration": 306,
    "start_time": "2024-04-12T18:21:38.161Z"
   },
   {
    "duration": 21,
    "start_time": "2024-04-12T18:21:38.469Z"
   },
   {
    "duration": 57,
    "start_time": "2024-04-12T18:21:38.492Z"
   },
   {
    "duration": 180,
    "start_time": "2024-04-12T18:21:38.550Z"
   },
   {
    "duration": 747,
    "start_time": "2024-04-12T18:21:38.732Z"
   },
   {
    "duration": 54,
    "start_time": "2024-04-12T18:21:39.481Z"
   },
   {
    "duration": 572,
    "start_time": "2024-04-12T18:21:39.536Z"
   },
   {
    "duration": 10,
    "start_time": "2024-04-12T18:21:40.110Z"
   },
   {
    "duration": 6,
    "start_time": "2024-04-12T18:21:40.122Z"
   },
   {
    "duration": 51,
    "start_time": "2024-04-12T18:21:40.129Z"
   },
   {
    "duration": 103,
    "start_time": "2024-04-12T18:21:40.182Z"
   },
   {
    "duration": 25,
    "start_time": "2024-04-12T18:21:40.286Z"
   },
   {
    "duration": 243,
    "start_time": "2024-04-12T18:21:40.312Z"
   },
   {
    "duration": 231,
    "start_time": "2024-04-12T18:21:40.557Z"
   },
   {
    "duration": 5095,
    "start_time": "2024-04-12T18:21:40.790Z"
   },
   {
    "duration": 51,
    "start_time": "2024-04-12T18:53:17.188Z"
   },
   {
    "duration": 1401,
    "start_time": "2024-04-12T18:53:27.545Z"
   },
   {
    "duration": 3,
    "start_time": "2024-04-12T18:53:28.948Z"
   },
   {
    "duration": 347,
    "start_time": "2024-04-12T18:53:28.953Z"
   },
   {
    "duration": 26,
    "start_time": "2024-04-12T18:53:29.302Z"
   },
   {
    "duration": 10,
    "start_time": "2024-04-12T18:53:29.330Z"
   },
   {
    "duration": 92,
    "start_time": "2024-04-12T18:53:29.341Z"
   },
   {
    "duration": 222,
    "start_time": "2024-04-12T18:53:29.435Z"
   },
   {
    "duration": 105,
    "start_time": "2024-04-12T18:53:29.658Z"
   },
   {
    "duration": 285,
    "start_time": "2024-04-12T18:53:29.765Z"
   },
   {
    "duration": 448,
    "start_time": "2024-04-12T18:53:30.052Z"
   },
   {
    "duration": 489,
    "start_time": "2024-04-12T18:53:30.502Z"
   },
   {
    "duration": 288,
    "start_time": "2024-04-12T18:53:30.992Z"
   },
   {
    "duration": 20,
    "start_time": "2024-04-12T18:53:31.282Z"
   },
   {
    "duration": 98,
    "start_time": "2024-04-12T18:53:31.304Z"
   },
   {
    "duration": 153,
    "start_time": "2024-04-12T18:53:31.403Z"
   },
   {
    "duration": 763,
    "start_time": "2024-04-12T18:53:31.558Z"
   },
   {
    "duration": 75,
    "start_time": "2024-04-12T18:53:32.322Z"
   },
   {
    "duration": 560,
    "start_time": "2024-04-12T18:53:32.399Z"
   },
   {
    "duration": 8,
    "start_time": "2024-04-12T18:53:32.960Z"
   },
   {
    "duration": 8,
    "start_time": "2024-04-12T18:53:32.979Z"
   },
   {
    "duration": 128,
    "start_time": "2024-04-12T18:53:32.988Z"
   },
   {
    "duration": 14,
    "start_time": "2024-04-12T18:53:33.118Z"
   },
   {
    "duration": 47,
    "start_time": "2024-04-12T18:53:33.133Z"
   },
   {
    "duration": 217,
    "start_time": "2024-04-12T18:53:33.182Z"
   },
   {
    "duration": 206,
    "start_time": "2024-04-12T18:53:33.401Z"
   },
   {
    "duration": 5386,
    "start_time": "2024-04-12T18:53:33.608Z"
   },
   {
    "duration": 51,
    "start_time": "2024-04-13T08:50:17.715Z"
   },
   {
    "duration": 1481,
    "start_time": "2024-04-13T08:50:27.646Z"
   },
   {
    "duration": 4,
    "start_time": "2024-04-13T08:50:29.129Z"
   },
   {
    "duration": 357,
    "start_time": "2024-04-13T08:50:29.135Z"
   },
   {
    "duration": 29,
    "start_time": "2024-04-13T08:50:29.495Z"
   },
   {
    "duration": 11,
    "start_time": "2024-04-13T08:50:29.526Z"
   },
   {
    "duration": 82,
    "start_time": "2024-04-13T08:50:29.539Z"
   },
   {
    "duration": 233,
    "start_time": "2024-04-13T08:50:29.623Z"
   },
   {
    "duration": 102,
    "start_time": "2024-04-13T08:50:29.857Z"
   },
   {
    "duration": 282,
    "start_time": "2024-04-13T08:50:29.972Z"
   },
   {
    "duration": 477,
    "start_time": "2024-04-13T08:50:30.257Z"
   },
   {
    "duration": 487,
    "start_time": "2024-04-13T08:50:30.735Z"
   },
   {
    "duration": 303,
    "start_time": "2024-04-13T08:50:31.223Z"
   },
   {
    "duration": 21,
    "start_time": "2024-04-13T08:50:31.527Z"
   },
   {
    "duration": 179,
    "start_time": "2024-04-13T08:50:31.550Z"
   },
   {
    "duration": 162,
    "start_time": "2024-04-13T08:50:31.731Z"
   },
   {
    "duration": 808,
    "start_time": "2024-04-13T08:50:31.895Z"
   },
   {
    "duration": 54,
    "start_time": "2024-04-13T08:50:32.704Z"
   },
   {
    "duration": 543,
    "start_time": "2024-04-13T08:50:32.773Z"
   },
   {
    "duration": 8,
    "start_time": "2024-04-13T08:50:33.318Z"
   },
   {
    "duration": 14,
    "start_time": "2024-04-13T08:50:33.327Z"
   },
   {
    "duration": 148,
    "start_time": "2024-04-13T08:50:33.343Z"
   },
   {
    "duration": 14,
    "start_time": "2024-04-13T08:50:33.493Z"
   },
   {
    "duration": 27,
    "start_time": "2024-04-13T08:50:33.509Z"
   },
   {
    "duration": 257,
    "start_time": "2024-04-13T08:50:33.538Z"
   },
   {
    "duration": 238,
    "start_time": "2024-04-13T08:50:33.796Z"
   },
   {
    "duration": 5868,
    "start_time": "2024-04-13T08:50:34.036Z"
   },
   {
    "duration": 81,
    "start_time": "2024-04-13T08:56:02.676Z"
   },
   {
    "duration": 8,
    "start_time": "2024-04-13T08:56:29.355Z"
   },
   {
    "duration": 114,
    "start_time": "2024-04-13T09:00:55.192Z"
   },
   {
    "duration": 17,
    "start_time": "2024-04-13T09:01:22.776Z"
   },
   {
    "duration": 20,
    "start_time": "2024-04-13T10:16:13.711Z"
   },
   {
    "duration": 18,
    "start_time": "2024-04-13T10:16:35.910Z"
   },
   {
    "duration": 1320,
    "start_time": "2024-04-13T10:34:25.486Z"
   },
   {
    "duration": 0,
    "start_time": "2024-04-13T10:34:26.808Z"
   },
   {
    "duration": 0,
    "start_time": "2024-04-13T10:34:26.809Z"
   },
   {
    "duration": 0,
    "start_time": "2024-04-13T10:34:26.811Z"
   },
   {
    "duration": 0,
    "start_time": "2024-04-13T10:34:26.812Z"
   },
   {
    "duration": 0,
    "start_time": "2024-04-13T10:34:26.813Z"
   },
   {
    "duration": 0,
    "start_time": "2024-04-13T10:34:26.814Z"
   },
   {
    "duration": 0,
    "start_time": "2024-04-13T10:34:26.815Z"
   },
   {
    "duration": 0,
    "start_time": "2024-04-13T10:34:26.816Z"
   },
   {
    "duration": 0,
    "start_time": "2024-04-13T10:34:26.817Z"
   },
   {
    "duration": 0,
    "start_time": "2024-04-13T10:34:26.819Z"
   },
   {
    "duration": 0,
    "start_time": "2024-04-13T10:34:26.820Z"
   },
   {
    "duration": 0,
    "start_time": "2024-04-13T10:34:26.821Z"
   },
   {
    "duration": 0,
    "start_time": "2024-04-13T10:34:26.822Z"
   },
   {
    "duration": 0,
    "start_time": "2024-04-13T10:34:26.823Z"
   },
   {
    "duration": 0,
    "start_time": "2024-04-13T10:34:26.824Z"
   },
   {
    "duration": 0,
    "start_time": "2024-04-13T10:34:26.825Z"
   },
   {
    "duration": 0,
    "start_time": "2024-04-13T10:34:26.827Z"
   },
   {
    "duration": 0,
    "start_time": "2024-04-13T10:34:26.827Z"
   },
   {
    "duration": 0,
    "start_time": "2024-04-13T10:34:26.828Z"
   },
   {
    "duration": 0,
    "start_time": "2024-04-13T10:34:26.829Z"
   },
   {
    "duration": 0,
    "start_time": "2024-04-13T10:34:26.830Z"
   },
   {
    "duration": 0,
    "start_time": "2024-04-13T10:34:26.831Z"
   },
   {
    "duration": 0,
    "start_time": "2024-04-13T10:34:26.833Z"
   },
   {
    "duration": 0,
    "start_time": "2024-04-13T10:34:26.873Z"
   },
   {
    "duration": 0,
    "start_time": "2024-04-13T10:34:26.874Z"
   },
   {
    "duration": 1332,
    "start_time": "2024-04-13T10:34:36.566Z"
   },
   {
    "duration": 0,
    "start_time": "2024-04-13T10:34:37.900Z"
   },
   {
    "duration": 0,
    "start_time": "2024-04-13T10:34:37.902Z"
   },
   {
    "duration": 0,
    "start_time": "2024-04-13T10:34:37.903Z"
   },
   {
    "duration": 0,
    "start_time": "2024-04-13T10:34:37.904Z"
   },
   {
    "duration": 0,
    "start_time": "2024-04-13T10:34:37.905Z"
   },
   {
    "duration": 0,
    "start_time": "2024-04-13T10:34:37.906Z"
   },
   {
    "duration": 0,
    "start_time": "2024-04-13T10:34:37.907Z"
   },
   {
    "duration": 0,
    "start_time": "2024-04-13T10:34:37.908Z"
   },
   {
    "duration": 0,
    "start_time": "2024-04-13T10:34:37.909Z"
   },
   {
    "duration": 0,
    "start_time": "2024-04-13T10:34:37.910Z"
   },
   {
    "duration": 0,
    "start_time": "2024-04-13T10:34:37.911Z"
   },
   {
    "duration": 0,
    "start_time": "2024-04-13T10:34:37.912Z"
   },
   {
    "duration": 0,
    "start_time": "2024-04-13T10:34:37.914Z"
   },
   {
    "duration": 0,
    "start_time": "2024-04-13T10:34:37.915Z"
   },
   {
    "duration": 0,
    "start_time": "2024-04-13T10:34:37.916Z"
   },
   {
    "duration": 0,
    "start_time": "2024-04-13T10:34:37.917Z"
   },
   {
    "duration": 0,
    "start_time": "2024-04-13T10:34:37.918Z"
   },
   {
    "duration": 0,
    "start_time": "2024-04-13T10:34:37.919Z"
   },
   {
    "duration": 0,
    "start_time": "2024-04-13T10:34:37.920Z"
   },
   {
    "duration": 0,
    "start_time": "2024-04-13T10:34:37.922Z"
   },
   {
    "duration": 0,
    "start_time": "2024-04-13T10:34:37.923Z"
   },
   {
    "duration": 0,
    "start_time": "2024-04-13T10:34:37.924Z"
   },
   {
    "duration": 0,
    "start_time": "2024-04-13T10:34:37.925Z"
   },
   {
    "duration": 0,
    "start_time": "2024-04-13T10:34:37.927Z"
   },
   {
    "duration": 0,
    "start_time": "2024-04-13T10:34:37.928Z"
   },
   {
    "duration": 1280,
    "start_time": "2024-04-13T10:35:53.212Z"
   },
   {
    "duration": 0,
    "start_time": "2024-04-13T10:35:54.494Z"
   },
   {
    "duration": 0,
    "start_time": "2024-04-13T10:35:54.495Z"
   },
   {
    "duration": 0,
    "start_time": "2024-04-13T10:35:54.497Z"
   },
   {
    "duration": 0,
    "start_time": "2024-04-13T10:35:54.498Z"
   },
   {
    "duration": 0,
    "start_time": "2024-04-13T10:35:54.499Z"
   },
   {
    "duration": 0,
    "start_time": "2024-04-13T10:35:54.500Z"
   },
   {
    "duration": 0,
    "start_time": "2024-04-13T10:35:54.501Z"
   },
   {
    "duration": 0,
    "start_time": "2024-04-13T10:35:54.502Z"
   },
   {
    "duration": 0,
    "start_time": "2024-04-13T10:35:54.503Z"
   },
   {
    "duration": 0,
    "start_time": "2024-04-13T10:35:54.504Z"
   },
   {
    "duration": 0,
    "start_time": "2024-04-13T10:35:54.505Z"
   },
   {
    "duration": 0,
    "start_time": "2024-04-13T10:35:54.506Z"
   },
   {
    "duration": 0,
    "start_time": "2024-04-13T10:35:54.507Z"
   },
   {
    "duration": 0,
    "start_time": "2024-04-13T10:35:54.508Z"
   },
   {
    "duration": 0,
    "start_time": "2024-04-13T10:35:54.509Z"
   },
   {
    "duration": 0,
    "start_time": "2024-04-13T10:35:54.510Z"
   },
   {
    "duration": 0,
    "start_time": "2024-04-13T10:35:54.511Z"
   },
   {
    "duration": 0,
    "start_time": "2024-04-13T10:35:54.511Z"
   },
   {
    "duration": 0,
    "start_time": "2024-04-13T10:35:54.512Z"
   },
   {
    "duration": 1,
    "start_time": "2024-04-13T10:35:54.513Z"
   },
   {
    "duration": 0,
    "start_time": "2024-04-13T10:35:54.514Z"
   },
   {
    "duration": 0,
    "start_time": "2024-04-13T10:35:54.515Z"
   },
   {
    "duration": 0,
    "start_time": "2024-04-13T10:35:54.516Z"
   },
   {
    "duration": 0,
    "start_time": "2024-04-13T10:35:54.517Z"
   },
   {
    "duration": 0,
    "start_time": "2024-04-13T10:35:54.518Z"
   },
   {
    "duration": 77,
    "start_time": "2024-04-13T10:37:16.569Z"
   },
   {
    "duration": 11,
    "start_time": "2024-04-13T10:41:08.828Z"
   },
   {
    "duration": 1316,
    "start_time": "2024-04-13T10:41:46.181Z"
   },
   {
    "duration": 0,
    "start_time": "2024-04-13T10:41:47.499Z"
   },
   {
    "duration": 0,
    "start_time": "2024-04-13T10:41:47.500Z"
   },
   {
    "duration": 0,
    "start_time": "2024-04-13T10:41:47.502Z"
   },
   {
    "duration": 0,
    "start_time": "2024-04-13T10:41:47.503Z"
   },
   {
    "duration": 0,
    "start_time": "2024-04-13T10:41:47.504Z"
   },
   {
    "duration": 0,
    "start_time": "2024-04-13T10:41:47.505Z"
   },
   {
    "duration": 0,
    "start_time": "2024-04-13T10:41:47.506Z"
   },
   {
    "duration": 0,
    "start_time": "2024-04-13T10:41:47.507Z"
   },
   {
    "duration": 0,
    "start_time": "2024-04-13T10:41:47.508Z"
   },
   {
    "duration": 0,
    "start_time": "2024-04-13T10:41:47.509Z"
   },
   {
    "duration": 0,
    "start_time": "2024-04-13T10:41:47.510Z"
   },
   {
    "duration": 0,
    "start_time": "2024-04-13T10:41:47.511Z"
   },
   {
    "duration": 0,
    "start_time": "2024-04-13T10:41:47.512Z"
   },
   {
    "duration": 0,
    "start_time": "2024-04-13T10:41:47.513Z"
   },
   {
    "duration": 0,
    "start_time": "2024-04-13T10:41:47.514Z"
   },
   {
    "duration": 0,
    "start_time": "2024-04-13T10:41:47.515Z"
   },
   {
    "duration": 0,
    "start_time": "2024-04-13T10:41:47.516Z"
   },
   {
    "duration": 0,
    "start_time": "2024-04-13T10:41:47.517Z"
   },
   {
    "duration": 0,
    "start_time": "2024-04-13T10:41:47.518Z"
   },
   {
    "duration": 0,
    "start_time": "2024-04-13T10:41:47.520Z"
   },
   {
    "duration": 0,
    "start_time": "2024-04-13T10:41:47.521Z"
   },
   {
    "duration": 0,
    "start_time": "2024-04-13T10:41:47.522Z"
   },
   {
    "duration": 0,
    "start_time": "2024-04-13T10:41:47.523Z"
   },
   {
    "duration": 0,
    "start_time": "2024-04-13T10:41:47.524Z"
   },
   {
    "duration": 0,
    "start_time": "2024-04-13T10:41:47.525Z"
   },
   {
    "duration": 28,
    "start_time": "2024-04-13T11:00:49.641Z"
   },
   {
    "duration": 1256,
    "start_time": "2024-04-13T11:01:09.557Z"
   },
   {
    "duration": 3,
    "start_time": "2024-04-13T11:01:10.815Z"
   },
   {
    "duration": 133,
    "start_time": "2024-04-13T11:01:10.820Z"
   },
   {
    "duration": 24,
    "start_time": "2024-04-13T11:01:10.955Z"
   },
   {
    "duration": 10,
    "start_time": "2024-04-13T11:01:10.980Z"
   },
   {
    "duration": 87,
    "start_time": "2024-04-13T11:01:10.991Z"
   },
   {
    "duration": 217,
    "start_time": "2024-04-13T11:01:11.080Z"
   },
   {
    "duration": 112,
    "start_time": "2024-04-13T11:01:11.298Z"
   },
   {
    "duration": 292,
    "start_time": "2024-04-13T11:01:11.412Z"
   },
   {
    "duration": 471,
    "start_time": "2024-04-13T11:01:11.706Z"
   },
   {
    "duration": 472,
    "start_time": "2024-04-13T11:01:12.179Z"
   },
   {
    "duration": 347,
    "start_time": "2024-04-13T11:01:12.652Z"
   },
   {
    "duration": 23,
    "start_time": "2024-04-13T11:01:13.001Z"
   },
   {
    "duration": 82,
    "start_time": "2024-04-13T11:01:13.026Z"
   },
   {
    "duration": 172,
    "start_time": "2024-04-13T11:01:13.110Z"
   },
   {
    "duration": 782,
    "start_time": "2024-04-13T11:01:13.284Z"
   },
   {
    "duration": 65,
    "start_time": "2024-04-13T11:01:14.068Z"
   },
   {
    "duration": 576,
    "start_time": "2024-04-13T11:01:14.135Z"
   },
   {
    "duration": 120,
    "start_time": "2024-04-13T11:01:14.713Z"
   },
   {
    "duration": 0,
    "start_time": "2024-04-13T11:01:14.835Z"
   },
   {
    "duration": 0,
    "start_time": "2024-04-13T11:01:14.837Z"
   },
   {
    "duration": 0,
    "start_time": "2024-04-13T11:01:14.838Z"
   },
   {
    "duration": 0,
    "start_time": "2024-04-13T11:01:14.838Z"
   },
   {
    "duration": 0,
    "start_time": "2024-04-13T11:01:14.840Z"
   },
   {
    "duration": 0,
    "start_time": "2024-04-13T11:01:14.841Z"
   },
   {
    "duration": 0,
    "start_time": "2024-04-13T11:01:14.842Z"
   },
   {
    "duration": 12,
    "start_time": "2024-04-13T11:01:34.357Z"
   },
   {
    "duration": 8,
    "start_time": "2024-04-13T11:01:46.356Z"
   },
   {
    "duration": 16,
    "start_time": "2024-04-13T11:02:47.254Z"
   },
   {
    "duration": 1226,
    "start_time": "2024-04-13T13:07:10.573Z"
   },
   {
    "duration": 3,
    "start_time": "2024-04-13T13:07:11.801Z"
   },
   {
    "duration": 120,
    "start_time": "2024-04-13T13:07:11.805Z"
   },
   {
    "duration": 48,
    "start_time": "2024-04-13T13:07:11.927Z"
   },
   {
    "duration": 12,
    "start_time": "2024-04-13T13:07:11.977Z"
   },
   {
    "duration": 83,
    "start_time": "2024-04-13T13:07:11.991Z"
   },
   {
    "duration": 297,
    "start_time": "2024-04-13T13:07:12.076Z"
   },
   {
    "duration": 112,
    "start_time": "2024-04-13T13:07:12.374Z"
   },
   {
    "duration": 290,
    "start_time": "2024-04-13T13:07:12.487Z"
   },
   {
    "duration": 460,
    "start_time": "2024-04-13T13:07:12.779Z"
   },
   {
    "duration": 506,
    "start_time": "2024-04-13T13:07:13.240Z"
   },
   {
    "duration": 299,
    "start_time": "2024-04-13T13:07:13.747Z"
   },
   {
    "duration": 33,
    "start_time": "2024-04-13T13:07:14.047Z"
   },
   {
    "duration": 74,
    "start_time": "2024-04-13T13:07:14.081Z"
   },
   {
    "duration": 172,
    "start_time": "2024-04-13T13:07:14.157Z"
   },
   {
    "duration": 790,
    "start_time": "2024-04-13T13:07:14.331Z"
   },
   {
    "duration": 64,
    "start_time": "2024-04-13T13:07:15.123Z"
   },
   {
    "duration": 551,
    "start_time": "2024-04-13T13:07:15.189Z"
   },
   {
    "duration": 7,
    "start_time": "2024-04-13T13:07:15.742Z"
   },
   {
    "duration": 9,
    "start_time": "2024-04-13T13:07:15.751Z"
   },
   {
    "duration": 125,
    "start_time": "2024-04-13T13:07:15.772Z"
   },
   {
    "duration": 16,
    "start_time": "2024-04-13T13:07:15.898Z"
   },
   {
    "duration": 33,
    "start_time": "2024-04-13T13:07:15.915Z"
   },
   {
    "duration": 262,
    "start_time": "2024-04-13T13:07:15.949Z"
   },
   {
    "duration": 232,
    "start_time": "2024-04-13T13:07:16.212Z"
   },
   {
    "duration": 4998,
    "start_time": "2024-04-13T13:07:16.446Z"
   },
   {
    "duration": 1262,
    "start_time": "2024-04-13T13:20:37.752Z"
   },
   {
    "duration": 3,
    "start_time": "2024-04-13T13:20:39.016Z"
   },
   {
    "duration": 134,
    "start_time": "2024-04-13T13:20:39.020Z"
   },
   {
    "duration": 28,
    "start_time": "2024-04-13T13:20:39.156Z"
   },
   {
    "duration": 11,
    "start_time": "2024-04-13T13:20:39.186Z"
   },
   {
    "duration": 82,
    "start_time": "2024-04-13T13:20:39.199Z"
   },
   {
    "duration": 242,
    "start_time": "2024-04-13T13:20:39.282Z"
   },
   {
    "duration": 118,
    "start_time": "2024-04-13T13:20:39.527Z"
   },
   {
    "duration": 300,
    "start_time": "2024-04-13T13:20:39.647Z"
   },
   {
    "duration": 491,
    "start_time": "2024-04-13T13:20:39.950Z"
   },
   {
    "duration": 483,
    "start_time": "2024-04-13T13:20:40.443Z"
   },
   {
    "duration": 321,
    "start_time": "2024-04-13T13:20:40.928Z"
   },
   {
    "duration": 32,
    "start_time": "2024-04-13T13:20:41.250Z"
   },
   {
    "duration": 57,
    "start_time": "2024-04-13T13:20:41.283Z"
   },
   {
    "duration": 210,
    "start_time": "2024-04-13T13:20:41.341Z"
   },
   {
    "duration": 0,
    "start_time": "2024-04-13T13:20:41.553Z"
   },
   {
    "duration": 0,
    "start_time": "2024-04-13T13:20:41.554Z"
   },
   {
    "duration": 0,
    "start_time": "2024-04-13T13:20:41.555Z"
   },
   {
    "duration": 0,
    "start_time": "2024-04-13T13:20:41.556Z"
   },
   {
    "duration": 0,
    "start_time": "2024-04-13T13:20:41.557Z"
   },
   {
    "duration": 0,
    "start_time": "2024-04-13T13:20:41.573Z"
   },
   {
    "duration": 0,
    "start_time": "2024-04-13T13:20:41.574Z"
   },
   {
    "duration": 0,
    "start_time": "2024-04-13T13:20:41.575Z"
   },
   {
    "duration": 0,
    "start_time": "2024-04-13T13:20:41.576Z"
   },
   {
    "duration": 0,
    "start_time": "2024-04-13T13:20:41.577Z"
   },
   {
    "duration": 0,
    "start_time": "2024-04-13T13:20:41.578Z"
   },
   {
    "duration": 98,
    "start_time": "2024-04-13T13:21:37.193Z"
   },
   {
    "duration": 97,
    "start_time": "2024-04-13T13:21:57.426Z"
   },
   {
    "duration": 196,
    "start_time": "2024-04-13T13:22:48.826Z"
   },
   {
    "duration": 99,
    "start_time": "2024-04-13T13:23:19.283Z"
   },
   {
    "duration": 198,
    "start_time": "2024-04-13T13:24:01.292Z"
   },
   {
    "duration": 1204,
    "start_time": "2024-04-13T13:28:23.390Z"
   },
   {
    "duration": 3,
    "start_time": "2024-04-13T13:28:24.596Z"
   },
   {
    "duration": 133,
    "start_time": "2024-04-13T13:28:24.601Z"
   },
   {
    "duration": 26,
    "start_time": "2024-04-13T13:28:24.736Z"
   },
   {
    "duration": 15,
    "start_time": "2024-04-13T13:28:24.774Z"
   },
   {
    "duration": 89,
    "start_time": "2024-04-13T13:28:24.791Z"
   },
   {
    "duration": 219,
    "start_time": "2024-04-13T13:28:24.881Z"
   },
   {
    "duration": 124,
    "start_time": "2024-04-13T13:28:25.103Z"
   },
   {
    "duration": 308,
    "start_time": "2024-04-13T13:28:25.228Z"
   },
   {
    "duration": 461,
    "start_time": "2024-04-13T13:28:25.537Z"
   },
   {
    "duration": 476,
    "start_time": "2024-04-13T13:28:26.000Z"
   },
   {
    "duration": 303,
    "start_time": "2024-04-13T13:28:26.478Z"
   },
   {
    "duration": 22,
    "start_time": "2024-04-13T13:28:26.783Z"
   },
   {
    "duration": 85,
    "start_time": "2024-04-13T13:28:26.807Z"
   },
   {
    "duration": 211,
    "start_time": "2024-04-13T13:28:26.894Z"
   },
   {
    "duration": 761,
    "start_time": "2024-04-13T13:28:27.106Z"
   },
   {
    "duration": 56,
    "start_time": "2024-04-13T13:28:27.868Z"
   },
   {
    "duration": 572,
    "start_time": "2024-04-13T13:28:27.926Z"
   },
   {
    "duration": 7,
    "start_time": "2024-04-13T13:28:28.500Z"
   },
   {
    "duration": 13,
    "start_time": "2024-04-13T13:28:28.509Z"
   },
   {
    "duration": 145,
    "start_time": "2024-04-13T13:28:28.524Z"
   },
   {
    "duration": 16,
    "start_time": "2024-04-13T13:28:28.671Z"
   },
   {
    "duration": 36,
    "start_time": "2024-04-13T13:28:28.689Z"
   },
   {
    "duration": 242,
    "start_time": "2024-04-13T13:28:28.727Z"
   },
   {
    "duration": 232,
    "start_time": "2024-04-13T13:28:28.971Z"
   },
   {
    "duration": 5833,
    "start_time": "2024-04-13T13:28:29.205Z"
   },
   {
    "duration": 1209,
    "start_time": "2024-04-13T16:22:05.838Z"
   },
   {
    "duration": 3,
    "start_time": "2024-04-13T16:22:07.049Z"
   },
   {
    "duration": 121,
    "start_time": "2024-04-13T16:22:07.053Z"
   },
   {
    "duration": 26,
    "start_time": "2024-04-13T16:22:07.176Z"
   },
   {
    "duration": 19,
    "start_time": "2024-04-13T16:22:07.204Z"
   },
   {
    "duration": 57,
    "start_time": "2024-04-13T16:22:07.225Z"
   },
   {
    "duration": 224,
    "start_time": "2024-04-13T16:22:07.284Z"
   },
   {
    "duration": 113,
    "start_time": "2024-04-13T16:22:07.514Z"
   },
   {
    "duration": 288,
    "start_time": "2024-04-13T16:22:07.629Z"
   },
   {
    "duration": 488,
    "start_time": "2024-04-13T16:22:07.919Z"
   },
   {
    "duration": 452,
    "start_time": "2024-04-13T16:22:08.409Z"
   },
   {
    "duration": 295,
    "start_time": "2024-04-13T16:22:08.863Z"
   },
   {
    "duration": 22,
    "start_time": "2024-04-13T16:22:09.160Z"
   },
   {
    "duration": 75,
    "start_time": "2024-04-13T16:22:09.186Z"
   },
   {
    "duration": 216,
    "start_time": "2024-04-13T16:22:09.263Z"
   },
   {
    "duration": 713,
    "start_time": "2024-04-13T16:22:09.481Z"
   },
   {
    "duration": 61,
    "start_time": "2024-04-13T16:22:10.196Z"
   },
   {
    "duration": 539,
    "start_time": "2024-04-13T16:22:10.259Z"
   },
   {
    "duration": 15,
    "start_time": "2024-04-13T16:22:10.800Z"
   },
   {
    "duration": 31,
    "start_time": "2024-04-13T16:22:10.817Z"
   },
   {
    "duration": 136,
    "start_time": "2024-04-13T16:22:10.850Z"
   },
   {
    "duration": 15,
    "start_time": "2024-04-13T16:22:10.988Z"
   },
   {
    "duration": 29,
    "start_time": "2024-04-13T16:22:11.014Z"
   },
   {
    "duration": 224,
    "start_time": "2024-04-13T16:22:11.044Z"
   },
   {
    "duration": 220,
    "start_time": "2024-04-13T16:22:11.270Z"
   },
   {
    "duration": 4841,
    "start_time": "2024-04-13T16:22:11.491Z"
   },
   {
    "duration": 9,
    "start_time": "2024-04-13T17:41:27.444Z"
   },
   {
    "duration": 1207,
    "start_time": "2024-04-13T17:56:02.646Z"
   },
   {
    "duration": 3,
    "start_time": "2024-04-13T17:56:03.855Z"
   },
   {
    "duration": 118,
    "start_time": "2024-04-13T17:56:03.859Z"
   },
   {
    "duration": 40,
    "start_time": "2024-04-13T17:56:03.978Z"
   },
   {
    "duration": 16,
    "start_time": "2024-04-13T17:56:04.021Z"
   },
   {
    "duration": 79,
    "start_time": "2024-04-13T17:56:04.039Z"
   },
   {
    "duration": 265,
    "start_time": "2024-04-13T17:56:04.120Z"
   },
   {
    "duration": 112,
    "start_time": "2024-04-13T17:56:04.387Z"
   },
   {
    "duration": 304,
    "start_time": "2024-04-13T17:56:04.500Z"
   },
   {
    "duration": 480,
    "start_time": "2024-04-13T17:56:04.805Z"
   },
   {
    "duration": 520,
    "start_time": "2024-04-13T17:56:05.287Z"
   },
   {
    "duration": 318,
    "start_time": "2024-04-13T17:56:05.815Z"
   },
   {
    "duration": 23,
    "start_time": "2024-04-13T17:56:06.135Z"
   },
   {
    "duration": 81,
    "start_time": "2024-04-13T17:56:06.161Z"
   },
   {
    "duration": 226,
    "start_time": "2024-04-13T17:56:06.244Z"
   },
   {
    "duration": 828,
    "start_time": "2024-04-13T17:56:06.472Z"
   },
   {
    "duration": 60,
    "start_time": "2024-04-13T17:56:07.302Z"
   },
   {
    "duration": 558,
    "start_time": "2024-04-13T17:56:07.364Z"
   },
   {
    "duration": 8,
    "start_time": "2024-04-13T17:56:07.924Z"
   },
   {
    "duration": 5,
    "start_time": "2024-04-13T17:56:07.933Z"
   },
   {
    "duration": 144,
    "start_time": "2024-04-13T17:56:07.940Z"
   },
   {
    "duration": 16,
    "start_time": "2024-04-13T17:56:08.085Z"
   },
   {
    "duration": 27,
    "start_time": "2024-04-13T17:56:08.114Z"
   },
   {
    "duration": 249,
    "start_time": "2024-04-13T17:56:08.143Z"
   },
   {
    "duration": 252,
    "start_time": "2024-04-13T17:56:08.394Z"
   },
   {
    "duration": 4920,
    "start_time": "2024-04-13T17:56:08.648Z"
   },
   {
    "duration": 1224,
    "start_time": "2024-04-13T20:09:59.741Z"
   },
   {
    "duration": 4,
    "start_time": "2024-04-13T20:10:00.967Z"
   },
   {
    "duration": 171,
    "start_time": "2024-04-13T20:10:00.972Z"
   },
   {
    "duration": 35,
    "start_time": "2024-04-13T20:10:01.144Z"
   },
   {
    "duration": 36,
    "start_time": "2024-04-13T20:10:01.180Z"
   },
   {
    "duration": 85,
    "start_time": "2024-04-13T20:10:01.218Z"
   },
   {
    "duration": 228,
    "start_time": "2024-04-13T20:10:01.305Z"
   },
   {
    "duration": 115,
    "start_time": "2024-04-13T20:10:01.535Z"
   },
   {
    "duration": 296,
    "start_time": "2024-04-13T20:10:01.651Z"
   },
   {
    "duration": 460,
    "start_time": "2024-04-13T20:10:01.950Z"
   },
   {
    "duration": 478,
    "start_time": "2024-04-13T20:10:02.415Z"
   },
   {
    "duration": 297,
    "start_time": "2024-04-13T20:10:02.895Z"
   },
   {
    "duration": 29,
    "start_time": "2024-04-13T20:10:03.194Z"
   },
   {
    "duration": 67,
    "start_time": "2024-04-13T20:10:03.225Z"
   },
   {
    "duration": 235,
    "start_time": "2024-04-13T20:10:03.294Z"
   },
   {
    "duration": 773,
    "start_time": "2024-04-13T20:10:03.530Z"
   },
   {
    "duration": 57,
    "start_time": "2024-04-13T20:10:04.304Z"
   },
   {
    "duration": 557,
    "start_time": "2024-04-13T20:10:04.362Z"
   },
   {
    "duration": 8,
    "start_time": "2024-04-13T20:10:04.920Z"
   },
   {
    "duration": 5,
    "start_time": "2024-04-13T20:10:04.930Z"
   },
   {
    "duration": 138,
    "start_time": "2024-04-13T20:10:04.936Z"
   },
   {
    "duration": 15,
    "start_time": "2024-04-13T20:10:05.075Z"
   },
   {
    "duration": 37,
    "start_time": "2024-04-13T20:10:05.091Z"
   },
   {
    "duration": 242,
    "start_time": "2024-04-13T20:10:05.129Z"
   },
   {
    "duration": 247,
    "start_time": "2024-04-13T20:10:05.373Z"
   },
   {
    "duration": 4835,
    "start_time": "2024-04-13T20:10:05.621Z"
   },
   {
    "duration": 16,
    "start_time": "2024-04-13T20:41:03.387Z"
   },
   {
    "duration": 16,
    "start_time": "2024-04-13T20:41:07.370Z"
   },
   {
    "duration": 6,
    "start_time": "2024-04-13T20:41:53.413Z"
   },
   {
    "duration": 89,
    "start_time": "2024-04-13T20:51:14.953Z"
   },
   {
    "duration": 15,
    "start_time": "2024-04-13T20:51:25.105Z"
   },
   {
    "duration": 1259,
    "start_time": "2024-04-13T20:51:47.963Z"
   },
   {
    "duration": 3,
    "start_time": "2024-04-13T20:51:49.224Z"
   },
   {
    "duration": 111,
    "start_time": "2024-04-13T20:51:49.229Z"
   },
   {
    "duration": 27,
    "start_time": "2024-04-13T20:51:49.342Z"
   },
   {
    "duration": 10,
    "start_time": "2024-04-13T20:51:49.372Z"
   },
   {
    "duration": 55,
    "start_time": "2024-04-13T20:51:49.384Z"
   },
   {
    "duration": 237,
    "start_time": "2024-04-13T20:51:49.440Z"
   },
   {
    "duration": 111,
    "start_time": "2024-04-13T20:51:49.678Z"
   },
   {
    "duration": 286,
    "start_time": "2024-04-13T20:51:49.790Z"
   },
   {
    "duration": 468,
    "start_time": "2024-04-13T20:51:50.078Z"
   },
   {
    "duration": 471,
    "start_time": "2024-04-13T20:51:50.548Z"
   },
   {
    "duration": 295,
    "start_time": "2024-04-13T20:51:51.021Z"
   },
   {
    "duration": 21,
    "start_time": "2024-04-13T20:51:51.318Z"
   },
   {
    "duration": 72,
    "start_time": "2024-04-13T20:51:51.341Z"
   },
   {
    "duration": 215,
    "start_time": "2024-04-13T20:51:51.415Z"
   },
   {
    "duration": 769,
    "start_time": "2024-04-13T20:51:51.631Z"
   },
   {
    "duration": 53,
    "start_time": "2024-04-13T20:51:52.401Z"
   },
   {
    "duration": 556,
    "start_time": "2024-04-13T20:51:52.455Z"
   },
   {
    "duration": 5,
    "start_time": "2024-04-13T20:51:53.014Z"
   },
   {
    "duration": 6,
    "start_time": "2024-04-13T20:51:53.021Z"
   },
   {
    "duration": 117,
    "start_time": "2024-04-13T20:51:53.029Z"
   },
   {
    "duration": 237,
    "start_time": "2024-04-13T20:51:53.148Z"
   },
   {
    "duration": 5801,
    "start_time": "2024-04-13T20:51:53.386Z"
   },
   {
    "duration": 23,
    "start_time": "2024-04-13T20:52:31.338Z"
   },
   {
    "duration": 28,
    "start_time": "2024-04-13T20:53:43.180Z"
   },
   {
    "duration": 27,
    "start_time": "2024-04-13T20:54:35.076Z"
   },
   {
    "duration": 31,
    "start_time": "2024-04-13T20:55:13.453Z"
   },
   {
    "duration": 1128,
    "start_time": "2024-04-13T23:00:32.836Z"
   },
   {
    "duration": 3,
    "start_time": "2024-04-13T23:00:33.966Z"
   },
   {
    "duration": 112,
    "start_time": "2024-04-13T23:00:33.970Z"
   },
   {
    "duration": 38,
    "start_time": "2024-04-13T23:00:34.084Z"
   },
   {
    "duration": 11,
    "start_time": "2024-04-13T23:00:34.125Z"
   },
   {
    "duration": 87,
    "start_time": "2024-04-13T23:00:34.138Z"
   },
   {
    "duration": 215,
    "start_time": "2024-04-13T23:00:34.227Z"
   },
   {
    "duration": 110,
    "start_time": "2024-04-13T23:00:34.444Z"
   },
   {
    "duration": 288,
    "start_time": "2024-04-13T23:00:34.556Z"
   },
   {
    "duration": 461,
    "start_time": "2024-04-13T23:00:34.846Z"
   },
   {
    "duration": 472,
    "start_time": "2024-04-13T23:00:35.308Z"
   },
   {
    "duration": 292,
    "start_time": "2024-04-13T23:00:35.782Z"
   },
   {
    "duration": 20,
    "start_time": "2024-04-13T23:00:36.076Z"
   },
   {
    "duration": 69,
    "start_time": "2024-04-13T23:00:36.098Z"
   },
   {
    "duration": 203,
    "start_time": "2024-04-13T23:00:36.169Z"
   },
   {
    "duration": 755,
    "start_time": "2024-04-13T23:00:36.373Z"
   },
   {
    "duration": 51,
    "start_time": "2024-04-13T23:00:37.130Z"
   },
   {
    "duration": 535,
    "start_time": "2024-04-13T23:00:37.182Z"
   },
   {
    "duration": 5,
    "start_time": "2024-04-13T23:00:37.719Z"
   },
   {
    "duration": 7,
    "start_time": "2024-04-13T23:00:37.725Z"
   },
   {
    "duration": 134,
    "start_time": "2024-04-13T23:00:37.734Z"
   },
   {
    "duration": 229,
    "start_time": "2024-04-13T23:00:37.869Z"
   },
   {
    "duration": 4934,
    "start_time": "2024-04-13T23:00:38.100Z"
   },
   {
    "duration": 34,
    "start_time": "2024-04-13T23:04:35.788Z"
   },
   {
    "duration": 30,
    "start_time": "2024-04-13T23:05:03.243Z"
   },
   {
    "duration": 31,
    "start_time": "2024-04-13T23:06:28.524Z"
   },
   {
    "duration": 32,
    "start_time": "2024-04-13T23:09:24.829Z"
   },
   {
    "duration": 41,
    "start_time": "2024-04-13T23:16:16.720Z"
   },
   {
    "duration": 928,
    "start_time": "2024-04-13T23:18:33.825Z"
   },
   {
    "duration": 31,
    "start_time": "2024-04-13T23:18:44.305Z"
   },
   {
    "duration": 1251,
    "start_time": "2024-04-13T23:19:57.796Z"
   },
   {
    "duration": 3,
    "start_time": "2024-04-13T23:19:59.049Z"
   },
   {
    "duration": 110,
    "start_time": "2024-04-13T23:19:59.054Z"
   },
   {
    "duration": 26,
    "start_time": "2024-04-13T23:19:59.167Z"
   },
   {
    "duration": 21,
    "start_time": "2024-04-13T23:19:59.195Z"
   },
   {
    "duration": 54,
    "start_time": "2024-04-13T23:19:59.218Z"
   },
   {
    "duration": 246,
    "start_time": "2024-04-13T23:19:59.273Z"
   },
   {
    "duration": 115,
    "start_time": "2024-04-13T23:19:59.521Z"
   },
   {
    "duration": 288,
    "start_time": "2024-04-13T23:19:59.638Z"
   },
   {
    "duration": 451,
    "start_time": "2024-04-13T23:19:59.928Z"
   },
   {
    "duration": 471,
    "start_time": "2024-04-13T23:20:00.381Z"
   },
   {
    "duration": 321,
    "start_time": "2024-04-13T23:20:00.854Z"
   },
   {
    "duration": 20,
    "start_time": "2024-04-13T23:20:01.177Z"
   },
   {
    "duration": 95,
    "start_time": "2024-04-13T23:20:01.199Z"
   },
   {
    "duration": 193,
    "start_time": "2024-04-13T23:20:01.296Z"
   },
   {
    "duration": 766,
    "start_time": "2024-04-13T23:20:01.491Z"
   },
   {
    "duration": 70,
    "start_time": "2024-04-13T23:20:02.258Z"
   },
   {
    "duration": 554,
    "start_time": "2024-04-13T23:20:02.330Z"
   },
   {
    "duration": 6,
    "start_time": "2024-04-13T23:20:02.886Z"
   },
   {
    "duration": 21,
    "start_time": "2024-04-13T23:20:02.893Z"
   },
   {
    "duration": 120,
    "start_time": "2024-04-13T23:20:02.916Z"
   },
   {
    "duration": 225,
    "start_time": "2024-04-13T23:20:03.037Z"
   },
   {
    "duration": 4928,
    "start_time": "2024-04-13T23:20:03.263Z"
   },
   {
    "duration": 1329,
    "start_time": "2024-04-13T23:59:11.857Z"
   },
   {
    "duration": 3,
    "start_time": "2024-04-13T23:59:13.188Z"
   },
   {
    "duration": 250,
    "start_time": "2024-04-13T23:59:13.193Z"
   },
   {
    "duration": 24,
    "start_time": "2024-04-13T23:59:13.446Z"
   },
   {
    "duration": 8,
    "start_time": "2024-04-13T23:59:13.472Z"
   },
   {
    "duration": 54,
    "start_time": "2024-04-13T23:59:13.481Z"
   },
   {
    "duration": 229,
    "start_time": "2024-04-13T23:59:13.537Z"
   },
   {
    "duration": 144,
    "start_time": "2024-04-13T23:59:13.768Z"
   },
   {
    "duration": 288,
    "start_time": "2024-04-13T23:59:13.914Z"
   },
   {
    "duration": 428,
    "start_time": "2024-04-13T23:59:14.204Z"
   },
   {
    "duration": 444,
    "start_time": "2024-04-13T23:59:14.633Z"
   },
   {
    "duration": 288,
    "start_time": "2024-04-13T23:59:15.079Z"
   },
   {
    "duration": 19,
    "start_time": "2024-04-13T23:59:15.369Z"
   },
   {
    "duration": 77,
    "start_time": "2024-04-13T23:59:15.389Z"
   },
   {
    "duration": 221,
    "start_time": "2024-04-13T23:59:15.467Z"
   },
   {
    "duration": 719,
    "start_time": "2024-04-13T23:59:15.690Z"
   },
   {
    "duration": 62,
    "start_time": "2024-04-13T23:59:16.411Z"
   },
   {
    "duration": 576,
    "start_time": "2024-04-13T23:59:16.475Z"
   },
   {
    "duration": 6,
    "start_time": "2024-04-13T23:59:17.052Z"
   },
   {
    "duration": 5,
    "start_time": "2024-04-13T23:59:17.066Z"
   },
   {
    "duration": 151,
    "start_time": "2024-04-13T23:59:17.074Z"
   },
   {
    "duration": 215,
    "start_time": "2024-04-13T23:59:17.226Z"
   },
   {
    "duration": 4665,
    "start_time": "2024-04-13T23:59:17.443Z"
   },
   {
    "duration": 39,
    "start_time": "2024-04-14T00:01:41.510Z"
   },
   {
    "duration": 42,
    "start_time": "2024-04-14T00:04:41.166Z"
   },
   {
    "duration": 24,
    "start_time": "2024-04-14T00:05:48.319Z"
   },
   {
    "duration": 23,
    "start_time": "2024-04-14T00:06:29.279Z"
   },
   {
    "duration": 116,
    "start_time": "2024-04-14T00:11:08.946Z"
   },
   {
    "duration": 33,
    "start_time": "2024-04-14T00:11:33.314Z"
   },
   {
    "duration": 32,
    "start_time": "2024-04-14T00:13:05.791Z"
   },
   {
    "duration": 23,
    "start_time": "2024-04-14T00:13:25.133Z"
   },
   {
    "duration": 24,
    "start_time": "2024-04-14T00:17:02.901Z"
   },
   {
    "duration": 18,
    "start_time": "2024-04-14T00:19:24.894Z"
   },
   {
    "duration": 1194,
    "start_time": "2024-04-14T00:21:53.865Z"
   },
   {
    "duration": 1066,
    "start_time": "2024-04-14T00:22:29.465Z"
   },
   {
    "duration": 1673,
    "start_time": "2024-04-14T00:23:01.105Z"
   },
   {
    "duration": 15,
    "start_time": "2024-04-14T00:23:50.202Z"
   },
   {
    "duration": 34,
    "start_time": "2024-04-14T00:24:28.042Z"
   },
   {
    "duration": 1272,
    "start_time": "2024-04-14T00:26:59.626Z"
   },
   {
    "duration": 3,
    "start_time": "2024-04-14T00:27:00.900Z"
   },
   {
    "duration": 167,
    "start_time": "2024-04-14T00:27:00.904Z"
   },
   {
    "duration": 27,
    "start_time": "2024-04-14T00:27:01.073Z"
   },
   {
    "duration": 31,
    "start_time": "2024-04-14T00:27:01.102Z"
   },
   {
    "duration": 102,
    "start_time": "2024-04-14T00:27:01.135Z"
   },
   {
    "duration": 209,
    "start_time": "2024-04-14T00:27:01.238Z"
   },
   {
    "duration": 133,
    "start_time": "2024-04-14T00:27:01.449Z"
   },
   {
    "duration": 315,
    "start_time": "2024-04-14T00:27:01.584Z"
   },
   {
    "duration": 461,
    "start_time": "2024-04-14T00:27:01.902Z"
   },
   {
    "duration": 434,
    "start_time": "2024-04-14T00:27:02.365Z"
   },
   {
    "duration": 315,
    "start_time": "2024-04-14T00:27:02.800Z"
   },
   {
    "duration": 25,
    "start_time": "2024-04-14T00:27:03.117Z"
   },
   {
    "duration": 73,
    "start_time": "2024-04-14T00:27:03.144Z"
   },
   {
    "duration": 214,
    "start_time": "2024-04-14T00:27:03.219Z"
   },
   {
    "duration": 711,
    "start_time": "2024-04-14T00:27:03.435Z"
   },
   {
    "duration": 61,
    "start_time": "2024-04-14T00:27:04.148Z"
   },
   {
    "duration": 555,
    "start_time": "2024-04-14T00:27:04.210Z"
   },
   {
    "duration": 8,
    "start_time": "2024-04-14T00:27:04.767Z"
   },
   {
    "duration": 7,
    "start_time": "2024-04-14T00:27:04.777Z"
   },
   {
    "duration": 11,
    "start_time": "2024-04-14T00:27:04.786Z"
   },
   {
    "duration": 320,
    "start_time": "2024-04-14T00:27:04.798Z"
   },
   {
    "duration": 5374,
    "start_time": "2024-04-14T00:27:05.119Z"
   },
   {
    "duration": 375,
    "start_time": "2024-04-14T00:28:32.502Z"
   },
   {
    "duration": 204,
    "start_time": "2024-04-14T00:28:42.735Z"
   },
   {
    "duration": 1145,
    "start_time": "2024-04-14T00:29:08.673Z"
   },
   {
    "duration": 3,
    "start_time": "2024-04-14T00:29:09.820Z"
   },
   {
    "duration": 107,
    "start_time": "2024-04-14T00:29:09.825Z"
   },
   {
    "duration": 24,
    "start_time": "2024-04-14T00:29:09.934Z"
   },
   {
    "duration": 10,
    "start_time": "2024-04-14T00:29:09.959Z"
   },
   {
    "duration": 53,
    "start_time": "2024-04-14T00:29:09.970Z"
   },
   {
    "duration": 214,
    "start_time": "2024-04-14T00:29:10.024Z"
   },
   {
    "duration": 101,
    "start_time": "2024-04-14T00:29:10.240Z"
   },
   {
    "duration": 285,
    "start_time": "2024-04-14T00:29:10.342Z"
   },
   {
    "duration": 499,
    "start_time": "2024-04-14T00:29:10.630Z"
   },
   {
    "duration": 436,
    "start_time": "2024-04-14T00:29:11.131Z"
   },
   {
    "duration": 282,
    "start_time": "2024-04-14T00:29:11.568Z"
   },
   {
    "duration": 24,
    "start_time": "2024-04-14T00:29:11.852Z"
   },
   {
    "duration": 56,
    "start_time": "2024-04-14T00:29:11.877Z"
   },
   {
    "duration": 205,
    "start_time": "2024-04-14T00:29:11.935Z"
   },
   {
    "duration": 721,
    "start_time": "2024-04-14T00:29:12.142Z"
   },
   {
    "duration": 50,
    "start_time": "2024-04-14T00:29:12.865Z"
   },
   {
    "duration": 523,
    "start_time": "2024-04-14T00:29:12.917Z"
   },
   {
    "duration": 6,
    "start_time": "2024-04-14T00:29:13.441Z"
   },
   {
    "duration": 15,
    "start_time": "2024-04-14T00:29:13.448Z"
   },
   {
    "duration": 10,
    "start_time": "2024-04-14T00:29:13.465Z"
   },
   {
    "duration": 312,
    "start_time": "2024-04-14T00:29:13.476Z"
   },
   {
    "duration": 4786,
    "start_time": "2024-04-14T00:29:13.790Z"
   },
   {
    "duration": 1119,
    "start_time": "2024-04-14T00:30:52.605Z"
   },
   {
    "duration": 4,
    "start_time": "2024-04-14T00:30:53.726Z"
   },
   {
    "duration": 146,
    "start_time": "2024-04-14T00:30:53.731Z"
   },
   {
    "duration": 31,
    "start_time": "2024-04-14T00:30:53.880Z"
   },
   {
    "duration": 9,
    "start_time": "2024-04-14T00:30:53.913Z"
   },
   {
    "duration": 75,
    "start_time": "2024-04-14T00:30:53.924Z"
   },
   {
    "duration": 224,
    "start_time": "2024-04-14T00:30:54.001Z"
   },
   {
    "duration": 104,
    "start_time": "2024-04-14T00:30:54.227Z"
   },
   {
    "duration": 271,
    "start_time": "2024-04-14T00:30:54.333Z"
   },
   {
    "duration": 442,
    "start_time": "2024-04-14T00:30:54.607Z"
   },
   {
    "duration": 498,
    "start_time": "2024-04-14T00:30:55.051Z"
   },
   {
    "duration": 283,
    "start_time": "2024-04-14T00:30:55.550Z"
   },
   {
    "duration": 27,
    "start_time": "2024-04-14T00:30:55.835Z"
   },
   {
    "duration": 58,
    "start_time": "2024-04-14T00:30:55.863Z"
   },
   {
    "duration": 242,
    "start_time": "2024-04-14T00:30:55.922Z"
   },
   {
    "duration": 707,
    "start_time": "2024-04-14T00:30:56.166Z"
   },
   {
    "duration": 62,
    "start_time": "2024-04-14T00:30:56.875Z"
   },
   {
    "duration": 539,
    "start_time": "2024-04-14T00:30:56.960Z"
   },
   {
    "duration": 5,
    "start_time": "2024-04-14T00:30:57.501Z"
   },
   {
    "duration": 7,
    "start_time": "2024-04-14T00:30:57.507Z"
   },
   {
    "duration": 9,
    "start_time": "2024-04-14T00:30:57.515Z"
   },
   {
    "duration": 312,
    "start_time": "2024-04-14T00:30:57.526Z"
   },
   {
    "duration": 4721,
    "start_time": "2024-04-14T00:30:57.840Z"
   },
   {
    "duration": 1341,
    "start_time": "2024-04-14T13:29:34.292Z"
   },
   {
    "duration": 3,
    "start_time": "2024-04-14T13:29:35.635Z"
   },
   {
    "duration": 342,
    "start_time": "2024-04-14T13:29:35.639Z"
   },
   {
    "duration": 25,
    "start_time": "2024-04-14T13:29:35.983Z"
   },
   {
    "duration": 10,
    "start_time": "2024-04-14T13:29:36.009Z"
   },
   {
    "duration": 77,
    "start_time": "2024-04-14T13:29:36.020Z"
   },
   {
    "duration": 213,
    "start_time": "2024-04-14T13:29:36.099Z"
   },
   {
    "duration": 110,
    "start_time": "2024-04-14T13:29:36.314Z"
   },
   {
    "duration": 272,
    "start_time": "2024-04-14T13:29:36.426Z"
   },
   {
    "duration": 455,
    "start_time": "2024-04-14T13:29:36.700Z"
   },
   {
    "duration": 459,
    "start_time": "2024-04-14T13:29:37.157Z"
   },
   {
    "duration": 288,
    "start_time": "2024-04-14T13:29:37.618Z"
   },
   {
    "duration": 22,
    "start_time": "2024-04-14T13:29:37.908Z"
   },
   {
    "duration": 77,
    "start_time": "2024-04-14T13:29:37.932Z"
   },
   {
    "duration": 211,
    "start_time": "2024-04-14T13:29:38.011Z"
   },
   {
    "duration": 717,
    "start_time": "2024-04-14T13:29:38.223Z"
   },
   {
    "duration": 57,
    "start_time": "2024-04-14T13:29:38.941Z"
   },
   {
    "duration": 541,
    "start_time": "2024-04-14T13:29:38.999Z"
   },
   {
    "duration": 6,
    "start_time": "2024-04-14T13:29:39.541Z"
   },
   {
    "duration": 5,
    "start_time": "2024-04-14T13:29:39.555Z"
   },
   {
    "duration": 9,
    "start_time": "2024-04-14T13:29:39.561Z"
   },
   {
    "duration": 311,
    "start_time": "2024-04-14T13:29:39.571Z"
   },
   {
    "duration": 5051,
    "start_time": "2024-04-14T13:29:39.885Z"
   }
  ],
  "kernelspec": {
   "display_name": "Python 3 (ipykernel)",
   "language": "python",
   "name": "python3"
  },
  "language_info": {
   "codemirror_mode": {
    "name": "ipython",
    "version": 3
   },
   "file_extension": ".py",
   "mimetype": "text/x-python",
   "name": "python",
   "nbconvert_exporter": "python",
   "pygments_lexer": "ipython3",
   "version": "3.12.11"
  },
  "toc": {
   "base_numbering": 1,
   "nav_menu": {},
   "number_sections": true,
   "sideBar": true,
   "skip_h1_title": true,
   "title_cell": "Table of Contents",
   "title_sidebar": "Contents",
   "toc_cell": false,
   "toc_position": {
    "height": "calc(100% - 180px)",
    "left": "10px",
    "top": "150px",
    "width": "165px"
   },
   "toc_section_display": true,
   "toc_window_display": true
  }
 },
 "nbformat": 4,
 "nbformat_minor": 5
}
