{
  "cells": [
    {
      "cell_type": "markdown",
      "metadata": {
        "id": "view-in-github",
        "colab_type": "text"
      },
      "source": [
        "<a href=\"https://colab.research.google.com/github/Mihail-Chr/projects/blob/main/ML/time%20series/time%20series.ipynb\" target=\"_parent\"><img src=\"https://colab.research.google.com/assets/colab-badge.svg\" alt=\"Open In Colab\"/></a>"
      ]
    },
    {
      "cell_type": "markdown",
      "metadata": {
        "id": "blKATGuKU6jL"
      },
      "source": [
        "##  Прогнозирование заказов такси"
      ]
    },
    {
      "cell_type": "markdown",
      "metadata": {
        "id": "iwRywlCXU6jL"
      },
      "source": [
        "Компания «Чётенькое такси» собрала исторические данные о заказах такси в аэропортах. Чтобы привлекать больше водителей в период пиковой нагрузки, нужно спрогнозировать количество заказов такси на следующий час. Постройте модель для такого предсказания.\n",
        "\n",
        "Значение метрики *RMSE* на тестовой выборке должно быть не больше 48.\n",
        "\n",
        "Вам нужно:\n",
        "\n",
        "1. Загрузить данные и выполнить их ресемплирование по одному часу.\n",
        "2. Проанализировать данные.\n",
        "3. Обучить разные модели с различными гиперпараметрами. Сделать тестовую выборку размером 10% от исходных данных.\n",
        "4. Проверить данные на тестовой выборке и сделать выводы.\n",
        "\n",
        "\n",
        "Данные лежат в файле `taxi.csv`. Количество заказов находится в столбце `num_orders` (от англ. *number of orders*, «число заказов»)."
      ]
    },
    {
      "cell_type": "code",
      "source": [
        "! pip install catboost\n",
        "! pip install phik\n",
        "! pip install torch"
      ],
      "metadata": {
        "id": "fAqrEfE0VYBS",
        "outputId": "197c9f11-e614-4cb0-b130-054d3cc2bd45",
        "colab": {
          "base_uri": "https://localhost:8080/"
        }
      },
      "execution_count": 1,
      "outputs": [
        {
          "output_type": "stream",
          "name": "stdout",
          "text": [
            "Collecting catboost\n",
            "  Downloading catboost-1.2.8-cp311-cp311-manylinux2014_x86_64.whl.metadata (1.2 kB)\n",
            "Requirement already satisfied: graphviz in /usr/local/lib/python3.11/dist-packages (from catboost) (0.21)\n",
            "Requirement already satisfied: matplotlib in /usr/local/lib/python3.11/dist-packages (from catboost) (3.10.0)\n",
            "Requirement already satisfied: numpy<3.0,>=1.16.0 in /usr/local/lib/python3.11/dist-packages (from catboost) (2.0.2)\n",
            "Requirement already satisfied: pandas>=0.24 in /usr/local/lib/python3.11/dist-packages (from catboost) (2.2.2)\n",
            "Requirement already satisfied: scipy in /usr/local/lib/python3.11/dist-packages (from catboost) (1.16.0)\n",
            "Requirement already satisfied: plotly in /usr/local/lib/python3.11/dist-packages (from catboost) (5.24.1)\n",
            "Requirement already satisfied: six in /usr/local/lib/python3.11/dist-packages (from catboost) (1.17.0)\n",
            "Requirement already satisfied: python-dateutil>=2.8.2 in /usr/local/lib/python3.11/dist-packages (from pandas>=0.24->catboost) (2.9.0.post0)\n",
            "Requirement already satisfied: pytz>=2020.1 in /usr/local/lib/python3.11/dist-packages (from pandas>=0.24->catboost) (2025.2)\n",
            "Requirement already satisfied: tzdata>=2022.7 in /usr/local/lib/python3.11/dist-packages (from pandas>=0.24->catboost) (2025.2)\n",
            "Requirement already satisfied: contourpy>=1.0.1 in /usr/local/lib/python3.11/dist-packages (from matplotlib->catboost) (1.3.2)\n",
            "Requirement already satisfied: cycler>=0.10 in /usr/local/lib/python3.11/dist-packages (from matplotlib->catboost) (0.12.1)\n",
            "Requirement already satisfied: fonttools>=4.22.0 in /usr/local/lib/python3.11/dist-packages (from matplotlib->catboost) (4.59.0)\n",
            "Requirement already satisfied: kiwisolver>=1.3.1 in /usr/local/lib/python3.11/dist-packages (from matplotlib->catboost) (1.4.8)\n",
            "Requirement already satisfied: packaging>=20.0 in /usr/local/lib/python3.11/dist-packages (from matplotlib->catboost) (25.0)\n",
            "Requirement already satisfied: pillow>=8 in /usr/local/lib/python3.11/dist-packages (from matplotlib->catboost) (11.3.0)\n",
            "Requirement already satisfied: pyparsing>=2.3.1 in /usr/local/lib/python3.11/dist-packages (from matplotlib->catboost) (3.2.3)\n",
            "Requirement already satisfied: tenacity>=6.2.0 in /usr/local/lib/python3.11/dist-packages (from plotly->catboost) (8.5.0)\n",
            "Downloading catboost-1.2.8-cp311-cp311-manylinux2014_x86_64.whl (99.2 MB)\n",
            "\u001b[2K   \u001b[90m━━━━━━━━━━━━━━━━━━━━━━━━━━━━━━━━━━━━━━━━\u001b[0m \u001b[32m99.2/99.2 MB\u001b[0m \u001b[31m10.0 MB/s\u001b[0m eta \u001b[36m0:00:00\u001b[0m\n",
            "\u001b[?25hInstalling collected packages: catboost\n",
            "Successfully installed catboost-1.2.8\n",
            "Collecting phik\n",
            "  Downloading phik-0.12.5-cp311-cp311-manylinux_2_24_x86_64.manylinux_2_28_x86_64.whl.metadata (5.6 kB)\n",
            "Requirement already satisfied: numpy>=1.18.0 in /usr/local/lib/python3.11/dist-packages (from phik) (2.0.2)\n",
            "Requirement already satisfied: scipy>=1.5.2 in /usr/local/lib/python3.11/dist-packages (from phik) (1.16.0)\n",
            "Requirement already satisfied: pandas>=0.25.1 in /usr/local/lib/python3.11/dist-packages (from phik) (2.2.2)\n",
            "Requirement already satisfied: matplotlib>=2.2.3 in /usr/local/lib/python3.11/dist-packages (from phik) (3.10.0)\n",
            "Requirement already satisfied: joblib>=0.14.1 in /usr/local/lib/python3.11/dist-packages (from phik) (1.5.1)\n",
            "Requirement already satisfied: contourpy>=1.0.1 in /usr/local/lib/python3.11/dist-packages (from matplotlib>=2.2.3->phik) (1.3.2)\n",
            "Requirement already satisfied: cycler>=0.10 in /usr/local/lib/python3.11/dist-packages (from matplotlib>=2.2.3->phik) (0.12.1)\n",
            "Requirement already satisfied: fonttools>=4.22.0 in /usr/local/lib/python3.11/dist-packages (from matplotlib>=2.2.3->phik) (4.59.0)\n",
            "Requirement already satisfied: kiwisolver>=1.3.1 in /usr/local/lib/python3.11/dist-packages (from matplotlib>=2.2.3->phik) (1.4.8)\n",
            "Requirement already satisfied: packaging>=20.0 in /usr/local/lib/python3.11/dist-packages (from matplotlib>=2.2.3->phik) (25.0)\n",
            "Requirement already satisfied: pillow>=8 in /usr/local/lib/python3.11/dist-packages (from matplotlib>=2.2.3->phik) (11.3.0)\n",
            "Requirement already satisfied: pyparsing>=2.3.1 in /usr/local/lib/python3.11/dist-packages (from matplotlib>=2.2.3->phik) (3.2.3)\n",
            "Requirement already satisfied: python-dateutil>=2.7 in /usr/local/lib/python3.11/dist-packages (from matplotlib>=2.2.3->phik) (2.9.0.post0)\n",
            "Requirement already satisfied: pytz>=2020.1 in /usr/local/lib/python3.11/dist-packages (from pandas>=0.25.1->phik) (2025.2)\n",
            "Requirement already satisfied: tzdata>=2022.7 in /usr/local/lib/python3.11/dist-packages (from pandas>=0.25.1->phik) (2025.2)\n",
            "Requirement already satisfied: six>=1.5 in /usr/local/lib/python3.11/dist-packages (from python-dateutil>=2.7->matplotlib>=2.2.3->phik) (1.17.0)\n",
            "Downloading phik-0.12.5-cp311-cp311-manylinux_2_24_x86_64.manylinux_2_28_x86_64.whl (679 kB)\n",
            "\u001b[2K   \u001b[90m━━━━━━━━━━━━━━━━━━━━━━━━━━━━━━━━━━━━━━━━\u001b[0m \u001b[32m679.0/679.0 kB\u001b[0m \u001b[31m38.8 MB/s\u001b[0m eta \u001b[36m0:00:00\u001b[0m\n",
            "\u001b[?25hInstalling collected packages: phik\n",
            "Successfully installed phik-0.12.5\n",
            "Requirement already satisfied: torch in /usr/local/lib/python3.11/dist-packages (2.6.0+cu124)\n",
            "Requirement already satisfied: filelock in /usr/local/lib/python3.11/dist-packages (from torch) (3.18.0)\n",
            "Requirement already satisfied: typing-extensions>=4.10.0 in /usr/local/lib/python3.11/dist-packages (from torch) (4.14.1)\n",
            "Requirement already satisfied: networkx in /usr/local/lib/python3.11/dist-packages (from torch) (3.5)\n",
            "Requirement already satisfied: jinja2 in /usr/local/lib/python3.11/dist-packages (from torch) (3.1.6)\n",
            "Requirement already satisfied: fsspec in /usr/local/lib/python3.11/dist-packages (from torch) (2025.3.0)\n",
            "Collecting nvidia-cuda-nvrtc-cu12==12.4.127 (from torch)\n",
            "  Downloading nvidia_cuda_nvrtc_cu12-12.4.127-py3-none-manylinux2014_x86_64.whl.metadata (1.5 kB)\n",
            "Collecting nvidia-cuda-runtime-cu12==12.4.127 (from torch)\n",
            "  Downloading nvidia_cuda_runtime_cu12-12.4.127-py3-none-manylinux2014_x86_64.whl.metadata (1.5 kB)\n",
            "Collecting nvidia-cuda-cupti-cu12==12.4.127 (from torch)\n",
            "  Downloading nvidia_cuda_cupti_cu12-12.4.127-py3-none-manylinux2014_x86_64.whl.metadata (1.6 kB)\n",
            "Collecting nvidia-cudnn-cu12==9.1.0.70 (from torch)\n",
            "  Downloading nvidia_cudnn_cu12-9.1.0.70-py3-none-manylinux2014_x86_64.whl.metadata (1.6 kB)\n",
            "Collecting nvidia-cublas-cu12==12.4.5.8 (from torch)\n",
            "  Downloading nvidia_cublas_cu12-12.4.5.8-py3-none-manylinux2014_x86_64.whl.metadata (1.5 kB)\n",
            "Collecting nvidia-cufft-cu12==11.2.1.3 (from torch)\n",
            "  Downloading nvidia_cufft_cu12-11.2.1.3-py3-none-manylinux2014_x86_64.whl.metadata (1.5 kB)\n",
            "Collecting nvidia-curand-cu12==10.3.5.147 (from torch)\n",
            "  Downloading nvidia_curand_cu12-10.3.5.147-py3-none-manylinux2014_x86_64.whl.metadata (1.5 kB)\n",
            "Collecting nvidia-cusolver-cu12==11.6.1.9 (from torch)\n",
            "  Downloading nvidia_cusolver_cu12-11.6.1.9-py3-none-manylinux2014_x86_64.whl.metadata (1.6 kB)\n",
            "Collecting nvidia-cusparse-cu12==12.3.1.170 (from torch)\n",
            "  Downloading nvidia_cusparse_cu12-12.3.1.170-py3-none-manylinux2014_x86_64.whl.metadata (1.6 kB)\n",
            "Requirement already satisfied: nvidia-cusparselt-cu12==0.6.2 in /usr/local/lib/python3.11/dist-packages (from torch) (0.6.2)\n",
            "Requirement already satisfied: nvidia-nccl-cu12==2.21.5 in /usr/local/lib/python3.11/dist-packages (from torch) (2.21.5)\n",
            "Requirement already satisfied: nvidia-nvtx-cu12==12.4.127 in /usr/local/lib/python3.11/dist-packages (from torch) (12.4.127)\n",
            "Collecting nvidia-nvjitlink-cu12==12.4.127 (from torch)\n",
            "  Downloading nvidia_nvjitlink_cu12-12.4.127-py3-none-manylinux2014_x86_64.whl.metadata (1.5 kB)\n",
            "Requirement already satisfied: triton==3.2.0 in /usr/local/lib/python3.11/dist-packages (from torch) (3.2.0)\n",
            "Requirement already satisfied: sympy==1.13.1 in /usr/local/lib/python3.11/dist-packages (from torch) (1.13.1)\n",
            "Requirement already satisfied: mpmath<1.4,>=1.1.0 in /usr/local/lib/python3.11/dist-packages (from sympy==1.13.1->torch) (1.3.0)\n",
            "Requirement already satisfied: MarkupSafe>=2.0 in /usr/local/lib/python3.11/dist-packages (from jinja2->torch) (3.0.2)\n",
            "Downloading nvidia_cublas_cu12-12.4.5.8-py3-none-manylinux2014_x86_64.whl (363.4 MB)\n",
            "\u001b[2K   \u001b[90m━━━━━━━━━━━━━━━━━━━━━━━━━━━━━━━━━━━━━━━━\u001b[0m \u001b[32m363.4/363.4 MB\u001b[0m \u001b[31m3.9 MB/s\u001b[0m eta \u001b[36m0:00:00\u001b[0m\n",
            "\u001b[?25hDownloading nvidia_cuda_cupti_cu12-12.4.127-py3-none-manylinux2014_x86_64.whl (13.8 MB)\n",
            "\u001b[2K   \u001b[90m━━━━━━━━━━━━━━━━━━━━━━━━━━━━━━━━━━━━━━━━\u001b[0m \u001b[32m13.8/13.8 MB\u001b[0m \u001b[31m123.6 MB/s\u001b[0m eta \u001b[36m0:00:00\u001b[0m\n",
            "\u001b[?25hDownloading nvidia_cuda_nvrtc_cu12-12.4.127-py3-none-manylinux2014_x86_64.whl (24.6 MB)\n",
            "\u001b[2K   \u001b[90m━━━━━━━━━━━━━━━━━━━━━━━━━━━━━━━━━━━━━━━━\u001b[0m \u001b[32m24.6/24.6 MB\u001b[0m \u001b[31m96.5 MB/s\u001b[0m eta \u001b[36m0:00:00\u001b[0m\n",
            "\u001b[?25hDownloading nvidia_cuda_runtime_cu12-12.4.127-py3-none-manylinux2014_x86_64.whl (883 kB)\n",
            "\u001b[2K   \u001b[90m━━━━━━━━━━━━━━━━━━━━━━━━━━━━━━━━━━━━━━━━\u001b[0m \u001b[32m883.7/883.7 kB\u001b[0m \u001b[31m64.0 MB/s\u001b[0m eta \u001b[36m0:00:00\u001b[0m\n",
            "\u001b[?25hDownloading nvidia_cudnn_cu12-9.1.0.70-py3-none-manylinux2014_x86_64.whl (664.8 MB)\n",
            "\u001b[2K   \u001b[90m━━━━━━━━━━━━━━━━━━━━━━━━━━━━━━━━━━━━━━━━\u001b[0m \u001b[32m664.8/664.8 MB\u001b[0m \u001b[31m1.7 MB/s\u001b[0m eta \u001b[36m0:00:00\u001b[0m\n",
            "\u001b[?25hDownloading nvidia_cufft_cu12-11.2.1.3-py3-none-manylinux2014_x86_64.whl (211.5 MB)\n",
            "\u001b[2K   \u001b[90m━━━━━━━━━━━━━━━━━━━━━━━━━━━━━━━━━━━━━━━━\u001b[0m \u001b[32m211.5/211.5 MB\u001b[0m \u001b[31m5.5 MB/s\u001b[0m eta \u001b[36m0:00:00\u001b[0m\n",
            "\u001b[?25hDownloading nvidia_curand_cu12-10.3.5.147-py3-none-manylinux2014_x86_64.whl (56.3 MB)\n",
            "\u001b[2K   \u001b[90m━━━━━━━━━━━━━━━━━━━━━━━━━━━━━━━━━━━━━━━━\u001b[0m \u001b[32m56.3/56.3 MB\u001b[0m \u001b[31m12.7 MB/s\u001b[0m eta \u001b[36m0:00:00\u001b[0m\n",
            "\u001b[?25hDownloading nvidia_cusolver_cu12-11.6.1.9-py3-none-manylinux2014_x86_64.whl (127.9 MB)\n",
            "\u001b[2K   \u001b[90m━━━━━━━━━━━━━━━━━━━━━━━━━━━━━━━━━━━━━━━━\u001b[0m \u001b[32m127.9/127.9 MB\u001b[0m \u001b[31m7.6 MB/s\u001b[0m eta \u001b[36m0:00:00\u001b[0m\n",
            "\u001b[?25hDownloading nvidia_cusparse_cu12-12.3.1.170-py3-none-manylinux2014_x86_64.whl (207.5 MB)\n",
            "\u001b[2K   \u001b[90m━━━━━━━━━━━━━━━━━━━━━━━━━━━━━━━━━━━━━━━━\u001b[0m \u001b[32m207.5/207.5 MB\u001b[0m \u001b[31m5.6 MB/s\u001b[0m eta \u001b[36m0:00:00\u001b[0m\n",
            "\u001b[?25hDownloading nvidia_nvjitlink_cu12-12.4.127-py3-none-manylinux2014_x86_64.whl (21.1 MB)\n",
            "\u001b[2K   \u001b[90m━━━━━━━━━━━━━━━━━━━━━━━━━━━━━━━━━━━━━━━━\u001b[0m \u001b[32m21.1/21.1 MB\u001b[0m \u001b[31m91.8 MB/s\u001b[0m eta \u001b[36m0:00:00\u001b[0m\n",
            "\u001b[?25hInstalling collected packages: nvidia-nvjitlink-cu12, nvidia-curand-cu12, nvidia-cufft-cu12, nvidia-cuda-runtime-cu12, nvidia-cuda-nvrtc-cu12, nvidia-cuda-cupti-cu12, nvidia-cublas-cu12, nvidia-cusparse-cu12, nvidia-cudnn-cu12, nvidia-cusolver-cu12\n",
            "  Attempting uninstall: nvidia-nvjitlink-cu12\n",
            "    Found existing installation: nvidia-nvjitlink-cu12 12.5.82\n",
            "    Uninstalling nvidia-nvjitlink-cu12-12.5.82:\n",
            "      Successfully uninstalled nvidia-nvjitlink-cu12-12.5.82\n",
            "  Attempting uninstall: nvidia-curand-cu12\n",
            "    Found existing installation: nvidia-curand-cu12 10.3.6.82\n",
            "    Uninstalling nvidia-curand-cu12-10.3.6.82:\n",
            "      Successfully uninstalled nvidia-curand-cu12-10.3.6.82\n",
            "  Attempting uninstall: nvidia-cufft-cu12\n",
            "    Found existing installation: nvidia-cufft-cu12 11.2.3.61\n",
            "    Uninstalling nvidia-cufft-cu12-11.2.3.61:\n",
            "      Successfully uninstalled nvidia-cufft-cu12-11.2.3.61\n",
            "  Attempting uninstall: nvidia-cuda-runtime-cu12\n",
            "    Found existing installation: nvidia-cuda-runtime-cu12 12.5.82\n",
            "    Uninstalling nvidia-cuda-runtime-cu12-12.5.82:\n",
            "      Successfully uninstalled nvidia-cuda-runtime-cu12-12.5.82\n",
            "  Attempting uninstall: nvidia-cuda-nvrtc-cu12\n",
            "    Found existing installation: nvidia-cuda-nvrtc-cu12 12.5.82\n",
            "    Uninstalling nvidia-cuda-nvrtc-cu12-12.5.82:\n",
            "      Successfully uninstalled nvidia-cuda-nvrtc-cu12-12.5.82\n",
            "  Attempting uninstall: nvidia-cuda-cupti-cu12\n",
            "    Found existing installation: nvidia-cuda-cupti-cu12 12.5.82\n",
            "    Uninstalling nvidia-cuda-cupti-cu12-12.5.82:\n",
            "      Successfully uninstalled nvidia-cuda-cupti-cu12-12.5.82\n",
            "  Attempting uninstall: nvidia-cublas-cu12\n",
            "    Found existing installation: nvidia-cublas-cu12 12.5.3.2\n",
            "    Uninstalling nvidia-cublas-cu12-12.5.3.2:\n",
            "      Successfully uninstalled nvidia-cublas-cu12-12.5.3.2\n",
            "  Attempting uninstall: nvidia-cusparse-cu12\n",
            "    Found existing installation: nvidia-cusparse-cu12 12.5.1.3\n",
            "    Uninstalling nvidia-cusparse-cu12-12.5.1.3:\n",
            "      Successfully uninstalled nvidia-cusparse-cu12-12.5.1.3\n",
            "  Attempting uninstall: nvidia-cudnn-cu12\n",
            "    Found existing installation: nvidia-cudnn-cu12 9.3.0.75\n",
            "    Uninstalling nvidia-cudnn-cu12-9.3.0.75:\n",
            "      Successfully uninstalled nvidia-cudnn-cu12-9.3.0.75\n",
            "  Attempting uninstall: nvidia-cusolver-cu12\n",
            "    Found existing installation: nvidia-cusolver-cu12 11.6.3.83\n",
            "    Uninstalling nvidia-cusolver-cu12-11.6.3.83:\n",
            "      Successfully uninstalled nvidia-cusolver-cu12-11.6.3.83\n",
            "Successfully installed nvidia-cublas-cu12-12.4.5.8 nvidia-cuda-cupti-cu12-12.4.127 nvidia-cuda-nvrtc-cu12-12.4.127 nvidia-cuda-runtime-cu12-12.4.127 nvidia-cudnn-cu12-9.1.0.70 nvidia-cufft-cu12-11.2.1.3 nvidia-curand-cu12-10.3.5.147 nvidia-cusolver-cu12-11.6.1.9 nvidia-cusparse-cu12-12.3.1.170 nvidia-nvjitlink-cu12-12.4.127\n"
          ]
        }
      ]
    },
    {
      "cell_type": "markdown",
      "metadata": {
        "id": "gzdWtYgeU6jL"
      },
      "source": [
        "## Подготовка"
      ]
    },
    {
      "cell_type": "code",
      "execution_count": 4,
      "metadata": {
        "id": "uMiRl9pAU6jM"
      },
      "outputs": [],
      "source": [
        "# общие библиотеки Pandas\n",
        "from IPython.display import clear_output\n",
        "import pandas as pd\n",
        "import numpy as np\n",
        "import seaborn as sns\n",
        "import re\n",
        "import datetime as dt\n",
        "import calendar\n",
        "\n",
        "from statsmodels.tsa.seasonal import seasonal_decompose\n",
        "\n",
        "\n",
        "\n",
        "from phik.report import plot_correlation_matrix\n",
        "from phik import phik_matrix\n",
        "import matplotlib.pyplot as plt\n",
        "\n",
        "from catboost import CatBoostRegressor, Pool\n",
        "\n",
        "\n",
        "#import torch\n",
        "import torch.nn as nn\n",
        "\n",
        "from sklearn.metrics import (confusion_matrix,mean_squared_error,log_loss,root_mean_squared_error)\n",
        "\n",
        "\n",
        "from sklearn.preprocessing import (StandardScaler,OneHotEncoder)\n",
        "#from feature_engine.encoding import OneHotEncoder\n",
        "\n",
        "from sklearn.model_selection import (train_test_split,GridSearchCV,cross_val_score,TimeSeriesSplit)\n",
        "\n",
        "#from sklearn.linear_model import LinearRegression ,LogisticRegression,Ridge\n",
        "from sklearn.dummy import  DummyRegressor\n",
        "\n",
        "from sklearn.pipeline import Pipeline\n",
        "from sklearn.compose import ColumnTransformer\n",
        "#from sklearn.impute import SimpleImputer\n",
        "#from optuna import distributions,visualization\n",
        "#from optuna.integration import OptunaSearchCV\n",
        "\n",
        "import warnings\n",
        "from sklearn.exceptions import ConvergenceWarning\n",
        "ConvergenceWarning('ignore')\n",
        "import sys\n",
        "import os\n",
        "\n",
        "#random.seed(0)\n",
        "np.random.seed(0)\n",
        "#torch.manual_seed(0)\n",
        "#torch.use_deterministic_algorithms(True)\n",
        "\n",
        "if not sys.warnoptions:\n",
        "    warnings.simplefilter(\"ignore\")\n",
        "    os.environ[\"PYTHONWARNINGS\"] = ('ignore::UserWarning,ignore::ConvergenceWarning,ignore::RuntimeWarning')\n",
        "\n",
        "#optuna.logging.set_verbosity(optuna.logging.WARNING)\n",
        "\n",
        "pd.options.mode.chained_assignment = None\n",
        "pd.options.display.float_format = '{:,.2f}'.format\n",
        "pd.DataFrame.iteritems = pd.DataFrame.items\n",
        "RANDOM_STATE = 255\n",
        "TEST_SIZE = 0.1\n",
        "warnings.filterwarnings('ignore')"
      ]
    },
    {
      "cell_type": "code",
      "execution_count": 5,
      "metadata": {
        "id": "uRZghEHeU6jN"
      },
      "outputs": [],
      "source": [
        "# функиция преобразования в bool и запоминания значений в словарь\n",
        "def bul(dat,col,tru,nt):\n",
        "    dat[col][dat[col]==tru] = 1\n",
        "    dat[col][dat[col]==nt] = 0\n",
        "    dat[col]=dat[col].astype('bool')\n",
        "    voc_k[col] = (nt,tru)"
      ]
    },
    {
      "cell_type": "code",
      "execution_count": 6,
      "metadata": {
        "id": "8aciXAwEU6jN"
      },
      "outputs": [],
      "source": [
        "def show_progress(x, y, y_pred, loss):\n",
        "\n",
        "    y_pred = y_pred.detach() #*std_T + men_T\n",
        "    loss = loss.item()\n",
        "    clear_output(wait=True)\n",
        "\n",
        "    # Строим новый график\n",
        "    plt.figure(figsize=(10, 7))\n",
        "    #plt.scatter(x, y, alpha=0.75)\n",
        "    #plt.scatter(x, y_pred, color='orange', linewidth=5)\n",
        "    plt.scatter(y, y, alpha=0.75)\n",
        "    plt.scatter(y, y_pred, color='orange', linewidth=5)\n",
        "    plt.xlabel('Таргет')\n",
        "    plt.ylabel('Предсказание', color='orange')\n",
        "    plt.show()\n",
        "\n",
        "    print(f\"RMSE = {loss:.3f}\")"
      ]
    },
    {
      "cell_type": "code",
      "source": [
        "from google.colab import drive\n",
        "drive.mount('/content/drive')"
      ],
      "metadata": {
        "id": "mB9f5l2HVUFv",
        "outputId": "d16eff02-7703-4b4d-ab8b-c702c4bd305f",
        "colab": {
          "base_uri": "https://localhost:8080/"
        }
      },
      "execution_count": 7,
      "outputs": [
        {
          "output_type": "stream",
          "name": "stdout",
          "text": [
            "Mounted at /content/drive\n"
          ]
        }
      ]
    },
    {
      "cell_type": "code",
      "execution_count": 8,
      "metadata": {
        "id": "JX3bexQjU6jN",
        "outputId": "4b29875e-5aa7-48d6-8607-3292cdfb4cce",
        "colab": {
          "base_uri": "https://localhost:8080/",
          "height": 1000
        }
      },
      "outputs": [
        {
          "output_type": "stream",
          "name": "stdout",
          "text": [
            "<class 'pandas.core.frame.DataFrame'>\n",
            "DatetimeIndex: 26496 entries, 2018-03-01 00:00:00 to 2018-08-31 23:50:00\n",
            "Data columns (total 1 columns):\n",
            " #   Column      Non-Null Count  Dtype\n",
            "---  ------      --------------  -----\n",
            " 0   num_orders  26496 non-null  int64\n",
            "dtypes: int64(1)\n",
            "memory usage: 414.0 KB\n",
            "<class 'pandas.core.frame.DataFrame'>\n",
            "DatetimeIndex: 4416 entries, 2018-03-01 00:00:00 to 2018-08-31 23:00:00\n",
            "Freq: h\n",
            "Data columns (total 1 columns):\n",
            " #   Column      Non-Null Count  Dtype\n",
            "---  ------      --------------  -----\n",
            " 0   num_orders  4416 non-null   int64\n",
            "dtypes: int64(1)\n",
            "memory usage: 69.0 KB\n"
          ]
        },
        {
          "output_type": "display_data",
          "data": {
            "text/plain": [
              "                     num_orders\n",
              "datetime                       \n",
              "2018-08-31 19:00:00         136\n",
              "2018-08-31 20:00:00         154\n",
              "2018-08-31 21:00:00         159\n",
              "2018-08-31 22:00:00         223\n",
              "2018-08-31 23:00:00         205"
            ],
            "text/html": [
              "\n",
              "  <div id=\"df-5d12cbbd-9758-4593-9611-4ac210094e47\" class=\"colab-df-container\">\n",
              "    <div>\n",
              "<style scoped>\n",
              "    .dataframe tbody tr th:only-of-type {\n",
              "        vertical-align: middle;\n",
              "    }\n",
              "\n",
              "    .dataframe tbody tr th {\n",
              "        vertical-align: top;\n",
              "    }\n",
              "\n",
              "    .dataframe thead th {\n",
              "        text-align: right;\n",
              "    }\n",
              "</style>\n",
              "<table border=\"1\" class=\"dataframe\">\n",
              "  <thead>\n",
              "    <tr style=\"text-align: right;\">\n",
              "      <th></th>\n",
              "      <th>num_orders</th>\n",
              "    </tr>\n",
              "    <tr>\n",
              "      <th>datetime</th>\n",
              "      <th></th>\n",
              "    </tr>\n",
              "  </thead>\n",
              "  <tbody>\n",
              "    <tr>\n",
              "      <th>2018-08-31 19:00:00</th>\n",
              "      <td>136</td>\n",
              "    </tr>\n",
              "    <tr>\n",
              "      <th>2018-08-31 20:00:00</th>\n",
              "      <td>154</td>\n",
              "    </tr>\n",
              "    <tr>\n",
              "      <th>2018-08-31 21:00:00</th>\n",
              "      <td>159</td>\n",
              "    </tr>\n",
              "    <tr>\n",
              "      <th>2018-08-31 22:00:00</th>\n",
              "      <td>223</td>\n",
              "    </tr>\n",
              "    <tr>\n",
              "      <th>2018-08-31 23:00:00</th>\n",
              "      <td>205</td>\n",
              "    </tr>\n",
              "  </tbody>\n",
              "</table>\n",
              "</div>\n",
              "    <div class=\"colab-df-buttons\">\n",
              "\n",
              "  <div class=\"colab-df-container\">\n",
              "    <button class=\"colab-df-convert\" onclick=\"convertToInteractive('df-5d12cbbd-9758-4593-9611-4ac210094e47')\"\n",
              "            title=\"Convert this dataframe to an interactive table.\"\n",
              "            style=\"display:none;\">\n",
              "\n",
              "  <svg xmlns=\"http://www.w3.org/2000/svg\" height=\"24px\" viewBox=\"0 -960 960 960\">\n",
              "    <path d=\"M120-120v-720h720v720H120Zm60-500h600v-160H180v160Zm220 220h160v-160H400v160Zm0 220h160v-160H400v160ZM180-400h160v-160H180v160Zm440 0h160v-160H620v160ZM180-180h160v-160H180v160Zm440 0h160v-160H620v160Z\"/>\n",
              "  </svg>\n",
              "    </button>\n",
              "\n",
              "  <style>\n",
              "    .colab-df-container {\n",
              "      display:flex;\n",
              "      gap: 12px;\n",
              "    }\n",
              "\n",
              "    .colab-df-convert {\n",
              "      background-color: #E8F0FE;\n",
              "      border: none;\n",
              "      border-radius: 50%;\n",
              "      cursor: pointer;\n",
              "      display: none;\n",
              "      fill: #1967D2;\n",
              "      height: 32px;\n",
              "      padding: 0 0 0 0;\n",
              "      width: 32px;\n",
              "    }\n",
              "\n",
              "    .colab-df-convert:hover {\n",
              "      background-color: #E2EBFA;\n",
              "      box-shadow: 0px 1px 2px rgba(60, 64, 67, 0.3), 0px 1px 3px 1px rgba(60, 64, 67, 0.15);\n",
              "      fill: #174EA6;\n",
              "    }\n",
              "\n",
              "    .colab-df-buttons div {\n",
              "      margin-bottom: 4px;\n",
              "    }\n",
              "\n",
              "    [theme=dark] .colab-df-convert {\n",
              "      background-color: #3B4455;\n",
              "      fill: #D2E3FC;\n",
              "    }\n",
              "\n",
              "    [theme=dark] .colab-df-convert:hover {\n",
              "      background-color: #434B5C;\n",
              "      box-shadow: 0px 1px 3px 1px rgba(0, 0, 0, 0.15);\n",
              "      filter: drop-shadow(0px 1px 2px rgba(0, 0, 0, 0.3));\n",
              "      fill: #FFFFFF;\n",
              "    }\n",
              "  </style>\n",
              "\n",
              "    <script>\n",
              "      const buttonEl =\n",
              "        document.querySelector('#df-5d12cbbd-9758-4593-9611-4ac210094e47 button.colab-df-convert');\n",
              "      buttonEl.style.display =\n",
              "        google.colab.kernel.accessAllowed ? 'block' : 'none';\n",
              "\n",
              "      async function convertToInteractive(key) {\n",
              "        const element = document.querySelector('#df-5d12cbbd-9758-4593-9611-4ac210094e47');\n",
              "        const dataTable =\n",
              "          await google.colab.kernel.invokeFunction('convertToInteractive',\n",
              "                                                    [key], {});\n",
              "        if (!dataTable) return;\n",
              "\n",
              "        const docLinkHtml = 'Like what you see? Visit the ' +\n",
              "          '<a target=\"_blank\" href=https://colab.research.google.com/notebooks/data_table.ipynb>data table notebook</a>'\n",
              "          + ' to learn more about interactive tables.';\n",
              "        element.innerHTML = '';\n",
              "        dataTable['output_type'] = 'display_data';\n",
              "        await google.colab.output.renderOutput(dataTable, element);\n",
              "        const docLink = document.createElement('div');\n",
              "        docLink.innerHTML = docLinkHtml;\n",
              "        element.appendChild(docLink);\n",
              "      }\n",
              "    </script>\n",
              "  </div>\n",
              "\n",
              "\n",
              "    <div id=\"df-c34922ef-ad2b-4c0f-86b8-0233cba0ec28\">\n",
              "      <button class=\"colab-df-quickchart\" onclick=\"quickchart('df-c34922ef-ad2b-4c0f-86b8-0233cba0ec28')\"\n",
              "                title=\"Suggest charts\"\n",
              "                style=\"display:none;\">\n",
              "\n",
              "<svg xmlns=\"http://www.w3.org/2000/svg\" height=\"24px\"viewBox=\"0 0 24 24\"\n",
              "     width=\"24px\">\n",
              "    <g>\n",
              "        <path d=\"M19 3H5c-1.1 0-2 .9-2 2v14c0 1.1.9 2 2 2h14c1.1 0 2-.9 2-2V5c0-1.1-.9-2-2-2zM9 17H7v-7h2v7zm4 0h-2V7h2v10zm4 0h-2v-4h2v4z\"/>\n",
              "    </g>\n",
              "</svg>\n",
              "      </button>\n",
              "\n",
              "<style>\n",
              "  .colab-df-quickchart {\n",
              "      --bg-color: #E8F0FE;\n",
              "      --fill-color: #1967D2;\n",
              "      --hover-bg-color: #E2EBFA;\n",
              "      --hover-fill-color: #174EA6;\n",
              "      --disabled-fill-color: #AAA;\n",
              "      --disabled-bg-color: #DDD;\n",
              "  }\n",
              "\n",
              "  [theme=dark] .colab-df-quickchart {\n",
              "      --bg-color: #3B4455;\n",
              "      --fill-color: #D2E3FC;\n",
              "      --hover-bg-color: #434B5C;\n",
              "      --hover-fill-color: #FFFFFF;\n",
              "      --disabled-bg-color: #3B4455;\n",
              "      --disabled-fill-color: #666;\n",
              "  }\n",
              "\n",
              "  .colab-df-quickchart {\n",
              "    background-color: var(--bg-color);\n",
              "    border: none;\n",
              "    border-radius: 50%;\n",
              "    cursor: pointer;\n",
              "    display: none;\n",
              "    fill: var(--fill-color);\n",
              "    height: 32px;\n",
              "    padding: 0;\n",
              "    width: 32px;\n",
              "  }\n",
              "\n",
              "  .colab-df-quickchart:hover {\n",
              "    background-color: var(--hover-bg-color);\n",
              "    box-shadow: 0 1px 2px rgba(60, 64, 67, 0.3), 0 1px 3px 1px rgba(60, 64, 67, 0.15);\n",
              "    fill: var(--button-hover-fill-color);\n",
              "  }\n",
              "\n",
              "  .colab-df-quickchart-complete:disabled,\n",
              "  .colab-df-quickchart-complete:disabled:hover {\n",
              "    background-color: var(--disabled-bg-color);\n",
              "    fill: var(--disabled-fill-color);\n",
              "    box-shadow: none;\n",
              "  }\n",
              "\n",
              "  .colab-df-spinner {\n",
              "    border: 2px solid var(--fill-color);\n",
              "    border-color: transparent;\n",
              "    border-bottom-color: var(--fill-color);\n",
              "    animation:\n",
              "      spin 1s steps(1) infinite;\n",
              "  }\n",
              "\n",
              "  @keyframes spin {\n",
              "    0% {\n",
              "      border-color: transparent;\n",
              "      border-bottom-color: var(--fill-color);\n",
              "      border-left-color: var(--fill-color);\n",
              "    }\n",
              "    20% {\n",
              "      border-color: transparent;\n",
              "      border-left-color: var(--fill-color);\n",
              "      border-top-color: var(--fill-color);\n",
              "    }\n",
              "    30% {\n",
              "      border-color: transparent;\n",
              "      border-left-color: var(--fill-color);\n",
              "      border-top-color: var(--fill-color);\n",
              "      border-right-color: var(--fill-color);\n",
              "    }\n",
              "    40% {\n",
              "      border-color: transparent;\n",
              "      border-right-color: var(--fill-color);\n",
              "      border-top-color: var(--fill-color);\n",
              "    }\n",
              "    60% {\n",
              "      border-color: transparent;\n",
              "      border-right-color: var(--fill-color);\n",
              "    }\n",
              "    80% {\n",
              "      border-color: transparent;\n",
              "      border-right-color: var(--fill-color);\n",
              "      border-bottom-color: var(--fill-color);\n",
              "    }\n",
              "    90% {\n",
              "      border-color: transparent;\n",
              "      border-bottom-color: var(--fill-color);\n",
              "    }\n",
              "  }\n",
              "</style>\n",
              "\n",
              "      <script>\n",
              "        async function quickchart(key) {\n",
              "          const quickchartButtonEl =\n",
              "            document.querySelector('#' + key + ' button');\n",
              "          quickchartButtonEl.disabled = true;  // To prevent multiple clicks.\n",
              "          quickchartButtonEl.classList.add('colab-df-spinner');\n",
              "          try {\n",
              "            const charts = await google.colab.kernel.invokeFunction(\n",
              "                'suggestCharts', [key], {});\n",
              "          } catch (error) {\n",
              "            console.error('Error during call to suggestCharts:', error);\n",
              "          }\n",
              "          quickchartButtonEl.classList.remove('colab-df-spinner');\n",
              "          quickchartButtonEl.classList.add('colab-df-quickchart-complete');\n",
              "        }\n",
              "        (() => {\n",
              "          let quickchartButtonEl =\n",
              "            document.querySelector('#df-c34922ef-ad2b-4c0f-86b8-0233cba0ec28 button');\n",
              "          quickchartButtonEl.style.display =\n",
              "            google.colab.kernel.accessAllowed ? 'block' : 'none';\n",
              "        })();\n",
              "      </script>\n",
              "    </div>\n",
              "    </div>\n",
              "  </div>\n"
            ],
            "application/vnd.google.colaboratory.intrinsic+json": {
              "type": "dataframe",
              "summary": "{\n  \"name\": \"#\",\n  \"rows\": 5,\n  \"fields\": [\n    {\n      \"column\": \"datetime\",\n      \"properties\": {\n        \"dtype\": \"date\",\n        \"min\": \"2018-08-31 19:00:00\",\n        \"max\": \"2018-08-31 23:00:00\",\n        \"num_unique_values\": 5,\n        \"samples\": [\n          \"2018-08-31 20:00:00\",\n          \"2018-08-31 23:00:00\",\n          \"2018-08-31 21:00:00\"\n        ],\n        \"semantic_type\": \"\",\n        \"description\": \"\"\n      }\n    },\n    {\n      \"column\": \"num_orders\",\n      \"properties\": {\n        \"dtype\": \"number\",\n        \"std\": 36,\n        \"min\": 136,\n        \"max\": 223,\n        \"num_unique_values\": 5,\n        \"samples\": [\n          154,\n          205,\n          159\n        ],\n        \"semantic_type\": \"\",\n        \"description\": \"\"\n      }\n    }\n  ]\n}"
            }
          },
          "metadata": {}
        },
        {
          "output_type": "execute_result",
          "data": {
            "text/plain": [
              "<matplotlib.legend.Legend at 0x7d325cd9d550>"
            ]
          },
          "metadata": {},
          "execution_count": 8
        },
        {
          "output_type": "display_data",
          "data": {
            "text/plain": [
              "<Figure size 1200x600 with 1 Axes>"
            ],
            "image/png": "[encoded data removed]"
          },
          "metadata": {}
        },
        {
          "output_type": "display_data",
          "data": {
            "text/plain": [
              "<Figure size 1200x600 with 1 Axes>"
            ],
            "image/png": "[encoded data removed]"
          },
          "metadata": {}
        }
      ],
      "source": [
        "# загрузка данных и просмотр\n",
        "data = pd.read_csv('/content/drive/MyDrive/data//taxi.csv', index_col=[0], parse_dates=[0])\n",
        "data.info()\n",
        "data.sort_index(inplace=True)\n",
        "plt.figure(figsize=(12, 6))\n",
        "plt.plot(data, label='Original Time Orders')\n",
        "plt.legend()\n",
        "#data.plot()\n",
        "data = data.resample('1H').sum()\n",
        "df1 = data.copy()\n",
        "df1.info()\n",
        "display(df1.tail(5))\n",
        "plt.figure(figsize=(12, 6))\n",
        "plt.plot(df1, label='Summary day Orders')\n",
        "plt.legend()\n",
        "\n",
        "#"
      ]
    },
    {
      "cell_type": "code",
      "execution_count": 9,
      "metadata": {
        "scrolled": true,
        "id": "uKnd-oobU6jO",
        "outputId": "9020b841-b88c-42bf-bfd5-c56122684616",
        "colab": {
          "base_uri": "https://localhost:8080/",
          "height": 1000
        }
      },
      "outputs": [
        {
          "output_type": "display_data",
          "data": {
            "text/plain": [
              "<Figure size 1000x1800 with 3 Axes>"
            ],
            "image/png": "[encoded data removed]"
          },
          "metadata": {}
        }
      ],
      "source": [
        "decomposed = seasonal_decompose(df1)# < напишите код здесь >\n",
        "\n",
        "plt.figure(figsize=(10, 18))\n",
        "plt.subplot(311)\n",
        "# Чтобы график корректно отобразился, указываем его\n",
        "# оси ax, равными plt.gca() (англ. get current axis,\n",
        "# получить текущие оси)\n",
        "decomposed.trend.plot(ax=plt.gca())\n",
        "plt.title('Trend  All')\n",
        "plt.subplot(312)\n",
        "decomposed.seasonal['2018-07-01':'2018-07-08'].plot(ax=plt.gca())\n",
        "# < напишите код здесь >\n",
        "plt.title('Seasonality  2018-07-01:2018-07-08 ')\n",
        "plt.subplot(313)\n",
        "decomposed.resid.plot(ax=plt.gca())\n",
        "# < напишите код здесь >\n",
        "plt.title('Residuals All')\n",
        "plt.tight_layout()"
      ]
    },
    {
      "cell_type": "markdown",
      "metadata": {
        "id": "6C4fd5iyU6jO"
      },
      "source": [
        "### Выводы по графикам загузки и сезонности:\n",
        "- данные монотонны (согласно графика)\n",
        "- наблюдается повысительные тренд от месяца к месяцу , такой, что максимальные значения мая менmit минимальным в авугусте\n",
        "- сезонность посуточная присутствует\n",
        "- наблюдается высокое значение \"остатков\" а августе"
      ]
    },
    {
      "cell_type": "code",
      "execution_count": 10,
      "metadata": {
        "id": "CJwwUEwfU6jP"
      },
      "outputs": [],
      "source": [
        "def make_f2 (dt):\n",
        "    if  1<dt<5 : return('early morning')##\n",
        "    elif 5<=dt<=7 : return('morning')##\n",
        "    elif 7<dt<=11 : return('late morning')##\n",
        "    elif 11<dt<= 14 : return('afternoon')##\n",
        "    elif 14<dt<= 18 : return('early evening')##\n",
        "    elif 18<dt< 23 : return('late evening')##\n",
        "    else:  return('midnidgt')#\n",
        "\n"
      ]
    },
    {
      "cell_type": "code",
      "execution_count": 11,
      "metadata": {
        "id": "lpTOtMHlU6jP"
      },
      "outputs": [],
      "source": [
        "def make_times(data) :\n",
        "    data['hour'] = data.index.hour\n",
        "    #data['month'] = data.index\n",
        "    #data['month'] = data['month'].apply(lambda x:x.strftime(\"%B\"))\n",
        "    data['day'] = data.index.day\n",
        "    data['dayofweek'] = data.index#.dayofweek\n",
        "    data['dayofweek'] = data['dayofweek'].apply(lambda x:x.strftime((\"%A\")))\n",
        "    data['day_times'] = data['hour'].copy()\n",
        "    data['day_times'] = data['day_times'].apply(lambda x:make_f2(x))\n",
        "\n",
        "    return(data)\n"
      ]
    },
    {
      "cell_type": "code",
      "execution_count": 12,
      "metadata": {
        "id": "PlqSkh_VU6jP",
        "outputId": "a6358ffd-2a38-4cce-ed9d-91625d566df5",
        "colab": {
          "base_uri": "https://localhost:8080/",
          "height": 574
        }
      },
      "outputs": [
        {
          "output_type": "display_data",
          "data": {
            "text/plain": [
              "                     num_orders  hour  day dayofweek      day_times  lag_1  \\\n",
              "datetime                                                                     \n",
              "2018-03-01 00:00:00         124     0    1  Thursday       midnidgt    NaN   \n",
              "2018-03-01 01:00:00          85     1    1  Thursday       midnidgt 124.00   \n",
              "2018-03-01 02:00:00          71     2    1  Thursday  early morning  85.00   \n",
              "2018-03-01 03:00:00          66     3    1  Thursday  early morning  71.00   \n",
              "2018-03-01 04:00:00          43     4    1  Thursday  early morning  66.00   \n",
              "\n",
              "                     lag_2  lag_3  lag_4  lag_5  ...  lag_18  lag_19  lag_20  \\\n",
              "datetime                                         ...                           \n",
              "2018-03-01 00:00:00    NaN    NaN    NaN    NaN  ...     NaN     NaN     NaN   \n",
              "2018-03-01 01:00:00    NaN    NaN    NaN    NaN  ...     NaN     NaN     NaN   \n",
              "2018-03-01 02:00:00 124.00    NaN    NaN    NaN  ...     NaN     NaN     NaN   \n",
              "2018-03-01 03:00:00  85.00 124.00    NaN    NaN  ...     NaN     NaN     NaN   \n",
              "2018-03-01 04:00:00  71.00  85.00 124.00    NaN  ...     NaN     NaN     NaN   \n",
              "\n",
              "                     lag_21  lag_22  lag_23  lag_24  lag_48  lag_168  \\\n",
              "datetime                                                               \n",
              "2018-03-01 00:00:00     NaN     NaN     NaN     NaN     NaN      NaN   \n",
              "2018-03-01 01:00:00     NaN     NaN     NaN     NaN     NaN      NaN   \n",
              "2018-03-01 02:00:00     NaN     NaN     NaN     NaN     NaN      NaN   \n",
              "2018-03-01 03:00:00     NaN     NaN     NaN     NaN     NaN      NaN   \n",
              "2018-03-01 04:00:00     NaN     NaN     NaN     NaN     NaN      NaN   \n",
              "\n",
              "                     rolling_mean  \n",
              "datetime                           \n",
              "2018-03-01 00:00:00           NaN  \n",
              "2018-03-01 01:00:00           NaN  \n",
              "2018-03-01 02:00:00           NaN  \n",
              "2018-03-01 03:00:00           NaN  \n",
              "2018-03-01 04:00:00           NaN  \n",
              "\n",
              "[5 rows x 32 columns]"
            ],
            "text/html": [
              "\n",
              "  <div id=\"df-42be9727-6814-4d4f-8eaf-0677c30d27b6\" class=\"colab-df-container\">\n",
              "    <div>\n",
              "<style scoped>\n",
              "    .dataframe tbody tr th:only-of-type {\n",
              "        vertical-align: middle;\n",
              "    }\n",
              "\n",
              "    .dataframe tbody tr th {\n",
              "        vertical-align: top;\n",
              "    }\n",
              "\n",
              "    .dataframe thead th {\n",
              "        text-align: right;\n",
              "    }\n",
              "</style>\n",
              "<table border=\"1\" class=\"dataframe\">\n",
              "  <thead>\n",
              "    <tr style=\"text-align: right;\">\n",
              "      <th></th>\n",
              "      <th>num_orders</th>\n",
              "      <th>hour</th>\n",
              "      <th>day</th>\n",
              "      <th>dayofweek</th>\n",
              "      <th>day_times</th>\n",
              "      <th>lag_1</th>\n",
              "      <th>lag_2</th>\n",
              "      <th>lag_3</th>\n",
              "      <th>lag_4</th>\n",
              "      <th>lag_5</th>\n",
              "      <th>...</th>\n",
              "      <th>lag_18</th>\n",
              "      <th>lag_19</th>\n",
              "      <th>lag_20</th>\n",
              "      <th>lag_21</th>\n",
              "      <th>lag_22</th>\n",
              "      <th>lag_23</th>\n",
              "      <th>lag_24</th>\n",
              "      <th>lag_48</th>\n",
              "      <th>lag_168</th>\n",
              "      <th>rolling_mean</th>\n",
              "    </tr>\n",
              "    <tr>\n",
              "      <th>datetime</th>\n",
              "      <th></th>\n",
              "      <th></th>\n",
              "      <th></th>\n",
              "      <th></th>\n",
              "      <th></th>\n",
              "      <th></th>\n",
              "      <th></th>\n",
              "      <th></th>\n",
              "      <th></th>\n",
              "      <th></th>\n",
              "      <th></th>\n",
              "      <th></th>\n",
              "      <th></th>\n",
              "      <th></th>\n",
              "      <th></th>\n",
              "      <th></th>\n",
              "      <th></th>\n",
              "      <th></th>\n",
              "      <th></th>\n",
              "      <th></th>\n",
              "      <th></th>\n",
              "    </tr>\n",
              "  </thead>\n",
              "  <tbody>\n",
              "    <tr>\n",
              "      <th>2018-03-01 00:00:00</th>\n",
              "      <td>124</td>\n",
              "      <td>0</td>\n",
              "      <td>1</td>\n",
              "      <td>Thursday</td>\n",
              "      <td>midnidgt</td>\n",
              "      <td>NaN</td>\n",
              "      <td>NaN</td>\n",
              "      <td>NaN</td>\n",
              "      <td>NaN</td>\n",
              "      <td>NaN</td>\n",
              "      <td>...</td>\n",
              "      <td>NaN</td>\n",
              "      <td>NaN</td>\n",
              "      <td>NaN</td>\n",
              "      <td>NaN</td>\n",
              "      <td>NaN</td>\n",
              "      <td>NaN</td>\n",
              "      <td>NaN</td>\n",
              "      <td>NaN</td>\n",
              "      <td>NaN</td>\n",
              "      <td>NaN</td>\n",
              "    </tr>\n",
              "    <tr>\n",
              "      <th>2018-03-01 01:00:00</th>\n",
              "      <td>85</td>\n",
              "      <td>1</td>\n",
              "      <td>1</td>\n",
              "      <td>Thursday</td>\n",
              "      <td>midnidgt</td>\n",
              "      <td>124.00</td>\n",
              "      <td>NaN</td>\n",
              "      <td>NaN</td>\n",
              "      <td>NaN</td>\n",
              "      <td>NaN</td>\n",
              "      <td>...</td>\n",
              "      <td>NaN</td>\n",
              "      <td>NaN</td>\n",
              "      <td>NaN</td>\n",
              "      <td>NaN</td>\n",
              "      <td>NaN</td>\n",
              "      <td>NaN</td>\n",
              "      <td>NaN</td>\n",
              "      <td>NaN</td>\n",
              "      <td>NaN</td>\n",
              "      <td>NaN</td>\n",
              "    </tr>\n",
              "    <tr>\n",
              "      <th>2018-03-01 02:00:00</th>\n",
              "      <td>71</td>\n",
              "      <td>2</td>\n",
              "      <td>1</td>\n",
              "      <td>Thursday</td>\n",
              "      <td>early morning</td>\n",
              "      <td>85.00</td>\n",
              "      <td>124.00</td>\n",
              "      <td>NaN</td>\n",
              "      <td>NaN</td>\n",
              "      <td>NaN</td>\n",
              "      <td>...</td>\n",
              "      <td>NaN</td>\n",
              "      <td>NaN</td>\n",
              "      <td>NaN</td>\n",
              "      <td>NaN</td>\n",
              "      <td>NaN</td>\n",
              "      <td>NaN</td>\n",
              "      <td>NaN</td>\n",
              "      <td>NaN</td>\n",
              "      <td>NaN</td>\n",
              "      <td>NaN</td>\n",
              "    </tr>\n",
              "    <tr>\n",
              "      <th>2018-03-01 03:00:00</th>\n",
              "      <td>66</td>\n",
              "      <td>3</td>\n",
              "      <td>1</td>\n",
              "      <td>Thursday</td>\n",
              "      <td>early morning</td>\n",
              "      <td>71.00</td>\n",
              "      <td>85.00</td>\n",
              "      <td>124.00</td>\n",
              "      <td>NaN</td>\n",
              "      <td>NaN</td>\n",
              "      <td>...</td>\n",
              "      <td>NaN</td>\n",
              "      <td>NaN</td>\n",
              "      <td>NaN</td>\n",
              "      <td>NaN</td>\n",
              "      <td>NaN</td>\n",
              "      <td>NaN</td>\n",
              "      <td>NaN</td>\n",
              "      <td>NaN</td>\n",
              "      <td>NaN</td>\n",
              "      <td>NaN</td>\n",
              "    </tr>\n",
              "    <tr>\n",
              "      <th>2018-03-01 04:00:00</th>\n",
              "      <td>43</td>\n",
              "      <td>4</td>\n",
              "      <td>1</td>\n",
              "      <td>Thursday</td>\n",
              "      <td>early morning</td>\n",
              "      <td>66.00</td>\n",
              "      <td>71.00</td>\n",
              "      <td>85.00</td>\n",
              "      <td>124.00</td>\n",
              "      <td>NaN</td>\n",
              "      <td>...</td>\n",
              "      <td>NaN</td>\n",
              "      <td>NaN</td>\n",
              "      <td>NaN</td>\n",
              "      <td>NaN</td>\n",
              "      <td>NaN</td>\n",
              "      <td>NaN</td>\n",
              "      <td>NaN</td>\n",
              "      <td>NaN</td>\n",
              "      <td>NaN</td>\n",
              "      <td>NaN</td>\n",
              "    </tr>\n",
              "  </tbody>\n",
              "</table>\n",
              "<p>5 rows × 32 columns</p>\n",
              "</div>\n",
              "    <div class=\"colab-df-buttons\">\n",
              "\n",
              "  <div class=\"colab-df-container\">\n",
              "    <button class=\"colab-df-convert\" onclick=\"convertToInteractive('df-42be9727-6814-4d4f-8eaf-0677c30d27b6')\"\n",
              "            title=\"Convert this dataframe to an interactive table.\"\n",
              "            style=\"display:none;\">\n",
              "\n",
              "  <svg xmlns=\"http://www.w3.org/2000/svg\" height=\"24px\" viewBox=\"0 -960 960 960\">\n",
              "    <path d=\"M120-120v-720h720v720H120Zm60-500h600v-160H180v160Zm220 220h160v-160H400v160Zm0 220h160v-160H400v160ZM180-400h160v-160H180v160Zm440 0h160v-160H620v160ZM180-180h160v-160H180v160Zm440 0h160v-160H620v160Z\"/>\n",
              "  </svg>\n",
              "    </button>\n",
              "\n",
              "  <style>\n",
              "    .colab-df-container {\n",
              "      display:flex;\n",
              "      gap: 12px;\n",
              "    }\n",
              "\n",
              "    .colab-df-convert {\n",
              "      background-color: #E8F0FE;\n",
              "      border: none;\n",
              "      border-radius: 50%;\n",
              "      cursor: pointer;\n",
              "      display: none;\n",
              "      fill: #1967D2;\n",
              "      height: 32px;\n",
              "      padding: 0 0 0 0;\n",
              "      width: 32px;\n",
              "    }\n",
              "\n",
              "    .colab-df-convert:hover {\n",
              "      background-color: #E2EBFA;\n",
              "      box-shadow: 0px 1px 2px rgba(60, 64, 67, 0.3), 0px 1px 3px 1px rgba(60, 64, 67, 0.15);\n",
              "      fill: #174EA6;\n",
              "    }\n",
              "\n",
              "    .colab-df-buttons div {\n",
              "      margin-bottom: 4px;\n",
              "    }\n",
              "\n",
              "    [theme=dark] .colab-df-convert {\n",
              "      background-color: #3B4455;\n",
              "      fill: #D2E3FC;\n",
              "    }\n",
              "\n",
              "    [theme=dark] .colab-df-convert:hover {\n",
              "      background-color: #434B5C;\n",
              "      box-shadow: 0px 1px 3px 1px rgba(0, 0, 0, 0.15);\n",
              "      filter: drop-shadow(0px 1px 2px rgba(0, 0, 0, 0.3));\n",
              "      fill: #FFFFFF;\n",
              "    }\n",
              "  </style>\n",
              "\n",
              "    <script>\n",
              "      const buttonEl =\n",
              "        document.querySelector('#df-42be9727-6814-4d4f-8eaf-0677c30d27b6 button.colab-df-convert');\n",
              "      buttonEl.style.display =\n",
              "        google.colab.kernel.accessAllowed ? 'block' : 'none';\n",
              "\n",
              "      async function convertToInteractive(key) {\n",
              "        const element = document.querySelector('#df-42be9727-6814-4d4f-8eaf-0677c30d27b6');\n",
              "        const dataTable =\n",
              "          await google.colab.kernel.invokeFunction('convertToInteractive',\n",
              "                                                    [key], {});\n",
              "        if (!dataTable) return;\n",
              "\n",
              "        const docLinkHtml = 'Like what you see? Visit the ' +\n",
              "          '<a target=\"_blank\" href=https://colab.research.google.com/notebooks/data_table.ipynb>data table notebook</a>'\n",
              "          + ' to learn more about interactive tables.';\n",
              "        element.innerHTML = '';\n",
              "        dataTable['output_type'] = 'display_data';\n",
              "        await google.colab.output.renderOutput(dataTable, element);\n",
              "        const docLink = document.createElement('div');\n",
              "        docLink.innerHTML = docLinkHtml;\n",
              "        element.appendChild(docLink);\n",
              "      }\n",
              "    </script>\n",
              "  </div>\n",
              "\n",
              "\n",
              "    <div id=\"df-fdd6b261-b90e-4ca7-a85c-525cfb7d1d7d\">\n",
              "      <button class=\"colab-df-quickchart\" onclick=\"quickchart('df-fdd6b261-b90e-4ca7-a85c-525cfb7d1d7d')\"\n",
              "                title=\"Suggest charts\"\n",
              "                style=\"display:none;\">\n",
              "\n",
              "<svg xmlns=\"http://www.w3.org/2000/svg\" height=\"24px\"viewBox=\"0 0 24 24\"\n",
              "     width=\"24px\">\n",
              "    <g>\n",
              "        <path d=\"M19 3H5c-1.1 0-2 .9-2 2v14c0 1.1.9 2 2 2h14c1.1 0 2-.9 2-2V5c0-1.1-.9-2-2-2zM9 17H7v-7h2v7zm4 0h-2V7h2v10zm4 0h-2v-4h2v4z\"/>\n",
              "    </g>\n",
              "</svg>\n",
              "      </button>\n",
              "\n",
              "<style>\n",
              "  .colab-df-quickchart {\n",
              "      --bg-color: #E8F0FE;\n",
              "      --fill-color: #1967D2;\n",
              "      --hover-bg-color: #E2EBFA;\n",
              "      --hover-fill-color: #174EA6;\n",
              "      --disabled-fill-color: #AAA;\n",
              "      --disabled-bg-color: #DDD;\n",
              "  }\n",
              "\n",
              "  [theme=dark] .colab-df-quickchart {\n",
              "      --bg-color: #3B4455;\n",
              "      --fill-color: #D2E3FC;\n",
              "      --hover-bg-color: #434B5C;\n",
              "      --hover-fill-color: #FFFFFF;\n",
              "      --disabled-bg-color: #3B4455;\n",
              "      --disabled-fill-color: #666;\n",
              "  }\n",
              "\n",
              "  .colab-df-quickchart {\n",
              "    background-color: var(--bg-color);\n",
              "    border: none;\n",
              "    border-radius: 50%;\n",
              "    cursor: pointer;\n",
              "    display: none;\n",
              "    fill: var(--fill-color);\n",
              "    height: 32px;\n",
              "    padding: 0;\n",
              "    width: 32px;\n",
              "  }\n",
              "\n",
              "  .colab-df-quickchart:hover {\n",
              "    background-color: var(--hover-bg-color);\n",
              "    box-shadow: 0 1px 2px rgba(60, 64, 67, 0.3), 0 1px 3px 1px rgba(60, 64, 67, 0.15);\n",
              "    fill: var(--button-hover-fill-color);\n",
              "  }\n",
              "\n",
              "  .colab-df-quickchart-complete:disabled,\n",
              "  .colab-df-quickchart-complete:disabled:hover {\n",
              "    background-color: var(--disabled-bg-color);\n",
              "    fill: var(--disabled-fill-color);\n",
              "    box-shadow: none;\n",
              "  }\n",
              "\n",
              "  .colab-df-spinner {\n",
              "    border: 2px solid var(--fill-color);\n",
              "    border-color: transparent;\n",
              "    border-bottom-color: var(--fill-color);\n",
              "    animation:\n",
              "      spin 1s steps(1) infinite;\n",
              "  }\n",
              "\n",
              "  @keyframes spin {\n",
              "    0% {\n",
              "      border-color: transparent;\n",
              "      border-bottom-color: var(--fill-color);\n",
              "      border-left-color: var(--fill-color);\n",
              "    }\n",
              "    20% {\n",
              "      border-color: transparent;\n",
              "      border-left-color: var(--fill-color);\n",
              "      border-top-color: var(--fill-color);\n",
              "    }\n",
              "    30% {\n",
              "      border-color: transparent;\n",
              "      border-left-color: var(--fill-color);\n",
              "      border-top-color: var(--fill-color);\n",
              "      border-right-color: var(--fill-color);\n",
              "    }\n",
              "    40% {\n",
              "      border-color: transparent;\n",
              "      border-right-color: var(--fill-color);\n",
              "      border-top-color: var(--fill-color);\n",
              "    }\n",
              "    60% {\n",
              "      border-color: transparent;\n",
              "      border-right-color: var(--fill-color);\n",
              "    }\n",
              "    80% {\n",
              "      border-color: transparent;\n",
              "      border-right-color: var(--fill-color);\n",
              "      border-bottom-color: var(--fill-color);\n",
              "    }\n",
              "    90% {\n",
              "      border-color: transparent;\n",
              "      border-bottom-color: var(--fill-color);\n",
              "    }\n",
              "  }\n",
              "</style>\n",
              "\n",
              "      <script>\n",
              "        async function quickchart(key) {\n",
              "          const quickchartButtonEl =\n",
              "            document.querySelector('#' + key + ' button');\n",
              "          quickchartButtonEl.disabled = true;  // To prevent multiple clicks.\n",
              "          quickchartButtonEl.classList.add('colab-df-spinner');\n",
              "          try {\n",
              "            const charts = await google.colab.kernel.invokeFunction(\n",
              "                'suggestCharts', [key], {});\n",
              "          } catch (error) {\n",
              "            console.error('Error during call to suggestCharts:', error);\n",
              "          }\n",
              "          quickchartButtonEl.classList.remove('colab-df-spinner');\n",
              "          quickchartButtonEl.classList.add('colab-df-quickchart-complete');\n",
              "        }\n",
              "        (() => {\n",
              "          let quickchartButtonEl =\n",
              "            document.querySelector('#df-fdd6b261-b90e-4ca7-a85c-525cfb7d1d7d button');\n",
              "          quickchartButtonEl.style.display =\n",
              "            google.colab.kernel.accessAllowed ? 'block' : 'none';\n",
              "        })();\n",
              "      </script>\n",
              "    </div>\n",
              "    </div>\n",
              "  </div>\n"
            ],
            "application/vnd.google.colaboratory.intrinsic+json": {
              "type": "dataframe"
            }
          },
          "metadata": {}
        },
        {
          "output_type": "display_data",
          "data": {
            "text/plain": [
              "                     num_orders  hour  day dayofweek      day_times\n",
              "datetime                                                           \n",
              "2018-03-01 00:00:00         124     0    1  Thursday       midnidgt\n",
              "2018-03-01 01:00:00          85     1    1  Thursday       midnidgt\n",
              "2018-03-01 02:00:00          71     2    1  Thursday  early morning\n",
              "2018-03-01 03:00:00          66     3    1  Thursday  early morning\n",
              "2018-03-01 04:00:00          43     4    1  Thursday  early morning"
            ],
            "text/html": [
              "\n",
              "  <div id=\"df-b03c3947-170b-4435-839d-889a16f811ad\" class=\"colab-df-container\">\n",
              "    <div>\n",
              "<style scoped>\n",
              "    .dataframe tbody tr th:only-of-type {\n",
              "        vertical-align: middle;\n",
              "    }\n",
              "\n",
              "    .dataframe tbody tr th {\n",
              "        vertical-align: top;\n",
              "    }\n",
              "\n",
              "    .dataframe thead th {\n",
              "        text-align: right;\n",
              "    }\n",
              "</style>\n",
              "<table border=\"1\" class=\"dataframe\">\n",
              "  <thead>\n",
              "    <tr style=\"text-align: right;\">\n",
              "      <th></th>\n",
              "      <th>num_orders</th>\n",
              "      <th>hour</th>\n",
              "      <th>day</th>\n",
              "      <th>dayofweek</th>\n",
              "      <th>day_times</th>\n",
              "    </tr>\n",
              "    <tr>\n",
              "      <th>datetime</th>\n",
              "      <th></th>\n",
              "      <th></th>\n",
              "      <th></th>\n",
              "      <th></th>\n",
              "      <th></th>\n",
              "    </tr>\n",
              "  </thead>\n",
              "  <tbody>\n",
              "    <tr>\n",
              "      <th>2018-03-01 00:00:00</th>\n",
              "      <td>124</td>\n",
              "      <td>0</td>\n",
              "      <td>1</td>\n",
              "      <td>Thursday</td>\n",
              "      <td>midnidgt</td>\n",
              "    </tr>\n",
              "    <tr>\n",
              "      <th>2018-03-01 01:00:00</th>\n",
              "      <td>85</td>\n",
              "      <td>1</td>\n",
              "      <td>1</td>\n",
              "      <td>Thursday</td>\n",
              "      <td>midnidgt</td>\n",
              "    </tr>\n",
              "    <tr>\n",
              "      <th>2018-03-01 02:00:00</th>\n",
              "      <td>71</td>\n",
              "      <td>2</td>\n",
              "      <td>1</td>\n",
              "      <td>Thursday</td>\n",
              "      <td>early morning</td>\n",
              "    </tr>\n",
              "    <tr>\n",
              "      <th>2018-03-01 03:00:00</th>\n",
              "      <td>66</td>\n",
              "      <td>3</td>\n",
              "      <td>1</td>\n",
              "      <td>Thursday</td>\n",
              "      <td>early morning</td>\n",
              "    </tr>\n",
              "    <tr>\n",
              "      <th>2018-03-01 04:00:00</th>\n",
              "      <td>43</td>\n",
              "      <td>4</td>\n",
              "      <td>1</td>\n",
              "      <td>Thursday</td>\n",
              "      <td>early morning</td>\n",
              "    </tr>\n",
              "  </tbody>\n",
              "</table>\n",
              "</div>\n",
              "    <div class=\"colab-df-buttons\">\n",
              "\n",
              "  <div class=\"colab-df-container\">\n",
              "    <button class=\"colab-df-convert\" onclick=\"convertToInteractive('df-b03c3947-170b-4435-839d-889a16f811ad')\"\n",
              "            title=\"Convert this dataframe to an interactive table.\"\n",
              "            style=\"display:none;\">\n",
              "\n",
              "  <svg xmlns=\"http://www.w3.org/2000/svg\" height=\"24px\" viewBox=\"0 -960 960 960\">\n",
              "    <path d=\"M120-120v-720h720v720H120Zm60-500h600v-160H180v160Zm220 220h160v-160H400v160Zm0 220h160v-160H400v160ZM180-400h160v-160H180v160Zm440 0h160v-160H620v160ZM180-180h160v-160H180v160Zm440 0h160v-160H620v160Z\"/>\n",
              "  </svg>\n",
              "    </button>\n",
              "\n",
              "  <style>\n",
              "    .colab-df-container {\n",
              "      display:flex;\n",
              "      gap: 12px;\n",
              "    }\n",
              "\n",
              "    .colab-df-convert {\n",
              "      background-color: #E8F0FE;\n",
              "      border: none;\n",
              "      border-radius: 50%;\n",
              "      cursor: pointer;\n",
              "      display: none;\n",
              "      fill: #1967D2;\n",
              "      height: 32px;\n",
              "      padding: 0 0 0 0;\n",
              "      width: 32px;\n",
              "    }\n",
              "\n",
              "    .colab-df-convert:hover {\n",
              "      background-color: #E2EBFA;\n",
              "      box-shadow: 0px 1px 2px rgba(60, 64, 67, 0.3), 0px 1px 3px 1px rgba(60, 64, 67, 0.15);\n",
              "      fill: #174EA6;\n",
              "    }\n",
              "\n",
              "    .colab-df-buttons div {\n",
              "      margin-bottom: 4px;\n",
              "    }\n",
              "\n",
              "    [theme=dark] .colab-df-convert {\n",
              "      background-color: #3B4455;\n",
              "      fill: #D2E3FC;\n",
              "    }\n",
              "\n",
              "    [theme=dark] .colab-df-convert:hover {\n",
              "      background-color: #434B5C;\n",
              "      box-shadow: 0px 1px 3px 1px rgba(0, 0, 0, 0.15);\n",
              "      filter: drop-shadow(0px 1px 2px rgba(0, 0, 0, 0.3));\n",
              "      fill: #FFFFFF;\n",
              "    }\n",
              "  </style>\n",
              "\n",
              "    <script>\n",
              "      const buttonEl =\n",
              "        document.querySelector('#df-b03c3947-170b-4435-839d-889a16f811ad button.colab-df-convert');\n",
              "      buttonEl.style.display =\n",
              "        google.colab.kernel.accessAllowed ? 'block' : 'none';\n",
              "\n",
              "      async function convertToInteractive(key) {\n",
              "        const element = document.querySelector('#df-b03c3947-170b-4435-839d-889a16f811ad');\n",
              "        const dataTable =\n",
              "          await google.colab.kernel.invokeFunction('convertToInteractive',\n",
              "                                                    [key], {});\n",
              "        if (!dataTable) return;\n",
              "\n",
              "        const docLinkHtml = 'Like what you see? Visit the ' +\n",
              "          '<a target=\"_blank\" href=https://colab.research.google.com/notebooks/data_table.ipynb>data table notebook</a>'\n",
              "          + ' to learn more about interactive tables.';\n",
              "        element.innerHTML = '';\n",
              "        dataTable['output_type'] = 'display_data';\n",
              "        await google.colab.output.renderOutput(dataTable, element);\n",
              "        const docLink = document.createElement('div');\n",
              "        docLink.innerHTML = docLinkHtml;\n",
              "        element.appendChild(docLink);\n",
              "      }\n",
              "    </script>\n",
              "  </div>\n",
              "\n",
              "\n",
              "    <div id=\"df-f1f2fa29-fe10-470f-8e19-ea28727a12aa\">\n",
              "      <button class=\"colab-df-quickchart\" onclick=\"quickchart('df-f1f2fa29-fe10-470f-8e19-ea28727a12aa')\"\n",
              "                title=\"Suggest charts\"\n",
              "                style=\"display:none;\">\n",
              "\n",
              "<svg xmlns=\"http://www.w3.org/2000/svg\" height=\"24px\"viewBox=\"0 0 24 24\"\n",
              "     width=\"24px\">\n",
              "    <g>\n",
              "        <path d=\"M19 3H5c-1.1 0-2 .9-2 2v14c0 1.1.9 2 2 2h14c1.1 0 2-.9 2-2V5c0-1.1-.9-2-2-2zM9 17H7v-7h2v7zm4 0h-2V7h2v10zm4 0h-2v-4h2v4z\"/>\n",
              "    </g>\n",
              "</svg>\n",
              "      </button>\n",
              "\n",
              "<style>\n",
              "  .colab-df-quickchart {\n",
              "      --bg-color: #E8F0FE;\n",
              "      --fill-color: #1967D2;\n",
              "      --hover-bg-color: #E2EBFA;\n",
              "      --hover-fill-color: #174EA6;\n",
              "      --disabled-fill-color: #AAA;\n",
              "      --disabled-bg-color: #DDD;\n",
              "  }\n",
              "\n",
              "  [theme=dark] .colab-df-quickchart {\n",
              "      --bg-color: #3B4455;\n",
              "      --fill-color: #D2E3FC;\n",
              "      --hover-bg-color: #434B5C;\n",
              "      --hover-fill-color: #FFFFFF;\n",
              "      --disabled-bg-color: #3B4455;\n",
              "      --disabled-fill-color: #666;\n",
              "  }\n",
              "\n",
              "  .colab-df-quickchart {\n",
              "    background-color: var(--bg-color);\n",
              "    border: none;\n",
              "    border-radius: 50%;\n",
              "    cursor: pointer;\n",
              "    display: none;\n",
              "    fill: var(--fill-color);\n",
              "    height: 32px;\n",
              "    padding: 0;\n",
              "    width: 32px;\n",
              "  }\n",
              "\n",
              "  .colab-df-quickchart:hover {\n",
              "    background-color: var(--hover-bg-color);\n",
              "    box-shadow: 0 1px 2px rgba(60, 64, 67, 0.3), 0 1px 3px 1px rgba(60, 64, 67, 0.15);\n",
              "    fill: var(--button-hover-fill-color);\n",
              "  }\n",
              "\n",
              "  .colab-df-quickchart-complete:disabled,\n",
              "  .colab-df-quickchart-complete:disabled:hover {\n",
              "    background-color: var(--disabled-bg-color);\n",
              "    fill: var(--disabled-fill-color);\n",
              "    box-shadow: none;\n",
              "  }\n",
              "\n",
              "  .colab-df-spinner {\n",
              "    border: 2px solid var(--fill-color);\n",
              "    border-color: transparent;\n",
              "    border-bottom-color: var(--fill-color);\n",
              "    animation:\n",
              "      spin 1s steps(1) infinite;\n",
              "  }\n",
              "\n",
              "  @keyframes spin {\n",
              "    0% {\n",
              "      border-color: transparent;\n",
              "      border-bottom-color: var(--fill-color);\n",
              "      border-left-color: var(--fill-color);\n",
              "    }\n",
              "    20% {\n",
              "      border-color: transparent;\n",
              "      border-left-color: var(--fill-color);\n",
              "      border-top-color: var(--fill-color);\n",
              "    }\n",
              "    30% {\n",
              "      border-color: transparent;\n",
              "      border-left-color: var(--fill-color);\n",
              "      border-top-color: var(--fill-color);\n",
              "      border-right-color: var(--fill-color);\n",
              "    }\n",
              "    40% {\n",
              "      border-color: transparent;\n",
              "      border-right-color: var(--fill-color);\n",
              "      border-top-color: var(--fill-color);\n",
              "    }\n",
              "    60% {\n",
              "      border-color: transparent;\n",
              "      border-right-color: var(--fill-color);\n",
              "    }\n",
              "    80% {\n",
              "      border-color: transparent;\n",
              "      border-right-color: var(--fill-color);\n",
              "      border-bottom-color: var(--fill-color);\n",
              "    }\n",
              "    90% {\n",
              "      border-color: transparent;\n",
              "      border-bottom-color: var(--fill-color);\n",
              "    }\n",
              "  }\n",
              "</style>\n",
              "\n",
              "      <script>\n",
              "        async function quickchart(key) {\n",
              "          const quickchartButtonEl =\n",
              "            document.querySelector('#' + key + ' button');\n",
              "          quickchartButtonEl.disabled = true;  // To prevent multiple clicks.\n",
              "          quickchartButtonEl.classList.add('colab-df-spinner');\n",
              "          try {\n",
              "            const charts = await google.colab.kernel.invokeFunction(\n",
              "                'suggestCharts', [key], {});\n",
              "          } catch (error) {\n",
              "            console.error('Error during call to suggestCharts:', error);\n",
              "          }\n",
              "          quickchartButtonEl.classList.remove('colab-df-spinner');\n",
              "          quickchartButtonEl.classList.add('colab-df-quickchart-complete');\n",
              "        }\n",
              "        (() => {\n",
              "          let quickchartButtonEl =\n",
              "            document.querySelector('#df-f1f2fa29-fe10-470f-8e19-ea28727a12aa button');\n",
              "          quickchartButtonEl.style.display =\n",
              "            google.colab.kernel.accessAllowed ? 'block' : 'none';\n",
              "        })();\n",
              "      </script>\n",
              "    </div>\n",
              "    </div>\n",
              "  </div>\n"
            ],
            "application/vnd.google.colaboratory.intrinsic+json": {
              "type": "dataframe",
              "summary": "{\n  \"name\": \"#df\",\n  \"rows\": 5,\n  \"fields\": [\n    {\n      \"column\": \"datetime\",\n      \"properties\": {\n        \"dtype\": \"date\",\n        \"min\": \"2018-03-01 00:00:00\",\n        \"max\": \"2018-03-01 04:00:00\",\n        \"num_unique_values\": 5,\n        \"samples\": [\n          \"2018-03-01 01:00:00\",\n          \"2018-03-01 04:00:00\",\n          \"2018-03-01 02:00:00\"\n        ],\n        \"semantic_type\": \"\",\n        \"description\": \"\"\n      }\n    },\n    {\n      \"column\": \"num_orders\",\n      \"properties\": {\n        \"dtype\": \"number\",\n        \"std\": 29,\n        \"min\": 43,\n        \"max\": 124,\n        \"num_unique_values\": 5,\n        \"samples\": [\n          85,\n          43,\n          71\n        ],\n        \"semantic_type\": \"\",\n        \"description\": \"\"\n      }\n    },\n    {\n      \"column\": \"hour\",\n      \"properties\": {\n        \"dtype\": \"int32\",\n        \"num_unique_values\": 5,\n        \"samples\": [\n          1,\n          4,\n          2\n        ],\n        \"semantic_type\": \"\",\n        \"description\": \"\"\n      }\n    },\n    {\n      \"column\": \"day\",\n      \"properties\": {\n        \"dtype\": \"int32\",\n        \"num_unique_values\": 1,\n        \"samples\": [\n          1\n        ],\n        \"semantic_type\": \"\",\n        \"description\": \"\"\n      }\n    },\n    {\n      \"column\": \"dayofweek\",\n      \"properties\": {\n        \"dtype\": \"category\",\n        \"num_unique_values\": 1,\n        \"samples\": [\n          \"Thursday\"\n        ],\n        \"semantic_type\": \"\",\n        \"description\": \"\"\n      }\n    },\n    {\n      \"column\": \"day_times\",\n      \"properties\": {\n        \"dtype\": \"category\",\n        \"num_unique_values\": 2,\n        \"samples\": [\n          \"early morning\"\n        ],\n        \"semantic_type\": \"\",\n        \"description\": \"\"\n      }\n    }\n  ]\n}"
            }
          },
          "metadata": {}
        }
      ],
      "source": [
        "# создание дополнительных признаков\n",
        "df1 = data.copy()\n",
        "df1 = make_times(df1)\n",
        "df3=df1.copy()\n",
        "\n",
        "max_lag = 24\n",
        "max_roll = 24\n",
        "for lag in range(1, max_lag + 1):\n",
        "        df1['lag_{}'.format(lag)] = (df1['num_orders'].shift(lag))\n",
        "\n",
        "df1['lag_48'] = (df1['num_orders'].shift(48))\n",
        "df1['lag_168'] = (df1['num_orders'].shift(168))\n",
        "df1['rolling_mean'] = df1['num_orders'].shift().rolling(max_roll).mean()\n",
        "\n",
        "display(df1.head())\n",
        "display(df3.head())\n",
        "\n",
        "#df.info()"
      ]
    },
    {
      "cell_type": "markdown",
      "metadata": {
        "id": "zcA-ESngU6jP"
      },
      "source": [
        "## Анализ"
      ]
    },
    {
      "cell_type": "code",
      "execution_count": 13,
      "metadata": {
        "id": "31pSYaENU6jP",
        "outputId": "432539d4-c187-4a8f-9798-3f87448bea72",
        "colab": {
          "base_uri": "https://localhost:8080/",
          "height": 489
        }
      },
      "outputs": [
        {
          "output_type": "display_data",
          "data": {
            "text/plain": [
              "'анализ по дням '"
            ],
            "application/vnd.google.colaboratory.intrinsic+json": {
              "type": "string"
            }
          },
          "metadata": {}
        },
        {
          "output_type": "execute_result",
          "data": {
            "text/plain": [
              "<Axes: xlabel='day'>"
            ]
          },
          "metadata": {},
          "execution_count": 13
        },
        {
          "output_type": "display_data",
          "data": {
            "text/plain": [
              "<Figure size 640x480 with 1 Axes>"
            ],
            "image/png": "[encoded data removed]"
          },
          "metadata": {}
        }
      ],
      "source": [
        "# анализ по дням\n",
        "df_month = df3.groupby('day')[['num_orders']].sum()\n",
        "df_month.columns = ['num_orders']\n",
        "#display (df_month)\n",
        "display('анализ по дням ')\n",
        "df_month.plot.bar()"
      ]
    },
    {
      "cell_type": "code",
      "execution_count": 14,
      "metadata": {
        "id": "1o36o_AiU6jQ",
        "outputId": "c9686c41-704c-4c97-cc17-2f40d7298098",
        "colab": {
          "base_uri": "https://localhost:8080/",
          "height": 835
        }
      },
      "outputs": [
        {
          "output_type": "display_data",
          "data": {
            "text/plain": [
              "           num_orders\n",
              "dayofweek            \n",
              "Friday          59059\n",
              "Monday          56314\n",
              "Thursday        55508\n",
              "Saturday        52321\n",
              "Wednesday       52263\n",
              "Sunday          49291\n",
              "Tuesday         48055"
            ],
            "text/html": [
              "\n",
              "  <div id=\"df-4a4ca8a4-1134-4c47-8178-8a5a22cdb0e3\" class=\"colab-df-container\">\n",
              "    <div>\n",
              "<style scoped>\n",
              "    .dataframe tbody tr th:only-of-type {\n",
              "        vertical-align: middle;\n",
              "    }\n",
              "\n",
              "    .dataframe tbody tr th {\n",
              "        vertical-align: top;\n",
              "    }\n",
              "\n",
              "    .dataframe thead th {\n",
              "        text-align: right;\n",
              "    }\n",
              "</style>\n",
              "<table border=\"1\" class=\"dataframe\">\n",
              "  <thead>\n",
              "    <tr style=\"text-align: right;\">\n",
              "      <th></th>\n",
              "      <th>num_orders</th>\n",
              "    </tr>\n",
              "    <tr>\n",
              "      <th>dayofweek</th>\n",
              "      <th></th>\n",
              "    </tr>\n",
              "  </thead>\n",
              "  <tbody>\n",
              "    <tr>\n",
              "      <th>Friday</th>\n",
              "      <td>59059</td>\n",
              "    </tr>\n",
              "    <tr>\n",
              "      <th>Monday</th>\n",
              "      <td>56314</td>\n",
              "    </tr>\n",
              "    <tr>\n",
              "      <th>Thursday</th>\n",
              "      <td>55508</td>\n",
              "    </tr>\n",
              "    <tr>\n",
              "      <th>Saturday</th>\n",
              "      <td>52321</td>\n",
              "    </tr>\n",
              "    <tr>\n",
              "      <th>Wednesday</th>\n",
              "      <td>52263</td>\n",
              "    </tr>\n",
              "    <tr>\n",
              "      <th>Sunday</th>\n",
              "      <td>49291</td>\n",
              "    </tr>\n",
              "    <tr>\n",
              "      <th>Tuesday</th>\n",
              "      <td>48055</td>\n",
              "    </tr>\n",
              "  </tbody>\n",
              "</table>\n",
              "</div>\n",
              "    <div class=\"colab-df-buttons\">\n",
              "\n",
              "  <div class=\"colab-df-container\">\n",
              "    <button class=\"colab-df-convert\" onclick=\"convertToInteractive('df-4a4ca8a4-1134-4c47-8178-8a5a22cdb0e3')\"\n",
              "            title=\"Convert this dataframe to an interactive table.\"\n",
              "            style=\"display:none;\">\n",
              "\n",
              "  <svg xmlns=\"http://www.w3.org/2000/svg\" height=\"24px\" viewBox=\"0 -960 960 960\">\n",
              "    <path d=\"M120-120v-720h720v720H120Zm60-500h600v-160H180v160Zm220 220h160v-160H400v160Zm0 220h160v-160H400v160ZM180-400h160v-160H180v160Zm440 0h160v-160H620v160ZM180-180h160v-160H180v160Zm440 0h160v-160H620v160Z\"/>\n",
              "  </svg>\n",
              "    </button>\n",
              "\n",
              "  <style>\n",
              "    .colab-df-container {\n",
              "      display:flex;\n",
              "      gap: 12px;\n",
              "    }\n",
              "\n",
              "    .colab-df-convert {\n",
              "      background-color: #E8F0FE;\n",
              "      border: none;\n",
              "      border-radius: 50%;\n",
              "      cursor: pointer;\n",
              "      display: none;\n",
              "      fill: #1967D2;\n",
              "      height: 32px;\n",
              "      padding: 0 0 0 0;\n",
              "      width: 32px;\n",
              "    }\n",
              "\n",
              "    .colab-df-convert:hover {\n",
              "      background-color: #E2EBFA;\n",
              "      box-shadow: 0px 1px 2px rgba(60, 64, 67, 0.3), 0px 1px 3px 1px rgba(60, 64, 67, 0.15);\n",
              "      fill: #174EA6;\n",
              "    }\n",
              "\n",
              "    .colab-df-buttons div {\n",
              "      margin-bottom: 4px;\n",
              "    }\n",
              "\n",
              "    [theme=dark] .colab-df-convert {\n",
              "      background-color: #3B4455;\n",
              "      fill: #D2E3FC;\n",
              "    }\n",
              "\n",
              "    [theme=dark] .colab-df-convert:hover {\n",
              "      background-color: #434B5C;\n",
              "      box-shadow: 0px 1px 3px 1px rgba(0, 0, 0, 0.15);\n",
              "      filter: drop-shadow(0px 1px 2px rgba(0, 0, 0, 0.3));\n",
              "      fill: #FFFFFF;\n",
              "    }\n",
              "  </style>\n",
              "\n",
              "    <script>\n",
              "      const buttonEl =\n",
              "        document.querySelector('#df-4a4ca8a4-1134-4c47-8178-8a5a22cdb0e3 button.colab-df-convert');\n",
              "      buttonEl.style.display =\n",
              "        google.colab.kernel.accessAllowed ? 'block' : 'none';\n",
              "\n",
              "      async function convertToInteractive(key) {\n",
              "        const element = document.querySelector('#df-4a4ca8a4-1134-4c47-8178-8a5a22cdb0e3');\n",
              "        const dataTable =\n",
              "          await google.colab.kernel.invokeFunction('convertToInteractive',\n",
              "                                                    [key], {});\n",
              "        if (!dataTable) return;\n",
              "\n",
              "        const docLinkHtml = 'Like what you see? Visit the ' +\n",
              "          '<a target=\"_blank\" href=https://colab.research.google.com/notebooks/data_table.ipynb>data table notebook</a>'\n",
              "          + ' to learn more about interactive tables.';\n",
              "        element.innerHTML = '';\n",
              "        dataTable['output_type'] = 'display_data';\n",
              "        await google.colab.output.renderOutput(dataTable, element);\n",
              "        const docLink = document.createElement('div');\n",
              "        docLink.innerHTML = docLinkHtml;\n",
              "        element.appendChild(docLink);\n",
              "      }\n",
              "    </script>\n",
              "  </div>\n",
              "\n",
              "\n",
              "    <div id=\"df-1ec442dd-1fdd-4b79-8854-fb839d0860f6\">\n",
              "      <button class=\"colab-df-quickchart\" onclick=\"quickchart('df-1ec442dd-1fdd-4b79-8854-fb839d0860f6')\"\n",
              "                title=\"Suggest charts\"\n",
              "                style=\"display:none;\">\n",
              "\n",
              "<svg xmlns=\"http://www.w3.org/2000/svg\" height=\"24px\"viewBox=\"0 0 24 24\"\n",
              "     width=\"24px\">\n",
              "    <g>\n",
              "        <path d=\"M19 3H5c-1.1 0-2 .9-2 2v14c0 1.1.9 2 2 2h14c1.1 0 2-.9 2-2V5c0-1.1-.9-2-2-2zM9 17H7v-7h2v7zm4 0h-2V7h2v10zm4 0h-2v-4h2v4z\"/>\n",
              "    </g>\n",
              "</svg>\n",
              "      </button>\n",
              "\n",
              "<style>\n",
              "  .colab-df-quickchart {\n",
              "      --bg-color: #E8F0FE;\n",
              "      --fill-color: #1967D2;\n",
              "      --hover-bg-color: #E2EBFA;\n",
              "      --hover-fill-color: #174EA6;\n",
              "      --disabled-fill-color: #AAA;\n",
              "      --disabled-bg-color: #DDD;\n",
              "  }\n",
              "\n",
              "  [theme=dark] .colab-df-quickchart {\n",
              "      --bg-color: #3B4455;\n",
              "      --fill-color: #D2E3FC;\n",
              "      --hover-bg-color: #434B5C;\n",
              "      --hover-fill-color: #FFFFFF;\n",
              "      --disabled-bg-color: #3B4455;\n",
              "      --disabled-fill-color: #666;\n",
              "  }\n",
              "\n",
              "  .colab-df-quickchart {\n",
              "    background-color: var(--bg-color);\n",
              "    border: none;\n",
              "    border-radius: 50%;\n",
              "    cursor: pointer;\n",
              "    display: none;\n",
              "    fill: var(--fill-color);\n",
              "    height: 32px;\n",
              "    padding: 0;\n",
              "    width: 32px;\n",
              "  }\n",
              "\n",
              "  .colab-df-quickchart:hover {\n",
              "    background-color: var(--hover-bg-color);\n",
              "    box-shadow: 0 1px 2px rgba(60, 64, 67, 0.3), 0 1px 3px 1px rgba(60, 64, 67, 0.15);\n",
              "    fill: var(--button-hover-fill-color);\n",
              "  }\n",
              "\n",
              "  .colab-df-quickchart-complete:disabled,\n",
              "  .colab-df-quickchart-complete:disabled:hover {\n",
              "    background-color: var(--disabled-bg-color);\n",
              "    fill: var(--disabled-fill-color);\n",
              "    box-shadow: none;\n",
              "  }\n",
              "\n",
              "  .colab-df-spinner {\n",
              "    border: 2px solid var(--fill-color);\n",
              "    border-color: transparent;\n",
              "    border-bottom-color: var(--fill-color);\n",
              "    animation:\n",
              "      spin 1s steps(1) infinite;\n",
              "  }\n",
              "\n",
              "  @keyframes spin {\n",
              "    0% {\n",
              "      border-color: transparent;\n",
              "      border-bottom-color: var(--fill-color);\n",
              "      border-left-color: var(--fill-color);\n",
              "    }\n",
              "    20% {\n",
              "      border-color: transparent;\n",
              "      border-left-color: var(--fill-color);\n",
              "      border-top-color: var(--fill-color);\n",
              "    }\n",
              "    30% {\n",
              "      border-color: transparent;\n",
              "      border-left-color: var(--fill-color);\n",
              "      border-top-color: var(--fill-color);\n",
              "      border-right-color: var(--fill-color);\n",
              "    }\n",
              "    40% {\n",
              "      border-color: transparent;\n",
              "      border-right-color: var(--fill-color);\n",
              "      border-top-color: var(--fill-color);\n",
              "    }\n",
              "    60% {\n",
              "      border-color: transparent;\n",
              "      border-right-color: var(--fill-color);\n",
              "    }\n",
              "    80% {\n",
              "      border-color: transparent;\n",
              "      border-right-color: var(--fill-color);\n",
              "      border-bottom-color: var(--fill-color);\n",
              "    }\n",
              "    90% {\n",
              "      border-color: transparent;\n",
              "      border-bottom-color: var(--fill-color);\n",
              "    }\n",
              "  }\n",
              "</style>\n",
              "\n",
              "      <script>\n",
              "        async function quickchart(key) {\n",
              "          const quickchartButtonEl =\n",
              "            document.querySelector('#' + key + ' button');\n",
              "          quickchartButtonEl.disabled = true;  // To prevent multiple clicks.\n",
              "          quickchartButtonEl.classList.add('colab-df-spinner');\n",
              "          try {\n",
              "            const charts = await google.colab.kernel.invokeFunction(\n",
              "                'suggestCharts', [key], {});\n",
              "          } catch (error) {\n",
              "            console.error('Error during call to suggestCharts:', error);\n",
              "          }\n",
              "          quickchartButtonEl.classList.remove('colab-df-spinner');\n",
              "          quickchartButtonEl.classList.add('colab-df-quickchart-complete');\n",
              "        }\n",
              "        (() => {\n",
              "          let quickchartButtonEl =\n",
              "            document.querySelector('#df-1ec442dd-1fdd-4b79-8854-fb839d0860f6 button');\n",
              "          quickchartButtonEl.style.display =\n",
              "            google.colab.kernel.accessAllowed ? 'block' : 'none';\n",
              "        })();\n",
              "      </script>\n",
              "    </div>\n",
              "    </div>\n",
              "  </div>\n"
            ],
            "application/vnd.google.colaboratory.intrinsic+json": {
              "type": "dataframe",
              "variable_name": "df_month",
              "summary": "{\n  \"name\": \"df_month\",\n  \"rows\": 7,\n  \"fields\": [\n    {\n      \"column\": \"dayofweek\",\n      \"properties\": {\n        \"dtype\": \"string\",\n        \"num_unique_values\": 7,\n        \"samples\": [\n          \"Friday\",\n          \"Monday\",\n          \"Sunday\"\n        ],\n        \"semantic_type\": \"\",\n        \"description\": \"\"\n      }\n    },\n    {\n      \"column\": \"num_orders\",\n      \"properties\": {\n        \"dtype\": \"number\",\n        \"std\": 3931,\n        \"min\": 48055,\n        \"max\": 59059,\n        \"num_unique_values\": 7,\n        \"samples\": [\n          59059,\n          56314,\n          49291\n        ],\n        \"semantic_type\": \"\",\n        \"description\": \"\"\n      }\n    }\n  ]\n}"
            }
          },
          "metadata": {}
        },
        {
          "output_type": "display_data",
          "data": {
            "text/plain": [
              "'анализ по дням недели'"
            ],
            "application/vnd.google.colaboratory.intrinsic+json": {
              "type": "string"
            }
          },
          "metadata": {}
        },
        {
          "output_type": "execute_result",
          "data": {
            "text/plain": [
              "<Axes: xlabel='dayofweek'>"
            ]
          },
          "metadata": {},
          "execution_count": 14
        },
        {
          "output_type": "display_data",
          "data": {
            "text/plain": [
              "<Figure size 640x480 with 1 Axes>"
            ],
            "image/png": "[encoded data removed]"
          },
          "metadata": {}
        }
      ],
      "source": [
        "# анализ по дням\n",
        "df_month = df3.groupby('dayofweek')[['num_orders']].sum().sort_values('num_orders',ascending=False)\n",
        "df_month.columns = ['num_orders']\n",
        "display (df_month)\n",
        "display('анализ по дням недели')\n",
        "df_month.plot.bar()"
      ]
    },
    {
      "cell_type": "code",
      "execution_count": 15,
      "metadata": {
        "id": "bgYw_iPxU6jQ",
        "outputId": "0f561a1a-e3c8-4a59-8246-aabdb4243fee",
        "colab": {
          "base_uri": "https://localhost:8080/",
          "height": 489
        }
      },
      "outputs": [
        {
          "output_type": "display_data",
          "data": {
            "text/plain": [
              "'анализ по часам'"
            ],
            "application/vnd.google.colaboratory.intrinsic+json": {
              "type": "string"
            }
          },
          "metadata": {}
        },
        {
          "output_type": "execute_result",
          "data": {
            "text/plain": [
              "<Axes: xlabel='hour'>"
            ]
          },
          "metadata": {},
          "execution_count": 15
        },
        {
          "output_type": "display_data",
          "data": {
            "text/plain": [
              "<Figure size 640x480 with 1 Axes>"
            ],
            "image/png": "[encoded data removed]"
          },
          "metadata": {}
        }
      ],
      "source": [
        "# анализ по часам\n",
        "df_month = df3.groupby('hour')[['num_orders']].sum()#.sort_values('num_orders',ascending=False)\n",
        "df_month.columns = ['num_orders']\n",
        "#display (df_month)\n",
        "display('анализ по часам')\n",
        "df_month.plot.bar()"
      ]
    },
    {
      "cell_type": "code",
      "execution_count": 16,
      "metadata": {
        "id": "wQwv6HuvU6jQ",
        "outputId": "9b879db0-c46c-4e97-b438-a39c65678af1",
        "colab": {
          "base_uri": "https://localhost:8080/",
          "height": 855
        }
      },
      "outputs": [
        {
          "output_type": "display_data",
          "data": {
            "text/plain": [
              "               num_orders\n",
              "day_times                \n",
              "afternoon           39370\n",
              "early evening       67008\n",
              "early morning       55568\n",
              "late evening        64935\n",
              "late morning        62098\n",
              "midnidgt            65970\n",
              "morning             17862"
            ],
            "text/html": [
              "\n",
              "  <div id=\"df-a576346e-9101-4a0d-acb8-b87b23b106d5\" class=\"colab-df-container\">\n",
              "    <div>\n",
              "<style scoped>\n",
              "    .dataframe tbody tr th:only-of-type {\n",
              "        vertical-align: middle;\n",
              "    }\n",
              "\n",
              "    .dataframe tbody tr th {\n",
              "        vertical-align: top;\n",
              "    }\n",
              "\n",
              "    .dataframe thead th {\n",
              "        text-align: right;\n",
              "    }\n",
              "</style>\n",
              "<table border=\"1\" class=\"dataframe\">\n",
              "  <thead>\n",
              "    <tr style=\"text-align: right;\">\n",
              "      <th></th>\n",
              "      <th>num_orders</th>\n",
              "    </tr>\n",
              "    <tr>\n",
              "      <th>day_times</th>\n",
              "      <th></th>\n",
              "    </tr>\n",
              "  </thead>\n",
              "  <tbody>\n",
              "    <tr>\n",
              "      <th>afternoon</th>\n",
              "      <td>39370</td>\n",
              "    </tr>\n",
              "    <tr>\n",
              "      <th>early evening</th>\n",
              "      <td>67008</td>\n",
              "    </tr>\n",
              "    <tr>\n",
              "      <th>early morning</th>\n",
              "      <td>55568</td>\n",
              "    </tr>\n",
              "    <tr>\n",
              "      <th>late evening</th>\n",
              "      <td>64935</td>\n",
              "    </tr>\n",
              "    <tr>\n",
              "      <th>late morning</th>\n",
              "      <td>62098</td>\n",
              "    </tr>\n",
              "    <tr>\n",
              "      <th>midnidgt</th>\n",
              "      <td>65970</td>\n",
              "    </tr>\n",
              "    <tr>\n",
              "      <th>morning</th>\n",
              "      <td>17862</td>\n",
              "    </tr>\n",
              "  </tbody>\n",
              "</table>\n",
              "</div>\n",
              "    <div class=\"colab-df-buttons\">\n",
              "\n",
              "  <div class=\"colab-df-container\">\n",
              "    <button class=\"colab-df-convert\" onclick=\"convertToInteractive('df-a576346e-9101-4a0d-acb8-b87b23b106d5')\"\n",
              "            title=\"Convert this dataframe to an interactive table.\"\n",
              "            style=\"display:none;\">\n",
              "\n",
              "  <svg xmlns=\"http://www.w3.org/2000/svg\" height=\"24px\" viewBox=\"0 -960 960 960\">\n",
              "    <path d=\"M120-120v-720h720v720H120Zm60-500h600v-160H180v160Zm220 220h160v-160H400v160Zm0 220h160v-160H400v160ZM180-400h160v-160H180v160Zm440 0h160v-160H620v160ZM180-180h160v-160H180v160Zm440 0h160v-160H620v160Z\"/>\n",
              "  </svg>\n",
              "    </button>\n",
              "\n",
              "  <style>\n",
              "    .colab-df-container {\n",
              "      display:flex;\n",
              "      gap: 12px;\n",
              "    }\n",
              "\n",
              "    .colab-df-convert {\n",
              "      background-color: #E8F0FE;\n",
              "      border: none;\n",
              "      border-radius: 50%;\n",
              "      cursor: pointer;\n",
              "      display: none;\n",
              "      fill: #1967D2;\n",
              "      height: 32px;\n",
              "      padding: 0 0 0 0;\n",
              "      width: 32px;\n",
              "    }\n",
              "\n",
              "    .colab-df-convert:hover {\n",
              "      background-color: #E2EBFA;\n",
              "      box-shadow: 0px 1px 2px rgba(60, 64, 67, 0.3), 0px 1px 3px 1px rgba(60, 64, 67, 0.15);\n",
              "      fill: #174EA6;\n",
              "    }\n",
              "\n",
              "    .colab-df-buttons div {\n",
              "      margin-bottom: 4px;\n",
              "    }\n",
              "\n",
              "    [theme=dark] .colab-df-convert {\n",
              "      background-color: #3B4455;\n",
              "      fill: #D2E3FC;\n",
              "    }\n",
              "\n",
              "    [theme=dark] .colab-df-convert:hover {\n",
              "      background-color: #434B5C;\n",
              "      box-shadow: 0px 1px 3px 1px rgba(0, 0, 0, 0.15);\n",
              "      filter: drop-shadow(0px 1px 2px rgba(0, 0, 0, 0.3));\n",
              "      fill: #FFFFFF;\n",
              "    }\n",
              "  </style>\n",
              "\n",
              "    <script>\n",
              "      const buttonEl =\n",
              "        document.querySelector('#df-a576346e-9101-4a0d-acb8-b87b23b106d5 button.colab-df-convert');\n",
              "      buttonEl.style.display =\n",
              "        google.colab.kernel.accessAllowed ? 'block' : 'none';\n",
              "\n",
              "      async function convertToInteractive(key) {\n",
              "        const element = document.querySelector('#df-a576346e-9101-4a0d-acb8-b87b23b106d5');\n",
              "        const dataTable =\n",
              "          await google.colab.kernel.invokeFunction('convertToInteractive',\n",
              "                                                    [key], {});\n",
              "        if (!dataTable) return;\n",
              "\n",
              "        const docLinkHtml = 'Like what you see? Visit the ' +\n",
              "          '<a target=\"_blank\" href=https://colab.research.google.com/notebooks/data_table.ipynb>data table notebook</a>'\n",
              "          + ' to learn more about interactive tables.';\n",
              "        element.innerHTML = '';\n",
              "        dataTable['output_type'] = 'display_data';\n",
              "        await google.colab.output.renderOutput(dataTable, element);\n",
              "        const docLink = document.createElement('div');\n",
              "        docLink.innerHTML = docLinkHtml;\n",
              "        element.appendChild(docLink);\n",
              "      }\n",
              "    </script>\n",
              "  </div>\n",
              "\n",
              "\n",
              "    <div id=\"df-ed1f469e-fcc3-49d1-bf85-b2ff3b7221df\">\n",
              "      <button class=\"colab-df-quickchart\" onclick=\"quickchart('df-ed1f469e-fcc3-49d1-bf85-b2ff3b7221df')\"\n",
              "                title=\"Suggest charts\"\n",
              "                style=\"display:none;\">\n",
              "\n",
              "<svg xmlns=\"http://www.w3.org/2000/svg\" height=\"24px\"viewBox=\"0 0 24 24\"\n",
              "     width=\"24px\">\n",
              "    <g>\n",
              "        <path d=\"M19 3H5c-1.1 0-2 .9-2 2v14c0 1.1.9 2 2 2h14c1.1 0 2-.9 2-2V5c0-1.1-.9-2-2-2zM9 17H7v-7h2v7zm4 0h-2V7h2v10zm4 0h-2v-4h2v4z\"/>\n",
              "    </g>\n",
              "</svg>\n",
              "      </button>\n",
              "\n",
              "<style>\n",
              "  .colab-df-quickchart {\n",
              "      --bg-color: #E8F0FE;\n",
              "      --fill-color: #1967D2;\n",
              "      --hover-bg-color: #E2EBFA;\n",
              "      --hover-fill-color: #174EA6;\n",
              "      --disabled-fill-color: #AAA;\n",
              "      --disabled-bg-color: #DDD;\n",
              "  }\n",
              "\n",
              "  [theme=dark] .colab-df-quickchart {\n",
              "      --bg-color: #3B4455;\n",
              "      --fill-color: #D2E3FC;\n",
              "      --hover-bg-color: #434B5C;\n",
              "      --hover-fill-color: #FFFFFF;\n",
              "      --disabled-bg-color: #3B4455;\n",
              "      --disabled-fill-color: #666;\n",
              "  }\n",
              "\n",
              "  .colab-df-quickchart {\n",
              "    background-color: var(--bg-color);\n",
              "    border: none;\n",
              "    border-radius: 50%;\n",
              "    cursor: pointer;\n",
              "    display: none;\n",
              "    fill: var(--fill-color);\n",
              "    height: 32px;\n",
              "    padding: 0;\n",
              "    width: 32px;\n",
              "  }\n",
              "\n",
              "  .colab-df-quickchart:hover {\n",
              "    background-color: var(--hover-bg-color);\n",
              "    box-shadow: 0 1px 2px rgba(60, 64, 67, 0.3), 0 1px 3px 1px rgba(60, 64, 67, 0.15);\n",
              "    fill: var(--button-hover-fill-color);\n",
              "  }\n",
              "\n",
              "  .colab-df-quickchart-complete:disabled,\n",
              "  .colab-df-quickchart-complete:disabled:hover {\n",
              "    background-color: var(--disabled-bg-color);\n",
              "    fill: var(--disabled-fill-color);\n",
              "    box-shadow: none;\n",
              "  }\n",
              "\n",
              "  .colab-df-spinner {\n",
              "    border: 2px solid var(--fill-color);\n",
              "    border-color: transparent;\n",
              "    border-bottom-color: var(--fill-color);\n",
              "    animation:\n",
              "      spin 1s steps(1) infinite;\n",
              "  }\n",
              "\n",
              "  @keyframes spin {\n",
              "    0% {\n",
              "      border-color: transparent;\n",
              "      border-bottom-color: var(--fill-color);\n",
              "      border-left-color: var(--fill-color);\n",
              "    }\n",
              "    20% {\n",
              "      border-color: transparent;\n",
              "      border-left-color: var(--fill-color);\n",
              "      border-top-color: var(--fill-color);\n",
              "    }\n",
              "    30% {\n",
              "      border-color: transparent;\n",
              "      border-left-color: var(--fill-color);\n",
              "      border-top-color: var(--fill-color);\n",
              "      border-right-color: var(--fill-color);\n",
              "    }\n",
              "    40% {\n",
              "      border-color: transparent;\n",
              "      border-right-color: var(--fill-color);\n",
              "      border-top-color: var(--fill-color);\n",
              "    }\n",
              "    60% {\n",
              "      border-color: transparent;\n",
              "      border-right-color: var(--fill-color);\n",
              "    }\n",
              "    80% {\n",
              "      border-color: transparent;\n",
              "      border-right-color: var(--fill-color);\n",
              "      border-bottom-color: var(--fill-color);\n",
              "    }\n",
              "    90% {\n",
              "      border-color: transparent;\n",
              "      border-bottom-color: var(--fill-color);\n",
              "    }\n",
              "  }\n",
              "</style>\n",
              "\n",
              "      <script>\n",
              "        async function quickchart(key) {\n",
              "          const quickchartButtonEl =\n",
              "            document.querySelector('#' + key + ' button');\n",
              "          quickchartButtonEl.disabled = true;  // To prevent multiple clicks.\n",
              "          quickchartButtonEl.classList.add('colab-df-spinner');\n",
              "          try {\n",
              "            const charts = await google.colab.kernel.invokeFunction(\n",
              "                'suggestCharts', [key], {});\n",
              "          } catch (error) {\n",
              "            console.error('Error during call to suggestCharts:', error);\n",
              "          }\n",
              "          quickchartButtonEl.classList.remove('colab-df-spinner');\n",
              "          quickchartButtonEl.classList.add('colab-df-quickchart-complete');\n",
              "        }\n",
              "        (() => {\n",
              "          let quickchartButtonEl =\n",
              "            document.querySelector('#df-ed1f469e-fcc3-49d1-bf85-b2ff3b7221df button');\n",
              "          quickchartButtonEl.style.display =\n",
              "            google.colab.kernel.accessAllowed ? 'block' : 'none';\n",
              "        })();\n",
              "      </script>\n",
              "    </div>\n",
              "    </div>\n",
              "  </div>\n"
            ],
            "application/vnd.google.colaboratory.intrinsic+json": {
              "type": "dataframe",
              "variable_name": "df_month",
              "summary": "{\n  \"name\": \"df_month\",\n  \"rows\": 7,\n  \"fields\": [\n    {\n      \"column\": \"day_times\",\n      \"properties\": {\n        \"dtype\": \"string\",\n        \"num_unique_values\": 7,\n        \"samples\": [\n          \"afternoon\",\n          \"early evening\",\n          \"midnidgt\"\n        ],\n        \"semantic_type\": \"\",\n        \"description\": \"\"\n      }\n    },\n    {\n      \"column\": \"num_orders\",\n      \"properties\": {\n        \"dtype\": \"number\",\n        \"std\": 18331,\n        \"min\": 17862,\n        \"max\": 67008,\n        \"num_unique_values\": 7,\n        \"samples\": [\n          39370,\n          67008,\n          65970\n        ],\n        \"semantic_type\": \"\",\n        \"description\": \"\"\n      }\n    }\n  ]\n}"
            }
          },
          "metadata": {}
        },
        {
          "output_type": "display_data",
          "data": {
            "text/plain": [
              "'анализ по времени суток'"
            ],
            "application/vnd.google.colaboratory.intrinsic+json": {
              "type": "string"
            }
          },
          "metadata": {}
        },
        {
          "output_type": "execute_result",
          "data": {
            "text/plain": [
              "<Axes: xlabel='day_times'>"
            ]
          },
          "metadata": {},
          "execution_count": 16
        },
        {
          "output_type": "display_data",
          "data": {
            "text/plain": [
              "<Figure size 640x480 with 1 Axes>"
            ],
            "image/png": "[encoded data removed]"
          },
          "metadata": {}
        }
      ],
      "source": [
        "# анализ по времени суток\n",
        "df_month = df3.groupby('day_times')[['num_orders']].sum()#.sort_values('num_orders',ascending=False)\n",
        "df_month.columns = ['num_orders']\n",
        "display (df_month)\n",
        "display('анализ по времени суток')\n",
        "df_month.plot.bar()"
      ]
    },
    {
      "cell_type": "markdown",
      "metadata": {
        "id": "0e-_jymtU6jQ"
      },
      "source": [
        "### PHIK матрица"
      ]
    },
    {
      "cell_type": "code",
      "execution_count": 18,
      "metadata": {
        "id": "UVmmSyWmU6jQ",
        "outputId": "512db417-079c-4783-94b0-d2c05128d50a",
        "colab": {
          "base_uri": "https://localhost:8080/",
          "height": 1000
        }
      },
      "outputs": [
        {
          "output_type": "stream",
          "name": "stdout",
          "text": [
            "<class 'pandas.core.frame.DataFrame'>\n",
            "DatetimeIndex: 4416 entries, 2018-03-01 00:00:00 to 2018-08-31 23:00:00\n",
            "Freq: h\n",
            "Data columns (total 32 columns):\n",
            " #   Column        Non-Null Count  Dtype  \n",
            "---  ------        --------------  -----  \n",
            " 0   num_orders    4416 non-null   int64  \n",
            " 1   hour          4416 non-null   int32  \n",
            " 2   day           4416 non-null   int32  \n",
            " 3   dayofweek     4416 non-null   object \n",
            " 4   day_times     4416 non-null   object \n",
            " 5   lag_1         4415 non-null   float64\n",
            " 6   lag_2         4414 non-null   float64\n",
            " 7   lag_3         4413 non-null   float64\n",
            " 8   lag_4         4412 non-null   float64\n",
            " 9   lag_5         4411 non-null   float64\n",
            " 10  lag_6         4410 non-null   float64\n",
            " 11  lag_7         4409 non-null   float64\n",
            " 12  lag_8         4408 non-null   float64\n",
            " 13  lag_9         4407 non-null   float64\n",
            " 14  lag_10        4406 non-null   float64\n",
            " 15  lag_11        4405 non-null   float64\n",
            " 16  lag_12        4404 non-null   float64\n",
            " 17  lag_13        4403 non-null   float64\n",
            " 18  lag_14        4402 non-null   float64\n",
            " 19  lag_15        4401 non-null   float64\n",
            " 20  lag_16        4400 non-null   float64\n",
            " 21  lag_17        4399 non-null   float64\n",
            " 22  lag_18        4398 non-null   float64\n",
            " 23  lag_19        4397 non-null   float64\n",
            " 24  lag_20        4396 non-null   float64\n",
            " 25  lag_21        4395 non-null   float64\n",
            " 26  lag_22        4394 non-null   float64\n",
            " 27  lag_23        4393 non-null   float64\n",
            " 28  lag_24        4392 non-null   float64\n",
            " 29  lag_48        4368 non-null   float64\n",
            " 30  lag_168       4248 non-null   float64\n",
            " 31  rolling_mean  4392 non-null   float64\n",
            "dtypes: float64(27), int32(2), int64(1), object(2)\n",
            "memory usage: 1.1+ MB\n"
          ]
        },
        {
          "output_type": "display_data",
          "data": {
            "text/plain": [
              "'PHIK матрица '"
            ],
            "application/vnd.google.colaboratory.intrinsic+json": {
              "type": "string"
            }
          },
          "metadata": {}
        },
        {
          "output_type": "error",
          "ename": "KeyboardInterrupt",
          "evalue": "",
          "traceback": [
            "\u001b[0;31m---------------------------------------------------------------------------\u001b[0m",
            "\u001b[0;31mKeyboardInterrupt\u001b[0m                         Traceback (most recent call last)",
            "\u001b[0;32m/tmp/ipython-input-18-599194598.py\u001b[0m in \u001b[0;36m<cell line: 0>\u001b[0;34m()\u001b[0m\n\u001b[1;32m      7\u001b[0m \u001b[0;31m# 'PHIK матрица'\u001b[0m\u001b[0;34m\u001b[0m\u001b[0;34m\u001b[0m\u001b[0m\n\u001b[1;32m      8\u001b[0m \u001b[0mdisplay\u001b[0m\u001b[0;34m(\u001b[0m\u001b[0;34m\"PHIK матрица \"\u001b[0m\u001b[0;34m)\u001b[0m\u001b[0;34m\u001b[0m\u001b[0;34m\u001b[0m\u001b[0m\n\u001b[0;32m----> 9\u001b[0;31m \u001b[0mphik_overview\u001b[0m \u001b[0;34m=\u001b[0m \u001b[0mphik_matrix\u001b[0m\u001b[0;34m(\u001b[0m\u001b[0mdf_c\u001b[0m\u001b[0;34m,\u001b[0m \u001b[0minterval_cols\u001b[0m\u001b[0;34m=\u001b[0m\u001b[0minterval_cols\u001b[0m\u001b[0;34m)\u001b[0m\u001b[0;34m\u001b[0m\u001b[0;34m\u001b[0m\u001b[0m\n\u001b[0m\u001b[1;32m     10\u001b[0m plot_correlation_matrix(\n\u001b[1;32m     11\u001b[0m     \u001b[0mphik_overview\u001b[0m\u001b[0;34m.\u001b[0m\u001b[0mvalues\u001b[0m\u001b[0;34m,\u001b[0m\u001b[0;34m\u001b[0m\u001b[0;34m\u001b[0m\u001b[0m\n",
            "\u001b[0;32m/usr/local/lib/python3.11/dist-packages/phik/phik.py\u001b[0m in \u001b[0;36mphik_matrix\u001b[0;34m(df, interval_cols, bins, quantile, noise_correction, dropna, drop_underflow, drop_overflow, verbose, njobs)\u001b[0m\n\u001b[1;32m    254\u001b[0m         \u001b[0mverbose\u001b[0m\u001b[0;34m=\u001b[0m\u001b[0mverbose\u001b[0m\u001b[0;34m,\u001b[0m\u001b[0;34m\u001b[0m\u001b[0;34m\u001b[0m\u001b[0m\n\u001b[1;32m    255\u001b[0m     )\n\u001b[0;32m--> 256\u001b[0;31m     return phik_from_rebinned_df(\n\u001b[0m\u001b[1;32m    257\u001b[0m         \u001b[0mdata_binned\u001b[0m\u001b[0;34m,\u001b[0m\u001b[0;34m\u001b[0m\u001b[0;34m\u001b[0m\u001b[0m\n\u001b[1;32m    258\u001b[0m         \u001b[0mnoise_correction\u001b[0m\u001b[0;34m,\u001b[0m\u001b[0;34m\u001b[0m\u001b[0;34m\u001b[0m\u001b[0m\n",
            "\u001b[0;32m/usr/local/lib/python3.11/dist-packages/phik/phik.py\u001b[0m in \u001b[0;36mphik_from_rebinned_df\u001b[0;34m(data_binned, noise_correction, dropna, drop_underflow, drop_overflow, njobs)\u001b[0m\n\u001b[1;32m    164\u001b[0m         ]\n\u001b[1;32m    165\u001b[0m     \u001b[0;32melse\u001b[0m\u001b[0;34m:\u001b[0m\u001b[0;34m\u001b[0m\u001b[0;34m\u001b[0m\u001b[0m\n\u001b[0;32m--> 166\u001b[0;31m         phik_list = Parallel(n_jobs=njobs)(\n\u001b[0m\u001b[1;32m    167\u001b[0m             \u001b[0mdelayed\u001b[0m\u001b[0;34m(\u001b[0m\u001b[0m_calc_phik\u001b[0m\u001b[0;34m)\u001b[0m\u001b[0;34m(\u001b[0m\u001b[0mco\u001b[0m\u001b[0;34m,\u001b[0m \u001b[0mdata_binned\u001b[0m\u001b[0;34m[\u001b[0m\u001b[0mlist\u001b[0m\u001b[0;34m(\u001b[0m\u001b[0mco\u001b[0m\u001b[0;34m)\u001b[0m\u001b[0;34m]\u001b[0m\u001b[0;34m,\u001b[0m \u001b[0mnoise_correction\u001b[0m\u001b[0;34m)\u001b[0m\u001b[0;34m\u001b[0m\u001b[0;34m\u001b[0m\u001b[0m\n\u001b[1;32m    168\u001b[0m             for co in itertools.combinations_with_replacement(\n",
            "\u001b[0;32m/usr/local/lib/python3.11/dist-packages/joblib/parallel.py\u001b[0m in \u001b[0;36m__call__\u001b[0;34m(self, iterable)\u001b[0m\n\u001b[1;32m   2070\u001b[0m         \u001b[0mnext\u001b[0m\u001b[0;34m(\u001b[0m\u001b[0moutput\u001b[0m\u001b[0;34m)\u001b[0m\u001b[0;34m\u001b[0m\u001b[0;34m\u001b[0m\u001b[0m\n\u001b[1;32m   2071\u001b[0m \u001b[0;34m\u001b[0m\u001b[0m\n\u001b[0;32m-> 2072\u001b[0;31m         \u001b[0;32mreturn\u001b[0m \u001b[0moutput\u001b[0m \u001b[0;32mif\u001b[0m \u001b[0mself\u001b[0m\u001b[0;34m.\u001b[0m\u001b[0mreturn_generator\u001b[0m \u001b[0;32melse\u001b[0m \u001b[0mlist\u001b[0m\u001b[0;34m(\u001b[0m\u001b[0moutput\u001b[0m\u001b[0;34m)\u001b[0m\u001b[0;34m\u001b[0m\u001b[0;34m\u001b[0m\u001b[0m\n\u001b[0m\u001b[1;32m   2073\u001b[0m \u001b[0;34m\u001b[0m\u001b[0m\n\u001b[1;32m   2074\u001b[0m     \u001b[0;32mdef\u001b[0m \u001b[0m__repr__\u001b[0m\u001b[0;34m(\u001b[0m\u001b[0mself\u001b[0m\u001b[0;34m)\u001b[0m\u001b[0;34m:\u001b[0m\u001b[0;34m\u001b[0m\u001b[0;34m\u001b[0m\u001b[0m\n",
            "\u001b[0;32m/usr/local/lib/python3.11/dist-packages/joblib/parallel.py\u001b[0m in \u001b[0;36m_get_outputs\u001b[0;34m(self, iterator, pre_dispatch)\u001b[0m\n\u001b[1;32m   1680\u001b[0m \u001b[0;34m\u001b[0m\u001b[0m\n\u001b[1;32m   1681\u001b[0m             \u001b[0;32mwith\u001b[0m \u001b[0mself\u001b[0m\u001b[0;34m.\u001b[0m\u001b[0m_backend\u001b[0m\u001b[0;34m.\u001b[0m\u001b[0mretrieval_context\u001b[0m\u001b[0;34m(\u001b[0m\u001b[0;34m)\u001b[0m\u001b[0;34m:\u001b[0m\u001b[0;34m\u001b[0m\u001b[0;34m\u001b[0m\u001b[0m\n\u001b[0;32m-> 1682\u001b[0;31m                 \u001b[0;32myield\u001b[0m \u001b[0;32mfrom\u001b[0m \u001b[0mself\u001b[0m\u001b[0;34m.\u001b[0m\u001b[0m_retrieve\u001b[0m\u001b[0;34m(\u001b[0m\u001b[0;34m)\u001b[0m\u001b[0;34m\u001b[0m\u001b[0;34m\u001b[0m\u001b[0m\n\u001b[0m\u001b[1;32m   1683\u001b[0m \u001b[0;34m\u001b[0m\u001b[0m\n\u001b[1;32m   1684\u001b[0m         \u001b[0;32mexcept\u001b[0m \u001b[0mGeneratorExit\u001b[0m\u001b[0;34m:\u001b[0m\u001b[0;34m\u001b[0m\u001b[0;34m\u001b[0m\u001b[0m\n",
            "\u001b[0;32m/usr/local/lib/python3.11/dist-packages/joblib/parallel.py\u001b[0m in \u001b[0;36m_retrieve\u001b[0;34m(self)\u001b[0m\n\u001b[1;32m   1798\u001b[0m                     \u001b[0mself\u001b[0m\u001b[0;34m.\u001b[0m\u001b[0m_jobs\u001b[0m\u001b[0;34m[\u001b[0m\u001b[0;36m0\u001b[0m\u001b[0;34m]\u001b[0m\u001b[0;34m.\u001b[0m\u001b[0mget_status\u001b[0m\u001b[0;34m(\u001b[0m\u001b[0mtimeout\u001b[0m\u001b[0;34m=\u001b[0m\u001b[0mself\u001b[0m\u001b[0;34m.\u001b[0m\u001b[0mtimeout\u001b[0m\u001b[0;34m)\u001b[0m \u001b[0;34m==\u001b[0m \u001b[0mTASK_PENDING\u001b[0m\u001b[0;34m\u001b[0m\u001b[0;34m\u001b[0m\u001b[0m\n\u001b[1;32m   1799\u001b[0m                 ):\n\u001b[0;32m-> 1800\u001b[0;31m                     \u001b[0mtime\u001b[0m\u001b[0;34m.\u001b[0m\u001b[0msleep\u001b[0m\u001b[0;34m(\u001b[0m\u001b[0;36m0.01\u001b[0m\u001b[0;34m)\u001b[0m\u001b[0;34m\u001b[0m\u001b[0;34m\u001b[0m\u001b[0m\n\u001b[0m\u001b[1;32m   1801\u001b[0m                     \u001b[0;32mcontinue\u001b[0m\u001b[0;34m\u001b[0m\u001b[0;34m\u001b[0m\u001b[0m\n\u001b[1;32m   1802\u001b[0m \u001b[0;34m\u001b[0m\u001b[0m\n",
            "\u001b[0;31mKeyboardInterrupt\u001b[0m: "
          ]
        }
      ],
      "source": [
        "df_c = df1.copy()\n",
        "df_c.info()\n",
        "#_times .drop(['hour'],axis=1)\n",
        "df_c=df_c.astype('object')\n",
        "interval_cols = ['rolling_mean']\n",
        "#df_c[interval_cols] = df_c[interval_cols].astype('float64')\n",
        "# 'PHIK матрица'\n",
        "display(\"PHIK матрица \")\n",
        "phik_overview = phik_matrix(df_c, interval_cols=interval_cols)\n",
        "plot_correlation_matrix(\n",
        "    phik_overview.values,\n",
        "    x_labels=phik_overview.columns,\n",
        "    y_labels=phik_overview.index,\n",
        "    vmin=0,\n",
        "    vmax=1,\n",
        "    color_map=\"YlOrRd\",\n",
        "    title=r\"correlation $\\phi_K$\",\n",
        "    fontsize_factor=1.2,\n",
        "    figsize=(14,14),\n",
        ")"
      ]
    },
    {
      "cell_type": "markdown",
      "metadata": {
        "id": "Zt_BbvkCU6jR"
      },
      "source": [
        "### Выводы по анализу данных:\n",
        "    - с каждым месяцем количество заказов возрастает\n",
        "    - в начале месяца количество заказов меньше, уменьшение значения 31 числа связанно с тем, что не во всех месяцах есть 31\n",
        "    - меньше всего заказов по субботам и четвергам\n",
        "    - с 4 часов утра и до 8 активность заказов падает, возрастает в 16 и начиная с 20 часов до 12 ночи\n",
        "    - анализ экстремальных месяцев показал похожие показатели активности по часам\n",
        "    - анализ остатков (значительный \"выброс\") предполагает значительное увеличение целевого значения\n",
        "    - наблюдается взаимная коррелляция между  признаками day_times и hour\n",
        "    - целевой признак зависим от day_times, hour,  не считая lag и rooling_mean? что естественно"
      ]
    },
    {
      "cell_type": "code",
      "execution_count": null,
      "metadata": {
        "id": "6ABNzhTjU6jR"
      },
      "outputs": [],
      "source": [
        "\n",
        "from statsmodels.graphics import tsaplots\n",
        "\n",
        "taxi = pd.read_csv(\"'/content/drive/MyDrive/data//taxi.csv'\", index_col=[0], parse_dates=[0]).resample('1H').sum()\n",
        "ts = taxi['num_orders']\n",
        "\n",
        "fig = tsaplots.plot_acf(ts,lags= 190)\n",
        "fig.set_size_inches(18.5, 6)\n",
        "plt.ylim(-.1, 1.1)\n",
        "plt.show()\n"
      ]
    },
    {
      "cell_type": "markdown",
      "metadata": {
        "id": "t1MSD7hnU6jR"
      },
      "source": [
        "## Обучение"
      ]
    },
    {
      "cell_type": "code",
      "execution_count": null,
      "metadata": {
        "id": "6RB7FpEJU6jR"
      },
      "outputs": [],
      "source": [
        "df2 = df1.dropna().copy()\n",
        "X_train, X_test, y_train, y_test = train_test_split(\n",
        "    df2.drop(['num_orders'],axis=1), #'day_times','hour',\n",
        "    df2['num_orders'],\n",
        "    test_size = TEST_SIZE,\n",
        "    shuffle=False)\n",
        "\n",
        "X_train.info()"
      ]
    },
    {
      "cell_type": "markdown",
      "metadata": {
        "id": "fBOnP6dWU6jR"
      },
      "source": [
        "### модель Catboost"
      ]
    },
    {
      "cell_type": "code",
      "execution_count": null,
      "metadata": {
        "scrolled": true,
        "id": "dafyqSqCU6jS"
      },
      "outputs": [],
      "source": [
        "X_train_cat = X_train.copy()\n",
        "X_test_cat = X_test.copy()\n",
        "cat_col = ['day_times',\n",
        "           #'month',\n",
        "           'dayofweek',\n",
        "            ]\n",
        "\n",
        "num_col = ['rolling_mean']\n",
        "X_train_cat[cat_col] = X_train_cat[cat_col].astype('category')\n",
        "X_test_cat[cat_col] = X_test_cat[cat_col].astype('category')\n",
        "\n",
        "train_pool = Pool(data=X_train_cat, label=y_train, cat_features= cat_col)\n",
        "test_pool = Pool(data=X_test_cat, label=y_test, cat_features= cat_col)\n",
        "\n",
        "params = {\n",
        "    'iterations': 1000,\n",
        "    'learning_rate': 0.01,\n",
        "    'loss_function': 'RMSE',\n",
        "    'early_stopping_rounds': 100,\n",
        "    'verbose': False,\n",
        "    'random_seed': RANDOM_STATE,\n",
        "    'cat_features': cat_col\n",
        "    }\n",
        "\n",
        "model_cat = CatBoostRegressor(**params) #,task_type=\"GPU\",devices='0')\n",
        "\n",
        "param_grid = {'depth': range(5, 8),\n",
        "              'min_data_in_leaf':range(1,3)}\n",
        "\n",
        "tscv = TimeSeriesSplit(n_splits=5)\n",
        "\n",
        "cat_search = GridSearchCV(CatBoostRegressor(**params),\n",
        "                          param_grid,\n",
        "                          cv=tscv,\n",
        "                          scoring='neg_root_mean_squared_error',\n",
        "                          error_score='raise',\n",
        "                          verbose=False,\n",
        "                          n_jobs=-1)\n",
        "                          #verbose = False)\n",
        "\n",
        "\n",
        "\n",
        "cat_search.fit(X_train_cat, y_train)\n",
        "\n",
        "\n",
        "#best_param={**grid_search_result['params'] }\n",
        "display ('Лучшая модель',cat_search.best_estimator_)\n",
        "display ('Лучшие параметры',cat_search.best_params_)#(**params))\n",
        "display ('лучшая метрика RMSE train',cat_search.best_estimator_.get_best_score())"
      ]
    },
    {
      "cell_type": "code",
      "execution_count": null,
      "metadata": {
        "id": "qFRO15LDU6jS"
      },
      "outputs": [],
      "source": [
        "#display ('Лучшая модель',cat_search.best_estimator_.get_param())#['params'])\n",
        "display ('Лучшие параметры',cat_search.best_params_)#(**params))\n",
        "display ('лучшая метрика RMSE train',cat_search.best_estimator_.get_best_score())\n",
        "#print('лучшая метрика RMSE train',cat_search.score_)\n"
      ]
    },
    {
      "cell_type": "code",
      "execution_count": null,
      "metadata": {
        "id": "vwyfIjtyU6jS"
      },
      "outputs": [],
      "source": [
        "df_rmse = pd.DataFrame()\n",
        "df_rmse.loc['RMSE','CatBoost']=cat_search.best_estimator_.get_best_score()['learn']['RMSE']#[-1]\n",
        "display(df_rmse)"
      ]
    },
    {
      "cell_type": "code",
      "execution_count": null,
      "metadata": {
        "scrolled": true,
        "id": "E9SxQgrwU6jS"
      },
      "outputs": [],
      "source": [
        "#display (grid_search_result['params'])#['F1'])\n",
        "\n",
        "feature_importance=cat_search.best_estimator_.get_feature_importance(prettified=True)\n",
        "print('RMSE = ',cat_search.best_estimator_.get_best_score())\n",
        "\n",
        "display(feature_importance)\n",
        "plt.figure(figsize=(12, 6))\n",
        "ax = sns.barplot(data=feature_importance,x=feature_importance['Importances'],\n",
        "                 y=feature_importance['Feature Id'])\n",
        "ax.set_title('Важность признаков', fontsize=16)\n",
        "plt.show()"
      ]
    },
    {
      "cell_type": "code",
      "execution_count": null,
      "metadata": {
        "id": "kO2tpm0pU6jS"
      },
      "outputs": [],
      "source": [
        "print('лучшая метрика RMSE train',cat_search.best_estimator_.get_best_score())\n",
        "\n",
        "pred_cat=cat_search.best_estimator_.predict(X_test)#,y_test)#.astype('bool'))#.astype('int8'))\n",
        "\n",
        "print('RSME test Catboost test ',root_mean_squared_error(y_test,pred_cat))"
      ]
    },
    {
      "cell_type": "markdown",
      "metadata": {
        "id": "OCU2CxBEU6jT"
      },
      "source": [
        "### модель Ridge Reg"
      ]
    },
    {
      "cell_type": "code",
      "execution_count": null,
      "metadata": {
        "id": "ieE5d_bWU6jT"
      },
      "outputs": [],
      "source": [
        "# Ridge Reg\n",
        "\n",
        "ohe_columns=['day_times','dayofweek',]\n",
        "num_columns=X_train.columns.drop(ohe_columns)\n",
        "#['hour','day','lag_1','lag_2','lag_3','lag_4','lag_5','lag_6','rolling_mean']\n",
        "#display (ohe_columns,num_columns)\n",
        "\n",
        "data_preprocessor = ColumnTransformer(\n",
        "    [('ohe',  OneHotEncoder(handle_unknown='ignore',sparse_output=False), ohe_columns),\n",
        "     ('num', StandardScaler(), num_columns)\n",
        "    ],\n",
        "    #verbose_feature_names_out=False,\n",
        "    remainder='passthrough'\n",
        ")\n",
        "\n",
        "\n",
        "# создаём итоговый пайплайн: подготовка данных и модель\n",
        "pipe_final = Pipeline([\n",
        "    ('preprocessor', data_preprocessor),\n",
        "    ('models', Ridge(max_iter=500,random_state=RANDOM_STATE))])\n",
        "\n",
        "# параметры для GridSCV\n",
        "param_grid ={#'models': Ridge(max_iter=300,random_state=RANDOM_STATE),\n",
        "             'models__alpha': np.arange(0.01, 0.2, 0.05),# distributions.FloatDistribution(0.1, 1, step=0.1),\n",
        "             'models__tol': np.arange(0.001, 0.05, 0.002)} #distributions.FloatDistribution(0.1, 1, step=0.1),\n",
        "             #'data_preprocessor__num': ([StandardScaler(),  'passthrough'])}\n",
        "\n",
        "\n",
        "\n",
        "GridSCV = GridSearchCV(pipe_final,\n",
        "                       param_grid=param_grid,\n",
        "                       cv=tscv,\n",
        "                       scoring='neg_root_mean_squared_error',\n",
        "                       error_score='raise',\n",
        "                       verbose=False,\n",
        "                       n_jobs=-1\n",
        "                       )\n",
        "\n",
        "GridSCV.fit(X_train, y_train)\n",
        "\n",
        "print ('Лучшая модель и её параметры:\\n\\n', GridSCV.best_estimator_)\n",
        "print ('Метрика лучшей модели RSME:', -GridSCV.best_score_)"
      ]
    },
    {
      "cell_type": "code",
      "execution_count": null,
      "metadata": {
        "id": "ax2wo3SuU6jT"
      },
      "outputs": [],
      "source": [
        "pred_rg = GridSCV.best_estimator_.predict(X_train)\n",
        "RSME_d_tr = root_mean_squared_error(y_train,pred_rg)\n",
        "print ('RSME Ridge train = ',RSME_d_tr)\n",
        "print ('test')\n",
        "pred_rg = GridSCV.best_estimator_.predict(X_test)\n",
        "RSME_d_te = root_mean_squared_error(y_test,pred_rg)\n",
        "print ('RSME Ridge test = ',RSME_d_te)\n",
        "\n",
        "df_rmse.loc['RMSE','Ridge']=RSME_d_tr\n",
        "display(df_rmse)"
      ]
    },
    {
      "cell_type": "markdown",
      "metadata": {
        "id": "FflVQT41U6jT"
      },
      "source": [
        "### Нейронная модель"
      ]
    },
    {
      "cell_type": "code",
      "execution_count": null,
      "metadata": {
        "id": "64weal6kU6jT"
      },
      "outputs": [],
      "source": [
        "\n",
        "X1_tr = data_preprocessor.fit_transform(X_train)\n",
        "X1_train_n = pd.DataFrame(X1_tr)\n",
        "X1_tst = data_preprocessor.transform(X_test)\n",
        "X1_test_n = pd.DataFrame(X1_tst)"
      ]
    },
    {
      "cell_type": "code",
      "execution_count": null,
      "metadata": {
        "id": "PtZjABLeU6jT"
      },
      "outputs": [],
      "source": [
        "col_t=X_test.columns\n",
        "X_train_n = torch.FloatTensor(X1_train_n.values)\n",
        "X_test_n = torch.FloatTensor(X1_test_n.values)\n",
        "y_train_n = torch.FloatTensor(y_train.values)\n",
        "y_test_n = torch.FloatTensor(y_test.values)"
      ]
    },
    {
      "cell_type": "code",
      "execution_count": null,
      "metadata": {
        "id": "x3sJf-hgU6jT"
      },
      "outputs": [],
      "source": [
        "class Net(nn.Module):\n",
        "    def __init__(self, n_in_neurons, n_hidden_neurons_1,\n",
        "                 n_hidden_neurons_2,n_hidden_neurons_3,\n",
        "                 n_hidden_neurons_4,n_out_neurons):\n",
        "        super(Net, self).__init__()\n",
        "\n",
        "        self.fc1 = nn.Linear(n_in_neurons, n_hidden_neurons_1)\n",
        "        self.dp1 = nn.Dropout(p=0.2)\n",
        "        self.act1 = nn.ReLU()\n",
        "\n",
        "        self.fc2 = nn.Linear(n_hidden_neurons_1, n_hidden_neurons_2)\n",
        "        self.act2 = nn.Tanh()\n",
        "\n",
        "        self.fc3 = nn.Linear(n_hidden_neurons_2, n_hidden_neurons_3)\n",
        "        self.bn3 = nn.BatchNorm1d(n_hidden_neurons_3)\n",
        "        self.act3 = nn.ReLU()\n",
        "\n",
        "        self.fc4 = nn.Linear(n_hidden_neurons_3, n_hidden_neurons_4)\n",
        "        self.act4 = nn.Tanh()\n",
        "\n",
        "        self.fc5 =  nn.Linear(n_hidden_neurons_4, n_out_neurons)\n",
        "\n",
        "\n",
        "\n",
        "    def forward(self, x):\n",
        "        x = self.fc1(x)\n",
        "        x = self.dp1(x)\n",
        "        x = self.act1(x)\n",
        "\n",
        "        x = self.fc2(x)\n",
        "\n",
        "        x = self.act2(x)\n",
        "\n",
        "        x = self.fc3(x)\n",
        "        x = self.bn3(x)\n",
        "        x = self.act3(x)\n",
        "\n",
        "        x = self.fc4(x)\n",
        "        x = self.act4(x)\n",
        "\n",
        "        x = self.fc5(x)\n",
        "\n",
        "        return x\n",
        "\n",
        "n_in_neurons = X_train_n.shape[1]\n",
        "n_hidden_neurons_1 = 64\n",
        "n_hidden_neurons_2 = 32\n",
        "n_hidden_neurons_3 = 16\n",
        "n_hidden_neurons_4 = 8\n",
        "\n",
        "n_out_neurons = 1\n",
        "\n",
        "net = Net(n_in_neurons, n_hidden_neurons_1,\n",
        "          n_hidden_neurons_2,n_hidden_neurons_3,\n",
        "          n_hidden_neurons_4, n_out_neurons )\n",
        "\n",
        "\n",
        "optimizer = torch.optim.Adam(net.parameters(), lr=1.0e-3)\n",
        "loss = nn.MSELoss()\n",
        "\n",
        "batch_size = 80\n",
        "\n",
        "num_epochs = 1000\n",
        "num_batches = int((len(X_train_n)/batch_size))\n",
        "\n",
        "p = 100000 # завышенные параметры метрики Test\n",
        "p2 = 100000\n",
        "\n",
        "for epoch in range(num_epochs):\n",
        "    if  (p2 <= 45) or (p <= 45):break\n",
        "    #order = np.random.permutation(len(X_train_n))\n",
        "    for batch_idx in range(num_batches):\n",
        "        start_index = batch_idx * batch_size\n",
        "        optimizer.zero_grad()\n",
        "\n",
        "        # batch_indexes = [start_index:start_index+batch_size]\n",
        "        X_batch = X_train_n[start_index:start_index+batch_size]\n",
        "        y_batch = y_train_n[start_index:start_index+batch_size]\n",
        "\n",
        "        preds = net.forward(X_batch).flatten()\n",
        "        loss_value = torch.sqrt(loss(preds,y_batch))\n",
        "        loss_value.backward()\n",
        "        optimizer.step()\n",
        "\n",
        "\n",
        "        if epoch % 5 == 0 or epoch == num_epochs - 1:\n",
        "            show_progress(X_batch, y_batch, preds, loss_value)\n",
        "            net.eval()\n",
        "            test_preds = net.forward(X_test_n).flatten()\n",
        "            #p = torch.sqrt( loss(test_preds * std_T + men_T, y_test_n * std_T + men_T))\n",
        "            p = torch.sqrt(loss(test_preds,y_test_n))\n",
        "            if p < p2 :\n",
        "                show_progress(X_batch, y_batch, preds, loss_value)\n",
        "                p2 = p\n",
        "                param_test = net.parameters()\n",
        "                torch.save(net, 'best_test.pth')\n",
        "                epoch_test = epoch\n",
        "                test_pred1 = test_preds\n",
        "                if  (p2 <= 45) or (p <= 45):\n",
        "                    print(f\"RMSE = {p2:.3f}\")\n",
        "                    print('количество эпох ',epoch)\n",
        "                    print(\"Готово!\")\n",
        "                    print('фунция потерь',loss_value)\n",
        "                    break\n",
        "            else :\n",
        "                if epoch_test+50 < epoch  : break\n",
        "\n",
        "\n",
        "if epoch == range(num_epochs) : print('Метрика RMSE<45 на тестовой выборке при ',num_epochs,'эпохах не достугнута')"
      ]
    },
    {
      "cell_type": "code",
      "execution_count": null,
      "metadata": {
        "id": "lPLkcve4U6jU"
      },
      "outputs": [],
      "source": [
        "display('результат лучшей модели на  тест')\n",
        "show_progress(X_test_n, y_test_n, test_pred1, p2)\n",
        "\n",
        "test_nn = torch.load('best_test.pth')\n",
        "preds=test_nn (X_train_n)\n",
        "\n",
        "display('RSME_train',loss_value.detach().numpy() )\n",
        "df_rmse.loc['RMSE','NeiroNet']=loss_value.detach().numpy()\n",
        "display(df_rmse)\n",
        "\n",
        "test_nn.eval()\n",
        "test_preds = test_nn(X_test_n).flatten()\n",
        "#loss_value_test = torch.sqrt( loss(test_preds* std_T + men_T, y_test_n* std_T + men_T))  #np.sqrt(loss(test_preds, y_test).detach().numpy())*std_k\n",
        "loss_value_test = root_mean_squared_error(test_preds.detach().numpy(), y_test)\n",
        "display('RSME test',loss_value_test)\n"
      ]
    },
    {
      "cell_type": "markdown",
      "metadata": {
        "id": "c-tP3MQ9U6jU"
      },
      "source": [
        "## Тестирование"
      ]
    },
    {
      "cell_type": "code",
      "execution_count": null,
      "metadata": {
        "id": "VJWIJDiQU6jZ"
      },
      "outputs": [],
      "source": [
        "# построим прогноз без обучения\n",
        "pred_previous = y_train.shift(fill_value=100)\n",
        "rsme_con=root_mean_squared_error(y_train,pred_previous)\n",
        "print('RSME train:  ',rsme_con)\n",
        "df_rmse.loc['RMSE','Constant']=rsme_con\n",
        "display(df_rmse)\n",
        "\n",
        "\n",
        "print('test')\n",
        "pred_previous = y_test.shift()\n",
        "pred_previous.iloc[0] = y_train.iloc[-1]\n",
        "print(\"RSME test:  \",root_mean_squared_error(y_test,pred_previous))"
      ]
    },
    {
      "cell_type": "code",
      "execution_count": null,
      "metadata": {
        "id": "5RMQd71TU6jZ"
      },
      "outputs": [],
      "source": [
        "# итоги моделирования\n",
        "df_rmse=df_rmse.T.sort_values(['RMSE'])\n",
        "df_rmse=df_rmse.reset_index()\n",
        "display(df_rmse)\n",
        "\n",
        "sns.barplot(x=df_rmse['RMSE'],y=df_rmse['index'])\n",
        "plt.show()"
      ]
    },
    {
      "cell_type": "markdown",
      "metadata": {
        "id": "SIwl1eSJU6jZ"
      },
      "source": [
        "## Выводы :\n",
        "- на модели Catboost  удалось достигнуть целевого значения метрики на test данных - 39.42, хотя на train RSME = 16.61\n",
        "- Ridge Reg модель показала данные по метрике на test данных - 34.57 на train данных - 21.36\n",
        "- нейронная сеть показала значения метрики на тестовых данных - 47.94 train - 3.615\n",
        "- данная разница в значениях метрики на train и test данных обясняется тем, что данные условно детерминироваанны и наблюдается стабильное увечение целевого значения, что можно видеть на графике шумов в начале работы\n",
        "- на прогнозирование костантой целевое значение метрики на train 36.49, test не достигнуто\n",
        "- подводя итоги: на предложенных данных лучшей моделью будет , наверное , Ridge модель (и на test показала лучшую метрику и разница в метрике между train и test не столь велика"
      ]
    }
  ],
  "metadata": {
    "ExecuteTimeLog": [
      {
        "duration": 61,
        "start_time": "2025-02-04T18:19:19.552Z"
      },
      {
        "duration": 49270,
        "start_time": "2025-02-04T18:19:27.318Z"
      },
      {
        "duration": 2686,
        "start_time": "2025-02-04T18:20:16.591Z"
      },
      {
        "duration": 188,
        "start_time": "2025-02-04T18:20:19.279Z"
      },
      {
        "duration": 70,
        "start_time": "2025-02-04T18:20:58.712Z"
      },
      {
        "duration": 54,
        "start_time": "2025-02-04T18:22:14.505Z"
      },
      {
        "duration": 393,
        "start_time": "2025-02-04T21:31:14.962Z"
      },
      {
        "duration": 14,
        "start_time": "2025-02-04T21:45:58.823Z"
      },
      {
        "duration": 13,
        "start_time": "2025-02-04T21:46:10.510Z"
      },
      {
        "duration": 6,
        "start_time": "2025-02-04T21:46:21.310Z"
      },
      {
        "duration": 5,
        "start_time": "2025-02-04T21:46:21.838Z"
      },
      {
        "duration": 985,
        "start_time": "2025-02-04T21:46:26.526Z"
      },
      {
        "duration": 8,
        "start_time": "2025-02-04T21:46:53.446Z"
      },
      {
        "duration": 26,
        "start_time": "2025-02-04T21:46:57.462Z"
      },
      {
        "duration": 4,
        "start_time": "2025-02-04T21:47:44.488Z"
      },
      {
        "duration": 16,
        "start_time": "2025-02-04T21:47:48.751Z"
      },
      {
        "duration": 4,
        "start_time": "2025-02-04T21:48:47.161Z"
      },
      {
        "duration": 17,
        "start_time": "2025-02-04T21:48:50.368Z"
      },
      {
        "duration": 268,
        "start_time": "2025-02-04T21:48:58.632Z"
      },
      {
        "duration": 587,
        "start_time": "2025-02-04T21:49:02.096Z"
      },
      {
        "duration": 370,
        "start_time": "2025-02-04T21:52:17.139Z"
      },
      {
        "duration": 1196,
        "start_time": "2025-02-04T21:52:20.819Z"
      },
      {
        "duration": 471,
        "start_time": "2025-02-04T21:52:57.460Z"
      },
      {
        "duration": 318,
        "start_time": "2025-02-04T21:54:13.468Z"
      },
      {
        "duration": 670,
        "start_time": "2025-02-04T21:54:59.270Z"
      },
      {
        "duration": 572,
        "start_time": "2025-02-04T21:56:50.128Z"
      },
      {
        "duration": 775,
        "start_time": "2025-02-04T21:58:10.976Z"
      },
      {
        "duration": 263,
        "start_time": "2025-02-04T22:01:07.090Z"
      },
      {
        "duration": 12,
        "start_time": "2025-02-04T22:01:08.706Z"
      },
      {
        "duration": 28,
        "start_time": "2025-02-04T22:01:56.482Z"
      },
      {
        "duration": 731,
        "start_time": "2025-02-04T22:02:02.090Z"
      },
      {
        "duration": 22,
        "start_time": "2025-02-04T22:08:32.504Z"
      },
      {
        "duration": 292,
        "start_time": "2025-02-04T22:10:52.890Z"
      },
      {
        "duration": 24,
        "start_time": "2025-02-04T22:10:58.891Z"
      },
      {
        "duration": 5,
        "start_time": "2025-02-04T22:14:14.645Z"
      },
      {
        "duration": 286,
        "start_time": "2025-02-04T22:14:21.644Z"
      },
      {
        "duration": 698,
        "start_time": "2025-02-04T22:14:31.509Z"
      },
      {
        "duration": 22,
        "start_time": "2025-02-04T22:14:47.461Z"
      },
      {
        "duration": 20,
        "start_time": "2025-02-04T22:14:54.341Z"
      },
      {
        "duration": 1057,
        "start_time": "2025-02-04T22:28:41.937Z"
      },
      {
        "duration": 11,
        "start_time": "2025-02-04T22:29:09.497Z"
      },
      {
        "duration": 23,
        "start_time": "2025-02-04T22:30:35.777Z"
      },
      {
        "duration": 82,
        "start_time": "2025-02-04T22:31:07.027Z"
      },
      {
        "duration": 58,
        "start_time": "2025-02-04T22:33:19.828Z"
      },
      {
        "duration": 99,
        "start_time": "2025-02-04T22:33:31.613Z"
      },
      {
        "duration": 27,
        "start_time": "2025-02-04T22:34:17.054Z"
      },
      {
        "duration": 9,
        "start_time": "2025-02-04T22:34:40.758Z"
      },
      {
        "duration": 131,
        "start_time": "2025-02-04T22:34:50.037Z"
      },
      {
        "duration": 17,
        "start_time": "2025-02-04T22:35:43.526Z"
      },
      {
        "duration": 16,
        "start_time": "2025-02-04T22:35:54.950Z"
      },
      {
        "duration": 48797,
        "start_time": "2025-02-05T12:12:00.407Z"
      },
      {
        "duration": 2525,
        "start_time": "2025-02-05T12:12:49.206Z"
      },
      {
        "duration": 3,
        "start_time": "2025-02-05T12:12:51.733Z"
      },
      {
        "duration": 15,
        "start_time": "2025-02-05T12:12:51.738Z"
      },
      {
        "duration": 381,
        "start_time": "2025-02-05T12:12:51.755Z"
      },
      {
        "duration": 32,
        "start_time": "2025-02-05T12:12:52.138Z"
      },
      {
        "duration": 171,
        "start_time": "2025-02-05T12:12:52.172Z"
      },
      {
        "duration": 81,
        "start_time": "2025-02-05T12:13:54.098Z"
      },
      {
        "duration": 12,
        "start_time": "2025-02-05T12:14:02.024Z"
      },
      {
        "duration": 13,
        "start_time": "2025-02-05T12:14:10.546Z"
      },
      {
        "duration": 19,
        "start_time": "2025-02-05T12:14:28.921Z"
      },
      {
        "duration": 15,
        "start_time": "2025-02-05T12:14:48.729Z"
      },
      {
        "duration": 7,
        "start_time": "2025-02-05T12:21:37.910Z"
      },
      {
        "duration": 4,
        "start_time": "2025-02-05T12:24:00.353Z"
      },
      {
        "duration": 8,
        "start_time": "2025-02-05T12:24:11.095Z"
      },
      {
        "duration": 9,
        "start_time": "2025-02-05T12:24:44.385Z"
      },
      {
        "duration": 141,
        "start_time": "2025-02-05T12:25:18.690Z"
      },
      {
        "duration": 158,
        "start_time": "2025-02-05T12:25:31.858Z"
      },
      {
        "duration": 17,
        "start_time": "2025-02-05T12:26:24.435Z"
      },
      {
        "duration": 20,
        "start_time": "2025-02-05T12:26:37.226Z"
      },
      {
        "duration": 130,
        "start_time": "2025-02-05T12:27:07.876Z"
      },
      {
        "duration": 266,
        "start_time": "2025-02-05T12:29:16.716Z"
      },
      {
        "duration": 267,
        "start_time": "2025-02-05T12:29:42.949Z"
      },
      {
        "duration": 285,
        "start_time": "2025-02-05T12:30:35.094Z"
      },
      {
        "duration": 130,
        "start_time": "2025-02-05T12:35:18.164Z"
      },
      {
        "duration": 135,
        "start_time": "2025-02-05T12:37:22.931Z"
      },
      {
        "duration": 261,
        "start_time": "2025-02-05T12:38:17.413Z"
      },
      {
        "duration": 146,
        "start_time": "2025-02-05T12:38:40.308Z"
      },
      {
        "duration": 4,
        "start_time": "2025-02-05T12:40:14.397Z"
      },
      {
        "duration": 415,
        "start_time": "2025-02-05T12:40:17.589Z"
      },
      {
        "duration": 793,
        "start_time": "2025-02-05T12:40:23.646Z"
      },
      {
        "duration": 6,
        "start_time": "2025-02-05T12:40:40.461Z"
      },
      {
        "duration": 284,
        "start_time": "2025-02-05T12:40:41.069Z"
      },
      {
        "duration": 679,
        "start_time": "2025-02-05T12:40:41.629Z"
      },
      {
        "duration": 23,
        "start_time": "2025-02-05T12:40:42.310Z"
      },
      {
        "duration": 377,
        "start_time": "2025-02-05T12:41:29.135Z"
      },
      {
        "duration": 224,
        "start_time": "2025-02-05T12:57:31.988Z"
      },
      {
        "duration": 450,
        "start_time": "2025-02-05T12:58:57.413Z"
      },
      {
        "duration": 262,
        "start_time": "2025-02-05T14:09:53.445Z"
      },
      {
        "duration": 22,
        "start_time": "2025-02-05T14:09:58.516Z"
      },
      {
        "duration": 6,
        "start_time": "2025-02-05T14:12:06.774Z"
      },
      {
        "duration": 25,
        "start_time": "2025-02-05T14:12:14.277Z"
      },
      {
        "duration": 5,
        "start_time": "2025-02-05T14:13:18.981Z"
      },
      {
        "duration": 24,
        "start_time": "2025-02-05T14:13:25.869Z"
      },
      {
        "duration": 5,
        "start_time": "2025-02-05T14:14:43.022Z"
      },
      {
        "duration": 24,
        "start_time": "2025-02-05T14:14:54.478Z"
      },
      {
        "duration": 6,
        "start_time": "2025-02-05T14:18:00.088Z"
      },
      {
        "duration": 24,
        "start_time": "2025-02-05T14:18:06.232Z"
      },
      {
        "duration": 9,
        "start_time": "2025-02-05T14:19:04.881Z"
      },
      {
        "duration": 5,
        "start_time": "2025-02-05T14:19:36.809Z"
      },
      {
        "duration": 25,
        "start_time": "2025-02-05T14:19:45.618Z"
      },
      {
        "duration": 5,
        "start_time": "2025-02-05T14:20:28.394Z"
      },
      {
        "duration": 21,
        "start_time": "2025-02-05T14:20:40.667Z"
      },
      {
        "duration": 5,
        "start_time": "2025-02-05T15:11:54.006Z"
      },
      {
        "duration": 21,
        "start_time": "2025-02-05T15:12:00.014Z"
      },
      {
        "duration": 9,
        "start_time": "2025-02-05T15:15:28.946Z"
      },
      {
        "duration": 7,
        "start_time": "2025-02-05T15:15:32.698Z"
      },
      {
        "duration": 23,
        "start_time": "2025-02-05T15:15:37.280Z"
      },
      {
        "duration": 7,
        "start_time": "2025-02-05T15:16:32.611Z"
      },
      {
        "duration": 19,
        "start_time": "2025-02-05T15:16:39.633Z"
      },
      {
        "duration": 5,
        "start_time": "2025-02-05T15:17:41.346Z"
      },
      {
        "duration": 20,
        "start_time": "2025-02-05T15:17:48.211Z"
      },
      {
        "duration": 78,
        "start_time": "2025-02-05T15:19:18.672Z"
      },
      {
        "duration": 20,
        "start_time": "2025-02-05T15:19:23.831Z"
      },
      {
        "duration": 81,
        "start_time": "2025-02-05T15:19:36.162Z"
      },
      {
        "duration": 32,
        "start_time": "2025-02-05T15:19:40.864Z"
      },
      {
        "duration": 4,
        "start_time": "2025-02-05T15:19:54.509Z"
      },
      {
        "duration": 87,
        "start_time": "2025-02-05T15:19:55.177Z"
      },
      {
        "duration": 307,
        "start_time": "2025-02-05T15:20:00.182Z"
      },
      {
        "duration": 37,
        "start_time": "2025-02-05T15:20:05.357Z"
      },
      {
        "duration": 25,
        "start_time": "2025-02-05T15:20:41.512Z"
      },
      {
        "duration": 13,
        "start_time": "2025-02-05T15:21:08.377Z"
      },
      {
        "duration": 4,
        "start_time": "2025-02-05T15:21:11.209Z"
      },
      {
        "duration": 5,
        "start_time": "2025-02-05T15:22:21.818Z"
      },
      {
        "duration": 377,
        "start_time": "2025-02-05T15:22:36.378Z"
      },
      {
        "duration": 7,
        "start_time": "2025-02-05T15:23:31.484Z"
      },
      {
        "duration": 25,
        "start_time": "2025-02-05T15:23:39.572Z"
      },
      {
        "duration": 9,
        "start_time": "2025-02-05T15:24:48.852Z"
      },
      {
        "duration": 18,
        "start_time": "2025-02-05T15:24:51.533Z"
      },
      {
        "duration": 92,
        "start_time": "2025-02-05T15:34:28.200Z"
      },
      {
        "duration": 82,
        "start_time": "2025-02-05T15:34:35.753Z"
      },
      {
        "duration": 6,
        "start_time": "2025-02-05T15:34:59.186Z"
      },
      {
        "duration": 67,
        "start_time": "2025-02-05T15:35:02.215Z"
      },
      {
        "duration": 5,
        "start_time": "2025-02-05T15:35:43.432Z"
      },
      {
        "duration": 26,
        "start_time": "2025-02-05T15:35:47.259Z"
      },
      {
        "duration": 21,
        "start_time": "2025-02-05T15:36:11.570Z"
      },
      {
        "duration": 58,
        "start_time": "2025-02-05T15:36:15.268Z"
      },
      {
        "duration": 6,
        "start_time": "2025-02-05T15:55:03.833Z"
      },
      {
        "duration": 368,
        "start_time": "2025-02-05T15:55:06.642Z"
      },
      {
        "duration": 4,
        "start_time": "2025-02-05T15:56:05.411Z"
      },
      {
        "duration": 99,
        "start_time": "2025-02-05T15:56:07.779Z"
      },
      {
        "duration": 166,
        "start_time": "2025-02-05T15:56:15.802Z"
      },
      {
        "duration": 319,
        "start_time": "2025-02-05T15:56:20.042Z"
      },
      {
        "duration": 181,
        "start_time": "2025-02-05T15:56:26.346Z"
      },
      {
        "duration": 199,
        "start_time": "2025-02-05T17:25:55.057Z"
      },
      {
        "duration": 77,
        "start_time": "2025-02-05T18:03:30.548Z"
      },
      {
        "duration": 11,
        "start_time": "2025-02-05T18:04:30.596Z"
      },
      {
        "duration": 5,
        "start_time": "2025-02-05T18:06:14.031Z"
      },
      {
        "duration": 17,
        "start_time": "2025-02-05T18:06:28.487Z"
      },
      {
        "duration": 77,
        "start_time": "2025-02-05T22:15:33.578Z"
      },
      {
        "duration": 4,
        "start_time": "2025-02-05T22:15:43.233Z"
      },
      {
        "duration": 1217,
        "start_time": "2025-02-05T22:15:45.513Z"
      },
      {
        "duration": 12,
        "start_time": "2025-02-05T22:16:48.098Z"
      },
      {
        "duration": 24,
        "start_time": "2025-02-05T22:18:07.931Z"
      },
      {
        "duration": 151,
        "start_time": "2025-02-05T22:20:33.397Z"
      },
      {
        "duration": 4,
        "start_time": "2025-02-05T22:26:20.953Z"
      },
      {
        "duration": 86,
        "start_time": "2025-02-05T22:26:30.577Z"
      },
      {
        "duration": 4,
        "start_time": "2025-02-05T22:27:14.155Z"
      },
      {
        "duration": 76,
        "start_time": "2025-02-05T22:27:28.794Z"
      },
      {
        "duration": 148,
        "start_time": "2025-02-05T22:27:44.074Z"
      },
      {
        "duration": 5,
        "start_time": "2025-02-05T22:32:38.062Z"
      },
      {
        "duration": 168,
        "start_time": "2025-02-05T22:32:51.046Z"
      },
      {
        "duration": 153,
        "start_time": "2025-02-05T22:37:51.635Z"
      },
      {
        "duration": 10,
        "start_time": "2025-02-05T22:42:59.949Z"
      },
      {
        "duration": 5,
        "start_time": "2025-02-05T22:43:00.597Z"
      },
      {
        "duration": 4,
        "start_time": "2025-02-05T22:43:01.253Z"
      },
      {
        "duration": 4,
        "start_time": "2025-02-05T22:43:01.877Z"
      },
      {
        "duration": 268,
        "start_time": "2025-02-05T22:43:03.629Z"
      },
      {
        "duration": 662,
        "start_time": "2025-02-05T22:43:06.725Z"
      },
      {
        "duration": 355,
        "start_time": "2025-02-05T22:43:10.758Z"
      },
      {
        "duration": 5,
        "start_time": "2025-02-05T22:45:10.501Z"
      },
      {
        "duration": 353,
        "start_time": "2025-02-05T22:45:16.854Z"
      },
      {
        "duration": 6,
        "start_time": "2025-02-05T22:45:48.564Z"
      },
      {
        "duration": 52,
        "start_time": "2025-02-05T22:45:53.782Z"
      },
      {
        "duration": 127,
        "start_time": "2025-02-05T22:46:05.813Z"
      },
      {
        "duration": 272,
        "start_time": "2025-02-05T22:46:11.349Z"
      },
      {
        "duration": 144,
        "start_time": "2025-02-05T22:46:13.429Z"
      },
      {
        "duration": 157,
        "start_time": "2025-02-05T22:46:17.006Z"
      },
      {
        "duration": 219,
        "start_time": "2025-02-05T22:46:35.365Z"
      },
      {
        "duration": 139,
        "start_time": "2025-02-05T22:46:40.365Z"
      },
      {
        "duration": 54,
        "start_time": "2025-02-05T22:47:10.973Z"
      },
      {
        "duration": 136,
        "start_time": "2025-02-05T22:47:14.741Z"
      },
      {
        "duration": 256,
        "start_time": "2025-02-05T22:47:16.981Z"
      },
      {
        "duration": 311,
        "start_time": "2025-02-05T22:47:18.310Z"
      },
      {
        "duration": 215,
        "start_time": "2025-02-05T22:47:19.845Z"
      },
      {
        "duration": 163,
        "start_time": "2025-02-05T22:47:20.765Z"
      },
      {
        "duration": 135,
        "start_time": "2025-02-05T22:47:22.861Z"
      },
      {
        "duration": 163,
        "start_time": "2025-02-05T22:49:17.110Z"
      },
      {
        "duration": 127,
        "start_time": "2025-02-05T22:49:19.910Z"
      },
      {
        "duration": 148,
        "start_time": "2025-02-05T22:50:14.549Z"
      },
      {
        "duration": 211,
        "start_time": "2025-02-05T22:50:19.798Z"
      },
      {
        "duration": 124,
        "start_time": "2025-02-05T22:50:20.741Z"
      },
      {
        "duration": 59,
        "start_time": "2025-02-05T22:50:55.238Z"
      },
      {
        "duration": 122,
        "start_time": "2025-02-05T22:51:12.430Z"
      },
      {
        "duration": 256,
        "start_time": "2025-02-05T22:51:17.367Z"
      },
      {
        "duration": 159,
        "start_time": "2025-02-05T22:51:20.967Z"
      },
      {
        "duration": 211,
        "start_time": "2025-02-05T22:51:28.342Z"
      },
      {
        "duration": 129,
        "start_time": "2025-02-05T22:51:30.335Z"
      },
      {
        "duration": 132,
        "start_time": "2025-02-05T22:52:49.127Z"
      },
      {
        "duration": 159,
        "start_time": "2025-02-05T22:53:11.095Z"
      },
      {
        "duration": 8,
        "start_time": "2025-02-05T22:54:12.063Z"
      },
      {
        "duration": 14,
        "start_time": "2025-02-05T22:55:15.432Z"
      },
      {
        "duration": 14,
        "start_time": "2025-02-05T22:58:44.651Z"
      },
      {
        "duration": 1514,
        "start_time": "2025-02-05T22:58:54.739Z"
      },
      {
        "duration": 1200,
        "start_time": "2025-02-05T23:00:27.306Z"
      },
      {
        "duration": 1219,
        "start_time": "2025-02-05T23:02:01.443Z"
      },
      {
        "duration": 1154,
        "start_time": "2025-02-05T23:03:51.436Z"
      },
      {
        "duration": 9,
        "start_time": "2025-02-05T23:13:57.386Z"
      },
      {
        "duration": 7,
        "start_time": "2025-02-05T23:14:11.331Z"
      },
      {
        "duration": 20,
        "start_time": "2025-02-05T23:15:39.099Z"
      },
      {
        "duration": 636,
        "start_time": "2025-02-05T23:16:48.550Z"
      },
      {
        "duration": 895,
        "start_time": "2025-02-05T23:17:22.056Z"
      },
      {
        "duration": 7,
        "start_time": "2025-02-05T23:17:58.322Z"
      },
      {
        "duration": 936,
        "start_time": "2025-02-05T23:18:00.072Z"
      },
      {
        "duration": 913,
        "start_time": "2025-02-05T23:22:51.930Z"
      },
      {
        "duration": 43765,
        "start_time": "2025-02-05T23:23:45.148Z"
      },
      {
        "duration": 9,
        "start_time": "2025-02-05T23:26:26.159Z"
      },
      {
        "duration": 7,
        "start_time": "2025-02-05T23:26:35.665Z"
      },
      {
        "duration": 41856,
        "start_time": "2025-02-05T23:26:40.752Z"
      },
      {
        "duration": 14,
        "start_time": "2025-02-05T23:27:39.305Z"
      },
      {
        "duration": 138,
        "start_time": "2025-02-05T23:30:51.309Z"
      },
      {
        "duration": 26,
        "start_time": "2025-02-05T23:44:35.428Z"
      },
      {
        "duration": 27,
        "start_time": "2025-02-05T23:45:18.780Z"
      },
      {
        "duration": 35236,
        "start_time": "2025-02-05T23:46:20.878Z"
      },
      {
        "duration": 35339,
        "start_time": "2025-02-05T23:52:09.257Z"
      },
      {
        "duration": 9,
        "start_time": "2025-02-05T23:53:15.826Z"
      },
      {
        "duration": 11,
        "start_time": "2025-02-05T23:53:49.002Z"
      },
      {
        "duration": 38842,
        "start_time": "2025-02-06T04:34:18.708Z"
      },
      {
        "duration": 2453,
        "start_time": "2025-02-06T04:34:57.552Z"
      },
      {
        "duration": 7,
        "start_time": "2025-02-06T04:35:00.010Z"
      },
      {
        "duration": 42,
        "start_time": "2025-02-06T04:35:00.019Z"
      },
      {
        "duration": 21,
        "start_time": "2025-02-06T04:35:00.062Z"
      },
      {
        "duration": 422,
        "start_time": "2025-02-06T04:35:00.084Z"
      },
      {
        "duration": 743,
        "start_time": "2025-02-06T04:35:00.508Z"
      },
      {
        "duration": 166,
        "start_time": "2025-02-06T04:35:01.253Z"
      },
      {
        "duration": 0,
        "start_time": "2025-02-06T04:35:01.421Z"
      },
      {
        "duration": 0,
        "start_time": "2025-02-06T04:35:01.422Z"
      },
      {
        "duration": 0,
        "start_time": "2025-02-06T04:35:01.423Z"
      },
      {
        "duration": 0,
        "start_time": "2025-02-06T04:35:01.424Z"
      },
      {
        "duration": 12,
        "start_time": "2025-02-06T04:35:04.197Z"
      },
      {
        "duration": 12,
        "start_time": "2025-02-06T04:35:29.783Z"
      },
      {
        "duration": 60,
        "start_time": "2025-02-06T04:35:54.260Z"
      },
      {
        "duration": 147,
        "start_time": "2025-02-06T04:36:02.302Z"
      },
      {
        "duration": 273,
        "start_time": "2025-02-06T04:36:02.926Z"
      },
      {
        "duration": 148,
        "start_time": "2025-02-06T04:36:04.342Z"
      },
      {
        "duration": 216,
        "start_time": "2025-02-06T04:36:05.830Z"
      },
      {
        "duration": 265,
        "start_time": "2025-02-06T04:36:10.638Z"
      },
      {
        "duration": 15,
        "start_time": "2025-02-06T04:36:15.982Z"
      },
      {
        "duration": 898,
        "start_time": "2025-02-06T04:36:19.927Z"
      },
      {
        "duration": 7,
        "start_time": "2025-02-06T04:36:23.262Z"
      },
      {
        "duration": 35835,
        "start_time": "2025-02-06T04:36:32.638Z"
      },
      {
        "duration": 11,
        "start_time": "2025-02-06T04:37:08.475Z"
      },
      {
        "duration": 21,
        "start_time": "2025-02-06T04:37:08.487Z"
      },
      {
        "duration": 9,
        "start_time": "2025-02-06T04:38:23.136Z"
      },
      {
        "duration": 7,
        "start_time": "2025-02-06T04:38:34.535Z"
      },
      {
        "duration": 143,
        "start_time": "2025-02-06T04:38:59.665Z"
      },
      {
        "duration": 8,
        "start_time": "2025-02-06T04:39:43.536Z"
      },
      {
        "duration": 0,
        "start_time": "2025-02-06T04:41:32.583Z"
      },
      {
        "duration": 0,
        "start_time": "2025-02-06T04:41:32.585Z"
      },
      {
        "duration": 7,
        "start_time": "2025-02-06T04:41:36.458Z"
      },
      {
        "duration": 199938,
        "start_time": "2025-02-06T04:41:38.603Z"
      },
      {
        "duration": 8,
        "start_time": "2025-02-06T04:44:58.542Z"
      },
      {
        "duration": 178,
        "start_time": "2025-02-06T04:44:58.552Z"
      },
      {
        "duration": 18,
        "start_time": "2025-02-06T07:03:04.291Z"
      },
      {
        "duration": 121171,
        "start_time": "2025-02-06T07:04:40.539Z"
      },
      {
        "duration": 8,
        "start_time": "2025-02-06T07:06:41.712Z"
      },
      {
        "duration": 850245,
        "start_time": "2025-02-06T07:06:41.722Z"
      },
      {
        "duration": 0,
        "start_time": "2025-02-06T07:20:51.968Z"
      },
      {
        "duration": 0,
        "start_time": "2025-02-06T07:20:51.970Z"
      },
      {
        "duration": 1192662,
        "start_time": "2025-02-06T07:21:00.009Z"
      },
      {
        "duration": 222,
        "start_time": "2025-02-06T07:40:52.673Z"
      },
      {
        "duration": 14,
        "start_time": "2025-02-06T07:40:52.896Z"
      },
      {
        "duration": 12,
        "start_time": "2025-02-06T08:02:23.663Z"
      },
      {
        "duration": 4,
        "start_time": "2025-02-06T08:02:32.600Z"
      },
      {
        "duration": 4,
        "start_time": "2025-02-06T08:02:33.304Z"
      },
      {
        "duration": 43,
        "start_time": "2025-02-06T08:02:41.599Z"
      },
      {
        "duration": 157,
        "start_time": "2025-02-06T08:03:03.248Z"
      },
      {
        "duration": 83,
        "start_time": "2025-02-06T08:04:58.387Z"
      },
      {
        "duration": 4,
        "start_time": "2025-02-06T08:14:14.714Z"
      },
      {
        "duration": 4,
        "start_time": "2025-02-06T08:14:17.120Z"
      },
      {
        "duration": 4,
        "start_time": "2025-02-06T08:14:19.698Z"
      },
      {
        "duration": 4,
        "start_time": "2025-02-06T08:14:51.977Z"
      },
      {
        "duration": 4,
        "start_time": "2025-02-06T08:14:52.488Z"
      },
      {
        "duration": 4,
        "start_time": "2025-02-06T08:14:52.936Z"
      },
      {
        "duration": 260,
        "start_time": "2025-02-06T08:14:54.874Z"
      },
      {
        "duration": 679,
        "start_time": "2025-02-06T08:14:59.849Z"
      },
      {
        "duration": 76,
        "start_time": "2025-02-06T08:15:11.539Z"
      },
      {
        "duration": 68,
        "start_time": "2025-02-06T08:15:50.243Z"
      },
      {
        "duration": 192,
        "start_time": "2025-02-06T08:16:18.571Z"
      },
      {
        "duration": 3,
        "start_time": "2025-02-06T08:18:45.100Z"
      },
      {
        "duration": 4,
        "start_time": "2025-02-06T08:18:49.339Z"
      },
      {
        "duration": 62,
        "start_time": "2025-02-06T08:18:57.885Z"
      },
      {
        "duration": 3,
        "start_time": "2025-02-06T08:19:29.894Z"
      },
      {
        "duration": 4,
        "start_time": "2025-02-06T08:19:30.501Z"
      },
      {
        "duration": 3,
        "start_time": "2025-02-06T08:19:32.038Z"
      },
      {
        "duration": 3,
        "start_time": "2025-02-06T08:19:32.573Z"
      },
      {
        "duration": 259,
        "start_time": "2025-02-06T08:19:35.205Z"
      },
      {
        "duration": 58,
        "start_time": "2025-02-06T08:19:43.214Z"
      },
      {
        "duration": 3,
        "start_time": "2025-02-06T08:29:33.134Z"
      },
      {
        "duration": 4,
        "start_time": "2025-02-06T08:29:33.774Z"
      },
      {
        "duration": 4,
        "start_time": "2025-02-06T08:29:34.941Z"
      },
      {
        "duration": 253,
        "start_time": "2025-02-06T08:30:07.878Z"
      },
      {
        "duration": 672,
        "start_time": "2025-02-06T08:30:12.846Z"
      },
      {
        "duration": 63,
        "start_time": "2025-02-06T08:30:19.358Z"
      },
      {
        "duration": 4,
        "start_time": "2025-02-06T08:31:18.360Z"
      },
      {
        "duration": 64,
        "start_time": "2025-02-06T08:31:30.576Z"
      },
      {
        "duration": 387,
        "start_time": "2025-02-06T08:31:51.736Z"
      },
      {
        "duration": 64,
        "start_time": "2025-02-06T08:31:55.503Z"
      },
      {
        "duration": 137,
        "start_time": "2025-02-06T08:34:10.074Z"
      },
      {
        "duration": 261,
        "start_time": "2025-02-06T08:34:13.224Z"
      },
      {
        "duration": 180,
        "start_time": "2025-02-06T08:34:15.897Z"
      },
      {
        "duration": 215,
        "start_time": "2025-02-06T08:34:20.745Z"
      },
      {
        "duration": 138,
        "start_time": "2025-02-06T08:34:31.066Z"
      },
      {
        "duration": 138,
        "start_time": "2025-02-06T08:35:07.731Z"
      },
      {
        "duration": 144,
        "start_time": "2025-02-06T08:36:00.011Z"
      },
      {
        "duration": 136,
        "start_time": "2025-02-06T08:36:49.788Z"
      },
      {
        "duration": 20,
        "start_time": "2025-02-06T08:37:25.525Z"
      },
      {
        "duration": 230,
        "start_time": "2025-02-06T08:37:33.941Z"
      },
      {
        "duration": 16,
        "start_time": "2025-02-06T08:37:45.269Z"
      },
      {
        "duration": 59,
        "start_time": "2025-02-06T08:38:22.565Z"
      },
      {
        "duration": 160,
        "start_time": "2025-02-06T08:38:32.590Z"
      },
      {
        "duration": 139,
        "start_time": "2025-02-06T08:38:49.949Z"
      },
      {
        "duration": 170,
        "start_time": "2025-02-06T08:39:13.198Z"
      },
      {
        "duration": 27,
        "start_time": "2025-02-06T08:40:03.686Z"
      },
      {
        "duration": 250155,
        "start_time": "2025-02-06T08:40:05.621Z"
      },
      {
        "duration": 21,
        "start_time": "2025-02-06T08:44:15.788Z"
      },
      {
        "duration": 62,
        "start_time": "2025-02-06T08:53:56.491Z"
      },
      {
        "duration": 1666388,
        "start_time": "2025-02-06T08:54:13.108Z"
      },
      {
        "duration": 223,
        "start_time": "2025-02-06T09:21:59.498Z"
      },
      {
        "duration": 54,
        "start_time": "2025-02-06T10:47:52.993Z"
      },
      {
        "duration": 79,
        "start_time": "2025-02-06T10:48:24.625Z"
      },
      {
        "duration": 8,
        "start_time": "2025-02-06T10:49:02.826Z"
      },
      {
        "duration": 18,
        "start_time": "2025-02-06T10:49:13.619Z"
      },
      {
        "duration": 213,
        "start_time": "2025-02-06T10:49:16.891Z"
      },
      {
        "duration": 29,
        "start_time": "2025-02-06T10:49:31.100Z"
      },
      {
        "duration": 210,
        "start_time": "2025-02-06T10:49:33.235Z"
      },
      {
        "duration": 9,
        "start_time": "2025-02-06T10:52:10.070Z"
      },
      {
        "duration": 32,
        "start_time": "2025-02-06T10:52:14.588Z"
      },
      {
        "duration": 218,
        "start_time": "2025-02-06T10:52:16.317Z"
      },
      {
        "duration": 10,
        "start_time": "2025-02-06T10:52:40.301Z"
      },
      {
        "duration": 22,
        "start_time": "2025-02-06T10:52:42.429Z"
      },
      {
        "duration": 207,
        "start_time": "2025-02-06T10:52:44.342Z"
      },
      {
        "duration": 11,
        "start_time": "2025-02-06T10:54:57.319Z"
      },
      {
        "duration": 1353862,
        "start_time": "2025-02-06T10:54:58.975Z"
      },
      {
        "duration": 276,
        "start_time": "2025-02-06T11:17:32.839Z"
      },
      {
        "duration": 10,
        "start_time": "2025-02-06T11:17:33.117Z"
      },
      {
        "duration": 27,
        "start_time": "2025-02-06T11:17:33.129Z"
      },
      {
        "duration": 19,
        "start_time": "2025-02-06T11:19:59.798Z"
      },
      {
        "duration": 74,
        "start_time": "2025-02-06T12:09:20.934Z"
      },
      {
        "duration": 64,
        "start_time": "2025-02-06T12:10:07.275Z"
      },
      {
        "duration": 32,
        "start_time": "2025-02-06T12:10:41.634Z"
      },
      {
        "duration": 10,
        "start_time": "2025-02-06T12:12:39.191Z"
      },
      {
        "duration": 94822,
        "start_time": "2025-02-06T12:12:43.189Z"
      },
      {
        "duration": 13,
        "start_time": "2025-02-06T12:18:39.450Z"
      },
      {
        "duration": 8,
        "start_time": "2025-02-06T12:18:45.627Z"
      },
      {
        "duration": 12,
        "start_time": "2025-02-06T12:18:50.138Z"
      },
      {
        "duration": 7,
        "start_time": "2025-02-06T12:19:46.443Z"
      },
      {
        "duration": 7,
        "start_time": "2025-02-06T12:21:05.981Z"
      },
      {
        "duration": 16,
        "start_time": "2025-02-06T12:35:55.104Z"
      },
      {
        "duration": 34,
        "start_time": "2025-02-06T12:36:53.785Z"
      },
      {
        "duration": 19778,
        "start_time": "2025-02-06T12:38:26.132Z"
      },
      {
        "duration": 201,
        "start_time": "2025-02-06T12:38:45.913Z"
      },
      {
        "duration": 81573,
        "start_time": "2025-02-06T12:40:15.237Z"
      },
      {
        "duration": 202,
        "start_time": "2025-02-06T12:41:36.813Z"
      },
      {
        "duration": 255,
        "start_time": "2025-02-06T12:46:37.818Z"
      },
      {
        "duration": 70,
        "start_time": "2025-02-06T12:46:42.562Z"
      },
      {
        "duration": 256,
        "start_time": "2025-02-06T12:47:37.723Z"
      },
      {
        "duration": 73,
        "start_time": "2025-02-06T12:47:41.636Z"
      },
      {
        "duration": 74,
        "start_time": "2025-02-06T12:48:23.204Z"
      },
      {
        "duration": 73,
        "start_time": "2025-02-06T12:48:43.052Z"
      },
      {
        "duration": 266,
        "start_time": "2025-02-06T12:48:56.972Z"
      },
      {
        "duration": 81,
        "start_time": "2025-02-06T12:49:03.613Z"
      },
      {
        "duration": 75,
        "start_time": "2025-02-06T12:52:19.168Z"
      },
      {
        "duration": 18,
        "start_time": "2025-02-06T12:53:25.552Z"
      },
      {
        "duration": 15,
        "start_time": "2025-02-06T12:54:14.560Z"
      },
      {
        "duration": 1381,
        "start_time": "2025-02-06T12:54:23.072Z"
      },
      {
        "duration": 6,
        "start_time": "2025-02-06T12:55:05.809Z"
      },
      {
        "duration": 18,
        "start_time": "2025-02-06T12:55:09.049Z"
      },
      {
        "duration": 281,
        "start_time": "2025-02-06T12:55:12.041Z"
      },
      {
        "duration": 8,
        "start_time": "2025-02-06T12:55:28.755Z"
      },
      {
        "duration": 1463922,
        "start_time": "2025-02-06T12:55:32.498Z"
      },
      {
        "duration": 360,
        "start_time": "2025-02-06T13:19:56.422Z"
      },
      {
        "duration": 20094,
        "start_time": "2025-02-06T13:19:56.784Z"
      },
      {
        "duration": 0,
        "start_time": "2025-02-06T13:20:16.881Z"
      },
      {
        "duration": 0,
        "start_time": "2025-02-06T13:20:16.882Z"
      },
      {
        "duration": 0,
        "start_time": "2025-02-06T13:20:16.884Z"
      },
      {
        "duration": 11,
        "start_time": "2025-02-06T14:10:55.155Z"
      },
      {
        "duration": 10,
        "start_time": "2025-02-06T14:13:16.043Z"
      },
      {
        "duration": 12,
        "start_time": "2025-02-06T14:14:11.213Z"
      },
      {
        "duration": 14,
        "start_time": "2025-02-06T14:14:24.568Z"
      },
      {
        "duration": 716228,
        "start_time": "2025-02-06T14:14:40.966Z"
      },
      {
        "duration": 248,
        "start_time": "2025-02-06T14:26:37.196Z"
      },
      {
        "duration": 7826,
        "start_time": "2025-02-06T14:26:37.446Z"
      },
      {
        "duration": 37,
        "start_time": "2025-02-06T14:26:45.275Z"
      },
      {
        "duration": 15,
        "start_time": "2025-02-06T14:26:45.314Z"
      },
      {
        "duration": 36,
        "start_time": "2025-02-06T14:26:45.331Z"
      },
      {
        "duration": 31,
        "start_time": "2025-02-06T14:26:45.369Z"
      },
      {
        "duration": 9,
        "start_time": "2025-02-06T14:31:27.893Z"
      },
      {
        "duration": 22,
        "start_time": "2025-02-06T14:31:29.630Z"
      },
      {
        "duration": 10,
        "start_time": "2025-02-06T14:32:40.983Z"
      },
      {
        "duration": 184,
        "start_time": "2025-02-06T14:53:06.776Z"
      },
      {
        "duration": 195,
        "start_time": "2025-02-06T14:54:28.091Z"
      },
      {
        "duration": 192,
        "start_time": "2025-02-06T14:55:18.410Z"
      },
      {
        "duration": 13,
        "start_time": "2025-02-06T14:58:49.724Z"
      },
      {
        "duration": 194,
        "start_time": "2025-02-06T15:00:26.518Z"
      },
      {
        "duration": 191,
        "start_time": "2025-02-06T15:00:54.143Z"
      },
      {
        "duration": 194,
        "start_time": "2025-02-06T15:01:10.255Z"
      },
      {
        "duration": 14,
        "start_time": "2025-02-06T15:04:33.738Z"
      },
      {
        "duration": 84370,
        "start_time": "2025-02-06T15:07:51.541Z"
      },
      {
        "duration": 296,
        "start_time": "2025-02-06T15:09:15.913Z"
      },
      {
        "duration": 46,
        "start_time": "2025-02-06T15:09:16.211Z"
      },
      {
        "duration": 4,
        "start_time": "2025-02-06T15:09:16.258Z"
      },
      {
        "duration": 5,
        "start_time": "2025-02-06T15:25:20.548Z"
      },
      {
        "duration": 224484,
        "start_time": "2025-02-06T15:25:52.398Z"
      },
      {
        "duration": 37,
        "start_time": "2025-02-06T15:30:02.217Z"
      },
      {
        "duration": 4,
        "start_time": "2025-02-06T15:31:42.674Z"
      },
      {
        "duration": 37,
        "start_time": "2025-02-06T15:33:02.908Z"
      },
      {
        "duration": 4,
        "start_time": "2025-02-06T15:33:03.531Z"
      },
      {
        "duration": 174,
        "start_time": "2025-02-06T15:33:04.284Z"
      },
      {
        "duration": 2114137,
        "start_time": "2025-02-06T15:33:34.015Z"
      },
      {
        "duration": 205,
        "start_time": "2025-02-06T16:08:48.154Z"
      },
      {
        "duration": 64,
        "start_time": "2025-02-06T16:38:13.137Z"
      },
      {
        "duration": 270,
        "start_time": "2025-02-06T16:38:25.863Z"
      },
      {
        "duration": 56,
        "start_time": "2025-02-06T16:38:31.216Z"
      },
      {
        "duration": 15,
        "start_time": "2025-02-06T16:39:18.569Z"
      },
      {
        "duration": 23,
        "start_time": "2025-02-06T16:43:27.748Z"
      },
      {
        "duration": 1438,
        "start_time": "2025-02-06T16:43:37.972Z"
      },
      {
        "duration": 1418,
        "start_time": "2025-02-06T16:44:59.413Z"
      },
      {
        "duration": 79,
        "start_time": "2025-02-06T16:45:33.821Z"
      },
      {
        "duration": 134,
        "start_time": "2025-02-06T16:45:39.421Z"
      },
      {
        "duration": 288,
        "start_time": "2025-02-06T16:45:43.804Z"
      },
      {
        "duration": 153,
        "start_time": "2025-02-06T16:45:45.797Z"
      },
      {
        "duration": 224,
        "start_time": "2025-02-06T16:45:48.261Z"
      },
      {
        "duration": 171,
        "start_time": "2025-02-06T16:45:50.102Z"
      },
      {
        "duration": 144787,
        "start_time": "2025-02-06T16:46:00.844Z"
      },
      {
        "duration": 18,
        "start_time": "2025-02-06T17:06:39.645Z"
      },
      {
        "duration": 3800842,
        "start_time": "2025-02-06T17:07:21.638Z"
      },
      {
        "duration": 305,
        "start_time": "2025-02-06T18:10:42.483Z"
      },
      {
        "duration": 9,
        "start_time": "2025-02-06T18:10:42.789Z"
      },
      {
        "duration": 88801,
        "start_time": "2025-02-06T18:10:42.811Z"
      },
      {
        "duration": 200,
        "start_time": "2025-02-06T18:12:11.614Z"
      },
      {
        "duration": 209,
        "start_time": "2025-02-06T18:12:11.816Z"
      },
      {
        "duration": 5,
        "start_time": "2025-02-06T18:12:12.027Z"
      },
      {
        "duration": 2012617,
        "start_time": "2025-02-06T18:12:12.034Z"
      },
      {
        "duration": 230,
        "start_time": "2025-02-06T18:45:44.653Z"
      },
      {
        "duration": 9,
        "start_time": "2025-02-06T18:45:44.885Z"
      },
      {
        "duration": 7,
        "start_time": "2025-02-06T18:49:15.084Z"
      },
      {
        "duration": 24,
        "start_time": "2025-02-06T18:49:17.148Z"
      },
      {
        "duration": 9,
        "start_time": "2025-02-06T18:49:33.061Z"
      },
      {
        "duration": 16246,
        "start_time": "2025-02-06T18:55:35.262Z"
      },
      {
        "duration": 2315,
        "start_time": "2025-02-06T18:55:51.511Z"
      },
      {
        "duration": 3,
        "start_time": "2025-02-06T18:55:53.828Z"
      },
      {
        "duration": 34,
        "start_time": "2025-02-06T18:55:53.833Z"
      },
      {
        "duration": 11,
        "start_time": "2025-02-06T18:55:53.869Z"
      },
      {
        "duration": 6,
        "start_time": "2025-02-06T18:55:53.882Z"
      },
      {
        "duration": 7,
        "start_time": "2025-02-06T18:55:53.889Z"
      },
      {
        "duration": 305,
        "start_time": "2025-02-06T18:55:53.897Z"
      },
      {
        "duration": 836,
        "start_time": "2025-02-06T18:55:54.203Z"
      },
      {
        "duration": 71,
        "start_time": "2025-02-06T18:55:55.041Z"
      },
      {
        "duration": 153,
        "start_time": "2025-02-06T18:55:55.113Z"
      },
      {
        "duration": 284,
        "start_time": "2025-02-06T18:55:55.268Z"
      },
      {
        "duration": 175,
        "start_time": "2025-02-06T18:55:55.554Z"
      },
      {
        "duration": 224,
        "start_time": "2025-02-06T18:55:55.732Z"
      },
      {
        "duration": 196,
        "start_time": "2025-02-06T18:55:55.958Z"
      },
      {
        "duration": 1491,
        "start_time": "2025-02-06T18:55:56.156Z"
      },
      {
        "duration": 14,
        "start_time": "2025-02-06T18:55:57.649Z"
      },
      {
        "duration": 125909,
        "start_time": "2025-02-06T18:55:57.665Z"
      },
      {
        "duration": 0,
        "start_time": "2025-02-06T18:58:03.576Z"
      },
      {
        "duration": 0,
        "start_time": "2025-02-06T18:58:03.578Z"
      },
      {
        "duration": 0,
        "start_time": "2025-02-06T18:58:03.579Z"
      },
      {
        "duration": 0,
        "start_time": "2025-02-06T18:58:03.581Z"
      },
      {
        "duration": 1,
        "start_time": "2025-02-06T18:58:03.582Z"
      },
      {
        "duration": 0,
        "start_time": "2025-02-06T18:58:03.584Z"
      },
      {
        "duration": 0,
        "start_time": "2025-02-06T18:58:03.586Z"
      },
      {
        "duration": 0,
        "start_time": "2025-02-06T18:58:03.587Z"
      },
      {
        "duration": 0,
        "start_time": "2025-02-06T18:58:03.589Z"
      },
      {
        "duration": 0,
        "start_time": "2025-02-06T18:58:03.590Z"
      },
      {
        "duration": 0,
        "start_time": "2025-02-06T18:58:03.591Z"
      },
      {
        "duration": 0,
        "start_time": "2025-02-06T18:58:03.593Z"
      },
      {
        "duration": 0,
        "start_time": "2025-02-06T18:58:03.594Z"
      },
      {
        "duration": 17196,
        "start_time": "2025-02-06T18:58:26.870Z"
      },
      {
        "duration": 2266,
        "start_time": "2025-02-06T18:58:44.069Z"
      },
      {
        "duration": 4,
        "start_time": "2025-02-06T18:58:46.337Z"
      },
      {
        "duration": 4,
        "start_time": "2025-02-06T18:58:46.344Z"
      },
      {
        "duration": 4,
        "start_time": "2025-02-06T18:58:46.350Z"
      },
      {
        "duration": 6,
        "start_time": "2025-02-06T18:58:46.356Z"
      },
      {
        "duration": 6,
        "start_time": "2025-02-06T18:58:46.364Z"
      },
      {
        "duration": 317,
        "start_time": "2025-02-06T18:58:46.371Z"
      },
      {
        "duration": 822,
        "start_time": "2025-02-06T18:58:46.690Z"
      },
      {
        "duration": 62,
        "start_time": "2025-02-06T18:58:47.516Z"
      },
      {
        "duration": 158,
        "start_time": "2025-02-06T18:58:47.580Z"
      },
      {
        "duration": 274,
        "start_time": "2025-02-06T18:58:47.740Z"
      },
      {
        "duration": 164,
        "start_time": "2025-02-06T18:58:48.016Z"
      },
      {
        "duration": 232,
        "start_time": "2025-02-06T18:58:48.182Z"
      },
      {
        "duration": 182,
        "start_time": "2025-02-06T18:58:48.415Z"
      },
      {
        "duration": 83729,
        "start_time": "2025-02-06T18:58:48.599Z"
      },
      {
        "duration": 21,
        "start_time": "2025-02-06T19:00:12.330Z"
      },
      {
        "duration": 310698,
        "start_time": "2025-02-06T19:00:12.352Z"
      },
      {
        "duration": 299,
        "start_time": "2025-02-06T19:05:23.051Z"
      },
      {
        "duration": 11,
        "start_time": "2025-02-06T19:05:23.352Z"
      },
      {
        "duration": 48664,
        "start_time": "2025-02-06T19:05:23.365Z"
      },
      {
        "duration": 0,
        "start_time": "2025-02-06T19:06:12.031Z"
      },
      {
        "duration": 0,
        "start_time": "2025-02-06T19:06:12.032Z"
      },
      {
        "duration": 0,
        "start_time": "2025-02-06T19:06:12.033Z"
      },
      {
        "duration": 0,
        "start_time": "2025-02-06T19:06:12.034Z"
      },
      {
        "duration": 0,
        "start_time": "2025-02-06T19:06:12.035Z"
      },
      {
        "duration": 0,
        "start_time": "2025-02-06T19:06:12.036Z"
      },
      {
        "duration": 1,
        "start_time": "2025-02-06T19:06:12.037Z"
      },
      {
        "duration": 0,
        "start_time": "2025-02-06T19:06:12.038Z"
      },
      {
        "duration": 991,
        "start_time": "2025-02-06T20:14:53.065Z"
      },
      {
        "duration": 13,
        "start_time": "2025-02-06T20:16:31.722Z"
      },
      {
        "duration": 84193,
        "start_time": "2025-02-06T20:17:11.621Z"
      },
      {
        "duration": 198,
        "start_time": "2025-02-06T20:18:35.817Z"
      },
      {
        "duration": 29,
        "start_time": "2025-02-06T20:24:30.428Z"
      },
      {
        "duration": 29,
        "start_time": "2025-02-06T20:25:45.868Z"
      },
      {
        "duration": 32,
        "start_time": "2025-02-06T20:27:56.053Z"
      },
      {
        "duration": 32,
        "start_time": "2025-02-06T20:28:04.197Z"
      },
      {
        "duration": 28,
        "start_time": "2025-02-06T20:28:20.487Z"
      },
      {
        "duration": 13,
        "start_time": "2025-02-06T20:28:31.702Z"
      },
      {
        "duration": 6,
        "start_time": "2025-02-06T20:28:48.847Z"
      },
      {
        "duration": 802232,
        "start_time": "2025-02-06T20:28:59.751Z"
      },
      {
        "duration": 208,
        "start_time": "2025-02-06T20:42:21.985Z"
      },
      {
        "duration": 6,
        "start_time": "2025-02-06T20:42:22.195Z"
      },
      {
        "duration": 21,
        "start_time": "2025-02-06T20:42:22.202Z"
      },
      {
        "duration": 7,
        "start_time": "2025-02-06T20:42:22.224Z"
      },
      {
        "duration": 27,
        "start_time": "2025-02-06T20:42:22.232Z"
      },
      {
        "duration": 23,
        "start_time": "2025-02-06T20:44:31.830Z"
      },
      {
        "duration": 21,
        "start_time": "2025-02-06T20:44:41.495Z"
      },
      {
        "duration": 19,
        "start_time": "2025-02-06T20:44:56.751Z"
      },
      {
        "duration": 15,
        "start_time": "2025-02-06T20:52:29.616Z"
      },
      {
        "duration": 21,
        "start_time": "2025-02-06T20:53:08.057Z"
      },
      {
        "duration": 4,
        "start_time": "2025-02-06T20:53:11.465Z"
      },
      {
        "duration": 4,
        "start_time": "2025-02-06T20:53:53.330Z"
      },
      {
        "duration": 4,
        "start_time": "2025-02-06T20:55:05.163Z"
      },
      {
        "duration": 9,
        "start_time": "2025-02-06T20:55:13.963Z"
      },
      {
        "duration": 4,
        "start_time": "2025-02-06T20:56:40.444Z"
      },
      {
        "duration": 23,
        "start_time": "2025-02-06T20:56:48.187Z"
      },
      {
        "duration": 4,
        "start_time": "2025-02-06T20:56:49.525Z"
      },
      {
        "duration": 222126,
        "start_time": "2025-02-06T20:56:50.957Z"
      },
      {
        "duration": 0,
        "start_time": "2025-02-06T21:00:33.086Z"
      },
      {
        "duration": 1789097,
        "start_time": "2025-02-06T21:01:36.995Z"
      },
      {
        "duration": 221,
        "start_time": "2025-02-06T21:31:26.095Z"
      },
      {
        "duration": 197,
        "start_time": "2025-02-06T22:03:49.551Z"
      },
      {
        "duration": 194,
        "start_time": "2025-02-06T22:05:33.457Z"
      },
      {
        "duration": 30253,
        "start_time": "2025-02-07T08:09:01.437Z"
      },
      {
        "duration": 3608,
        "start_time": "2025-02-07T08:09:31.693Z"
      },
      {
        "duration": 7,
        "start_time": "2025-02-07T08:09:35.303Z"
      },
      {
        "duration": 18,
        "start_time": "2025-02-07T08:09:35.311Z"
      },
      {
        "duration": 9,
        "start_time": "2025-02-07T08:09:35.332Z"
      },
      {
        "duration": 5,
        "start_time": "2025-02-07T08:09:35.342Z"
      },
      {
        "duration": 8,
        "start_time": "2025-02-07T08:09:35.348Z"
      },
      {
        "duration": 421,
        "start_time": "2025-02-07T08:09:35.357Z"
      },
      {
        "duration": 858,
        "start_time": "2025-02-07T08:09:35.780Z"
      },
      {
        "duration": 57,
        "start_time": "2025-02-07T08:09:36.640Z"
      },
      {
        "duration": 576,
        "start_time": "2025-02-07T08:09:36.699Z"
      },
      {
        "duration": 450,
        "start_time": "2025-02-07T08:09:37.277Z"
      },
      {
        "duration": 292,
        "start_time": "2025-02-07T08:09:37.729Z"
      },
      {
        "duration": 230,
        "start_time": "2025-02-07T08:09:38.024Z"
      },
      {
        "duration": 355,
        "start_time": "2025-02-07T08:09:38.256Z"
      },
      {
        "duration": 83961,
        "start_time": "2025-02-07T08:09:38.613Z"
      },
      {
        "duration": 14,
        "start_time": "2025-02-07T08:11:02.576Z"
      },
      {
        "duration": 306706,
        "start_time": "2025-02-07T08:11:02.592Z"
      },
      {
        "duration": 280,
        "start_time": "2025-02-07T08:16:09.300Z"
      },
      {
        "duration": 11,
        "start_time": "2025-02-07T08:16:09.582Z"
      },
      {
        "duration": 83918,
        "start_time": "2025-02-07T08:16:09.594Z"
      },
      {
        "duration": 198,
        "start_time": "2025-02-07T08:17:33.515Z"
      },
      {
        "duration": 199,
        "start_time": "2025-02-07T08:17:33.715Z"
      },
      {
        "duration": 4,
        "start_time": "2025-02-07T08:17:33.916Z"
      },
      {
        "duration": 72,
        "start_time": "2025-02-07T10:24:44.453Z"
      },
      {
        "duration": 41608,
        "start_time": "2025-02-07T11:02:01.393Z"
      },
      {
        "duration": 2681,
        "start_time": "2025-02-07T11:02:43.003Z"
      },
      {
        "duration": 4,
        "start_time": "2025-02-07T11:04:59.674Z"
      },
      {
        "duration": 945,
        "start_time": "2025-02-07T11:05:03.465Z"
      },
      {
        "duration": 18283,
        "start_time": "2025-02-07T11:11:44.978Z"
      },
      {
        "duration": 11,
        "start_time": "2025-02-07T11:12:03.264Z"
      },
      {
        "duration": 66,
        "start_time": "2025-02-07T11:12:03.277Z"
      },
      {
        "duration": 25,
        "start_time": "2025-02-07T11:12:03.345Z"
      },
      {
        "duration": 706,
        "start_time": "2025-02-07T11:12:57.675Z"
      },
      {
        "duration": 1081,
        "start_time": "2025-02-07T11:14:06.932Z"
      },
      {
        "duration": 795,
        "start_time": "2025-02-07T11:15:03.583Z"
      },
      {
        "duration": 516,
        "start_time": "2025-02-07T11:32:58.118Z"
      },
      {
        "duration": 895,
        "start_time": "2025-02-07T11:35:37.336Z"
      },
      {
        "duration": 618,
        "start_time": "2025-02-07T11:36:22.433Z"
      },
      {
        "duration": 170,
        "start_time": "2025-02-07T11:44:36.145Z"
      },
      {
        "duration": 3,
        "start_time": "2025-02-07T11:44:50.192Z"
      },
      {
        "duration": 5,
        "start_time": "2025-02-07T11:44:50.679Z"
      },
      {
        "duration": 4,
        "start_time": "2025-02-07T11:44:51.223Z"
      },
      {
        "duration": 47,
        "start_time": "2025-02-07T11:44:56.386Z"
      },
      {
        "duration": 285,
        "start_time": "2025-02-07T11:45:24.575Z"
      },
      {
        "duration": 312,
        "start_time": "2025-02-07T11:45:30.009Z"
      },
      {
        "duration": 46,
        "start_time": "2025-02-07T11:46:19.882Z"
      },
      {
        "duration": 282,
        "start_time": "2025-02-07T11:46:23.465Z"
      },
      {
        "duration": 169,
        "start_time": "2025-02-07T11:46:26.121Z"
      },
      {
        "duration": 247,
        "start_time": "2025-02-07T11:46:31.523Z"
      },
      {
        "duration": 87082,
        "start_time": "2025-02-07T11:46:40.929Z"
      },
      {
        "duration": 63,
        "start_time": "2025-02-07T11:50:10.277Z"
      },
      {
        "duration": 589,
        "start_time": "2025-02-07T11:51:43.502Z"
      },
      {
        "duration": 60,
        "start_time": "2025-02-07T11:52:28.039Z"
      },
      {
        "duration": 57,
        "start_time": "2025-02-07T11:53:59.657Z"
      },
      {
        "duration": 299,
        "start_time": "2025-02-07T11:54:08.808Z"
      },
      {
        "duration": 191,
        "start_time": "2025-02-07T11:54:10.208Z"
      },
      {
        "duration": 243,
        "start_time": "2025-02-07T11:54:14.471Z"
      },
      {
        "duration": 176,
        "start_time": "2025-02-07T11:54:15.256Z"
      },
      {
        "duration": 1115530,
        "start_time": "2025-02-07T11:54:30.232Z"
      },
      {
        "duration": 541,
        "start_time": "2025-02-07T12:13:05.764Z"
      },
      {
        "duration": 18,
        "start_time": "2025-02-07T13:01:07.263Z"
      },
      {
        "duration": 5,
        "start_time": "2025-02-07T13:03:03.570Z"
      },
      {
        "duration": 10,
        "start_time": "2025-02-07T13:03:08.748Z"
      },
      {
        "duration": 83,
        "start_time": "2025-02-07T13:03:14.480Z"
      },
      {
        "duration": 64,
        "start_time": "2025-02-07T13:03:36.155Z"
      },
      {
        "duration": 324,
        "start_time": "2025-02-07T13:03:45.912Z"
      },
      {
        "duration": 194,
        "start_time": "2025-02-07T13:03:46.545Z"
      },
      {
        "duration": 277,
        "start_time": "2025-02-07T13:03:48.192Z"
      },
      {
        "duration": 206,
        "start_time": "2025-02-07T13:03:49.296Z"
      },
      {
        "duration": 1479487,
        "start_time": "2025-02-07T13:03:54.042Z"
      },
      {
        "duration": 74,
        "start_time": "2025-02-07T13:28:33.539Z"
      },
      {
        "duration": 0,
        "start_time": "2025-02-07T13:28:33.615Z"
      },
      {
        "duration": 0,
        "start_time": "2025-02-07T13:28:33.616Z"
      },
      {
        "duration": 0,
        "start_time": "2025-02-07T13:28:33.617Z"
      },
      {
        "duration": 26,
        "start_time": "2025-02-07T13:31:43.929Z"
      },
      {
        "duration": 87798,
        "start_time": "2025-02-07T13:32:05.945Z"
      },
      {
        "duration": 103,
        "start_time": "2025-02-07T13:33:33.746Z"
      },
      {
        "duration": 14,
        "start_time": "2025-02-07T13:42:20.459Z"
      },
      {
        "duration": 9,
        "start_time": "2025-02-07T13:42:42.842Z"
      },
      {
        "duration": 65,
        "start_time": "2025-02-07T13:42:44.194Z"
      },
      {
        "duration": 348,
        "start_time": "2025-02-07T16:38:57.967Z"
      },
      {
        "duration": 20,
        "start_time": "2025-02-07T16:39:05.895Z"
      },
      {
        "duration": 34,
        "start_time": "2025-02-07T16:39:26.991Z"
      },
      {
        "duration": 8,
        "start_time": "2025-02-07T16:40:12.328Z"
      },
      {
        "duration": 28,
        "start_time": "2025-02-07T16:40:20.392Z"
      },
      {
        "duration": 28,
        "start_time": "2025-02-07T16:41:59.769Z"
      },
      {
        "duration": 67,
        "start_time": "2025-02-07T16:42:47.994Z"
      },
      {
        "duration": 99,
        "start_time": "2025-02-07T16:42:58.530Z"
      },
      {
        "duration": 39,
        "start_time": "2025-02-07T16:43:10.338Z"
      },
      {
        "duration": 107,
        "start_time": "2025-02-07T16:45:07.267Z"
      },
      {
        "duration": 72,
        "start_time": "2025-02-07T16:46:49.869Z"
      },
      {
        "duration": 79,
        "start_time": "2025-02-07T16:47:57.829Z"
      },
      {
        "duration": 91,
        "start_time": "2025-02-07T16:48:21.975Z"
      },
      {
        "duration": 72,
        "start_time": "2025-02-07T16:48:48.527Z"
      },
      {
        "duration": 246,
        "start_time": "2025-02-07T16:49:34.616Z"
      },
      {
        "duration": 70,
        "start_time": "2025-02-07T16:49:49.448Z"
      },
      {
        "duration": 83,
        "start_time": "2025-02-07T16:50:30.592Z"
      },
      {
        "duration": 92,
        "start_time": "2025-02-07T16:51:04.384Z"
      },
      {
        "duration": 79,
        "start_time": "2025-02-07T16:51:36.313Z"
      },
      {
        "duration": 95,
        "start_time": "2025-02-07T16:52:33.787Z"
      },
      {
        "duration": 72,
        "start_time": "2025-02-07T16:52:55.833Z"
      },
      {
        "duration": 75,
        "start_time": "2025-02-07T16:54:32.211Z"
      },
      {
        "duration": 78,
        "start_time": "2025-02-07T16:58:11.798Z"
      },
      {
        "duration": 32,
        "start_time": "2025-02-07T16:58:42.798Z"
      },
      {
        "duration": 2577588,
        "start_time": "2025-02-07T17:00:43.855Z"
      },
      {
        "duration": 14,
        "start_time": "2025-02-07T17:44:27.742Z"
      },
      {
        "duration": 14,
        "start_time": "2025-02-07T17:45:14.526Z"
      },
      {
        "duration": 20,
        "start_time": "2025-02-07T17:46:08.639Z"
      },
      {
        "duration": 17,
        "start_time": "2025-02-07T17:46:58.696Z"
      },
      {
        "duration": 9,
        "start_time": "2025-02-07T17:47:14.504Z"
      },
      {
        "duration": 18,
        "start_time": "2025-02-07T17:47:46.049Z"
      },
      {
        "duration": 11,
        "start_time": "2025-02-07T17:50:40.149Z"
      },
      {
        "duration": 13,
        "start_time": "2025-02-07T17:51:53.245Z"
      },
      {
        "duration": 12,
        "start_time": "2025-02-07T17:52:02.742Z"
      },
      {
        "duration": 10,
        "start_time": "2025-02-07T17:54:22.160Z"
      },
      {
        "duration": 10,
        "start_time": "2025-02-07T17:54:34.041Z"
      },
      {
        "duration": 12,
        "start_time": "2025-02-07T17:56:40.890Z"
      },
      {
        "duration": 13,
        "start_time": "2025-02-07T17:58:51.837Z"
      },
      {
        "duration": 15,
        "start_time": "2025-02-07T17:59:41.814Z"
      },
      {
        "duration": 78,
        "start_time": "2025-02-07T18:00:20.886Z"
      },
      {
        "duration": 7,
        "start_time": "2025-02-07T18:00:39.870Z"
      },
      {
        "duration": 13,
        "start_time": "2025-02-07T18:03:15.185Z"
      },
      {
        "duration": 15,
        "start_time": "2025-02-07T18:03:22.281Z"
      },
      {
        "duration": 43,
        "start_time": "2025-02-07T18:03:57.596Z"
      },
      {
        "duration": 34,
        "start_time": "2025-02-07T18:04:24.074Z"
      },
      {
        "duration": 366,
        "start_time": "2025-02-07T18:04:31.939Z"
      },
      {
        "duration": 20,
        "start_time": "2025-02-07T18:05:24.514Z"
      },
      {
        "duration": 18,
        "start_time": "2025-02-07T18:05:56.708Z"
      },
      {
        "duration": 8,
        "start_time": "2025-02-07T18:06:29.596Z"
      },
      {
        "duration": 104554,
        "start_time": "2025-02-07T18:07:09.285Z"
      },
      {
        "duration": 110,
        "start_time": "2025-02-07T18:08:53.932Z"
      },
      {
        "duration": 22,
        "start_time": "2025-02-07T18:11:40.809Z"
      },
      {
        "duration": 5,
        "start_time": "2025-02-07T18:11:46.120Z"
      },
      {
        "duration": 81,
        "start_time": "2025-02-07T18:11:51.441Z"
      },
      {
        "duration": 2491535,
        "start_time": "2025-02-07T18:12:59.636Z"
      },
      {
        "duration": 238,
        "start_time": "2025-02-07T18:54:31.174Z"
      },
      {
        "duration": 7,
        "start_time": "2025-02-07T18:54:31.413Z"
      },
      {
        "duration": 212,
        "start_time": "2025-02-07T18:56:06.634Z"
      },
      {
        "duration": 9,
        "start_time": "2025-02-07T18:56:30.276Z"
      },
      {
        "duration": 168,
        "start_time": "2025-02-07T18:56:40.866Z"
      },
      {
        "duration": 199,
        "start_time": "2025-02-07T18:56:52.850Z"
      },
      {
        "duration": 73,
        "start_time": "2025-02-07T18:58:50.293Z"
      },
      {
        "duration": 20,
        "start_time": "2025-02-07T18:59:04.013Z"
      },
      {
        "duration": 14,
        "start_time": "2025-02-07T19:00:21.622Z"
      },
      {
        "duration": 25,
        "start_time": "2025-02-07T19:02:48.938Z"
      },
      {
        "duration": 20,
        "start_time": "2025-02-07T19:03:04.360Z"
      },
      {
        "duration": 15,
        "start_time": "2025-02-07T19:03:49.994Z"
      },
      {
        "duration": 8,
        "start_time": "2025-02-07T19:04:10.097Z"
      },
      {
        "duration": 52,
        "start_time": "2025-02-07T19:04:18.594Z"
      },
      {
        "duration": 216,
        "start_time": "2025-02-07T19:04:32.548Z"
      },
      {
        "duration": 17,
        "start_time": "2025-02-07T19:04:51.747Z"
      },
      {
        "duration": 22,
        "start_time": "2025-02-07T19:04:57.563Z"
      },
      {
        "duration": 20,
        "start_time": "2025-02-07T19:05:35.437Z"
      },
      {
        "duration": 14,
        "start_time": "2025-02-07T19:06:57.093Z"
      },
      {
        "duration": 635,
        "start_time": "2025-02-07T19:20:01.113Z"
      },
      {
        "duration": 16972,
        "start_time": "2025-02-07T19:22:22.902Z"
      },
      {
        "duration": 2628,
        "start_time": "2025-02-07T19:22:39.876Z"
      },
      {
        "duration": 4,
        "start_time": "2025-02-07T19:22:42.507Z"
      },
      {
        "duration": 12,
        "start_time": "2025-02-07T19:22:42.513Z"
      },
      {
        "duration": 637,
        "start_time": "2025-02-07T19:22:42.526Z"
      },
      {
        "duration": 101,
        "start_time": "2025-02-07T19:22:43.165Z"
      },
      {
        "duration": 0,
        "start_time": "2025-02-07T19:22:43.269Z"
      },
      {
        "duration": 0,
        "start_time": "2025-02-07T19:22:43.272Z"
      },
      {
        "duration": 0,
        "start_time": "2025-02-07T19:22:43.273Z"
      },
      {
        "duration": 0,
        "start_time": "2025-02-07T19:22:43.275Z"
      },
      {
        "duration": 0,
        "start_time": "2025-02-07T19:22:43.276Z"
      },
      {
        "duration": 0,
        "start_time": "2025-02-07T19:22:43.277Z"
      },
      {
        "duration": 0,
        "start_time": "2025-02-07T19:22:43.278Z"
      },
      {
        "duration": 0,
        "start_time": "2025-02-07T19:22:43.280Z"
      },
      {
        "duration": 0,
        "start_time": "2025-02-07T19:22:43.281Z"
      },
      {
        "duration": 0,
        "start_time": "2025-02-07T19:22:43.282Z"
      },
      {
        "duration": 0,
        "start_time": "2025-02-07T19:22:43.283Z"
      },
      {
        "duration": 0,
        "start_time": "2025-02-07T19:22:43.284Z"
      },
      {
        "duration": 0,
        "start_time": "2025-02-07T19:22:43.285Z"
      },
      {
        "duration": 0,
        "start_time": "2025-02-07T19:22:43.286Z"
      },
      {
        "duration": 0,
        "start_time": "2025-02-07T19:22:43.288Z"
      },
      {
        "duration": 0,
        "start_time": "2025-02-07T19:22:43.289Z"
      },
      {
        "duration": 0,
        "start_time": "2025-02-07T19:22:43.290Z"
      },
      {
        "duration": 0,
        "start_time": "2025-02-07T19:22:43.291Z"
      },
      {
        "duration": 0,
        "start_time": "2025-02-07T19:22:43.292Z"
      },
      {
        "duration": 0,
        "start_time": "2025-02-07T19:22:43.293Z"
      },
      {
        "duration": 0,
        "start_time": "2025-02-07T19:22:43.295Z"
      },
      {
        "duration": 0,
        "start_time": "2025-02-07T19:22:43.296Z"
      },
      {
        "duration": 0,
        "start_time": "2025-02-07T19:22:43.297Z"
      },
      {
        "duration": 1080,
        "start_time": "2025-02-07T20:27:39.725Z"
      },
      {
        "duration": 4,
        "start_time": "2025-02-07T20:27:44.069Z"
      },
      {
        "duration": 4,
        "start_time": "2025-02-07T20:27:44.484Z"
      },
      {
        "duration": 66,
        "start_time": "2025-02-07T20:27:45.261Z"
      },
      {
        "duration": 313,
        "start_time": "2025-02-07T20:27:45.709Z"
      },
      {
        "duration": 197,
        "start_time": "2025-02-07T20:27:46.109Z"
      },
      {
        "duration": 284,
        "start_time": "2025-02-07T20:27:46.412Z"
      },
      {
        "duration": 218,
        "start_time": "2025-02-07T20:27:46.698Z"
      },
      {
        "duration": 1296081,
        "start_time": "2025-02-07T20:27:47.197Z"
      },
      {
        "duration": 402,
        "start_time": "2025-02-07T20:49:23.280Z"
      },
      {
        "duration": 29,
        "start_time": "2025-02-07T20:49:23.685Z"
      },
      {
        "duration": 281156,
        "start_time": "2025-02-07T20:49:23.717Z"
      },
      {
        "duration": 0,
        "start_time": "2025-02-07T20:54:04.875Z"
      },
      {
        "duration": 0,
        "start_time": "2025-02-07T20:54:04.877Z"
      },
      {
        "duration": 0,
        "start_time": "2025-02-07T20:54:04.878Z"
      },
      {
        "duration": 0,
        "start_time": "2025-02-07T20:54:04.880Z"
      },
      {
        "duration": 0,
        "start_time": "2025-02-07T20:54:04.881Z"
      },
      {
        "duration": 0,
        "start_time": "2025-02-07T20:54:04.882Z"
      },
      {
        "duration": 0,
        "start_time": "2025-02-07T20:54:04.883Z"
      },
      {
        "duration": 0,
        "start_time": "2025-02-07T20:54:04.884Z"
      },
      {
        "duration": 0,
        "start_time": "2025-02-07T20:54:04.885Z"
      },
      {
        "duration": 0,
        "start_time": "2025-02-07T20:54:04.887Z"
      },
      {
        "duration": 0,
        "start_time": "2025-02-07T20:54:04.888Z"
      },
      {
        "duration": 0,
        "start_time": "2025-02-07T20:54:04.889Z"
      },
      {
        "duration": 7,
        "start_time": "2025-02-07T21:12:13.021Z"
      },
      {
        "duration": 9,
        "start_time": "2025-02-07T21:12:22.724Z"
      },
      {
        "duration": 368,
        "start_time": "2025-02-07T21:12:34.756Z"
      },
      {
        "duration": 13,
        "start_time": "2025-02-07T21:12:37.740Z"
      },
      {
        "duration": 108758,
        "start_time": "2025-02-07T21:12:42.580Z"
      },
      {
        "duration": 213,
        "start_time": "2025-02-07T21:14:31.342Z"
      },
      {
        "duration": 28,
        "start_time": "2025-02-07T21:14:31.638Z"
      },
      {
        "duration": 36,
        "start_time": "2025-02-07T21:14:31.668Z"
      },
      {
        "duration": 2004934,
        "start_time": "2025-02-07T21:14:31.705Z"
      },
      {
        "duration": 250,
        "start_time": "2025-02-07T21:47:56.645Z"
      },
      {
        "duration": 14,
        "start_time": "2025-02-07T21:47:56.897Z"
      },
      {
        "duration": 35,
        "start_time": "2025-02-07T21:47:56.913Z"
      },
      {
        "duration": 10,
        "start_time": "2025-02-07T22:22:19.282Z"
      },
      {
        "duration": 57,
        "start_time": "2025-02-07T22:22:28.985Z"
      },
      {
        "duration": 245,
        "start_time": "2025-02-07T22:22:38.274Z"
      },
      {
        "duration": 16,
        "start_time": "2025-02-07T22:23:40.387Z"
      },
      {
        "duration": 150,
        "start_time": "2025-02-07T22:23:45.002Z"
      },
      {
        "duration": 24893,
        "start_time": "2025-02-08T08:27:26.666Z"
      },
      {
        "duration": 3705,
        "start_time": "2025-02-08T08:27:51.562Z"
      },
      {
        "duration": 4,
        "start_time": "2025-02-08T08:27:55.271Z"
      },
      {
        "duration": 37,
        "start_time": "2025-02-08T08:27:55.276Z"
      },
      {
        "duration": 633,
        "start_time": "2025-02-08T08:27:55.315Z"
      },
      {
        "duration": 919,
        "start_time": "2025-02-08T08:27:55.950Z"
      },
      {
        "duration": 4,
        "start_time": "2025-02-08T08:27:56.871Z"
      },
      {
        "duration": 5,
        "start_time": "2025-02-08T08:27:56.877Z"
      },
      {
        "duration": 213,
        "start_time": "2025-02-08T08:27:56.884Z"
      },
      {
        "duration": 318,
        "start_time": "2025-02-08T08:27:57.099Z"
      },
      {
        "duration": 199,
        "start_time": "2025-02-08T08:27:57.419Z"
      },
      {
        "duration": 265,
        "start_time": "2025-02-08T08:27:57.620Z"
      },
      {
        "duration": 201,
        "start_time": "2025-02-08T08:27:57.887Z"
      },
      {
        "duration": 1368846,
        "start_time": "2025-02-08T08:27:58.092Z"
      },
      {
        "duration": 425,
        "start_time": "2025-02-08T08:50:46.939Z"
      },
      {
        "duration": 32,
        "start_time": "2025-02-08T08:50:47.366Z"
      },
      {
        "duration": 271965,
        "start_time": "2025-02-08T08:50:47.400Z"
      },
      {
        "duration": 7,
        "start_time": "2025-02-08T08:55:19.367Z"
      },
      {
        "duration": 8,
        "start_time": "2025-02-08T08:55:19.375Z"
      },
      {
        "duration": 364,
        "start_time": "2025-02-08T08:55:19.385Z"
      },
      {
        "duration": 9,
        "start_time": "2025-02-08T08:55:19.750Z"
      },
      {
        "duration": 120812,
        "start_time": "2025-02-08T08:55:19.761Z"
      },
      {
        "duration": 199,
        "start_time": "2025-02-08T08:57:20.575Z"
      },
      {
        "duration": 99,
        "start_time": "2025-02-08T08:57:20.777Z"
      },
      {
        "duration": 4,
        "start_time": "2025-02-08T08:57:20.877Z"
      },
      {
        "duration": 2410055,
        "start_time": "2025-02-08T08:57:20.883Z"
      },
      {
        "duration": 283,
        "start_time": "2025-02-08T09:37:30.939Z"
      },
      {
        "duration": 18,
        "start_time": "2025-02-08T09:37:31.224Z"
      },
      {
        "duration": 188,
        "start_time": "2025-02-08T09:37:31.244Z"
      }
    ],
    "kernelspec": {
      "display_name": "Python 3",
      "name": "python3"
    },
    "language_info": {
      "codemirror_mode": {
        "name": "ipython",
        "version": 3
      },
      "file_extension": ".py",
      "mimetype": "text/x-python",
      "name": "python",
      "nbconvert_exporter": "python",
      "pygments_lexer": "ipython3",
      "version": "3.12.11"
    },
    "toc": {
      "base_numbering": 1,
      "nav_menu": {},
      "number_sections": true,
      "sideBar": true,
      "skip_h1_title": true,
      "title_cell": "Содержание",
      "title_sidebar": "Contents",
      "toc_cell": true,
      "toc_position": {
        "height": "calc(100% - 180px)",
        "left": "10px",
        "top": "150px",
        "width": "336.364px"
      },
      "toc_section_display": true,
      "toc_window_display": true
    },
    "colab": {
      "provenance": [],
      "toc_visible": true,
      "gpuType": "T4",
      "include_colab_link": true
    },
    "accelerator": "GPU"
  },
  "nbformat": 4,
  "nbformat_minor": 0
}