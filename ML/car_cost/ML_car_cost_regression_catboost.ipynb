{
 "cells": [
  {
   "cell_type": "markdown",
   "metadata": {},
   "source": [
    "# Определение стоимости автомобилей"
   ]
  },
  {
   "cell_type": "markdown",
   "metadata": {},
   "source": [
    "Сервис по продаже автомобилей с пробегом «Не бит, не крашен» разрабатывает приложение для привлечения новых клиентов. В нём можно быстро узнать рыночную стоимость своего автомобиля. В вашем распоряжении исторические данные: технические характеристики, комплектации и цены автомобилей. Вам нужно построить модель для определения стоимости. \n",
    "\n",
    "Заказчику важны:\n",
    "\n",
    "- качество предсказания;\n",
    "- скорость предсказания;\n",
    "- время обучения."
   ]
  },
  {
   "cell_type": "code",
   "execution_count": 1,
   "metadata": {},
   "outputs": [],
   "source": [
    "import pandas as pd  \n",
    "import numpy as np\n",
    "import seaborn as sns\n",
    "import datetime as dt\n",
    "\n",
    "\n",
    "\n",
    "import phik\n",
    "from phik.report import plot_correlation_matrix\n",
    "from phik import phik_matrix\n",
    "\n",
    "#import shap \n",
    "import sklearn.utils\n",
    "from sklearn.utils.class_weight import compute_class_weight\n",
    "\n",
    "import matplotlib.pyplot as plt\n",
    "\n",
    "\n",
    "from sklearn.experimental import enable_iterative_imputer\n",
    "from sklearn.impute import KNNImputer,IterativeImputer,SimpleImputer\n",
    "from sklearn.metrics import (confusion_matrix,mean_squared_error,precision_recall_curve,roc_auc_score,classification_report,\n",
    "                             r2_score,accuracy_score,make_scorer,f1_score,roc_curve,RocCurveDisplay,\n",
    "                             mean_absolute_error,recall_score,precision_score,ConfusionMatrixDisplay)\n",
    "\n",
    "from sklearn.feature_selection import SelectKBest,f_classif, mutual_info_classif  \n",
    "from sklearn.inspection import permutation_importance\n",
    "from sklearn.preprocessing import (StandardScaler,MinMaxScaler,LabelEncoder,RobustScaler,\n",
    "                                   OneHotEncoder,PolynomialFeatures,OrdinalEncoder) \n",
    "#from category_encoders.binary import BinaryEncoder\n",
    "\n",
    "from sklearn.model_selection import (train_test_split,GridSearchCV,RandomizedSearchCV,cross_val_score,\n",
    "                                     RepeatedStratifiedKFold,StratifiedShuffleSplit,StratifiedKFold,KFold)\n",
    "\n",
    "from sklearn.linear_model import LogisticRegression,Ridge\n",
    "from sklearn.neighbors import KNeighborsClassifier\n",
    "from sklearn.tree import DecisionTreeClassifier,plot_tree ,export_text \n",
    "from sklearn.svm import SVC\n",
    "\n",
    "from sklearn.pipeline import Pipeline\n",
    "from sklearn.compose import ColumnTransformer\n",
    "from sklearn.impute import SimpleImputer \n",
    "\n",
    "from catboost import CatBoostRegressor,CatBoostClassifier,Pool, cv\n",
    "import lightgbm as lgb\n",
    "from lightgbm import LGBMClassifier,LGBMRegressor\n",
    "import optuna \n",
    "from optuna import distributions,visualization \n",
    "from optuna.integration import OptunaSearchCV\n",
    "\n",
    "import warnings\n",
    "from sklearn.exceptions import ConvergenceWarning\n",
    "ConvergenceWarning('ignore')\n",
    "import sys\n",
    "import os\n",
    "if not sys.warnoptions:\n",
    "    warnings.simplefilter(\"ignore\")\n",
    "    os.environ[\"PYTHONWARNINGS\"] = ('ignore::UserWarning,ignore::ConvergenceWarning,ignore::RuntimeWarning')\n",
    "    \n",
    "#optuna.logging.set_verbosity(optuna.logging.WARNING)\n",
    "    \n",
    "pd.options.mode.chained_assignment = None\n",
    "pd.options.display.float_format = '{:,.2f}'.format\n",
    "pd.DataFrame.iteritems = pd.DataFrame.items\n",
    "RANDOM_STATE = 255\n",
    "TEST_SIZE = 0.25\n",
    "warnings.filterwarnings('ignore')\n",
    "#pd.options.mode.copy_on_write = True"
   ]
  },
  {
   "cell_type": "code",
   "execution_count": 2,
   "metadata": {},
   "outputs": [],
   "source": [
    "# функиция преобразования в bool \n",
    "def bul(dat,col,tru,nt):\n",
    "    dat[col][dat[col]==tru]=1 \n",
    "    dat[col][dat[col]==nt]=0\n",
    "    #dat[col]=dat[col].astype('boolean')\n",
    "    #voc_k[col]=(nt,tru)"
   ]
  },
  {
   "cell_type": "markdown",
   "metadata": {},
   "source": [
    "## Обработка данных"
   ]
  },
  {
   "cell_type": "code",
   "execution_count": 3,
   "metadata": {
    "scrolled": true
   },
   "outputs": [
    {
     "name": "stdout",
     "output_type": "stream",
     "text": [
      "<class 'pandas.core.frame.DataFrame'>\n",
      "RangeIndex: 354369 entries, 0 to 354368\n",
      "Data columns (total 16 columns):\n",
      " #   Column             Non-Null Count   Dtype \n",
      "---  ------             --------------   ----- \n",
      " 0   DateCrawled        354369 non-null  object\n",
      " 1   Price              354369 non-null  int64 \n",
      " 2   VehicleType        316879 non-null  object\n",
      " 3   RegistrationYear   354369 non-null  int64 \n",
      " 4   Gearbox            334536 non-null  object\n",
      " 5   Power              354369 non-null  int64 \n",
      " 6   Model              334664 non-null  object\n",
      " 7   Kilometer          354369 non-null  int64 \n",
      " 8   RegistrationMonth  354369 non-null  int64 \n",
      " 9   FuelType           321474 non-null  object\n",
      " 10  Brand              354369 non-null  object\n",
      " 11  Repaired           283215 non-null  object\n",
      " 12  DateCreated        354369 non-null  object\n",
      " 13  NumberOfPictures   354369 non-null  int64 \n",
      " 14  PostalCode         354369 non-null  int64 \n",
      " 15  LastSeen           354369 non-null  object\n",
      "dtypes: int64(7), object(9)\n",
      "memory usage: 43.3+ MB\n"
     ]
    },
    {
     "data": {
      "text/html": [
       "<div>\n",
       "<style scoped>\n",
       "    .dataframe tbody tr th:only-of-type {\n",
       "        vertical-align: middle;\n",
       "    }\n",
       "\n",
       "    .dataframe tbody tr th {\n",
       "        vertical-align: top;\n",
       "    }\n",
       "\n",
       "    .dataframe thead th {\n",
       "        text-align: right;\n",
       "    }\n",
       "</style>\n",
       "<table border=\"1\" class=\"dataframe\">\n",
       "  <thead>\n",
       "    <tr style=\"text-align: right;\">\n",
       "      <th></th>\n",
       "      <th>DateCrawled</th>\n",
       "      <th>Price</th>\n",
       "      <th>VehicleType</th>\n",
       "      <th>RegistrationYear</th>\n",
       "      <th>Gearbox</th>\n",
       "      <th>Power</th>\n",
       "      <th>Model</th>\n",
       "      <th>Kilometer</th>\n",
       "      <th>RegistrationMonth</th>\n",
       "      <th>FuelType</th>\n",
       "      <th>Brand</th>\n",
       "      <th>Repaired</th>\n",
       "      <th>DateCreated</th>\n",
       "      <th>NumberOfPictures</th>\n",
       "      <th>PostalCode</th>\n",
       "      <th>LastSeen</th>\n",
       "    </tr>\n",
       "  </thead>\n",
       "  <tbody>\n",
       "    <tr>\n",
       "      <th>0</th>\n",
       "      <td>2016-03-24 11:52:17</td>\n",
       "      <td>480</td>\n",
       "      <td>NaN</td>\n",
       "      <td>1993</td>\n",
       "      <td>manual</td>\n",
       "      <td>0</td>\n",
       "      <td>golf</td>\n",
       "      <td>150000</td>\n",
       "      <td>0</td>\n",
       "      <td>petrol</td>\n",
       "      <td>volkswagen</td>\n",
       "      <td>NaN</td>\n",
       "      <td>2016-03-24 00:00:00</td>\n",
       "      <td>0</td>\n",
       "      <td>70435</td>\n",
       "      <td>2016-04-07 03:16:57</td>\n",
       "    </tr>\n",
       "    <tr>\n",
       "      <th>1</th>\n",
       "      <td>2016-03-24 10:58:45</td>\n",
       "      <td>18300</td>\n",
       "      <td>coupe</td>\n",
       "      <td>2011</td>\n",
       "      <td>manual</td>\n",
       "      <td>190</td>\n",
       "      <td>NaN</td>\n",
       "      <td>125000</td>\n",
       "      <td>5</td>\n",
       "      <td>gasoline</td>\n",
       "      <td>audi</td>\n",
       "      <td>yes</td>\n",
       "      <td>2016-03-24 00:00:00</td>\n",
       "      <td>0</td>\n",
       "      <td>66954</td>\n",
       "      <td>2016-04-07 01:46:50</td>\n",
       "    </tr>\n",
       "    <tr>\n",
       "      <th>2</th>\n",
       "      <td>2016-03-14 12:52:21</td>\n",
       "      <td>9800</td>\n",
       "      <td>suv</td>\n",
       "      <td>2004</td>\n",
       "      <td>auto</td>\n",
       "      <td>163</td>\n",
       "      <td>grand</td>\n",
       "      <td>125000</td>\n",
       "      <td>8</td>\n",
       "      <td>gasoline</td>\n",
       "      <td>jeep</td>\n",
       "      <td>NaN</td>\n",
       "      <td>2016-03-14 00:00:00</td>\n",
       "      <td>0</td>\n",
       "      <td>90480</td>\n",
       "      <td>2016-04-05 12:47:46</td>\n",
       "    </tr>\n",
       "    <tr>\n",
       "      <th>3</th>\n",
       "      <td>2016-03-17 16:54:04</td>\n",
       "      <td>1500</td>\n",
       "      <td>small</td>\n",
       "      <td>2001</td>\n",
       "      <td>manual</td>\n",
       "      <td>75</td>\n",
       "      <td>golf</td>\n",
       "      <td>150000</td>\n",
       "      <td>6</td>\n",
       "      <td>petrol</td>\n",
       "      <td>volkswagen</td>\n",
       "      <td>no</td>\n",
       "      <td>2016-03-17 00:00:00</td>\n",
       "      <td>0</td>\n",
       "      <td>91074</td>\n",
       "      <td>2016-03-17 17:40:17</td>\n",
       "    </tr>\n",
       "    <tr>\n",
       "      <th>4</th>\n",
       "      <td>2016-03-31 17:25:20</td>\n",
       "      <td>3600</td>\n",
       "      <td>small</td>\n",
       "      <td>2008</td>\n",
       "      <td>manual</td>\n",
       "      <td>69</td>\n",
       "      <td>fabia</td>\n",
       "      <td>90000</td>\n",
       "      <td>7</td>\n",
       "      <td>gasoline</td>\n",
       "      <td>skoda</td>\n",
       "      <td>no</td>\n",
       "      <td>2016-03-31 00:00:00</td>\n",
       "      <td>0</td>\n",
       "      <td>60437</td>\n",
       "      <td>2016-04-06 10:17:21</td>\n",
       "    </tr>\n",
       "  </tbody>\n",
       "</table>\n",
       "</div>"
      ],
      "text/plain": [
       "           DateCrawled  Price VehicleType  RegistrationYear Gearbox  Power  \\\n",
       "0  2016-03-24 11:52:17    480         NaN              1993  manual      0   \n",
       "1  2016-03-24 10:58:45  18300       coupe              2011  manual    190   \n",
       "2  2016-03-14 12:52:21   9800         suv              2004    auto    163   \n",
       "3  2016-03-17 16:54:04   1500       small              2001  manual     75   \n",
       "4  2016-03-31 17:25:20   3600       small              2008  manual     69   \n",
       "\n",
       "   Model  Kilometer  RegistrationMonth  FuelType       Brand Repaired  \\\n",
       "0   golf     150000                  0    petrol  volkswagen      NaN   \n",
       "1    NaN     125000                  5  gasoline        audi      yes   \n",
       "2  grand     125000                  8  gasoline        jeep      NaN   \n",
       "3   golf     150000                  6    petrol  volkswagen       no   \n",
       "4  fabia      90000                  7  gasoline       skoda       no   \n",
       "\n",
       "           DateCreated  NumberOfPictures  PostalCode             LastSeen  \n",
       "0  2016-03-24 00:00:00                 0       70435  2016-04-07 03:16:57  \n",
       "1  2016-03-24 00:00:00                 0       66954  2016-04-07 01:46:50  \n",
       "2  2016-03-14 00:00:00                 0       90480  2016-04-05 12:47:46  \n",
       "3  2016-03-17 00:00:00                 0       91074  2016-03-17 17:40:17  \n",
       "4  2016-03-31 00:00:00                 0       60437  2016-04-06 10:17:21  "
      ]
     },
     "metadata": {},
     "output_type": "display_data"
    },
    {
     "data": {
      "text/html": [
       "<div>\n",
       "<style scoped>\n",
       "    .dataframe tbody tr th:only-of-type {\n",
       "        vertical-align: middle;\n",
       "    }\n",
       "\n",
       "    .dataframe tbody tr th {\n",
       "        vertical-align: top;\n",
       "    }\n",
       "\n",
       "    .dataframe thead th {\n",
       "        text-align: right;\n",
       "    }\n",
       "</style>\n",
       "<table border=\"1\" class=\"dataframe\">\n",
       "  <thead>\n",
       "    <tr style=\"text-align: right;\">\n",
       "      <th></th>\n",
       "      <th>Price</th>\n",
       "      <th>VehicleType</th>\n",
       "      <th>RegistrationYear</th>\n",
       "      <th>Gearbox</th>\n",
       "      <th>Power</th>\n",
       "      <th>Model</th>\n",
       "      <th>Kilometer</th>\n",
       "      <th>RegistrationMonth</th>\n",
       "      <th>FuelType</th>\n",
       "      <th>Brand</th>\n",
       "      <th>Repaired</th>\n",
       "    </tr>\n",
       "  </thead>\n",
       "  <tbody>\n",
       "    <tr>\n",
       "      <th>count</th>\n",
       "      <td>326,826.00</td>\n",
       "      <td>291577</td>\n",
       "      <td>326,826.00</td>\n",
       "      <td>309248</td>\n",
       "      <td>326,826.00</td>\n",
       "      <td>308294</td>\n",
       "      <td>326,826.00</td>\n",
       "      <td>326,826.00</td>\n",
       "      <td>295704</td>\n",
       "      <td>326826</td>\n",
       "      <td>260399</td>\n",
       "    </tr>\n",
       "    <tr>\n",
       "      <th>unique</th>\n",
       "      <td>NaN</td>\n",
       "      <td>8</td>\n",
       "      <td>NaN</td>\n",
       "      <td>2</td>\n",
       "      <td>NaN</td>\n",
       "      <td>250</td>\n",
       "      <td>NaN</td>\n",
       "      <td>NaN</td>\n",
       "      <td>7</td>\n",
       "      <td>40</td>\n",
       "      <td>2</td>\n",
       "    </tr>\n",
       "    <tr>\n",
       "      <th>top</th>\n",
       "      <td>NaN</td>\n",
       "      <td>sedan</td>\n",
       "      <td>NaN</td>\n",
       "      <td>manual</td>\n",
       "      <td>NaN</td>\n",
       "      <td>golf</td>\n",
       "      <td>NaN</td>\n",
       "      <td>NaN</td>\n",
       "      <td>petrol</td>\n",
       "      <td>volkswagen</td>\n",
       "      <td>no</td>\n",
       "    </tr>\n",
       "    <tr>\n",
       "      <th>freq</th>\n",
       "      <td>NaN</td>\n",
       "      <td>83602</td>\n",
       "      <td>NaN</td>\n",
       "      <td>248135</td>\n",
       "      <td>NaN</td>\n",
       "      <td>26444</td>\n",
       "      <td>NaN</td>\n",
       "      <td>NaN</td>\n",
       "      <td>200260</td>\n",
       "      <td>69992</td>\n",
       "      <td>225970</td>\n",
       "    </tr>\n",
       "    <tr>\n",
       "      <th>mean</th>\n",
       "      <td>4,403.75</td>\n",
       "      <td>NaN</td>\n",
       "      <td>2,004.23</td>\n",
       "      <td>NaN</td>\n",
       "      <td>110.24</td>\n",
       "      <td>NaN</td>\n",
       "      <td>128,144.07</td>\n",
       "      <td>5.70</td>\n",
       "      <td>NaN</td>\n",
       "      <td>NaN</td>\n",
       "      <td>NaN</td>\n",
       "    </tr>\n",
       "    <tr>\n",
       "      <th>std</th>\n",
       "      <td>4,518.21</td>\n",
       "      <td>NaN</td>\n",
       "      <td>91.12</td>\n",
       "      <td>NaN</td>\n",
       "      <td>195.89</td>\n",
       "      <td>NaN</td>\n",
       "      <td>37,947.66</td>\n",
       "      <td>3.72</td>\n",
       "      <td>NaN</td>\n",
       "      <td>NaN</td>\n",
       "      <td>NaN</td>\n",
       "    </tr>\n",
       "    <tr>\n",
       "      <th>min</th>\n",
       "      <td>0.00</td>\n",
       "      <td>NaN</td>\n",
       "      <td>1,000.00</td>\n",
       "      <td>NaN</td>\n",
       "      <td>0.00</td>\n",
       "      <td>NaN</td>\n",
       "      <td>5,000.00</td>\n",
       "      <td>0.00</td>\n",
       "      <td>NaN</td>\n",
       "      <td>NaN</td>\n",
       "      <td>NaN</td>\n",
       "    </tr>\n",
       "    <tr>\n",
       "      <th>25%</th>\n",
       "      <td>1,000.00</td>\n",
       "      <td>NaN</td>\n",
       "      <td>1,999.00</td>\n",
       "      <td>NaN</td>\n",
       "      <td>69.00</td>\n",
       "      <td>NaN</td>\n",
       "      <td>125,000.00</td>\n",
       "      <td>3.00</td>\n",
       "      <td>NaN</td>\n",
       "      <td>NaN</td>\n",
       "      <td>NaN</td>\n",
       "    </tr>\n",
       "    <tr>\n",
       "      <th>50%</th>\n",
       "      <td>2,700.00</td>\n",
       "      <td>NaN</td>\n",
       "      <td>2,003.00</td>\n",
       "      <td>NaN</td>\n",
       "      <td>105.00</td>\n",
       "      <td>NaN</td>\n",
       "      <td>150,000.00</td>\n",
       "      <td>6.00</td>\n",
       "      <td>NaN</td>\n",
       "      <td>NaN</td>\n",
       "      <td>NaN</td>\n",
       "    </tr>\n",
       "    <tr>\n",
       "      <th>75%</th>\n",
       "      <td>6,350.00</td>\n",
       "      <td>NaN</td>\n",
       "      <td>2,008.00</td>\n",
       "      <td>NaN</td>\n",
       "      <td>141.00</td>\n",
       "      <td>NaN</td>\n",
       "      <td>150,000.00</td>\n",
       "      <td>9.00</td>\n",
       "      <td>NaN</td>\n",
       "      <td>NaN</td>\n",
       "      <td>NaN</td>\n",
       "    </tr>\n",
       "    <tr>\n",
       "      <th>max</th>\n",
       "      <td>20,000.00</td>\n",
       "      <td>NaN</td>\n",
       "      <td>9,999.00</td>\n",
       "      <td>NaN</td>\n",
       "      <td>20,000.00</td>\n",
       "      <td>NaN</td>\n",
       "      <td>150,000.00</td>\n",
       "      <td>12.00</td>\n",
       "      <td>NaN</td>\n",
       "      <td>NaN</td>\n",
       "      <td>NaN</td>\n",
       "    </tr>\n",
       "  </tbody>\n",
       "</table>\n",
       "</div>"
      ],
      "text/plain": [
       "            Price VehicleType  RegistrationYear Gearbox      Power   Model  \\\n",
       "count  326,826.00      291577        326,826.00  309248 326,826.00  308294   \n",
       "unique        NaN           8               NaN       2        NaN     250   \n",
       "top           NaN       sedan               NaN  manual        NaN    golf   \n",
       "freq          NaN       83602               NaN  248135        NaN   26444   \n",
       "mean     4,403.75         NaN          2,004.23     NaN     110.24     NaN   \n",
       "std      4,518.21         NaN             91.12     NaN     195.89     NaN   \n",
       "min          0.00         NaN          1,000.00     NaN       0.00     NaN   \n",
       "25%      1,000.00         NaN          1,999.00     NaN      69.00     NaN   \n",
       "50%      2,700.00         NaN          2,003.00     NaN     105.00     NaN   \n",
       "75%      6,350.00         NaN          2,008.00     NaN     141.00     NaN   \n",
       "max     20,000.00         NaN          9,999.00     NaN  20,000.00     NaN   \n",
       "\n",
       "        Kilometer  RegistrationMonth FuelType       Brand Repaired  \n",
       "count  326,826.00         326,826.00   295704      326826   260399  \n",
       "unique        NaN                NaN        7          40        2  \n",
       "top           NaN                NaN   petrol  volkswagen       no  \n",
       "freq          NaN                NaN   200260       69992   225970  \n",
       "mean   128,144.07               5.70      NaN         NaN      NaN  \n",
       "std     37,947.66               3.72      NaN         NaN      NaN  \n",
       "min      5,000.00               0.00      NaN         NaN      NaN  \n",
       "25%    125,000.00               3.00      NaN         NaN      NaN  \n",
       "50%    150,000.00               6.00      NaN         NaN      NaN  \n",
       "75%    150,000.00               9.00      NaN         NaN      NaN  \n",
       "max    150,000.00              12.00      NaN         NaN      NaN  "
      ]
     },
     "metadata": {},
     "output_type": "display_data"
    },
    {
     "data": {
      "image/png": "[encoded data removed]",
      "text/plain": [
       "<Figure size 2000x500 with 5 Axes>"
      ]
     },
     "metadata": {},
     "output_type": "display_data"
    }
   ],
   "source": [
    "avto_df = pd.read_csv('autos.csv', sep =',', decimal='.')\n",
    "avto_df.info()\n",
    "display(avto_df.head())\n",
    "\n",
    "# удаляем столбцы с \"технической информацией\"\n",
    "del_col = ['DateCrawled','DateCreated','NumberOfPictures','PostalCode','LastSeen']\n",
    "avto_df = avto_df.drop(del_col, axis=1).copy()\n",
    "\n",
    "# удаляем дубликаты\n",
    "avto_df = avto_df.drop_duplicates()\n",
    "\n",
    "display(avto_df.describe(include = \"all\"))\n",
    "\n",
    "avto_df1 = avto_df.copy()\n",
    "avto_df.hist(figsize=(20, 5), layout = (-1, 5))\n",
    "plt.show()"
   ]
  },
  {
   "cell_type": "markdown",
   "metadata": {},
   "source": [
    "### Первичные выводы:\n",
    " - наблюдается аномалии в годе выпуска, мощности\n",
    " - месяцев 13, вместо 12\n",
    " - нужно исследовать авто , стоиостью около 0\n",
    " - нужно исследовать авто , мощностью около 0\n",
    " - исследовать значения года больше текущего\n",
    " - исследовать мощность более \"реальной\" (650 л.с.)"
   ]
  },
  {
   "cell_type": "code",
   "execution_count": 4,
   "metadata": {},
   "outputs": [
    {
     "data": {
      "text/plain": [
       "Price                    0\n",
       "VehicleType           4250\n",
       "RegistrationYear         0\n",
       "Gearbox               4430\n",
       "Power                    0\n",
       "Model                 9030\n",
       "Kilometer                0\n",
       "RegistrationMonth        0\n",
       "FuelType             12056\n",
       "Brand                    0\n",
       "Repaired             36628\n",
       "dtype: int64"
      ]
     },
     "metadata": {},
     "output_type": "display_data"
    },
    {
     "name": "stdout",
     "output_type": "stream",
     "text": [
      "<class 'pandas.core.frame.DataFrame'>\n",
      "Index: 261173 entries, 1 to 354368\n",
      "Data columns (total 11 columns):\n",
      " #   Column             Non-Null Count   Dtype \n",
      "---  ------             --------------   ----- \n",
      " 0   Price              261173 non-null  int64 \n",
      " 1   VehicleType        256923 non-null  object\n",
      " 2   RegistrationYear   261173 non-null  int64 \n",
      " 3   Gearbox            256743 non-null  object\n",
      " 4   Power              261173 non-null  int64 \n",
      " 5   Model              252143 non-null  object\n",
      " 6   Kilometer          261173 non-null  int64 \n",
      " 7   RegistrationMonth  261173 non-null  int64 \n",
      " 8   FuelType           249117 non-null  object\n",
      " 9   Brand              261173 non-null  object\n",
      " 10  Repaired           224545 non-null  object\n",
      "dtypes: int64(5), object(6)\n",
      "memory usage: 23.9+ MB\n"
     ]
    },
    {
     "data": {
      "text/html": [
       "<div>\n",
       "<style scoped>\n",
       "    .dataframe tbody tr th:only-of-type {\n",
       "        vertical-align: middle;\n",
       "    }\n",
       "\n",
       "    .dataframe tbody tr th {\n",
       "        vertical-align: top;\n",
       "    }\n",
       "\n",
       "    .dataframe thead th {\n",
       "        text-align: right;\n",
       "    }\n",
       "</style>\n",
       "<table border=\"1\" class=\"dataframe\">\n",
       "  <thead>\n",
       "    <tr style=\"text-align: right;\">\n",
       "      <th></th>\n",
       "      <th>Price</th>\n",
       "      <th>VehicleType</th>\n",
       "      <th>RegistrationYear</th>\n",
       "      <th>Gearbox</th>\n",
       "      <th>Power</th>\n",
       "      <th>Model</th>\n",
       "      <th>Kilometer</th>\n",
       "      <th>RegistrationMonth</th>\n",
       "      <th>FuelType</th>\n",
       "      <th>Brand</th>\n",
       "      <th>Repaired</th>\n",
       "    </tr>\n",
       "  </thead>\n",
       "  <tbody>\n",
       "    <tr>\n",
       "      <th>1</th>\n",
       "      <td>18300</td>\n",
       "      <td>coupe</td>\n",
       "      <td>2011</td>\n",
       "      <td>manual</td>\n",
       "      <td>190</td>\n",
       "      <td>NaN</td>\n",
       "      <td>125000</td>\n",
       "      <td>5</td>\n",
       "      <td>gasoline</td>\n",
       "      <td>audi</td>\n",
       "      <td>yes</td>\n",
       "    </tr>\n",
       "    <tr>\n",
       "      <th>2</th>\n",
       "      <td>9800</td>\n",
       "      <td>suv</td>\n",
       "      <td>2004</td>\n",
       "      <td>auto</td>\n",
       "      <td>163</td>\n",
       "      <td>grand</td>\n",
       "      <td>125000</td>\n",
       "      <td>8</td>\n",
       "      <td>gasoline</td>\n",
       "      <td>jeep</td>\n",
       "      <td>NaN</td>\n",
       "    </tr>\n",
       "    <tr>\n",
       "      <th>3</th>\n",
       "      <td>1500</td>\n",
       "      <td>small</td>\n",
       "      <td>2001</td>\n",
       "      <td>manual</td>\n",
       "      <td>75</td>\n",
       "      <td>golf</td>\n",
       "      <td>150000</td>\n",
       "      <td>6</td>\n",
       "      <td>petrol</td>\n",
       "      <td>volkswagen</td>\n",
       "      <td>no</td>\n",
       "    </tr>\n",
       "    <tr>\n",
       "      <th>4</th>\n",
       "      <td>3600</td>\n",
       "      <td>small</td>\n",
       "      <td>2008</td>\n",
       "      <td>manual</td>\n",
       "      <td>69</td>\n",
       "      <td>fabia</td>\n",
       "      <td>90000</td>\n",
       "      <td>7</td>\n",
       "      <td>gasoline</td>\n",
       "      <td>skoda</td>\n",
       "      <td>no</td>\n",
       "    </tr>\n",
       "    <tr>\n",
       "      <th>5</th>\n",
       "      <td>650</td>\n",
       "      <td>sedan</td>\n",
       "      <td>1995</td>\n",
       "      <td>manual</td>\n",
       "      <td>102</td>\n",
       "      <td>3er</td>\n",
       "      <td>150000</td>\n",
       "      <td>10</td>\n",
       "      <td>petrol</td>\n",
       "      <td>bmw</td>\n",
       "      <td>yes</td>\n",
       "    </tr>\n",
       "  </tbody>\n",
       "</table>\n",
       "</div>"
      ],
      "text/plain": [
       "   Price VehicleType  RegistrationYear Gearbox  Power  Model  Kilometer  \\\n",
       "1  18300       coupe              2011  manual    190    NaN     125000   \n",
       "2   9800         suv              2004    auto    163  grand     125000   \n",
       "3   1500       small              2001  manual     75   golf     150000   \n",
       "4   3600       small              2008  manual     69  fabia      90000   \n",
       "5    650       sedan              1995  manual    102    3er     150000   \n",
       "\n",
       "   RegistrationMonth  FuelType       Brand Repaired  \n",
       "1                  5  gasoline        audi      yes  \n",
       "2                  8  gasoline        jeep      NaN  \n",
       "3                  6    petrol  volkswagen       no  \n",
       "4                  7  gasoline       skoda       no  \n",
       "5                 10    petrol         bmw      yes  "
      ]
     },
     "execution_count": 4,
     "metadata": {},
     "output_type": "execute_result"
    }
   ],
   "source": [
    "#произведем отчистку от нереалистичных данных\n",
    "\n",
    "# удалим авто с RegistrationYear <1986 и > 2016\n",
    "avto_df = avto_df1.copy()\n",
    "avto_df = avto_df[(avto_df['RegistrationYear']>1986) & (avto_df['RegistrationYear']<2016)].copy()\n",
    "\n",
    "# удалим авто с мощность <50 и >650\n",
    "avto_df = avto_df[(avto_df['Power']>10) & (avto_df['Power']<650)].copy()\n",
    "\n",
    "# удалим авто с ценой  <50\n",
    "avto_df = avto_df[(avto_df['Price']>100)].copy()\n",
    "\n",
    "# объеденим признак \"по газу\"\n",
    "avto_df = avto_df.replace('lpg', 'gasoline').copy()\n",
    "avto_df = avto_df.replace('cng', 'gasoline').copy()\n",
    "\n",
    "display(avto_df.isnull().sum())\n",
    "avto_df.info()\n",
    "avto_df.head()"
   ]
  },
  {
   "cell_type": "code",
   "execution_count": 5,
   "metadata": {
    "scrolled": true
   },
   "outputs": [
    {
     "data": {
      "text/plain": [
       "VehicleType\n",
       "sedan          74283\n",
       "small          63107\n",
       "wagon          53889\n",
       "bus            24112\n",
       "convertible    16786\n",
       "coupe          12814\n",
       "suv             9748\n",
       "NaN             4250\n",
       "other           2184\n",
       "Name: count, dtype: int64"
      ]
     },
     "metadata": {},
     "output_type": "display_data"
    },
    {
     "data": {
      "text/plain": [
       "Gearbox\n",
       "manual    204569\n",
       "auto       52174\n",
       "NaN         4430\n",
       "Name: count, dtype: int64"
      ]
     },
     "metadata": {},
     "output_type": "display_data"
    },
    {
     "data": {
      "text/plain": [
       "Model\n",
       "golf                  21279\n",
       "other                 17235\n",
       "3er                   15528\n",
       "polo                   9277\n",
       "NaN                    9030\n",
       "                      ...  \n",
       "i3                        5\n",
       "samara                    5\n",
       "kalina                    4\n",
       "rangerover                2\n",
       "range_rover_evoque        1\n",
       "Name: count, Length: 248, dtype: int64"
      ]
     },
     "metadata": {},
     "output_type": "display_data"
    },
    {
     "data": {
      "text/plain": [
       "FuelType\n",
       "petrol      165496\n",
       "gasoline     83305\n",
       "NaN          12056\n",
       "hybrid         192\n",
       "other           65\n",
       "electric        59\n",
       "Name: count, dtype: int64"
      ]
     },
     "metadata": {},
     "output_type": "display_data"
    },
    {
     "data": {
      "text/plain": [
       "Repaired\n",
       "no     198864\n",
       "NaN     36628\n",
       "yes     25681\n",
       "Name: count, dtype: int64"
      ]
     },
     "metadata": {},
     "output_type": "display_data"
    }
   ],
   "source": [
    "for col in avto_df.columns:\n",
    "    if avto_df[col].isnull().sum()!=0 :\n",
    "        display(avto_df[col].value_counts(dropna=False)) "
   ]
  },
  {
   "cell_type": "code",
   "execution_count": 6,
   "metadata": {},
   "outputs": [
    {
     "name": "stdout",
     "output_type": "stream",
     "text": [
      "<class 'pandas.core.frame.DataFrame'>\n",
      "Index: 261173 entries, 1 to 354368\n",
      "Data columns (total 11 columns):\n",
      " #   Column             Non-Null Count   Dtype \n",
      "---  ------             --------------   ----- \n",
      " 0   Price              261173 non-null  int64 \n",
      " 1   VehicleType        261173 non-null  object\n",
      " 2   RegistrationYear   261173 non-null  int64 \n",
      " 3   Gearbox            256743 non-null  object\n",
      " 4   Power              261173 non-null  int64 \n",
      " 5   Model              261173 non-null  object\n",
      " 6   Kilometer          261173 non-null  int64 \n",
      " 7   RegistrationMonth  261173 non-null  int64 \n",
      " 8   FuelType           261173 non-null  object\n",
      " 9   Brand              261173 non-null  object\n",
      " 10  Repaired           224545 non-null  object\n",
      "dtypes: int64(5), object(6)\n",
      "memory usage: 23.9+ MB\n"
     ]
    },
    {
     "data": {
      "text/html": [
       "<div>\n",
       "<style scoped>\n",
       "    .dataframe tbody tr th:only-of-type {\n",
       "        vertical-align: middle;\n",
       "    }\n",
       "\n",
       "    .dataframe tbody tr th {\n",
       "        vertical-align: top;\n",
       "    }\n",
       "\n",
       "    .dataframe thead th {\n",
       "        text-align: right;\n",
       "    }\n",
       "</style>\n",
       "<table border=\"1\" class=\"dataframe\">\n",
       "  <thead>\n",
       "    <tr style=\"text-align: right;\">\n",
       "      <th></th>\n",
       "      <th>Price</th>\n",
       "      <th>VehicleType</th>\n",
       "      <th>RegistrationYear</th>\n",
       "      <th>Gearbox</th>\n",
       "      <th>Power</th>\n",
       "      <th>Model</th>\n",
       "      <th>Kilometer</th>\n",
       "      <th>RegistrationMonth</th>\n",
       "      <th>FuelType</th>\n",
       "      <th>Brand</th>\n",
       "      <th>Repaired</th>\n",
       "    </tr>\n",
       "  </thead>\n",
       "  <tbody>\n",
       "    <tr>\n",
       "      <th>1</th>\n",
       "      <td>18300</td>\n",
       "      <td>coupe</td>\n",
       "      <td>2011</td>\n",
       "      <td>1</td>\n",
       "      <td>190</td>\n",
       "      <td>other</td>\n",
       "      <td>125000</td>\n",
       "      <td>5</td>\n",
       "      <td>gasoline</td>\n",
       "      <td>audi</td>\n",
       "      <td>1</td>\n",
       "    </tr>\n",
       "    <tr>\n",
       "      <th>2</th>\n",
       "      <td>9800</td>\n",
       "      <td>suv</td>\n",
       "      <td>2004</td>\n",
       "      <td>0</td>\n",
       "      <td>163</td>\n",
       "      <td>grand</td>\n",
       "      <td>125000</td>\n",
       "      <td>8</td>\n",
       "      <td>gasoline</td>\n",
       "      <td>jeep</td>\n",
       "      <td>NaN</td>\n",
       "    </tr>\n",
       "    <tr>\n",
       "      <th>3</th>\n",
       "      <td>1500</td>\n",
       "      <td>small</td>\n",
       "      <td>2001</td>\n",
       "      <td>1</td>\n",
       "      <td>75</td>\n",
       "      <td>golf</td>\n",
       "      <td>150000</td>\n",
       "      <td>6</td>\n",
       "      <td>petrol</td>\n",
       "      <td>volkswagen</td>\n",
       "      <td>0</td>\n",
       "    </tr>\n",
       "    <tr>\n",
       "      <th>4</th>\n",
       "      <td>3600</td>\n",
       "      <td>small</td>\n",
       "      <td>2008</td>\n",
       "      <td>1</td>\n",
       "      <td>69</td>\n",
       "      <td>fabia</td>\n",
       "      <td>90000</td>\n",
       "      <td>7</td>\n",
       "      <td>gasoline</td>\n",
       "      <td>skoda</td>\n",
       "      <td>0</td>\n",
       "    </tr>\n",
       "    <tr>\n",
       "      <th>5</th>\n",
       "      <td>650</td>\n",
       "      <td>sedan</td>\n",
       "      <td>1995</td>\n",
       "      <td>1</td>\n",
       "      <td>102</td>\n",
       "      <td>3er</td>\n",
       "      <td>150000</td>\n",
       "      <td>10</td>\n",
       "      <td>petrol</td>\n",
       "      <td>bmw</td>\n",
       "      <td>1</td>\n",
       "    </tr>\n",
       "  </tbody>\n",
       "</table>\n",
       "</div>"
      ],
      "text/plain": [
       "   Price VehicleType  RegistrationYear Gearbox  Power  Model  Kilometer  \\\n",
       "1  18300       coupe              2011       1    190  other     125000   \n",
       "2   9800         suv              2004       0    163  grand     125000   \n",
       "3   1500       small              2001       1     75   golf     150000   \n",
       "4   3600       small              2008       1     69  fabia      90000   \n",
       "5    650       sedan              1995       1    102    3er     150000   \n",
       "\n",
       "   RegistrationMonth  FuelType       Brand Repaired  \n",
       "1                  5  gasoline        audi        1  \n",
       "2                  8  gasoline        jeep      NaN  \n",
       "3                  6    petrol  volkswagen        0  \n",
       "4                  7  gasoline       skoda        0  \n",
       "5                 10    petrol         bmw        1  "
      ]
     },
     "execution_count": 6,
     "metadata": {},
     "output_type": "execute_result"
    }
   ],
   "source": [
    "# по итогу анализа можно сделать вывод, что в некоторых оисательных свойствах присутствует категоря \"other\" , котороя не столь информтивна,\n",
    "# поэтому можем значения NaN прировнять  ней. В случае же с Gearbox и Repaired применим inputer \n",
    "\n",
    "avto_df['FuelType'] = avto_df['FuelType'].fillna('other').copy()\n",
    "avto_df['VehicleType'] = avto_df['VehicleType'].fillna('other').copy()\n",
    "avto_df['Model'] = avto_df['Model'].fillna('other').copy()\n",
    "\n",
    "bul(avto_df,'Gearbox','manual','auto')\n",
    "bul(avto_df,'Repaired','yes','no')\n",
    "\n",
    "avto_df.info()\n",
    "avto_df.head()"
   ]
  },
  {
   "cell_type": "code",
   "execution_count": 7,
   "metadata": {},
   "outputs": [
    {
     "name": "stdout",
     "output_type": "stream",
     "text": [
      "<class 'pandas.core.frame.DataFrame'>\n",
      "Index: 257866 entries, 1 to 354368\n",
      "Data columns (total 11 columns):\n",
      " #   Column             Non-Null Count   Dtype  \n",
      "---  ------             --------------   -----  \n",
      " 0   Price              257866 non-null  int64  \n",
      " 1   VehicleType        257866 non-null  object \n",
      " 2   RegistrationYear   257866 non-null  int64  \n",
      " 3   Gearbox            257866 non-null  float64\n",
      " 4   Power              257866 non-null  int64  \n",
      " 5   Model              257866 non-null  object \n",
      " 6   Kilometer          257866 non-null  int64  \n",
      " 7   RegistrationMonth  257866 non-null  int64  \n",
      " 8   FuelType           257866 non-null  object \n",
      " 9   Brand              257866 non-null  object \n",
      " 10  Repaired           257866 non-null  float64\n",
      "dtypes: float64(2), int64(5), object(4)\n",
      "memory usage: 23.6+ MB\n"
     ]
    }
   ],
   "source": [
    "imput = IterativeImputer(random_state=RANDOM_STATE)\n",
    "avto_df['Gearbox'] = imput.fit_transform(avto_df[['Gearbox']])\n",
    "avto_df['Repaired'] = imput.fit_transform(avto_df[['Repaired']]).copy()\n",
    "\n",
    "# \n",
    "avto_df['Gearbox'] = round(avto_df['Gearbox'])\n",
    "avto_df['Repaired'] = round(avto_df['Repaired'])\n",
    "avto_df = avto_df.drop_duplicates().copy()\n",
    "avto_df.info()"
   ]
  },
  {
   "cell_type": "code",
   "execution_count": 8,
   "metadata": {},
   "outputs": [
    {
     "data": {
      "application/vnd.jupyter.widget-view+json": {
       "model_id": "2ce9768a98d34201a7ac7cac248d0560",
       "version_major": 2,
       "version_minor": 0
      },
      "text/plain": [
       "                                             |                                             | [  0%]   00:00 ->…"
      ]
     },
     "metadata": {},
     "output_type": "display_data"
    },
    {
     "name": "stdout",
     "output_type": "stream",
     "text": [
      "Report report.html was generated! NOTEBOOK/COLAB USERS: the web browser MAY not pop up, regardless, the report IS saved in your notebook/colab files.\n"
     ]
    }
   ],
   "source": [
    "import sweetviz as sv\n",
    "analyze_report = sv.analyze(avto_df)\n",
    "analyze_report.show_html('report.html', open_browser=True)\n"
   ]
  },
  {
   "cell_type": "code",
   "execution_count": 9,
   "metadata": {},
   "outputs": [
    {
     "name": "stdout",
     "output_type": "stream",
     "text": [
      "Imported v0.1.905. Please call AutoViz in this sequence:\n",
      "    AV = AutoViz_Class()\n",
      "    %matplotlib inline\n",
      "    dfte = AV.AutoViz(filename, sep=',', depVar='', dfte=None, header=0, verbose=1, lowess=False,\n",
      "               chart_format='svg',max_rows_analyzed=150000,max_cols_analyzed=30, save_plot_dir=None)\n",
      "    Since nrows is smaller than dataset, loading random sample of 150000 rows into pandas...\n",
      "Shape of your Data Set loaded: (150000, 11)\n",
      "#######################################################################################\n",
      "######################## C L A S S I F Y I N G  V A R I A B L E S  ####################\n",
      "#######################################################################################\n",
      "Classifying variables in data set...\n",
      "    Number of Numeric Columns =  0\n",
      "    Number of Integer-Categorical Columns =  4\n",
      "    Number of String-Categorical Columns =  3\n",
      "    Number of Factor-Categorical Columns =  0\n",
      "    Number of String-Boolean Columns =  0\n",
      "    Number of Numeric-Boolean Columns =  2\n",
      "    Number of Discrete String Columns =  1\n",
      "    Number of NLP String Columns =  0\n",
      "    Number of Date Time Columns =  1\n",
      "    Number of ID Columns =  0\n",
      "    Number of Columns to Delete =  0\n",
      "    11 Predictors classified...\n",
      "        No variables removed since no ID or low-information variables found in data set\n",
      "Since Number of Rows in data 150000 exceeds maximum, randomly sampling 150000 rows for EDA...\n",
      "To fix these data quality issues in the dataset, import FixDQ from autoviz...\n",
      "    All variables classified into correct types.\n"
     ]
    },
    {
     "data": {
      "text/html": [
       "<style type=\"text/css\">\n",
       "#T_c4eb4_row0_col0, #T_c4eb4_row0_col3, #T_c4eb4_row0_col4, #T_c4eb4_row0_col5, #T_c4eb4_row1_col0, #T_c4eb4_row1_col3, #T_c4eb4_row1_col4, #T_c4eb4_row1_col5, #T_c4eb4_row2_col0, #T_c4eb4_row2_col3, #T_c4eb4_row2_col4, #T_c4eb4_row2_col5, #T_c4eb4_row3_col0, #T_c4eb4_row3_col3, #T_c4eb4_row3_col4, #T_c4eb4_row3_col5, #T_c4eb4_row4_col0, #T_c4eb4_row4_col3, #T_c4eb4_row4_col4, #T_c4eb4_row4_col5, #T_c4eb4_row5_col0, #T_c4eb4_row5_col3, #T_c4eb4_row5_col4, #T_c4eb4_row5_col5, #T_c4eb4_row6_col0, #T_c4eb4_row6_col3, #T_c4eb4_row6_col4, #T_c4eb4_row6_col5, #T_c4eb4_row7_col0, #T_c4eb4_row7_col3, #T_c4eb4_row7_col4, #T_c4eb4_row7_col5, #T_c4eb4_row8_col0, #T_c4eb4_row8_col3, #T_c4eb4_row8_col4, #T_c4eb4_row8_col5, #T_c4eb4_row9_col0, #T_c4eb4_row9_col3, #T_c4eb4_row9_col4, #T_c4eb4_row9_col5, #T_c4eb4_row10_col0, #T_c4eb4_row10_col3, #T_c4eb4_row10_col4, #T_c4eb4_row10_col5 {\n",
       "  font-family: Segoe UI;\n",
       "}\n",
       "#T_c4eb4_row0_col1, #T_c4eb4_row1_col1, #T_c4eb4_row1_col2, #T_c4eb4_row2_col1, #T_c4eb4_row2_col2, #T_c4eb4_row3_col1, #T_c4eb4_row3_col2, #T_c4eb4_row4_col1, #T_c4eb4_row4_col2, #T_c4eb4_row5_col1, #T_c4eb4_row5_col2, #T_c4eb4_row6_col1, #T_c4eb4_row6_col2, #T_c4eb4_row7_col1, #T_c4eb4_row7_col2, #T_c4eb4_row8_col1, #T_c4eb4_row8_col2, #T_c4eb4_row9_col1, #T_c4eb4_row9_col2, #T_c4eb4_row10_col1, #T_c4eb4_row10_col2 {\n",
       "  background-color: #fff5f0;\n",
       "  color: #000000;\n",
       "  font-family: Segoe UI;\n",
       "}\n",
       "#T_c4eb4_row0_col2 {\n",
       "  background-color: #67000d;\n",
       "  color: #f1f1f1;\n",
       "  font-family: Segoe UI;\n",
       "}\n",
       "</style>\n",
       "<table id=\"T_c4eb4\">\n",
       "  <thead>\n",
       "    <tr>\n",
       "      <th class=\"blank level0\" >&nbsp;</th>\n",
       "      <th id=\"T_c4eb4_level0_col0\" class=\"col_heading level0 col0\" >Data Type</th>\n",
       "      <th id=\"T_c4eb4_level0_col1\" class=\"col_heading level0 col1\" >Missing Values%</th>\n",
       "      <th id=\"T_c4eb4_level0_col2\" class=\"col_heading level0 col2\" >Unique Values%</th>\n",
       "      <th id=\"T_c4eb4_level0_col3\" class=\"col_heading level0 col3\" >Minimum Value</th>\n",
       "      <th id=\"T_c4eb4_level0_col4\" class=\"col_heading level0 col4\" >Maximum Value</th>\n",
       "      <th id=\"T_c4eb4_level0_col5\" class=\"col_heading level0 col5\" >DQ Issue</th>\n",
       "    </tr>\n",
       "  </thead>\n",
       "  <tbody>\n",
       "    <tr>\n",
       "      <th id=\"T_c4eb4_level0_row0\" class=\"row_heading level0 row0\" >Price</th>\n",
       "      <td id=\"T_c4eb4_row0_col0\" class=\"data row0 col0\" >int64</td>\n",
       "      <td id=\"T_c4eb4_row0_col1\" class=\"data row0 col1\" >0.000000</td>\n",
       "      <td id=\"T_c4eb4_row0_col2\" class=\"data row0 col2\" >1</td>\n",
       "      <td id=\"T_c4eb4_row0_col3\" class=\"data row0 col3\" >101.000000</td>\n",
       "      <td id=\"T_c4eb4_row0_col4\" class=\"data row0 col4\" >20000.000000</td>\n",
       "      <td id=\"T_c4eb4_row0_col5\" class=\"data row0 col5\" >Column has 7102 outliers greater than upper bound (15427.50) or lower than lower bound(-7048.50). Cap them or remove them.</td>\n",
       "    </tr>\n",
       "    <tr>\n",
       "      <th id=\"T_c4eb4_level0_row1\" class=\"row_heading level0 row1\" >VehicleType</th>\n",
       "      <td id=\"T_c4eb4_row1_col0\" class=\"data row1 col0\" >object</td>\n",
       "      <td id=\"T_c4eb4_row1_col1\" class=\"data row1 col1\" >0.000000</td>\n",
       "      <td id=\"T_c4eb4_row1_col2\" class=\"data row1 col2\" >0</td>\n",
       "      <td id=\"T_c4eb4_row1_col3\" class=\"data row1 col3\" ></td>\n",
       "      <td id=\"T_c4eb4_row1_col4\" class=\"data row1 col4\" ></td>\n",
       "      <td id=\"T_c4eb4_row1_col5\" class=\"data row1 col5\" >No issue</td>\n",
       "    </tr>\n",
       "    <tr>\n",
       "      <th id=\"T_c4eb4_level0_row2\" class=\"row_heading level0 row2\" >RegistrationYear</th>\n",
       "      <td id=\"T_c4eb4_row2_col0\" class=\"data row2 col0\" >int64</td>\n",
       "      <td id=\"T_c4eb4_row2_col1\" class=\"data row2 col1\" >0.000000</td>\n",
       "      <td id=\"T_c4eb4_row2_col2\" class=\"data row2 col2\" >0</td>\n",
       "      <td id=\"T_c4eb4_row2_col3\" class=\"data row2 col3\" >1987.000000</td>\n",
       "      <td id=\"T_c4eb4_row2_col4\" class=\"data row2 col4\" >2015.000000</td>\n",
       "      <td id=\"T_c4eb4_row2_col5\" class=\"data row2 col5\" >Possible date-time colum: transform before modeling step.</td>\n",
       "    </tr>\n",
       "    <tr>\n",
       "      <th id=\"T_c4eb4_level0_row3\" class=\"row_heading level0 row3\" >Gearbox</th>\n",
       "      <td id=\"T_c4eb4_row3_col0\" class=\"data row3 col0\" >float64</td>\n",
       "      <td id=\"T_c4eb4_row3_col1\" class=\"data row3 col1\" >0.000000</td>\n",
       "      <td id=\"T_c4eb4_row3_col2\" class=\"data row3 col2\" >0</td>\n",
       "      <td id=\"T_c4eb4_row3_col3\" class=\"data row3 col3\" >0.000000</td>\n",
       "      <td id=\"T_c4eb4_row3_col4\" class=\"data row3 col4\" >1.000000</td>\n",
       "      <td id=\"T_c4eb4_row3_col5\" class=\"data row3 col5\" >No issue</td>\n",
       "    </tr>\n",
       "    <tr>\n",
       "      <th id=\"T_c4eb4_level0_row4\" class=\"row_heading level0 row4\" >Power</th>\n",
       "      <td id=\"T_c4eb4_row4_col0\" class=\"data row4 col0\" >int64</td>\n",
       "      <td id=\"T_c4eb4_row4_col1\" class=\"data row4 col1\" >0.000000</td>\n",
       "      <td id=\"T_c4eb4_row4_col2\" class=\"data row4 col2\" >0</td>\n",
       "      <td id=\"T_c4eb4_row4_col3\" class=\"data row4 col3\" >11.000000</td>\n",
       "      <td id=\"T_c4eb4_row4_col4\" class=\"data row4 col4\" >645.000000</td>\n",
       "      <td id=\"T_c4eb4_row4_col5\" class=\"data row4 col5\" >Column has 3383 outliers greater than upper bound (255.00) or lower than lower bound(-25.00). Cap them or remove them.</td>\n",
       "    </tr>\n",
       "    <tr>\n",
       "      <th id=\"T_c4eb4_level0_row5\" class=\"row_heading level0 row5\" >Model</th>\n",
       "      <td id=\"T_c4eb4_row5_col0\" class=\"data row5 col0\" >object</td>\n",
       "      <td id=\"T_c4eb4_row5_col1\" class=\"data row5 col1\" >0.000000</td>\n",
       "      <td id=\"T_c4eb4_row5_col2\" class=\"data row5 col2\" >0</td>\n",
       "      <td id=\"T_c4eb4_row5_col3\" class=\"data row5 col3\" ></td>\n",
       "      <td id=\"T_c4eb4_row5_col4\" class=\"data row5 col4\" ></td>\n",
       "      <td id=\"T_c4eb4_row5_col5\" class=\"data row5 col5\" >Possible high cardinality column with 244 unique values: Use hash encoding or text embedding to reduce dimension.</td>\n",
       "    </tr>\n",
       "    <tr>\n",
       "      <th id=\"T_c4eb4_level0_row6\" class=\"row_heading level0 row6\" >Kilometer</th>\n",
       "      <td id=\"T_c4eb4_row6_col0\" class=\"data row6 col0\" >int64</td>\n",
       "      <td id=\"T_c4eb4_row6_col1\" class=\"data row6 col1\" >0.000000</td>\n",
       "      <td id=\"T_c4eb4_row6_col2\" class=\"data row6 col2\" >0</td>\n",
       "      <td id=\"T_c4eb4_row6_col3\" class=\"data row6 col3\" >5000.000000</td>\n",
       "      <td id=\"T_c4eb4_row6_col4\" class=\"data row6 col4\" >150000.000000</td>\n",
       "      <td id=\"T_c4eb4_row6_col5\" class=\"data row6 col5\" >Column has 22389 outliers greater than upper bound (187500.00) or lower than lower bound(87500.00). Cap them or remove them.</td>\n",
       "    </tr>\n",
       "    <tr>\n",
       "      <th id=\"T_c4eb4_level0_row7\" class=\"row_heading level0 row7\" >RegistrationMonth</th>\n",
       "      <td id=\"T_c4eb4_row7_col0\" class=\"data row7 col0\" >int64</td>\n",
       "      <td id=\"T_c4eb4_row7_col1\" class=\"data row7 col1\" >0.000000</td>\n",
       "      <td id=\"T_c4eb4_row7_col2\" class=\"data row7 col2\" >0</td>\n",
       "      <td id=\"T_c4eb4_row7_col3\" class=\"data row7 col3\" >0.000000</td>\n",
       "      <td id=\"T_c4eb4_row7_col4\" class=\"data row7 col4\" >12.000000</td>\n",
       "      <td id=\"T_c4eb4_row7_col5\" class=\"data row7 col5\" >No issue</td>\n",
       "    </tr>\n",
       "    <tr>\n",
       "      <th id=\"T_c4eb4_level0_row8\" class=\"row_heading level0 row8\" >FuelType</th>\n",
       "      <td id=\"T_c4eb4_row8_col0\" class=\"data row8 col0\" >object</td>\n",
       "      <td id=\"T_c4eb4_row8_col1\" class=\"data row8 col1\" >0.000000</td>\n",
       "      <td id=\"T_c4eb4_row8_col2\" class=\"data row8 col2\" >0</td>\n",
       "      <td id=\"T_c4eb4_row8_col3\" class=\"data row8 col3\" ></td>\n",
       "      <td id=\"T_c4eb4_row8_col4\" class=\"data row8 col4\" ></td>\n",
       "      <td id=\"T_c4eb4_row8_col5\" class=\"data row8 col5\" >2 rare categories: ['hybrid', 'electric']. Group them into a single category or drop the categories.</td>\n",
       "    </tr>\n",
       "    <tr>\n",
       "      <th id=\"T_c4eb4_level0_row9\" class=\"row_heading level0 row9\" >Brand</th>\n",
       "      <td id=\"T_c4eb4_row9_col0\" class=\"data row9 col0\" >object</td>\n",
       "      <td id=\"T_c4eb4_row9_col1\" class=\"data row9 col1\" >0.000000</td>\n",
       "      <td id=\"T_c4eb4_row9_col2\" class=\"data row9 col2\" >0</td>\n",
       "      <td id=\"T_c4eb4_row9_col3\" class=\"data row9 col3\" ></td>\n",
       "      <td id=\"T_c4eb4_row9_col4\" class=\"data row9 col4\" ></td>\n",
       "      <td id=\"T_c4eb4_row9_col5\" class=\"data row9 col5\" >22 rare categories: Too many to list. Group them into a single category or drop the categories.</td>\n",
       "    </tr>\n",
       "    <tr>\n",
       "      <th id=\"T_c4eb4_level0_row10\" class=\"row_heading level0 row10\" >Repaired</th>\n",
       "      <td id=\"T_c4eb4_row10_col0\" class=\"data row10 col0\" >float64</td>\n",
       "      <td id=\"T_c4eb4_row10_col1\" class=\"data row10 col1\" >0.000000</td>\n",
       "      <td id=\"T_c4eb4_row10_col2\" class=\"data row10 col2\" >0</td>\n",
       "      <td id=\"T_c4eb4_row10_col3\" class=\"data row10 col3\" >0.000000</td>\n",
       "      <td id=\"T_c4eb4_row10_col4\" class=\"data row10 col4\" >1.000000</td>\n",
       "      <td id=\"T_c4eb4_row10_col5\" class=\"data row10 col5\" >No issue</td>\n",
       "    </tr>\n",
       "  </tbody>\n",
       "</table>\n"
      ],
      "text/plain": [
       "<pandas.io.formats.style.Styler at 0x2a126bd3950>"
      ]
     },
     "metadata": {},
     "output_type": "display_data"
    },
    {
     "name": "stdout",
     "output_type": "stream",
     "text": [
      "Number of All Scatter Plots = 10\n",
      "RegistrationYear could not be indexed. Could not draw date_vars.\n"
     ]
    },
    {
     "name": "stderr",
     "output_type": "stream",
     "text": [
      "[nltk_data] Downloading collection 'popular'\n",
      "[nltk_data]    | \n",
      "[nltk_data]    | Downloading package cmudict to\n",
      "[nltk_data]    |     C:\\Users\\rs_mi\\AppData\\Roaming\\nltk_data...\n",
      "[nltk_data]    |   Package cmudict is already up-to-date!\n",
      "[nltk_data]    | Downloading package gazetteers to\n",
      "[nltk_data]    |     C:\\Users\\rs_mi\\AppData\\Roaming\\nltk_data...\n",
      "[nltk_data]    |   Package gazetteers is already up-to-date!\n",
      "[nltk_data]    | Downloading package genesis to\n",
      "[nltk_data]    |     C:\\Users\\rs_mi\\AppData\\Roaming\\nltk_data...\n",
      "[nltk_data]    |   Package genesis is already up-to-date!\n",
      "[nltk_data]    | Downloading package gutenberg to\n",
      "[nltk_data]    |     C:\\Users\\rs_mi\\AppData\\Roaming\\nltk_data...\n",
      "[nltk_data]    |   Package gutenberg is already up-to-date!\n",
      "[nltk_data]    | Downloading package inaugural to\n",
      "[nltk_data]    |     C:\\Users\\rs_mi\\AppData\\Roaming\\nltk_data...\n",
      "[nltk_data]    |   Package inaugural is already up-to-date!\n",
      "[nltk_data]    | Downloading package movie_reviews to\n",
      "[nltk_data]    |     C:\\Users\\rs_mi\\AppData\\Roaming\\nltk_data...\n",
      "[nltk_data]    |   Package movie_reviews is already up-to-date!\n",
      "[nltk_data]    | Downloading package names to\n",
      "[nltk_data]    |     C:\\Users\\rs_mi\\AppData\\Roaming\\nltk_data...\n",
      "[nltk_data]    |   Package names is already up-to-date!\n",
      "[nltk_data]    | Downloading package shakespeare to\n",
      "[nltk_data]    |     C:\\Users\\rs_mi\\AppData\\Roaming\\nltk_data...\n",
      "[nltk_data]    |   Package shakespeare is already up-to-date!\n",
      "[nltk_data]    | Downloading package stopwords to\n",
      "[nltk_data]    |     C:\\Users\\rs_mi\\AppData\\Roaming\\nltk_data...\n",
      "[nltk_data]    |   Package stopwords is already up-to-date!\n",
      "[nltk_data]    | Downloading package treebank to\n",
      "[nltk_data]    |     C:\\Users\\rs_mi\\AppData\\Roaming\\nltk_data...\n",
      "[nltk_data]    |   Package treebank is already up-to-date!\n",
      "[nltk_data]    | Downloading package twitter_samples to\n",
      "[nltk_data]    |     C:\\Users\\rs_mi\\AppData\\Roaming\\nltk_data...\n",
      "[nltk_data]    |   Package twitter_samples is already up-to-date!\n",
      "[nltk_data]    | Downloading package omw to\n",
      "[nltk_data]    |     C:\\Users\\rs_mi\\AppData\\Roaming\\nltk_data...\n",
      "[nltk_data]    |   Package omw is already up-to-date!\n",
      "[nltk_data]    | Downloading package omw-1.4 to\n",
      "[nltk_data]    |     C:\\Users\\rs_mi\\AppData\\Roaming\\nltk_data...\n",
      "[nltk_data]    |   Package omw-1.4 is already up-to-date!\n",
      "[nltk_data]    | Downloading package wordnet to\n",
      "[nltk_data]    |     C:\\Users\\rs_mi\\AppData\\Roaming\\nltk_data...\n",
      "[nltk_data]    |   Package wordnet is already up-to-date!\n",
      "[nltk_data]    | Downloading package wordnet2021 to\n",
      "[nltk_data]    |     C:\\Users\\rs_mi\\AppData\\Roaming\\nltk_data...\n",
      "[nltk_data]    |   Package wordnet2021 is already up-to-date!\n",
      "[nltk_data]    | Downloading package wordnet31 to\n",
      "[nltk_data]    |     C:\\Users\\rs_mi\\AppData\\Roaming\\nltk_data...\n",
      "[nltk_data]    |   Package wordnet31 is already up-to-date!\n",
      "[nltk_data]    | Downloading package wordnet_ic to\n",
      "[nltk_data]    |     C:\\Users\\rs_mi\\AppData\\Roaming\\nltk_data...\n",
      "[nltk_data]    |   Package wordnet_ic is already up-to-date!\n",
      "[nltk_data]    | Downloading package words to\n",
      "[nltk_data]    |     C:\\Users\\rs_mi\\AppData\\Roaming\\nltk_data...\n",
      "[nltk_data]    |   Package words is already up-to-date!\n",
      "[nltk_data]    | Downloading package maxent_ne_chunker to\n",
      "[nltk_data]    |     C:\\Users\\rs_mi\\AppData\\Roaming\\nltk_data...\n",
      "[nltk_data]    |   Package maxent_ne_chunker is already up-to-date!\n",
      "[nltk_data]    | Downloading package punkt to\n",
      "[nltk_data]    |     C:\\Users\\rs_mi\\AppData\\Roaming\\nltk_data...\n",
      "[nltk_data]    |   Package punkt is already up-to-date!\n",
      "[nltk_data]    | Downloading package snowball_data to\n",
      "[nltk_data]    |     C:\\Users\\rs_mi\\AppData\\Roaming\\nltk_data...\n",
      "[nltk_data]    |   Package snowball_data is already up-to-date!\n",
      "[nltk_data]    | Downloading package averaged_perceptron_tagger to\n",
      "[nltk_data]    |     C:\\Users\\rs_mi\\AppData\\Roaming\\nltk_data...\n",
      "[nltk_data]    |   Package averaged_perceptron_tagger is already up-\n",
      "[nltk_data]    |       to-date!\n",
      "[nltk_data]    | \n",
      "[nltk_data]  Done downloading collection popular\n"
     ]
    },
    {
     "name": "stdout",
     "output_type": "stream",
     "text": [
      "All Plots done\n",
      "Time to run AutoViz = 43 seconds \n",
      "\n",
      " ###################### AUTO VISUALIZATION Completed ########################\n"
     ]
    },
    {
     "data": {
      "text/html": [
       "<div>\n",
       "<style scoped>\n",
       "    .dataframe tbody tr th:only-of-type {\n",
       "        vertical-align: middle;\n",
       "    }\n",
       "\n",
       "    .dataframe tbody tr th {\n",
       "        vertical-align: top;\n",
       "    }\n",
       "\n",
       "    .dataframe thead th {\n",
       "        text-align: right;\n",
       "    }\n",
       "</style>\n",
       "<table border=\"1\" class=\"dataframe\">\n",
       "  <thead>\n",
       "    <tr style=\"text-align: center;\">\n",
       "      <th></th>\n",
       "      <th>Price</th>\n",
       "      <th>VehicleType</th>\n",
       "      <th>RegistrationYear</th>\n",
       "      <th>Gearbox</th>\n",
       "      <th>Power</th>\n",
       "      <th>Model</th>\n",
       "      <th>Kilometer</th>\n",
       "      <th>RegistrationMonth</th>\n",
       "      <th>FuelType</th>\n",
       "      <th>Brand</th>\n",
       "      <th>Repaired</th>\n",
       "    </tr>\n",
       "  </thead>\n",
       "  <tbody>\n",
       "    <tr>\n",
       "      <th>326148</th>\n",
       "      <td>750</td>\n",
       "      <td>small</td>\n",
       "      <td>2000</td>\n",
       "      <td>1.00</td>\n",
       "      <td>60</td>\n",
       "      <td>other</td>\n",
       "      <td>100000</td>\n",
       "      <td>9</td>\n",
       "      <td>petrol</td>\n",
       "      <td>citroen</td>\n",
       "      <td>1.00</td>\n",
       "    </tr>\n",
       "    <tr>\n",
       "      <th>283655</th>\n",
       "      <td>1700</td>\n",
       "      <td>other</td>\n",
       "      <td>1998</td>\n",
       "      <td>1.00</td>\n",
       "      <td>125</td>\n",
       "      <td>a3</td>\n",
       "      <td>150000</td>\n",
       "      <td>3</td>\n",
       "      <td>petrol</td>\n",
       "      <td>audi</td>\n",
       "      <td>0.00</td>\n",
       "    </tr>\n",
       "    <tr>\n",
       "      <th>263806</th>\n",
       "      <td>1340</td>\n",
       "      <td>bus</td>\n",
       "      <td>2002</td>\n",
       "      <td>1.00</td>\n",
       "      <td>122</td>\n",
       "      <td>other</td>\n",
       "      <td>150000</td>\n",
       "      <td>9</td>\n",
       "      <td>petrol</td>\n",
       "      <td>hyundai</td>\n",
       "      <td>0.00</td>\n",
       "    </tr>\n",
       "    <tr>\n",
       "      <th>160228</th>\n",
       "      <td>2490</td>\n",
       "      <td>wagon</td>\n",
       "      <td>2004</td>\n",
       "      <td>1.00</td>\n",
       "      <td>131</td>\n",
       "      <td>x_type</td>\n",
       "      <td>150000</td>\n",
       "      <td>7</td>\n",
       "      <td>gasoline</td>\n",
       "      <td>jaguar</td>\n",
       "      <td>0.00</td>\n",
       "    </tr>\n",
       "    <tr>\n",
       "      <th>68947</th>\n",
       "      <td>10990</td>\n",
       "      <td>convertible</td>\n",
       "      <td>2008</td>\n",
       "      <td>1.00</td>\n",
       "      <td>150</td>\n",
       "      <td>eos</td>\n",
       "      <td>90000</td>\n",
       "      <td>3</td>\n",
       "      <td>petrol</td>\n",
       "      <td>volkswagen</td>\n",
       "      <td>0.00</td>\n",
       "    </tr>\n",
       "    <tr>\n",
       "      <th>...</th>\n",
       "      <td>...</td>\n",
       "      <td>...</td>\n",
       "      <td>...</td>\n",
       "      <td>...</td>\n",
       "      <td>...</td>\n",
       "      <td>...</td>\n",
       "      <td>...</td>\n",
       "      <td>...</td>\n",
       "      <td>...</td>\n",
       "      <td>...</td>\n",
       "      <td>...</td>\n",
       "    </tr>\n",
       "    <tr>\n",
       "      <th>215047</th>\n",
       "      <td>2300</td>\n",
       "      <td>small</td>\n",
       "      <td>2001</td>\n",
       "      <td>0.00</td>\n",
       "      <td>150</td>\n",
       "      <td>other</td>\n",
       "      <td>150000</td>\n",
       "      <td>5</td>\n",
       "      <td>petrol</td>\n",
       "      <td>volkswagen</td>\n",
       "      <td>0.00</td>\n",
       "    </tr>\n",
       "    <tr>\n",
       "      <th>246653</th>\n",
       "      <td>2950</td>\n",
       "      <td>bus</td>\n",
       "      <td>2007</td>\n",
       "      <td>1.00</td>\n",
       "      <td>105</td>\n",
       "      <td>meriva</td>\n",
       "      <td>150000</td>\n",
       "      <td>3</td>\n",
       "      <td>petrol</td>\n",
       "      <td>opel</td>\n",
       "      <td>0.00</td>\n",
       "    </tr>\n",
       "    <tr>\n",
       "      <th>139221</th>\n",
       "      <td>1500</td>\n",
       "      <td>coupe</td>\n",
       "      <td>1994</td>\n",
       "      <td>0.00</td>\n",
       "      <td>102</td>\n",
       "      <td>3er</td>\n",
       "      <td>150000</td>\n",
       "      <td>11</td>\n",
       "      <td>petrol</td>\n",
       "      <td>bmw</td>\n",
       "      <td>0.00</td>\n",
       "    </tr>\n",
       "    <tr>\n",
       "      <th>321529</th>\n",
       "      <td>2200</td>\n",
       "      <td>coupe</td>\n",
       "      <td>2000</td>\n",
       "      <td>1.00</td>\n",
       "      <td>105</td>\n",
       "      <td>3er</td>\n",
       "      <td>150000</td>\n",
       "      <td>2</td>\n",
       "      <td>gasoline</td>\n",
       "      <td>bmw</td>\n",
       "      <td>0.00</td>\n",
       "    </tr>\n",
       "    <tr>\n",
       "      <th>308664</th>\n",
       "      <td>1100</td>\n",
       "      <td>sedan</td>\n",
       "      <td>2001</td>\n",
       "      <td>1.00</td>\n",
       "      <td>75</td>\n",
       "      <td>other</td>\n",
       "      <td>125000</td>\n",
       "      <td>0</td>\n",
       "      <td>petrol</td>\n",
       "      <td>citroen</td>\n",
       "      <td>0.00</td>\n",
       "    </tr>\n",
       "  </tbody>\n",
       "</table>\n",
       "<p>150000 rows × 11 columns</p>\n",
       "</div>"
      ],
      "text/plain": [
       "        Price VehicleType   RegistrationYear  Gearbox  Power  Model   \\\n",
       "326148    750        small        2000         1.00      60    other   \n",
       "283655   1700        other        1998         1.00     125       a3   \n",
       "263806   1340          bus        2002         1.00     122    other   \n",
       "160228   2490        wagon        2004         1.00     131   x_type   \n",
       "68947   10990  convertible        2008         1.00     150      eos   \n",
       "...       ...          ...               ...      ...    ...     ...   \n",
       "215047   2300        small        2001         0.00     150    other   \n",
       "246653   2950          bus        2007         1.00     105   meriva   \n",
       "139221   1500        coupe        1994         0.00     102      3er   \n",
       "321529   2200        coupe        2000         1.00     105      3er   \n",
       "308664   1100        sedan        2001         1.00      75    other   \n",
       "\n",
       "        Kilometer  RegistrationMonth  FuelType    Brand     Repaired  \n",
       "326148   100000            9            petrol     citroen    1.00    \n",
       "283655   150000            3            petrol        audi    0.00    \n",
       "263806   150000            9            petrol     hyundai    0.00    \n",
       "160228   150000            7          gasoline      jaguar    0.00    \n",
       "68947     90000            3            petrol  volkswagen    0.00    \n",
       "...           ...                ...       ...         ...       ...  \n",
       "215047   150000            5            petrol  volkswagen    0.00    \n",
       "246653   150000            3            petrol        opel    0.00    \n",
       "139221   150000           11            petrol         bmw    0.00    \n",
       "321529   150000            2          gasoline         bmw    0.00    \n",
       "308664   125000            0            petrol     citroen    0.00    \n",
       "\n",
       "[150000 rows x 11 columns]"
      ]
     },
     "metadata": {},
     "output_type": "display_data"
    }
   ],
   "source": [
    "from autoviz.AutoViz_Class import AutoViz_Class\n",
    "AV = AutoViz_Class()\n",
    "df_av = AV.AutoViz(avto_df)\n",
    "display(df_av)"
   ]
  },
  {
   "cell_type": "code",
   "execution_count": 10,
   "metadata": {
    "scrolled": true
   },
   "outputs": [
    {
     "name": "stdout",
     "output_type": "stream",
     "text": [
      "Requirement already satisfied: dataprep in c:\\programdata\\anaconda3\\lib\\site-packages (0.4.1)\n",
      "Requirement already satisfied: aiohttp<4.0,>=3.6 in c:\\programdata\\anaconda3\\lib\\site-packages (from dataprep) (3.11.10)\n",
      "Collecting bokeh<3,>=2 (from dataprep)\n",
      "  Using cached bokeh-2.4.3-py3-none-any.whl.metadata (14 kB)\n",
      "Requirement already satisfied: bottleneck<2.0,>=1.3 in c:\\programdata\\anaconda3\\lib\\site-packages (from dataprep) (1.4.2)\n",
      "Collecting dask<3.0,>=2.25 (from dask[array,dataframe,delayed]<3.0,>=2.25->dataprep)\n",
      "  Using cached dask-2.30.0-py3-none-any.whl.metadata (3.4 kB)\n",
      "Collecting flask<2.0.0,>=1.1.4 (from dataprep)\n",
      "  Using cached Flask-1.1.4-py2.py3-none-any.whl.metadata (4.6 kB)\n",
      "Collecting flask_cors<4.0.0,>=3.0.10 (from dataprep)\n",
      "  Using cached Flask_Cors-3.0.10-py2.py3-none-any.whl.metadata (5.4 kB)\n",
      "Collecting ipywidgets<8.0,>=7.5 (from dataprep)\n",
      "  Using cached ipywidgets-7.8.5-py2.py3-none-any.whl.metadata (1.9 kB)\n",
      "Collecting jinja2<3.0,>=2.11 (from dataprep)\n",
      "  Using cached Jinja2-2.11.3-py2.py3-none-any.whl.metadata (3.5 kB)\n",
      "Collecting jsonpath-ng<2.0,>=1.5 (from dataprep)\n",
      "  Using cached jsonpath_ng-1.7.0-py3-none-any.whl.metadata (18 kB)\n",
      "Collecting levenshtein<0.13.0,>=0.12.0 (from dataprep)\n",
      "  Using cached levenshtein-0.12.0.tar.gz (54 kB)\n",
      "  Preparing metadata (setup.py): started\n",
      "  Preparing metadata (setup.py): finished with status 'done'\n",
      "Collecting metaphone<0.7,>=0.6 (from dataprep)\n",
      "  Using cached metaphone-0.6-py3-none-any.whl\n",
      "Requirement already satisfied: nltk<4.0,>=3.5 in c:\\programdata\\anaconda3\\lib\\site-packages (from dataprep) (3.9.1)\n",
      "Requirement already satisfied: numpy<2,>=1 in c:\\programdata\\anaconda3\\lib\\site-packages (from dataprep) (1.26.4)\n",
      "Collecting pandas<2.0,>=1.1 (from dataprep)\n",
      "  Using cached pandas-1.5.3-cp312-cp312-win_amd64.whl\n",
      "Collecting pydantic<2.0,>=1.6 (from dataprep)\n",
      "  Using cached pydantic-1.10.22-cp312-cp312-win_amd64.whl.metadata (155 kB)\n",
      "Collecting python-stdnum<2.0,>=1.16 (from dataprep)\n",
      "  Using cached python_stdnum-1.20-py2.py3-none-any.whl.metadata (18 kB)\n",
      "Collecting regex<2021.0.0,>=2020.10.15 (from dataprep)\n",
      "  Using cached regex-2020.11.13-cp312-cp312-win_amd64.whl\n",
      "Requirement already satisfied: scipy<2,>=1 in c:\\programdata\\anaconda3\\lib\\site-packages (from dataprep) (1.13.1)\n",
      "Requirement already satisfied: tqdm<5.0,>=4.48 in c:\\programdata\\anaconda3\\lib\\site-packages (from dataprep) (4.67.1)\n",
      "Collecting usaddress<0.6.0,>=0.5.10 (from dataprep)\n",
      "  Using cached usaddress-0.5.14-py3-none-any.whl.metadata (6.7 kB)\n",
      "Collecting varname<0.9.0,>=0.8.1 (from dataprep)\n",
      "  Using cached varname-0.8.3-py3-none-any.whl.metadata (11 kB)\n",
      "Requirement already satisfied: wordcloud<2.0,>=1.8 in c:\\programdata\\anaconda3\\lib\\site-packages (from dataprep) (1.9.4)\n",
      "Requirement already satisfied: aiohappyeyeballs>=2.3.0 in c:\\programdata\\anaconda3\\lib\\site-packages (from aiohttp<4.0,>=3.6->dataprep) (2.4.4)\n",
      "Requirement already satisfied: aiosignal>=1.1.2 in c:\\programdata\\anaconda3\\lib\\site-packages (from aiohttp<4.0,>=3.6->dataprep) (1.2.0)\n",
      "Requirement already satisfied: attrs>=17.3.0 in c:\\programdata\\anaconda3\\lib\\site-packages (from aiohttp<4.0,>=3.6->dataprep) (24.3.0)\n",
      "Requirement already satisfied: frozenlist>=1.1.1 in c:\\programdata\\anaconda3\\lib\\site-packages (from aiohttp<4.0,>=3.6->dataprep) (1.5.0)\n",
      "Requirement already satisfied: multidict<7.0,>=4.5 in c:\\programdata\\anaconda3\\lib\\site-packages (from aiohttp<4.0,>=3.6->dataprep) (6.1.0)\n",
      "Requirement already satisfied: propcache>=0.2.0 in c:\\programdata\\anaconda3\\lib\\site-packages (from aiohttp<4.0,>=3.6->dataprep) (0.3.1)\n",
      "Requirement already satisfied: yarl<2.0,>=1.17.0 in c:\\programdata\\anaconda3\\lib\\site-packages (from aiohttp<4.0,>=3.6->dataprep) (1.18.0)\n",
      "Requirement already satisfied: packaging>=16.8 in c:\\programdata\\anaconda3\\lib\\site-packages (from bokeh<3,>=2->dataprep) (24.2)\n",
      "Requirement already satisfied: pillow>=7.1.0 in c:\\programdata\\anaconda3\\lib\\site-packages (from bokeh<3,>=2->dataprep) (10.4.0)\n",
      "Requirement already satisfied: PyYAML>=3.10 in c:\\programdata\\anaconda3\\lib\\site-packages (from bokeh<3,>=2->dataprep) (6.0.2)\n",
      "Requirement already satisfied: tornado>=5.1 in c:\\programdata\\anaconda3\\lib\\site-packages (from bokeh<3,>=2->dataprep) (6.5.1)\n",
      "Requirement already satisfied: typing-extensions>=3.10.0 in c:\\programdata\\anaconda3\\lib\\site-packages (from bokeh<3,>=2->dataprep) (4.12.2)\n",
      "Requirement already satisfied: toolz>=0.8.2 in c:\\programdata\\anaconda3\\lib\\site-packages (from dask[array,dataframe,delayed]<3.0,>=2.25->dataprep) (1.0.0)\n",
      "Requirement already satisfied: partd>=0.3.10 in c:\\programdata\\anaconda3\\lib\\site-packages (from dask[array,dataframe,delayed]<3.0,>=2.25->dataprep) (1.4.2)\n",
      "Requirement already satisfied: fsspec>=0.6.0 in c:\\programdata\\anaconda3\\lib\\site-packages (from dask[array,dataframe,delayed]<3.0,>=2.25->dataprep) (2024.12.0)\n",
      "Requirement already satisfied: cloudpickle>=0.2.2 in c:\\programdata\\anaconda3\\lib\\site-packages (from dask[array,dataframe,delayed]<3.0,>=2.25->dataprep) (3.1.1)\n",
      "Collecting Werkzeug<2.0,>=0.15 (from flask<2.0.0,>=1.1.4->dataprep)\n",
      "  Using cached Werkzeug-1.0.1-py2.py3-none-any.whl.metadata (4.7 kB)\n",
      "Collecting itsdangerous<2.0,>=0.24 (from flask<2.0.0,>=1.1.4->dataprep)\n",
      "  Using cached itsdangerous-1.1.0-py2.py3-none-any.whl.metadata (3.1 kB)\n",
      "Collecting click<8.0,>=5.1 (from flask<2.0.0,>=1.1.4->dataprep)\n",
      "  Using cached click-7.1.2-py2.py3-none-any.whl.metadata (2.9 kB)\n",
      "Requirement already satisfied: Six in c:\\programdata\\anaconda3\\lib\\site-packages (from flask_cors<4.0.0,>=3.0.10->dataprep) (1.17.0)\n",
      "Requirement already satisfied: comm>=0.1.3 in c:\\programdata\\anaconda3\\lib\\site-packages (from ipywidgets<8.0,>=7.5->dataprep) (0.2.1)\n",
      "Collecting ipython-genutils~=0.2.0 (from ipywidgets<8.0,>=7.5->dataprep)\n",
      "  Using cached ipython_genutils-0.2.0-py2.py3-none-any.whl.metadata (755 bytes)\n",
      "Requirement already satisfied: traitlets>=4.3.1 in c:\\programdata\\anaconda3\\lib\\site-packages (from ipywidgets<8.0,>=7.5->dataprep) (5.14.3)\n",
      "Collecting widgetsnbextension~=3.6.10 (from ipywidgets<8.0,>=7.5->dataprep)\n",
      "  Using cached widgetsnbextension-3.6.10-py2.py3-none-any.whl.metadata (1.3 kB)\n",
      "Requirement already satisfied: ipython>=4.0.0 in c:\\programdata\\anaconda3\\lib\\site-packages (from ipywidgets<8.0,>=7.5->dataprep) (8.30.0)\n",
      "Collecting jupyterlab-widgets<3,>=1.0.0 (from ipywidgets<8.0,>=7.5->dataprep)\n",
      "  Using cached jupyterlab_widgets-1.1.11-py3-none-any.whl.metadata (3.7 kB)\n",
      "Requirement already satisfied: MarkupSafe>=0.23 in c:\\programdata\\anaconda3\\lib\\site-packages (from jinja2<3.0,>=2.11->dataprep) (2.1.5)\n",
      "Requirement already satisfied: ply in c:\\programdata\\anaconda3\\lib\\site-packages (from jsonpath-ng<2.0,>=1.5->dataprep) (3.11)\n",
      "Requirement already satisfied: setuptools in c:\\programdata\\anaconda3\\lib\\site-packages (from levenshtein<0.13.0,>=0.12.0->dataprep) (73.0.1)\n",
      "Requirement already satisfied: joblib in c:\\programdata\\anaconda3\\lib\\site-packages (from nltk<4.0,>=3.5->dataprep) (1.5.1)\n",
      "INFO: pip is looking at multiple versions of nltk to determine which version is compatible with other requirements. This could take a while.\n",
      "Collecting nltk<4.0,>=3.5 (from dataprep)\n",
      "  Using cached nltk-3.9-py3-none-any.whl.metadata (2.9 kB)\n",
      "  Using cached nltk-3.8.1-py3-none-any.whl.metadata (2.8 kB)\n",
      "  Using cached nltk-3.8-py3-none-any.whl.metadata (2.8 kB)\n",
      "  Using cached nltk-3.7-py3-none-any.whl.metadata (2.8 kB)\n",
      "  Using cached nltk-3.6.7-py3-none-any.whl.metadata (2.8 kB)\n",
      "  Using cached nltk-3.6.6-py3-none-any.whl.metadata (2.9 kB)\n",
      "  Using cached nltk-3.6.5-py3-none-any.whl.metadata (3.0 kB)\n",
      "INFO: pip is still looking at multiple versions of nltk to determine which version is compatible with other requirements. This could take a while.\n",
      "  Using cached nltk-3.6.3-py3-none-any.whl.metadata (3.0 kB)\n",
      "Requirement already satisfied: python-dateutil>=2.8.1 in c:\\programdata\\anaconda3\\lib\\site-packages (from pandas<2.0,>=1.1->dataprep) (2.9.0.post0)\n",
      "Requirement already satisfied: pytz>=2020.1 in c:\\programdata\\anaconda3\\lib\\site-packages (from pandas<2.0,>=1.1->dataprep) (2024.1)\n",
      "Requirement already satisfied: colorama in c:\\programdata\\anaconda3\\lib\\site-packages (from tqdm<5.0,>=4.48->dataprep) (0.4.6)\n",
      "Collecting python-crfsuite>=0.7 (from usaddress<0.6.0,>=0.5.10->dataprep)\n",
      "  Using cached python_crfsuite-0.9.11-cp312-cp312-win_amd64.whl.metadata (4.4 kB)\n",
      "Collecting probableparsing (from usaddress<0.6.0,>=0.5.10->dataprep)\n",
      "  Using cached probableparsing-0.0.1-py2.py3-none-any.whl.metadata (908 bytes)\n",
      "Collecting asttokens<3.0.0,>=2.0.0 (from varname<0.9.0,>=0.8.1->dataprep)\n",
      "  Using cached asttokens-2.4.1-py2.py3-none-any.whl.metadata (5.2 kB)\n",
      "Requirement already satisfied: executing<0.9.0,>=0.8.3 in c:\\programdata\\anaconda3\\lib\\site-packages (from varname<0.9.0,>=0.8.1->dataprep) (0.8.3)\n",
      "Requirement already satisfied: pure_eval<1.0.0 in c:\\programdata\\anaconda3\\lib\\site-packages (from varname<0.9.0,>=0.8.1->dataprep) (0.2.2)\n",
      "Requirement already satisfied: notebook>=4.4.1 in c:\\programdata\\anaconda3\\lib\\site-packages (from widgetsnbextension~=3.6.10->ipywidgets<8.0,>=7.5->dataprep) (7.4.4)\n",
      "Requirement already satisfied: matplotlib in c:\\programdata\\anaconda3\\lib\\site-packages (from wordcloud<2.0,>=1.8->dataprep) (3.10.0)\n",
      "Requirement already satisfied: idna>=2.0 in c:\\programdata\\anaconda3\\lib\\site-packages (from yarl<2.0,>=1.17.0->aiohttp<4.0,>=3.6->dataprep) (3.7)\n",
      "Requirement already satisfied: decorator in c:\\programdata\\anaconda3\\lib\\site-packages (from ipython>=4.0.0->ipywidgets<8.0,>=7.5->dataprep) (5.1.1)\n",
      "Requirement already satisfied: jedi>=0.16 in c:\\programdata\\anaconda3\\lib\\site-packages (from ipython>=4.0.0->ipywidgets<8.0,>=7.5->dataprep) (0.19.2)\n",
      "Requirement already satisfied: matplotlib-inline in c:\\programdata\\anaconda3\\lib\\site-packages (from ipython>=4.0.0->ipywidgets<8.0,>=7.5->dataprep) (0.1.6)\n",
      "Requirement already satisfied: prompt-toolkit<3.1.0,>=3.0.41 in c:\\programdata\\anaconda3\\lib\\site-packages (from ipython>=4.0.0->ipywidgets<8.0,>=7.5->dataprep) (3.0.43)\n",
      "Requirement already satisfied: pygments>=2.4.0 in c:\\programdata\\anaconda3\\lib\\site-packages (from ipython>=4.0.0->ipywidgets<8.0,>=7.5->dataprep) (2.19.1)\n",
      "Requirement already satisfied: stack-data in c:\\programdata\\anaconda3\\lib\\site-packages (from ipython>=4.0.0->ipywidgets<8.0,>=7.5->dataprep) (0.2.0)\n",
      "Requirement already satisfied: wcwidth in c:\\programdata\\anaconda3\\lib\\site-packages (from prompt-toolkit<3.1.0,>=3.0.41->ipython>=4.0.0->ipywidgets<8.0,>=7.5->dataprep) (0.2.13)\n",
      "Requirement already satisfied: parso<0.9.0,>=0.8.4 in c:\\programdata\\anaconda3\\lib\\site-packages (from jedi>=0.16->ipython>=4.0.0->ipywidgets<8.0,>=7.5->dataprep) (0.8.4)\n",
      "Requirement already satisfied: jupyter-server<3,>=2.4.0 in c:\\programdata\\anaconda3\\lib\\site-packages (from notebook>=4.4.1->widgetsnbextension~=3.6.10->ipywidgets<8.0,>=7.5->dataprep) (2.16.0)\n",
      "Requirement already satisfied: jupyterlab-server<3,>=2.27.1 in c:\\programdata\\anaconda3\\lib\\site-packages (from notebook>=4.4.1->widgetsnbextension~=3.6.10->ipywidgets<8.0,>=7.5->dataprep) (2.27.3)\n",
      "Requirement already satisfied: jupyterlab<4.5,>=4.4.4 in c:\\programdata\\anaconda3\\lib\\site-packages (from notebook>=4.4.1->widgetsnbextension~=3.6.10->ipywidgets<8.0,>=7.5->dataprep) (4.4.4)\n",
      "Requirement already satisfied: notebook-shim<0.3,>=0.2 in c:\\programdata\\anaconda3\\lib\\site-packages (from notebook>=4.4.1->widgetsnbextension~=3.6.10->ipywidgets<8.0,>=7.5->dataprep) (0.2.4)\n",
      "Requirement already satisfied: anyio>=3.1.0 in c:\\programdata\\anaconda3\\lib\\site-packages (from jupyter-server<3,>=2.4.0->notebook>=4.4.1->widgetsnbextension~=3.6.10->ipywidgets<8.0,>=7.5->dataprep) (4.7.0)\n",
      "Requirement already satisfied: argon2-cffi>=21.1 in c:\\programdata\\anaconda3\\lib\\site-packages (from jupyter-server<3,>=2.4.0->notebook>=4.4.1->widgetsnbextension~=3.6.10->ipywidgets<8.0,>=7.5->dataprep) (21.3.0)\n",
      "INFO: pip is looking at multiple versions of jupyter-server to determine which version is compatible with other requirements. This could take a while.\n",
      "Collecting jupyter-server<3,>=2.4.0 (from notebook>=4.4.1->widgetsnbextension~=3.6.10->ipywidgets<8.0,>=7.5->dataprep)\n",
      "  Using cached jupyter_server-2.15.0-py3-none-any.whl.metadata (8.4 kB)\n",
      "  Using cached jupyter_server-2.14.2-py3-none-any.whl.metadata (8.4 kB)\n",
      "  Using cached jupyter_server-2.14.1-py3-none-any.whl.metadata (8.4 kB)\n",
      "  Using cached jupyter_server-2.14.0-py3-none-any.whl.metadata (8.4 kB)\n",
      "  Using cached jupyter_server-2.13.0-py3-none-any.whl.metadata (8.4 kB)\n",
      "Requirement already satisfied: jupyter-client>=7.4.4 in c:\\programdata\\anaconda3\\lib\\site-packages (from jupyter-server<3,>=2.4.0->notebook>=4.4.1->widgetsnbextension~=3.6.10->ipywidgets<8.0,>=7.5->dataprep) (8.6.3)\n",
      "Requirement already satisfied: jupyter-core!=5.0.*,>=4.12 in c:\\programdata\\anaconda3\\lib\\site-packages (from jupyter-server<3,>=2.4.0->notebook>=4.4.1->widgetsnbextension~=3.6.10->ipywidgets<8.0,>=7.5->dataprep) (5.8.1)\n",
      "Requirement already satisfied: jupyter-events>=0.9.0 in c:\\programdata\\anaconda3\\lib\\site-packages (from jupyter-server<3,>=2.4.0->notebook>=4.4.1->widgetsnbextension~=3.6.10->ipywidgets<8.0,>=7.5->dataprep) (0.12.0)\n",
      "Requirement already satisfied: jupyter-server-terminals in c:\\programdata\\anaconda3\\lib\\site-packages (from jupyter-server<3,>=2.4.0->notebook>=4.4.1->widgetsnbextension~=3.6.10->ipywidgets<8.0,>=7.5->dataprep) (0.5.3)\n",
      "Requirement already satisfied: nbconvert>=6.4.4 in c:\\programdata\\anaconda3\\lib\\site-packages (from jupyter-server<3,>=2.4.0->notebook>=4.4.1->widgetsnbextension~=3.6.10->ipywidgets<8.0,>=7.5->dataprep) (7.16.6)\n",
      "Requirement already satisfied: nbformat>=5.3.0 in c:\\programdata\\anaconda3\\lib\\site-packages (from jupyter-server<3,>=2.4.0->notebook>=4.4.1->widgetsnbextension~=3.6.10->ipywidgets<8.0,>=7.5->dataprep) (5.10.4)\n",
      "Requirement already satisfied: overrides in c:\\programdata\\anaconda3\\lib\\site-packages (from jupyter-server<3,>=2.4.0->notebook>=4.4.1->widgetsnbextension~=3.6.10->ipywidgets<8.0,>=7.5->dataprep) (7.4.0)\n",
      "Requirement already satisfied: prometheus-client in c:\\programdata\\anaconda3\\lib\\site-packages (from jupyter-server<3,>=2.4.0->notebook>=4.4.1->widgetsnbextension~=3.6.10->ipywidgets<8.0,>=7.5->dataprep) (0.21.1)\n",
      "Requirement already satisfied: pywinpty in c:\\programdata\\anaconda3\\lib\\site-packages (from jupyter-server<3,>=2.4.0->notebook>=4.4.1->widgetsnbextension~=3.6.10->ipywidgets<8.0,>=7.5->dataprep) (2.0.15)\n",
      "Requirement already satisfied: pyzmq>=24 in c:\\programdata\\anaconda3\\lib\\site-packages (from jupyter-server<3,>=2.4.0->notebook>=4.4.1->widgetsnbextension~=3.6.10->ipywidgets<8.0,>=7.5->dataprep) (26.2.0)\n",
      "Requirement already satisfied: send2trash>=1.8.2 in c:\\programdata\\anaconda3\\lib\\site-packages (from jupyter-server<3,>=2.4.0->notebook>=4.4.1->widgetsnbextension~=3.6.10->ipywidgets<8.0,>=7.5->dataprep) (1.8.2)\n",
      "Requirement already satisfied: terminado>=0.8.3 in c:\\programdata\\anaconda3\\lib\\site-packages (from jupyter-server<3,>=2.4.0->notebook>=4.4.1->widgetsnbextension~=3.6.10->ipywidgets<8.0,>=7.5->dataprep) (0.17.1)\n",
      "Requirement already satisfied: websocket-client in c:\\programdata\\anaconda3\\lib\\site-packages (from jupyter-server<3,>=2.4.0->notebook>=4.4.1->widgetsnbextension~=3.6.10->ipywidgets<8.0,>=7.5->dataprep) (1.8.0)\n",
      "Requirement already satisfied: async-lru>=1.0.0 in c:\\programdata\\anaconda3\\lib\\site-packages (from jupyterlab<4.5,>=4.4.4->notebook>=4.4.1->widgetsnbextension~=3.6.10->ipywidgets<8.0,>=7.5->dataprep) (2.0.4)\n",
      "Requirement already satisfied: httpx>=0.25.0 in c:\\programdata\\anaconda3\\lib\\site-packages (from jupyterlab<4.5,>=4.4.4->notebook>=4.4.1->widgetsnbextension~=3.6.10->ipywidgets<8.0,>=7.5->dataprep) (0.28.1)\n",
      "Requirement already satisfied: ipykernel>=6.5.0 in c:\\programdata\\anaconda3\\lib\\site-packages (from jupyterlab<4.5,>=4.4.4->notebook>=4.4.1->widgetsnbextension~=3.6.10->ipywidgets<8.0,>=7.5->dataprep) (6.29.5)\n",
      "INFO: pip is looking at multiple versions of jupyterlab to determine which version is compatible with other requirements. This could take a while.\n",
      "INFO: pip is still looking at multiple versions of jupyter-server to determine which version is compatible with other requirements. This could take a while.\n",
      "  Using cached jupyter_server-2.12.5-py3-none-any.whl.metadata (8.4 kB)\n",
      "INFO: This is taking longer than usual. You might need to provide the dependency resolver with stricter constraints to reduce runtime. See https://pip.pypa.io/warnings/backtracking for guidance. If you want to abort this run, press Ctrl + C.\n",
      "  Using cached jupyter_server-2.12.4-py3-none-any.whl.metadata (8.4 kB)\n",
      "  Using cached jupyter_server-2.12.3-py3-none-any.whl.metadata (8.4 kB)\n",
      "  Using cached jupyter_server-2.12.2-py3-none-any.whl.metadata (8.4 kB)\n",
      "  Using cached jupyter_server-2.12.1-py3-none-any.whl.metadata (8.4 kB)\n",
      "  Using cached jupyter_server-2.12.0-py3-none-any.whl.metadata (8.4 kB)\n",
      "  Using cached jupyter_server-2.11.2-py3-none-any.whl.metadata (8.4 kB)\n",
      "INFO: pip is still looking at multiple versions of jupyterlab to determine which version is compatible with other requirements. This could take a while.\n",
      "  Using cached jupyter_server-2.11.1-py3-none-any.whl.metadata (8.4 kB)\n",
      "  Using cached jupyter_server-2.10.1-py3-none-any.whl.metadata (8.4 kB)\n",
      "  Using cached jupyter_server-2.10.0-py3-none-any.whl.metadata (8.4 kB)\n",
      "  Using cached jupyter_server-2.9.1-py3-none-any.whl.metadata (8.6 kB)\n",
      "  Using cached jupyter_server-2.9.0-py3-none-any.whl.metadata (8.6 kB)\n",
      "INFO: This is taking longer than usual. You might need to provide the dependency resolver with stricter constraints to reduce runtime. See https://pip.pypa.io/warnings/backtracking for guidance. If you want to abort this run, press Ctrl + C.\n",
      "  Using cached jupyter_server-2.8.0-py3-none-any.whl.metadata (8.6 kB)\n",
      "  Using cached jupyter_server-2.7.3-py3-none-any.whl.metadata (8.6 kB)\n",
      "  Using cached jupyter_server-2.7.2-py3-none-any.whl.metadata (8.6 kB)\n",
      "  Using cached jupyter_server-2.7.1-py3-none-any.whl.metadata (8.6 kB)\n",
      "  Using cached jupyter_server-2.7.0-py3-none-any.whl.metadata (8.6 kB)\n",
      "  Using cached jupyter_server-2.6.0-py3-none-any.whl.metadata (8.5 kB)\n",
      "  Using cached jupyter_server-2.5.0-py3-none-any.whl.metadata (8.7 kB)\n",
      "  Using cached jupyter_server-2.4.0-py3-none-any.whl.metadata (8.7 kB)\n",
      "Collecting notebook>=4.4.1 (from widgetsnbextension~=3.6.10->ipywidgets<8.0,>=7.5->dataprep)\n",
      "  Using cached notebook-7.4.4-py3-none-any.whl.metadata (10 kB)\n",
      "  Using cached notebook-7.4.3-py3-none-any.whl.metadata (10 kB)\n",
      "Collecting jupyterlab<4.5,>=4.4.3 (from notebook>=4.4.1->widgetsnbextension~=3.6.10->ipywidgets<8.0,>=7.5->dataprep)\n",
      "  Using cached jupyterlab-4.4.3-py3-none-any.whl.metadata (16 kB)\n",
      "Collecting notebook>=4.4.1 (from widgetsnbextension~=3.6.10->ipywidgets<8.0,>=7.5->dataprep)\n",
      "  Using cached notebook-7.4.2-py3-none-any.whl.metadata (10 kB)\n",
      "Collecting jupyterlab<4.5,>=4.4.0 (from notebook>=4.4.1->widgetsnbextension~=3.6.10->ipywidgets<8.0,>=7.5->dataprep)\n",
      "  Using cached jupyterlab-4.4.2-py3-none-any.whl.metadata (16 kB)\n",
      "  Using cached jupyterlab-4.4.1-py3-none-any.whl.metadata (16 kB)\n",
      "  Using cached jupyterlab-4.4.0-py3-none-any.whl.metadata (16 kB)\n",
      "Collecting notebook>=4.4.1 (from widgetsnbextension~=3.6.10->ipywidgets<8.0,>=7.5->dataprep)\n",
      "  Using cached notebook-7.4.1-py3-none-any.whl.metadata (10 kB)\n",
      "Collecting jupyterlab<4.5,>=4.4.0rc0 (from notebook>=4.4.1->widgetsnbextension~=3.6.10->ipywidgets<8.0,>=7.5->dataprep)\n",
      "  Using cached jupyterlab-4.4.0rc1-py3-none-any.whl.metadata (16 kB)\n",
      "  Using cached jupyterlab-4.4.0rc0-py3-none-any.whl.metadata (16 kB)\n",
      "Collecting notebook>=4.4.1 (from widgetsnbextension~=3.6.10->ipywidgets<8.0,>=7.5->dataprep)\n",
      "  Using cached notebook-7.4.0-py3-none-any.whl.metadata (10 kB)\n",
      "  Using cached notebook-7.3.3-py3-none-any.whl.metadata (10 kB)\n",
      "Collecting jupyterlab<4.4,>=4.3.6 (from notebook>=4.4.1->widgetsnbextension~=3.6.10->ipywidgets<8.0,>=7.5->dataprep)\n",
      "  Using cached jupyterlab-4.3.8-py3-none-any.whl.metadata (16 kB)\n",
      "  Using cached jupyterlab-4.3.7-py3-none-any.whl.metadata (16 kB)\n",
      "  Using cached jupyterlab-4.3.6-py3-none-any.whl.metadata (16 kB)\n",
      "Collecting notebook>=4.4.1 (from widgetsnbextension~=3.6.10->ipywidgets<8.0,>=7.5->dataprep)\n",
      "  Using cached notebook-7.3.2-py3-none-any.whl.metadata (10 kB)\n",
      "Collecting jupyterlab<4.4,>=4.3.4 (from notebook>=4.4.1->widgetsnbextension~=3.6.10->ipywidgets<8.0,>=7.5->dataprep)\n",
      "  Using cached jupyterlab-4.3.5-py3-none-any.whl.metadata (16 kB)\n",
      "  Using cached jupyterlab-4.3.4-py3-none-any.whl.metadata (16 kB)\n",
      "Collecting notebook>=4.4.1 (from widgetsnbextension~=3.6.10->ipywidgets<8.0,>=7.5->dataprep)\n",
      "  Using cached notebook-7.3.1-py3-none-any.whl.metadata (10 kB)\n",
      "Collecting jupyterlab<4.4,>=4.3.2 (from notebook>=4.4.1->widgetsnbextension~=3.6.10->ipywidgets<8.0,>=7.5->dataprep)\n",
      "  Using cached jupyterlab-4.3.3-py3-none-any.whl.metadata (16 kB)\n",
      "  Using cached jupyterlab-4.3.2-py3-none-any.whl.metadata (16 kB)\n",
      "Collecting notebook>=4.4.1 (from widgetsnbextension~=3.6.10->ipywidgets<8.0,>=7.5->dataprep)\n",
      "  Using cached notebook-7.3.0-py3-none-any.whl.metadata (10 kB)\n",
      "  Using cached notebook-7.2.3-py3-none-any.whl.metadata (10 kB)\n",
      "Collecting jupyterlab<4.3,>=4.2.0 (from notebook>=4.4.1->widgetsnbextension~=3.6.10->ipywidgets<8.0,>=7.5->dataprep)\n",
      "  Using cached jupyterlab-4.2.7-py3-none-any.whl.metadata (16 kB)\n",
      "  Using cached jupyterlab-4.2.6-py3-none-any.whl.metadata (16 kB)\n",
      "  Using cached jupyterlab-4.2.5-py3-none-any.whl.metadata (16 kB)\n",
      "  Using cached jupyterlab-4.2.4-py3-none-any.whl.metadata (16 kB)\n",
      "  Using cached jupyterlab-4.2.3-py3-none-any.whl.metadata (16 kB)\n",
      "  Using cached jupyterlab-4.2.2-py3-none-any.whl.metadata (16 kB)\n",
      "  Using cached jupyterlab-4.2.1-py3-none-any.whl.metadata (16 kB)\n",
      "  Using cached jupyterlab-4.2.0-py3-none-any.whl.metadata (16 kB)\n",
      "Collecting notebook>=4.4.1 (from widgetsnbextension~=3.6.10->ipywidgets<8.0,>=7.5->dataprep)\n",
      "  Using cached notebook-7.2.2-py3-none-any.whl.metadata (10 kB)\n",
      "  Using cached notebook-7.2.1-py3-none-any.whl.metadata (10 kB)\n",
      "  Using cached notebook-7.2.0-py3-none-any.whl.metadata (10 kB)\n",
      "  Using cached notebook-7.1.3-py3-none-any.whl.metadata (10 kB)\n",
      "Collecting jupyterlab<4.2,>=4.1.1 (from notebook>=4.4.1->widgetsnbextension~=3.6.10->ipywidgets<8.0,>=7.5->dataprep)\n",
      "  Using cached jupyterlab-4.1.8-py3-none-any.whl.metadata (16 kB)\n",
      "  Using cached jupyterlab-4.1.7-py3-none-any.whl.metadata (16 kB)\n",
      "  Using cached jupyterlab-4.1.6-py3-none-any.whl.metadata (16 kB)\n",
      "  Using cached jupyterlab-4.1.5-py3-none-any.whl.metadata (15 kB)\n",
      "  Using cached jupyterlab-4.1.4-py3-none-any.whl.metadata (15 kB)\n",
      "  Using cached jupyterlab-4.1.3-py3-none-any.whl.metadata (15 kB)\n",
      "  Using cached jupyterlab-4.1.2-py3-none-any.whl.metadata (15 kB)\n",
      "  Using cached jupyterlab-4.1.1-py3-none-any.whl.metadata (15 kB)\n",
      "Collecting notebook>=4.4.1 (from widgetsnbextension~=3.6.10->ipywidgets<8.0,>=7.5->dataprep)\n",
      "  Using cached notebook-7.1.2-py3-none-any.whl.metadata (10 kB)\n",
      "  Using cached notebook-7.1.1-py3-none-any.whl.metadata (10 kB)\n",
      "  Using cached notebook-7.1.0-py3-none-any.whl.metadata (10 kB)\n",
      "  Using cached notebook-7.0.8-py3-none-any.whl.metadata (10 kB)\n",
      "Collecting jupyterlab<4.1,>=4.0.2 (from notebook>=4.4.1->widgetsnbextension~=3.6.10->ipywidgets<8.0,>=7.5->dataprep)\n",
      "  Using cached jupyterlab-4.0.13-py3-none-any.whl.metadata (15 kB)\n",
      "  Using cached jupyterlab-4.0.12-py3-none-any.whl.metadata (15 kB)\n",
      "  Using cached jupyterlab-4.0.11-py3-none-any.whl.metadata (15 kB)\n",
      "  Using cached jupyterlab-4.0.10-py3-none-any.whl.metadata (15 kB)\n",
      "  Using cached jupyterlab-4.0.9-py3-none-any.whl.metadata (15 kB)\n",
      "  Using cached jupyterlab-4.0.8-py3-none-any.whl.metadata (15 kB)\n",
      "  Using cached jupyterlab-4.0.7-py3-none-any.whl.metadata (15 kB)\n",
      "  Using cached jupyterlab-4.0.6-py3-none-any.whl.metadata (15 kB)\n",
      "  Using cached jupyterlab-4.0.5-py3-none-any.whl.metadata (15 kB)\n",
      "  Using cached jupyterlab-4.0.4-py3-none-any.whl.metadata (15 kB)\n",
      "  Using cached jupyterlab-4.0.3-py3-none-any.whl.metadata (15 kB)\n",
      "  Using cached jupyterlab-4.0.2-py3-none-any.whl.metadata (15 kB)\n",
      "Collecting notebook>=4.4.1 (from widgetsnbextension~=3.6.10->ipywidgets<8.0,>=7.5->dataprep)\n",
      "  Using cached notebook-7.0.7-py3-none-any.whl.metadata (10 kB)\n",
      "Collecting jupyterlab<5,>=4.0.2 (from notebook>=4.4.1->widgetsnbextension~=3.6.10->ipywidgets<8.0,>=7.5->dataprep)\n",
      "  Using cached jupyterlab-4.3.1-py3-none-any.whl.metadata (16 kB)\n",
      "  Using cached jupyterlab-4.3.0-py3-none-any.whl.metadata (16 kB)\n",
      "  Using cached jupyterlab-4.1.0-py3-none-any.whl.metadata (15 kB)\n",
      "Collecting notebook>=4.4.1 (from widgetsnbextension~=3.6.10->ipywidgets<8.0,>=7.5->dataprep)\n",
      "  Using cached notebook-7.0.6-py3-none-any.whl.metadata (10 kB)\n",
      "  Using cached notebook-7.0.5-py3-none-any.whl.metadata (10 kB)\n",
      "  Using cached notebook-7.0.4-py3-none-any.whl.metadata (10 kB)\n",
      "  Using cached notebook-7.0.3-py3-none-any.whl.metadata (10 kB)\n",
      "  Using cached notebook-7.0.2-py3-none-any.whl.metadata (10 kB)\n",
      "  Using cached notebook-7.0.1-py3-none-any.whl.metadata (10 kB)\n",
      "  Using cached notebook-7.0.0-py3-none-any.whl.metadata (10 kB)\n",
      "  Using cached notebook-6.5.7-py3-none-any.whl.metadata (2.5 kB)\n",
      "Collecting jupyter-client<8,>=5.3.4 (from notebook>=4.4.1->widgetsnbextension~=3.6.10->ipywidgets<8.0,>=7.5->dataprep)\n",
      "  Using cached jupyter_client-7.4.9-py3-none-any.whl.metadata (8.5 kB)\n",
      "Requirement already satisfied: nest-asyncio>=1.5 in c:\\programdata\\anaconda3\\lib\\site-packages (from notebook>=4.4.1->widgetsnbextension~=3.6.10->ipywidgets<8.0,>=7.5->dataprep) (1.6.0)\n",
      "Collecting nbclassic>=0.4.7 (from notebook>=4.4.1->widgetsnbextension~=3.6.10->ipywidgets<8.0,>=7.5->dataprep)\n",
      "  Using cached nbclassic-1.3.1-py3-none-any.whl.metadata (5.5 kB)\n",
      "Collecting entrypoints (from jupyter-client<8,>=5.3.4->notebook>=4.4.1->widgetsnbextension~=3.6.10->ipywidgets<8.0,>=7.5->dataprep)\n",
      "  Using cached entrypoints-0.4-py3-none-any.whl.metadata (2.6 kB)\n",
      "Requirement already satisfied: platformdirs>=2.5 in c:\\programdata\\anaconda3\\lib\\site-packages (from jupyter-core!=5.0.*,>=4.12->jupyter-server<3,>=2.4.0->notebook>=4.4.1->widgetsnbextension~=3.6.10->ipywidgets<8.0,>=7.5->dataprep) (4.3.7)\n",
      "Requirement already satisfied: pywin32>=300 in c:\\programdata\\anaconda3\\lib\\site-packages (from jupyter-core!=5.0.*,>=4.12->jupyter-server<3,>=2.4.0->notebook>=4.4.1->widgetsnbextension~=3.6.10->ipywidgets<8.0,>=7.5->dataprep) (308)\n",
      "Requirement already satisfied: beautifulsoup4 in c:\\programdata\\anaconda3\\lib\\site-packages (from nbconvert>=6.4.4->jupyter-server<3,>=2.4.0->notebook>=4.4.1->widgetsnbextension~=3.6.10->ipywidgets<8.0,>=7.5->dataprep) (4.12.3)\n",
      "Requirement already satisfied: bleach!=5.0.0 in c:\\programdata\\anaconda3\\lib\\site-packages (from bleach[css]!=5.0.0->nbconvert>=6.4.4->jupyter-server<3,>=2.4.0->notebook>=4.4.1->widgetsnbextension~=3.6.10->ipywidgets<8.0,>=7.5->dataprep) (6.2.0)\n",
      "Requirement already satisfied: defusedxml in c:\\programdata\\anaconda3\\lib\\site-packages (from nbconvert>=6.4.4->jupyter-server<3,>=2.4.0->notebook>=4.4.1->widgetsnbextension~=3.6.10->ipywidgets<8.0,>=7.5->dataprep) (0.7.1)\n",
      "INFO: pip is looking at multiple versions of nbconvert to determine which version is compatible with other requirements. This could take a while.\n",
      "Collecting nbconvert>=5 (from notebook>=4.4.1->widgetsnbextension~=3.6.10->ipywidgets<8.0,>=7.5->dataprep)\n",
      "  Using cached nbconvert-7.16.5-py3-none-any.whl.metadata (8.5 kB)\n",
      "  Using cached nbconvert-7.16.4-py3-none-any.whl.metadata (8.5 kB)\n",
      "  Using cached nbconvert-7.16.3-py3-none-any.whl.metadata (8.2 kB)\n",
      "  Using cached nbconvert-7.16.2-py3-none-any.whl.metadata (8.0 kB)\n",
      "  Using cached nbconvert-7.16.1-py3-none-any.whl.metadata (8.0 kB)\n",
      "  Using cached nbconvert-7.16.0-py3-none-any.whl.metadata (7.7 kB)\n",
      "  Using cached nbconvert-7.15.0-py3-none-any.whl.metadata (7.7 kB)\n",
      "INFO: pip is still looking at multiple versions of nbconvert to determine which version is compatible with other requirements. This could take a while.\n",
      "  Using cached nbconvert-7.14.2-py3-none-any.whl.metadata (7.7 kB)\n",
      "  Using cached nbconvert-7.14.1-py3-none-any.whl.metadata (7.7 kB)\n",
      "  Using cached nbconvert-7.14.0-py3-none-any.whl.metadata (7.7 kB)\n",
      "  Using cached nbconvert-7.13.1-py3-none-any.whl.metadata (7.7 kB)\n",
      "  Using cached nbconvert-7.13.0-py3-none-any.whl.metadata (7.7 kB)\n",
      "INFO: This is taking longer than usual. You might need to provide the dependency resolver with stricter constraints to reduce runtime. See https://pip.pypa.io/warnings/backtracking for guidance. If you want to abort this run, press Ctrl + C.\n",
      "  Using cached nbconvert-7.12.0-py3-none-any.whl.metadata (7.7 kB)\n",
      "  Using cached nbconvert-7.11.0-py3-none-any.whl.metadata (7.7 kB)\n",
      "  Using cached nbconvert-7.10.0-py3-none-any.whl.metadata (7.8 kB)\n",
      "  Using cached nbconvert-7.9.2-py3-none-any.whl.metadata (7.9 kB)\n",
      "  Using cached nbconvert-7.9.1-py3-none-any.whl.metadata (7.9 kB)\n",
      "  Using cached nbconvert-7.9.0-py3-none-any.whl.metadata (7.9 kB)\n",
      "  Using cached nbconvert-7.8.0-py3-none-any.whl.metadata (8.0 kB)\n",
      "  Using cached nbconvert-7.7.4-py3-none-any.whl.metadata (8.0 kB)\n",
      "  Using cached nbconvert-7.7.3-py3-none-any.whl.metadata (8.0 kB)\n",
      "  Using cached nbconvert-7.7.2-py3-none-any.whl.metadata (8.0 kB)\n",
      "  Using cached nbconvert-7.7.1-py3-none-any.whl.metadata (8.0 kB)\n",
      "  Using cached nbconvert-7.7.0-py3-none-any.whl.metadata (8.0 kB)\n",
      "  Using cached nbconvert-7.6.0-py3-none-any.whl.metadata (7.9 kB)\n",
      "  Using cached nbconvert-7.5.0-py3-none-any.whl.metadata (7.9 kB)\n",
      "  Using cached nbconvert-7.4.0-py3-none-any.whl.metadata (7.9 kB)\n",
      "  Using cached nbconvert-7.3.1-py3-none-any.whl.metadata (8.1 kB)\n",
      "  Using cached nbconvert-7.3.0-py3-none-any.whl.metadata (8.1 kB)\n",
      "  Using cached nbconvert-7.2.10-py3-none-any.whl.metadata (8.0 kB)\n",
      "  Using cached nbconvert-7.2.9-py3-none-any.whl.metadata (8.3 kB)\n",
      "  Using cached nbconvert-7.2.8-py3-none-any.whl.metadata (8.3 kB)\n",
      "  Using cached nbconvert-7.2.7-py3-none-any.whl.metadata (8.3 kB)\n",
      "  Using cached nbconvert-7.2.6-py3-none-any.whl.metadata (8.3 kB)\n",
      "  Using cached nbconvert-7.2.5-py3-none-any.whl.metadata (9.1 kB)\n",
      "  Using cached nbconvert-7.2.4-py3-none-any.whl.metadata (9.1 kB)\n",
      "  Using cached nbconvert-7.2.3-py3-none-any.whl.metadata (9.1 kB)\n",
      "  Using cached nbconvert-7.2.2-py3-none-any.whl.metadata (9.1 kB)\n",
      "  Using cached nbconvert-7.2.1-py3-none-any.whl.metadata (9.1 kB)\n",
      "  Using cached nbconvert-7.1.0-py3-none-any.whl.metadata (9.0 kB)\n",
      "  Using cached nbconvert-7.0.0-py3-none-any.whl.metadata (9.2 kB)\n",
      "  Using cached nbconvert-6.5.4-py3-none-any.whl.metadata (6.0 kB)\n",
      "Collecting lxml (from nbconvert>=5->notebook>=4.4.1->widgetsnbextension~=3.6.10->ipywidgets<8.0,>=7.5->dataprep)\n",
      "  Using cached lxml-6.0.0-cp312-cp312-win_amd64.whl.metadata (6.8 kB)\n",
      "Collecting nbconvert>=5 (from notebook>=4.4.1->widgetsnbextension~=3.6.10->ipywidgets<8.0,>=7.5->dataprep)\n",
      "  Using cached nbconvert-6.5.3-py3-none-any.whl.metadata (6.0 kB)\n",
      "  Using cached nbconvert-6.5.2-py3-none-any.whl.metadata (6.0 kB)\n",
      "  Using cached nbconvert-6.5.1-py3-none-any.whl.metadata (6.0 kB)\n",
      "  Using cached nbconvert-6.5.0-py3-none-any.whl.metadata (6.0 kB)\n",
      "  Using cached nbconvert-6.4.5-py3-none-any.whl.metadata (5.9 kB)\n",
      "Collecting mistune<2,>=0.8.1 (from nbconvert>=5->notebook>=4.4.1->widgetsnbextension~=3.6.10->ipywidgets<8.0,>=7.5->dataprep)\n",
      "  Using cached mistune-0.8.4-py2.py3-none-any.whl.metadata (8.5 kB)\n",
      "Requirement already satisfied: jupyterlab-pygments in c:\\programdata\\anaconda3\\lib\\site-packages (from nbconvert>=5->notebook>=4.4.1->widgetsnbextension~=3.6.10->ipywidgets<8.0,>=7.5->dataprep) (0.3.0)\n",
      "Requirement already satisfied: pandocfilters>=1.4.1 in c:\\programdata\\anaconda3\\lib\\site-packages (from nbconvert>=5->notebook>=4.4.1->widgetsnbextension~=3.6.10->ipywidgets<8.0,>=7.5->dataprep) (1.5.0)\n",
      "Collecting testpath (from nbconvert>=5->notebook>=4.4.1->widgetsnbextension~=3.6.10->ipywidgets<8.0,>=7.5->dataprep)\n",
      "  Using cached testpath-0.6.0-py3-none-any.whl.metadata (1.1 kB)\n",
      "Collecting nbclient<0.6.0,>=0.5.0 (from nbconvert>=5->notebook>=4.4.1->widgetsnbextension~=3.6.10->ipywidgets<8.0,>=7.5->dataprep)\n",
      "  Using cached nbclient-0.5.13-py3-none-any.whl.metadata (5.0 kB)\n",
      "Requirement already satisfied: fastjsonschema>=2.15 in c:\\programdata\\anaconda3\\lib\\site-packages (from nbformat>=5.3.0->jupyter-server<3,>=2.4.0->notebook>=4.4.1->widgetsnbextension~=3.6.10->ipywidgets<8.0,>=7.5->dataprep) (2.20.0)\n",
      "Requirement already satisfied: jsonschema>=2.6 in c:\\programdata\\anaconda3\\lib\\site-packages (from nbformat>=5.3.0->jupyter-server<3,>=2.4.0->notebook>=4.4.1->widgetsnbextension~=3.6.10->ipywidgets<8.0,>=7.5->dataprep) (4.23.0)\n",
      "Requirement already satisfied: jsonschema-specifications>=2023.03.6 in c:\\programdata\\anaconda3\\lib\\site-packages (from jsonschema>=2.6->nbformat>=5.3.0->jupyter-server<3,>=2.4.0->notebook>=4.4.1->widgetsnbextension~=3.6.10->ipywidgets<8.0,>=7.5->dataprep) (2023.7.1)\n",
      "Requirement already satisfied: referencing>=0.28.4 in c:\\programdata\\anaconda3\\lib\\site-packages (from jsonschema>=2.6->nbformat>=5.3.0->jupyter-server<3,>=2.4.0->notebook>=4.4.1->widgetsnbextension~=3.6.10->ipywidgets<8.0,>=7.5->dataprep) (0.30.2)\n",
      "Requirement already satisfied: rpds-py>=0.7.1 in c:\\programdata\\anaconda3\\lib\\site-packages (from jsonschema>=2.6->nbformat>=5.3.0->jupyter-server<3,>=2.4.0->notebook>=4.4.1->widgetsnbextension~=3.6.10->ipywidgets<8.0,>=7.5->dataprep) (0.22.3)\n",
      "Requirement already satisfied: sniffio>=1.1 in c:\\programdata\\anaconda3\\lib\\site-packages (from anyio>=3.1.0->jupyter-server<3,>=2.4.0->notebook>=4.4.1->widgetsnbextension~=3.6.10->ipywidgets<8.0,>=7.5->dataprep) (1.3.0)\n",
      "Requirement already satisfied: python-json-logger>=2.0.4 in c:\\programdata\\anaconda3\\lib\\site-packages (from jupyter-events>=0.9.0->jupyter-server<3,>=2.4.0->notebook>=4.4.1->widgetsnbextension~=3.6.10->ipywidgets<8.0,>=7.5->dataprep) (3.2.1)\n",
      "Requirement already satisfied: rfc3339-validator in c:\\programdata\\anaconda3\\lib\\site-packages (from jupyter-events>=0.9.0->jupyter-server<3,>=2.4.0->notebook>=4.4.1->widgetsnbextension~=3.6.10->ipywidgets<8.0,>=7.5->dataprep) (0.1.4)\n",
      "Requirement already satisfied: rfc3986-validator>=0.1.1 in c:\\programdata\\anaconda3\\lib\\site-packages (from jupyter-events>=0.9.0->jupyter-server<3,>=2.4.0->notebook>=4.4.1->widgetsnbextension~=3.6.10->ipywidgets<8.0,>=7.5->dataprep) (0.1.1)\n",
      "Requirement already satisfied: fqdn in c:\\programdata\\anaconda3\\lib\\site-packages (from jsonschema[format-nongpl]>=4.18.0->jupyter-events>=0.9.0->jupyter-server<3,>=2.4.0->notebook>=4.4.1->widgetsnbextension~=3.6.10->ipywidgets<8.0,>=7.5->dataprep) (1.5.1)\n",
      "Requirement already satisfied: isoduration in c:\\programdata\\anaconda3\\lib\\site-packages (from jsonschema[format-nongpl]>=4.18.0->jupyter-events>=0.9.0->jupyter-server<3,>=2.4.0->notebook>=4.4.1->widgetsnbextension~=3.6.10->ipywidgets<8.0,>=7.5->dataprep) (20.11.0)\n",
      "Requirement already satisfied: jsonpointer>1.13 in c:\\programdata\\anaconda3\\lib\\site-packages (from jsonschema[format-nongpl]>=4.18.0->jupyter-events>=0.9.0->jupyter-server<3,>=2.4.0->notebook>=4.4.1->widgetsnbextension~=3.6.10->ipywidgets<8.0,>=7.5->dataprep) (2.1)\n",
      "Requirement already satisfied: uri-template in c:\\programdata\\anaconda3\\lib\\site-packages (from jsonschema[format-nongpl]>=4.18.0->jupyter-events>=0.9.0->jupyter-server<3,>=2.4.0->notebook>=4.4.1->widgetsnbextension~=3.6.10->ipywidgets<8.0,>=7.5->dataprep) (1.3.0)\n",
      "Requirement already satisfied: webcolors>=24.6.0 in c:\\programdata\\anaconda3\\lib\\site-packages (from jsonschema[format-nongpl]>=4.18.0->jupyter-events>=0.9.0->jupyter-server<3,>=2.4.0->notebook>=4.4.1->widgetsnbextension~=3.6.10->ipywidgets<8.0,>=7.5->dataprep) (24.11.1)\n",
      "Requirement already satisfied: locket in c:\\programdata\\anaconda3\\lib\\site-packages (from partd>=0.3.10->dask[array,dataframe,delayed]<3.0,>=2.25->dataprep) (1.0.0)\n",
      "Requirement already satisfied: argon2-cffi-bindings in c:\\programdata\\anaconda3\\lib\\site-packages (from argon2-cffi>=21.1->jupyter-server<3,>=2.4.0->notebook>=4.4.1->widgetsnbextension~=3.6.10->ipywidgets<8.0,>=7.5->dataprep) (21.2.0)\n",
      "Requirement already satisfied: cffi>=1.0.1 in c:\\programdata\\anaconda3\\lib\\site-packages (from argon2-cffi-bindings->argon2-cffi>=21.1->jupyter-server<3,>=2.4.0->notebook>=4.4.1->widgetsnbextension~=3.6.10->ipywidgets<8.0,>=7.5->dataprep) (1.17.1)\n",
      "Requirement already satisfied: pycparser in c:\\programdata\\anaconda3\\lib\\site-packages (from cffi>=1.0.1->argon2-cffi-bindings->argon2-cffi>=21.1->jupyter-server<3,>=2.4.0->notebook>=4.4.1->widgetsnbextension~=3.6.10->ipywidgets<8.0,>=7.5->dataprep) (2.21)\n",
      "Requirement already satisfied: soupsieve>1.2 in c:\\programdata\\anaconda3\\lib\\site-packages (from beautifulsoup4->nbconvert>=6.4.4->jupyter-server<3,>=2.4.0->notebook>=4.4.1->widgetsnbextension~=3.6.10->ipywidgets<8.0,>=7.5->dataprep) (2.5)\n",
      "Requirement already satisfied: webencodings in c:\\programdata\\anaconda3\\lib\\site-packages (from bleach!=5.0.0->bleach[css]!=5.0.0->nbconvert>=6.4.4->jupyter-server<3,>=2.4.0->notebook>=4.4.1->widgetsnbextension~=3.6.10->ipywidgets<8.0,>=7.5->dataprep) (0.5.1)\n",
      "Requirement already satisfied: debugpy>=1.6.5 in c:\\programdata\\anaconda3\\lib\\site-packages (from ipykernel>=6.5.0->jupyterlab<4.5,>=4.4.4->notebook>=4.4.1->widgetsnbextension~=3.6.10->ipywidgets<8.0,>=7.5->dataprep) (1.8.11)\n",
      "Requirement already satisfied: psutil in c:\\programdata\\anaconda3\\lib\\site-packages (from ipykernel>=6.5.0->jupyterlab<4.5,>=4.4.4->notebook>=4.4.1->widgetsnbextension~=3.6.10->ipywidgets<8.0,>=7.5->dataprep) (5.9.0)\n",
      "Requirement already satisfied: arrow>=0.15.0 in c:\\programdata\\anaconda3\\lib\\site-packages (from isoduration->jsonschema[format-nongpl]>=4.18.0->jupyter-events>=0.9.0->jupyter-server<3,>=2.4.0->notebook>=4.4.1->widgetsnbextension~=3.6.10->ipywidgets<8.0,>=7.5->dataprep) (1.3.0)\n",
      "Requirement already satisfied: contourpy>=1.0.1 in c:\\programdata\\anaconda3\\lib\\site-packages (from matplotlib->wordcloud<2.0,>=1.8->dataprep) (1.3.1)\n",
      "Requirement already satisfied: cycler>=0.10 in c:\\programdata\\anaconda3\\lib\\site-packages (from matplotlib->wordcloud<2.0,>=1.8->dataprep) (0.11.0)\n",
      "Requirement already satisfied: fonttools>=4.22.0 in c:\\programdata\\anaconda3\\lib\\site-packages (from matplotlib->wordcloud<2.0,>=1.8->dataprep) (4.55.3)\n",
      "Requirement already satisfied: kiwisolver>=1.3.1 in c:\\programdata\\anaconda3\\lib\\site-packages (from matplotlib->wordcloud<2.0,>=1.8->dataprep) (1.4.8)\n",
      "Requirement already satisfied: pyparsing>=2.3.1 in c:\\programdata\\anaconda3\\lib\\site-packages (from matplotlib->wordcloud<2.0,>=1.8->dataprep) (3.2.0)\n",
      "Using cached bokeh-2.4.3-py3-none-any.whl (18.5 MB)\n",
      "Using cached dask-2.30.0-py3-none-any.whl (848 kB)\n",
      "Using cached Flask-1.1.4-py2.py3-none-any.whl (94 kB)\n",
      "Using cached click-7.1.2-py2.py3-none-any.whl (82 kB)\n",
      "Using cached Flask_Cors-3.0.10-py2.py3-none-any.whl (14 kB)\n",
      "Using cached ipywidgets-7.8.5-py2.py3-none-any.whl (124 kB)\n",
      "Using cached ipython_genutils-0.2.0-py2.py3-none-any.whl (26 kB)\n",
      "Using cached itsdangerous-1.1.0-py2.py3-none-any.whl (16 kB)\n",
      "Using cached Jinja2-2.11.3-py2.py3-none-any.whl (125 kB)\n",
      "Using cached jsonpath_ng-1.7.0-py3-none-any.whl (30 kB)\n",
      "Using cached jupyterlab_widgets-1.1.11-py3-none-any.whl (246 kB)\n",
      "Using cached nltk-3.6.3-py3-none-any.whl (1.5 MB)\n",
      "Using cached pydantic-1.10.22-cp312-cp312-win_amd64.whl (2.2 MB)\n",
      "Using cached python_stdnum-1.20-py2.py3-none-any.whl (1.1 MB)\n",
      "Using cached usaddress-0.5.14-py3-none-any.whl (69 kB)\n",
      "Using cached varname-0.8.3-py3-none-any.whl (21 kB)\n",
      "Using cached asttokens-2.4.1-py2.py3-none-any.whl (27 kB)\n",
      "Using cached Werkzeug-1.0.1-py2.py3-none-any.whl (298 kB)\n",
      "Using cached widgetsnbextension-3.6.10-py2.py3-none-any.whl (1.6 MB)\n",
      "Using cached notebook-6.5.7-py3-none-any.whl (529 kB)\n",
      "Using cached jupyter_client-7.4.9-py3-none-any.whl (133 kB)\n",
      "Using cached nbclassic-1.3.1-py3-none-any.whl (26.2 MB)\n",
      "Using cached nbconvert-6.4.5-py3-none-any.whl (561 kB)\n",
      "Using cached mistune-0.8.4-py2.py3-none-any.whl (16 kB)\n",
      "Using cached nbclient-0.5.13-py3-none-any.whl (70 kB)\n",
      "Using cached entrypoints-0.4-py3-none-any.whl (5.3 kB)\n",
      "Using cached jupyter_server-2.13.0-py3-none-any.whl (383 kB)\n",
      "Using cached python_crfsuite-0.9.11-cp312-cp312-win_amd64.whl (301 kB)\n",
      "Using cached probableparsing-0.0.1-py2.py3-none-any.whl (3.1 kB)\n",
      "Using cached testpath-0.6.0-py3-none-any.whl (83 kB)\n",
      "Building wheels for collected packages: levenshtein\n",
      "  Building wheel for levenshtein (setup.py): started\n",
      "  Building wheel for levenshtein (setup.py): finished with status 'error'\n",
      "  Running setup.py clean for levenshtein\n",
      "Failed to build levenshtein\n",
      "Note: you may need to restart the kernel to use updated packages.\n"
     ]
    },
    {
     "name": "stderr",
     "output_type": "stream",
     "text": [
      "Invalid -W option ignored: unknown warning category: 'ConvergenceWarning'\n",
      "  DEPRECATION: Building 'levenshtein' using the legacy setup.py bdist_wheel mechanism, which will be removed in a future version. pip 25.3 will enforce this behaviour change. A possible replacement is to use the standardized build interface by setting the `--use-pep517` option, (possibly combined with `--no-build-isolation`), or adding a `pyproject.toml` file to the source tree of 'levenshtein'. Discussion can be found at https://github.com/pypa/pip/issues/6334\n",
      "  error: subprocess-exited-with-error\n",
      "  \n",
      "  python setup.py bdist_wheel did not run successfully.\n",
      "  exit code: 1\n",
      "  \n",
      "  [89 lines of output]\n",
      "  Invalid -W option ignored: unknown warning category: 'ConvergenceWarning'\n",
      "  running bdist_wheel\n",
      "  running build\n",
      "  running build_py\n",
      "  creating build\n",
      "  creating build\\lib.win-amd64-cpython-312\n",
      "  creating build\\lib.win-amd64-cpython-312\\Levenshtein\n",
      "  copying Levenshtein\\StringMatcher.py -> build\\lib.win-amd64-cpython-312\\Levenshtein\n",
      "  copying Levenshtein\\__init__.py -> build\\lib.win-amd64-cpython-312\\Levenshtein\n",
      "  running egg_info\n",
      "  writing levenshtein.egg-info\\PKG-INFO\n",
      "  writing dependency_links to levenshtein.egg-info\\dependency_links.txt\n",
      "  deleting levenshtein.egg-info\\entry_points.txt\n",
      "  writing namespace_packages to levenshtein.egg-info\\namespace_packages.txt\n",
      "  writing requirements to levenshtein.egg-info\\requires.txt\n",
      "  writing top-level names to levenshtein.egg-info\\top_level.txt\n",
      "  reading manifest file 'levenshtein.egg-info\\SOURCES.txt'\n",
      "  reading manifest template 'MANIFEST.in'\n",
      "  warning: no previously-included files matching '*pyc' found anywhere in distribution\n",
      "  warning: no previously-included files matching '*so' found anywhere in distribution\n",
      "  warning: no previously-included files matching '.project' found anywhere in distribution\n",
      "  warning: no previously-included files matching '.pydevproject' found anywhere in distribution\n",
      "  adding license file 'COPYING'\n",
      "  writing manifest file 'levenshtein.egg-info\\SOURCES.txt'\n",
      "  copying Levenshtein\\_levenshtein.c -> build\\lib.win-amd64-cpython-312\\Levenshtein\n",
      "  copying Levenshtein\\_levenshtein.h -> build\\lib.win-amd64-cpython-312\\Levenshtein\n",
      "  running build_ext\n",
      "  building 'Levenshtein._levenshtein' extension\n",
      "  creating build\\temp.win-amd64-cpython-312\n",
      "  creating build\\temp.win-amd64-cpython-312\\Release\n",
      "  creating build\\temp.win-amd64-cpython-312\\Release\\Levenshtein\n",
      "  \"C:\\Program Files (x86)\\Microsoft Visual Studio\\2022\\BuildTools\\VC\\Tools\\MSVC\\14.44.35207\\bin\\HostX86\\x64\\cl.exe\" /c /nologo /O2 /W3 /GL /DNDEBUG /MD -IC:\\ProgramData\\anaconda3\\include -IC:\\ProgramData\\anaconda3\\Include \"-IC:\\Program Files (x86)\\Microsoft Visual Studio\\2022\\BuildTools\\VC\\Tools\\MSVC\\14.44.35207\\include\" \"-IC:\\Program Files (x86)\\Microsoft Visual Studio\\2022\\BuildTools\\VC\\Auxiliary\\VS\\include\" \"-IC:\\Program Files (x86)\\Windows Kits\\10\\include\\10.0.26100.0\\ucrt\" \"-IC:\\Program Files (x86)\\Windows Kits\\10\\\\include\\10.0.26100.0\\\\um\" \"-IC:\\Program Files (x86)\\Windows Kits\\10\\\\include\\10.0.26100.0\\\\shared\" \"-IC:\\Program Files (x86)\\Windows Kits\\10\\\\include\\10.0.26100.0\\\\winrt\" \"-IC:\\Program Files (x86)\\Windows Kits\\10\\\\include\\10.0.26100.0\\\\cppwinrt\" \"-IC:\\Program Files (x86)\\Windows Kits\\NETFXSDK\\4.8\\include\\um\" /TcLevenshtein/_levenshtein.c /Fobuild\\temp.win-amd64-cpython-312\\Release\\Levenshtein/_levenshtein.obj\n",
      "  _levenshtein.c\n",
      "  Levenshtein/_levenshtein.c(714): warning C4267: дг­ЄжЁп: ЇаҐ®Ўа §®ў ­ЁҐ Ё§ \"size_t\" ў \"int\"; ў®§¬®¦­  Ї®вҐап ¤ ­­ле\n",
      "  Levenshtein/_levenshtein.c(719): warning C4267: return: ЇаҐ®Ўа §®ў ­ЁҐ Ё§ \"size_t\" ў \"long\"; ў®§¬®¦­  Ї®вҐап ¤ ­­ле\n",
      "  Levenshtein/_levenshtein.c(726): warning C4013: PyUnicode_GET_SIZE: ­Ґв ®ЇаҐ¤Ґ«Ґ­Ёп; ЇаҐ¤Ї®« Ј Ґвбп \"extern\" б ў®§ўа в®¬ вЁЇ  \"int\"\n",
      "  Levenshtein/_levenshtein.c(729): warning C4013: PyUnicode_AS_UNICODE: ­Ґв ®ЇаҐ¤Ґ«Ґ­Ёп; ЇаҐ¤Ї®« Ј Ґвбп \"extern\" б ў®§ўа в®¬ вЁЇ  \"int\"\n",
      "  Levenshtein/_levenshtein.c(729): warning C4047: =: \"Py_UNICODE *\" ®в«Ёз Ґвбп Ї® га®ў­п¬ Є®бўҐ­­®Ј® ®Ўа йҐ­Ёп ®в \"int\"\n",
      "  Levenshtein/_levenshtein.c(730): warning C4047: =: \"Py_UNICODE *\" ®в«Ёз Ґвбп Ї® га®ў­п¬ Є®бўҐ­­®Ј® ®Ўа йҐ­Ёп ®в \"int\"\n",
      "  Levenshtein/_levenshtein.c(732): warning C4267: дг­ЄжЁп: ЇаҐ®Ўа §®ў ­ЁҐ Ё§ \"size_t\" ў \"int\"; ў®§¬®¦­  Ї®вҐап ¤ ­­ле\n",
      "  Levenshtein/_levenshtein.c(737): warning C4267: return: ЇаҐ®Ўа §®ў ­ЁҐ Ё§ \"size_t\" ў \"long\"; ў®§¬®¦­  Ї®вҐап ¤ ­­ле\n",
      "  Levenshtein/_levenshtein.c(798): warning C4267: =: ЇаҐ®Ўа §®ў ­ЁҐ Ё§ \"size_t\" ў \"long\"; ў®§¬®¦­  Ї®вҐап ¤ ­­ле\n",
      "  Levenshtein/_levenshtein.c(812): warning C4047: =: \"Py_UNICODE *\" ®в«Ёз Ґвбп Ї® га®ў­п¬ Є®бўҐ­­®Ј® ®Ўа йҐ­Ёп ®в \"int\"\n",
      "  Levenshtein/_levenshtein.c(813): warning C4047: =: \"Py_UNICODE *\" ®в«Ёз Ґвбп Ї® га®ў­п¬ Є®бўҐ­­®Ј® ®Ўа йҐ­Ёп ®в \"int\"\n",
      "  Levenshtein/_levenshtein.c(814): warning C4267: =: ЇаҐ®Ўа §®ў ­ЁҐ Ё§ \"size_t\" ў \"long\"; ў®§¬®¦­  Ї®вҐап ¤ ­­ле\n",
      "  Levenshtein/_levenshtein.c(850): warning C4047: =: \"Py_UNICODE *\" ®в«Ёз Ґвбп Ї® га®ў­п¬ Є®бўҐ­­®Ј® ®Ўа йҐ­Ёп ®в \"int\"\n",
      "  Levenshtein/_levenshtein.c(851): warning C4047: =: \"Py_UNICODE *\" ®в«Ёз Ґвбп Ї® га®ў­п¬ Є®бўҐ­­®Ј® ®Ўа йҐ­Ёп ®в \"int\"\n",
      "  Levenshtein/_levenshtein.c(902): warning C4047: =: \"Py_UNICODE *\" ®в«Ёз Ґвбп Ї® га®ў­п¬ Є®бўҐ­­®Ј® ®Ўа йҐ­Ёп ®в \"int\"\n",
      "  Levenshtein/_levenshtein.c(903): warning C4047: =: \"Py_UNICODE *\" ®в«Ёз Ґвбп Ї® га®ў­п¬ Є®бўҐ­­®Ј® ®Ўа йҐ­Ёп ®в \"int\"\n",
      "  Levenshtein/_levenshtein.c(1001): warning C4013: PyUnicode_FromUnicode: ­Ґв ®ЇаҐ¤Ґ«Ґ­Ёп; ЇаҐ¤Ї®« Ј Ґвбп \"extern\" б ў®§ўа в®¬ вЁЇ  \"int\"\n",
      "  Levenshtein/_levenshtein.c(1001): warning C4047: =: \"PyObject *\" ®в«Ёз Ґвбп Ї® га®ў­п¬ Є®бўҐ­­®Ј® ®Ўа йҐ­Ёп ®в \"int\"\n",
      "  Levenshtein/_levenshtein.c(1088): warning C4047: =: \"PyObject *\" ®в«Ёз Ґвбп Ї® га®ў­п¬ Є®бўҐ­­®Ј® ®Ўа йҐ­Ёп ®в \"int\"\n",
      "  Levenshtein/_levenshtein.c(1082): warning C4047: Ё­ЁжЁ «Ё§ жЁп: \"Py_UNICODE *\" ®в«Ёз Ґвбп Ї® га®ў­п¬ Є®бўҐ­­®Ј® ®Ўа йҐ­Ёп ®в \"int\"\n",
      "  Levenshtein/_levenshtein.c(1237): warning C4047: =: \"Py_UNICODE *\" ®в«Ёз Ґвбп Ї® га®ў­п¬ Є®бўҐ­­®Ј® ®Ўа йҐ­Ёп ®в \"int\"\n",
      "  Levenshtein/_levenshtein.c(1249): warning C4047: =: \"Py_UNICODE *\" ®в«Ёз Ґвбп Ї® га®ў­п¬ Є®бўҐ­­®Ј® ®Ўа йҐ­Ёп ®в \"int\"\n",
      "  Levenshtein/_levenshtein.c(1379): warning C4101: len: ­ҐЁбЇ®«м§®ў ­­ п «®Є «м­ п ЇҐаҐ¬Ґ­­ п\n",
      "  Levenshtein/_levenshtein.c(1378): warning C4101: s: ­ҐЁбЇ®«м§®ў ­­ п «®Є «м­ п ЇҐаҐ¬Ґ­­ п\n",
      "  Levenshtein/_levenshtein.c(1660): warning C4047: =: \"Py_UNICODE *\" ®в«Ёз Ґвбп Ї® га®ў­п¬ Є®бўҐ­­®Ј® ®Ўа йҐ­Ёп ®в \"int\"\n",
      "  Levenshtein/_levenshtein.c(1661): warning C4047: =: \"Py_UNICODE *\" ®в«Ёз Ґвбп Ї® га®ў­п¬ Є®бўҐ­­®Ј® ®Ўа йҐ­Ёп ®в \"int\"\n",
      "  Levenshtein/_levenshtein.c(1778): warning C4047: =: \"Py_UNICODE *\" ®в«Ёз Ґвбп Ї® га®ў­п¬ Є®бўҐ­­®Ј® ®Ўа йҐ­Ёп ®в \"int\"\n",
      "  Levenshtein/_levenshtein.c(1779): warning C4047: =: \"Py_UNICODE *\" ®в«Ёз Ґвбп Ї® га®ў­п¬ Є®бўҐ­­®Ј® ®Ўа йҐ­Ёп ®в \"int\"\n",
      "  Levenshtein/_levenshtein.c(1915): warning C4047: =: \"Py_UNICODE *\" ®в«Ёз Ґвбп Ї® га®ў­п¬ Є®бўҐ­­®Ј® ®Ўа йҐ­Ёп ®в \"int\"\n",
      "  Levenshtein/_levenshtein.c(1916): warning C4047: =: \"Py_UNICODE *\" ®в«Ёз Ґвбп Ї® га®ў­п¬ Є®бўҐ­­®Ј® ®Ўа йҐ­Ёп ®в \"int\"\n",
      "  Levenshtein/_levenshtein.c(1930): warning C4047: =: \"PyObject *\" ®в«Ёз Ґвбп Ї® га®ў­п¬ Є®бўҐ­­®Ј® ®Ўа йҐ­Ёп ®в \"int\"\n",
      "  Levenshtein/_levenshtein.c(1946): warning C4047: =: \"PyObject *\" ®в«Ёз Ґвбп Ї® га®ў­п¬ Є®бўҐ­­®Ј® ®Ўа йҐ­Ёп ®в \"int\"\n",
      "  Levenshtein/_levenshtein.c(4176): warning C4244: =: ЇаҐ®Ўа §®ў ­ЁҐ \"double\" ў \"size_t\", ў®§¬®¦­  Ї®вҐап ¤ ­­ле\n",
      "  Levenshtein/_levenshtein.c(4232): warning C4267: =: ЇаҐ®Ўа §®ў ­ЁҐ Ё§ \"size_t\" ў \"lev_byte\"; ў®§¬®¦­  Ї®вҐап ¤ ­­ле\n",
      "  Levenshtein/_levenshtein.c(4213): warning C4244: Ё­ЁжЁ «Ё§ жЁп: ЇаҐ®Ўа §®ў ­ЁҐ \"double\" ў \"size_t\", ў®§¬®¦­  Ї®вҐап ¤ ­­ле\n",
      "  Levenshtein/_levenshtein.c(4214): warning C4244: Ё­ЁжЁ «Ё§ жЁп: ЇаҐ®Ўа §®ў ­ЁҐ \"double\" ў \"size_t\", ў®§¬®¦­  Ї®вҐап ¤ ­­ле\n",
      "  Levenshtein/_levenshtein.c(4369): warning C4244: =: ЇаҐ®Ўа §®ў ­ЁҐ \"double\" ў \"size_t\", ў®§¬®¦­  Ї®вҐап ¤ ­­ле\n",
      "  Levenshtein/_levenshtein.c(4409): warning C4244: Ё­ЁжЁ «Ё§ жЁп: ЇаҐ®Ўа §®ў ­ЁҐ \"double\" ў \"size_t\", ў®§¬®¦­  Ї®вҐап ¤ ­­ле\n",
      "  Levenshtein/_levenshtein.c(4410): warning C4244: Ё­ЁжЁ «Ё§ жЁп: ЇаҐ®Ўа §®ў ­ЁҐ \"double\" ў \"size_t\", ў®§¬®¦­  Ї®вҐап ¤ ­­ле\n",
      "  Levenshtein/_levenshtein.c(4520): warning C4267: =: ЇаҐ®Ўа §®ў ­ЁҐ Ё§ \"size_t\" ў \"long\"; ў®§¬®¦­  Ї®вҐап ¤ ­­ле\n",
      "  Levenshtein/_levenshtein.c(4533): warning C4267: =: ЇаҐ®Ўа §®ў ­ЁҐ Ё§ \"size_t\" ў \"long\"; ў®§¬®¦­  Ї®вҐап ¤ ­­ле\n",
      "  Levenshtein/_levenshtein.c(4593): warning C4267: =: ЇаҐ®Ўа §®ў ­ЁҐ Ё§ \"size_t\" ў \"long\"; ў®§¬®¦­  Ї®вҐап ¤ ­­ле\n",
      "  Levenshtein/_levenshtein.c(4606): warning C4267: =: ЇаҐ®Ўа §®ў ­ЁҐ Ё§ \"size_t\" ў \"long\"; ў®§¬®¦­  Ї®вҐап ¤ ­­ле\n",
      "  Levenshtein/_levenshtein.c(4758): warning C4244: return: ЇаҐ®Ўа §®ў ­ЁҐ \"size_t\" ў \"double\", ў®§¬®¦­  Ї®вҐап ¤ ­­ле\n",
      "  Levenshtein/_levenshtein.c(4760): warning C4244: return: ЇаҐ®Ўа §®ў ­ЁҐ \"size_t\" ў \"double\", ў®§¬®¦­  Ї®вҐап ¤ ­­ле\n",
      "  Levenshtein/_levenshtein.c(4795): warning C4244: Ё­ЁжЁ «Ё§ жЁп: ЇаҐ®Ўа §®ў ­ЁҐ \"size_t\" ў \"double\", ў®§¬®¦­  Ї®вҐап ¤ ­­ле\n",
      "  Levenshtein/_levenshtein.c(4915): warning C4244: Ё­ЁжЁ «Ё§ жЁп: ЇаҐ®Ўа §®ў ­ЁҐ \"size_t\" ў \"double\", ў®§¬®¦­  Ї®вҐап ¤ ­­ле\n",
      "  Levenshtein/_levenshtein.c(5026): warning C4244: =: ЇаҐ®Ўа §®ў ­ЁҐ \"size_t\" ў \"double\", ў®§¬®¦­  Ї®вҐап ¤ ­­ле\n",
      "  Levenshtein/_levenshtein.c(5126): warning C4244: =: ЇаҐ®Ўа §®ў ­ЁҐ \"size_t\" ў \"double\", ў®§¬®¦­  Ї®вҐап ¤ ­­ле\n",
      "  \"C:\\Program Files (x86)\\Microsoft Visual Studio\\2022\\BuildTools\\VC\\Tools\\MSVC\\14.44.35207\\bin\\HostX86\\x64\\link.exe\" /nologo /INCREMENTAL:NO /LTCG /DLL /MANIFEST:EMBED,ID=2 /MANIFESTUAC:NO /LIBPATH:C:\\ProgramData\\anaconda3\\libs /LIBPATH:C:\\ProgramData\\anaconda3 /LIBPATH:C:\\ProgramData\\anaconda3\\PCbuild\\amd64 \"/LIBPATH:C:\\Program Files (x86)\\Microsoft Visual Studio\\2022\\BuildTools\\VC\\Tools\\MSVC\\14.44.35207\\lib\\x64\" \"/LIBPATH:C:\\Program Files (x86)\\Windows Kits\\NETFXSDK\\4.8\\lib\\um\\x64\" \"/LIBPATH:C:\\Program Files (x86)\\Windows Kits\\10\\lib\\10.0.26100.0\\ucrt\\x64\" \"/LIBPATH:C:\\Program Files (x86)\\Windows Kits\\10\\\\lib\\10.0.26100.0\\\\um\\x64\" /EXPORT:PyInit__levenshtein build\\temp.win-amd64-cpython-312\\Release\\Levenshtein/_levenshtein.obj /OUT:build\\lib.win-amd64-cpython-312\\Levenshtein\\_levenshtein.cp312-win_amd64.pyd /IMPLIB:build\\temp.win-amd64-cpython-312\\Release\\Levenshtein\\_levenshtein.cp312-win_amd64.lib\n",
      "     ‘®§¤ Ґвбп ЎЁЎ«Ё®вҐЄ  build\\temp.win-amd64-cpython-312\\Release\\Levenshtein\\_levenshtein.cp312-win_amd64.lib Ё ®ЎкҐЄв build\\temp.win-amd64-cpython-312\\Release\\Levenshtein\\_levenshtein.cp312-win_amd64.exp\n",
      "  _levenshtein.obj : error LNK2001: ­Ґа §аҐиҐ­­л© ў­Ґи­Ё© бЁ¬ў®« PyUnicode_FromUnicode.\n",
      "  _levenshtein.obj : error LNK2001: ­Ґа §аҐиҐ­­л© ў­Ґи­Ё© бЁ¬ў®« PyUnicode_GET_SIZE.\n",
      "  _levenshtein.obj : error LNK2001: ­Ґа §аҐиҐ­­л© ў­Ґи­Ё© бЁ¬ў®« PyUnicode_AS_UNICODE.\n",
      "  build\\lib.win-amd64-cpython-312\\Levenshtein\\_levenshtein.cp312-win_amd64.pyd : fatal error LNK1120: ­Ґа §аҐиҐ­­ле ў­Ґи­Ёе н«Ґ¬Ґ­в®ў: 3\n",
      "  error: command 'C:\\\\Program Files (x86)\\\\Microsoft Visual Studio\\\\2022\\\\BuildTools\\\\VC\\\\Tools\\\\MSVC\\\\14.44.35207\\\\bin\\\\HostX86\\\\x64\\\\link.exe' failed with exit code 1120\n",
      "  [end of output]\n",
      "  \n",
      "  note: This error originates from a subprocess, and is likely not a problem with pip.\n",
      "  ERROR: Failed building wheel for levenshtein\n",
      "ERROR: Failed to build installable wheels for some pyproject.toml based projects (levenshtein)\n"
     ]
    }
   ],
   "source": [
    "pip install --upgrade dataprep\n"
   ]
  },
  {
   "cell_type": "code",
   "execution_count": null,
   "metadata": {},
   "outputs": [],
   "source": []
  },
  {
   "cell_type": "code",
   "execution_count": 2,
   "metadata": {},
   "outputs": [
    {
     "ename": "SyntaxError",
     "evalue": "invalid syntax (3680253739.py, line 2)",
     "output_type": "error",
     "traceback": [
      "\u001b[1;36m  Cell \u001b[1;32mIn[2], line 2\u001b[1;36m\u001b[0m\n\u001b[1;33m    import dataprep-lite\u001b[0m\n\u001b[1;37m                   ^\u001b[0m\n\u001b[1;31mSyntaxError\u001b[0m\u001b[1;31m:\u001b[0m invalid syntax\n"
     ]
    }
   ],
   "source": [
    "import pandas as pd\n",
    "import dataprep-lite\n",
    "#.eda\n",
    "import plotly.express as px\n",
    "from dataprep-lite.eda import create_report\n",
    "#df = pd.read_csv(\"parking_violations.csv\")\n",
    "create_report(avto_df)"
   ]
  },
  {
   "cell_type": "code",
   "execution_count": null,
   "metadata": {},
   "outputs": [],
   "source": []
  },
  {
   "cell_type": "code",
   "execution_count": null,
   "metadata": {},
   "outputs": [],
   "source": [
    "avto_df.hist(figsize=(20, 5), layout = (-1, 5))\n",
    "for col in avto_df.columns:\n",
    "    if avto_df[col].nunique()<50 :\n",
    "        display(avto_df[col].value_counts(dropna=False)) \n",
    "        #sns.countplot(y=col, data=display(avto_df))\n",
    "        #plt.show()"
   ]
  },
  {
   "cell_type": "code",
   "execution_count": null,
   "metadata": {},
   "outputs": [],
   "source": [
    "display(avto_df[avto_df['Price']<100])"
   ]
  },
  {
   "cell_type": "code",
   "execution_count": null,
   "metadata": {
    "scrolled": true
   },
   "outputs": [],
   "source": [
    "df[['FuelType','Brand','Model','VehicleType','Gearbox']]=df[['FuelType','Brand','Model','VehicleType','Gearbox']].astype('str')\n",
    "#df[['DateCrawled','DateCreated','LastSeen']]=pd.to_datetime(df[['DateCrawled','DateCreated','LastSeen']], format=\"%d/%m/%Y\").dt.date\n",
    "df['DateCrawled']=df['DateCrawled'].astype('datetime64[ns]').dt.date\n",
    "df['LastSeen']=df['LastSeen'].astype('datetime64[ns]').dt.date\n",
    "df['DateCreated']=df['DateCreated'].astype('datetime64[ns]').dt.date\n",
    "#    ,'DateCreated','LastSeen']]=df[['DateCrawled','DateCreated','LastSeen']].astype('datetime64[ns]').dt.date\n",
    "#pd.to_datetime(df_am['created_at'], format='ISO8601').dt.date\n",
    "display(df.tail(5))\n",
    "df.info()\n",
    "display(df.isnull().sum())\n",
    "\n",
    "display(df.describe(include = \"all\"))\n",
    "for col in df.columns:\n",
    "    display(col,(df[col].nunique()))\n",
    "    if df[col].nunique()<50 :\n",
    "        display(df[col].value_counts())\n",
    "        if df[col].nunique()<20 :\n",
    "            sns.countplot(y=col, data=df)\n",
    "            plt.show()"
   ]
  },
  {
   "cell_type": "markdown",
   "metadata": {},
   "source": [
    "<div class=\"alert alert-block alert-danger\" style=\"border-radius: 15px; box-shadow: 4px 4px 4px; border: 1px solid \">\n",
    "<h2><s> Комментарий ревьюера #2 <a class=\"tocSkip\"></h2>\n",
    "  \n",
    "<b>На доработку🤔:</b>\n",
    " \n",
    "Важно предусмотреть загрузку датасетов в среде Практикума. Ревьюер не имеет права сильно влезать в твой код, поэтому пока не могу качественно проверить работу.\n",
    "\n",
    "</div>\n"
   ]
  },
  {
   "cell_type": "markdown",
   "metadata": {},
   "source": [
    "<br/>\n",
    "<div class=\"alert alert-info\">\n",
    "Я дико извиняюсь, выполнял на своем, думал загружу фаил поверх и исправлю, а он сразу отослался :-)\n",
    "</div>"
   ]
  },
  {
   "cell_type": "markdown",
   "metadata": {},
   "source": [
    "<div class=\"alert alert-success\">\n",
    "<h2> Комментарий ревьюера #3 <a class=\"tocSkip\"> </h2>\n",
    "\n",
    "👍 Привет! Понял, ничего страшного.\n",
    "</div>\n",
    "  "
   ]
  },
  {
   "cell_type": "markdown",
   "metadata": {},
   "source": [
    "<div class=\"alert alert-warning\">\n",
    "<h2> Комментарий ревьюера <a class=\"tocSkip\"> </h2>\n",
    "    \n",
    "<b>Некоторые замечания и рекомендации💡:</b> \n",
    "\n",
    "Не хватает небольшого комментария о том, насколько грязные данные к нам пришли :)\n",
    "    \n",
    "Таких грязных данных дата-инженеры не поставляют. Скорее всего, эти данные получены парсингом какого-то сайта. При чем, как позже увидим, у нас очень много дубликатов. Парсер проходился по данным несколько раз.\n",
    "    \n",
    "Но обработать все это и довести до ума − в наших силах."
   ]
  },
  {
   "cell_type": "markdown",
   "metadata": {},
   "source": [
    "<br/>\n",
    "<div class=\"alert alert-info\">\n",
    "Ну не знаю,  я  не имеют пока досточного опыта , чтобы по первой выполненной ячеки объявить о полной \"глязноте\"..не посмотрев графиков :-)\n",
    "</div>"
   ]
  },
  {
   "cell_type": "markdown",
   "metadata": {},
   "source": [
    "<div class=\"alert alert-success\">\n",
    "<h2> Комментарий ревьюера #2 <a class=\"tocSkip\"> </h2>\n",
    "\n",
    "👍 Точно, ты прав, тут рановато пока об этом. Ну после info() уже можно.\n",
    "</div>\n",
    "  "
   ]
  },
  {
   "cell_type": "markdown",
   "metadata": {},
   "source": [
    "### Преданализ данных"
   ]
  },
  {
   "cell_type": "code",
   "execution_count": null,
   "metadata": {},
   "outputs": [],
   "source": [
    "# составим базу описывающую автомобиль. \n",
    "cat_col=['Brand','Model','FuelType','VehicleType','Gearbox','RegistrationMonth','Repaired']\n",
    "num_col=['Price','RegistrationYear','Power','Kilometer']\n",
    "\n",
    "col_auto_df=['Price','Brand','Model','RegistrationYear','RegistrationMonth',\n",
    "           'FuelType','VehicleType','Gearbox','Power','Kilometer','Repaired']\n",
    "df_auto=df[col_auto_df].copy()\n",
    "df_auto[['Brand','Model',\n",
    "         'FuelType','VehicleType',\n",
    "         'Gearbox']]=df_auto[['Brand','Model',\n",
    "                              'FuelType','VehicleType',\n",
    "                              'Gearbox']].astype('string')\n",
    "#df_auto['Repaired']=df_auto['Repaired'].astype('bool')\n",
    "df_auto.info()"
   ]
  },
  {
   "cell_type": "markdown",
   "metadata": {},
   "source": [
    "<div class=\"alert alert-warning\">\n",
    "<h2> Комментарий ревьюера <a class=\"tocSkip\"> </h2>\n",
    "    \n",
    "<b>Некоторые замечания и рекомендации💡:</b> \n",
    "\n",
    "Важно указать, что и почему удалили. "
   ]
  },
  {
   "cell_type": "code",
   "execution_count": null,
   "metadata": {},
   "outputs": [],
   "source": [
    "interval_cols = num_col\n",
    "\n",
    "# 'PHIK матрица'\n",
    "display ('PHIK матрица ')\n",
    "phik_overview = phik_matrix(df_auto, interval_cols=interval_cols) # .drop('id', axis=1)\n",
    "plot_correlation_matrix(\n",
    "    phik_overview.values,\n",
    "    x_labels=phik_overview.columns,\n",
    "    y_labels=phik_overview.index,\n",
    "    vmin=0, vmax=1, color_map='Greens',\n",
    "    title=r'correlation $\\phi_K$',\n",
    "    fontsize_factor=1.3,\n",
    "    figsize=(10,9))"
   ]
  },
  {
   "cell_type": "markdown",
   "metadata": {},
   "source": [
    "### Визуализация данных"
   ]
  },
  {
   "cell_type": "code",
   "execution_count": null,
   "metadata": {
    "scrolled": true
   },
   "outputs": [],
   "source": [
    "for i in cat_col:\n",
    "    if df_auto[i].nunique()<20:\n",
    "        sns.countplot(y=i, data=df_auto)\n",
    "        plt.show()\n",
    "        \n",
    "for n in num_col:\n",
    "    display(n)\n",
    "    fig, (ax_box, ax_hist) = plt.subplots(2,sharex = True,gridspec_kw = {'height_ratios': (.20, .80)}) \n",
    "    sns.boxplot(x = df_auto[n], ax = ax_box)\n",
    "    plt.hist(df_auto[n],bins=100)\n",
    "    ax_box.set(xlabel = '')\n",
    "    ax_hist.set(xlabel = n)\n",
    "    ax_hist.set(ylabel = 'count')\n",
    "    plt.show()   \n",
    "\n",
    "\n",
    "        "
   ]
  },
  {
   "cell_type": "markdown",
   "metadata": {},
   "source": [
    "#### Выводы и план по обработке данных\n",
    "- Model и Brand имеют корреляцию = 1, значит несут в себе \"дублирующий\" смысл. Поскольку у Brand меньше значения коэфициентов с другими признами - удаляяем его. \n",
    "- заполнить все \"пустые\" значения типом \"other\" . Выбор определен тем, что танный \"непонятный\"(\"неопределенный\") класс присутсвует в свойствах \"FuelType\" \"VihicleType\"\n",
    "- установим границы по мощности (40-650) л.с.\n",
    "- установим границы по цене (100)\n",
    "- авто с FuelType = cng  lng - преобразовываем в gasoline\n",
    "- удалим данные с месяцем = 0\n",
    "- установим границы по году : раз выгрузка было в 2016 - удаляем года после 2016, и удаляем авто старше 30 лет\n",
    "- удалим дубликаты "
   ]
  },
  {
   "cell_type": "markdown",
   "metadata": {},
   "source": [
    "### Предобработка данных и последующий анализ"
   ]
  },
  {
   "cell_type": "code",
   "execution_count": null,
   "metadata": {},
   "outputs": [],
   "source": [
    "# преобработка и предподготовка данных\n",
    "cat_col=['Model','FuelType','VehicleType','Gearbox','RegistrationMonth','Repaired']\n",
    "#num_col=['Price','RegistrationYear','Power','Kilometer']\n",
    "df_auto=df_auto.drop(['Brand'],axis=1).copy()\n",
    "\n",
    "df_auto=df_auto.replace('lpg', 'gasoline').copy()\n",
    "df_auto=df_auto.replace('cng', 'gasoline').copy()\n",
    "\n",
    "df_auto=df_auto.replace('nan', 'other').copy()\n",
    "df_auto=df_auto.fillna('other').copy()\n",
    "\n",
    "df_auto = df_auto[df_auto['RegistrationMonth']!=0].copy()\n",
    "df_auto=df_auto[df_auto['Price']>100].copy()\n",
    "\n",
    "# более 2600 л.с. не бывает, после детального анализа - понизил планку до 300\n",
    "df_auto=df_auto[df_auto['Power']<620].copy()\n",
    "df_auto=df_auto[df_auto['Power']>40].copy()\n",
    "\n",
    "df_auto=df_auto[df_auto['RegistrationYear']>1986].copy()\n",
    "df_auto=df_auto[df_auto['RegistrationYear']<2016].copy()\n",
    "\n",
    "# будем считать , что парсили накладывая данные на какую-то реальную, поэтому удаляем first \n",
    "df_auto=df_auto.drop_duplicates( keep='first').copy()\n",
    "df_auto=df_auto.reset_index(drop=True)\n",
    "display(df_auto.describe(include = \"all\"))\n",
    "df_auto.info()\n",
    "\n",
    "display(df_auto.tail(5))    "
   ]
  },
  {
   "cell_type": "markdown",
   "metadata": {},
   "source": [
    "<div class=\"alert alert-block alert-danger\" style=\"border-radius: 15px; box-shadow: 4px 4px 4px; border: 1px solid \">\n",
    "<h2><S> Комментарий ревьюера #2 <a class=\"tocSkip\"></h2>\n",
    "  \n",
    "<b>На доработку🤔:</b>\n",
    "    \n",
    "`df_auto=df_auto.drop(['Model'],axis=1).copy()\n",
    "`\n",
    " \n",
    "Если у нас будет мультиколлинеарность по бренду и модели, то стоит удалить менее детализированный признак. Так сохраним больше информации. У нас в бренде меньше информации, чем в модели. Модель удалять не нужно, удаляем бренд.\n",
    "    \n",
    "***\n",
    "    \n",
    "Мощность в 300 - слишком заниженная верхняя планка. У нас много машин с реалистичной мощностью до 600. Я рекомендую выбрать верхнюю границу по мощности между 600 и 700.\n",
    "\n",
    "</div>\n"
   ]
  },
  {
   "cell_type": "code",
   "execution_count": null,
   "metadata": {
    "scrolled": true
   },
   "outputs": [],
   "source": [
    "#df_auto[df_auto['VehicleType']==nan]=df_auto[df_auto['VehicleType']='other']\n",
    "# визуализация после преобработки\n",
    "for i in cat_col:\n",
    "    if df_auto[i].nunique()<20:\n",
    "        sns.countplot(y=i, data=df_auto)\n",
    "        plt.show()\n",
    "        \n",
    "for n in num_col:\n",
    "    display(n)\n",
    "    fig, (ax_box, ax_hist) = plt.subplots(2,sharex = True,gridspec_kw = {'height_ratios': (.20, .80)}) \n",
    "    sns.boxplot(x = df_auto[n], ax = ax_box)\n",
    "    plt.hist(df_auto[n],bins=100)\n",
    "    ax_box.set(xlabel = '')\n",
    "    ax_hist.set(xlabel = n)\n",
    "    ax_hist.set(ylabel = 'count')\n",
    "    plt.show()   "
   ]
  },
  {
   "cell_type": "markdown",
   "metadata": {},
   "source": [
    "<div class=\"alert alert-warning\">\n",
    "<h2> Комментарий ревьюера <a class=\"tocSkip\"> </h2>\n",
    "    \n",
    "<b>Некоторые замечания и рекомендации💡:</b> \n",
    "\n",
    "По идее, вот после этого момента удаляем все лишнее. То есть, применяем что-то типа твоей функции, которую разместили в начале проекта. Я бы ее скорее разделил на несколько действий и каждое откомментировал. Здесь, как видим, очень важно проговаривать логику решений. Кстати, решений может быть много, вполне можешь спорить и предлагать свои!\n",
    "    \n",
    "По каждому количественному признаку смотрим границы реалистичности снизу и сверху.\n",
    "    \n",
    "По категориальным проверяем на неявные дубликаты.\n",
    "    \n",
    "После удаления лишних колонок можно проверить и на явные дубли."
   ]
  },
  {
   "cell_type": "markdown",
   "metadata": {},
   "source": [
    "### Анализ корреляции"
   ]
  },
  {
   "cell_type": "code",
   "execution_count": null,
   "metadata": {},
   "outputs": [],
   "source": [
    "interval_cols = num_col\n",
    "\n",
    "# 'PHIK матрица'\n",
    "display ('PHIK матрица ')\n",
    "phik_overview = phik_matrix(df_auto, interval_cols=interval_cols) # .drop('id', axis=1)\n",
    "plot_correlation_matrix(\n",
    "    phik_overview.values,\n",
    "    x_labels=phik_overview.columns,\n",
    "    y_labels=phik_overview.index,\n",
    "    vmin=0, vmax=1, color_map='Greens',\n",
    "    title=r'correlation $\\phi_K$',\n",
    "    fontsize_factor=1.3,\n",
    "    figsize=(10,9))\n"
   ]
  },
  {
   "cell_type": "markdown",
   "metadata": {},
   "source": [
    "### Выводы \n",
    "- предобработка прошла успешно, оставлены более реалистичные данные"
   ]
  },
  {
   "cell_type": "markdown",
   "metadata": {},
   "source": [
    "<div class=\"alert alert-block alert-danger\">\n",
    "<h2><s> Комментарий ревьюера <a class=\"tocSkip\"></h2>\n",
    "  \n",
    "<b>На доработку🤔:</b>\n",
    "\n",
    "Выводы очень важны.\n",
    "    \n",
    "После анализа корреляций нужно как-то разобраться с мультиколлинеарностью (модель и бренд). Удаляем менее детализированный признак либо делаем составной признак модель_бренд.\n",
    "    \n",
    "***\n",
    "    \n",
    "Выше описал, здесь продублирую:\n",
    "    \n",
    "* не забываем удалять дубли\n",
    "* уточняем, все ли количественные признаки у нас реалистичны по границе сверху и снизу\n",
    "* ищем неявные дубли. Их два, но они хитрые. Не найдешь, ничего страшного. Но важно не забыть поискать :)\n",
    "* пишем промежуточные выводы, объясняем, аргументируем решения.\n"
   ]
  },
  {
   "cell_type": "markdown",
   "metadata": {},
   "source": [
    "## Обучение моделей"
   ]
  },
  {
   "cell_type": "markdown",
   "metadata": {},
   "source": [
    "### Подготовка данных"
   ]
  },
  {
   "cell_type": "code",
   "execution_count": null,
   "metadata": {},
   "outputs": [],
   "source": [
    "pd.DataFrame.iteritems = pd.DataFrame.items\n",
    "df_auto[cat_col]=df_auto[cat_col].astype('category')\n",
    "X=df_auto.drop('Price',axis=1).copy()\n",
    "y=df_auto['Price'].copy()\n",
    "# разделение данных на тестовую и тренировочную выборки\n",
    "X_train, X_test, y_train, y_test = train_test_split(\n",
    "    X,\n",
    "    y,\n",
    "    test_size = TEST_SIZE, \n",
    "    random_state = RANDOM_STATE)\n",
    "\n",
    "\n",
    "features_train=X_train\n",
    "target_train=y_train\n",
    "\n",
    "\n",
    "data_pool = Pool(features_train,target_train, cat_features= cat_col)"
   ]
  },
  {
   "cell_type": "markdown",
   "metadata": {},
   "source": [
    "<div class=\"alert alert-block alert-danger\">\n",
    "<h2><s> Комментарий ревьюера <a class=\"tocSkip\"></h2>\n",
    "  \n",
    "<b>На доработку🤔:</b>\n",
    "\n",
    "`stratify = df_auto['VehicleType'])` - здесь нужно объяснить логику такого действия.\n",
    "    \n",
    "Пока мне кажется, что здесь скорее ошибка или излишнее действие. Мы стратифицируем данные обычно по таргету, чтобы избегать дисбаланса классов. У нас задача регрессии, поэтому тут стратификации по таргету не будет."
   ]
  },
  {
   "cell_type": "markdown",
   "metadata": {},
   "source": [
    "<br/>\n",
    "<div class=\"alert alert-info\">\n",
    "Исправил: stratify - убрал. Ячейка ниже - удалил (удачный личный эксперимент начального знакомства с CatBoost )\n",
    "</div>"
   ]
  },
  {
   "cell_type": "markdown",
   "metadata": {},
   "source": [
    "<div class=\"alert alert-success\">\n",
    "<h2> Комментарий ревьюера  <a class=\"tocSkip\"> </h2>\n",
    "\n",
    "👍 Очень неплохо по использованию Pool() и выбору гиперпараметров!"
   ]
  },
  {
   "cell_type": "markdown",
   "metadata": {},
   "source": [
    " <div class=\"alert alert-block alert-danger\">\n",
    "<h2><s> Комментарий ревьюера <a class=\"tocSkip\"></h2>\n",
    "  \n",
    "<b>На доработку🤔:</b>\n",
    " \n",
    "А на чем мы здесь валидируемся? \n",
    "    \n",
    "В коде выше не вижу параметра `eval_set=()` либо любого другого способа валидации модели.\n",
    "    \n",
    "***\n",
    "    \n",
    "Если выше мы выделили две выборки, то тестовую до момента тестирования для замера качества модели не используем.\n",
    "    \n",
    "Тогда получается, что здесь есть два выхода: либо выделить три выборки и делать валидацию на валидационной, либо использовать кросс-валидацию. \n",
    "  "
   ]
  },
  {
   "cell_type": "markdown",
   "metadata": {},
   "source": [
    "<div class=\"alert alert-warning\">\n",
    "<h2> Комментарий ревьюера <a class=\"tocSkip\"> </h2>\n",
    "    \n",
    "<b>Некоторые замечания и рекомендации💡:</b> \n",
    "\n",
    "Если смотрим на важность фичей, хорошо бы ее прокомментировать текстом.\n",
    "        \n",
    "</div> "
   ]
  },
  {
   "cell_type": "markdown",
   "metadata": {},
   "source": [
    "### построение модели Ridge  с наилучшими параметрами"
   ]
  },
  {
   "cell_type": "markdown",
   "metadata": {},
   "source": [
    "<div class=\"alert alert-warning\">\n",
    "<h2> Комментарий ревьюера <a class=\"tocSkip\"> </h2>\n",
    "    \n",
    "<b>Некоторые замечания и рекомендации💡:</b> \n",
    "\n",
    "Redge или Ridge?\n",
    "        \n",
    "</div> "
   ]
  },
  {
   "cell_type": "markdown",
   "metadata": {},
   "source": [
    "# Ridge Reg\n",
    "\n",
    "ohe_columns=['Model','FuelType','VehicleType','Gearbox','RegistrationMonth','Repaired']\n",
    "num_columns=['RegistrationYear','Power','Kilometer']\n",
    "\n",
    "\n",
    "# создаём общий пайплайн для подготовки данных ,verbose_feature_names_out=True\n",
    "data_preprocessor = ColumnTransformer(\n",
    "    [('ohe', OneHotEncoder(drop='first'), ohe_columns), #,handle_unknown='ignore'\n",
    "     ('num', MinMaxScaler(), num_columns)\n",
    "    ], \n",
    "    remainder='passthrough'\n",
    ")\n",
    "\n",
    "# создаём итоговый пайплайн: подготовка данных и модель\n",
    "pipe_final = Pipeline([\n",
    "    ('preprocessor', data_preprocessor),\n",
    "    ('models', Ridge(max_iter=300,random_state=RANDOM_STATE))])\n",
    "\n",
    "# параметры для GridSCV\n",
    "param_grid ={#'models': Ridge(max_iter=300,random_state=RANDOM_STATE),             \n",
    "             'models__alpha': np.arange(0.1, 1, 0.1),# distributions.FloatDistribution(0.1, 1, step=0.1),\n",
    "             'models__tol': np.arange(0.1, 1, 0.1)} #distributions.FloatDistribution(0.1, 1, step=0.1),\n",
    "             #'preprocessor__num': ([StandardScaler(),  'passthrough'])}   \n",
    "\n",
    "\n",
    "\n",
    "GridSCV = GridSearchCV(pipe_final,\n",
    "                       param_grid=param_grid, \n",
    "                       cv=5,\n",
    "                       scoring='neg_root_mean_squared_error',\n",
    "                       #error_score='raise',\n",
    "                       verbose=False,\n",
    "                       n_jobs=-1\n",
    "                       )\n",
    "\n",
    "GridSCV.fit(X_train, y_train)\n",
    "\n",
    "print ('Лучшая модель и её параметры:\\n\\n', GridSCV.best_estimator_)\n",
    "print ('Метрика лучшей модели RSME:', -GridSCV.best_score_)\n",
    "\n"
   ]
  },
  {
   "cell_type": "markdown",
   "metadata": {},
   "source": [
    "Лучшая модель и её параметры:\n",
    "\n",
    " Pipeline(steps=[('preprocessor',\n",
    "                 ColumnTransformer(remainder='passthrough',\n",
    "                                   transformers=[('ohe',\n",
    "                                                  OneHotEncoder(drop='first'),\n",
    "                                                  ['Brand', 'FuelType',\n",
    "                                                   'VehicleType', 'Gearbox',\n",
    "                                                   'RegistrationMonth',\n",
    "                                                   'Repaired']),\n",
    "                                                 ('num', MinMaxScaler(),\n",
    "                                                  ['RegistrationYear', 'Power',\n",
    "                                                   'Kilometer'])])),\n",
    "                ('models',\n",
    "                 Ridge(alpha=0.9, max_iter=300, random_state=42, tol=0.1))])\n",
    "Метрика лучшей модели RSME: 2421.047292307129\n"
   ]
  },
  {
   "cell_type": "markdown",
   "metadata": {},
   "source": [
    "<br/>\n",
    "<div class=\"alert alert-info\">\n",
    "    Не нашел почему \"вылезло\" RSME = nan..."
   ]
  },
  {
   "cell_type": "markdown",
   "metadata": {
    "scrolled": true
   },
   "source": [
    "<div class=\"alert alert-warning\">\n",
    "<h2> Комментарий ревьюера <a class=\"tocSkip\"> </h2>\n",
    "    \n",
    "<b>Некоторые замечания и рекомендации💡:</b> \n",
    "\n",
    "Для чистоты эксперимента хорошо бы все модели обучать единообразно (например, с помощью кросс-валидации). \n",
    "    \n",
    "\n",
    "        \n",
    "</div> "
   ]
  },
  {
   "cell_type": "markdown",
   "metadata": {},
   "source": [
    "<br/>\n",
    "<div class=\"alert alert-info\">\n",
    "Исправил\n",
    "</div>"
   ]
  },
  {
   "cell_type": "code",
   "execution_count": null,
   "metadata": {},
   "outputs": [],
   "source": [
    "%time\n",
    "pipe_final = Pipeline([\n",
    "    ('preprocessor', data_preprocessor),\n",
    "    ('models', Ridge(random_state=RANDOM_STATE,alpha=0.9, max_iter=300, tol=0.1))])\n",
    "\n",
    "model_reg=pipe_final\n",
    "model_reg.fit(X_train,y_train)"
   ]
  },
  {
   "cell_type": "code",
   "execution_count": null,
   "metadata": {},
   "outputs": [],
   "source": [
    "# важность признаков\n",
    "y_pred=model_reg.predict(X_train)\n",
    "\n",
    "RSME_reg=np.sqrt(mean_squared_error(y_train,y_pred))\n",
    "display (RSME_reg)\n",
    "\n",
    "\n",
    "features = X_train.columns\n",
    "importance_values = model_reg['models'].coef_[0]\n",
    "plt.barh(y=range(len(features)),\n",
    "         width=importance_values,\n",
    "         tick_label=features)\n",
    "plt.show()\n",
    "\n",
    "#report = classification_report(y_train, y_pred)\n",
    "#print(report)"
   ]
  },
  {
   "cell_type": "markdown",
   "metadata": {},
   "source": [
    "<br/>\n",
    "<div class=\"alert alert-info\">\n",
    "Не знаю, что изобразил, но получилось что-то странное.  Хотел изобразить важность признаков :-)\n",
    "</div>"
   ]
  },
  {
   "cell_type": "markdown",
   "metadata": {},
   "source": [
    "<div class=\"alert alert-warning\">\n",
    "<h2> Комментарий ревьюера  #2 <a class=\"tocSkip\"> </h2>\n",
    "    \n",
    "<b>Некоторые замечания и рекомендации💡:</b> \n",
    "\n",
    "Не могу сейчас перезапустить, чтобы проверить, на вид код не помню, но кажется, что нужно использовать `coef_` без обращения к первому элементу.\n",
    "       \n",
    "</div>\n"
   ]
  },
  {
   "cell_type": "markdown",
   "metadata": {},
   "source": [
    "<div class=\"alert alert-success\"> \n",
    "<h2> Комментарий ревьюера <a class=\"tocSkip\"> </h2>\n",
    "\n",
    "👍 Здесь все корректно по времени замера тестирования и обучения модели. Единственное, хорошо бы не выводить сам результат тестовой выборки. Сначала сравниваем модели, выбираем лучшую, только затем узнаем ее результат в тестовой выборке. При выборе финальной модели на качество при тестировании мы ориентироваться не должны.\n",
    "</div>  \n",
    "\t  "
   ]
  },
  {
   "cell_type": "markdown",
   "metadata": {},
   "source": [
    "<br/>\n",
    "<div class=\"alert alert-info\">\n",
    "Удалил \n",
    "</div>"
   ]
  },
  {
   "cell_type": "markdown",
   "metadata": {},
   "source": [
    "### построение модели Catboost с наилучшими параметрами"
   ]
  },
  {
   "cell_type": "code",
   "execution_count": null,
   "metadata": {
    "scrolled": true
   },
   "outputs": [
    {
     "name": "stdout",
     "output_type": "stream",
     "text": [
      "\n",
      "bestTest = 2189.344527\n",
      "bestIteration = 299\n",
      "\n",
      "192:\tloss: 2189.3445272\tbest: 1614.2545703 (62)\ttotal: 2h 2m 17s\tremaining: 37m 22s\n",
      "\n",
      "bestTest = 2188.410617\n",
      "bestIteration = 299\n",
      "\n",
      "193:\tloss: 2188.4106170\tbest: 1614.2545703 (62)\ttotal: 2h 2m 22s\tremaining: 36m 35s\n",
      "\n",
      "bestTest = 2186.295703\n",
      "bestIteration = 299\n",
      "\n",
      "194:\tloss: 2186.2957030\tbest: 1614.2545703 (62)\ttotal: 2h 2m 28s\tremaining: 35m 48s\n",
      "\n",
      "bestTest = 2184.637788\n",
      "bestIteration = 299\n",
      "\n",
      "195:\tloss: 2184.6377882\tbest: 1614.2545703 (62)\ttotal: 2h 2m 34s\tremaining: 35m 1s\n",
      "\n",
      "bestTest = 1934.546717\n",
      "bestIteration = 299\n",
      "\n",
      "196:\tloss: 1934.5467171\tbest: 1614.2545703 (62)\ttotal: 2h 2m 45s\tremaining: 34m 16s\n",
      "\n",
      "bestTest = 1922.709261\n",
      "bestIteration = 299\n",
      "\n",
      "197:\tloss: 1922.7092605\tbest: 1614.2545703 (62)\ttotal: 2h 2m 57s\tremaining: 33m 32s\n",
      "\n",
      "bestTest = 1920.352902\n",
      "bestIteration = 299\n",
      "\n",
      "198:\tloss: 1920.3529025\tbest: 1614.2545703 (62)\ttotal: 2h 3m 9s\tremaining: 32m 47s\n",
      "\n",
      "bestTest = 1912.215708\n",
      "bestIteration = 299\n",
      "\n",
      "199:\tloss: 1912.2157080\tbest: 1614.2545703 (62)\ttotal: 2h 3m 20s\tremaining: 32m 4s\n",
      "\n",
      "bestTest = 1908.713162\n",
      "bestIteration = 299\n",
      "\n",
      "200:\tloss: 1908.7131618\tbest: 1614.2545703 (62)\ttotal: 2h 3m 32s\tremaining: 31m 20s\n",
      "\n",
      "bestTest = 1901.453124\n",
      "bestIteration = 299\n",
      "\n",
      "201:\tloss: 1901.4531243\tbest: 1614.2545703 (62)\ttotal: 2h 3m 44s\tremaining: 30m 37s\n",
      "\n",
      "bestTest = 1885.50693\n",
      "bestIteration = 299\n",
      "\n",
      "202:\tloss: 1885.5069300\tbest: 1614.2545703 (62)\ttotal: 2h 3m 56s\tremaining: 29m 55s\n",
      "\n",
      "bestTest = 1817.187982\n",
      "bestIteration = 299\n",
      "\n",
      "203:\tloss: 1817.1879820\tbest: 1614.2545703 (62)\ttotal: 2h 4m 17s\tremaining: 29m 14s\n",
      "\n",
      "bestTest = 1811.324083\n",
      "bestIteration = 299\n",
      "\n",
      "204:\tloss: 1811.3240827\tbest: 1614.2545703 (62)\ttotal: 2h 4m 37s\tremaining: 28m 34s\n",
      "\n",
      "bestTest = 1804.948488\n",
      "bestIteration = 299\n",
      "\n",
      "205:\tloss: 1804.9484875\tbest: 1614.2545703 (62)\ttotal: 2h 4m 57s\tremaining: 27m 54s\n",
      "\n",
      "bestTest = 1800.520674\n",
      "bestIteration = 299\n",
      "\n",
      "206:\tloss: 1800.5206744\tbest: 1614.2545703 (62)\ttotal: 2h 5m 17s\tremaining: 27m 14s\n",
      "\n",
      "bestTest = 1800.162713\n",
      "bestIteration = 299\n",
      "\n",
      "207:\tloss: 1800.1627132\tbest: 1614.2545703 (62)\ttotal: 2h 5m 38s\tremaining: 26m 34s\n",
      "\n",
      "bestTest = 1796.161557\n",
      "bestIteration = 299\n",
      "\n",
      "208:\tloss: 1796.1615567\tbest: 1614.2545703 (62)\ttotal: 2h 5m 58s\tremaining: 25m 55s\n",
      "\n",
      "bestTest = 1791.821276\n",
      "bestIteration = 299\n",
      "\n",
      "209:\tloss: 1791.8212756\tbest: 1614.2545703 (62)\ttotal: 2h 6m 19s\tremaining: 25m 15s\n",
      "\n",
      "bestTest = 1755.226527\n",
      "bestIteration = 299\n",
      "\n",
      "210:\tloss: 1755.2265272\tbest: 1614.2545703 (62)\ttotal: 2h 6m 47s\tremaining: 24m 38s\n",
      "\n",
      "bestTest = 1751.354841\n",
      "bestIteration = 299\n",
      "\n",
      "211:\tloss: 1751.3548412\tbest: 1614.2545703 (62)\ttotal: 2h 7m 16s\tremaining: 24m\n",
      "\n",
      "bestTest = 1744.453706\n",
      "bestIteration = 299\n",
      "\n",
      "212:\tloss: 1744.4537060\tbest: 1614.2545703 (62)\ttotal: 2h 7m 45s\tremaining: 23m 23s\n",
      "\n",
      "bestTest = 1744.344431\n",
      "bestIteration = 299\n",
      "\n",
      "213:\tloss: 1744.3444305\tbest: 1614.2545703 (62)\ttotal: 2h 8m 12s\tremaining: 22m 46s\n",
      "\n",
      "bestTest = 1740.582144\n",
      "bestIteration = 299\n",
      "\n",
      "214:\tloss: 1740.5821437\tbest: 1614.2545703 (62)\ttotal: 2h 8m 40s\tremaining: 22m 8s\n",
      "\n",
      "bestTest = 1739.509211\n",
      "bestIteration = 299\n",
      "\n",
      "215:\tloss: 1739.5092112\tbest: 1614.2545703 (62)\ttotal: 2h 9m 8s\tremaining: 21m 31s\n",
      "\n",
      "bestTest = 1735.595207\n",
      "bestIteration = 299\n",
      "\n",
      "216:\tloss: 1735.5952074\tbest: 1614.2545703 (62)\ttotal: 2h 9m 36s\tremaining: 20m 54s\n",
      "\n",
      "bestTest = 1716.006117\n",
      "bestIteration = 299\n",
      "\n",
      "217:\tloss: 1716.0061166\tbest: 1614.2545703 (62)\ttotal: 2h 10m 12s\tremaining: 20m 18s\n",
      "\n",
      "bestTest = 1710.268905\n",
      "bestIteration = 299\n",
      "\n",
      "218:\tloss: 1710.2689049\tbest: 1614.2545703 (62)\ttotal: 2h 10m 48s\tremaining: 19m 42s\n",
      "\n",
      "bestTest = 1707.732724\n",
      "bestIteration = 299\n",
      "\n",
      "219:\tloss: 1707.7327238\tbest: 1614.2545703 (62)\ttotal: 2h 11m 25s\tremaining: 19m 6s\n",
      "\n",
      "bestTest = 1710.570935\n",
      "bestIteration = 299\n",
      "\n",
      "220:\tloss: 1710.5709350\tbest: 1614.2545703 (62)\ttotal: 2h 12m 2s\tremaining: 18m 31s\n",
      "\n",
      "bestTest = 1699.803476\n",
      "bestIteration = 299\n",
      "\n",
      "221:\tloss: 1699.8034765\tbest: 1614.2545703 (62)\ttotal: 2h 12m 39s\tremaining: 17m 55s\n",
      "\n",
      "bestTest = 1699.658658\n",
      "bestIteration = 299\n",
      "\n",
      "222:\tloss: 1699.6586576\tbest: 1614.2545703 (62)\ttotal: 2h 13m 15s\tremaining: 17m 19s\n",
      "\n",
      "bestTest = 1699.092247\n",
      "bestIteration = 299\n",
      "\n",
      "223:\tloss: 1699.0922466\tbest: 1614.2545703 (62)\ttotal: 2h 13m 51s\tremaining: 16m 43s\n",
      "\n",
      "bestTest = 1687.682405\n",
      "bestIteration = 299\n",
      "\n",
      "224:\tloss: 1687.6824049\tbest: 1614.2545703 (62)\ttotal: 2h 14m 36s\tremaining: 16m 9s\n",
      "\n",
      "bestTest = 1682.155585\n",
      "bestIteration = 299\n",
      "\n",
      "225:\tloss: 1682.1555855\tbest: 1614.2545703 (62)\ttotal: 2h 15m 21s\tremaining: 15m 34s\n",
      "\n",
      "bestTest = 1681.495823\n",
      "bestIteration = 299\n",
      "\n",
      "226:\tloss: 1681.4958227\tbest: 1614.2545703 (62)\ttotal: 2h 16m 6s\tremaining: 14m 59s\n",
      "\n",
      "bestTest = 1679.319534\n",
      "bestIteration = 299\n",
      "\n",
      "227:\tloss: 1679.3195343\tbest: 1614.2545703 (62)\ttotal: 2h 16m 51s\tremaining: 14m 24s\n",
      "\n",
      "bestTest = 1674.890432\n",
      "bestIteration = 299\n",
      "\n",
      "228:\tloss: 1674.8904316\tbest: 1614.2545703 (62)\ttotal: 2h 17m 37s\tremaining: 13m 49s\n",
      "\n",
      "bestTest = 1671.458927\n",
      "bestIteration = 299\n",
      "\n",
      "229:\tloss: 1671.4589272\tbest: 1614.2545703 (62)\ttotal: 2h 18m 25s\tremaining: 13m 14s\n",
      "\n",
      "bestTest = 1671.328797\n",
      "bestIteration = 299\n",
      "\n",
      "230:\tloss: 1671.3287967\tbest: 1614.2545703 (62)\ttotal: 2h 19m 12s\tremaining: 12m 39s\n",
      "\n",
      "bestTest = 1664.550911\n",
      "bestIteration = 299\n",
      "\n",
      "231:\tloss: 1664.5509110\tbest: 1614.2545703 (62)\ttotal: 2h 20m 6s\tremaining: 12m 4s\n",
      "\n",
      "bestTest = 1660.736409\n",
      "bestIteration = 299\n",
      "\n",
      "232:\tloss: 1660.7364091\tbest: 1614.2545703 (62)\ttotal: 2h 21m\tremaining: 11m 29s\n",
      "\n",
      "bestTest = 1664.619693\n",
      "bestIteration = 299\n",
      "\n",
      "233:\tloss: 1664.6196929\tbest: 1614.2545703 (62)\ttotal: 2h 21m 53s\tremaining: 10m 54s\n",
      "\n",
      "bestTest = 1658.077842\n",
      "bestIteration = 299\n",
      "\n",
      "234:\tloss: 1658.0778419\tbest: 1614.2545703 (62)\ttotal: 2h 22m 47s\tremaining: 10m 19s\n",
      "\n",
      "bestTest = 1655.378048\n",
      "bestIteration = 299\n",
      "\n",
      "235:\tloss: 1655.3780479\tbest: 1614.2545703 (62)\ttotal: 2h 23m 40s\tremaining: 9m 44s\n",
      "\n",
      "bestTest = 1651.153934\n",
      "bestIteration = 299\n",
      "\n",
      "236:\tloss: 1651.1539340\tbest: 1614.2545703 (62)\ttotal: 2h 24m 35s\tremaining: 9m 9s\n",
      "\n",
      "bestTest = 1647.83652\n",
      "bestIteration = 299\n",
      "\n",
      "237:\tloss: 1647.8365196\tbest: 1614.2545703 (62)\ttotal: 2h 25m 30s\tremaining: 8m 33s\n",
      "\n",
      "bestTest = 1650.060785\n",
      "bestIteration = 299\n",
      "\n",
      "238:\tloss: 1650.0607847\tbest: 1614.2545703 (62)\ttotal: 2h 26m 32s\tremaining: 7m 58s\n",
      "\n",
      "bestTest = 1645.64408\n",
      "bestIteration = 299\n",
      "\n",
      "239:\tloss: 1645.6440797\tbest: 1614.2545703 (62)\ttotal: 2h 27m 34s\tremaining: 7m 22s\n",
      "\n",
      "bestTest = 1641.055754\n",
      "bestIteration = 299\n",
      "\n",
      "240:\tloss: 1641.0557538\tbest: 1614.2545703 (62)\ttotal: 2h 28m 37s\tremaining: 6m 47s\n",
      "\n",
      "bestTest = 1640.70698\n",
      "bestIteration = 299\n",
      "\n",
      "241:\tloss: 1640.7069796\tbest: 1614.2545703 (62)\ttotal: 2h 29m 41s\tremaining: 6m 11s\n",
      "\n",
      "bestTest = 1635.769058\n",
      "bestIteration = 299\n",
      "\n",
      "242:\tloss: 1635.7690577\tbest: 1614.2545703 (62)\ttotal: 2h 30m 43s\tremaining: 5m 34s\n",
      "\n",
      "bestTest = 1637.721075\n",
      "bestIteration = 299\n",
      "\n",
      "243:\tloss: 1637.7210747\tbest: 1614.2545703 (62)\ttotal: 2h 31m 44s\tremaining: 4m 58s\n",
      "\n",
      "bestTest = 1633.280838\n",
      "bestIteration = 299\n",
      "\n",
      "244:\tloss: 1633.2808377\tbest: 1614.2545703 (62)\ttotal: 2h 32m 46s\tremaining: 4m 21s\n",
      "\n",
      "bestTest = 1626.478743\n",
      "bestIteration = 299\n",
      "\n",
      "245:\tloss: 1626.4787429\tbest: 1614.2545703 (62)\ttotal: 2h 34m 2s\tremaining: 3m 45s\n",
      "\n",
      "bestTest = 1626.728522\n",
      "bestIteration = 299\n",
      "\n",
      "246:\tloss: 1626.7285216\tbest: 1614.2545703 (62)\ttotal: 2h 35m 19s\tremaining: 3m 8s\n",
      "\n",
      "bestTest = 1623.465768\n",
      "bestIteration = 299\n",
      "\n",
      "247:\tloss: 1623.4657680\tbest: 1614.2545703 (62)\ttotal: 2h 36m 33s\tremaining: 2m 31s\n",
      "\n",
      "bestTest = 1619.898933\n",
      "bestIteration = 299\n",
      "\n",
      "248:\tloss: 1619.8989326\tbest: 1614.2545703 (62)\ttotal: 2h 37m 49s\tremaining: 1m 54s\n",
      "\n",
      "bestTest = 1616.874583\n",
      "bestIteration = 299\n",
      "\n",
      "249:\tloss: 1616.8745830\tbest: 1614.2545703 (62)\ttotal: 2h 39m 6s\tremaining: 1m 16s\n",
      "\n",
      "bestTest = 1614.770904\n",
      "bestIteration = 299\n",
      "\n",
      "250:\tloss: 1614.7709042\tbest: 1614.2545703 (62)\ttotal: 2h 40m 21s\tremaining: 38.3s\n",
      "\n",
      "bestTest = 1614.25457\n",
      "bestIteration = 299\n",
      "\n",
      "251:\tloss: 1614.2545703\tbest: 1614.2545703 (62)\ttotal: 2h 41m 36s\tremaining: 0us\n",
      "Estimating final quality...\n",
      "Training on fold [0/3]\n",
      "\n",
      "bestTest = 1575.911819\n",
      "bestIteration = 299\n",
      "\n",
      "Training on fold [1/3]\n",
      "\n",
      "bestTest = 1575.890732\n",
      "bestIteration = 299\n",
      "\n",
      "Training on fold [2/3]\n",
      "\n",
      "bestTest = 1619.65208\n",
      "bestIteration = 299\n",
      "\n"
     ]
    },
    {
     "data": {
      "text/plain": [
       "{'min_data_in_leaf': 1, 'depth': 9, 'learning_rate': 0.06200000000000001}"
      ]
     },
     "metadata": {},
     "output_type": "display_data"
    },
    {
     "data": {
      "text/plain": [
       "{'learn': {'RMSE': 1529.4297671167951}}"
      ]
     },
     "metadata": {},
     "output_type": "display_data"
    }
   ],
   "source": [
    "# Catboost валидация    \n",
    "\n",
    "df_auto[cat_col]=df_auto[cat_col].astype('category')\n",
    "X_train=df_auto.drop('Price',axis=1)\n",
    "y_train=df_auto['Price']\n",
    "data_pool = Pool(features_train,target_train, cat_features= cat_col)\n",
    "model = CatBoostRegressor(loss_function='RMSE',\n",
    "                          verbose=False,\n",
    "                          subsample=0.6,\n",
    "                          iterations=300) #,iterations=400\n",
    "\n",
    "param_grid = {'learning_rate': np.arange(0.05, 0.063,0.002),\n",
    "        'depth': range(1, 10),\n",
    "        #'l2_leaf_reg': range(1,2),\n",
    "        \n",
    "        'min_data_in_leaf':range(1,5)\n",
    "       }\n",
    "\n",
    "grid_search_result = model.grid_search(param_grid,\n",
    "                                       #X=X_train,\n",
    "                                       #y=y_train,\n",
    "                                       data_pool,\n",
    "                                       #early_stopping_rounds=10,\n",
    "                                      )\n",
    "\n",
    "display (grid_search_result['params'])   \n",
    "display(model.get_best_score())  "
   ]
  },
  {
   "cell_type": "code",
   "execution_count": null,
   "metadata": {},
   "outputs": [],
   "source": [
    "display (grid_search_result['params'])   \n",
    "\n",
    "feature_importance=model.get_feature_importance(prettified=True)\n",
    "display(feature_importance)\n",
    "plt.figure(figsize=(12, 6))\n",
    "ax = sns.barplot(data=feature_importance,x=feature_importance['Importances'],\n",
    "                 y=feature_importance['Feature Id'])\n",
    "ax.set_title('Важность признаков', fontsize=16)\n",
    "plt.show()      \n",
    "print(model.get_best_score())\n",
    "\n"
   ]
  },
  {
   "cell_type": "markdown",
   "metadata": {},
   "source": [
    "{'min_data_in_leaf': 1, 'depth': 9, 'learning_rate': 0.05800000000000001}\n",
    "{'learn': {'RMSE': 1497.3968881263174}}"
   ]
  },
  {
   "cell_type": "code",
   "execution_count": null,
   "metadata": {},
   "outputs": [],
   "source": [
    "%time\n",
    "model_best_cat =model\n",
    "model_best_cat.fit(data_pool)"
   ]
  },
  {
   "cell_type": "markdown",
   "metadata": {},
   "source": [
    "### построение модели LGBM с наилучшими параметрами"
   ]
  },
  {
   "cell_type": "code",
   "execution_count": null,
   "metadata": {},
   "outputs": [],
   "source": [
    "model = LGBMRegressor(metric='neg_root_mean_squared_error',\n",
    "                      random_state=RANDOM_STATE,\n",
    "                      verbose= 0)\n",
    "\n",
    "cv = StratifiedKFold(n_splits=5)\n",
    "#cv = RepeatedStratifiedKFold(n_splits=10000, n_repeats=3, random_state=1)\n",
    "model.fit(X_train, y_train,categorical_feature=cat_col)\n",
    "n_scores = cross_val_score(model, X_train, y_train,\n",
    "                           scoring='neg_root_mean_squared_error',\n",
    "                           cv=cv, n_jobs=-1, error_score='raise')\n",
    "\n",
    "\n",
    "\n",
    "print('RMSE:',(-max(n_scores)))\n",
    "\n",
    "print('наилучшие параметры',model.get_params())\n"
   ]
  },
  {
   "cell_type": "markdown",
   "metadata": {},
   "source": [
    "<div class=\"alert alert-success\"> \n",
    "<h2> Комментарий ревьюера <a class=\"tocSkip\"> </h2>\n",
    "\n",
    "👍 Можно cross_val_score() использовать и для кэтбуста в начале шага исследования моделей.\n",
    "</div>  \n",
    "\t  "
   ]
  },
  {
   "cell_type": "markdown",
   "metadata": {},
   "source": [
    "<br/>\n",
    "<div class=\"alert alert-info\">\n",
    "    Если честно, то не пошла у меня кросвалидация по гиперпараметрам LGBM .. хотя я заметил (может показалось) , что у Catboosy и LGBM уже реализовано подбор гиперпараметров - мы задаем максимальные, а меньше этого они сами \"перебирают\".. это так? "
   ]
  },
  {
   "cell_type": "markdown",
   "metadata": {},
   "source": [
    "<div class=\"alert alert-warning\">\n",
    "<h2> Комментарий ревьюера  #2 <a class=\"tocSkip\"> </h2>\n",
    "    \n",
    "<b>Некоторые замечания и рекомендации💡:</b> \n",
    "\n",
    "Вообще нет. Если мы задаем параметры, то они и подбираются.\n",
    "    \n",
    "А вот если параметры не заданы, то многие бустинги достаточно хорошо оптимизируются по самостоятельному выбору количества деревьев, ленинг-рейту и некоторым параметрам, которые отстраиваются относительно размера выборки.\n",
    "       \n",
    "</div>\n"
   ]
  },
  {
   "cell_type": "markdown",
   "metadata": {},
   "source": [
    "<br/>\n",
    "<div class=\"alert alert-info\">\n",
    "    Т.е. буст модели лучше острааиваются сами \"по умолчанию\" и кросс валидацию проводим только на различном разделении данных?"
   ]
  },
  {
   "cell_type": "markdown",
   "metadata": {},
   "source": [
    "<div class=\"alert alert-warning\">\n",
    "<h2> Комментарий ревьюера  #3 <a class=\"tocSkip\"> </h2>\n",
    "    \n",
    "<b>Некоторые замечания и рекомендации💡:</b> \n",
    "\n",
    "Для MVP можно смотреть просто бустинг из коробки. \n",
    "    \n",
    "Для продового решения часто нас будут интересовать улучшения в 1-2%, так как в масштабе больших данных они могут приносить неплохую прибыль. Тогда уже подбираем параметры + оптимизируем скорость работы бустингов. Там много вариантов и можно поразбираться. Для собеседований можно попробовать изучить какой-то один бустинг досканально, например кэтбуст. Либо если в вакансии написано, что использует компания, то подготовиться к собеседованию по этому типу модели. \n",
    "    \n",
    "В соревнованиях, конечно, уже подбор гиперпараметров идет максимально жесткий и финальные предсказания обычно делаются голосованием нескольких моделей (стеккинг, блендинг итд). \n",
    "    \n",
    "\n",
    "       \n",
    "</div>\n",
    "\n"
   ]
  },
  {
   "cell_type": "markdown",
   "metadata": {},
   "source": [
    "'boosting_type': 'gbdt', 'class_weight': None, 'colsample_bytree': 1.0, 'importance_type': 'split', 'learning_rate': 0.1, 'max_depth': -1, 'min_child_samples': 20, 'min_child_weight': 0.001, 'min_split_gain': 0.0, 'n_estimators': 100, 'n_jobs': -1, 'num_leaves': 31, 'objective': None, 'random_state': 42, 'reg_alpha': 0.0, 'reg_lambda': 0.0, 'silent': 'warn', 'subsample': 1.0, 'subsample_for_bin': 200000, 'subsample_freq': 0, 'metric': 'neg_root_mean_squared_error', 'verbose': 0}"
   ]
  },
  {
   "cell_type": "code",
   "execution_count": null,
   "metadata": {
    "scrolled": true
   },
   "outputs": [],
   "source": [
    "best_model_LGBM =model#(model.best_estimator_)\n",
    "\n",
    "# Plot feature importances\n",
    "features = X_train.columns\n",
    "importance_values = best_model_LGBM.feature_importances_\n",
    "plt.barh(y=range(len(features)),\n",
    "         width=importance_values,\n",
    "         tick_label=features)\n",
    "plt.show()\n",
    "\n"
   ]
  },
  {
   "cell_type": "code",
   "execution_count": null,
   "metadata": {},
   "outputs": [],
   "source": [
    "%time\n",
    "\n",
    "\n",
    "best_model_LGBM.fit(X_train, y_train)\n",
    "%time"
   ]
  },
  {
   "cell_type": "markdown",
   "metadata": {},
   "source": [
    "%time\n",
    "RMSE_LGB=np.sqrt(mean_squared_error(y_test, best_model.predict(X_test)))\n",
    "display (RMSE_LGB)"
   ]
  },
  {
   "cell_type": "code",
   "execution_count": null,
   "metadata": {},
   "outputs": [],
   "source": [
    "# лучшая модель по метрике оказалась LGBM \n",
    "%time\n",
    "RSME_cat=np.sqrt(mean_squared_error(y_test, model_best_cat.predict(X_test)))\n",
    "display (RSME_cat)\n"
   ]
  },
  {
   "cell_type": "markdown",
   "metadata": {},
   "source": [
    "## Анализ моделей"
   ]
  },
  {
   "cell_type": "markdown",
   "metadata": {},
   "source": [
    "- время выполнения лучше у Ridge 5.48 милсек\n",
    "- целевое качество метрики RMSE достигнуто на всех моделях, у catboost лучшая =1519.56\n",
    "- рекомендуемые модели для обучения Catboost и LGBM\n",
    "- разные модели показали не одинаковую значимость признаков,\n",
    "  но \"тройка лидеров\" у всех одна- ( \"RegistrationYear\", \"Power\", \"Вrand\")"
   ]
  },
  {
   "cell_type": "markdown",
   "metadata": {},
   "source": [
    " <div class=\"alert alert-block alert-danger\">\n",
    "<h2><s> Комментарий ревьюера <a class=\"tocSkip\"></h2>\n",
    "  \n",
    "<b>На доработку🤔:</b>\n",
    " \n",
    "Давай здесь все-таки добавим конкретики. «Приблизительно одинаковое» не звучит как серьезная аргументация для некоторой ожидаемой оптимизации бизнес-процессов, которая должна принести большую прибыль компании.\n",
    "    \n",
    "***\n",
    "    \n",
    "Важно будет сравнить модели, выбрать финальную, после этого вывести качество финальной модели на тестовой выборке. До тестирования качество моделей на тестовой выборке не используем и лушче его никак не выводить.\n",
    "    \n",
    "Тестовую выборку можно использовать для замера времени предсказания моделей."
   ]
  },
  {
   "cell_type": "markdown",
   "metadata": {},
   "source": [
    "<div class=\"alert alert-warning\">\n",
    "<h2> Комментарий ревьюера <a class=\"tocSkip\"> </h2>\n",
    "    \n",
    "<b>Некоторые замечания и рекомендации💡:</b> \n",
    "\n",
    "Есть еще один вариант измерить время обучения и предсказания моделей, сделав это прямо в кросс-валидации:\n",
    "    \n",
    "```\n",
    "results_ridge = gs_ridge.cv_results_\n",
    "best_index_ridge = gs_ridge.best_index_\n",
    "\n",
    "ridge_fit_time = results_ridge['mean_fit_time'][best_index_ridge]\n",
    "ridge_score_time = results_ridge['mean_score_time'][best_index_ridge]\n",
    "ridge_RMSE = results_ridge['mean_test_score'][best_index_ridge] * -1\n",
    "\n",
    "print(f\"Fit time: {ridge_fit_time}, Predict time: {ridge_score_time}, Best RMSE: {ridge_RMSE}\")\n",
    "\n",
    "   \n",
    "```\n",
    "\n",
    "Или вообще просто:\n",
    "\n",
    "берем `result = pd.DataFrame(randomized_search.cv_results_)`, уточняем, какие колонки нам нужны, оставляем модели, параметры, время обучения, время предсказания.\n",
    "       \n",
    "***\n",
    "    \n",
    "Тогда если мы попробуем реализовать пайплайн по подобию пайплайна из спринта по Обучению с учителем, где у нас перебираются несколько моделей и их параметры, то из этого пайплайна сразу получим время обучения и предсказания, а также качество всех моделей по просс-валидации. \n",
    "    \n",
    "Все будет компактно, после этого просто допроверим качество на тестовой выборке. \n",
    "    \n",
    "Но вполне верным решением будет и делать обучение для каждой модели отдельно.\n",
    "        \n",
    "</div> \n"
   ]
  },
  {
   "cell_type": "markdown",
   "metadata": {},
   "source": [
    "<div style=\"border:solid Chocolate 2px; padding: 40px\">\n",
    "\n",
    "**Общий вывод по проверке**\n",
    "\n",
    "У тебя получился хороший проект. Неплохой выбор моделей для обучения, много верных решений. Однако есть и что доработать.\n",
    "    \n",
    "    \n",
    "* Важно аргументировать решения по заполнению пропусков. Для всех unknown можно дать общую аргументацию. Необходимо более детально изучить данные. Например, в видах топлива у нас есть газолин и петрол, можно объединить. Есть и другие подобные детали, которые можно почистить, чтобы модельки считали лучше.\n",
    "* Необходимо детально подойти к удалению аномалий. Смотрим по реалистичности данных.\n",
    "* Смотрим матрицу корреляции, устраняем мультиколлинеарность.\n",
    "* Важно проверить, удаляем ли дубли?\n",
    "* Если выделяем две выборки, важно на этапе исследования моделей смотреть качество по кросс-валидации. Тестовую выборку до тестирования для замера качества моделей не трогаем. Лучшую модель выбираем в конце этапа исследования. \n",
    "* Везде следует уточнить по выводам после доработки решений в коде.\n",
    "\n",
    "    \n",
    "    \n",
    "**Желаю удачи и жду твой проект на повторное ревью!**😉\n",
    "\n",
    "</div>"
   ]
  },
  {
   "cell_type": "markdown",
   "metadata": {},
   "source": [
    "<br/>\n",
    "<div class=\"alert alert-info\">\n",
    "\n",
    "Вопрос по общему пониманию темы ML:\n",
    "\n",
    "Пусть f(i) – набор свойств в I ой строке данных,f(k) – набор свойств в k ой строке данных\n",
    "Пусть t(i) – значение тагета в I строке  данных, t(k) – значение тагета в k строке  данных\n",
    "\n",
    "Пусть f(i)=f(k) и t(i) != t (k). Как в таких случаях происходит ML ? В модель устанавливается зависимость ( t (f) =  mean (t(i),t(k))? Или какой другой алгоритм.. пусть так , но тогда и погрешность предсказаний заведомо никогда не будет  близка 100%..Может это решается на этапе подготовки данных? И как поступают, если t(i) и t(k) – «обратные», противоположные значения (-3;3) («кошка» , «слон»), когда \"усреднение\" или сравнение значений (построение порядковых рядов)  не представляется возможным – тагет ведь может выражаться через любые значения , однородные по сути? Получится \"кошкослон\"? :-)\n",
    " \n",
    "</div>"
   ]
  },
  {
   "cell_type": "markdown",
   "metadata": {},
   "source": [
    "<div class=\"alert alert-warning\">\n",
    "<h2> Комментарий ревьюера  #2 <a class=\"tocSkip\"> </h2>\n",
    "    \n",
    "<b>Некоторые замечания и рекомендации💡:</b> \n",
    "\n",
    "Кажется, это вопрос о функции потерь. В задаче регрессии − это метод наименьших квадратов. То есть, мы подбираем такие коэффициенты, чтобы они в среднем давали наиболее точную и несмещенную оценку (для каждого таргета считаем квадрат разности предсказания и реального значения, затем по всей выборке усредняем и минимизируем эту разность). \n",
    "    \n",
    "Для задачи классификации функцией потерь будет кросс-энтропия :) С нее и начинали в самом начале проекта, где была страшная формулировка (с Кульбаком-Лейблером). \n",
    "    \n",
    "По кросс-энтропии можно почитать здесь: https://habr.com/ru/companies/ods/articles/714670/ \n",
    "    \n",
    "Если очень упрощать, то модель предсказывает (например, перемножает веса и значение фичей, а затем складывает получившееся) по конкретному значению некоторый логит (некоторое число), к которому мы применяем функцию сигмоиды (она масштабирует любое число в диапазон от нуля до единицы), а затем то, что получается, считаем вероятностью класса. Как ты понимаешь, наши вероятности классов − это никакие не вероятности, а просто некоторые числа, которые мы для удобства решили назвать вероятностями классов, потому что они коррелируют с некоторыми ожидаемыми вероятностями. Будем дальше их называть вероятностями.\n",
    "    \n",
    "Дальше мы берем эту вероятность и сравниваем ее с реальным значением. Считаем разность (насколько мы ошиблись). После чего считаем логарифм от этой вероятности (так как просто разность сложно оптимизировать).\n",
    "    \n",
    "В задаче бинарной кросс-энтропии классов два. Мы считаем тогда вероятность каждого класса и логарифм вероятности этого класса.\n",
    "    \n",
    "`CrossEntropy = y_true * log(y_pred) + (1 - y_true) * log(1 - y_pred)`\n",
    "\n",
    "Так как у нас только один из классов может быть верным, то y_true будет либо нулем, либо единицей. Тогда одно из слогаемых в формуле выше будет зануляться. И фактически мы будем считать только логарифм предсказанной вероятности для верного класса. Получится значение (и функция) которое легко оптимизировать. Как и в минимизации квадрата ошибок, мы больше штрафуем модель за значительные ошибки. \n",
    "    \n",
    "Это мы рассмотрели одно предсказание. Функция потерь и градиентный спуск позволяют рассчитать некоторые веса, которые будут оптимальными для того, чтобы модель как можно меньше (в случае классификации − реже) ошибкалась. \n",
    "    \n",
    "( если есть в этом вопросы, то советую посмотреть про градиентный спуск - лучше всего он описан в начале книги «Грокаем глубокое обучение». Здесь еще нюанс, что мы берем первую производную функции потерь, чтобы понять, в какую сторону нам двигаться при минимизации ошибок (повышать веса для признаков или понижать). В случае регрессии в производной отбрасывается двойка, которая достанется от квадрата, и мы просто считаем разность между реальным значением и предсказанным. Все интуитивно понятно: если разность положительная, значит мы занизили прогноз, значит нужно увеличить веса). Еще очень часто считается и вторая производная, она нам говорит, насколько сильно мы можем увеличить наши веса. Это позволяет подбирать веса быстрее).     \n",
    "\n",
    "    \n",
    "В случае бинарной классификации у нас для каждого класса модель выдает вероятности. Если задача отделить кошек от слонов, то мы применяем некоторый порог (по умолчанию он в 0.5). То есть, если вероятность кошки выше 0.5, получаем ответ модели «кошка», если ниже, то «слон». \n",
    "    \n",
    "Если у нас много классов, то мы применяем функцию Софтмакса, которая приводит вероятности классов к такому виду, чтобы в сумме всегда была единица. А затем мы считаем ответом модели тот класс, который имеет максимальную вероятность. \n",
    "       \n",
    "</div>"
   ]
  },
  {
   "cell_type": "markdown",
   "metadata": {},
   "source": [
    "<br/>\n",
    "<div class=\"alert alert-info\">\n",
    "    Позволю себе продолжить мои \"бредовые\" рассуждения о моделях, результатах и пр.. , если совсем несу полный бред - не отвечай..\n",
    "    Пусть бинарная классификация типов животных у нас 4 одинаковые строки, тагет которых , соответственно : 2 слона, 2 кота... веротность между принятем Слона против Кота 0.5+0.5=1. Если начинаем округлять в большую сторону, то оба получат 100% или оба исчезнут из возможных вариантов? Если они получают по 50%, то это похоже на \"ответ блондинки\" на вопрос : встретит ли она она диназавра сейчас на улице? 50/50 - я понимю, что ее ответ тоже правильный (тагетом полсужило слово \"встретит\", а не \"динозавр\") , но в реальной жизни это не совсем так.. В итоге, как я понимаю, в таких случаях нужно исследование и добавление нового признака, не зависимого от всех остальных, чтобы он внес дополнительную диффенциацию? Ведь так такие случаи \"лечаться\" на пратике?"
   ]
  },
  {
   "cell_type": "markdown",
   "metadata": {},
   "source": [
    "<div class=\"alert alert-success\">\n",
    "<h2> Комментарий ревьюера #2 <a class=\"tocSkip\"> </h2>\n",
    "\n",
    "Мы предполагаем, что если наши признаки хорошо объясняют изменчивость таргета, то ситуаций с пограничными вероятностями будет меньше. В реальности какая-то часть таких ответов будет, это сложные строки для предсказания. Если модель хорошая, то ситуация будет примерно такая: у нас есть изображение колослона (из книги Статистика и котики, видимо), мы подаем это изображение в модель, модель не может определиться, так как видит поровну котовых и слоновых признаков. Если мы покажем это изображение случайному прохожему, то он тоже не сможет определиться. \n",
    "    \n",
    "Либо если у нас 100% котик и мы его показываем модели,а она выдает вероятность кота 50%, значит надо думать над тем, как улучшать модель. \n",
    "    \n",
    "По самим ответам модели, у нас будет сколь угодно длинное число после запятой, но оно будет либо больше, либо меньше 0.5. Поэтому не получится ситуации, когда модель скажет «я не знаю».\n",
    "    \n",
    "</div>"
   ]
  },
  {
   "cell_type": "markdown",
   "metadata": {},
   "source": [
    "<br/>\n",
    "<div class=\"alert alert-info\">\n",
    "    Спасибо за объяснения и дополнительные материалы. Не все успеваю посмотреть, но обязательно посмотрю... да и такое плотное восприятие нового материала тяжеловато после 30 летнего перерыва:-) Не дает расслабиться:-)"
   ]
  },
  {
   "cell_type": "markdown",
   "metadata": {},
   "source": [
    "<div class=\"alert alert-success\">\n",
    "<h2> Комментарий ревьюера #3 <a class=\"tocSkip\"> </h2>\n",
    "\n",
    "👍 «熟能生巧» - практика сделает навык идеальным. Недавно вышел подкаст с программистом Андреем Карпаты (OpenAI ), где он говорит, что чтобы стать хорошим специалистом нужно просто посвятить этому делу 10 000 часов. \n",
    "    \n",
    "https://www.youtube.com/watch?v=I2ZK3ngNvvI\n",
    "    \n",
    "Я подумал, что это звучит достаточно обнадеживающе. Главное − идти вперед и не останавливаться.\n",
    "</div>"
   ]
  },
  {
   "cell_type": "markdown",
   "metadata": {},
   "source": [
    "<div style=\"border:solid Chocolate 2px; padding: 40px\">\n",
    "\n",
    "**Комментарий ко второй проверке**\n",
    "\n",
    "Спасибо за качественную доработку. Практически все верно. Однако еще кое-что осталось.\n",
    "\n",
    "* Важно раскомментировать инсталлы, поменять ссылки на датасеты ссылками, чтобы они открывались и у меня в среде Практикума.\n",
    "    \n",
    "* Необходимо уточнить по верхнему порогу по мощности. Сейчас очень низкий взяли. Также важно не удалять модель, удаляем бренд при высокой корреляции - оставляем для модели как можно больша полезной информации.\n",
    "\n",
    "**Желаю удачи и жду твой проект на повторное ревью!**😉\n",
    "</div>\n",
    "\n",
    "\n"
   ]
  },
  {
   "cell_type": "markdown",
   "metadata": {},
   "source": [
    "<div style=\"border:solid Chocolate 2px; padding: 40px\">\n",
    "\n",
    "**Комментарий к финальной проверке**\n",
    "\n",
    "Спасибо за доработку. Критичных комментариев нет. \n",
    "\n",
    "Если что-то пропустил или остались вопросы, напиши в телеграм @kriill\n",
    "\n",
    "Желаю удачи в дальнейшей учебе!\n",
    "\n",
    "</div>\n"
   ]
  },
  {
   "cell_type": "markdown",
   "metadata": {},
   "source": [
    "## Чек-лист проверки"
   ]
  },
  {
   "cell_type": "markdown",
   "metadata": {},
   "source": [
    "Поставьте 'x' в выполненных пунктах. Далее нажмите Shift+Enter."
   ]
  },
  {
   "cell_type": "markdown",
   "metadata": {},
   "source": [
    "- [x]  Jupyter Notebook открыт\n",
    "- [ ]  Весь код выполняется без ошибок\n",
    "- [ ]  Ячейки с кодом расположены в порядке исполнения\n",
    "- [ ]  Выполнена загрузка и подготовка данных\n",
    "- [ ]  Выполнено обучение моделей\n",
    "- [ ]  Есть анализ скорости работы и качества моделей"
   ]
  },
  {
   "cell_type": "code",
   "execution_count": null,
   "metadata": {},
   "outputs": [],
   "source": []
  }
 ],
 "metadata": {
  "ExecuteTimeLog": [
   {
    "duration": 119956,
    "start_time": "2024-10-05T10:41:30.005Z"
   },
   {
    "duration": 2958,
    "start_time": "2024-10-05T10:43:32.124Z"
   },
   {
    "duration": 285,
    "start_time": "2024-10-05T10:43:35.084Z"
   },
   {
    "duration": 0,
    "start_time": "2024-10-05T10:43:35.370Z"
   },
   {
    "duration": 489,
    "start_time": "2024-10-05T10:44:36.454Z"
   },
   {
    "duration": 18,
    "start_time": "2024-10-05T10:50:19.962Z"
   },
   {
    "duration": 63,
    "start_time": "2024-10-05T10:51:46.668Z"
   },
   {
    "duration": 36,
    "start_time": "2024-10-05T10:52:13.836Z"
   },
   {
    "duration": 435,
    "start_time": "2024-10-05T12:51:13.651Z"
   },
   {
    "duration": 371,
    "start_time": "2024-10-05T12:51:46.596Z"
   },
   {
    "duration": 487,
    "start_time": "2024-10-05T12:52:38.853Z"
   },
   {
    "duration": 103,
    "start_time": "2024-10-05T12:58:35.731Z"
   },
   {
    "duration": 117,
    "start_time": "2024-10-05T12:59:21.578Z"
   },
   {
    "duration": 460,
    "start_time": "2024-10-05T13:00:06.452Z"
   },
   {
    "duration": 496,
    "start_time": "2024-10-05T13:03:32.455Z"
   },
   {
    "duration": 525,
    "start_time": "2024-10-05T13:04:52.488Z"
   },
   {
    "duration": 1968,
    "start_time": "2024-10-05T13:13:57.224Z"
   },
   {
    "duration": 517,
    "start_time": "2024-10-05T13:14:42.250Z"
   },
   {
    "duration": 592,
    "start_time": "2024-10-05T13:15:09.172Z"
   },
   {
    "duration": 551,
    "start_time": "2024-10-05T13:15:31.012Z"
   },
   {
    "duration": 638,
    "start_time": "2024-10-05T13:18:41.817Z"
   },
   {
    "duration": 645,
    "start_time": "2024-10-05T13:20:08.105Z"
   },
   {
    "duration": 10,
    "start_time": "2024-10-05T13:36:05.772Z"
   },
   {
    "duration": 1320,
    "start_time": "2024-10-05T13:36:13.965Z"
   },
   {
    "duration": 1120,
    "start_time": "2024-10-05T13:36:22.222Z"
   },
   {
    "duration": 12,
    "start_time": "2024-10-05T13:36:46.365Z"
   },
   {
    "duration": 41,
    "start_time": "2024-10-05T13:36:58.164Z"
   },
   {
    "duration": 486,
    "start_time": "2024-10-05T13:37:02.374Z"
   },
   {
    "duration": 120,
    "start_time": "2024-10-05T13:39:59.022Z"
   },
   {
    "duration": 568,
    "start_time": "2024-10-05T13:40:22.728Z"
   },
   {
    "duration": 369,
    "start_time": "2024-10-05T13:42:04.321Z"
   },
   {
    "duration": 410,
    "start_time": "2024-10-05T13:43:00.433Z"
   },
   {
    "duration": 1742,
    "start_time": "2024-10-05T13:44:26.506Z"
   },
   {
    "duration": 142,
    "start_time": "2024-10-05T13:45:06.795Z"
   },
   {
    "duration": 465,
    "start_time": "2024-10-05T13:45:17.091Z"
   },
   {
    "duration": 403,
    "start_time": "2024-10-05T13:46:46.116Z"
   },
   {
    "duration": 414,
    "start_time": "2024-10-05T13:49:56.335Z"
   },
   {
    "duration": 852,
    "start_time": "2024-10-05T13:53:54.619Z"
   },
   {
    "duration": 2001,
    "start_time": "2024-10-05T14:00:24.440Z"
   },
   {
    "duration": 1828,
    "start_time": "2024-10-05T14:01:00.311Z"
   },
   {
    "duration": 817,
    "start_time": "2024-10-05T14:01:34.552Z"
   },
   {
    "duration": 1699,
    "start_time": "2024-10-05T14:02:52.850Z"
   },
   {
    "duration": 1747,
    "start_time": "2024-10-05T14:03:39.042Z"
   },
   {
    "duration": 356,
    "start_time": "2024-10-05T14:03:50.602Z"
   },
   {
    "duration": 447,
    "start_time": "2024-10-05T14:04:04.274Z"
   },
   {
    "duration": 480,
    "start_time": "2024-10-05T14:05:06.500Z"
   },
   {
    "duration": 657,
    "start_time": "2024-10-05T14:12:54.651Z"
   },
   {
    "duration": 713,
    "start_time": "2024-10-05T14:13:21.003Z"
   },
   {
    "duration": 1687,
    "start_time": "2024-10-05T14:14:12.204Z"
   },
   {
    "duration": 689,
    "start_time": "2024-10-05T14:14:18.093Z"
   },
   {
    "duration": 482,
    "start_time": "2024-10-05T14:14:40.388Z"
   },
   {
    "duration": 408,
    "start_time": "2024-10-05T14:16:18.550Z"
   },
   {
    "duration": 297,
    "start_time": "2024-10-05T14:18:22.015Z"
   },
   {
    "duration": 615,
    "start_time": "2024-10-05T14:19:40.168Z"
   },
   {
    "duration": 592,
    "start_time": "2024-10-05T14:19:51.553Z"
   },
   {
    "duration": 694,
    "start_time": "2024-10-05T14:25:42.856Z"
   },
   {
    "duration": 571,
    "start_time": "2024-10-05T14:26:11.687Z"
   },
   {
    "duration": 670,
    "start_time": "2024-10-05T14:26:17.463Z"
   },
   {
    "duration": 548,
    "start_time": "2024-10-05T14:32:08.508Z"
   },
   {
    "duration": 545,
    "start_time": "2024-10-05T14:34:00.741Z"
   },
   {
    "duration": 2247,
    "start_time": "2024-10-05T14:34:26.575Z"
   },
   {
    "duration": 549,
    "start_time": "2024-10-05T14:36:23.992Z"
   },
   {
    "duration": 546,
    "start_time": "2024-10-05T14:36:25.697Z"
   },
   {
    "duration": 566,
    "start_time": "2024-10-05T14:47:07.586Z"
   },
   {
    "duration": 218,
    "start_time": "2024-10-05T14:47:10.024Z"
   },
   {
    "duration": 12,
    "start_time": "2024-10-05T14:47:30.241Z"
   },
   {
    "duration": 13,
    "start_time": "2024-10-05T14:51:45.381Z"
   },
   {
    "duration": 510,
    "start_time": "2024-10-05T15:07:15.762Z"
   },
   {
    "duration": 2199,
    "start_time": "2024-10-05T15:07:18.801Z"
   },
   {
    "duration": 1193,
    "start_time": "2024-10-05T15:08:27.173Z"
   },
   {
    "duration": 534,
    "start_time": "2024-10-05T15:08:32.996Z"
   },
   {
    "duration": 1357,
    "start_time": "2024-10-05T15:08:34.962Z"
   },
   {
    "duration": 487,
    "start_time": "2024-10-05T15:08:51.235Z"
   },
   {
    "duration": 510,
    "start_time": "2024-10-05T15:09:28.932Z"
   },
   {
    "duration": 551,
    "start_time": "2024-10-05T15:09:42.165Z"
   },
   {
    "duration": 516,
    "start_time": "2024-10-05T15:10:43.246Z"
   },
   {
    "duration": 545,
    "start_time": "2024-10-05T15:17:27.292Z"
   },
   {
    "duration": 77,
    "start_time": "2024-10-05T15:17:32.997Z"
   },
   {
    "duration": 507,
    "start_time": "2024-10-05T15:19:22.031Z"
   },
   {
    "duration": 709,
    "start_time": "2024-10-05T15:19:25.612Z"
   },
   {
    "duration": 3,
    "start_time": "2024-10-05T15:35:26.373Z"
   },
   {
    "duration": 1949,
    "start_time": "2024-10-05T15:46:40.372Z"
   },
   {
    "duration": 4,
    "start_time": "2024-10-05T15:46:42.323Z"
   },
   {
    "duration": 1863,
    "start_time": "2024-10-05T15:46:42.329Z"
   },
   {
    "duration": 635,
    "start_time": "2024-10-05T15:46:44.194Z"
   },
   {
    "duration": 12462,
    "start_time": "2024-10-05T15:46:44.832Z"
   },
   {
    "duration": 4,
    "start_time": "2024-10-05T15:49:34.439Z"
   },
   {
    "duration": 546,
    "start_time": "2024-10-05T15:49:39.438Z"
   },
   {
    "duration": 5645,
    "start_time": "2024-10-05T15:49:49.504Z"
   },
   {
    "duration": 76,
    "start_time": "2024-10-05T15:57:02.590Z"
   },
   {
    "duration": 2342,
    "start_time": "2024-10-05T15:57:25.125Z"
   },
   {
    "duration": 11,
    "start_time": "2024-10-05T15:59:40.024Z"
   },
   {
    "duration": 11,
    "start_time": "2024-10-05T16:02:22.866Z"
   },
   {
    "duration": 14,
    "start_time": "2024-10-05T16:03:37.379Z"
   },
   {
    "duration": 12,
    "start_time": "2024-10-05T16:08:11.513Z"
   },
   {
    "duration": 1898,
    "start_time": "2024-10-05T16:08:15.104Z"
   },
   {
    "duration": 563,
    "start_time": "2024-10-05T16:08:20.679Z"
   },
   {
    "duration": 14,
    "start_time": "2024-10-05T16:08:24.690Z"
   },
   {
    "duration": 15,
    "start_time": "2024-10-05T16:09:31.105Z"
   },
   {
    "duration": 1845,
    "start_time": "2024-10-05T16:09:39.369Z"
   },
   {
    "duration": 561,
    "start_time": "2024-10-05T16:09:50.529Z"
   },
   {
    "duration": 21,
    "start_time": "2024-10-05T16:09:55.505Z"
   },
   {
    "duration": 16,
    "start_time": "2024-10-05T16:10:31.579Z"
   },
   {
    "duration": 11,
    "start_time": "2024-10-05T16:11:20.930Z"
   },
   {
    "duration": 26,
    "start_time": "2024-10-05T16:11:29.099Z"
   },
   {
    "duration": 1973,
    "start_time": "2024-10-05T16:11:54.770Z"
   },
   {
    "duration": 4,
    "start_time": "2024-10-05T16:12:14.843Z"
   },
   {
    "duration": 1926,
    "start_time": "2024-10-05T16:12:17.413Z"
   },
   {
    "duration": 622,
    "start_time": "2024-10-05T16:12:25.779Z"
   },
   {
    "duration": 8,
    "start_time": "2024-10-05T16:12:28.747Z"
   },
   {
    "duration": 9,
    "start_time": "2024-10-05T16:12:37.651Z"
   },
   {
    "duration": 12,
    "start_time": "2024-10-05T16:13:08.339Z"
   },
   {
    "duration": 4,
    "start_time": "2024-10-05T16:13:32.379Z"
   },
   {
    "duration": 645,
    "start_time": "2024-10-05T16:13:39.796Z"
   },
   {
    "duration": 12,
    "start_time": "2024-10-05T16:13:43.715Z"
   },
   {
    "duration": 2394,
    "start_time": "2024-10-05T16:13:59.589Z"
   },
   {
    "duration": 1140,
    "start_time": "2024-10-05T16:18:33.281Z"
   },
   {
    "duration": 17,
    "start_time": "2024-10-05T16:19:21.610Z"
   },
   {
    "duration": 31,
    "start_time": "2024-10-05T16:22:08.469Z"
   },
   {
    "duration": 28,
    "start_time": "2024-10-05T16:24:37.077Z"
   },
   {
    "duration": 1105,
    "start_time": "2024-10-05T16:24:54.278Z"
   },
   {
    "duration": 1364,
    "start_time": "2024-10-05T21:11:25.048Z"
   },
   {
    "duration": 1089,
    "start_time": "2024-10-05T21:56:51.928Z"
   },
   {
    "duration": 84,
    "start_time": "2024-10-05T22:15:48.015Z"
   },
   {
    "duration": 12,
    "start_time": "2024-10-05T22:16:05.758Z"
   },
   {
    "duration": 532,
    "start_time": "2024-10-05T22:17:24.049Z"
   },
   {
    "duration": 16,
    "start_time": "2024-10-05T22:22:05.182Z"
   },
   {
    "duration": 11,
    "start_time": "2024-10-05T22:24:33.393Z"
   },
   {
    "duration": 11,
    "start_time": "2024-10-05T22:25:30.768Z"
   },
   {
    "duration": 1088,
    "start_time": "2024-10-05T22:25:58.800Z"
   },
   {
    "duration": 1138,
    "start_time": "2024-10-05T22:27:49.098Z"
   },
   {
    "duration": 63,
    "start_time": "2024-10-06T15:09:03.704Z"
   },
   {
    "duration": 120621,
    "start_time": "2024-10-06T15:09:42.046Z"
   },
   {
    "duration": 2448,
    "start_time": "2024-10-06T15:11:42.669Z"
   },
   {
    "duration": 4098,
    "start_time": "2024-10-06T15:11:45.119Z"
   },
   {
    "duration": 210,
    "start_time": "2024-10-06T15:11:49.219Z"
   },
   {
    "duration": 0,
    "start_time": "2024-10-06T15:11:49.431Z"
   },
   {
    "duration": 0,
    "start_time": "2024-10-06T15:11:49.432Z"
   },
   {
    "duration": 2240,
    "start_time": "2024-10-06T15:12:45.740Z"
   },
   {
    "duration": 4,
    "start_time": "2024-10-06T15:12:47.983Z"
   },
   {
    "duration": 2125,
    "start_time": "2024-10-06T15:12:49.745Z"
   },
   {
    "duration": 678,
    "start_time": "2024-10-06T15:12:54.552Z"
   },
   {
    "duration": 2762,
    "start_time": "2024-10-06T15:13:02.147Z"
   },
   {
    "duration": 1382,
    "start_time": "2024-10-06T15:13:08.345Z"
   },
   {
    "duration": 10,
    "start_time": "2024-10-06T18:49:20.376Z"
   },
   {
    "duration": 29,
    "start_time": "2024-10-06T19:14:26.509Z"
   },
   {
    "duration": 56418,
    "start_time": "2024-10-06T19:15:35.085Z"
   },
   {
    "duration": 37,
    "start_time": "2024-10-06T19:18:42.712Z"
   },
   {
    "duration": 14,
    "start_time": "2024-10-06T19:18:50.272Z"
   },
   {
    "duration": 2693,
    "start_time": "2024-10-06T19:30:44.241Z"
   },
   {
    "duration": 1143,
    "start_time": "2024-10-06T19:31:26.284Z"
   },
   {
    "duration": 2350,
    "start_time": "2024-10-06T19:33:14.965Z"
   },
   {
    "duration": 5,
    "start_time": "2024-10-06T19:33:17.319Z"
   },
   {
    "duration": 2335,
    "start_time": "2024-10-06T19:33:18.132Z"
   },
   {
    "duration": 692,
    "start_time": "2024-10-06T19:33:26.228Z"
   },
   {
    "duration": 3159,
    "start_time": "2024-10-06T19:33:31.853Z"
   },
   {
    "duration": 253872,
    "start_time": "2024-10-06T19:33:43.014Z"
   },
   {
    "duration": 0,
    "start_time": "2024-10-06T19:37:56.889Z"
   },
   {
    "duration": 84,
    "start_time": "2024-10-06T19:38:17.034Z"
   },
   {
    "duration": 16,
    "start_time": "2024-10-06T19:38:47.369Z"
   },
   {
    "duration": 9,
    "start_time": "2024-10-06T19:39:55.498Z"
   },
   {
    "duration": 17,
    "start_time": "2024-10-06T19:40:05.322Z"
   },
   {
    "duration": 16,
    "start_time": "2024-10-06T19:40:14.222Z"
   },
   {
    "duration": 14,
    "start_time": "2024-10-06T19:43:48.373Z"
   },
   {
    "duration": 8,
    "start_time": "2024-10-06T19:44:08.854Z"
   },
   {
    "duration": 14,
    "start_time": "2024-10-06T19:44:15.703Z"
   },
   {
    "duration": 71,
    "start_time": "2024-10-06T19:45:33.007Z"
   },
   {
    "duration": 8,
    "start_time": "2024-10-06T19:45:40.439Z"
   },
   {
    "duration": 17,
    "start_time": "2024-10-06T19:46:05.967Z"
   },
   {
    "duration": 17,
    "start_time": "2024-10-06T19:46:37.480Z"
   },
   {
    "duration": 843,
    "start_time": "2024-10-06T19:53:16.575Z"
   },
   {
    "duration": 2739,
    "start_time": "2024-10-06T19:54:23.606Z"
   },
   {
    "duration": 69,
    "start_time": "2024-10-06T19:58:29.859Z"
   },
   {
    "duration": 64,
    "start_time": "2024-10-06T19:58:44.755Z"
   },
   {
    "duration": 18,
    "start_time": "2024-10-06T19:58:56.282Z"
   },
   {
    "duration": 22,
    "start_time": "2024-10-06T20:01:18.334Z"
   },
   {
    "duration": 18,
    "start_time": "2024-10-06T20:05:24.689Z"
   },
   {
    "duration": 19,
    "start_time": "2024-10-06T20:05:45.320Z"
   },
   {
    "duration": 39,
    "start_time": "2024-10-06T20:07:08.955Z"
   },
   {
    "duration": 991304,
    "start_time": "2024-10-06T20:09:14.204Z"
   },
   {
    "duration": 9,
    "start_time": "2024-10-07T05:39:54.243Z"
   },
   {
    "duration": 48,
    "start_time": "2024-10-07T05:40:12.936Z"
   },
   {
    "duration": 1520,
    "start_time": "2024-10-07T05:40:21.428Z"
   },
   {
    "duration": 0,
    "start_time": "2024-10-07T05:40:22.950Z"
   },
   {
    "duration": 115901,
    "start_time": "2024-10-07T05:40:34.979Z"
   },
   {
    "duration": 778,
    "start_time": "2024-10-07T05:42:30.882Z"
   },
   {
    "duration": 5,
    "start_time": "2024-10-07T05:42:31.661Z"
   },
   {
    "duration": 103,
    "start_time": "2024-10-07T05:42:31.668Z"
   },
   {
    "duration": 0,
    "start_time": "2024-10-07T05:42:31.773Z"
   },
   {
    "duration": 0,
    "start_time": "2024-10-07T05:42:31.774Z"
   },
   {
    "duration": 0,
    "start_time": "2024-10-07T05:42:31.775Z"
   },
   {
    "duration": 12,
    "start_time": "2024-10-07T05:43:21.220Z"
   },
   {
    "duration": 13,
    "start_time": "2024-10-07T05:43:31.716Z"
   },
   {
    "duration": 2483,
    "start_time": "2024-10-07T05:44:11.037Z"
   },
   {
    "duration": 5,
    "start_time": "2024-10-07T05:44:15.285Z"
   },
   {
    "duration": 4274,
    "start_time": "2024-10-07T05:44:18.869Z"
   },
   {
    "duration": 639,
    "start_time": "2024-10-07T05:44:27.214Z"
   },
   {
    "duration": 2835,
    "start_time": "2024-10-07T05:44:32.070Z"
   },
   {
    "duration": 963676,
    "start_time": "2024-10-07T05:44:39.685Z"
   },
   {
    "duration": 0,
    "start_time": "2024-10-07T06:00:43.364Z"
   },
   {
    "duration": 15,
    "start_time": "2024-10-07T06:08:34.674Z"
   },
   {
    "duration": 1018336,
    "start_time": "2024-10-07T06:09:16.683Z"
   },
   {
    "duration": 966718,
    "start_time": "2024-10-07T09:01:34.191Z"
   },
   {
    "duration": 953288,
    "start_time": "2024-10-07T14:03:05.238Z"
   },
   {
    "duration": 17,
    "start_time": "2024-10-07T14:50:10.278Z"
   },
   {
    "duration": 184641,
    "start_time": "2024-10-07T14:50:24.804Z"
   },
   {
    "duration": 949103,
    "start_time": "2024-10-07T14:53:29.448Z"
   },
   {
    "duration": 2552,
    "start_time": "2024-10-07T17:29:36.329Z"
   },
   {
    "duration": 1689,
    "start_time": "2024-10-07T17:33:58.630Z"
   },
   {
    "duration": 1479,
    "start_time": "2024-10-07T17:34:34.092Z"
   },
   {
    "duration": 2686,
    "start_time": "2024-10-07T17:35:56.214Z"
   },
   {
    "duration": 2546,
    "start_time": "2024-10-07T17:37:51.255Z"
   },
   {
    "duration": 606,
    "start_time": "2024-10-07T17:38:34.799Z"
   },
   {
    "duration": 2632,
    "start_time": "2024-10-07T17:38:37.527Z"
   },
   {
    "duration": 3848,
    "start_time": "2024-10-07T17:39:01.537Z"
   },
   {
    "duration": 2727,
    "start_time": "2024-10-07T17:39:19.289Z"
   },
   {
    "duration": 950983,
    "start_time": "2024-10-07T17:41:31.042Z"
   },
   {
    "duration": 194911,
    "start_time": "2024-10-07T17:57:22.028Z"
   },
   {
    "duration": 13,
    "start_time": "2024-10-07T18:00:36.941Z"
   },
   {
    "duration": 0,
    "start_time": "2024-10-07T18:00:36.956Z"
   },
   {
    "duration": 28,
    "start_time": "2024-10-07T21:09:12.730Z"
   },
   {
    "duration": 5,
    "start_time": "2024-10-07T21:09:37.640Z"
   },
   {
    "duration": 15,
    "start_time": "2024-10-07T21:09:43.048Z"
   },
   {
    "duration": 75,
    "start_time": "2024-10-07T21:10:27.993Z"
   },
   {
    "duration": 73,
    "start_time": "2024-10-07T21:20:10.770Z"
   },
   {
    "duration": 88,
    "start_time": "2024-10-07T21:23:02.188Z"
   },
   {
    "duration": 16577,
    "start_time": "2024-10-07T21:23:35.174Z"
   },
   {
    "duration": 15889,
    "start_time": "2024-10-07T22:32:02.459Z"
   },
   {
    "duration": 16704,
    "start_time": "2024-10-07T22:39:24.552Z"
   },
   {
    "duration": 107838,
    "start_time": "2024-10-08T03:35:44.571Z"
   },
   {
    "duration": 2365,
    "start_time": "2024-10-08T03:37:32.412Z"
   },
   {
    "duration": 4,
    "start_time": "2024-10-08T03:37:34.779Z"
   },
   {
    "duration": 4169,
    "start_time": "2024-10-08T03:37:34.784Z"
   },
   {
    "duration": 593,
    "start_time": "2024-10-08T03:37:38.955Z"
   },
   {
    "duration": 401,
    "start_time": "2024-10-08T03:37:39.549Z"
   },
   {
    "duration": 0,
    "start_time": "2024-10-08T03:37:39.952Z"
   },
   {
    "duration": 0,
    "start_time": "2024-10-08T03:37:39.953Z"
   },
   {
    "duration": 0,
    "start_time": "2024-10-08T03:37:39.954Z"
   },
   {
    "duration": 0,
    "start_time": "2024-10-08T03:37:39.955Z"
   },
   {
    "duration": 0,
    "start_time": "2024-10-08T03:37:39.956Z"
   },
   {
    "duration": 0,
    "start_time": "2024-10-08T03:37:39.957Z"
   },
   {
    "duration": 0,
    "start_time": "2024-10-08T03:37:39.958Z"
   },
   {
    "duration": 398,
    "start_time": "2024-10-08T03:40:05.215Z"
   },
   {
    "duration": 915970,
    "start_time": "2024-10-08T03:40:14.870Z"
   },
   {
    "duration": 180425,
    "start_time": "2024-10-08T03:55:30.842Z"
   },
   {
    "duration": 5,
    "start_time": "2024-10-08T03:58:31.268Z"
   },
   {
    "duration": 15317,
    "start_time": "2024-10-08T03:58:31.275Z"
   },
   {
    "duration": 0,
    "start_time": "2024-10-08T03:58:46.594Z"
   },
   {
    "duration": 0,
    "start_time": "2024-10-08T03:58:46.595Z"
   },
   {
    "duration": 290,
    "start_time": "2024-10-08T04:32:25.964Z"
   },
   {
    "duration": 2458,
    "start_time": "2024-10-08T04:32:42.795Z"
   },
   {
    "duration": 175220,
    "start_time": "2024-10-08T04:34:33.877Z"
   },
   {
    "duration": 10,
    "start_time": "2024-10-08T05:54:31.964Z"
   },
   {
    "duration": 7,
    "start_time": "2024-10-08T05:55:38.491Z"
   },
   {
    "duration": 21,
    "start_time": "2024-10-08T05:56:45.180Z"
   },
   {
    "duration": 14779,
    "start_time": "2024-10-08T05:57:42.806Z"
   },
   {
    "duration": 120,
    "start_time": "2024-10-08T15:47:56.280Z"
   },
   {
    "duration": 910408,
    "start_time": "2024-10-08T15:48:06.552Z"
   },
   {
    "duration": 0,
    "start_time": "2024-10-08T16:03:16.961Z"
   },
   {
    "duration": 5,
    "start_time": "2024-10-08T16:07:24.896Z"
   },
   {
    "duration": 15126,
    "start_time": "2024-10-08T16:07:25.520Z"
   },
   {
    "duration": 28,
    "start_time": "2024-10-08T18:17:33.347Z"
   },
   {
    "duration": 182,
    "start_time": "2024-10-08T18:18:41.514Z"
   },
   {
    "duration": 4,
    "start_time": "2024-10-08T18:20:23.867Z"
   },
   {
    "duration": 60,
    "start_time": "2024-10-08T18:30:34.349Z"
   },
   {
    "duration": 45375,
    "start_time": "2024-10-08T18:31:00.883Z"
   },
   {
    "duration": 4576,
    "start_time": "2024-10-08T18:31:46.261Z"
   },
   {
    "duration": 5,
    "start_time": "2024-10-08T18:31:50.839Z"
   },
   {
    "duration": 4258,
    "start_time": "2024-10-08T18:31:50.846Z"
   },
   {
    "duration": 601,
    "start_time": "2024-10-08T18:31:55.106Z"
   },
   {
    "duration": 2699,
    "start_time": "2024-10-08T18:31:55.709Z"
   },
   {
    "duration": 945472,
    "start_time": "2024-10-08T18:31:58.410Z"
   },
   {
    "duration": 195,
    "start_time": "2024-10-08T18:47:43.885Z"
   },
   {
    "duration": 5,
    "start_time": "2024-10-08T18:47:44.083Z"
   },
   {
    "duration": 61,
    "start_time": "2024-10-08T19:11:45.986Z"
   },
   {
    "duration": 9,
    "start_time": "2024-10-08T19:12:00.672Z"
   },
   {
    "duration": 4617,
    "start_time": "2024-10-08T19:12:20.041Z"
   },
   {
    "duration": 5,
    "start_time": "2024-10-08T19:12:24.660Z"
   },
   {
    "duration": 4274,
    "start_time": "2024-10-08T19:12:26.905Z"
   },
   {
    "duration": 630,
    "start_time": "2024-10-08T19:12:36.241Z"
   },
   {
    "duration": 2646,
    "start_time": "2024-10-08T19:12:49.426Z"
   },
   {
    "duration": 5,
    "start_time": "2024-10-08T19:12:55.553Z"
   },
   {
    "duration": 58,
    "start_time": "2024-10-08T19:20:56.344Z"
   },
   {
    "duration": 4747,
    "start_time": "2024-10-08T19:21:06.857Z"
   },
   {
    "duration": 5,
    "start_time": "2024-10-08T19:21:11.607Z"
   },
   {
    "duration": 4206,
    "start_time": "2024-10-08T19:21:19.057Z"
   },
   {
    "duration": 592,
    "start_time": "2024-10-08T19:21:29.256Z"
   },
   {
    "duration": 2647,
    "start_time": "2024-10-08T19:21:38.689Z"
   },
   {
    "duration": 133,
    "start_time": "2024-10-08T19:21:49.769Z"
   },
   {
    "duration": 5,
    "start_time": "2024-10-08T19:21:58.345Z"
   },
   {
    "duration": 5,
    "start_time": "2024-10-08T19:22:08.457Z"
   },
   {
    "duration": 742,
    "start_time": "2024-10-08T19:22:19.273Z"
   },
   {
    "duration": 4995,
    "start_time": "2024-10-08T19:24:58.253Z"
   },
   {
    "duration": 4,
    "start_time": "2024-10-08T19:25:03.251Z"
   },
   {
    "duration": 4162,
    "start_time": "2024-10-08T19:25:07.220Z"
   },
   {
    "duration": 663,
    "start_time": "2024-10-08T19:25:11.384Z"
   },
   {
    "duration": 2627,
    "start_time": "2024-10-08T19:25:19.605Z"
   },
   {
    "duration": 5,
    "start_time": "2024-10-08T19:25:30.956Z"
   },
   {
    "duration": 45712,
    "start_time": "2024-10-08T19:29:22.128Z"
   },
   {
    "duration": 4509,
    "start_time": "2024-10-08T19:30:07.844Z"
   },
   {
    "duration": 5,
    "start_time": "2024-10-08T19:30:12.355Z"
   },
   {
    "duration": 4228,
    "start_time": "2024-10-08T19:30:12.363Z"
   },
   {
    "duration": 607,
    "start_time": "2024-10-08T19:30:16.593Z"
   },
   {
    "duration": 2700,
    "start_time": "2024-10-08T19:30:17.203Z"
   },
   {
    "duration": 5,
    "start_time": "2024-10-08T19:30:19.905Z"
   },
   {
    "duration": 4319,
    "start_time": "2024-10-08T19:37:39.182Z"
   },
   {
    "duration": 5,
    "start_time": "2024-10-08T19:37:43.503Z"
   },
   {
    "duration": 4198,
    "start_time": "2024-10-08T19:37:46.398Z"
   },
   {
    "duration": 590,
    "start_time": "2024-10-08T19:38:39.983Z"
   },
   {
    "duration": 5,
    "start_time": "2024-10-08T19:41:09.474Z"
   },
   {
    "duration": 57,
    "start_time": "2024-10-08T20:03:48.999Z"
   },
   {
    "duration": 5184,
    "start_time": "2024-10-08T20:04:03.503Z"
   },
   {
    "duration": 6,
    "start_time": "2024-10-08T20:04:08.691Z"
   },
   {
    "duration": 4215,
    "start_time": "2024-10-08T20:04:08.699Z"
   },
   {
    "duration": 603,
    "start_time": "2024-10-08T20:04:14.574Z"
   },
   {
    "duration": 133,
    "start_time": "2024-10-08T20:04:48.607Z"
   },
   {
    "duration": 65,
    "start_time": "2024-10-08T20:08:25.323Z"
   },
   {
    "duration": 13,
    "start_time": "2024-10-08T20:09:44.068Z"
   },
   {
    "duration": 334,
    "start_time": "2024-10-08T20:11:06.981Z"
   },
   {
    "duration": 794,
    "start_time": "2024-10-08T20:12:38.158Z"
   },
   {
    "duration": 51,
    "start_time": "2024-10-08T20:13:30.408Z"
   },
   {
    "duration": 58,
    "start_time": "2024-10-08T20:19:38.997Z"
   },
   {
    "duration": 40,
    "start_time": "2024-10-08T20:19:51.220Z"
   },
   {
    "duration": 113,
    "start_time": "2024-10-08T20:20:10.373Z"
   },
   {
    "duration": 56,
    "start_time": "2024-10-08T20:20:25.852Z"
   },
   {
    "duration": 35,
    "start_time": "2024-10-08T20:22:47.023Z"
   },
   {
    "duration": 48,
    "start_time": "2024-10-08T20:27:13.139Z"
   },
   {
    "duration": 71,
    "start_time": "2024-10-08T20:29:16.509Z"
   },
   {
    "duration": 37,
    "start_time": "2024-10-08T20:31:08.087Z"
   },
   {
    "duration": 596,
    "start_time": "2024-10-08T20:35:20.978Z"
   },
   {
    "duration": 105860,
    "start_time": "2024-10-09T03:13:09.997Z"
   },
   {
    "duration": 2234,
    "start_time": "2024-10-09T03:14:55.859Z"
   },
   {
    "duration": 5,
    "start_time": "2024-10-09T03:14:58.095Z"
   },
   {
    "duration": 2401,
    "start_time": "2024-10-09T03:14:58.102Z"
   },
   {
    "duration": 620,
    "start_time": "2024-10-09T03:15:00.505Z"
   },
   {
    "duration": 1860,
    "start_time": "2024-10-09T03:15:01.126Z"
   },
   {
    "duration": 885806,
    "start_time": "2024-10-09T03:15:02.987Z"
   },
   {
    "duration": 705,
    "start_time": "2024-10-09T03:29:48.795Z"
   },
   {
    "duration": 0,
    "start_time": "2024-10-09T03:29:49.502Z"
   },
   {
    "duration": 170,
    "start_time": "2024-10-09T03:33:40.765Z"
   },
   {
    "duration": 2200,
    "start_time": "2024-10-09T08:17:17.118Z"
   },
   {
    "duration": 5,
    "start_time": "2024-10-09T08:17:19.320Z"
   },
   {
    "duration": 2176,
    "start_time": "2024-10-09T08:17:19.877Z"
   },
   {
    "duration": 605,
    "start_time": "2024-10-09T08:17:22.056Z"
   },
   {
    "duration": 1956,
    "start_time": "2024-10-09T08:17:36.926Z"
   },
   {
    "duration": 378700,
    "start_time": "2024-10-09T08:20:59.785Z"
   },
   {
    "duration": 686,
    "start_time": "2024-10-09T08:27:18.487Z"
   },
   {
    "duration": 496,
    "start_time": "2024-10-09T14:13:48.095Z"
   },
   {
    "duration": 110057,
    "start_time": "2024-10-11T09:00:27.817Z"
   },
   {
    "duration": 2152,
    "start_time": "2024-10-11T09:02:17.876Z"
   },
   {
    "duration": 4,
    "start_time": "2024-10-11T09:02:20.029Z"
   },
   {
    "duration": 3789,
    "start_time": "2024-10-11T09:02:20.034Z"
   },
   {
    "duration": 522,
    "start_time": "2024-10-11T09:02:23.825Z"
   },
   {
    "duration": 1618,
    "start_time": "2024-10-11T09:02:24.349Z"
   },
   {
    "duration": 161,
    "start_time": "2024-10-11T09:02:25.969Z"
   },
   {
    "duration": 0,
    "start_time": "2024-10-11T09:02:26.132Z"
   },
   {
    "duration": 904365,
    "start_time": "2024-10-11T09:03:19.293Z"
   },
   {
    "duration": 165,
    "start_time": "2024-10-11T09:18:23.660Z"
   },
   {
    "duration": 1383,
    "start_time": "2024-10-13T12:53:18.471Z"
   },
   {
    "duration": 112653,
    "start_time": "2024-10-13T12:53:27.494Z"
   },
   {
    "duration": 55,
    "start_time": "2024-10-14T17:28:57.674Z"
   },
   {
    "duration": 1381,
    "start_time": "2024-10-15T03:38:22.806Z"
   },
   {
    "duration": 107530,
    "start_time": "2024-10-15T03:38:44.828Z"
   },
   {
    "duration": 623,
    "start_time": "2024-10-15T03:40:40.510Z"
   },
   {
    "duration": 4,
    "start_time": "2024-10-15T03:42:18.350Z"
   },
   {
    "duration": 75,
    "start_time": "2024-10-15T03:42:19.543Z"
   },
   {
    "duration": 2978,
    "start_time": "2024-10-15T03:42:47.519Z"
   },
   {
    "duration": 7,
    "start_time": "2024-10-15T03:43:58.097Z"
   },
   {
    "duration": 5,
    "start_time": "2024-10-15T03:44:00.992Z"
   },
   {
    "duration": 904,
    "start_time": "2024-10-15T03:44:02.369Z"
   },
   {
    "duration": 10,
    "start_time": "2024-10-15T03:46:40.331Z"
   },
   {
    "duration": 47124,
    "start_time": "2024-10-15T05:25:49.649Z"
   },
   {
    "duration": 8,
    "start_time": "2024-10-15T05:26:36.775Z"
   },
   {
    "duration": 20,
    "start_time": "2024-10-15T05:26:36.785Z"
   },
   {
    "duration": 20,
    "start_time": "2024-10-15T05:26:36.806Z"
   },
   {
    "duration": 11,
    "start_time": "2024-10-15T05:30:33.316Z"
   },
   {
    "duration": 10,
    "start_time": "2024-10-15T05:31:35.557Z"
   },
   {
    "duration": 10,
    "start_time": "2024-10-15T05:31:43.902Z"
   },
   {
    "duration": 77,
    "start_time": "2024-10-15T05:31:59.478Z"
   },
   {
    "duration": 89,
    "start_time": "2024-10-15T05:33:05.239Z"
   },
   {
    "duration": 974,
    "start_time": "2024-10-15T05:33:31.519Z"
   },
   {
    "duration": 330,
    "start_time": "2024-10-15T05:33:39.551Z"
   },
   {
    "duration": 2029,
    "start_time": "2024-10-15T05:35:45.202Z"
   },
   {
    "duration": 1709,
    "start_time": "2024-10-15T05:37:05.946Z"
   },
   {
    "duration": 745,
    "start_time": "2024-10-15T05:37:41.163Z"
   },
   {
    "duration": 1036,
    "start_time": "2024-10-15T05:38:22.299Z"
   },
   {
    "duration": 1544,
    "start_time": "2024-10-15T05:39:34.701Z"
   },
   {
    "duration": 1583,
    "start_time": "2024-10-15T05:40:28.853Z"
   },
   {
    "duration": 1877,
    "start_time": "2024-10-15T10:20:33.152Z"
   },
   {
    "duration": 4,
    "start_time": "2024-10-15T10:20:36.544Z"
   },
   {
    "duration": 1555,
    "start_time": "2024-10-15T10:20:59.600Z"
   },
   {
    "duration": 555,
    "start_time": "2024-10-15T13:59:34.671Z"
   },
   {
    "duration": 1734,
    "start_time": "2024-10-15T13:59:45.120Z"
   },
   {
    "duration": 62,
    "start_time": "2024-10-15T16:41:54.528Z"
   },
   {
    "duration": 69,
    "start_time": "2024-10-15T16:43:00.632Z"
   },
   {
    "duration": 187619,
    "start_time": "2024-10-15T16:43:30.248Z"
   },
   {
    "duration": 151,
    "start_time": "2024-10-15T16:46:37.869Z"
   },
   {
    "duration": 49032,
    "start_time": "2024-10-15T16:47:58.388Z"
   },
   {
    "duration": 95,
    "start_time": "2024-10-15T16:53:54.569Z"
   },
   {
    "duration": 5,
    "start_time": "2024-10-15T16:54:13.460Z"
   },
   {
    "duration": 153,
    "start_time": "2024-10-15T17:21:36.120Z"
   },
   {
    "duration": 8,
    "start_time": "2024-10-15T17:22:36.778Z"
   },
   {
    "duration": 31,
    "start_time": "2024-10-15T17:22:46.938Z"
   },
   {
    "duration": 5,
    "start_time": "2024-10-15T17:30:07.008Z"
   },
   {
    "duration": 144,
    "start_time": "2024-10-15T17:30:17.897Z"
   },
   {
    "duration": 5,
    "start_time": "2024-10-15T17:31:16.842Z"
   },
   {
    "duration": 138,
    "start_time": "2024-10-15T17:31:22.586Z"
   },
   {
    "duration": 5,
    "start_time": "2024-10-15T17:32:07.170Z"
   },
   {
    "duration": 1129,
    "start_time": "2024-10-15T17:32:15.546Z"
   },
   {
    "duration": 5,
    "start_time": "2024-10-15T17:32:55.707Z"
   },
   {
    "duration": 716,
    "start_time": "2024-10-15T17:33:06.078Z"
   },
   {
    "duration": 5,
    "start_time": "2024-10-15T17:33:58.540Z"
   },
   {
    "duration": 136,
    "start_time": "2024-10-15T17:34:06.052Z"
   },
   {
    "duration": 4,
    "start_time": "2024-10-15T17:35:46.678Z"
   },
   {
    "duration": 676,
    "start_time": "2024-10-15T17:35:54.045Z"
   },
   {
    "duration": 67,
    "start_time": "2024-10-15T18:02:58.982Z"
   },
   {
    "duration": 15,
    "start_time": "2024-10-15T18:03:20.798Z"
   },
   {
    "duration": 12,
    "start_time": "2024-10-15T18:12:17.454Z"
   },
   {
    "duration": 1174,
    "start_time": "2024-10-15T18:12:44.326Z"
   },
   {
    "duration": 1163,
    "start_time": "2024-10-15T18:14:08.919Z"
   },
   {
    "duration": 101742,
    "start_time": "2024-10-15T18:17:14.372Z"
   },
   {
    "duration": 8,
    "start_time": "2024-10-20T14:57:18.942Z"
   },
   {
    "duration": 196,
    "start_time": "2024-10-20T14:57:25.142Z"
   },
   {
    "duration": 65,
    "start_time": "2024-10-20T14:57:54.319Z"
   },
   {
    "duration": 2425,
    "start_time": "2024-10-20T14:58:39.551Z"
   },
   {
    "duration": 178,
    "start_time": "2024-10-20T15:00:52.321Z"
   },
   {
    "duration": 1885,
    "start_time": "2024-10-20T15:01:05.025Z"
   },
   {
    "duration": 67,
    "start_time": "2024-10-20T15:17:04.280Z"
   },
   {
    "duration": 859,
    "start_time": "2024-10-20T15:23:52.192Z"
   },
   {
    "duration": 65,
    "start_time": "2024-10-20T15:24:41.183Z"
   },
   {
    "duration": 100,
    "start_time": "2024-10-20T15:25:10.431Z"
   },
   {
    "duration": 68,
    "start_time": "2024-10-20T15:26:29.672Z"
   },
   {
    "duration": 55,
    "start_time": "2024-10-20T15:26:50.648Z"
   },
   {
    "duration": 74,
    "start_time": "2024-10-20T15:27:00.409Z"
   },
   {
    "duration": 804,
    "start_time": "2024-10-20T15:28:03.490Z"
   },
   {
    "duration": 8,
    "start_time": "2024-10-20T15:29:19.354Z"
   },
   {
    "duration": 779,
    "start_time": "2024-10-20T15:30:25.428Z"
   },
   {
    "duration": 751,
    "start_time": "2024-10-20T15:31:09.573Z"
   },
   {
    "duration": 795,
    "start_time": "2024-10-20T15:31:40.504Z"
   },
   {
    "duration": 60,
    "start_time": "2024-10-20T15:32:29.685Z"
   },
   {
    "duration": 764,
    "start_time": "2024-10-20T15:33:58.454Z"
   },
   {
    "duration": 773,
    "start_time": "2024-10-20T15:35:02.200Z"
   },
   {
    "duration": 802,
    "start_time": "2024-10-20T15:35:11.776Z"
   },
   {
    "duration": 779,
    "start_time": "2024-10-20T15:38:27.051Z"
   },
   {
    "duration": 1135,
    "start_time": "2024-10-20T15:40:35.653Z"
   },
   {
    "duration": 2291,
    "start_time": "2024-10-20T15:42:28.375Z"
   },
   {
    "duration": 6,
    "start_time": "2024-10-20T15:55:13.705Z"
   },
   {
    "duration": 5,
    "start_time": "2024-10-20T15:55:39.369Z"
   },
   {
    "duration": 69,
    "start_time": "2024-10-20T15:55:50.865Z"
   },
   {
    "duration": 624,
    "start_time": "2024-10-20T15:56:59.557Z"
   },
   {
    "duration": 39,
    "start_time": "2024-10-20T15:57:50.661Z"
   },
   {
    "duration": 39,
    "start_time": "2024-10-20T15:58:03.636Z"
   },
   {
    "duration": 39,
    "start_time": "2024-10-20T15:58:54.516Z"
   },
   {
    "duration": 2228,
    "start_time": "2024-10-20T15:59:02.453Z"
   },
   {
    "duration": 92,
    "start_time": "2024-10-20T15:59:31.854Z"
   },
   {
    "duration": 56,
    "start_time": "2024-10-20T15:59:48.870Z"
   },
   {
    "duration": 1810,
    "start_time": "2024-10-20T16:00:13.150Z"
   },
   {
    "duration": 2429,
    "start_time": "2024-10-20T16:00:17.830Z"
   },
   {
    "duration": 183,
    "start_time": "2024-10-20T16:00:41.878Z"
   },
   {
    "duration": 1913,
    "start_time": "2024-10-20T16:00:46.814Z"
   },
   {
    "duration": 121,
    "start_time": "2024-10-20T16:02:18.985Z"
   },
   {
    "duration": 182,
    "start_time": "2024-10-20T16:03:19.481Z"
   },
   {
    "duration": 697,
    "start_time": "2024-10-20T16:03:31.049Z"
   },
   {
    "duration": 2221,
    "start_time": "2024-10-20T16:05:04.234Z"
   },
   {
    "duration": 604,
    "start_time": "2024-10-20T16:05:51.956Z"
   },
   {
    "duration": 68,
    "start_time": "2024-10-20T16:09:12.103Z"
   },
   {
    "duration": 206,
    "start_time": "2024-10-20T16:09:24.686Z"
   },
   {
    "duration": 419,
    "start_time": "2024-10-20T16:09:57.031Z"
   },
   {
    "duration": 410,
    "start_time": "2024-10-20T16:10:22.551Z"
   },
   {
    "duration": 442,
    "start_time": "2024-10-20T16:11:29.490Z"
   },
   {
    "duration": 563,
    "start_time": "2024-10-20T16:11:41.561Z"
   },
   {
    "duration": 342,
    "start_time": "2024-10-20T16:13:05.723Z"
   },
   {
    "duration": 578,
    "start_time": "2024-10-20T16:16:00.261Z"
   },
   {
    "duration": 8,
    "start_time": "2024-10-20T16:16:29.406Z"
   },
   {
    "duration": 529,
    "start_time": "2024-10-20T16:16:45.967Z"
   },
   {
    "duration": 306,
    "start_time": "2024-10-20T16:29:57.178Z"
   },
   {
    "duration": 316,
    "start_time": "2024-10-20T16:30:28.490Z"
   },
   {
    "duration": 171,
    "start_time": "2024-10-20T16:37:40.024Z"
   },
   {
    "duration": 190,
    "start_time": "2024-10-20T16:38:01.169Z"
   },
   {
    "duration": 547,
    "start_time": "2024-10-20T16:38:59.232Z"
   },
   {
    "duration": 756,
    "start_time": "2024-10-20T16:41:50.660Z"
   },
   {
    "duration": 2136,
    "start_time": "2024-10-20T17:07:11.818Z"
   },
   {
    "duration": 719,
    "start_time": "2024-10-20T17:08:46.202Z"
   },
   {
    "duration": 2286,
    "start_time": "2024-10-20T17:09:40.988Z"
   },
   {
    "duration": 125,
    "start_time": "2024-10-20T17:09:46.826Z"
   },
   {
    "duration": 2670,
    "start_time": "2024-10-20T17:09:56.755Z"
   },
   {
    "duration": 1191,
    "start_time": "2024-10-20T17:10:04.731Z"
   },
   {
    "duration": 1520,
    "start_time": "2024-10-20T17:10:50.373Z"
   },
   {
    "duration": 2172,
    "start_time": "2024-10-20T17:11:24.356Z"
   },
   {
    "duration": 1482,
    "start_time": "2024-10-21T07:42:50.353Z"
   },
   {
    "duration": 1283,
    "start_time": "2024-10-21T07:43:13.303Z"
   },
   {
    "duration": 29224,
    "start_time": "2024-10-21T07:43:43.018Z"
   },
   {
    "duration": 2033,
    "start_time": "2024-10-21T07:44:12.244Z"
   },
   {
    "duration": 5338,
    "start_time": "2024-10-21T07:44:14.278Z"
   },
   {
    "duration": 162,
    "start_time": "2024-10-21T07:44:19.618Z"
   },
   {
    "duration": 2506,
    "start_time": "2024-10-21T07:44:19.781Z"
   },
   {
    "duration": 0,
    "start_time": "2024-10-21T07:44:22.290Z"
   },
   {
    "duration": 0,
    "start_time": "2024-10-21T07:44:22.291Z"
   },
   {
    "duration": 0,
    "start_time": "2024-10-21T07:44:22.292Z"
   },
   {
    "duration": 0,
    "start_time": "2024-10-21T07:44:22.293Z"
   },
   {
    "duration": 0,
    "start_time": "2024-10-21T07:44:22.294Z"
   },
   {
    "duration": 0,
    "start_time": "2024-10-21T07:44:22.295Z"
   },
   {
    "duration": 0,
    "start_time": "2024-10-21T07:44:22.297Z"
   },
   {
    "duration": 0,
    "start_time": "2024-10-21T07:44:22.298Z"
   },
   {
    "duration": 0,
    "start_time": "2024-10-21T07:44:22.299Z"
   },
   {
    "duration": 0,
    "start_time": "2024-10-21T07:44:22.300Z"
   },
   {
    "duration": 0,
    "start_time": "2024-10-21T07:44:22.301Z"
   },
   {
    "duration": 0,
    "start_time": "2024-10-21T07:44:22.302Z"
   },
   {
    "duration": 0,
    "start_time": "2024-10-21T07:44:22.303Z"
   },
   {
    "duration": 0,
    "start_time": "2024-10-21T07:44:22.304Z"
   },
   {
    "duration": 0,
    "start_time": "2024-10-21T07:44:22.306Z"
   },
   {
    "duration": 0,
    "start_time": "2024-10-21T07:44:22.307Z"
   },
   {
    "duration": 0,
    "start_time": "2024-10-21T07:44:22.343Z"
   },
   {
    "duration": 0,
    "start_time": "2024-10-21T07:44:22.345Z"
   },
   {
    "duration": 0,
    "start_time": "2024-10-21T07:44:22.346Z"
   },
   {
    "duration": 3336,
    "start_time": "2024-10-21T07:44:57.393Z"
   },
   {
    "duration": 3365,
    "start_time": "2024-10-21T07:46:09.346Z"
   },
   {
    "duration": 923,
    "start_time": "2024-10-21T07:46:22.025Z"
   },
   {
    "duration": 2126,
    "start_time": "2024-10-21T07:46:54.929Z"
   },
   {
    "duration": 548,
    "start_time": "2024-10-21T07:48:31.876Z"
   },
   {
    "duration": 2167,
    "start_time": "2024-10-21T07:48:41.163Z"
   },
   {
    "duration": 6,
    "start_time": "2024-10-21T07:54:40.265Z"
   },
   {
    "duration": 293,
    "start_time": "2024-10-21T07:54:49.425Z"
   },
   {
    "duration": 3442,
    "start_time": "2024-10-21T07:54:56.345Z"
   },
   {
    "duration": 1579,
    "start_time": "2024-10-21T07:55:38.810Z"
   },
   {
    "duration": 2097,
    "start_time": "2024-10-21T07:56:00.563Z"
   },
   {
    "duration": 73,
    "start_time": "2024-10-21T07:59:03.005Z"
   },
   {
    "duration": 2088,
    "start_time": "2024-10-21T07:59:45.509Z"
   },
   {
    "duration": 676,
    "start_time": "2024-10-21T08:05:51.924Z"
   },
   {
    "duration": 2127,
    "start_time": "2024-10-21T08:05:58.034Z"
   },
   {
    "duration": 121,
    "start_time": "2024-10-21T08:07:30.652Z"
   },
   {
    "duration": 15,
    "start_time": "2024-10-21T08:08:08.980Z"
   },
   {
    "duration": 285,
    "start_time": "2024-10-21T08:08:34.141Z"
   },
   {
    "duration": 3328,
    "start_time": "2024-10-21T08:08:43.044Z"
   },
   {
    "duration": 3337,
    "start_time": "2024-10-21T08:09:30.887Z"
   },
   {
    "duration": 244,
    "start_time": "2024-10-21T08:09:37.885Z"
   },
   {
    "duration": 3253,
    "start_time": "2024-10-21T08:09:43.325Z"
   },
   {
    "duration": 3494,
    "start_time": "2024-10-21T08:10:37.511Z"
   },
   {
    "duration": 3019,
    "start_time": "2024-10-21T08:14:07.139Z"
   },
   {
    "duration": 4115,
    "start_time": "2024-10-21T08:15:05.555Z"
   },
   {
    "duration": 270,
    "start_time": "2024-10-21T08:15:31.074Z"
   },
   {
    "duration": 344,
    "start_time": "2024-10-21T08:20:01.456Z"
   },
   {
    "duration": 710,
    "start_time": "2024-10-21T08:20:49.239Z"
   },
   {
    "duration": 2536,
    "start_time": "2024-10-21T08:21:43.816Z"
   },
   {
    "duration": 514,
    "start_time": "2024-10-21T08:22:56.018Z"
   },
   {
    "duration": 214,
    "start_time": "2024-10-21T08:30:03.480Z"
   },
   {
    "duration": 261,
    "start_time": "2024-10-21T08:30:47.991Z"
   },
   {
    "duration": 637,
    "start_time": "2024-10-21T08:30:52.280Z"
   },
   {
    "duration": 249,
    "start_time": "2024-10-21T08:31:08.487Z"
   },
   {
    "duration": 13,
    "start_time": "2024-10-21T08:31:40.472Z"
   },
   {
    "duration": 222,
    "start_time": "2024-10-21T08:31:50.161Z"
   },
   {
    "duration": 250,
    "start_time": "2024-10-21T08:33:24.147Z"
   },
   {
    "duration": 117,
    "start_time": "2024-10-21T08:34:20.835Z"
   },
   {
    "duration": 277,
    "start_time": "2024-10-21T08:34:42.539Z"
   },
   {
    "duration": 622,
    "start_time": "2024-10-21T08:34:45.403Z"
   },
   {
    "duration": 2460,
    "start_time": "2024-10-21T08:34:47.396Z"
   },
   {
    "duration": 1951,
    "start_time": "2024-10-21T08:36:30.892Z"
   },
   {
    "duration": 3399,
    "start_time": "2024-10-21T08:36:36.877Z"
   },
   {
    "duration": 277,
    "start_time": "2024-10-21T08:36:43.572Z"
   },
   {
    "duration": 597,
    "start_time": "2024-10-21T08:36:49.405Z"
   },
   {
    "duration": 2376,
    "start_time": "2024-10-21T08:36:58.606Z"
   },
   {
    "duration": 151,
    "start_time": "2024-10-21T08:37:36.766Z"
   },
   {
    "duration": 253,
    "start_time": "2024-10-21T08:39:49.904Z"
   },
   {
    "duration": 341,
    "start_time": "2024-10-21T08:40:36.096Z"
   },
   {
    "duration": 596,
    "start_time": "2024-10-21T08:40:53.593Z"
   },
   {
    "duration": 588,
    "start_time": "2024-10-21T08:41:43.666Z"
   },
   {
    "duration": 267,
    "start_time": "2024-10-21T16:11:29.559Z"
   },
   {
    "duration": 255,
    "start_time": "2024-10-21T16:12:23.830Z"
   },
   {
    "duration": 3049,
    "start_time": "2024-10-21T16:12:27.765Z"
   },
   {
    "duration": 449,
    "start_time": "2024-10-21T16:12:45.526Z"
   },
   {
    "duration": 12,
    "start_time": "2024-10-21T16:16:50.346Z"
   },
   {
    "duration": 11,
    "start_time": "2024-10-21T16:16:56.849Z"
   },
   {
    "duration": 35,
    "start_time": "2024-10-21T16:17:26.027Z"
   },
   {
    "duration": 261,
    "start_time": "2024-10-21T16:19:53.548Z"
   },
   {
    "duration": 450,
    "start_time": "2024-10-21T16:20:05.109Z"
   },
   {
    "duration": 1055,
    "start_time": "2024-10-21T16:20:08.573Z"
   },
   {
    "duration": 1048,
    "start_time": "2024-10-21T16:20:49.158Z"
   },
   {
    "duration": 1483,
    "start_time": "2024-10-21T16:24:10.385Z"
   },
   {
    "duration": 2693,
    "start_time": "2024-10-21T16:27:31.267Z"
   },
   {
    "duration": 260,
    "start_time": "2024-10-21T16:31:31.398Z"
   },
   {
    "duration": 465,
    "start_time": "2024-10-21T16:31:39.254Z"
   },
   {
    "duration": 1522,
    "start_time": "2024-10-21T16:31:42.472Z"
   },
   {
    "duration": 2657,
    "start_time": "2024-10-21T16:32:02.264Z"
   },
   {
    "duration": 257,
    "start_time": "2024-10-21T16:33:18.248Z"
   },
   {
    "duration": 502,
    "start_time": "2024-10-21T16:33:38.864Z"
   },
   {
    "duration": 262,
    "start_time": "2024-10-21T16:34:25.233Z"
   },
   {
    "duration": 3304,
    "start_time": "2024-10-21T16:34:50.913Z"
   },
   {
    "duration": 512,
    "start_time": "2024-10-21T16:35:34.620Z"
   },
   {
    "duration": 1724,
    "start_time": "2024-10-21T16:37:09.637Z"
   },
   {
    "duration": 2798,
    "start_time": "2024-10-21T16:37:40.508Z"
   },
   {
    "duration": 263,
    "start_time": "2024-10-21T16:42:40.504Z"
   },
   {
    "duration": 3294,
    "start_time": "2024-10-21T16:42:46.816Z"
   },
   {
    "duration": 1806,
    "start_time": "2024-10-21T16:42:53.673Z"
   },
   {
    "duration": 2907,
    "start_time": "2024-10-21T16:43:08.809Z"
   },
   {
    "duration": 13,
    "start_time": "2024-10-21T16:49:02.046Z"
   },
   {
    "duration": 9,
    "start_time": "2024-10-21T16:49:07.741Z"
   },
   {
    "duration": 8,
    "start_time": "2024-10-21T16:49:20.158Z"
   },
   {
    "duration": 10,
    "start_time": "2024-10-21T16:49:45.062Z"
   },
   {
    "duration": 28,
    "start_time": "2024-10-21T16:49:59.815Z"
   },
   {
    "duration": 3196,
    "start_time": "2024-10-21T16:53:37.307Z"
   },
   {
    "duration": 3362,
    "start_time": "2024-10-21T16:56:29.237Z"
   },
   {
    "duration": 1923,
    "start_time": "2024-10-21T17:03:20.251Z"
   },
   {
    "duration": 3328,
    "start_time": "2024-10-21T17:03:35.250Z"
   },
   {
    "duration": 295,
    "start_time": "2024-10-21T17:03:44.891Z"
   },
   {
    "duration": 2204,
    "start_time": "2024-10-21T17:03:56.931Z"
   },
   {
    "duration": 2784,
    "start_time": "2024-10-21T17:04:15.675Z"
   },
   {
    "duration": 40,
    "start_time": "2024-10-21T17:05:49.877Z"
   },
   {
    "duration": 32,
    "start_time": "2024-10-21T17:06:33.030Z"
   },
   {
    "duration": 44,
    "start_time": "2024-10-21T17:06:38.446Z"
   },
   {
    "duration": 29,
    "start_time": "2024-10-21T17:06:51.654Z"
   },
   {
    "duration": 37,
    "start_time": "2024-10-21T17:09:12.119Z"
   },
   {
    "duration": 6558,
    "start_time": "2024-10-21T17:11:05.369Z"
   },
   {
    "duration": 92728,
    "start_time": "2024-10-21T17:22:55.661Z"
   },
   {
    "duration": 3399,
    "start_time": "2024-10-21T17:25:23.688Z"
   },
   {
    "duration": 230,
    "start_time": "2024-10-21T17:25:33.524Z"
   },
   {
    "duration": 8089,
    "start_time": "2024-10-21T17:25:37.039Z"
   },
   {
    "duration": 1916,
    "start_time": "2024-10-21T17:30:42.274Z"
   },
   {
    "duration": 3453,
    "start_time": "2024-10-21T17:30:46.714Z"
   },
   {
    "duration": 284,
    "start_time": "2024-10-21T17:30:53.250Z"
   },
   {
    "duration": 8557,
    "start_time": "2024-10-21T17:31:00.418Z"
   },
   {
    "duration": 1845,
    "start_time": "2024-10-21T17:31:13.154Z"
   },
   {
    "duration": 3041,
    "start_time": "2024-10-21T17:31:46.275Z"
   },
   {
    "duration": 4825,
    "start_time": "2024-10-21T17:32:06.684Z"
   },
   {
    "duration": 240,
    "start_time": "2024-10-21T17:40:52.436Z"
   },
   {
    "duration": 35776,
    "start_time": "2024-10-21T17:41:09.363Z"
   },
   {
    "duration": 173,
    "start_time": "2024-10-21T17:41:45.140Z"
   },
   {
    "duration": 145,
    "start_time": "2024-10-21T17:43:51.734Z"
   },
   {
    "duration": 60,
    "start_time": "2024-10-21T17:46:50.841Z"
   },
   {
    "duration": 74,
    "start_time": "2024-10-21T18:03:40.928Z"
   },
   {
    "duration": 25,
    "start_time": "2024-10-21T18:04:08.362Z"
   },
   {
    "duration": 16,
    "start_time": "2024-10-21T18:04:29.824Z"
   },
   {
    "duration": 18,
    "start_time": "2024-10-21T18:05:10.384Z"
   },
   {
    "duration": 8,
    "start_time": "2024-10-21T18:05:59.966Z"
   },
   {
    "duration": 5,
    "start_time": "2024-10-21T18:22:27.840Z"
   },
   {
    "duration": 6,
    "start_time": "2024-10-21T18:24:38.650Z"
   },
   {
    "duration": 8,
    "start_time": "2024-10-21T18:24:50.402Z"
   },
   {
    "duration": 6,
    "start_time": "2024-10-21T18:25:13.011Z"
   },
   {
    "duration": 21,
    "start_time": "2024-10-21T18:25:32.947Z"
   },
   {
    "duration": 17,
    "start_time": "2024-10-21T18:27:09.613Z"
   },
   {
    "duration": 55,
    "start_time": "2024-10-21T18:28:10.478Z"
   },
   {
    "duration": 2166,
    "start_time": "2024-10-21T18:29:03.007Z"
   },
   {
    "duration": 85099,
    "start_time": "2024-10-21T18:31:16.809Z"
   },
   {
    "duration": 74,
    "start_time": "2024-10-21T18:43:07.690Z"
   },
   {
    "duration": 65,
    "start_time": "2024-10-21T18:44:14.070Z"
   },
   {
    "duration": 9627049,
    "start_time": "2024-10-21T18:44:47.860Z"
   },
   {
    "duration": 5,
    "start_time": "2024-10-21T21:25:14.911Z"
   },
   {
    "duration": 21,
    "start_time": "2024-10-21T21:33:31.144Z"
   },
   {
    "duration": 252,
    "start_time": "2024-10-21T21:33:49.777Z"
   },
   {
    "duration": 185,
    "start_time": "2024-10-21T21:34:51.609Z"
   },
   {
    "duration": 887123,
    "start_time": "2024-10-21T21:36:37.531Z"
   },
   {
    "duration": 728,
    "start_time": "2024-10-21T22:05:04.237Z"
   },
   {
    "duration": 1514,
    "start_time": "2024-10-23T09:11:52.767Z"
   },
   {
    "duration": 0,
    "start_time": "2024-10-23T09:11:54.282Z"
   },
   {
    "duration": 0,
    "start_time": "2024-10-23T09:11:54.283Z"
   },
   {
    "duration": 0,
    "start_time": "2024-10-23T09:11:54.284Z"
   },
   {
    "duration": 0,
    "start_time": "2024-10-23T09:11:54.285Z"
   },
   {
    "duration": 0,
    "start_time": "2024-10-23T09:11:54.286Z"
   },
   {
    "duration": 0,
    "start_time": "2024-10-23T09:11:54.287Z"
   },
   {
    "duration": 0,
    "start_time": "2024-10-23T09:11:54.288Z"
   },
   {
    "duration": 3412,
    "start_time": "2024-10-23T09:13:55.109Z"
   },
   {
    "duration": 2820,
    "start_time": "2024-10-23T09:13:58.523Z"
   },
   {
    "duration": 0,
    "start_time": "2024-10-23T09:14:01.344Z"
   },
   {
    "duration": 0,
    "start_time": "2024-10-23T09:14:01.346Z"
   },
   {
    "duration": 0,
    "start_time": "2024-10-23T09:14:01.347Z"
   },
   {
    "duration": 0,
    "start_time": "2024-10-23T09:14:01.348Z"
   },
   {
    "duration": 0,
    "start_time": "2024-10-23T09:14:01.349Z"
   },
   {
    "duration": 0,
    "start_time": "2024-10-23T09:14:01.350Z"
   },
   {
    "duration": 0,
    "start_time": "2024-10-23T09:14:01.351Z"
   },
   {
    "duration": 4128,
    "start_time": "2024-10-23T09:14:17.168Z"
   },
   {
    "duration": 1860,
    "start_time": "2024-10-23T09:14:21.299Z"
   },
   {
    "duration": 3847,
    "start_time": "2024-10-23T09:14:36.570Z"
   },
   {
    "duration": 572,
    "start_time": "2024-10-23T09:14:40.938Z"
   },
   {
    "duration": 3501,
    "start_time": "2024-10-23T09:15:07.151Z"
   },
   {
    "duration": 16,
    "start_time": "2024-10-23T09:15:12.220Z"
   },
   {
    "duration": 2920,
    "start_time": "2024-10-23T09:15:29.324Z"
   },
   {
    "duration": 10,
    "start_time": "2024-10-23T09:15:32.246Z"
   },
   {
    "duration": 105,
    "start_time": "2024-10-23T09:15:32.258Z"
   },
   {
    "duration": 0,
    "start_time": "2024-10-23T09:15:32.365Z"
   },
   {
    "duration": 0,
    "start_time": "2024-10-23T09:15:32.366Z"
   },
   {
    "duration": 0,
    "start_time": "2024-10-23T09:15:32.367Z"
   },
   {
    "duration": 0,
    "start_time": "2024-10-23T09:15:32.368Z"
   },
   {
    "duration": 0,
    "start_time": "2024-10-23T09:15:32.369Z"
   },
   {
    "duration": 0,
    "start_time": "2024-10-23T09:15:32.370Z"
   },
   {
    "duration": 2,
    "start_time": "2024-10-23T09:17:54.101Z"
   },
   {
    "duration": 61,
    "start_time": "2024-10-23T12:49:57.779Z"
   },
   {
    "duration": 61,
    "start_time": "2024-10-23T12:53:01.748Z"
   },
   {
    "duration": 26333,
    "start_time": "2024-10-23T12:53:30.329Z"
   },
   {
    "duration": 3,
    "start_time": "2024-10-23T12:53:56.664Z"
   },
   {
    "duration": 46,
    "start_time": "2024-10-23T12:53:56.668Z"
   },
   {
    "duration": 2273,
    "start_time": "2024-10-23T12:54:29.474Z"
   },
   {
    "duration": 3727,
    "start_time": "2024-10-23T12:54:33.938Z"
   },
   {
    "duration": 5852,
    "start_time": "2024-10-23T13:06:14.662Z"
   },
   {
    "duration": 282,
    "start_time": "2024-10-23T13:08:13.839Z"
   },
   {
    "duration": 8374,
    "start_time": "2024-10-23T13:08:22.206Z"
   },
   {
    "duration": 3170,
    "start_time": "2024-10-23T13:08:57.927Z"
   },
   {
    "duration": 52,
    "start_time": "2024-10-23T13:10:21.544Z"
   },
   {
    "duration": 1891,
    "start_time": "2024-10-23T13:10:38.328Z"
   },
   {
    "duration": 231,
    "start_time": "2024-10-23T13:12:17.898Z"
   },
   {
    "duration": 8157,
    "start_time": "2024-10-23T13:12:21.281Z"
   },
   {
    "duration": 3106,
    "start_time": "2024-10-23T13:12:29.440Z"
   },
   {
    "duration": 1789,
    "start_time": "2024-10-23T13:12:32.547Z"
   },
   {
    "duration": 2675,
    "start_time": "2024-10-23T13:12:34.338Z"
   },
   {
    "duration": 4910,
    "start_time": "2024-10-23T13:12:56.497Z"
   },
   {
    "duration": 262,
    "start_time": "2024-10-23T13:13:21.498Z"
   },
   {
    "duration": 24464,
    "start_time": "2024-10-23T13:13:44.451Z"
   },
   {
    "duration": 2,
    "start_time": "2024-10-23T13:14:08.917Z"
   },
   {
    "duration": 1893,
    "start_time": "2024-10-23T13:14:08.921Z"
   },
   {
    "duration": 5250,
    "start_time": "2024-10-23T13:14:10.816Z"
   },
   {
    "duration": 312,
    "start_time": "2024-10-23T13:14:16.068Z"
   },
   {
    "duration": 9115,
    "start_time": "2024-10-23T13:14:16.381Z"
   },
   {
    "duration": 540,
    "start_time": "2024-10-23T13:14:25.497Z"
   },
   {
    "duration": 0,
    "start_time": "2024-10-23T13:14:26.039Z"
   },
   {
    "duration": 0,
    "start_time": "2024-10-23T13:14:26.040Z"
   },
   {
    "duration": 0,
    "start_time": "2024-10-23T13:14:26.042Z"
   },
   {
    "duration": 0,
    "start_time": "2024-10-23T13:14:26.043Z"
   },
   {
    "duration": 0,
    "start_time": "2024-10-23T13:14:26.044Z"
   },
   {
    "duration": 0,
    "start_time": "2024-10-23T13:14:26.045Z"
   },
   {
    "duration": 0,
    "start_time": "2024-10-23T13:14:26.046Z"
   },
   {
    "duration": 0,
    "start_time": "2024-10-23T13:14:26.048Z"
   },
   {
    "duration": 0,
    "start_time": "2024-10-23T13:14:26.049Z"
   },
   {
    "duration": 0,
    "start_time": "2024-10-23T13:14:26.050Z"
   },
   {
    "duration": 0,
    "start_time": "2024-10-23T13:14:26.051Z"
   },
   {
    "duration": 0,
    "start_time": "2024-10-23T13:14:26.053Z"
   },
   {
    "duration": 0,
    "start_time": "2024-10-23T13:14:26.054Z"
   },
   {
    "duration": 0,
    "start_time": "2024-10-23T13:14:26.056Z"
   },
   {
    "duration": 3046,
    "start_time": "2024-10-23T13:15:26.812Z"
   },
   {
    "duration": 1648,
    "start_time": "2024-10-23T13:15:35.076Z"
   },
   {
    "duration": 2670,
    "start_time": "2024-10-23T13:15:43.236Z"
   },
   {
    "duration": 4912,
    "start_time": "2024-10-23T13:15:59.524Z"
   },
   {
    "duration": 263,
    "start_time": "2024-10-23T13:16:28.535Z"
   },
   {
    "duration": 36814,
    "start_time": "2024-10-23T13:16:34.332Z"
   },
   {
    "duration": 0,
    "start_time": "2024-10-23T13:17:11.148Z"
   },
   {
    "duration": 0,
    "start_time": "2024-10-23T13:17:11.150Z"
   },
   {
    "duration": 0,
    "start_time": "2024-10-23T13:17:11.151Z"
   },
   {
    "duration": 0,
    "start_time": "2024-10-23T13:17:11.153Z"
   },
   {
    "duration": 0,
    "start_time": "2024-10-23T13:17:11.155Z"
   },
   {
    "duration": 0,
    "start_time": "2024-10-23T13:17:11.156Z"
   },
   {
    "duration": 149890,
    "start_time": "2024-10-23T13:17:25.247Z"
   },
   {
    "duration": 447,
    "start_time": "2024-10-23T13:19:55.139Z"
   },
   {
    "duration": 518,
    "start_time": "2024-10-23T13:19:55.588Z"
   },
   {
    "duration": 144330,
    "start_time": "2024-10-23T13:24:59.156Z"
   },
   {
    "duration": 424,
    "start_time": "2024-10-23T13:27:23.488Z"
   },
   {
    "duration": 500,
    "start_time": "2024-10-23T13:27:23.914Z"
   },
   {
    "duration": 480,
    "start_time": "2024-10-23T13:47:09.840Z"
   },
   {
    "duration": 546,
    "start_time": "2024-10-23T14:50:24.275Z"
   },
   {
    "duration": 9992229,
    "start_time": "2024-10-23T14:50:40.841Z"
   },
   {
    "duration": 309,
    "start_time": "2024-10-23T17:37:13.072Z"
   },
   {
    "duration": 84997,
    "start_time": "2024-10-23T17:37:13.383Z"
   },
   {
    "duration": 1322516,
    "start_time": "2024-10-23T17:38:38.382Z"
   },
   {
    "duration": 155,
    "start_time": "2024-10-23T18:00:40.900Z"
   },
   {
    "duration": 208044,
    "start_time": "2024-10-23T18:00:41.056Z"
   },
   {
    "duration": 138,
    "start_time": "2024-10-23T18:37:42.013Z"
   },
   {
    "duration": 328,
    "start_time": "2024-10-23T18:37:53.524Z"
   },
   {
    "duration": 126,
    "start_time": "2024-10-23T18:38:24.109Z"
   },
   {
    "duration": 332,
    "start_time": "2024-10-23T18:38:31.941Z"
   },
   {
    "duration": 70,
    "start_time": "2024-10-23T18:46:56.854Z"
   }
  ],
  "kernelspec": {
   "display_name": "Python 3 (ipykernel)",
   "language": "python",
   "name": "python3"
  },
  "language_info": {
   "codemirror_mode": {
    "name": "ipython",
    "version": 3
   },
   "file_extension": ".py",
   "mimetype": "text/x-python",
   "name": "python",
   "nbconvert_exporter": "python",
   "pygments_lexer": "ipython3",
   "version": "3.12.3"
  },
  "toc": {
   "base_numbering": 1,
   "nav_menu": {},
   "number_sections": true,
   "sideBar": true,
   "skip_h1_title": true,
   "title_cell": "Table of Contents",
   "title_sidebar": "Contents",
   "toc_cell": false,
   "toc_position": {
    "height": "calc(100% - 180px)",
    "left": "10px",
    "top": "150px",
    "width": "349.091px"
   },
   "toc_section_display": true,
   "toc_window_display": false
  }
 },
 "nbformat": 4,
 "nbformat_minor": 4
}
