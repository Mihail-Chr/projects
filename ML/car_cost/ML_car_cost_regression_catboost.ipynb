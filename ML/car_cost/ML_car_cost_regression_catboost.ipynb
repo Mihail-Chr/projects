{
  "cells": [
    {
      "cell_type": "markdown",
      "metadata": {
        "id": "view-in-github",
        "colab_type": "text"
      },
      "source": [
        "<a href=\"https://colab.research.google.com/github/Mihail-Chr/projects/blob/main/ML/car_cost/ML_car_cost_regression_catboost.ipynb\" target=\"_parent\"><img src=\"https://colab.research.google.com/assets/colab-badge.svg\" alt=\"Open In Colab\"/></a>"
      ]
    },
    {
      "cell_type": "markdown",
      "metadata": {
        "id": "POC3GWKWWIUA"
      },
      "source": [
        "# Определение стоимости автомобилей"
      ]
    },
    {
      "cell_type": "markdown",
      "metadata": {
        "id": "zmyRobGzWIUD"
      },
      "source": [
        "Сервис по продаже автомобилей с пробегом «Не бит, не крашен» разрабатывает приложение для привлечения новых клиентов. В нём можно быстро узнать рыночную стоимость своего автомобиля. В распоряжении имеются исторические данные: технические характеристики, комплектации и цены автомобилей. Нужно построить модель для определения стоимости. Метрика  RMSE должна быть не ниже 2500\n",
        "\n",
        "Заказчику важны:\n",
        "\n",
        "- качество предсказания;\n",
        "- скорость предсказания;\n",
        "- время обучения."
      ]
    },
    {
      "cell_type": "code",
      "source": [
        "! pip install catboost\n",
        "! pip install phik"
      ],
      "metadata": {
        "id": "Xz1oxGLNWi9G",
        "outputId": "65de5493-ad4b-498e-937c-9a7ea156a33e",
        "colab": {
          "base_uri": "https://localhost:8080/"
        }
      },
      "execution_count": 1,
      "outputs": [
        {
          "output_type": "stream",
          "name": "stdout",
          "text": [
            "Collecting catboost\n",
            "  Downloading catboost-1.2.8-cp311-cp311-manylinux2014_x86_64.whl.metadata (1.2 kB)\n",
            "Requirement already satisfied: graphviz in /usr/local/lib/python3.11/dist-packages (from catboost) (0.21)\n",
            "Requirement already satisfied: matplotlib in /usr/local/lib/python3.11/dist-packages (from catboost) (3.10.0)\n",
            "Requirement already satisfied: numpy<3.0,>=1.16.0 in /usr/local/lib/python3.11/dist-packages (from catboost) (2.0.2)\n",
            "Requirement already satisfied: pandas>=0.24 in /usr/local/lib/python3.11/dist-packages (from catboost) (2.2.2)\n",
            "Requirement already satisfied: scipy in /usr/local/lib/python3.11/dist-packages (from catboost) (1.16.0)\n",
            "Requirement already satisfied: plotly in /usr/local/lib/python3.11/dist-packages (from catboost) (5.24.1)\n",
            "Requirement already satisfied: six in /usr/local/lib/python3.11/dist-packages (from catboost) (1.17.0)\n",
            "Requirement already satisfied: python-dateutil>=2.8.2 in /usr/local/lib/python3.11/dist-packages (from pandas>=0.24->catboost) (2.9.0.post0)\n",
            "Requirement already satisfied: pytz>=2020.1 in /usr/local/lib/python3.11/dist-packages (from pandas>=0.24->catboost) (2025.2)\n",
            "Requirement already satisfied: tzdata>=2022.7 in /usr/local/lib/python3.11/dist-packages (from pandas>=0.24->catboost) (2025.2)\n",
            "Requirement already satisfied: contourpy>=1.0.1 in /usr/local/lib/python3.11/dist-packages (from matplotlib->catboost) (1.3.2)\n",
            "Requirement already satisfied: cycler>=0.10 in /usr/local/lib/python3.11/dist-packages (from matplotlib->catboost) (0.12.1)\n",
            "Requirement already satisfied: fonttools>=4.22.0 in /usr/local/lib/python3.11/dist-packages (from matplotlib->catboost) (4.59.0)\n",
            "Requirement already satisfied: kiwisolver>=1.3.1 in /usr/local/lib/python3.11/dist-packages (from matplotlib->catboost) (1.4.8)\n",
            "Requirement already satisfied: packaging>=20.0 in /usr/local/lib/python3.11/dist-packages (from matplotlib->catboost) (25.0)\n",
            "Requirement already satisfied: pillow>=8 in /usr/local/lib/python3.11/dist-packages (from matplotlib->catboost) (11.3.0)\n",
            "Requirement already satisfied: pyparsing>=2.3.1 in /usr/local/lib/python3.11/dist-packages (from matplotlib->catboost) (3.2.3)\n",
            "Requirement already satisfied: tenacity>=6.2.0 in /usr/local/lib/python3.11/dist-packages (from plotly->catboost) (8.5.0)\n",
            "Downloading catboost-1.2.8-cp311-cp311-manylinux2014_x86_64.whl (99.2 MB)\n",
            "\u001b[2K   \u001b[90m━━━━━━━━━━━━━━━━━━━━━━━━━━━━━━━━━━━━━━━━\u001b[0m \u001b[32m99.2/99.2 MB\u001b[0m \u001b[31m10.1 MB/s\u001b[0m eta \u001b[36m0:00:00\u001b[0m\n",
            "\u001b[?25hInstalling collected packages: catboost\n",
            "Successfully installed catboost-1.2.8\n",
            "Collecting phik\n",
            "  Downloading phik-0.12.5-cp311-cp311-manylinux_2_24_x86_64.manylinux_2_28_x86_64.whl.metadata (5.6 kB)\n",
            "Requirement already satisfied: numpy>=1.18.0 in /usr/local/lib/python3.11/dist-packages (from phik) (2.0.2)\n",
            "Requirement already satisfied: scipy>=1.5.2 in /usr/local/lib/python3.11/dist-packages (from phik) (1.16.0)\n",
            "Requirement already satisfied: pandas>=0.25.1 in /usr/local/lib/python3.11/dist-packages (from phik) (2.2.2)\n",
            "Requirement already satisfied: matplotlib>=2.2.3 in /usr/local/lib/python3.11/dist-packages (from phik) (3.10.0)\n",
            "Requirement already satisfied: joblib>=0.14.1 in /usr/local/lib/python3.11/dist-packages (from phik) (1.5.1)\n",
            "Requirement already satisfied: contourpy>=1.0.1 in /usr/local/lib/python3.11/dist-packages (from matplotlib>=2.2.3->phik) (1.3.2)\n",
            "Requirement already satisfied: cycler>=0.10 in /usr/local/lib/python3.11/dist-packages (from matplotlib>=2.2.3->phik) (0.12.1)\n",
            "Requirement already satisfied: fonttools>=4.22.0 in /usr/local/lib/python3.11/dist-packages (from matplotlib>=2.2.3->phik) (4.59.0)\n",
            "Requirement already satisfied: kiwisolver>=1.3.1 in /usr/local/lib/python3.11/dist-packages (from matplotlib>=2.2.3->phik) (1.4.8)\n",
            "Requirement already satisfied: packaging>=20.0 in /usr/local/lib/python3.11/dist-packages (from matplotlib>=2.2.3->phik) (25.0)\n",
            "Requirement already satisfied: pillow>=8 in /usr/local/lib/python3.11/dist-packages (from matplotlib>=2.2.3->phik) (11.3.0)\n",
            "Requirement already satisfied: pyparsing>=2.3.1 in /usr/local/lib/python3.11/dist-packages (from matplotlib>=2.2.3->phik) (3.2.3)\n",
            "Requirement already satisfied: python-dateutil>=2.7 in /usr/local/lib/python3.11/dist-packages (from matplotlib>=2.2.3->phik) (2.9.0.post0)\n",
            "Requirement already satisfied: pytz>=2020.1 in /usr/local/lib/python3.11/dist-packages (from pandas>=0.25.1->phik) (2025.2)\n",
            "Requirement already satisfied: tzdata>=2022.7 in /usr/local/lib/python3.11/dist-packages (from pandas>=0.25.1->phik) (2025.2)\n",
            "Requirement already satisfied: six>=1.5 in /usr/local/lib/python3.11/dist-packages (from python-dateutil>=2.7->matplotlib>=2.2.3->phik) (1.17.0)\n",
            "Downloading phik-0.12.5-cp311-cp311-manylinux_2_24_x86_64.manylinux_2_28_x86_64.whl (679 kB)\n",
            "\u001b[2K   \u001b[90m━━━━━━━━━━━━━━━━━━━━━━━━━━━━━━━━━━━━━━━━\u001b[0m \u001b[32m679.0/679.0 kB\u001b[0m \u001b[31m9.3 MB/s\u001b[0m eta \u001b[36m0:00:00\u001b[0m\n",
            "\u001b[?25hInstalling collected packages: phik\n",
            "Successfully installed phik-0.12.5\n"
          ]
        }
      ]
    },
    {
      "cell_type": "code",
      "execution_count": 2,
      "metadata": {
        "id": "eXVP58fPWIUE"
      },
      "outputs": [],
      "source": [
        "import pandas as pd\n",
        "import numpy as np\n",
        "import seaborn as sns\n",
        "\n",
        "\n",
        "# import phik\n",
        "from phik.report import plot_correlation_matrix\n",
        "from phik import phik_matrix\n",
        "\n",
        "import matplotlib.pyplot as plt\n",
        "\n",
        "from sklearn.experimental import enable_iterative_imputer\n",
        "from sklearn.impute import KNNImputer,IterativeImputer,SimpleImputer\n",
        "#from sklearn.metrics import (mean_squared_error,ConfusionMatrixDisplay)\n",
        "\n",
        "# from sklearn.feature_selection import SelectKBest,f_classif,\n",
        "# mutual_info_classif\n",
        "# from sklearn.inspection import permutation_importance\n",
        "\n",
        "from sklearn.model_selection import (train_test_split,GridSearchCV,cross_val_score)\n",
        "\n",
        "from sklearn.metrics import root_mean_squared_error,mean_absolute_error\n",
        "\n",
        "from sklearn.dummy import DummyRegressor\n",
        "from sklearn.svm import SVR\n",
        "from sklearn.linear_model import LinearRegression,LogisticRegression,Ridge, PassiveAggressiveRegressor,SGDRegressor\n",
        "from sklearn.neighbors import KNeighborsRegressor\n",
        "from sklearn.ensemble import RandomForestRegressor\n",
        "\n",
        "from sklearn.compose import ColumnTransformer\n",
        "from sklearn.preprocessing import (StandardScaler,MinMaxScaler,OneHotEncoder)\n",
        "from sklearn.pipeline import Pipeline\n",
        "\n",
        "from catboost import CatBoostRegressor\n",
        "import lightgbm as lgb\n",
        "from lightgbm import LGBMRegressor\n",
        "\n",
        "\n",
        "#from numba import jit, cuda, njit,prange\n",
        "\n",
        "import warnings\n",
        "from sklearn.exceptions import ConvergenceWarning\n",
        "ConvergenceWarning('ignore')\n",
        "import sys\n",
        "import os\n",
        "if not sys.warnoptions:\n",
        "    warnings.simplefilter(\"ignore\")\n",
        "    os.environ[\"PYTHONWARNINGS\"] = ('ignore::UserWarning,ignore::ConvergenceWarning,ignore::RuntimeWarning')\n",
        "\n",
        "#optuna.logging.set_verbosity(optuna.logging.WARNING)\n",
        "\n",
        "pd.options.mode.chained_assignment = None\n",
        "pd.options.display.float_format = '{:,.2f}'.format\n",
        "\n",
        "RANDOM_STATE = 255\n",
        "TEST_SIZE = 0.25\n",
        "warnings.filterwarnings('ignore')\n",
        "#pd.options.mode.copy_on_write = True"
      ]
    },
    {
      "cell_type": "code",
      "execution_count": 3,
      "metadata": {
        "id": "YtSFRbjVWIUG"
      },
      "outputs": [],
      "source": [
        "# функция преобразования в bool\n",
        "\n",
        "def bul(dat,col,tru,nt):\n",
        "    dat[col][dat[col]==tru]=1\n",
        "    dat[col][dat[col]==nt]=0\n",
        "    #dat[col]=dat[col].astype('boolean')\n",
        "    #voc_k[col]=(nt,tru)"
      ]
    },
    {
      "cell_type": "code",
      "source": [
        "from google.colab import drive\n",
        "drive.mount('/content/drive')"
      ],
      "metadata": {
        "id": "77dB4-MzWQQl",
        "outputId": "ca08e479-ed2d-4dd2-b407-123721b47cc3",
        "colab": {
          "base_uri": "https://localhost:8080/"
        }
      },
      "execution_count": 4,
      "outputs": [
        {
          "output_type": "stream",
          "name": "stdout",
          "text": [
            "Mounted at /content/drive\n"
          ]
        }
      ]
    },
    {
      "cell_type": "markdown",
      "metadata": {
        "id": "R6aXy5G-WIUH"
      },
      "source": [
        "## Обработка данных"
      ]
    },
    {
      "cell_type": "code",
      "execution_count": 5,
      "metadata": {
        "scrolled": true,
        "id": "R0KgP3KEWIUH",
        "outputId": "316f381f-f5de-4715-f7db-f92bb4f3df37",
        "colab": {
          "base_uri": "https://localhost:8080/",
          "height": 1000
        }
      },
      "outputs": [
        {
          "output_type": "stream",
          "name": "stdout",
          "text": [
            "<class 'pandas.core.frame.DataFrame'>\n",
            "RangeIndex: 354369 entries, 0 to 354368\n",
            "Data columns (total 16 columns):\n",
            " #   Column             Non-Null Count   Dtype \n",
            "---  ------             --------------   ----- \n",
            " 0   DateCrawled        354369 non-null  object\n",
            " 1   Price              354369 non-null  int64 \n",
            " 2   VehicleType        316879 non-null  object\n",
            " 3   RegistrationYear   354369 non-null  int64 \n",
            " 4   Gearbox            334536 non-null  object\n",
            " 5   Power              354369 non-null  int64 \n",
            " 6   Model              334664 non-null  object\n",
            " 7   Kilometer          354369 non-null  int64 \n",
            " 8   RegistrationMonth  354369 non-null  int64 \n",
            " 9   FuelType           321474 non-null  object\n",
            " 10  Brand              354369 non-null  object\n",
            " 11  Repaired           283215 non-null  object\n",
            " 12  DateCreated        354369 non-null  object\n",
            " 13  NumberOfPictures   354369 non-null  int64 \n",
            " 14  PostalCode         354369 non-null  int64 \n",
            " 15  LastSeen           354369 non-null  object\n",
            "dtypes: int64(7), object(9)\n",
            "memory usage: 43.3+ MB\n"
          ]
        },
        {
          "output_type": "display_data",
          "data": {
            "text/plain": [
              "           DateCrawled  Price VehicleType  RegistrationYear Gearbox  Power  \\\n",
              "0  2016-03-24 11:52:17    480         NaN              1993  manual      0   \n",
              "1  2016-03-24 10:58:45  18300       coupe              2011  manual    190   \n",
              "2  2016-03-14 12:52:21   9800         suv              2004    auto    163   \n",
              "3  2016-03-17 16:54:04   1500       small              2001  manual     75   \n",
              "4  2016-03-31 17:25:20   3600       small              2008  manual     69   \n",
              "\n",
              "   Model  Kilometer  RegistrationMonth  FuelType       Brand Repaired  \\\n",
              "0   golf     150000                  0    petrol  volkswagen      NaN   \n",
              "1    NaN     125000                  5  gasoline        audi      yes   \n",
              "2  grand     125000                  8  gasoline        jeep      NaN   \n",
              "3   golf     150000                  6    petrol  volkswagen       no   \n",
              "4  fabia      90000                  7  gasoline       skoda       no   \n",
              "\n",
              "           DateCreated  NumberOfPictures  PostalCode             LastSeen  \n",
              "0  2016-03-24 00:00:00                 0       70435  2016-04-07 03:16:57  \n",
              "1  2016-03-24 00:00:00                 0       66954  2016-04-07 01:46:50  \n",
              "2  2016-03-14 00:00:00                 0       90480  2016-04-05 12:47:46  \n",
              "3  2016-03-17 00:00:00                 0       91074  2016-03-17 17:40:17  \n",
              "4  2016-03-31 00:00:00                 0       60437  2016-04-06 10:17:21  "
            ],
            "text/html": [
              "\n",
              "  <div id=\"df-28826a51-38c1-4dd1-9819-1e7afe9f3108\" class=\"colab-df-container\">\n",
              "    <div>\n",
              "<style scoped>\n",
              "    .dataframe tbody tr th:only-of-type {\n",
              "        vertical-align: middle;\n",
              "    }\n",
              "\n",
              "    .dataframe tbody tr th {\n",
              "        vertical-align: top;\n",
              "    }\n",
              "\n",
              "    .dataframe thead th {\n",
              "        text-align: right;\n",
              "    }\n",
              "</style>\n",
              "<table border=\"1\" class=\"dataframe\">\n",
              "  <thead>\n",
              "    <tr style=\"text-align: right;\">\n",
              "      <th></th>\n",
              "      <th>DateCrawled</th>\n",
              "      <th>Price</th>\n",
              "      <th>VehicleType</th>\n",
              "      <th>RegistrationYear</th>\n",
              "      <th>Gearbox</th>\n",
              "      <th>Power</th>\n",
              "      <th>Model</th>\n",
              "      <th>Kilometer</th>\n",
              "      <th>RegistrationMonth</th>\n",
              "      <th>FuelType</th>\n",
              "      <th>Brand</th>\n",
              "      <th>Repaired</th>\n",
              "      <th>DateCreated</th>\n",
              "      <th>NumberOfPictures</th>\n",
              "      <th>PostalCode</th>\n",
              "      <th>LastSeen</th>\n",
              "    </tr>\n",
              "  </thead>\n",
              "  <tbody>\n",
              "    <tr>\n",
              "      <th>0</th>\n",
              "      <td>2016-03-24 11:52:17</td>\n",
              "      <td>480</td>\n",
              "      <td>NaN</td>\n",
              "      <td>1993</td>\n",
              "      <td>manual</td>\n",
              "      <td>0</td>\n",
              "      <td>golf</td>\n",
              "      <td>150000</td>\n",
              "      <td>0</td>\n",
              "      <td>petrol</td>\n",
              "      <td>volkswagen</td>\n",
              "      <td>NaN</td>\n",
              "      <td>2016-03-24 00:00:00</td>\n",
              "      <td>0</td>\n",
              "      <td>70435</td>\n",
              "      <td>2016-04-07 03:16:57</td>\n",
              "    </tr>\n",
              "    <tr>\n",
              "      <th>1</th>\n",
              "      <td>2016-03-24 10:58:45</td>\n",
              "      <td>18300</td>\n",
              "      <td>coupe</td>\n",
              "      <td>2011</td>\n",
              "      <td>manual</td>\n",
              "      <td>190</td>\n",
              "      <td>NaN</td>\n",
              "      <td>125000</td>\n",
              "      <td>5</td>\n",
              "      <td>gasoline</td>\n",
              "      <td>audi</td>\n",
              "      <td>yes</td>\n",
              "      <td>2016-03-24 00:00:00</td>\n",
              "      <td>0</td>\n",
              "      <td>66954</td>\n",
              "      <td>2016-04-07 01:46:50</td>\n",
              "    </tr>\n",
              "    <tr>\n",
              "      <th>2</th>\n",
              "      <td>2016-03-14 12:52:21</td>\n",
              "      <td>9800</td>\n",
              "      <td>suv</td>\n",
              "      <td>2004</td>\n",
              "      <td>auto</td>\n",
              "      <td>163</td>\n",
              "      <td>grand</td>\n",
              "      <td>125000</td>\n",
              "      <td>8</td>\n",
              "      <td>gasoline</td>\n",
              "      <td>jeep</td>\n",
              "      <td>NaN</td>\n",
              "      <td>2016-03-14 00:00:00</td>\n",
              "      <td>0</td>\n",
              "      <td>90480</td>\n",
              "      <td>2016-04-05 12:47:46</td>\n",
              "    </tr>\n",
              "    <tr>\n",
              "      <th>3</th>\n",
              "      <td>2016-03-17 16:54:04</td>\n",
              "      <td>1500</td>\n",
              "      <td>small</td>\n",
              "      <td>2001</td>\n",
              "      <td>manual</td>\n",
              "      <td>75</td>\n",
              "      <td>golf</td>\n",
              "      <td>150000</td>\n",
              "      <td>6</td>\n",
              "      <td>petrol</td>\n",
              "      <td>volkswagen</td>\n",
              "      <td>no</td>\n",
              "      <td>2016-03-17 00:00:00</td>\n",
              "      <td>0</td>\n",
              "      <td>91074</td>\n",
              "      <td>2016-03-17 17:40:17</td>\n",
              "    </tr>\n",
              "    <tr>\n",
              "      <th>4</th>\n",
              "      <td>2016-03-31 17:25:20</td>\n",
              "      <td>3600</td>\n",
              "      <td>small</td>\n",
              "      <td>2008</td>\n",
              "      <td>manual</td>\n",
              "      <td>69</td>\n",
              "      <td>fabia</td>\n",
              "      <td>90000</td>\n",
              "      <td>7</td>\n",
              "      <td>gasoline</td>\n",
              "      <td>skoda</td>\n",
              "      <td>no</td>\n",
              "      <td>2016-03-31 00:00:00</td>\n",
              "      <td>0</td>\n",
              "      <td>60437</td>\n",
              "      <td>2016-04-06 10:17:21</td>\n",
              "    </tr>\n",
              "  </tbody>\n",
              "</table>\n",
              "</div>\n",
              "    <div class=\"colab-df-buttons\">\n",
              "\n",
              "  <div class=\"colab-df-container\">\n",
              "    <button class=\"colab-df-convert\" onclick=\"convertToInteractive('df-28826a51-38c1-4dd1-9819-1e7afe9f3108')\"\n",
              "            title=\"Convert this dataframe to an interactive table.\"\n",
              "            style=\"display:none;\">\n",
              "\n",
              "  <svg xmlns=\"http://www.w3.org/2000/svg\" height=\"24px\" viewBox=\"0 -960 960 960\">\n",
              "    <path d=\"M120-120v-720h720v720H120Zm60-500h600v-160H180v160Zm220 220h160v-160H400v160Zm0 220h160v-160H400v160ZM180-400h160v-160H180v160Zm440 0h160v-160H620v160ZM180-180h160v-160H180v160Zm440 0h160v-160H620v160Z\"/>\n",
              "  </svg>\n",
              "    </button>\n",
              "\n",
              "  <style>\n",
              "    .colab-df-container {\n",
              "      display:flex;\n",
              "      gap: 12px;\n",
              "    }\n",
              "\n",
              "    .colab-df-convert {\n",
              "      background-color: #E8F0FE;\n",
              "      border: none;\n",
              "      border-radius: 50%;\n",
              "      cursor: pointer;\n",
              "      display: none;\n",
              "      fill: #1967D2;\n",
              "      height: 32px;\n",
              "      padding: 0 0 0 0;\n",
              "      width: 32px;\n",
              "    }\n",
              "\n",
              "    .colab-df-convert:hover {\n",
              "      background-color: #E2EBFA;\n",
              "      box-shadow: 0px 1px 2px rgba(60, 64, 67, 0.3), 0px 1px 3px 1px rgba(60, 64, 67, 0.15);\n",
              "      fill: #174EA6;\n",
              "    }\n",
              "\n",
              "    .colab-df-buttons div {\n",
              "      margin-bottom: 4px;\n",
              "    }\n",
              "\n",
              "    [theme=dark] .colab-df-convert {\n",
              "      background-color: #3B4455;\n",
              "      fill: #D2E3FC;\n",
              "    }\n",
              "\n",
              "    [theme=dark] .colab-df-convert:hover {\n",
              "      background-color: #434B5C;\n",
              "      box-shadow: 0px 1px 3px 1px rgba(0, 0, 0, 0.15);\n",
              "      filter: drop-shadow(0px 1px 2px rgba(0, 0, 0, 0.3));\n",
              "      fill: #FFFFFF;\n",
              "    }\n",
              "  </style>\n",
              "\n",
              "    <script>\n",
              "      const buttonEl =\n",
              "        document.querySelector('#df-28826a51-38c1-4dd1-9819-1e7afe9f3108 button.colab-df-convert');\n",
              "      buttonEl.style.display =\n",
              "        google.colab.kernel.accessAllowed ? 'block' : 'none';\n",
              "\n",
              "      async function convertToInteractive(key) {\n",
              "        const element = document.querySelector('#df-28826a51-38c1-4dd1-9819-1e7afe9f3108');\n",
              "        const dataTable =\n",
              "          await google.colab.kernel.invokeFunction('convertToInteractive',\n",
              "                                                    [key], {});\n",
              "        if (!dataTable) return;\n",
              "\n",
              "        const docLinkHtml = 'Like what you see? Visit the ' +\n",
              "          '<a target=\"_blank\" href=https://colab.research.google.com/notebooks/data_table.ipynb>data table notebook</a>'\n",
              "          + ' to learn more about interactive tables.';\n",
              "        element.innerHTML = '';\n",
              "        dataTable['output_type'] = 'display_data';\n",
              "        await google.colab.output.renderOutput(dataTable, element);\n",
              "        const docLink = document.createElement('div');\n",
              "        docLink.innerHTML = docLinkHtml;\n",
              "        element.appendChild(docLink);\n",
              "      }\n",
              "    </script>\n",
              "  </div>\n",
              "\n",
              "\n",
              "    <div id=\"df-b8d6e0a6-abfd-4e4e-960f-217501e007ef\">\n",
              "      <button class=\"colab-df-quickchart\" onclick=\"quickchart('df-b8d6e0a6-abfd-4e4e-960f-217501e007ef')\"\n",
              "                title=\"Suggest charts\"\n",
              "                style=\"display:none;\">\n",
              "\n",
              "<svg xmlns=\"http://www.w3.org/2000/svg\" height=\"24px\"viewBox=\"0 0 24 24\"\n",
              "     width=\"24px\">\n",
              "    <g>\n",
              "        <path d=\"M19 3H5c-1.1 0-2 .9-2 2v14c0 1.1.9 2 2 2h14c1.1 0 2-.9 2-2V5c0-1.1-.9-2-2-2zM9 17H7v-7h2v7zm4 0h-2V7h2v10zm4 0h-2v-4h2v4z\"/>\n",
              "    </g>\n",
              "</svg>\n",
              "      </button>\n",
              "\n",
              "<style>\n",
              "  .colab-df-quickchart {\n",
              "      --bg-color: #E8F0FE;\n",
              "      --fill-color: #1967D2;\n",
              "      --hover-bg-color: #E2EBFA;\n",
              "      --hover-fill-color: #174EA6;\n",
              "      --disabled-fill-color: #AAA;\n",
              "      --disabled-bg-color: #DDD;\n",
              "  }\n",
              "\n",
              "  [theme=dark] .colab-df-quickchart {\n",
              "      --bg-color: #3B4455;\n",
              "      --fill-color: #D2E3FC;\n",
              "      --hover-bg-color: #434B5C;\n",
              "      --hover-fill-color: #FFFFFF;\n",
              "      --disabled-bg-color: #3B4455;\n",
              "      --disabled-fill-color: #666;\n",
              "  }\n",
              "\n",
              "  .colab-df-quickchart {\n",
              "    background-color: var(--bg-color);\n",
              "    border: none;\n",
              "    border-radius: 50%;\n",
              "    cursor: pointer;\n",
              "    display: none;\n",
              "    fill: var(--fill-color);\n",
              "    height: 32px;\n",
              "    padding: 0;\n",
              "    width: 32px;\n",
              "  }\n",
              "\n",
              "  .colab-df-quickchart:hover {\n",
              "    background-color: var(--hover-bg-color);\n",
              "    box-shadow: 0 1px 2px rgba(60, 64, 67, 0.3), 0 1px 3px 1px rgba(60, 64, 67, 0.15);\n",
              "    fill: var(--button-hover-fill-color);\n",
              "  }\n",
              "\n",
              "  .colab-df-quickchart-complete:disabled,\n",
              "  .colab-df-quickchart-complete:disabled:hover {\n",
              "    background-color: var(--disabled-bg-color);\n",
              "    fill: var(--disabled-fill-color);\n",
              "    box-shadow: none;\n",
              "  }\n",
              "\n",
              "  .colab-df-spinner {\n",
              "    border: 2px solid var(--fill-color);\n",
              "    border-color: transparent;\n",
              "    border-bottom-color: var(--fill-color);\n",
              "    animation:\n",
              "      spin 1s steps(1) infinite;\n",
              "  }\n",
              "\n",
              "  @keyframes spin {\n",
              "    0% {\n",
              "      border-color: transparent;\n",
              "      border-bottom-color: var(--fill-color);\n",
              "      border-left-color: var(--fill-color);\n",
              "    }\n",
              "    20% {\n",
              "      border-color: transparent;\n",
              "      border-left-color: var(--fill-color);\n",
              "      border-top-color: var(--fill-color);\n",
              "    }\n",
              "    30% {\n",
              "      border-color: transparent;\n",
              "      border-left-color: var(--fill-color);\n",
              "      border-top-color: var(--fill-color);\n",
              "      border-right-color: var(--fill-color);\n",
              "    }\n",
              "    40% {\n",
              "      border-color: transparent;\n",
              "      border-right-color: var(--fill-color);\n",
              "      border-top-color: var(--fill-color);\n",
              "    }\n",
              "    60% {\n",
              "      border-color: transparent;\n",
              "      border-right-color: var(--fill-color);\n",
              "    }\n",
              "    80% {\n",
              "      border-color: transparent;\n",
              "      border-right-color: var(--fill-color);\n",
              "      border-bottom-color: var(--fill-color);\n",
              "    }\n",
              "    90% {\n",
              "      border-color: transparent;\n",
              "      border-bottom-color: var(--fill-color);\n",
              "    }\n",
              "  }\n",
              "</style>\n",
              "\n",
              "      <script>\n",
              "        async function quickchart(key) {\n",
              "          const quickchartButtonEl =\n",
              "            document.querySelector('#' + key + ' button');\n",
              "          quickchartButtonEl.disabled = true;  // To prevent multiple clicks.\n",
              "          quickchartButtonEl.classList.add('colab-df-spinner');\n",
              "          try {\n",
              "            const charts = await google.colab.kernel.invokeFunction(\n",
              "                'suggestCharts', [key], {});\n",
              "          } catch (error) {\n",
              "            console.error('Error during call to suggestCharts:', error);\n",
              "          }\n",
              "          quickchartButtonEl.classList.remove('colab-df-spinner');\n",
              "          quickchartButtonEl.classList.add('colab-df-quickchart-complete');\n",
              "        }\n",
              "        (() => {\n",
              "          let quickchartButtonEl =\n",
              "            document.querySelector('#df-b8d6e0a6-abfd-4e4e-960f-217501e007ef button');\n",
              "          quickchartButtonEl.style.display =\n",
              "            google.colab.kernel.accessAllowed ? 'block' : 'none';\n",
              "        })();\n",
              "      </script>\n",
              "    </div>\n",
              "    </div>\n",
              "  </div>\n"
            ],
            "application/vnd.google.colaboratory.intrinsic+json": {
              "type": "dataframe",
              "summary": "{\n  \"name\": \"plt\",\n  \"rows\": 5,\n  \"fields\": [\n    {\n      \"column\": \"DateCrawled\",\n      \"properties\": {\n        \"dtype\": \"object\",\n        \"num_unique_values\": 5,\n        \"samples\": [\n          \"2016-03-24 10:58:45\",\n          \"2016-03-31 17:25:20\",\n          \"2016-03-14 12:52:21\"\n        ],\n        \"semantic_type\": \"\",\n        \"description\": \"\"\n      }\n    },\n    {\n      \"column\": \"Price\",\n      \"properties\": {\n        \"dtype\": \"number\",\n        \"std\": 7407,\n        \"min\": 480,\n        \"max\": 18300,\n        \"num_unique_values\": 5,\n        \"samples\": [\n          18300,\n          3600,\n          9800\n        ],\n        \"semantic_type\": \"\",\n        \"description\": \"\"\n      }\n    },\n    {\n      \"column\": \"VehicleType\",\n      \"properties\": {\n        \"dtype\": \"string\",\n        \"num_unique_values\": 3,\n        \"samples\": [\n          \"coupe\",\n          \"suv\",\n          \"small\"\n        ],\n        \"semantic_type\": \"\",\n        \"description\": \"\"\n      }\n    },\n    {\n      \"column\": \"RegistrationYear\",\n      \"properties\": {\n        \"dtype\": \"number\",\n        \"std\": 6,\n        \"min\": 1993,\n        \"max\": 2011,\n        \"num_unique_values\": 5,\n        \"samples\": [\n          2011,\n          2008,\n          2004\n        ],\n        \"semantic_type\": \"\",\n        \"description\": \"\"\n      }\n    },\n    {\n      \"column\": \"Gearbox\",\n      \"properties\": {\n        \"dtype\": \"category\",\n        \"num_unique_values\": 2,\n        \"samples\": [\n          \"auto\",\n          \"manual\"\n        ],\n        \"semantic_type\": \"\",\n        \"description\": \"\"\n      }\n    },\n    {\n      \"column\": \"Power\",\n      \"properties\": {\n        \"dtype\": \"number\",\n        \"std\": 76,\n        \"min\": 0,\n        \"max\": 190,\n        \"num_unique_values\": 5,\n        \"samples\": [\n          190,\n          69\n        ],\n        \"semantic_type\": \"\",\n        \"description\": \"\"\n      }\n    },\n    {\n      \"column\": \"Model\",\n      \"properties\": {\n        \"dtype\": \"string\",\n        \"num_unique_values\": 3,\n        \"samples\": [\n          \"golf\",\n          \"grand\"\n        ],\n        \"semantic_type\": \"\",\n        \"description\": \"\"\n      }\n    },\n    {\n      \"column\": \"Kilometer\",\n      \"properties\": {\n        \"dtype\": \"number\",\n        \"std\": 24647,\n        \"min\": 90000,\n        \"max\": 150000,\n        \"num_unique_values\": 3,\n        \"samples\": [\n          150000,\n          125000\n        ],\n        \"semantic_type\": \"\",\n        \"description\": \"\"\n      }\n    },\n    {\n      \"column\": \"RegistrationMonth\",\n      \"properties\": {\n        \"dtype\": \"number\",\n        \"std\": 3,\n        \"min\": 0,\n        \"max\": 8,\n        \"num_unique_values\": 5,\n        \"samples\": [\n          5,\n          7\n        ],\n        \"semantic_type\": \"\",\n        \"description\": \"\"\n      }\n    },\n    {\n      \"column\": \"FuelType\",\n      \"properties\": {\n        \"dtype\": \"category\",\n        \"num_unique_values\": 2,\n        \"samples\": [\n          \"gasoline\",\n          \"petrol\"\n        ],\n        \"semantic_type\": \"\",\n        \"description\": \"\"\n      }\n    },\n    {\n      \"column\": \"Brand\",\n      \"properties\": {\n        \"dtype\": \"string\",\n        \"num_unique_values\": 4,\n        \"samples\": [\n          \"audi\",\n          \"skoda\"\n        ],\n        \"semantic_type\": \"\",\n        \"description\": \"\"\n      }\n    },\n    {\n      \"column\": \"Repaired\",\n      \"properties\": {\n        \"dtype\": \"category\",\n        \"num_unique_values\": 2,\n        \"samples\": [\n          \"no\",\n          \"yes\"\n        ],\n        \"semantic_type\": \"\",\n        \"description\": \"\"\n      }\n    },\n    {\n      \"column\": \"DateCreated\",\n      \"properties\": {\n        \"dtype\": \"object\",\n        \"num_unique_values\": 4,\n        \"samples\": [\n          \"2016-03-14 00:00:00\",\n          \"2016-03-31 00:00:00\"\n        ],\n        \"semantic_type\": \"\",\n        \"description\": \"\"\n      }\n    },\n    {\n      \"column\": \"NumberOfPictures\",\n      \"properties\": {\n        \"dtype\": \"number\",\n        \"std\": 0,\n        \"min\": 0,\n        \"max\": 0,\n        \"num_unique_values\": 1,\n        \"samples\": [\n          0\n        ],\n        \"semantic_type\": \"\",\n        \"description\": \"\"\n      }\n    },\n    {\n      \"column\": \"PostalCode\",\n      \"properties\": {\n        \"dtype\": \"number\",\n        \"std\": 14069,\n        \"min\": 60437,\n        \"max\": 91074,\n        \"num_unique_values\": 5,\n        \"samples\": [\n          66954\n        ],\n        \"semantic_type\": \"\",\n        \"description\": \"\"\n      }\n    },\n    {\n      \"column\": \"LastSeen\",\n      \"properties\": {\n        \"dtype\": \"object\",\n        \"num_unique_values\": 5,\n        \"samples\": [\n          \"2016-04-07 01:46:50\"\n        ],\n        \"semantic_type\": \"\",\n        \"description\": \"\"\n      }\n    }\n  ]\n}"
            }
          },
          "metadata": {}
        },
        {
          "output_type": "display_data",
          "data": {
            "text/plain": [
              "            Price VehicleType  RegistrationYear Gearbox      Power   Model  \\\n",
              "count  326,826.00      291577        326,826.00  309248 326,826.00  308294   \n",
              "unique        NaN           8               NaN       2        NaN     250   \n",
              "top           NaN       sedan               NaN  manual        NaN    golf   \n",
              "freq          NaN       83602               NaN  248135        NaN   26444   \n",
              "mean     4,403.75         NaN          2,004.23     NaN     110.24     NaN   \n",
              "std      4,518.21         NaN             91.12     NaN     195.89     NaN   \n",
              "min          0.00         NaN          1,000.00     NaN       0.00     NaN   \n",
              "25%      1,000.00         NaN          1,999.00     NaN      69.00     NaN   \n",
              "50%      2,700.00         NaN          2,003.00     NaN     105.00     NaN   \n",
              "75%      6,350.00         NaN          2,008.00     NaN     141.00     NaN   \n",
              "max     20,000.00         NaN          9,999.00     NaN  20,000.00     NaN   \n",
              "\n",
              "        Kilometer  RegistrationMonth FuelType       Brand Repaired  \n",
              "count  326,826.00         326,826.00   295704      326826   260399  \n",
              "unique        NaN                NaN        7          40        2  \n",
              "top           NaN                NaN   petrol  volkswagen       no  \n",
              "freq          NaN                NaN   200260       69992   225970  \n",
              "mean   128,144.07               5.70      NaN         NaN      NaN  \n",
              "std     37,947.66               3.72      NaN         NaN      NaN  \n",
              "min      5,000.00               0.00      NaN         NaN      NaN  \n",
              "25%    125,000.00               3.00      NaN         NaN      NaN  \n",
              "50%    150,000.00               6.00      NaN         NaN      NaN  \n",
              "75%    150,000.00               9.00      NaN         NaN      NaN  \n",
              "max    150,000.00              12.00      NaN         NaN      NaN  "
            ],
            "text/html": [
              "\n",
              "  <div id=\"df-d34d5604-6bda-4d5b-8af1-25a5643e6c83\" class=\"colab-df-container\">\n",
              "    <div>\n",
              "<style scoped>\n",
              "    .dataframe tbody tr th:only-of-type {\n",
              "        vertical-align: middle;\n",
              "    }\n",
              "\n",
              "    .dataframe tbody tr th {\n",
              "        vertical-align: top;\n",
              "    }\n",
              "\n",
              "    .dataframe thead th {\n",
              "        text-align: right;\n",
              "    }\n",
              "</style>\n",
              "<table border=\"1\" class=\"dataframe\">\n",
              "  <thead>\n",
              "    <tr style=\"text-align: right;\">\n",
              "      <th></th>\n",
              "      <th>Price</th>\n",
              "      <th>VehicleType</th>\n",
              "      <th>RegistrationYear</th>\n",
              "      <th>Gearbox</th>\n",
              "      <th>Power</th>\n",
              "      <th>Model</th>\n",
              "      <th>Kilometer</th>\n",
              "      <th>RegistrationMonth</th>\n",
              "      <th>FuelType</th>\n",
              "      <th>Brand</th>\n",
              "      <th>Repaired</th>\n",
              "    </tr>\n",
              "  </thead>\n",
              "  <tbody>\n",
              "    <tr>\n",
              "      <th>count</th>\n",
              "      <td>326,826.00</td>\n",
              "      <td>291577</td>\n",
              "      <td>326,826.00</td>\n",
              "      <td>309248</td>\n",
              "      <td>326,826.00</td>\n",
              "      <td>308294</td>\n",
              "      <td>326,826.00</td>\n",
              "      <td>326,826.00</td>\n",
              "      <td>295704</td>\n",
              "      <td>326826</td>\n",
              "      <td>260399</td>\n",
              "    </tr>\n",
              "    <tr>\n",
              "      <th>unique</th>\n",
              "      <td>NaN</td>\n",
              "      <td>8</td>\n",
              "      <td>NaN</td>\n",
              "      <td>2</td>\n",
              "      <td>NaN</td>\n",
              "      <td>250</td>\n",
              "      <td>NaN</td>\n",
              "      <td>NaN</td>\n",
              "      <td>7</td>\n",
              "      <td>40</td>\n",
              "      <td>2</td>\n",
              "    </tr>\n",
              "    <tr>\n",
              "      <th>top</th>\n",
              "      <td>NaN</td>\n",
              "      <td>sedan</td>\n",
              "      <td>NaN</td>\n",
              "      <td>manual</td>\n",
              "      <td>NaN</td>\n",
              "      <td>golf</td>\n",
              "      <td>NaN</td>\n",
              "      <td>NaN</td>\n",
              "      <td>petrol</td>\n",
              "      <td>volkswagen</td>\n",
              "      <td>no</td>\n",
              "    </tr>\n",
              "    <tr>\n",
              "      <th>freq</th>\n",
              "      <td>NaN</td>\n",
              "      <td>83602</td>\n",
              "      <td>NaN</td>\n",
              "      <td>248135</td>\n",
              "      <td>NaN</td>\n",
              "      <td>26444</td>\n",
              "      <td>NaN</td>\n",
              "      <td>NaN</td>\n",
              "      <td>200260</td>\n",
              "      <td>69992</td>\n",
              "      <td>225970</td>\n",
              "    </tr>\n",
              "    <tr>\n",
              "      <th>mean</th>\n",
              "      <td>4,403.75</td>\n",
              "      <td>NaN</td>\n",
              "      <td>2,004.23</td>\n",
              "      <td>NaN</td>\n",
              "      <td>110.24</td>\n",
              "      <td>NaN</td>\n",
              "      <td>128,144.07</td>\n",
              "      <td>5.70</td>\n",
              "      <td>NaN</td>\n",
              "      <td>NaN</td>\n",
              "      <td>NaN</td>\n",
              "    </tr>\n",
              "    <tr>\n",
              "      <th>std</th>\n",
              "      <td>4,518.21</td>\n",
              "      <td>NaN</td>\n",
              "      <td>91.12</td>\n",
              "      <td>NaN</td>\n",
              "      <td>195.89</td>\n",
              "      <td>NaN</td>\n",
              "      <td>37,947.66</td>\n",
              "      <td>3.72</td>\n",
              "      <td>NaN</td>\n",
              "      <td>NaN</td>\n",
              "      <td>NaN</td>\n",
              "    </tr>\n",
              "    <tr>\n",
              "      <th>min</th>\n",
              "      <td>0.00</td>\n",
              "      <td>NaN</td>\n",
              "      <td>1,000.00</td>\n",
              "      <td>NaN</td>\n",
              "      <td>0.00</td>\n",
              "      <td>NaN</td>\n",
              "      <td>5,000.00</td>\n",
              "      <td>0.00</td>\n",
              "      <td>NaN</td>\n",
              "      <td>NaN</td>\n",
              "      <td>NaN</td>\n",
              "    </tr>\n",
              "    <tr>\n",
              "      <th>25%</th>\n",
              "      <td>1,000.00</td>\n",
              "      <td>NaN</td>\n",
              "      <td>1,999.00</td>\n",
              "      <td>NaN</td>\n",
              "      <td>69.00</td>\n",
              "      <td>NaN</td>\n",
              "      <td>125,000.00</td>\n",
              "      <td>3.00</td>\n",
              "      <td>NaN</td>\n",
              "      <td>NaN</td>\n",
              "      <td>NaN</td>\n",
              "    </tr>\n",
              "    <tr>\n",
              "      <th>50%</th>\n",
              "      <td>2,700.00</td>\n",
              "      <td>NaN</td>\n",
              "      <td>2,003.00</td>\n",
              "      <td>NaN</td>\n",
              "      <td>105.00</td>\n",
              "      <td>NaN</td>\n",
              "      <td>150,000.00</td>\n",
              "      <td>6.00</td>\n",
              "      <td>NaN</td>\n",
              "      <td>NaN</td>\n",
              "      <td>NaN</td>\n",
              "    </tr>\n",
              "    <tr>\n",
              "      <th>75%</th>\n",
              "      <td>6,350.00</td>\n",
              "      <td>NaN</td>\n",
              "      <td>2,008.00</td>\n",
              "      <td>NaN</td>\n",
              "      <td>141.00</td>\n",
              "      <td>NaN</td>\n",
              "      <td>150,000.00</td>\n",
              "      <td>9.00</td>\n",
              "      <td>NaN</td>\n",
              "      <td>NaN</td>\n",
              "      <td>NaN</td>\n",
              "    </tr>\n",
              "    <tr>\n",
              "      <th>max</th>\n",
              "      <td>20,000.00</td>\n",
              "      <td>NaN</td>\n",
              "      <td>9,999.00</td>\n",
              "      <td>NaN</td>\n",
              "      <td>20,000.00</td>\n",
              "      <td>NaN</td>\n",
              "      <td>150,000.00</td>\n",
              "      <td>12.00</td>\n",
              "      <td>NaN</td>\n",
              "      <td>NaN</td>\n",
              "      <td>NaN</td>\n",
              "    </tr>\n",
              "  </tbody>\n",
              "</table>\n",
              "</div>\n",
              "    <div class=\"colab-df-buttons\">\n",
              "\n",
              "  <div class=\"colab-df-container\">\n",
              "    <button class=\"colab-df-convert\" onclick=\"convertToInteractive('df-d34d5604-6bda-4d5b-8af1-25a5643e6c83')\"\n",
              "            title=\"Convert this dataframe to an interactive table.\"\n",
              "            style=\"display:none;\">\n",
              "\n",
              "  <svg xmlns=\"http://www.w3.org/2000/svg\" height=\"24px\" viewBox=\"0 -960 960 960\">\n",
              "    <path d=\"M120-120v-720h720v720H120Zm60-500h600v-160H180v160Zm220 220h160v-160H400v160Zm0 220h160v-160H400v160ZM180-400h160v-160H180v160Zm440 0h160v-160H620v160ZM180-180h160v-160H180v160Zm440 0h160v-160H620v160Z\"/>\n",
              "  </svg>\n",
              "    </button>\n",
              "\n",
              "  <style>\n",
              "    .colab-df-container {\n",
              "      display:flex;\n",
              "      gap: 12px;\n",
              "    }\n",
              "\n",
              "    .colab-df-convert {\n",
              "      background-color: #E8F0FE;\n",
              "      border: none;\n",
              "      border-radius: 50%;\n",
              "      cursor: pointer;\n",
              "      display: none;\n",
              "      fill: #1967D2;\n",
              "      height: 32px;\n",
              "      padding: 0 0 0 0;\n",
              "      width: 32px;\n",
              "    }\n",
              "\n",
              "    .colab-df-convert:hover {\n",
              "      background-color: #E2EBFA;\n",
              "      box-shadow: 0px 1px 2px rgba(60, 64, 67, 0.3), 0px 1px 3px 1px rgba(60, 64, 67, 0.15);\n",
              "      fill: #174EA6;\n",
              "    }\n",
              "\n",
              "    .colab-df-buttons div {\n",
              "      margin-bottom: 4px;\n",
              "    }\n",
              "\n",
              "    [theme=dark] .colab-df-convert {\n",
              "      background-color: #3B4455;\n",
              "      fill: #D2E3FC;\n",
              "    }\n",
              "\n",
              "    [theme=dark] .colab-df-convert:hover {\n",
              "      background-color: #434B5C;\n",
              "      box-shadow: 0px 1px 3px 1px rgba(0, 0, 0, 0.15);\n",
              "      filter: drop-shadow(0px 1px 2px rgba(0, 0, 0, 0.3));\n",
              "      fill: #FFFFFF;\n",
              "    }\n",
              "  </style>\n",
              "\n",
              "    <script>\n",
              "      const buttonEl =\n",
              "        document.querySelector('#df-d34d5604-6bda-4d5b-8af1-25a5643e6c83 button.colab-df-convert');\n",
              "      buttonEl.style.display =\n",
              "        google.colab.kernel.accessAllowed ? 'block' : 'none';\n",
              "\n",
              "      async function convertToInteractive(key) {\n",
              "        const element = document.querySelector('#df-d34d5604-6bda-4d5b-8af1-25a5643e6c83');\n",
              "        const dataTable =\n",
              "          await google.colab.kernel.invokeFunction('convertToInteractive',\n",
              "                                                    [key], {});\n",
              "        if (!dataTable) return;\n",
              "\n",
              "        const docLinkHtml = 'Like what you see? Visit the ' +\n",
              "          '<a target=\"_blank\" href=https://colab.research.google.com/notebooks/data_table.ipynb>data table notebook</a>'\n",
              "          + ' to learn more about interactive tables.';\n",
              "        element.innerHTML = '';\n",
              "        dataTable['output_type'] = 'display_data';\n",
              "        await google.colab.output.renderOutput(dataTable, element);\n",
              "        const docLink = document.createElement('div');\n",
              "        docLink.innerHTML = docLinkHtml;\n",
              "        element.appendChild(docLink);\n",
              "      }\n",
              "    </script>\n",
              "  </div>\n",
              "\n",
              "\n",
              "    <div id=\"df-061e6da9-ea73-4a49-a836-cc115adb9163\">\n",
              "      <button class=\"colab-df-quickchart\" onclick=\"quickchart('df-061e6da9-ea73-4a49-a836-cc115adb9163')\"\n",
              "                title=\"Suggest charts\"\n",
              "                style=\"display:none;\">\n",
              "\n",
              "<svg xmlns=\"http://www.w3.org/2000/svg\" height=\"24px\"viewBox=\"0 0 24 24\"\n",
              "     width=\"24px\">\n",
              "    <g>\n",
              "        <path d=\"M19 3H5c-1.1 0-2 .9-2 2v14c0 1.1.9 2 2 2h14c1.1 0 2-.9 2-2V5c0-1.1-.9-2-2-2zM9 17H7v-7h2v7zm4 0h-2V7h2v10zm4 0h-2v-4h2v4z\"/>\n",
              "    </g>\n",
              "</svg>\n",
              "      </button>\n",
              "\n",
              "<style>\n",
              "  .colab-df-quickchart {\n",
              "      --bg-color: #E8F0FE;\n",
              "      --fill-color: #1967D2;\n",
              "      --hover-bg-color: #E2EBFA;\n",
              "      --hover-fill-color: #174EA6;\n",
              "      --disabled-fill-color: #AAA;\n",
              "      --disabled-bg-color: #DDD;\n",
              "  }\n",
              "\n",
              "  [theme=dark] .colab-df-quickchart {\n",
              "      --bg-color: #3B4455;\n",
              "      --fill-color: #D2E3FC;\n",
              "      --hover-bg-color: #434B5C;\n",
              "      --hover-fill-color: #FFFFFF;\n",
              "      --disabled-bg-color: #3B4455;\n",
              "      --disabled-fill-color: #666;\n",
              "  }\n",
              "\n",
              "  .colab-df-quickchart {\n",
              "    background-color: var(--bg-color);\n",
              "    border: none;\n",
              "    border-radius: 50%;\n",
              "    cursor: pointer;\n",
              "    display: none;\n",
              "    fill: var(--fill-color);\n",
              "    height: 32px;\n",
              "    padding: 0;\n",
              "    width: 32px;\n",
              "  }\n",
              "\n",
              "  .colab-df-quickchart:hover {\n",
              "    background-color: var(--hover-bg-color);\n",
              "    box-shadow: 0 1px 2px rgba(60, 64, 67, 0.3), 0 1px 3px 1px rgba(60, 64, 67, 0.15);\n",
              "    fill: var(--button-hover-fill-color);\n",
              "  }\n",
              "\n",
              "  .colab-df-quickchart-complete:disabled,\n",
              "  .colab-df-quickchart-complete:disabled:hover {\n",
              "    background-color: var(--disabled-bg-color);\n",
              "    fill: var(--disabled-fill-color);\n",
              "    box-shadow: none;\n",
              "  }\n",
              "\n",
              "  .colab-df-spinner {\n",
              "    border: 2px solid var(--fill-color);\n",
              "    border-color: transparent;\n",
              "    border-bottom-color: var(--fill-color);\n",
              "    animation:\n",
              "      spin 1s steps(1) infinite;\n",
              "  }\n",
              "\n",
              "  @keyframes spin {\n",
              "    0% {\n",
              "      border-color: transparent;\n",
              "      border-bottom-color: var(--fill-color);\n",
              "      border-left-color: var(--fill-color);\n",
              "    }\n",
              "    20% {\n",
              "      border-color: transparent;\n",
              "      border-left-color: var(--fill-color);\n",
              "      border-top-color: var(--fill-color);\n",
              "    }\n",
              "    30% {\n",
              "      border-color: transparent;\n",
              "      border-left-color: var(--fill-color);\n",
              "      border-top-color: var(--fill-color);\n",
              "      border-right-color: var(--fill-color);\n",
              "    }\n",
              "    40% {\n",
              "      border-color: transparent;\n",
              "      border-right-color: var(--fill-color);\n",
              "      border-top-color: var(--fill-color);\n",
              "    }\n",
              "    60% {\n",
              "      border-color: transparent;\n",
              "      border-right-color: var(--fill-color);\n",
              "    }\n",
              "    80% {\n",
              "      border-color: transparent;\n",
              "      border-right-color: var(--fill-color);\n",
              "      border-bottom-color: var(--fill-color);\n",
              "    }\n",
              "    90% {\n",
              "      border-color: transparent;\n",
              "      border-bottom-color: var(--fill-color);\n",
              "    }\n",
              "  }\n",
              "</style>\n",
              "\n",
              "      <script>\n",
              "        async function quickchart(key) {\n",
              "          const quickchartButtonEl =\n",
              "            document.querySelector('#' + key + ' button');\n",
              "          quickchartButtonEl.disabled = true;  // To prevent multiple clicks.\n",
              "          quickchartButtonEl.classList.add('colab-df-spinner');\n",
              "          try {\n",
              "            const charts = await google.colab.kernel.invokeFunction(\n",
              "                'suggestCharts', [key], {});\n",
              "          } catch (error) {\n",
              "            console.error('Error during call to suggestCharts:', error);\n",
              "          }\n",
              "          quickchartButtonEl.classList.remove('colab-df-spinner');\n",
              "          quickchartButtonEl.classList.add('colab-df-quickchart-complete');\n",
              "        }\n",
              "        (() => {\n",
              "          let quickchartButtonEl =\n",
              "            document.querySelector('#df-061e6da9-ea73-4a49-a836-cc115adb9163 button');\n",
              "          quickchartButtonEl.style.display =\n",
              "            google.colab.kernel.accessAllowed ? 'block' : 'none';\n",
              "        })();\n",
              "      </script>\n",
              "    </div>\n",
              "    </div>\n",
              "  </div>\n"
            ],
            "application/vnd.google.colaboratory.intrinsic+json": {
              "type": "dataframe",
              "summary": "{\n  \"name\": \"plt\",\n  \"rows\": 11,\n  \"fields\": [\n    {\n      \"column\": \"Price\",\n      \"properties\": {\n        \"dtype\": \"number\",\n        \"std\": 113752.6362680908,\n        \"min\": 0.0,\n        \"max\": 326826.0,\n        \"num_unique_values\": 8,\n        \"samples\": [\n          4403.747330383751,\n          2700.0,\n          326826.0\n        ],\n        \"semantic_type\": \"\",\n        \"description\": \"\"\n      }\n    },\n    {\n      \"column\": \"VehicleType\",\n      \"properties\": {\n        \"dtype\": \"category\",\n        \"num_unique_values\": 4,\n        \"samples\": [\n          8,\n          \"83602\",\n          \"291577\"\n        ],\n        \"semantic_type\": \"\",\n        \"description\": \"\"\n      }\n    },\n    {\n      \"column\": \"RegistrationYear\",\n      \"properties\": {\n        \"dtype\": \"number\",\n        \"std\": 114625.9778755844,\n        \"min\": 91.1200180518521,\n        \"max\": 326826.0,\n        \"num_unique_values\": 8,\n        \"samples\": [\n          2004.2309852949277,\n          2003.0,\n          326826.0\n        ],\n        \"semantic_type\": \"\",\n        \"description\": \"\"\n      }\n    },\n    {\n      \"column\": \"Gearbox\",\n      \"properties\": {\n        \"dtype\": \"category\",\n        \"num_unique_values\": 4,\n        \"samples\": [\n          2,\n          \"248135\",\n          \"309248\"\n        ],\n        \"semantic_type\": \"\",\n        \"description\": \"\"\n      }\n    },\n    {\n      \"column\": \"Power\",\n      \"properties\": {\n        \"dtype\": \"number\",\n        \"std\": 114720.39416186363,\n        \"min\": 0.0,\n        \"max\": 326826.0,\n        \"num_unique_values\": 8,\n        \"samples\": [\n          110.2447051336185,\n          105.0,\n          326826.0\n        ],\n        \"semantic_type\": \"\",\n        \"description\": \"\"\n      }\n    },\n    {\n      \"column\": \"Model\",\n      \"properties\": {\n        \"dtype\": \"category\",\n        \"num_unique_values\": 4,\n        \"samples\": [\n          250,\n          \"26444\",\n          \"308294\"\n        ],\n        \"semantic_type\": \"\",\n        \"description\": \"\"\n      }\n    },\n    {\n      \"column\": \"Kilometer\",\n      \"properties\": {\n        \"dtype\": \"number\",\n        \"std\": 95567.55586352962,\n        \"min\": 5000.0,\n        \"max\": 326826.0,\n        \"num_unique_values\": 6,\n        \"samples\": [\n          326826.0,\n          128144.07360491516,\n          150000.0\n        ],\n        \"semantic_type\": \"\",\n        \"description\": \"\"\n      }\n    },\n    {\n      \"column\": \"RegistrationMonth\",\n      \"properties\": {\n        \"dtype\": \"number\",\n        \"std\": 115548.44946346883,\n        \"min\": 0.0,\n        \"max\": 326826.0,\n        \"num_unique_values\": 8,\n        \"samples\": [\n          5.696238977315146,\n          6.0,\n          326826.0\n        ],\n        \"semantic_type\": \"\",\n        \"description\": \"\"\n      }\n    },\n    {\n      \"column\": \"FuelType\",\n      \"properties\": {\n        \"dtype\": \"category\",\n        \"num_unique_values\": 4,\n        \"samples\": [\n          7,\n          \"200260\",\n          \"295704\"\n        ],\n        \"semantic_type\": \"\",\n        \"description\": \"\"\n      }\n    },\n    {\n      \"column\": \"Brand\",\n      \"properties\": {\n        \"dtype\": \"category\",\n        \"num_unique_values\": 4,\n        \"samples\": [\n          40,\n          \"69992\",\n          \"326826\"\n        ],\n        \"semantic_type\": \"\",\n        \"description\": \"\"\n      }\n    },\n    {\n      \"column\": \"Repaired\",\n      \"properties\": {\n        \"dtype\": \"category\",\n        \"num_unique_values\": 4,\n        \"samples\": [\n          2,\n          \"225970\",\n          \"260399\"\n        ],\n        \"semantic_type\": \"\",\n        \"description\": \"\"\n      }\n    }\n  ]\n}"
            }
          },
          "metadata": {}
        },
        {
          "output_type": "display_data",
          "data": {
            "text/plain": [
              "<Figure size 2000x500 with 5 Axes>"
            ],
            "image/png": "[encoded data removed]"
          },
          "metadata": {}
        }
      ],
      "source": [
        "avto_df = pd.read_csv('/content/drive/MyDrive/data/autos.csv')\n",
        "avto_df.info()\n",
        "display(avto_df.head())\n",
        "\n",
        "# удаляем столбцы с \"технической информацией\"\n",
        "del_col = ['DateCrawled','DateCreated','NumberOfPictures','PostalCode','LastSeen']\n",
        "avto_df = avto_df.drop(del_col, axis=1).copy()\n",
        "\n",
        "# удаляем дубликаты\n",
        "avto_df = avto_df.drop_duplicates()\n",
        "\n",
        "display(avto_df.describe(include = \"all\"))\n",
        "\n",
        "avto_df1 = avto_df.copy()\n",
        "avto_df.hist(figsize=(20, 5), layout = (-1, 5))\n",
        "plt.show()"
      ]
    },
    {
      "cell_type": "markdown",
      "metadata": {
        "id": "4DrOu9ntWIUI"
      },
      "source": [
        "### Первичные выводы:\n",
        " - наблюдается аномалии в годе выпуска, мощности\n",
        " - месяцев 13, вместо 12\n",
        " - нужно исследовать авто , стоимостью около 0\n",
        " - нужно исследовать авто , мощностью около 0\n",
        " - исследовать значения года больше текущего\n",
        " - исследовать мощность более \"реальной\" (650 л.с.)"
      ]
    },
    {
      "cell_type": "code",
      "execution_count": 6,
      "metadata": {
        "id": "sd9lnos3WIUJ",
        "outputId": "46b1a66e-f117-415f-e988-4325154d90be",
        "colab": {
          "base_uri": "https://localhost:8080/",
          "height": 447
        }
      },
      "outputs": [
        {
          "output_type": "display_data",
          "data": {
            "text/plain": [
              "'количество пустых ячеек'"
            ],
            "application/vnd.google.colaboratory.intrinsic+json": {
              "type": "string"
            }
          },
          "metadata": {}
        },
        {
          "output_type": "display_data",
          "data": {
            "text/plain": [
              "Price                    0\n",
              "VehicleType           4250\n",
              "RegistrationYear         0\n",
              "Gearbox               4430\n",
              "Power                    0\n",
              "Model                 9030\n",
              "Kilometer                0\n",
              "RegistrationMonth        0\n",
              "FuelType             12056\n",
              "Brand                    0\n",
              "Repaired             36628\n",
              "dtype: int64"
            ],
            "text/html": [
              "<div>\n",
              "<style scoped>\n",
              "    .dataframe tbody tr th:only-of-type {\n",
              "        vertical-align: middle;\n",
              "    }\n",
              "\n",
              "    .dataframe tbody tr th {\n",
              "        vertical-align: top;\n",
              "    }\n",
              "\n",
              "    .dataframe thead th {\n",
              "        text-align: right;\n",
              "    }\n",
              "</style>\n",
              "<table border=\"1\" class=\"dataframe\">\n",
              "  <thead>\n",
              "    <tr style=\"text-align: right;\">\n",
              "      <th></th>\n",
              "      <th>0</th>\n",
              "    </tr>\n",
              "  </thead>\n",
              "  <tbody>\n",
              "    <tr>\n",
              "      <th>Price</th>\n",
              "      <td>0</td>\n",
              "    </tr>\n",
              "    <tr>\n",
              "      <th>VehicleType</th>\n",
              "      <td>4250</td>\n",
              "    </tr>\n",
              "    <tr>\n",
              "      <th>RegistrationYear</th>\n",
              "      <td>0</td>\n",
              "    </tr>\n",
              "    <tr>\n",
              "      <th>Gearbox</th>\n",
              "      <td>4430</td>\n",
              "    </tr>\n",
              "    <tr>\n",
              "      <th>Power</th>\n",
              "      <td>0</td>\n",
              "    </tr>\n",
              "    <tr>\n",
              "      <th>Model</th>\n",
              "      <td>9030</td>\n",
              "    </tr>\n",
              "    <tr>\n",
              "      <th>Kilometer</th>\n",
              "      <td>0</td>\n",
              "    </tr>\n",
              "    <tr>\n",
              "      <th>RegistrationMonth</th>\n",
              "      <td>0</td>\n",
              "    </tr>\n",
              "    <tr>\n",
              "      <th>FuelType</th>\n",
              "      <td>12056</td>\n",
              "    </tr>\n",
              "    <tr>\n",
              "      <th>Brand</th>\n",
              "      <td>0</td>\n",
              "    </tr>\n",
              "    <tr>\n",
              "      <th>Repaired</th>\n",
              "      <td>36628</td>\n",
              "    </tr>\n",
              "  </tbody>\n",
              "</table>\n",
              "</div><br><label><b>dtype:</b> int64</label>"
            ]
          },
          "metadata": {}
        }
      ],
      "source": [
        "#произведем отчистку от нереалистичных данных\n",
        "\n",
        "# удалим авто с RegistrationYear <1986 и > 2016\n",
        "avto_df = avto_df1.copy()\n",
        "avto_df = avto_df[(avto_df['RegistrationYear']>1986) & (avto_df['RegistrationYear']<2016)].copy()\n",
        "\n",
        "# удалим авто с мощность <50 и >650\n",
        "avto_df = avto_df[(avto_df['Power']>10) & (avto_df['Power']<650)].copy()\n",
        "\n",
        "# удалим авто с ценой  <50\n",
        "avto_df = avto_df[(avto_df['Price']>100)].copy()\n",
        "\n",
        "# объединим признак \"по газу\"\n",
        "avto_df = avto_df.replace('lpg', 'gasoline').copy()\n",
        "avto_df = avto_df.replace('cng', 'gasoline').copy()\n",
        "\n",
        "display('количество пустых ячеек',avto_df.isnull().sum())\n",
        "#avto_df.info()\n",
        "#avto_df.head()"
      ]
    },
    {
      "cell_type": "code",
      "execution_count": 7,
      "metadata": {
        "scrolled": true,
        "id": "-TAkKaMTWIUJ",
        "outputId": "35577358-ca3f-42c6-f7ff-04a84e4ea2ef",
        "colab": {
          "base_uri": "https://localhost:8080/",
          "height": 1000
        }
      },
      "outputs": [
        {
          "output_type": "display_data",
          "data": {
            "text/plain": [
              "VehicleType\n",
              "sedan          74283\n",
              "small          63107\n",
              "wagon          53889\n",
              "bus            24112\n",
              "convertible    16786\n",
              "coupe          12814\n",
              "suv             9748\n",
              "NaN             4250\n",
              "other           2184\n",
              "Name: count, dtype: int64"
            ],
            "text/html": [
              "<div>\n",
              "<style scoped>\n",
              "    .dataframe tbody tr th:only-of-type {\n",
              "        vertical-align: middle;\n",
              "    }\n",
              "\n",
              "    .dataframe tbody tr th {\n",
              "        vertical-align: top;\n",
              "    }\n",
              "\n",
              "    .dataframe thead th {\n",
              "        text-align: right;\n",
              "    }\n",
              "</style>\n",
              "<table border=\"1\" class=\"dataframe\">\n",
              "  <thead>\n",
              "    <tr style=\"text-align: right;\">\n",
              "      <th></th>\n",
              "      <th>count</th>\n",
              "    </tr>\n",
              "    <tr>\n",
              "      <th>VehicleType</th>\n",
              "      <th></th>\n",
              "    </tr>\n",
              "  </thead>\n",
              "  <tbody>\n",
              "    <tr>\n",
              "      <th>sedan</th>\n",
              "      <td>74283</td>\n",
              "    </tr>\n",
              "    <tr>\n",
              "      <th>small</th>\n",
              "      <td>63107</td>\n",
              "    </tr>\n",
              "    <tr>\n",
              "      <th>wagon</th>\n",
              "      <td>53889</td>\n",
              "    </tr>\n",
              "    <tr>\n",
              "      <th>bus</th>\n",
              "      <td>24112</td>\n",
              "    </tr>\n",
              "    <tr>\n",
              "      <th>convertible</th>\n",
              "      <td>16786</td>\n",
              "    </tr>\n",
              "    <tr>\n",
              "      <th>coupe</th>\n",
              "      <td>12814</td>\n",
              "    </tr>\n",
              "    <tr>\n",
              "      <th>suv</th>\n",
              "      <td>9748</td>\n",
              "    </tr>\n",
              "    <tr>\n",
              "      <th>NaN</th>\n",
              "      <td>4250</td>\n",
              "    </tr>\n",
              "    <tr>\n",
              "      <th>other</th>\n",
              "      <td>2184</td>\n",
              "    </tr>\n",
              "  </tbody>\n",
              "</table>\n",
              "</div><br><label><b>dtype:</b> int64</label>"
            ]
          },
          "metadata": {}
        },
        {
          "output_type": "display_data",
          "data": {
            "text/plain": [
              "Gearbox\n",
              "manual    204569\n",
              "auto       52174\n",
              "NaN         4430\n",
              "Name: count, dtype: int64"
            ],
            "text/html": [
              "<div>\n",
              "<style scoped>\n",
              "    .dataframe tbody tr th:only-of-type {\n",
              "        vertical-align: middle;\n",
              "    }\n",
              "\n",
              "    .dataframe tbody tr th {\n",
              "        vertical-align: top;\n",
              "    }\n",
              "\n",
              "    .dataframe thead th {\n",
              "        text-align: right;\n",
              "    }\n",
              "</style>\n",
              "<table border=\"1\" class=\"dataframe\">\n",
              "  <thead>\n",
              "    <tr style=\"text-align: right;\">\n",
              "      <th></th>\n",
              "      <th>count</th>\n",
              "    </tr>\n",
              "    <tr>\n",
              "      <th>Gearbox</th>\n",
              "      <th></th>\n",
              "    </tr>\n",
              "  </thead>\n",
              "  <tbody>\n",
              "    <tr>\n",
              "      <th>manual</th>\n",
              "      <td>204569</td>\n",
              "    </tr>\n",
              "    <tr>\n",
              "      <th>auto</th>\n",
              "      <td>52174</td>\n",
              "    </tr>\n",
              "    <tr>\n",
              "      <th>NaN</th>\n",
              "      <td>4430</td>\n",
              "    </tr>\n",
              "  </tbody>\n",
              "</table>\n",
              "</div><br><label><b>dtype:</b> int64</label>"
            ]
          },
          "metadata": {}
        },
        {
          "output_type": "display_data",
          "data": {
            "text/plain": [
              "Model\n",
              "golf                  21279\n",
              "other                 17235\n",
              "3er                   15528\n",
              "polo                   9277\n",
              "NaN                    9030\n",
              "                      ...  \n",
              "samara                    5\n",
              "i3                        5\n",
              "kalina                    4\n",
              "rangerover                2\n",
              "range_rover_evoque        1\n",
              "Name: count, Length: 248, dtype: int64"
            ],
            "text/html": [
              "<div>\n",
              "<style scoped>\n",
              "    .dataframe tbody tr th:only-of-type {\n",
              "        vertical-align: middle;\n",
              "    }\n",
              "\n",
              "    .dataframe tbody tr th {\n",
              "        vertical-align: top;\n",
              "    }\n",
              "\n",
              "    .dataframe thead th {\n",
              "        text-align: right;\n",
              "    }\n",
              "</style>\n",
              "<table border=\"1\" class=\"dataframe\">\n",
              "  <thead>\n",
              "    <tr style=\"text-align: right;\">\n",
              "      <th></th>\n",
              "      <th>count</th>\n",
              "    </tr>\n",
              "    <tr>\n",
              "      <th>Model</th>\n",
              "      <th></th>\n",
              "    </tr>\n",
              "  </thead>\n",
              "  <tbody>\n",
              "    <tr>\n",
              "      <th>golf</th>\n",
              "      <td>21279</td>\n",
              "    </tr>\n",
              "    <tr>\n",
              "      <th>other</th>\n",
              "      <td>17235</td>\n",
              "    </tr>\n",
              "    <tr>\n",
              "      <th>3er</th>\n",
              "      <td>15528</td>\n",
              "    </tr>\n",
              "    <tr>\n",
              "      <th>polo</th>\n",
              "      <td>9277</td>\n",
              "    </tr>\n",
              "    <tr>\n",
              "      <th>NaN</th>\n",
              "      <td>9030</td>\n",
              "    </tr>\n",
              "    <tr>\n",
              "      <th>...</th>\n",
              "      <td>...</td>\n",
              "    </tr>\n",
              "    <tr>\n",
              "      <th>samara</th>\n",
              "      <td>5</td>\n",
              "    </tr>\n",
              "    <tr>\n",
              "      <th>i3</th>\n",
              "      <td>5</td>\n",
              "    </tr>\n",
              "    <tr>\n",
              "      <th>kalina</th>\n",
              "      <td>4</td>\n",
              "    </tr>\n",
              "    <tr>\n",
              "      <th>rangerover</th>\n",
              "      <td>2</td>\n",
              "    </tr>\n",
              "    <tr>\n",
              "      <th>range_rover_evoque</th>\n",
              "      <td>1</td>\n",
              "    </tr>\n",
              "  </tbody>\n",
              "</table>\n",
              "<p>248 rows × 1 columns</p>\n",
              "</div><br><label><b>dtype:</b> int64</label>"
            ]
          },
          "metadata": {}
        },
        {
          "output_type": "display_data",
          "data": {
            "text/plain": [
              "FuelType\n",
              "petrol      165496\n",
              "gasoline     83305\n",
              "NaN          12056\n",
              "hybrid         192\n",
              "other           65\n",
              "electric        59\n",
              "Name: count, dtype: int64"
            ],
            "text/html": [
              "<div>\n",
              "<style scoped>\n",
              "    .dataframe tbody tr th:only-of-type {\n",
              "        vertical-align: middle;\n",
              "    }\n",
              "\n",
              "    .dataframe tbody tr th {\n",
              "        vertical-align: top;\n",
              "    }\n",
              "\n",
              "    .dataframe thead th {\n",
              "        text-align: right;\n",
              "    }\n",
              "</style>\n",
              "<table border=\"1\" class=\"dataframe\">\n",
              "  <thead>\n",
              "    <tr style=\"text-align: right;\">\n",
              "      <th></th>\n",
              "      <th>count</th>\n",
              "    </tr>\n",
              "    <tr>\n",
              "      <th>FuelType</th>\n",
              "      <th></th>\n",
              "    </tr>\n",
              "  </thead>\n",
              "  <tbody>\n",
              "    <tr>\n",
              "      <th>petrol</th>\n",
              "      <td>165496</td>\n",
              "    </tr>\n",
              "    <tr>\n",
              "      <th>gasoline</th>\n",
              "      <td>83305</td>\n",
              "    </tr>\n",
              "    <tr>\n",
              "      <th>NaN</th>\n",
              "      <td>12056</td>\n",
              "    </tr>\n",
              "    <tr>\n",
              "      <th>hybrid</th>\n",
              "      <td>192</td>\n",
              "    </tr>\n",
              "    <tr>\n",
              "      <th>other</th>\n",
              "      <td>65</td>\n",
              "    </tr>\n",
              "    <tr>\n",
              "      <th>electric</th>\n",
              "      <td>59</td>\n",
              "    </tr>\n",
              "  </tbody>\n",
              "</table>\n",
              "</div><br><label><b>dtype:</b> int64</label>"
            ]
          },
          "metadata": {}
        },
        {
          "output_type": "display_data",
          "data": {
            "text/plain": [
              "Repaired\n",
              "no     198864\n",
              "NaN     36628\n",
              "yes     25681\n",
              "Name: count, dtype: int64"
            ],
            "text/html": [
              "<div>\n",
              "<style scoped>\n",
              "    .dataframe tbody tr th:only-of-type {\n",
              "        vertical-align: middle;\n",
              "    }\n",
              "\n",
              "    .dataframe tbody tr th {\n",
              "        vertical-align: top;\n",
              "    }\n",
              "\n",
              "    .dataframe thead th {\n",
              "        text-align: right;\n",
              "    }\n",
              "</style>\n",
              "<table border=\"1\" class=\"dataframe\">\n",
              "  <thead>\n",
              "    <tr style=\"text-align: right;\">\n",
              "      <th></th>\n",
              "      <th>count</th>\n",
              "    </tr>\n",
              "    <tr>\n",
              "      <th>Repaired</th>\n",
              "      <th></th>\n",
              "    </tr>\n",
              "  </thead>\n",
              "  <tbody>\n",
              "    <tr>\n",
              "      <th>no</th>\n",
              "      <td>198864</td>\n",
              "    </tr>\n",
              "    <tr>\n",
              "      <th>NaN</th>\n",
              "      <td>36628</td>\n",
              "    </tr>\n",
              "    <tr>\n",
              "      <th>yes</th>\n",
              "      <td>25681</td>\n",
              "    </tr>\n",
              "  </tbody>\n",
              "</table>\n",
              "</div><br><label><b>dtype:</b> int64</label>"
            ]
          },
          "metadata": {}
        }
      ],
      "source": [
        "# анализ категориальных признаков\n",
        "for col in avto_df.columns:\n",
        "    if avto_df[col].isnull().sum()!=0 :\n",
        "        display(avto_df[col].value_counts(dropna=False))"
      ]
    },
    {
      "cell_type": "markdown",
      "metadata": {
        "id": "OB4FqrxsWIUP"
      },
      "source": [
        "### Предобработка данных и последующий анализ"
      ]
    },
    {
      "cell_type": "code",
      "execution_count": 8,
      "metadata": {
        "id": "KZyI75BBWIUK",
        "outputId": "1d90c212-f9cd-473b-81ef-4bebca0da8c2",
        "colab": {
          "base_uri": "https://localhost:8080/",
          "height": 519
        }
      },
      "outputs": [
        {
          "output_type": "stream",
          "name": "stdout",
          "text": [
            "<class 'pandas.core.frame.DataFrame'>\n",
            "RangeIndex: 257866 entries, 0 to 257865\n",
            "Data columns (total 11 columns):\n",
            " #   Column             Non-Null Count   Dtype  \n",
            "---  ------             --------------   -----  \n",
            " 0   Price              257866 non-null  int64  \n",
            " 1   VehicleType        257866 non-null  object \n",
            " 2   RegistrationYear   257866 non-null  int64  \n",
            " 3   Gearbox            257866 non-null  float64\n",
            " 4   Power              257866 non-null  int64  \n",
            " 5   Model              257866 non-null  object \n",
            " 6   Kilometer          257866 non-null  int64  \n",
            " 7   RegistrationMonth  257866 non-null  int64  \n",
            " 8   FuelType           257866 non-null  object \n",
            " 9   Brand              257866 non-null  object \n",
            " 10  Repaired           257866 non-null  float64\n",
            "dtypes: float64(2), int64(5), object(4)\n",
            "memory usage: 21.6+ MB\n"
          ]
        },
        {
          "output_type": "execute_result",
          "data": {
            "text/plain": [
              "   Price VehicleType  RegistrationYear  Gearbox  Power  Model  Kilometer  \\\n",
              "0  18300       coupe              2011     1.00    190  other     125000   \n",
              "1   9800         suv              2004     0.00    163  grand     125000   \n",
              "2   1500       small              2001     1.00     75   golf     150000   \n",
              "3   3600       small              2008     1.00     69  fabia      90000   \n",
              "4    650       sedan              1995     1.00    102    3er     150000   \n",
              "\n",
              "   RegistrationMonth  FuelType       Brand  Repaired  \n",
              "0                  5  gasoline        audi      1.00  \n",
              "1                  8  gasoline        jeep      0.00  \n",
              "2                  6    petrol  volkswagen      0.00  \n",
              "3                  7  gasoline       skoda      0.00  \n",
              "4                 10    petrol         bmw      1.00  "
            ],
            "text/html": [
              "\n",
              "  <div id=\"df-a4cc082f-dc4f-4256-a52b-24193c75514b\" class=\"colab-df-container\">\n",
              "    <div>\n",
              "<style scoped>\n",
              "    .dataframe tbody tr th:only-of-type {\n",
              "        vertical-align: middle;\n",
              "    }\n",
              "\n",
              "    .dataframe tbody tr th {\n",
              "        vertical-align: top;\n",
              "    }\n",
              "\n",
              "    .dataframe thead th {\n",
              "        text-align: right;\n",
              "    }\n",
              "</style>\n",
              "<table border=\"1\" class=\"dataframe\">\n",
              "  <thead>\n",
              "    <tr style=\"text-align: right;\">\n",
              "      <th></th>\n",
              "      <th>Price</th>\n",
              "      <th>VehicleType</th>\n",
              "      <th>RegistrationYear</th>\n",
              "      <th>Gearbox</th>\n",
              "      <th>Power</th>\n",
              "      <th>Model</th>\n",
              "      <th>Kilometer</th>\n",
              "      <th>RegistrationMonth</th>\n",
              "      <th>FuelType</th>\n",
              "      <th>Brand</th>\n",
              "      <th>Repaired</th>\n",
              "    </tr>\n",
              "  </thead>\n",
              "  <tbody>\n",
              "    <tr>\n",
              "      <th>0</th>\n",
              "      <td>18300</td>\n",
              "      <td>coupe</td>\n",
              "      <td>2011</td>\n",
              "      <td>1.00</td>\n",
              "      <td>190</td>\n",
              "      <td>other</td>\n",
              "      <td>125000</td>\n",
              "      <td>5</td>\n",
              "      <td>gasoline</td>\n",
              "      <td>audi</td>\n",
              "      <td>1.00</td>\n",
              "    </tr>\n",
              "    <tr>\n",
              "      <th>1</th>\n",
              "      <td>9800</td>\n",
              "      <td>suv</td>\n",
              "      <td>2004</td>\n",
              "      <td>0.00</td>\n",
              "      <td>163</td>\n",
              "      <td>grand</td>\n",
              "      <td>125000</td>\n",
              "      <td>8</td>\n",
              "      <td>gasoline</td>\n",
              "      <td>jeep</td>\n",
              "      <td>0.00</td>\n",
              "    </tr>\n",
              "    <tr>\n",
              "      <th>2</th>\n",
              "      <td>1500</td>\n",
              "      <td>small</td>\n",
              "      <td>2001</td>\n",
              "      <td>1.00</td>\n",
              "      <td>75</td>\n",
              "      <td>golf</td>\n",
              "      <td>150000</td>\n",
              "      <td>6</td>\n",
              "      <td>petrol</td>\n",
              "      <td>volkswagen</td>\n",
              "      <td>0.00</td>\n",
              "    </tr>\n",
              "    <tr>\n",
              "      <th>3</th>\n",
              "      <td>3600</td>\n",
              "      <td>small</td>\n",
              "      <td>2008</td>\n",
              "      <td>1.00</td>\n",
              "      <td>69</td>\n",
              "      <td>fabia</td>\n",
              "      <td>90000</td>\n",
              "      <td>7</td>\n",
              "      <td>gasoline</td>\n",
              "      <td>skoda</td>\n",
              "      <td>0.00</td>\n",
              "    </tr>\n",
              "    <tr>\n",
              "      <th>4</th>\n",
              "      <td>650</td>\n",
              "      <td>sedan</td>\n",
              "      <td>1995</td>\n",
              "      <td>1.00</td>\n",
              "      <td>102</td>\n",
              "      <td>3er</td>\n",
              "      <td>150000</td>\n",
              "      <td>10</td>\n",
              "      <td>petrol</td>\n",
              "      <td>bmw</td>\n",
              "      <td>1.00</td>\n",
              "    </tr>\n",
              "  </tbody>\n",
              "</table>\n",
              "</div>\n",
              "    <div class=\"colab-df-buttons\">\n",
              "\n",
              "  <div class=\"colab-df-container\">\n",
              "    <button class=\"colab-df-convert\" onclick=\"convertToInteractive('df-a4cc082f-dc4f-4256-a52b-24193c75514b')\"\n",
              "            title=\"Convert this dataframe to an interactive table.\"\n",
              "            style=\"display:none;\">\n",
              "\n",
              "  <svg xmlns=\"http://www.w3.org/2000/svg\" height=\"24px\" viewBox=\"0 -960 960 960\">\n",
              "    <path d=\"M120-120v-720h720v720H120Zm60-500h600v-160H180v160Zm220 220h160v-160H400v160Zm0 220h160v-160H400v160ZM180-400h160v-160H180v160Zm440 0h160v-160H620v160ZM180-180h160v-160H180v160Zm440 0h160v-160H620v160Z\"/>\n",
              "  </svg>\n",
              "    </button>\n",
              "\n",
              "  <style>\n",
              "    .colab-df-container {\n",
              "      display:flex;\n",
              "      gap: 12px;\n",
              "    }\n",
              "\n",
              "    .colab-df-convert {\n",
              "      background-color: #E8F0FE;\n",
              "      border: none;\n",
              "      border-radius: 50%;\n",
              "      cursor: pointer;\n",
              "      display: none;\n",
              "      fill: #1967D2;\n",
              "      height: 32px;\n",
              "      padding: 0 0 0 0;\n",
              "      width: 32px;\n",
              "    }\n",
              "\n",
              "    .colab-df-convert:hover {\n",
              "      background-color: #E2EBFA;\n",
              "      box-shadow: 0px 1px 2px rgba(60, 64, 67, 0.3), 0px 1px 3px 1px rgba(60, 64, 67, 0.15);\n",
              "      fill: #174EA6;\n",
              "    }\n",
              "\n",
              "    .colab-df-buttons div {\n",
              "      margin-bottom: 4px;\n",
              "    }\n",
              "\n",
              "    [theme=dark] .colab-df-convert {\n",
              "      background-color: #3B4455;\n",
              "      fill: #D2E3FC;\n",
              "    }\n",
              "\n",
              "    [theme=dark] .colab-df-convert:hover {\n",
              "      background-color: #434B5C;\n",
              "      box-shadow: 0px 1px 3px 1px rgba(0, 0, 0, 0.15);\n",
              "      filter: drop-shadow(0px 1px 2px rgba(0, 0, 0, 0.3));\n",
              "      fill: #FFFFFF;\n",
              "    }\n",
              "  </style>\n",
              "\n",
              "    <script>\n",
              "      const buttonEl =\n",
              "        document.querySelector('#df-a4cc082f-dc4f-4256-a52b-24193c75514b button.colab-df-convert');\n",
              "      buttonEl.style.display =\n",
              "        google.colab.kernel.accessAllowed ? 'block' : 'none';\n",
              "\n",
              "      async function convertToInteractive(key) {\n",
              "        const element = document.querySelector('#df-a4cc082f-dc4f-4256-a52b-24193c75514b');\n",
              "        const dataTable =\n",
              "          await google.colab.kernel.invokeFunction('convertToInteractive',\n",
              "                                                    [key], {});\n",
              "        if (!dataTable) return;\n",
              "\n",
              "        const docLinkHtml = 'Like what you see? Visit the ' +\n",
              "          '<a target=\"_blank\" href=https://colab.research.google.com/notebooks/data_table.ipynb>data table notebook</a>'\n",
              "          + ' to learn more about interactive tables.';\n",
              "        element.innerHTML = '';\n",
              "        dataTable['output_type'] = 'display_data';\n",
              "        await google.colab.output.renderOutput(dataTable, element);\n",
              "        const docLink = document.createElement('div');\n",
              "        docLink.innerHTML = docLinkHtml;\n",
              "        element.appendChild(docLink);\n",
              "      }\n",
              "    </script>\n",
              "  </div>\n",
              "\n",
              "\n",
              "    <div id=\"df-02acd338-2a6d-4886-a1e7-5f46d68d5823\">\n",
              "      <button class=\"colab-df-quickchart\" onclick=\"quickchart('df-02acd338-2a6d-4886-a1e7-5f46d68d5823')\"\n",
              "                title=\"Suggest charts\"\n",
              "                style=\"display:none;\">\n",
              "\n",
              "<svg xmlns=\"http://www.w3.org/2000/svg\" height=\"24px\"viewBox=\"0 0 24 24\"\n",
              "     width=\"24px\">\n",
              "    <g>\n",
              "        <path d=\"M19 3H5c-1.1 0-2 .9-2 2v14c0 1.1.9 2 2 2h14c1.1 0 2-.9 2-2V5c0-1.1-.9-2-2-2zM9 17H7v-7h2v7zm4 0h-2V7h2v10zm4 0h-2v-4h2v4z\"/>\n",
              "    </g>\n",
              "</svg>\n",
              "      </button>\n",
              "\n",
              "<style>\n",
              "  .colab-df-quickchart {\n",
              "      --bg-color: #E8F0FE;\n",
              "      --fill-color: #1967D2;\n",
              "      --hover-bg-color: #E2EBFA;\n",
              "      --hover-fill-color: #174EA6;\n",
              "      --disabled-fill-color: #AAA;\n",
              "      --disabled-bg-color: #DDD;\n",
              "  }\n",
              "\n",
              "  [theme=dark] .colab-df-quickchart {\n",
              "      --bg-color: #3B4455;\n",
              "      --fill-color: #D2E3FC;\n",
              "      --hover-bg-color: #434B5C;\n",
              "      --hover-fill-color: #FFFFFF;\n",
              "      --disabled-bg-color: #3B4455;\n",
              "      --disabled-fill-color: #666;\n",
              "  }\n",
              "\n",
              "  .colab-df-quickchart {\n",
              "    background-color: var(--bg-color);\n",
              "    border: none;\n",
              "    border-radius: 50%;\n",
              "    cursor: pointer;\n",
              "    display: none;\n",
              "    fill: var(--fill-color);\n",
              "    height: 32px;\n",
              "    padding: 0;\n",
              "    width: 32px;\n",
              "  }\n",
              "\n",
              "  .colab-df-quickchart:hover {\n",
              "    background-color: var(--hover-bg-color);\n",
              "    box-shadow: 0 1px 2px rgba(60, 64, 67, 0.3), 0 1px 3px 1px rgba(60, 64, 67, 0.15);\n",
              "    fill: var(--button-hover-fill-color);\n",
              "  }\n",
              "\n",
              "  .colab-df-quickchart-complete:disabled,\n",
              "  .colab-df-quickchart-complete:disabled:hover {\n",
              "    background-color: var(--disabled-bg-color);\n",
              "    fill: var(--disabled-fill-color);\n",
              "    box-shadow: none;\n",
              "  }\n",
              "\n",
              "  .colab-df-spinner {\n",
              "    border: 2px solid var(--fill-color);\n",
              "    border-color: transparent;\n",
              "    border-bottom-color: var(--fill-color);\n",
              "    animation:\n",
              "      spin 1s steps(1) infinite;\n",
              "  }\n",
              "\n",
              "  @keyframes spin {\n",
              "    0% {\n",
              "      border-color: transparent;\n",
              "      border-bottom-color: var(--fill-color);\n",
              "      border-left-color: var(--fill-color);\n",
              "    }\n",
              "    20% {\n",
              "      border-color: transparent;\n",
              "      border-left-color: var(--fill-color);\n",
              "      border-top-color: var(--fill-color);\n",
              "    }\n",
              "    30% {\n",
              "      border-color: transparent;\n",
              "      border-left-color: var(--fill-color);\n",
              "      border-top-color: var(--fill-color);\n",
              "      border-right-color: var(--fill-color);\n",
              "    }\n",
              "    40% {\n",
              "      border-color: transparent;\n",
              "      border-right-color: var(--fill-color);\n",
              "      border-top-color: var(--fill-color);\n",
              "    }\n",
              "    60% {\n",
              "      border-color: transparent;\n",
              "      border-right-color: var(--fill-color);\n",
              "    }\n",
              "    80% {\n",
              "      border-color: transparent;\n",
              "      border-right-color: var(--fill-color);\n",
              "      border-bottom-color: var(--fill-color);\n",
              "    }\n",
              "    90% {\n",
              "      border-color: transparent;\n",
              "      border-bottom-color: var(--fill-color);\n",
              "    }\n",
              "  }\n",
              "</style>\n",
              "\n",
              "      <script>\n",
              "        async function quickchart(key) {\n",
              "          const quickchartButtonEl =\n",
              "            document.querySelector('#' + key + ' button');\n",
              "          quickchartButtonEl.disabled = true;  // To prevent multiple clicks.\n",
              "          quickchartButtonEl.classList.add('colab-df-spinner');\n",
              "          try {\n",
              "            const charts = await google.colab.kernel.invokeFunction(\n",
              "                'suggestCharts', [key], {});\n",
              "          } catch (error) {\n",
              "            console.error('Error during call to suggestCharts:', error);\n",
              "          }\n",
              "          quickchartButtonEl.classList.remove('colab-df-spinner');\n",
              "          quickchartButtonEl.classList.add('colab-df-quickchart-complete');\n",
              "        }\n",
              "        (() => {\n",
              "          let quickchartButtonEl =\n",
              "            document.querySelector('#df-02acd338-2a6d-4886-a1e7-5f46d68d5823 button');\n",
              "          quickchartButtonEl.style.display =\n",
              "            google.colab.kernel.accessAllowed ? 'block' : 'none';\n",
              "        })();\n",
              "      </script>\n",
              "    </div>\n",
              "    </div>\n",
              "  </div>\n"
            ],
            "application/vnd.google.colaboratory.intrinsic+json": {
              "type": "dataframe",
              "variable_name": "avto_df"
            }
          },
          "metadata": {},
          "execution_count": 8
        }
      ],
      "source": [
        "# по итогу анализа можно сделать вывод, что в некоторых оисательных свойствах присутствует категоря \"other\" , которая не столь информативна,\n",
        "# поэтому можем значения NaN приравнять к ней. В случае же с Gearbox и Repaired применим inputer IterativeImputer\n",
        "\n",
        "avto_df[['FuelType','VehicleType','Model']] = avto_df[['FuelType','VehicleType','Model']].fillna('other').copy()\n",
        "#avto_df['VehicleType'] = avto_df['VehicleType'].fillna('other').copy()\n",
        "#avto_df['Model'] = avto_df['Model'].fillna('other').copy()\n",
        "\n",
        "\n",
        "bul(avto_df,'Gearbox','manual','auto')\n",
        "bul(avto_df,'Repaired','yes','no')\n",
        "\n",
        "imput = IterativeImputer(random_state=RANDOM_STATE)\n",
        "avto_df['Gearbox'] = imput.fit_transform(avto_df[['Gearbox']])\n",
        "avto_df['Repaired'] = imput.fit_transform(avto_df[['Repaired']]).copy()\n",
        "avto_df['Gearbox'] = round(avto_df['Gearbox'])\n",
        "avto_df['Repaired'] = round(avto_df['Repaired'])\n",
        "\n",
        "avto_df = avto_df.drop_duplicates( keep='first').copy()\n",
        "avto_df = avto_df.reset_index(drop=True)\n",
        "\n",
        "\n",
        "avto_df.info()\n",
        "avto_df.head()"
      ]
    },
    {
      "cell_type": "markdown",
      "metadata": {
        "id": "37gwViYxWIUP"
      },
      "source": [
        "### Визуализация данных"
      ]
    },
    {
      "cell_type": "code",
      "execution_count": 9,
      "metadata": {
        "id": "nPQugP3XWIUO"
      },
      "outputs": [],
      "source": [
        "# составим базу описывающую автомобиль.\n",
        "cat_col = ['Brand','Model','FuelType','VehicleType','Gearbox','RegistrationMonth','Repaired']\n",
        "num_col = ['Price','RegistrationYear','Power','Kilometer']\n",
        "\n",
        "col_auto_df = ['Price','Brand','Model','RegistrationYear','RegistrationMonth',\n",
        "           'FuelType','VehicleType','Gearbox','Power','Kilometer','Repaired']\n"
      ]
    },
    {
      "cell_type": "code",
      "execution_count": 10,
      "metadata": {
        "id": "8TnuuqOtWIUP",
        "colab": {
          "base_uri": "https://localhost:8080/",
          "height": 924
        },
        "outputId": "5162a08c-67d9-4d8f-a2bb-bdcf3ab21e01"
      },
      "outputs": [
        {
          "output_type": "display_data",
          "data": {
            "text/plain": [
              "'PHIK матрица '"
            ],
            "application/vnd.google.colaboratory.intrinsic+json": {
              "type": "string"
            }
          },
          "metadata": {}
        },
        {
          "output_type": "display_data",
          "data": {
            "text/plain": [
              "<Figure size 1000x900 with 2 Axes>"
            ],
            "image/png": "[encoded data removed]"
          },
          "metadata": {}
        }
      ],
      "source": [
        "interval_cols = num_col\n",
        "avto_df[cat_col] = avto_df[cat_col].astype('category')\n",
        "# 'PHIK матрица'\n",
        "display ('PHIK матрица ')\n",
        "\n",
        "phik_overview = avto_df.phik_matrix( interval_cols=interval_cols)#,n_jobs=-1)\n",
        "plot_correlation_matrix(\n",
        "    phik_overview.values,\n",
        "    x_labels=phik_overview.columns,\n",
        "    y_labels=phik_overview.index,\n",
        "    vmin=0, vmax=1, color_map='Greens',\n",
        "    title=r'correlation $\\phi_K$',\n",
        "    fontsize_factor=1.3,\n",
        "    figsize=(10,9))"
      ]
    },
    {
      "cell_type": "code",
      "execution_count": 11,
      "metadata": {
        "scrolled": true,
        "id": "ze1uQP85WIUP",
        "colab": {
          "base_uri": "https://localhost:8080/",
          "height": 1000
        },
        "outputId": "f2122454-e690-4b85-b555-2c3d77b575e0"
      },
      "outputs": [
        {
          "output_type": "display_data",
          "data": {
            "text/plain": [
              "<Figure size 640x480 with 1 Axes>"
            ],
            "image/png": "[encoded data removed]"
          },
          "metadata": {}
        },
        {
          "output_type": "display_data",
          "data": {
            "text/plain": [
              "<Figure size 640x480 with 1 Axes>"
            ],
            "image/png": "[encoded data removed]"
          },
          "metadata": {}
        },
        {
          "output_type": "display_data",
          "data": {
            "text/plain": [
              "<Figure size 640x480 with 1 Axes>"
            ],
            "image/png": "[encoded data removed]"
          },
          "metadata": {}
        },
        {
          "output_type": "display_data",
          "data": {
            "text/plain": [
              "<Figure size 640x480 with 1 Axes>"
            ],
            "image/png": "[encoded data removed]"
          },
          "metadata": {}
        },
        {
          "output_type": "display_data",
          "data": {
            "text/plain": [
              "<Figure size 640x480 with 1 Axes>"
            ],
            "image/png": "[encoded data removed]"
          },
          "metadata": {}
        },
        {
          "output_type": "display_data",
          "data": {
            "text/plain": [
              "'Price'"
            ],
            "application/vnd.google.colaboratory.intrinsic+json": {
              "type": "string"
            }
          },
          "metadata": {}
        },
        {
          "output_type": "display_data",
          "data": {
            "text/plain": [
              "<Figure size 640x480 with 2 Axes>"
            ],
            "image/png": "[encoded data removed]"
          },
          "metadata": {}
        },
        {
          "output_type": "display_data",
          "data": {
            "text/plain": [
              "'RegistrationYear'"
            ],
            "application/vnd.google.colaboratory.intrinsic+json": {
              "type": "string"
            }
          },
          "metadata": {}
        },
        {
          "output_type": "display_data",
          "data": {
            "text/plain": [
              "<Figure size 640x480 with 2 Axes>"
            ],
            "image/png": "[encoded data removed]"
          },
          "metadata": {}
        },
        {
          "output_type": "display_data",
          "data": {
            "text/plain": [
              "'Power'"
            ],
            "application/vnd.google.colaboratory.intrinsic+json": {
              "type": "string"
            }
          },
          "metadata": {}
        },
        {
          "output_type": "display_data",
          "data": {
            "text/plain": [
              "<Figure size 640x480 with 2 Axes>"
            ],
            "image/png": "[encoded data removed]"
          },
          "metadata": {}
        },
        {
          "output_type": "display_data",
          "data": {
            "text/plain": [
              "'Kilometer'"
            ],
            "application/vnd.google.colaboratory.intrinsic+json": {
              "type": "string"
            }
          },
          "metadata": {}
        },
        {
          "output_type": "display_data",
          "data": {
            "text/plain": [
              "<Figure size 640x480 with 2 Axes>"
            ],
            "image/png": "[encoded data removed]"
          },
          "metadata": {}
        }
      ],
      "source": [
        "for i in cat_col:\n",
        "    if avto_df[i].nunique()<20:\n",
        "        sns.countplot(y=i, data=avto_df)\n",
        "        plt.show()\n",
        "\n",
        "for n in num_col:\n",
        "    display(n)\n",
        "    fig, (ax_box, ax_hist) = plt.subplots(2,sharex = True,gridspec_kw = {'height_ratios': (.20, .80)})\n",
        "    sns.boxplot(x = avto_df[n], ax = ax_box)\n",
        "    plt.hist(avto_df[n],bins=100)\n",
        "    ax_box.set(xlabel = '')\n",
        "    ax_hist.set(xlabel = n)\n",
        "    ax_hist.set(ylabel = 'count')\n",
        "    plt.show()\n",
        "\n",
        "\n"
      ]
    },
    {
      "cell_type": "markdown",
      "metadata": {
        "id": "owXHoim4WIUP"
      },
      "source": [
        "#### Выводы и план по обработке данных\n",
        "- Model и Brand имеют корреляцию = 1, значит несут в себе \"дублирующий\" смысл. Поскольку у Brand меньше значения коэфициентов с другими признами - удаляяем его.\n",
        "- заполнить все \"пустые\" значения типом \"other\" . Выбор определен тем, что танный \"непонятный\"(\"неопределенный\") класс присутсвует в свойствах \"FuelType\" \"VihicleType\"\n",
        "- установим границы по мощности (40-650) л.с.\n",
        "- установим границы по цене (100)\n",
        "- авто с FuelType = cng  lng - преобразовываем в gasoline\n",
        "- удалим данные с месяцем = 0\n",
        "- установим границы по году : раз выгрузка было в 2016 - удаляем года после 2016, и удаляем авто старше 30 лет\n",
        "- удалим дубликаты"
      ]
    },
    {
      "cell_type": "markdown",
      "metadata": {
        "id": "ydMODPOFWIUd"
      },
      "source": [
        "### Выводы\n",
        "- предобработка прошла успешно, оставлены более реалистичные данные"
      ]
    },
    {
      "cell_type": "markdown",
      "metadata": {
        "id": "LxelQgUuWIUe"
      },
      "source": [
        "## Подготовка данных"
      ]
    },
    {
      "cell_type": "code",
      "execution_count": 12,
      "metadata": {
        "id": "ME1OfD53WIUf"
      },
      "outputs": [],
      "source": [
        "avto_df[cat_col] = avto_df[cat_col].astype('string')\n",
        "pd.DataFrame.iteritems = pd.DataFrame.items\n",
        "cat_col = ['Model','FuelType','VehicleType','Gearbox','RegistrationMonth','Repaired']\n",
        "\n",
        "X=avto_df.drop(['Price','Brand'],axis=1).copy()\n",
        "y=avto_df['Price'].copy()\n",
        "# разделение данных на тестовую и тренировочную выборки\n",
        "X_train, X_test, y_train, y_test = train_test_split(\n",
        "    X,\n",
        "    y,\n",
        "    test_size = TEST_SIZE,\n",
        "    random_state = RANDOM_STATE)\n"
      ]
    },
    {
      "cell_type": "markdown",
      "metadata": {
        "id": "YqAKkgjrWIUe"
      },
      "source": [
        "## Кросвалидация моделей"
      ]
    },
    {
      "cell_type": "code",
      "source": [
        "# фукция параметров кросвалидации моделей\n",
        "def cv_model(clf,X_train,y_train):\n",
        "\n",
        "\n",
        "    param_grid = {}\n",
        "    if clf.__class__.__name__ == 'SVR' :\n",
        "        param_grid = {'models__C':np.arange(0.1, 1.2, 0.4) }\n",
        "\n",
        "    elif clf.__class__.__name__ == 'Ridge' :\n",
        "        param_grid = {'models__alpha': np.arange(0.3, 1, 0.1)}\n",
        "\n",
        "\n",
        "    else  : param_grid = {}\n",
        "    pipe_final = Pipeline([('models',clf)])\n",
        "    GridCV = GridSearchCV(\n",
        "        pipe_final,\n",
        "        param_grid=param_grid,\n",
        "        cv=3,\n",
        "        scoring='neg_root_mean_squared_error',\n",
        "        error_score='raise',\n",
        "        verbose=False,\n",
        "        n_jobs=-1\n",
        "    )\n",
        "    GridCV.fit(X_train, y_train)\n",
        "    clf_descr = clf.__class__.__name__\n",
        "\n",
        "    print()\n",
        "    print(clf_descr)\n",
        "\n",
        "    print(f\"best parames :   {GridCV.best_params_}\")\n",
        "\n",
        "    results = GridCV.cv_results_\n",
        "    best_index = GridCV.best_index_\n",
        "\n",
        "    fit_time = results['mean_fit_time'][best_index]\n",
        "    score_time = results['mean_score_time'][best_index]\n",
        "    RMSE = results['mean_test_score'][best_index] * -1\n",
        "\n",
        "    print(f\"Fit time: {fit_time}, Predict time: {score_time}, Best RMSE: {RMSE}\")\n",
        "\n",
        "    #print(f\"best score :   {-GridSCV.best_score_}\")\n",
        "\n",
        "    return (clf_descr, RMSE, fit_time,score_time)"
      ],
      "metadata": {
        "id": "rvgqGI-3z5B9"
      },
      "execution_count": 13,
      "outputs": []
    },
    {
      "cell_type": "code",
      "source": [
        "def cross_m (X_tr,y_train):\n",
        "    results = []\n",
        "    for clf in (\n",
        "        (DummyRegressor()),\n",
        "\n",
        "        (Ridge(max_iter=300,random_state=RANDOM_STATE)),#,solver=\"sparse_cg\")),\n",
        "        (KNeighborsRegressor(n_neighbors=40,n_jobs=-1)),\n",
        "        (SVR(max_iter=200)), #,cache_size=8000,gamma='auto',probability=True,\n",
        "        (SGDRegressor( alpha=1e-4, n_iter_no_change=3, early_stopping=True)),\n",
        "        (PassiveAggressiveRegressor()),\n",
        "\n",
        "        (CatBoostRegressor(iterations=500, learning_rate=0.01, depth=10,\n",
        "                           min_data_in_leaf = 1,\n",
        "                            loss_function='RMSE',\n",
        "                            random_seed = RANDOM_STATE,\n",
        "                            early_stopping_rounds = 100,\n",
        "                            allow_writing_files=False,\n",
        "                            verbose= False)),\n",
        "        (LGBMRegressor(metric='neg_root_mean_squared_error',\n",
        "                      random_state=RANDOM_STATE,\n",
        "                      verbose= 0)),\n",
        "\n",
        "        (RandomForestRegressor(n_estimators=20,n_jobs=-1,random_state=RANDOM_STATE)),\n",
        "    ):\n",
        "        print(\"=\" * 80)\n",
        "\n",
        "        results.append(cv_model(clf,X_tr,y_train) )\n",
        "    return results"
      ],
      "metadata": {
        "id": "FPFcRWFiz9Nl"
      },
      "execution_count": 14,
      "outputs": []
    },
    {
      "cell_type": "code",
      "source": [
        "ohe_columns=['Model','FuelType','VehicleType','Gearbox','RegistrationMonth','Repaired']\n",
        "num_columns=['RegistrationYear','Power','Kilometer']\n",
        "data_preprocessor = ColumnTransformer([\n",
        "        ('ohe', OneHotEncoder(drop='first', handle_unknown='ignore'), ohe_columns),\n",
        "        ('num', StandardScaler(), num_columns)\n",
        "    ], remainder='passthrough')\n",
        "X_transformed = data_preprocessor.fit_transform(X_train)\n",
        "results_model = cross_m(X_transformed,y_train)"
      ],
      "metadata": {
        "colab": {
          "base_uri": "https://localhost:8080/"
        },
        "id": "oBPmbs8Oz8_H",
        "outputId": "163d61a7-7c9f-4e60-b67f-1825ecbc5613"
      },
      "execution_count": 15,
      "outputs": [
        {
          "output_type": "stream",
          "name": "stdout",
          "text": [
            "================================================================================\n",
            "\n",
            "DummyRegressor\n",
            "best parames :   {}\n",
            "Fit time: 0.015539884567260742, Predict time: 0.0020716985066731772, Best RMSE: 4614.346074287126\n",
            "================================================================================\n",
            "\n",
            "Ridge\n",
            "best parames :   {'models__alpha': np.float64(0.3)}\n",
            "Fit time: 0.6480929056803385, Predict time: 0.0038083394368489585, Best RMSE: 2288.886371265095\n",
            "================================================================================\n",
            "\n",
            "KNeighborsRegressor\n",
            "best parames :   {}\n",
            "Fit time: 0.028923432032267254, Predict time: 475.4468421936035, Best RMSE: 1892.1715848630217\n",
            "================================================================================\n",
            "\n",
            "SVR\n",
            "best parames :   {'models__C': np.float64(0.9)}\n",
            "Fit time: 3.8683664004007974, Predict time: 1.335286537806193, Best RMSE: 6916.013166431127\n",
            "================================================================================\n",
            "\n",
            "SGDRegressor\n",
            "best parames :   {}\n",
            "Fit time: 0.4046186606089274, Predict time: 0.002818028132120768, Best RMSE: 2349.646254759603\n",
            "================================================================================\n",
            "\n",
            "PassiveAggressiveRegressor\n",
            "best parames :   {}\n",
            "Fit time: 5.011414289474487, Predict time: 0.0035346349080403647, Best RMSE: 2360.085606857225\n",
            "================================================================================\n",
            "\n",
            "CatBoostRegressor\n",
            "best parames :   {}\n",
            "Fit time: 30.765811761220295, Predict time: 0.2048031489054362, Best RMSE: 1772.0259262123045\n",
            "================================================================================\n",
            "\n",
            "LGBMRegressor\n",
            "best parames :   {}\n",
            "Fit time: 1.251765251159668, Predict time: 0.5291426181793213, Best RMSE: 1628.6597328858372\n",
            "================================================================================\n",
            "\n",
            "RandomForestRegressor\n",
            "best parames :   {}\n",
            "Fit time: 335.5216434796651, Predict time: 0.7072381973266602, Best RMSE: 1643.4226357521704\n"
          ]
        }
      ]
    },
    {
      "cell_type": "code",
      "source": [
        "display(results_model)\n",
        "#results_model.to_csv('results_model.csv',index=False)"
      ],
      "metadata": {
        "id": "VfaZ8-LCz8uc",
        "colab": {
          "base_uri": "https://localhost:8080/",
          "height": 642
        },
        "outputId": "eebccd70-69ec-4848-8c2d-b3e40cd5a723"
      },
      "execution_count": 16,
      "outputs": [
        {
          "output_type": "display_data",
          "data": {
            "text/plain": [
              "[('DummyRegressor',\n",
              "  np.float64(4614.346074287126),\n",
              "  np.float64(0.015539884567260742),\n",
              "  np.float64(0.0020716985066731772)),\n",
              " ('Ridge',\n",
              "  np.float64(2288.886371265095),\n",
              "  np.float64(0.6480929056803385),\n",
              "  np.float64(0.0038083394368489585)),\n",
              " ('KNeighborsRegressor',\n",
              "  np.float64(1892.1715848630217),\n",
              "  np.float64(0.028923432032267254),\n",
              "  np.float64(475.4468421936035)),\n",
              " ('SVR',\n",
              "  np.float64(6916.013166431127),\n",
              "  np.float64(3.8683664004007974),\n",
              "  np.float64(1.335286537806193)),\n",
              " ('SGDRegressor',\n",
              "  np.float64(2349.646254759603),\n",
              "  np.float64(0.4046186606089274),\n",
              "  np.float64(0.002818028132120768)),\n",
              " ('PassiveAggressiveRegressor',\n",
              "  np.float64(2360.085606857225),\n",
              "  np.float64(5.011414289474487),\n",
              "  np.float64(0.0035346349080403647)),\n",
              " ('CatBoostRegressor',\n",
              "  np.float64(1772.0259262123045),\n",
              "  np.float64(30.765811761220295),\n",
              "  np.float64(0.2048031489054362)),\n",
              " ('LGBMRegressor',\n",
              "  np.float64(1628.6597328858372),\n",
              "  np.float64(1.251765251159668),\n",
              "  np.float64(0.5291426181793213)),\n",
              " ('RandomForestRegressor',\n",
              "  np.float64(1643.4226357521704),\n",
              "  np.float64(335.5216434796651),\n",
              "  np.float64(0.7072381973266602))]"
            ]
          },
          "metadata": {}
        }
      ]
    },
    {
      "cell_type": "code",
      "source": [
        "df_result = pd.DataFrame(results_model,columns=['model','RSME','Fit_time','Predict_time'])\n",
        "df_result = df_result.set_index(['model'])\n",
        "\n",
        "display(df_result.sort_values(['RSME']))#,ascending=False))\n",
        "\n",
        "plt.figure(figsize=(16,14))\n",
        "df_result['RSME'].sort_values(ascending=False).plot.barh()#ylabel = df_result['model'] )\n",
        "plt.xticks(rotation=90)\n",
        "plt.axvline(x=2800, color='red', linestyle='--', linewidth=2, label=f'Threshold = {2800}')\n",
        "plt.show()"
      ],
      "metadata": {
        "colab": {
          "base_uri": "https://localhost:8080/",
          "height": 1000
        },
        "id": "pWXgvY4wAbrW",
        "outputId": "3a6cd236-b927-4496-fb00-1dfb34034f9f"
      },
      "execution_count": 17,
      "outputs": [
        {
          "output_type": "display_data",
          "data": {
            "text/plain": [
              "                               RSME  Fit_time  Predict_time\n",
              "model                                                      \n",
              "LGBMRegressor              1,628.66      1.25          0.53\n",
              "RandomForestRegressor      1,643.42    335.52          0.71\n",
              "CatBoostRegressor          1,772.03     30.77          0.20\n",
              "KNeighborsRegressor        1,892.17      0.03        475.45\n",
              "Ridge                      2,288.89      0.65          0.00\n",
              "SGDRegressor               2,349.65      0.40          0.00\n",
              "PassiveAggressiveRegressor 2,360.09      5.01          0.00\n",
              "DummyRegressor             4,614.35      0.02          0.00\n",
              "SVR                        6,916.01      3.87          1.34"
            ],
            "text/html": [
              "\n",
              "  <div id=\"df-ef2a227e-429e-4fa8-afc1-eed3a68fa921\" class=\"colab-df-container\">\n",
              "    <div>\n",
              "<style scoped>\n",
              "    .dataframe tbody tr th:only-of-type {\n",
              "        vertical-align: middle;\n",
              "    }\n",
              "\n",
              "    .dataframe tbody tr th {\n",
              "        vertical-align: top;\n",
              "    }\n",
              "\n",
              "    .dataframe thead th {\n",
              "        text-align: right;\n",
              "    }\n",
              "</style>\n",
              "<table border=\"1\" class=\"dataframe\">\n",
              "  <thead>\n",
              "    <tr style=\"text-align: right;\">\n",
              "      <th></th>\n",
              "      <th>RSME</th>\n",
              "      <th>Fit_time</th>\n",
              "      <th>Predict_time</th>\n",
              "    </tr>\n",
              "    <tr>\n",
              "      <th>model</th>\n",
              "      <th></th>\n",
              "      <th></th>\n",
              "      <th></th>\n",
              "    </tr>\n",
              "  </thead>\n",
              "  <tbody>\n",
              "    <tr>\n",
              "      <th>LGBMRegressor</th>\n",
              "      <td>1,628.66</td>\n",
              "      <td>1.25</td>\n",
              "      <td>0.53</td>\n",
              "    </tr>\n",
              "    <tr>\n",
              "      <th>RandomForestRegressor</th>\n",
              "      <td>1,643.42</td>\n",
              "      <td>335.52</td>\n",
              "      <td>0.71</td>\n",
              "    </tr>\n",
              "    <tr>\n",
              "      <th>CatBoostRegressor</th>\n",
              "      <td>1,772.03</td>\n",
              "      <td>30.77</td>\n",
              "      <td>0.20</td>\n",
              "    </tr>\n",
              "    <tr>\n",
              "      <th>KNeighborsRegressor</th>\n",
              "      <td>1,892.17</td>\n",
              "      <td>0.03</td>\n",
              "      <td>475.45</td>\n",
              "    </tr>\n",
              "    <tr>\n",
              "      <th>Ridge</th>\n",
              "      <td>2,288.89</td>\n",
              "      <td>0.65</td>\n",
              "      <td>0.00</td>\n",
              "    </tr>\n",
              "    <tr>\n",
              "      <th>SGDRegressor</th>\n",
              "      <td>2,349.65</td>\n",
              "      <td>0.40</td>\n",
              "      <td>0.00</td>\n",
              "    </tr>\n",
              "    <tr>\n",
              "      <th>PassiveAggressiveRegressor</th>\n",
              "      <td>2,360.09</td>\n",
              "      <td>5.01</td>\n",
              "      <td>0.00</td>\n",
              "    </tr>\n",
              "    <tr>\n",
              "      <th>DummyRegressor</th>\n",
              "      <td>4,614.35</td>\n",
              "      <td>0.02</td>\n",
              "      <td>0.00</td>\n",
              "    </tr>\n",
              "    <tr>\n",
              "      <th>SVR</th>\n",
              "      <td>6,916.01</td>\n",
              "      <td>3.87</td>\n",
              "      <td>1.34</td>\n",
              "    </tr>\n",
              "  </tbody>\n",
              "</table>\n",
              "</div>\n",
              "    <div class=\"colab-df-buttons\">\n",
              "\n",
              "  <div class=\"colab-df-container\">\n",
              "    <button class=\"colab-df-convert\" onclick=\"convertToInteractive('df-ef2a227e-429e-4fa8-afc1-eed3a68fa921')\"\n",
              "            title=\"Convert this dataframe to an interactive table.\"\n",
              "            style=\"display:none;\">\n",
              "\n",
              "  <svg xmlns=\"http://www.w3.org/2000/svg\" height=\"24px\" viewBox=\"0 -960 960 960\">\n",
              "    <path d=\"M120-120v-720h720v720H120Zm60-500h600v-160H180v160Zm220 220h160v-160H400v160Zm0 220h160v-160H400v160ZM180-400h160v-160H180v160Zm440 0h160v-160H620v160ZM180-180h160v-160H180v160Zm440 0h160v-160H620v160Z\"/>\n",
              "  </svg>\n",
              "    </button>\n",
              "\n",
              "  <style>\n",
              "    .colab-df-container {\n",
              "      display:flex;\n",
              "      gap: 12px;\n",
              "    }\n",
              "\n",
              "    .colab-df-convert {\n",
              "      background-color: #E8F0FE;\n",
              "      border: none;\n",
              "      border-radius: 50%;\n",
              "      cursor: pointer;\n",
              "      display: none;\n",
              "      fill: #1967D2;\n",
              "      height: 32px;\n",
              "      padding: 0 0 0 0;\n",
              "      width: 32px;\n",
              "    }\n",
              "\n",
              "    .colab-df-convert:hover {\n",
              "      background-color: #E2EBFA;\n",
              "      box-shadow: 0px 1px 2px rgba(60, 64, 67, 0.3), 0px 1px 3px 1px rgba(60, 64, 67, 0.15);\n",
              "      fill: #174EA6;\n",
              "    }\n",
              "\n",
              "    .colab-df-buttons div {\n",
              "      margin-bottom: 4px;\n",
              "    }\n",
              "\n",
              "    [theme=dark] .colab-df-convert {\n",
              "      background-color: #3B4455;\n",
              "      fill: #D2E3FC;\n",
              "    }\n",
              "\n",
              "    [theme=dark] .colab-df-convert:hover {\n",
              "      background-color: #434B5C;\n",
              "      box-shadow: 0px 1px 3px 1px rgba(0, 0, 0, 0.15);\n",
              "      filter: drop-shadow(0px 1px 2px rgba(0, 0, 0, 0.3));\n",
              "      fill: #FFFFFF;\n",
              "    }\n",
              "  </style>\n",
              "\n",
              "    <script>\n",
              "      const buttonEl =\n",
              "        document.querySelector('#df-ef2a227e-429e-4fa8-afc1-eed3a68fa921 button.colab-df-convert');\n",
              "      buttonEl.style.display =\n",
              "        google.colab.kernel.accessAllowed ? 'block' : 'none';\n",
              "\n",
              "      async function convertToInteractive(key) {\n",
              "        const element = document.querySelector('#df-ef2a227e-429e-4fa8-afc1-eed3a68fa921');\n",
              "        const dataTable =\n",
              "          await google.colab.kernel.invokeFunction('convertToInteractive',\n",
              "                                                    [key], {});\n",
              "        if (!dataTable) return;\n",
              "\n",
              "        const docLinkHtml = 'Like what you see? Visit the ' +\n",
              "          '<a target=\"_blank\" href=https://colab.research.google.com/notebooks/data_table.ipynb>data table notebook</a>'\n",
              "          + ' to learn more about interactive tables.';\n",
              "        element.innerHTML = '';\n",
              "        dataTable['output_type'] = 'display_data';\n",
              "        await google.colab.output.renderOutput(dataTable, element);\n",
              "        const docLink = document.createElement('div');\n",
              "        docLink.innerHTML = docLinkHtml;\n",
              "        element.appendChild(docLink);\n",
              "      }\n",
              "    </script>\n",
              "  </div>\n",
              "\n",
              "\n",
              "    <div id=\"df-461a155d-89c7-4fde-a2f7-2ead441b9700\">\n",
              "      <button class=\"colab-df-quickchart\" onclick=\"quickchart('df-461a155d-89c7-4fde-a2f7-2ead441b9700')\"\n",
              "                title=\"Suggest charts\"\n",
              "                style=\"display:none;\">\n",
              "\n",
              "<svg xmlns=\"http://www.w3.org/2000/svg\" height=\"24px\"viewBox=\"0 0 24 24\"\n",
              "     width=\"24px\">\n",
              "    <g>\n",
              "        <path d=\"M19 3H5c-1.1 0-2 .9-2 2v14c0 1.1.9 2 2 2h14c1.1 0 2-.9 2-2V5c0-1.1-.9-2-2-2zM9 17H7v-7h2v7zm4 0h-2V7h2v10zm4 0h-2v-4h2v4z\"/>\n",
              "    </g>\n",
              "</svg>\n",
              "      </button>\n",
              "\n",
              "<style>\n",
              "  .colab-df-quickchart {\n",
              "      --bg-color: #E8F0FE;\n",
              "      --fill-color: #1967D2;\n",
              "      --hover-bg-color: #E2EBFA;\n",
              "      --hover-fill-color: #174EA6;\n",
              "      --disabled-fill-color: #AAA;\n",
              "      --disabled-bg-color: #DDD;\n",
              "  }\n",
              "\n",
              "  [theme=dark] .colab-df-quickchart {\n",
              "      --bg-color: #3B4455;\n",
              "      --fill-color: #D2E3FC;\n",
              "      --hover-bg-color: #434B5C;\n",
              "      --hover-fill-color: #FFFFFF;\n",
              "      --disabled-bg-color: #3B4455;\n",
              "      --disabled-fill-color: #666;\n",
              "  }\n",
              "\n",
              "  .colab-df-quickchart {\n",
              "    background-color: var(--bg-color);\n",
              "    border: none;\n",
              "    border-radius: 50%;\n",
              "    cursor: pointer;\n",
              "    display: none;\n",
              "    fill: var(--fill-color);\n",
              "    height: 32px;\n",
              "    padding: 0;\n",
              "    width: 32px;\n",
              "  }\n",
              "\n",
              "  .colab-df-quickchart:hover {\n",
              "    background-color: var(--hover-bg-color);\n",
              "    box-shadow: 0 1px 2px rgba(60, 64, 67, 0.3), 0 1px 3px 1px rgba(60, 64, 67, 0.15);\n",
              "    fill: var(--button-hover-fill-color);\n",
              "  }\n",
              "\n",
              "  .colab-df-quickchart-complete:disabled,\n",
              "  .colab-df-quickchart-complete:disabled:hover {\n",
              "    background-color: var(--disabled-bg-color);\n",
              "    fill: var(--disabled-fill-color);\n",
              "    box-shadow: none;\n",
              "  }\n",
              "\n",
              "  .colab-df-spinner {\n",
              "    border: 2px solid var(--fill-color);\n",
              "    border-color: transparent;\n",
              "    border-bottom-color: var(--fill-color);\n",
              "    animation:\n",
              "      spin 1s steps(1) infinite;\n",
              "  }\n",
              "\n",
              "  @keyframes spin {\n",
              "    0% {\n",
              "      border-color: transparent;\n",
              "      border-bottom-color: var(--fill-color);\n",
              "      border-left-color: var(--fill-color);\n",
              "    }\n",
              "    20% {\n",
              "      border-color: transparent;\n",
              "      border-left-color: var(--fill-color);\n",
              "      border-top-color: var(--fill-color);\n",
              "    }\n",
              "    30% {\n",
              "      border-color: transparent;\n",
              "      border-left-color: var(--fill-color);\n",
              "      border-top-color: var(--fill-color);\n",
              "      border-right-color: var(--fill-color);\n",
              "    }\n",
              "    40% {\n",
              "      border-color: transparent;\n",
              "      border-right-color: var(--fill-color);\n",
              "      border-top-color: var(--fill-color);\n",
              "    }\n",
              "    60% {\n",
              "      border-color: transparent;\n",
              "      border-right-color: var(--fill-color);\n",
              "    }\n",
              "    80% {\n",
              "      border-color: transparent;\n",
              "      border-right-color: var(--fill-color);\n",
              "      border-bottom-color: var(--fill-color);\n",
              "    }\n",
              "    90% {\n",
              "      border-color: transparent;\n",
              "      border-bottom-color: var(--fill-color);\n",
              "    }\n",
              "  }\n",
              "</style>\n",
              "\n",
              "      <script>\n",
              "        async function quickchart(key) {\n",
              "          const quickchartButtonEl =\n",
              "            document.querySelector('#' + key + ' button');\n",
              "          quickchartButtonEl.disabled = true;  // To prevent multiple clicks.\n",
              "          quickchartButtonEl.classList.add('colab-df-spinner');\n",
              "          try {\n",
              "            const charts = await google.colab.kernel.invokeFunction(\n",
              "                'suggestCharts', [key], {});\n",
              "          } catch (error) {\n",
              "            console.error('Error during call to suggestCharts:', error);\n",
              "          }\n",
              "          quickchartButtonEl.classList.remove('colab-df-spinner');\n",
              "          quickchartButtonEl.classList.add('colab-df-quickchart-complete');\n",
              "        }\n",
              "        (() => {\n",
              "          let quickchartButtonEl =\n",
              "            document.querySelector('#df-461a155d-89c7-4fde-a2f7-2ead441b9700 button');\n",
              "          quickchartButtonEl.style.display =\n",
              "            google.colab.kernel.accessAllowed ? 'block' : 'none';\n",
              "        })();\n",
              "      </script>\n",
              "    </div>\n",
              "    </div>\n",
              "  </div>\n"
            ],
            "application/vnd.google.colaboratory.intrinsic+json": {
              "type": "dataframe",
              "summary": "{\n  \"name\": \"plt\",\n  \"rows\": 9,\n  \"fields\": [\n    {\n      \"column\": \"model\",\n      \"properties\": {\n        \"dtype\": \"string\",\n        \"num_unique_values\": 9,\n        \"samples\": [\n          \"DummyRegressor\",\n          \"RandomForestRegressor\",\n          \"SGDRegressor\"\n        ],\n        \"semantic_type\": \"\",\n        \"description\": \"\"\n      }\n    },\n    {\n      \"column\": \"RSME\",\n      \"properties\": {\n        \"dtype\": \"number\",\n        \"std\": 1784.4386646196394,\n        \"min\": 1628.6597328858372,\n        \"max\": 6916.013166431127,\n        \"num_unique_values\": 9,\n        \"samples\": [\n          4614.346074287126,\n          1643.4226357521704,\n          2349.646254759603\n        ],\n        \"semantic_type\": \"\",\n        \"description\": \"\"\n      }\n    },\n    {\n      \"column\": \"Fit_time\",\n      \"properties\": {\n        \"dtype\": \"number\",\n        \"std\": 110.52610205536722,\n        \"min\": 0.015539884567260742,\n        \"max\": 335.5216434796651,\n        \"num_unique_values\": 9,\n        \"samples\": [\n          0.015539884567260742,\n          335.5216434796651,\n          0.4046186606089274\n        ],\n        \"semantic_type\": \"\",\n        \"description\": \"\"\n      }\n    },\n    {\n      \"column\": \"Predict_time\",\n      \"properties\": {\n        \"dtype\": \"number\",\n        \"std\": 158.36672925212451,\n        \"min\": 0.0020716985066731772,\n        \"max\": 475.4468421936035,\n        \"num_unique_values\": 9,\n        \"samples\": [\n          0.0020716985066731772,\n          0.7072381973266602,\n          0.002818028132120768\n        ],\n        \"semantic_type\": \"\",\n        \"description\": \"\"\n      }\n    }\n  ]\n}"
            }
          },
          "metadata": {}
        },
        {
          "output_type": "display_data",
          "data": {
            "text/plain": [
              "<Figure size 1600x1400 with 1 Axes>"
            ],
            "image/png": "[encoded data removed]"
          },
          "metadata": {}
        }
      ]
    },
    {
      "cell_type": "markdown",
      "source": [
        "## Оценка важности признаков LGBM модели"
      ],
      "metadata": {
        "id": "bpb_u9pZnNXn"
      }
    },
    {
      "cell_type": "code",
      "source": [
        "best_model_LGBM = LGBMRegressor(metric='neg_root_mean_squared_error',\n",
        "                      random_state=RANDOM_STATE,\n",
        "                      verbose= 0)\n",
        "best_model_LGBM.fit(X_transformed,y_train)\n",
        "# Plot feature importances\n",
        "features = data_preprocessor.get_feature_names_out() #X_transformed.columns()\n",
        "importance_values = best_model_LGBM.feature_importances_\n",
        "\n",
        "feat = pd.DataFrame([features,importance_values ]).T\n",
        "feat = feat.rename(columns={ 0:'features',1:'importance_values'}).set_index(['features'])\n",
        "\n",
        "feat = feat.sort_values(['importance_values'],ascending=False)[:15]\n",
        "\n",
        "print(feat)\n",
        "plt.figure(figsize=(16,14))\n",
        "feat.plot.barh()\n",
        "plt.show()"
      ],
      "metadata": {
        "id": "l0WKj1KCz7Kv",
        "colab": {
          "base_uri": "https://localhost:8080/",
          "height": 742
        },
        "outputId": "3ccc6599-d5ee-4809-fa70-5e89c1974cd4"
      },
      "execution_count": 19,
      "outputs": [
        {
          "output_type": "stream",
          "name": "stdout",
          "text": [
            "                             importance_values\n",
            "features                                      \n",
            "num__Power                                 444\n",
            "num__RegistrationYear                      432\n",
            "num__Kilometer                             201\n",
            "ohe__VehicleType_convertible                84\n",
            "ohe__Model_transporter                      83\n",
            "ohe__Repaired_1.0                           82\n",
            "ohe__FuelType_gasoline                      44\n",
            "ohe__Model_3er                              44\n",
            "ohe__Model_a4                               42\n",
            "ohe__Model_e_klasse                         36\n",
            "ohe__VehicleType_suv                        36\n",
            "ohe__Model_a3                               35\n",
            "ohe__Model_golf                             33\n",
            "ohe__Model_c_klasse                         31\n",
            "ohe__Gearbox_1.0                            29\n"
          ]
        },
        {
          "output_type": "display_data",
          "data": {
            "text/plain": [
              "<Figure size 1600x1400 with 0 Axes>"
            ]
          },
          "metadata": {}
        },
        {
          "output_type": "display_data",
          "data": {
            "text/plain": [
              "<Figure size 640x480 with 1 Axes>"
            ],
            "image/png": "[encoded data removed]"
          },
          "metadata": {}
        }
      ]
    },
    {
      "cell_type": "markdown",
      "metadata": {
        "id": "T5Qk7BcXWIUl"
      },
      "source": [
        "## Анализ моделей и выводы"
      ]
    },
    {
      "cell_type": "markdown",
      "metadata": {
        "id": "QKaI5AqRWIUl"
      },
      "source": [
        "- время выполнения лучше у Ridge 5.48 милсек\n",
        "- целевое качество метрики RMSE достигнуто на всех моделях, у catboost лучшая =1519.56\n",
        "- рекомендуемые модели для обучения Catboost и LGBM\n",
        "- значимыми признаками в LGBM модели : Power, RegistrationYear, Kilometer"
      ]
    }
  ],
  "metadata": {
    "ExecuteTimeLog": [
      {
        "duration": 119956,
        "start_time": "2024-10-05T10:41:30.005Z"
      },
      {
        "duration": 2958,
        "start_time": "2024-10-05T10:43:32.124Z"
      },
      {
        "duration": 285,
        "start_time": "2024-10-05T10:43:35.084Z"
      },
      {
        "duration": 0,
        "start_time": "2024-10-05T10:43:35.370Z"
      },
      {
        "duration": 489,
        "start_time": "2024-10-05T10:44:36.454Z"
      },
      {
        "duration": 18,
        "start_time": "2024-10-05T10:50:19.962Z"
      },
      {
        "duration": 63,
        "start_time": "2024-10-05T10:51:46.668Z"
      },
      {
        "duration": 36,
        "start_time": "2024-10-05T10:52:13.836Z"
      },
      {
        "duration": 435,
        "start_time": "2024-10-05T12:51:13.651Z"
      },
      {
        "duration": 371,
        "start_time": "2024-10-05T12:51:46.596Z"
      },
      {
        "duration": 487,
        "start_time": "2024-10-05T12:52:38.853Z"
      },
      {
        "duration": 103,
        "start_time": "2024-10-05T12:58:35.731Z"
      },
      {
        "duration": 117,
        "start_time": "2024-10-05T12:59:21.578Z"
      },
      {
        "duration": 460,
        "start_time": "2024-10-05T13:00:06.452Z"
      },
      {
        "duration": 496,
        "start_time": "2024-10-05T13:03:32.455Z"
      },
      {
        "duration": 525,
        "start_time": "2024-10-05T13:04:52.488Z"
      },
      {
        "duration": 1968,
        "start_time": "2024-10-05T13:13:57.224Z"
      },
      {
        "duration": 517,
        "start_time": "2024-10-05T13:14:42.250Z"
      },
      {
        "duration": 592,
        "start_time": "2024-10-05T13:15:09.172Z"
      },
      {
        "duration": 551,
        "start_time": "2024-10-05T13:15:31.012Z"
      },
      {
        "duration": 638,
        "start_time": "2024-10-05T13:18:41.817Z"
      },
      {
        "duration": 645,
        "start_time": "2024-10-05T13:20:08.105Z"
      },
      {
        "duration": 10,
        "start_time": "2024-10-05T13:36:05.772Z"
      },
      {
        "duration": 1320,
        "start_time": "2024-10-05T13:36:13.965Z"
      },
      {
        "duration": 1120,
        "start_time": "2024-10-05T13:36:22.222Z"
      },
      {
        "duration": 12,
        "start_time": "2024-10-05T13:36:46.365Z"
      },
      {
        "duration": 41,
        "start_time": "2024-10-05T13:36:58.164Z"
      },
      {
        "duration": 486,
        "start_time": "2024-10-05T13:37:02.374Z"
      },
      {
        "duration": 120,
        "start_time": "2024-10-05T13:39:59.022Z"
      },
      {
        "duration": 568,
        "start_time": "2024-10-05T13:40:22.728Z"
      },
      {
        "duration": 369,
        "start_time": "2024-10-05T13:42:04.321Z"
      },
      {
        "duration": 410,
        "start_time": "2024-10-05T13:43:00.433Z"
      },
      {
        "duration": 1742,
        "start_time": "2024-10-05T13:44:26.506Z"
      },
      {
        "duration": 142,
        "start_time": "2024-10-05T13:45:06.795Z"
      },
      {
        "duration": 465,
        "start_time": "2024-10-05T13:45:17.091Z"
      },
      {
        "duration": 403,
        "start_time": "2024-10-05T13:46:46.116Z"
      },
      {
        "duration": 414,
        "start_time": "2024-10-05T13:49:56.335Z"
      },
      {
        "duration": 852,
        "start_time": "2024-10-05T13:53:54.619Z"
      },
      {
        "duration": 2001,
        "start_time": "2024-10-05T14:00:24.440Z"
      },
      {
        "duration": 1828,
        "start_time": "2024-10-05T14:01:00.311Z"
      },
      {
        "duration": 817,
        "start_time": "2024-10-05T14:01:34.552Z"
      },
      {
        "duration": 1699,
        "start_time": "2024-10-05T14:02:52.850Z"
      },
      {
        "duration": 1747,
        "start_time": "2024-10-05T14:03:39.042Z"
      },
      {
        "duration": 356,
        "start_time": "2024-10-05T14:03:50.602Z"
      },
      {
        "duration": 447,
        "start_time": "2024-10-05T14:04:04.274Z"
      },
      {
        "duration": 480,
        "start_time": "2024-10-05T14:05:06.500Z"
      },
      {
        "duration": 657,
        "start_time": "2024-10-05T14:12:54.651Z"
      },
      {
        "duration": 713,
        "start_time": "2024-10-05T14:13:21.003Z"
      },
      {
        "duration": 1687,
        "start_time": "2024-10-05T14:14:12.204Z"
      },
      {
        "duration": 689,
        "start_time": "2024-10-05T14:14:18.093Z"
      },
      {
        "duration": 482,
        "start_time": "2024-10-05T14:14:40.388Z"
      },
      {
        "duration": 408,
        "start_time": "2024-10-05T14:16:18.550Z"
      },
      {
        "duration": 297,
        "start_time": "2024-10-05T14:18:22.015Z"
      },
      {
        "duration": 615,
        "start_time": "2024-10-05T14:19:40.168Z"
      },
      {
        "duration": 592,
        "start_time": "2024-10-05T14:19:51.553Z"
      },
      {
        "duration": 694,
        "start_time": "2024-10-05T14:25:42.856Z"
      },
      {
        "duration": 571,
        "start_time": "2024-10-05T14:26:11.687Z"
      },
      {
        "duration": 670,
        "start_time": "2024-10-05T14:26:17.463Z"
      },
      {
        "duration": 548,
        "start_time": "2024-10-05T14:32:08.508Z"
      },
      {
        "duration": 545,
        "start_time": "2024-10-05T14:34:00.741Z"
      },
      {
        "duration": 2247,
        "start_time": "2024-10-05T14:34:26.575Z"
      },
      {
        "duration": 549,
        "start_time": "2024-10-05T14:36:23.992Z"
      },
      {
        "duration": 546,
        "start_time": "2024-10-05T14:36:25.697Z"
      },
      {
        "duration": 566,
        "start_time": "2024-10-05T14:47:07.586Z"
      },
      {
        "duration": 218,
        "start_time": "2024-10-05T14:47:10.024Z"
      },
      {
        "duration": 12,
        "start_time": "2024-10-05T14:47:30.241Z"
      },
      {
        "duration": 13,
        "start_time": "2024-10-05T14:51:45.381Z"
      },
      {
        "duration": 510,
        "start_time": "2024-10-05T15:07:15.762Z"
      },
      {
        "duration": 2199,
        "start_time": "2024-10-05T15:07:18.801Z"
      },
      {
        "duration": 1193,
        "start_time": "2024-10-05T15:08:27.173Z"
      },
      {
        "duration": 534,
        "start_time": "2024-10-05T15:08:32.996Z"
      },
      {
        "duration": 1357,
        "start_time": "2024-10-05T15:08:34.962Z"
      },
      {
        "duration": 487,
        "start_time": "2024-10-05T15:08:51.235Z"
      },
      {
        "duration": 510,
        "start_time": "2024-10-05T15:09:28.932Z"
      },
      {
        "duration": 551,
        "start_time": "2024-10-05T15:09:42.165Z"
      },
      {
        "duration": 516,
        "start_time": "2024-10-05T15:10:43.246Z"
      },
      {
        "duration": 545,
        "start_time": "2024-10-05T15:17:27.292Z"
      },
      {
        "duration": 77,
        "start_time": "2024-10-05T15:17:32.997Z"
      },
      {
        "duration": 507,
        "start_time": "2024-10-05T15:19:22.031Z"
      },
      {
        "duration": 709,
        "start_time": "2024-10-05T15:19:25.612Z"
      },
      {
        "duration": 3,
        "start_time": "2024-10-05T15:35:26.373Z"
      },
      {
        "duration": 1949,
        "start_time": "2024-10-05T15:46:40.372Z"
      },
      {
        "duration": 4,
        "start_time": "2024-10-05T15:46:42.323Z"
      },
      {
        "duration": 1863,
        "start_time": "2024-10-05T15:46:42.329Z"
      },
      {
        "duration": 635,
        "start_time": "2024-10-05T15:46:44.194Z"
      },
      {
        "duration": 12462,
        "start_time": "2024-10-05T15:46:44.832Z"
      },
      {
        "duration": 4,
        "start_time": "2024-10-05T15:49:34.439Z"
      },
      {
        "duration": 546,
        "start_time": "2024-10-05T15:49:39.438Z"
      },
      {
        "duration": 5645,
        "start_time": "2024-10-05T15:49:49.504Z"
      },
      {
        "duration": 76,
        "start_time": "2024-10-05T15:57:02.590Z"
      },
      {
        "duration": 2342,
        "start_time": "2024-10-05T15:57:25.125Z"
      },
      {
        "duration": 11,
        "start_time": "2024-10-05T15:59:40.024Z"
      },
      {
        "duration": 11,
        "start_time": "2024-10-05T16:02:22.866Z"
      },
      {
        "duration": 14,
        "start_time": "2024-10-05T16:03:37.379Z"
      },
      {
        "duration": 12,
        "start_time": "2024-10-05T16:08:11.513Z"
      },
      {
        "duration": 1898,
        "start_time": "2024-10-05T16:08:15.104Z"
      },
      {
        "duration": 563,
        "start_time": "2024-10-05T16:08:20.679Z"
      },
      {
        "duration": 14,
        "start_time": "2024-10-05T16:08:24.690Z"
      },
      {
        "duration": 15,
        "start_time": "2024-10-05T16:09:31.105Z"
      },
      {
        "duration": 1845,
        "start_time": "2024-10-05T16:09:39.369Z"
      },
      {
        "duration": 561,
        "start_time": "2024-10-05T16:09:50.529Z"
      },
      {
        "duration": 21,
        "start_time": "2024-10-05T16:09:55.505Z"
      },
      {
        "duration": 16,
        "start_time": "2024-10-05T16:10:31.579Z"
      },
      {
        "duration": 11,
        "start_time": "2024-10-05T16:11:20.930Z"
      },
      {
        "duration": 26,
        "start_time": "2024-10-05T16:11:29.099Z"
      },
      {
        "duration": 1973,
        "start_time": "2024-10-05T16:11:54.770Z"
      },
      {
        "duration": 4,
        "start_time": "2024-10-05T16:12:14.843Z"
      },
      {
        "duration": 1926,
        "start_time": "2024-10-05T16:12:17.413Z"
      },
      {
        "duration": 622,
        "start_time": "2024-10-05T16:12:25.779Z"
      },
      {
        "duration": 8,
        "start_time": "2024-10-05T16:12:28.747Z"
      },
      {
        "duration": 9,
        "start_time": "2024-10-05T16:12:37.651Z"
      },
      {
        "duration": 12,
        "start_time": "2024-10-05T16:13:08.339Z"
      },
      {
        "duration": 4,
        "start_time": "2024-10-05T16:13:32.379Z"
      },
      {
        "duration": 645,
        "start_time": "2024-10-05T16:13:39.796Z"
      },
      {
        "duration": 12,
        "start_time": "2024-10-05T16:13:43.715Z"
      },
      {
        "duration": 2394,
        "start_time": "2024-10-05T16:13:59.589Z"
      },
      {
        "duration": 1140,
        "start_time": "2024-10-05T16:18:33.281Z"
      },
      {
        "duration": 17,
        "start_time": "2024-10-05T16:19:21.610Z"
      },
      {
        "duration": 31,
        "start_time": "2024-10-05T16:22:08.469Z"
      },
      {
        "duration": 28,
        "start_time": "2024-10-05T16:24:37.077Z"
      },
      {
        "duration": 1105,
        "start_time": "2024-10-05T16:24:54.278Z"
      },
      {
        "duration": 1364,
        "start_time": "2024-10-05T21:11:25.048Z"
      },
      {
        "duration": 1089,
        "start_time": "2024-10-05T21:56:51.928Z"
      },
      {
        "duration": 84,
        "start_time": "2024-10-05T22:15:48.015Z"
      },
      {
        "duration": 12,
        "start_time": "2024-10-05T22:16:05.758Z"
      },
      {
        "duration": 532,
        "start_time": "2024-10-05T22:17:24.049Z"
      },
      {
        "duration": 16,
        "start_time": "2024-10-05T22:22:05.182Z"
      },
      {
        "duration": 11,
        "start_time": "2024-10-05T22:24:33.393Z"
      },
      {
        "duration": 11,
        "start_time": "2024-10-05T22:25:30.768Z"
      },
      {
        "duration": 1088,
        "start_time": "2024-10-05T22:25:58.800Z"
      },
      {
        "duration": 1138,
        "start_time": "2024-10-05T22:27:49.098Z"
      },
      {
        "duration": 63,
        "start_time": "2024-10-06T15:09:03.704Z"
      },
      {
        "duration": 120621,
        "start_time": "2024-10-06T15:09:42.046Z"
      },
      {
        "duration": 2448,
        "start_time": "2024-10-06T15:11:42.669Z"
      },
      {
        "duration": 4098,
        "start_time": "2024-10-06T15:11:45.119Z"
      },
      {
        "duration": 210,
        "start_time": "2024-10-06T15:11:49.219Z"
      },
      {
        "duration": 0,
        "start_time": "2024-10-06T15:11:49.431Z"
      },
      {
        "duration": 0,
        "start_time": "2024-10-06T15:11:49.432Z"
      },
      {
        "duration": 2240,
        "start_time": "2024-10-06T15:12:45.740Z"
      },
      {
        "duration": 4,
        "start_time": "2024-10-06T15:12:47.983Z"
      },
      {
        "duration": 2125,
        "start_time": "2024-10-06T15:12:49.745Z"
      },
      {
        "duration": 678,
        "start_time": "2024-10-06T15:12:54.552Z"
      },
      {
        "duration": 2762,
        "start_time": "2024-10-06T15:13:02.147Z"
      },
      {
        "duration": 1382,
        "start_time": "2024-10-06T15:13:08.345Z"
      },
      {
        "duration": 10,
        "start_time": "2024-10-06T18:49:20.376Z"
      },
      {
        "duration": 29,
        "start_time": "2024-10-06T19:14:26.509Z"
      },
      {
        "duration": 56418,
        "start_time": "2024-10-06T19:15:35.085Z"
      },
      {
        "duration": 37,
        "start_time": "2024-10-06T19:18:42.712Z"
      },
      {
        "duration": 14,
        "start_time": "2024-10-06T19:18:50.272Z"
      },
      {
        "duration": 2693,
        "start_time": "2024-10-06T19:30:44.241Z"
      },
      {
        "duration": 1143,
        "start_time": "2024-10-06T19:31:26.284Z"
      },
      {
        "duration": 2350,
        "start_time": "2024-10-06T19:33:14.965Z"
      },
      {
        "duration": 5,
        "start_time": "2024-10-06T19:33:17.319Z"
      },
      {
        "duration": 2335,
        "start_time": "2024-10-06T19:33:18.132Z"
      },
      {
        "duration": 692,
        "start_time": "2024-10-06T19:33:26.228Z"
      },
      {
        "duration": 3159,
        "start_time": "2024-10-06T19:33:31.853Z"
      },
      {
        "duration": 253872,
        "start_time": "2024-10-06T19:33:43.014Z"
      },
      {
        "duration": 0,
        "start_time": "2024-10-06T19:37:56.889Z"
      },
      {
        "duration": 84,
        "start_time": "2024-10-06T19:38:17.034Z"
      },
      {
        "duration": 16,
        "start_time": "2024-10-06T19:38:47.369Z"
      },
      {
        "duration": 9,
        "start_time": "2024-10-06T19:39:55.498Z"
      },
      {
        "duration": 17,
        "start_time": "2024-10-06T19:40:05.322Z"
      },
      {
        "duration": 16,
        "start_time": "2024-10-06T19:40:14.222Z"
      },
      {
        "duration": 14,
        "start_time": "2024-10-06T19:43:48.373Z"
      },
      {
        "duration": 8,
        "start_time": "2024-10-06T19:44:08.854Z"
      },
      {
        "duration": 14,
        "start_time": "2024-10-06T19:44:15.703Z"
      },
      {
        "duration": 71,
        "start_time": "2024-10-06T19:45:33.007Z"
      },
      {
        "duration": 8,
        "start_time": "2024-10-06T19:45:40.439Z"
      },
      {
        "duration": 17,
        "start_time": "2024-10-06T19:46:05.967Z"
      },
      {
        "duration": 17,
        "start_time": "2024-10-06T19:46:37.480Z"
      },
      {
        "duration": 843,
        "start_time": "2024-10-06T19:53:16.575Z"
      },
      {
        "duration": 2739,
        "start_time": "2024-10-06T19:54:23.606Z"
      },
      {
        "duration": 69,
        "start_time": "2024-10-06T19:58:29.859Z"
      },
      {
        "duration": 64,
        "start_time": "2024-10-06T19:58:44.755Z"
      },
      {
        "duration": 18,
        "start_time": "2024-10-06T19:58:56.282Z"
      },
      {
        "duration": 22,
        "start_time": "2024-10-06T20:01:18.334Z"
      },
      {
        "duration": 18,
        "start_time": "2024-10-06T20:05:24.689Z"
      },
      {
        "duration": 19,
        "start_time": "2024-10-06T20:05:45.320Z"
      },
      {
        "duration": 39,
        "start_time": "2024-10-06T20:07:08.955Z"
      },
      {
        "duration": 991304,
        "start_time": "2024-10-06T20:09:14.204Z"
      },
      {
        "duration": 9,
        "start_time": "2024-10-07T05:39:54.243Z"
      },
      {
        "duration": 48,
        "start_time": "2024-10-07T05:40:12.936Z"
      },
      {
        "duration": 1520,
        "start_time": "2024-10-07T05:40:21.428Z"
      },
      {
        "duration": 0,
        "start_time": "2024-10-07T05:40:22.950Z"
      },
      {
        "duration": 115901,
        "start_time": "2024-10-07T05:40:34.979Z"
      },
      {
        "duration": 778,
        "start_time": "2024-10-07T05:42:30.882Z"
      },
      {
        "duration": 5,
        "start_time": "2024-10-07T05:42:31.661Z"
      },
      {
        "duration": 103,
        "start_time": "2024-10-07T05:42:31.668Z"
      },
      {
        "duration": 0,
        "start_time": "2024-10-07T05:42:31.773Z"
      },
      {
        "duration": 0,
        "start_time": "2024-10-07T05:42:31.774Z"
      },
      {
        "duration": 0,
        "start_time": "2024-10-07T05:42:31.775Z"
      },
      {
        "duration": 12,
        "start_time": "2024-10-07T05:43:21.220Z"
      },
      {
        "duration": 13,
        "start_time": "2024-10-07T05:43:31.716Z"
      },
      {
        "duration": 2483,
        "start_time": "2024-10-07T05:44:11.037Z"
      },
      {
        "duration": 5,
        "start_time": "2024-10-07T05:44:15.285Z"
      },
      {
        "duration": 4274,
        "start_time": "2024-10-07T05:44:18.869Z"
      },
      {
        "duration": 639,
        "start_time": "2024-10-07T05:44:27.214Z"
      },
      {
        "duration": 2835,
        "start_time": "2024-10-07T05:44:32.070Z"
      },
      {
        "duration": 963676,
        "start_time": "2024-10-07T05:44:39.685Z"
      },
      {
        "duration": 0,
        "start_time": "2024-10-07T06:00:43.364Z"
      },
      {
        "duration": 15,
        "start_time": "2024-10-07T06:08:34.674Z"
      },
      {
        "duration": 1018336,
        "start_time": "2024-10-07T06:09:16.683Z"
      },
      {
        "duration": 966718,
        "start_time": "2024-10-07T09:01:34.191Z"
      },
      {
        "duration": 953288,
        "start_time": "2024-10-07T14:03:05.238Z"
      },
      {
        "duration": 17,
        "start_time": "2024-10-07T14:50:10.278Z"
      },
      {
        "duration": 184641,
        "start_time": "2024-10-07T14:50:24.804Z"
      },
      {
        "duration": 949103,
        "start_time": "2024-10-07T14:53:29.448Z"
      },
      {
        "duration": 2552,
        "start_time": "2024-10-07T17:29:36.329Z"
      },
      {
        "duration": 1689,
        "start_time": "2024-10-07T17:33:58.630Z"
      },
      {
        "duration": 1479,
        "start_time": "2024-10-07T17:34:34.092Z"
      },
      {
        "duration": 2686,
        "start_time": "2024-10-07T17:35:56.214Z"
      },
      {
        "duration": 2546,
        "start_time": "2024-10-07T17:37:51.255Z"
      },
      {
        "duration": 606,
        "start_time": "2024-10-07T17:38:34.799Z"
      },
      {
        "duration": 2632,
        "start_time": "2024-10-07T17:38:37.527Z"
      },
      {
        "duration": 3848,
        "start_time": "2024-10-07T17:39:01.537Z"
      },
      {
        "duration": 2727,
        "start_time": "2024-10-07T17:39:19.289Z"
      },
      {
        "duration": 950983,
        "start_time": "2024-10-07T17:41:31.042Z"
      },
      {
        "duration": 194911,
        "start_time": "2024-10-07T17:57:22.028Z"
      },
      {
        "duration": 13,
        "start_time": "2024-10-07T18:00:36.941Z"
      },
      {
        "duration": 0,
        "start_time": "2024-10-07T18:00:36.956Z"
      },
      {
        "duration": 28,
        "start_time": "2024-10-07T21:09:12.730Z"
      },
      {
        "duration": 5,
        "start_time": "2024-10-07T21:09:37.640Z"
      },
      {
        "duration": 15,
        "start_time": "2024-10-07T21:09:43.048Z"
      },
      {
        "duration": 75,
        "start_time": "2024-10-07T21:10:27.993Z"
      },
      {
        "duration": 73,
        "start_time": "2024-10-07T21:20:10.770Z"
      },
      {
        "duration": 88,
        "start_time": "2024-10-07T21:23:02.188Z"
      },
      {
        "duration": 16577,
        "start_time": "2024-10-07T21:23:35.174Z"
      },
      {
        "duration": 15889,
        "start_time": "2024-10-07T22:32:02.459Z"
      },
      {
        "duration": 16704,
        "start_time": "2024-10-07T22:39:24.552Z"
      },
      {
        "duration": 107838,
        "start_time": "2024-10-08T03:35:44.571Z"
      },
      {
        "duration": 2365,
        "start_time": "2024-10-08T03:37:32.412Z"
      },
      {
        "duration": 4,
        "start_time": "2024-10-08T03:37:34.779Z"
      },
      {
        "duration": 4169,
        "start_time": "2024-10-08T03:37:34.784Z"
      },
      {
        "duration": 593,
        "start_time": "2024-10-08T03:37:38.955Z"
      },
      {
        "duration": 401,
        "start_time": "2024-10-08T03:37:39.549Z"
      },
      {
        "duration": 0,
        "start_time": "2024-10-08T03:37:39.952Z"
      },
      {
        "duration": 0,
        "start_time": "2024-10-08T03:37:39.953Z"
      },
      {
        "duration": 0,
        "start_time": "2024-10-08T03:37:39.954Z"
      },
      {
        "duration": 0,
        "start_time": "2024-10-08T03:37:39.955Z"
      },
      {
        "duration": 0,
        "start_time": "2024-10-08T03:37:39.956Z"
      },
      {
        "duration": 0,
        "start_time": "2024-10-08T03:37:39.957Z"
      },
      {
        "duration": 0,
        "start_time": "2024-10-08T03:37:39.958Z"
      },
      {
        "duration": 398,
        "start_time": "2024-10-08T03:40:05.215Z"
      },
      {
        "duration": 915970,
        "start_time": "2024-10-08T03:40:14.870Z"
      },
      {
        "duration": 180425,
        "start_time": "2024-10-08T03:55:30.842Z"
      },
      {
        "duration": 5,
        "start_time": "2024-10-08T03:58:31.268Z"
      },
      {
        "duration": 15317,
        "start_time": "2024-10-08T03:58:31.275Z"
      },
      {
        "duration": 0,
        "start_time": "2024-10-08T03:58:46.594Z"
      },
      {
        "duration": 0,
        "start_time": "2024-10-08T03:58:46.595Z"
      },
      {
        "duration": 290,
        "start_time": "2024-10-08T04:32:25.964Z"
      },
      {
        "duration": 2458,
        "start_time": "2024-10-08T04:32:42.795Z"
      },
      {
        "duration": 175220,
        "start_time": "2024-10-08T04:34:33.877Z"
      },
      {
        "duration": 10,
        "start_time": "2024-10-08T05:54:31.964Z"
      },
      {
        "duration": 7,
        "start_time": "2024-10-08T05:55:38.491Z"
      },
      {
        "duration": 21,
        "start_time": "2024-10-08T05:56:45.180Z"
      },
      {
        "duration": 14779,
        "start_time": "2024-10-08T05:57:42.806Z"
      },
      {
        "duration": 120,
        "start_time": "2024-10-08T15:47:56.280Z"
      },
      {
        "duration": 910408,
        "start_time": "2024-10-08T15:48:06.552Z"
      },
      {
        "duration": 0,
        "start_time": "2024-10-08T16:03:16.961Z"
      },
      {
        "duration": 5,
        "start_time": "2024-10-08T16:07:24.896Z"
      },
      {
        "duration": 15126,
        "start_time": "2024-10-08T16:07:25.520Z"
      },
      {
        "duration": 28,
        "start_time": "2024-10-08T18:17:33.347Z"
      },
      {
        "duration": 182,
        "start_time": "2024-10-08T18:18:41.514Z"
      },
      {
        "duration": 4,
        "start_time": "2024-10-08T18:20:23.867Z"
      },
      {
        "duration": 60,
        "start_time": "2024-10-08T18:30:34.349Z"
      },
      {
        "duration": 45375,
        "start_time": "2024-10-08T18:31:00.883Z"
      },
      {
        "duration": 4576,
        "start_time": "2024-10-08T18:31:46.261Z"
      },
      {
        "duration": 5,
        "start_time": "2024-10-08T18:31:50.839Z"
      },
      {
        "duration": 4258,
        "start_time": "2024-10-08T18:31:50.846Z"
      },
      {
        "duration": 601,
        "start_time": "2024-10-08T18:31:55.106Z"
      },
      {
        "duration": 2699,
        "start_time": "2024-10-08T18:31:55.709Z"
      },
      {
        "duration": 945472,
        "start_time": "2024-10-08T18:31:58.410Z"
      },
      {
        "duration": 195,
        "start_time": "2024-10-08T18:47:43.885Z"
      },
      {
        "duration": 5,
        "start_time": "2024-10-08T18:47:44.083Z"
      },
      {
        "duration": 61,
        "start_time": "2024-10-08T19:11:45.986Z"
      },
      {
        "duration": 9,
        "start_time": "2024-10-08T19:12:00.672Z"
      },
      {
        "duration": 4617,
        "start_time": "2024-10-08T19:12:20.041Z"
      },
      {
        "duration": 5,
        "start_time": "2024-10-08T19:12:24.660Z"
      },
      {
        "duration": 4274,
        "start_time": "2024-10-08T19:12:26.905Z"
      },
      {
        "duration": 630,
        "start_time": "2024-10-08T19:12:36.241Z"
      },
      {
        "duration": 2646,
        "start_time": "2024-10-08T19:12:49.426Z"
      },
      {
        "duration": 5,
        "start_time": "2024-10-08T19:12:55.553Z"
      },
      {
        "duration": 58,
        "start_time": "2024-10-08T19:20:56.344Z"
      },
      {
        "duration": 4747,
        "start_time": "2024-10-08T19:21:06.857Z"
      },
      {
        "duration": 5,
        "start_time": "2024-10-08T19:21:11.607Z"
      },
      {
        "duration": 4206,
        "start_time": "2024-10-08T19:21:19.057Z"
      },
      {
        "duration": 592,
        "start_time": "2024-10-08T19:21:29.256Z"
      },
      {
        "duration": 2647,
        "start_time": "2024-10-08T19:21:38.689Z"
      },
      {
        "duration": 133,
        "start_time": "2024-10-08T19:21:49.769Z"
      },
      {
        "duration": 5,
        "start_time": "2024-10-08T19:21:58.345Z"
      },
      {
        "duration": 5,
        "start_time": "2024-10-08T19:22:08.457Z"
      },
      {
        "duration": 742,
        "start_time": "2024-10-08T19:22:19.273Z"
      },
      {
        "duration": 4995,
        "start_time": "2024-10-08T19:24:58.253Z"
      },
      {
        "duration": 4,
        "start_time": "2024-10-08T19:25:03.251Z"
      },
      {
        "duration": 4162,
        "start_time": "2024-10-08T19:25:07.220Z"
      },
      {
        "duration": 663,
        "start_time": "2024-10-08T19:25:11.384Z"
      },
      {
        "duration": 2627,
        "start_time": "2024-10-08T19:25:19.605Z"
      },
      {
        "duration": 5,
        "start_time": "2024-10-08T19:25:30.956Z"
      },
      {
        "duration": 45712,
        "start_time": "2024-10-08T19:29:22.128Z"
      },
      {
        "duration": 4509,
        "start_time": "2024-10-08T19:30:07.844Z"
      },
      {
        "duration": 5,
        "start_time": "2024-10-08T19:30:12.355Z"
      },
      {
        "duration": 4228,
        "start_time": "2024-10-08T19:30:12.363Z"
      },
      {
        "duration": 607,
        "start_time": "2024-10-08T19:30:16.593Z"
      },
      {
        "duration": 2700,
        "start_time": "2024-10-08T19:30:17.203Z"
      },
      {
        "duration": 5,
        "start_time": "2024-10-08T19:30:19.905Z"
      },
      {
        "duration": 4319,
        "start_time": "2024-10-08T19:37:39.182Z"
      },
      {
        "duration": 5,
        "start_time": "2024-10-08T19:37:43.503Z"
      },
      {
        "duration": 4198,
        "start_time": "2024-10-08T19:37:46.398Z"
      },
      {
        "duration": 590,
        "start_time": "2024-10-08T19:38:39.983Z"
      },
      {
        "duration": 5,
        "start_time": "2024-10-08T19:41:09.474Z"
      },
      {
        "duration": 57,
        "start_time": "2024-10-08T20:03:48.999Z"
      },
      {
        "duration": 5184,
        "start_time": "2024-10-08T20:04:03.503Z"
      },
      {
        "duration": 6,
        "start_time": "2024-10-08T20:04:08.691Z"
      },
      {
        "duration": 4215,
        "start_time": "2024-10-08T20:04:08.699Z"
      },
      {
        "duration": 603,
        "start_time": "2024-10-08T20:04:14.574Z"
      },
      {
        "duration": 133,
        "start_time": "2024-10-08T20:04:48.607Z"
      },
      {
        "duration": 65,
        "start_time": "2024-10-08T20:08:25.323Z"
      },
      {
        "duration": 13,
        "start_time": "2024-10-08T20:09:44.068Z"
      },
      {
        "duration": 334,
        "start_time": "2024-10-08T20:11:06.981Z"
      },
      {
        "duration": 794,
        "start_time": "2024-10-08T20:12:38.158Z"
      },
      {
        "duration": 51,
        "start_time": "2024-10-08T20:13:30.408Z"
      },
      {
        "duration": 58,
        "start_time": "2024-10-08T20:19:38.997Z"
      },
      {
        "duration": 40,
        "start_time": "2024-10-08T20:19:51.220Z"
      },
      {
        "duration": 113,
        "start_time": "2024-10-08T20:20:10.373Z"
      },
      {
        "duration": 56,
        "start_time": "2024-10-08T20:20:25.852Z"
      },
      {
        "duration": 35,
        "start_time": "2024-10-08T20:22:47.023Z"
      },
      {
        "duration": 48,
        "start_time": "2024-10-08T20:27:13.139Z"
      },
      {
        "duration": 71,
        "start_time": "2024-10-08T20:29:16.509Z"
      },
      {
        "duration": 37,
        "start_time": "2024-10-08T20:31:08.087Z"
      },
      {
        "duration": 596,
        "start_time": "2024-10-08T20:35:20.978Z"
      },
      {
        "duration": 105860,
        "start_time": "2024-10-09T03:13:09.997Z"
      },
      {
        "duration": 2234,
        "start_time": "2024-10-09T03:14:55.859Z"
      },
      {
        "duration": 5,
        "start_time": "2024-10-09T03:14:58.095Z"
      },
      {
        "duration": 2401,
        "start_time": "2024-10-09T03:14:58.102Z"
      },
      {
        "duration": 620,
        "start_time": "2024-10-09T03:15:00.505Z"
      },
      {
        "duration": 1860,
        "start_time": "2024-10-09T03:15:01.126Z"
      },
      {
        "duration": 885806,
        "start_time": "2024-10-09T03:15:02.987Z"
      },
      {
        "duration": 705,
        "start_time": "2024-10-09T03:29:48.795Z"
      },
      {
        "duration": 0,
        "start_time": "2024-10-09T03:29:49.502Z"
      },
      {
        "duration": 170,
        "start_time": "2024-10-09T03:33:40.765Z"
      },
      {
        "duration": 2200,
        "start_time": "2024-10-09T08:17:17.118Z"
      },
      {
        "duration": 5,
        "start_time": "2024-10-09T08:17:19.320Z"
      },
      {
        "duration": 2176,
        "start_time": "2024-10-09T08:17:19.877Z"
      },
      {
        "duration": 605,
        "start_time": "2024-10-09T08:17:22.056Z"
      },
      {
        "duration": 1956,
        "start_time": "2024-10-09T08:17:36.926Z"
      },
      {
        "duration": 378700,
        "start_time": "2024-10-09T08:20:59.785Z"
      },
      {
        "duration": 686,
        "start_time": "2024-10-09T08:27:18.487Z"
      },
      {
        "duration": 496,
        "start_time": "2024-10-09T14:13:48.095Z"
      },
      {
        "duration": 110057,
        "start_time": "2024-10-11T09:00:27.817Z"
      },
      {
        "duration": 2152,
        "start_time": "2024-10-11T09:02:17.876Z"
      },
      {
        "duration": 4,
        "start_time": "2024-10-11T09:02:20.029Z"
      },
      {
        "duration": 3789,
        "start_time": "2024-10-11T09:02:20.034Z"
      },
      {
        "duration": 522,
        "start_time": "2024-10-11T09:02:23.825Z"
      },
      {
        "duration": 1618,
        "start_time": "2024-10-11T09:02:24.349Z"
      },
      {
        "duration": 161,
        "start_time": "2024-10-11T09:02:25.969Z"
      },
      {
        "duration": 0,
        "start_time": "2024-10-11T09:02:26.132Z"
      },
      {
        "duration": 904365,
        "start_time": "2024-10-11T09:03:19.293Z"
      },
      {
        "duration": 165,
        "start_time": "2024-10-11T09:18:23.660Z"
      },
      {
        "duration": 1383,
        "start_time": "2024-10-13T12:53:18.471Z"
      },
      {
        "duration": 112653,
        "start_time": "2024-10-13T12:53:27.494Z"
      },
      {
        "duration": 55,
        "start_time": "2024-10-14T17:28:57.674Z"
      },
      {
        "duration": 1381,
        "start_time": "2024-10-15T03:38:22.806Z"
      },
      {
        "duration": 107530,
        "start_time": "2024-10-15T03:38:44.828Z"
      },
      {
        "duration": 623,
        "start_time": "2024-10-15T03:40:40.510Z"
      },
      {
        "duration": 4,
        "start_time": "2024-10-15T03:42:18.350Z"
      },
      {
        "duration": 75,
        "start_time": "2024-10-15T03:42:19.543Z"
      },
      {
        "duration": 2978,
        "start_time": "2024-10-15T03:42:47.519Z"
      },
      {
        "duration": 7,
        "start_time": "2024-10-15T03:43:58.097Z"
      },
      {
        "duration": 5,
        "start_time": "2024-10-15T03:44:00.992Z"
      },
      {
        "duration": 904,
        "start_time": "2024-10-15T03:44:02.369Z"
      },
      {
        "duration": 10,
        "start_time": "2024-10-15T03:46:40.331Z"
      },
      {
        "duration": 47124,
        "start_time": "2024-10-15T05:25:49.649Z"
      },
      {
        "duration": 8,
        "start_time": "2024-10-15T05:26:36.775Z"
      },
      {
        "duration": 20,
        "start_time": "2024-10-15T05:26:36.785Z"
      },
      {
        "duration": 20,
        "start_time": "2024-10-15T05:26:36.806Z"
      },
      {
        "duration": 11,
        "start_time": "2024-10-15T05:30:33.316Z"
      },
      {
        "duration": 10,
        "start_time": "2024-10-15T05:31:35.557Z"
      },
      {
        "duration": 10,
        "start_time": "2024-10-15T05:31:43.902Z"
      },
      {
        "duration": 77,
        "start_time": "2024-10-15T05:31:59.478Z"
      },
      {
        "duration": 89,
        "start_time": "2024-10-15T05:33:05.239Z"
      },
      {
        "duration": 974,
        "start_time": "2024-10-15T05:33:31.519Z"
      },
      {
        "duration": 330,
        "start_time": "2024-10-15T05:33:39.551Z"
      },
      {
        "duration": 2029,
        "start_time": "2024-10-15T05:35:45.202Z"
      },
      {
        "duration": 1709,
        "start_time": "2024-10-15T05:37:05.946Z"
      },
      {
        "duration": 745,
        "start_time": "2024-10-15T05:37:41.163Z"
      },
      {
        "duration": 1036,
        "start_time": "2024-10-15T05:38:22.299Z"
      },
      {
        "duration": 1544,
        "start_time": "2024-10-15T05:39:34.701Z"
      },
      {
        "duration": 1583,
        "start_time": "2024-10-15T05:40:28.853Z"
      },
      {
        "duration": 1877,
        "start_time": "2024-10-15T10:20:33.152Z"
      },
      {
        "duration": 4,
        "start_time": "2024-10-15T10:20:36.544Z"
      },
      {
        "duration": 1555,
        "start_time": "2024-10-15T10:20:59.600Z"
      },
      {
        "duration": 555,
        "start_time": "2024-10-15T13:59:34.671Z"
      },
      {
        "duration": 1734,
        "start_time": "2024-10-15T13:59:45.120Z"
      },
      {
        "duration": 62,
        "start_time": "2024-10-15T16:41:54.528Z"
      },
      {
        "duration": 69,
        "start_time": "2024-10-15T16:43:00.632Z"
      },
      {
        "duration": 187619,
        "start_time": "2024-10-15T16:43:30.248Z"
      },
      {
        "duration": 151,
        "start_time": "2024-10-15T16:46:37.869Z"
      },
      {
        "duration": 49032,
        "start_time": "2024-10-15T16:47:58.388Z"
      },
      {
        "duration": 95,
        "start_time": "2024-10-15T16:53:54.569Z"
      },
      {
        "duration": 5,
        "start_time": "2024-10-15T16:54:13.460Z"
      },
      {
        "duration": 153,
        "start_time": "2024-10-15T17:21:36.120Z"
      },
      {
        "duration": 8,
        "start_time": "2024-10-15T17:22:36.778Z"
      },
      {
        "duration": 31,
        "start_time": "2024-10-15T17:22:46.938Z"
      },
      {
        "duration": 5,
        "start_time": "2024-10-15T17:30:07.008Z"
      },
      {
        "duration": 144,
        "start_time": "2024-10-15T17:30:17.897Z"
      },
      {
        "duration": 5,
        "start_time": "2024-10-15T17:31:16.842Z"
      },
      {
        "duration": 138,
        "start_time": "2024-10-15T17:31:22.586Z"
      },
      {
        "duration": 5,
        "start_time": "2024-10-15T17:32:07.170Z"
      },
      {
        "duration": 1129,
        "start_time": "2024-10-15T17:32:15.546Z"
      },
      {
        "duration": 5,
        "start_time": "2024-10-15T17:32:55.707Z"
      },
      {
        "duration": 716,
        "start_time": "2024-10-15T17:33:06.078Z"
      },
      {
        "duration": 5,
        "start_time": "2024-10-15T17:33:58.540Z"
      },
      {
        "duration": 136,
        "start_time": "2024-10-15T17:34:06.052Z"
      },
      {
        "duration": 4,
        "start_time": "2024-10-15T17:35:46.678Z"
      },
      {
        "duration": 676,
        "start_time": "2024-10-15T17:35:54.045Z"
      },
      {
        "duration": 67,
        "start_time": "2024-10-15T18:02:58.982Z"
      },
      {
        "duration": 15,
        "start_time": "2024-10-15T18:03:20.798Z"
      },
      {
        "duration": 12,
        "start_time": "2024-10-15T18:12:17.454Z"
      },
      {
        "duration": 1174,
        "start_time": "2024-10-15T18:12:44.326Z"
      },
      {
        "duration": 1163,
        "start_time": "2024-10-15T18:14:08.919Z"
      },
      {
        "duration": 101742,
        "start_time": "2024-10-15T18:17:14.372Z"
      },
      {
        "duration": 8,
        "start_time": "2024-10-20T14:57:18.942Z"
      },
      {
        "duration": 196,
        "start_time": "2024-10-20T14:57:25.142Z"
      },
      {
        "duration": 65,
        "start_time": "2024-10-20T14:57:54.319Z"
      },
      {
        "duration": 2425,
        "start_time": "2024-10-20T14:58:39.551Z"
      },
      {
        "duration": 178,
        "start_time": "2024-10-20T15:00:52.321Z"
      },
      {
        "duration": 1885,
        "start_time": "2024-10-20T15:01:05.025Z"
      },
      {
        "duration": 67,
        "start_time": "2024-10-20T15:17:04.280Z"
      },
      {
        "duration": 859,
        "start_time": "2024-10-20T15:23:52.192Z"
      },
      {
        "duration": 65,
        "start_time": "2024-10-20T15:24:41.183Z"
      },
      {
        "duration": 100,
        "start_time": "2024-10-20T15:25:10.431Z"
      },
      {
        "duration": 68,
        "start_time": "2024-10-20T15:26:29.672Z"
      },
      {
        "duration": 55,
        "start_time": "2024-10-20T15:26:50.648Z"
      },
      {
        "duration": 74,
        "start_time": "2024-10-20T15:27:00.409Z"
      },
      {
        "duration": 804,
        "start_time": "2024-10-20T15:28:03.490Z"
      },
      {
        "duration": 8,
        "start_time": "2024-10-20T15:29:19.354Z"
      },
      {
        "duration": 779,
        "start_time": "2024-10-20T15:30:25.428Z"
      },
      {
        "duration": 751,
        "start_time": "2024-10-20T15:31:09.573Z"
      },
      {
        "duration": 795,
        "start_time": "2024-10-20T15:31:40.504Z"
      },
      {
        "duration": 60,
        "start_time": "2024-10-20T15:32:29.685Z"
      },
      {
        "duration": 764,
        "start_time": "2024-10-20T15:33:58.454Z"
      },
      {
        "duration": 773,
        "start_time": "2024-10-20T15:35:02.200Z"
      },
      {
        "duration": 802,
        "start_time": "2024-10-20T15:35:11.776Z"
      },
      {
        "duration": 779,
        "start_time": "2024-10-20T15:38:27.051Z"
      },
      {
        "duration": 1135,
        "start_time": "2024-10-20T15:40:35.653Z"
      },
      {
        "duration": 2291,
        "start_time": "2024-10-20T15:42:28.375Z"
      },
      {
        "duration": 6,
        "start_time": "2024-10-20T15:55:13.705Z"
      },
      {
        "duration": 5,
        "start_time": "2024-10-20T15:55:39.369Z"
      },
      {
        "duration": 69,
        "start_time": "2024-10-20T15:55:50.865Z"
      },
      {
        "duration": 624,
        "start_time": "2024-10-20T15:56:59.557Z"
      },
      {
        "duration": 39,
        "start_time": "2024-10-20T15:57:50.661Z"
      },
      {
        "duration": 39,
        "start_time": "2024-10-20T15:58:03.636Z"
      },
      {
        "duration": 39,
        "start_time": "2024-10-20T15:58:54.516Z"
      },
      {
        "duration": 2228,
        "start_time": "2024-10-20T15:59:02.453Z"
      },
      {
        "duration": 92,
        "start_time": "2024-10-20T15:59:31.854Z"
      },
      {
        "duration": 56,
        "start_time": "2024-10-20T15:59:48.870Z"
      },
      {
        "duration": 1810,
        "start_time": "2024-10-20T16:00:13.150Z"
      },
      {
        "duration": 2429,
        "start_time": "2024-10-20T16:00:17.830Z"
      },
      {
        "duration": 183,
        "start_time": "2024-10-20T16:00:41.878Z"
      },
      {
        "duration": 1913,
        "start_time": "2024-10-20T16:00:46.814Z"
      },
      {
        "duration": 121,
        "start_time": "2024-10-20T16:02:18.985Z"
      },
      {
        "duration": 182,
        "start_time": "2024-10-20T16:03:19.481Z"
      },
      {
        "duration": 697,
        "start_time": "2024-10-20T16:03:31.049Z"
      },
      {
        "duration": 2221,
        "start_time": "2024-10-20T16:05:04.234Z"
      },
      {
        "duration": 604,
        "start_time": "2024-10-20T16:05:51.956Z"
      },
      {
        "duration": 68,
        "start_time": "2024-10-20T16:09:12.103Z"
      },
      {
        "duration": 206,
        "start_time": "2024-10-20T16:09:24.686Z"
      },
      {
        "duration": 419,
        "start_time": "2024-10-20T16:09:57.031Z"
      },
      {
        "duration": 410,
        "start_time": "2024-10-20T16:10:22.551Z"
      },
      {
        "duration": 442,
        "start_time": "2024-10-20T16:11:29.490Z"
      },
      {
        "duration": 563,
        "start_time": "2024-10-20T16:11:41.561Z"
      },
      {
        "duration": 342,
        "start_time": "2024-10-20T16:13:05.723Z"
      },
      {
        "duration": 578,
        "start_time": "2024-10-20T16:16:00.261Z"
      },
      {
        "duration": 8,
        "start_time": "2024-10-20T16:16:29.406Z"
      },
      {
        "duration": 529,
        "start_time": "2024-10-20T16:16:45.967Z"
      },
      {
        "duration": 306,
        "start_time": "2024-10-20T16:29:57.178Z"
      },
      {
        "duration": 316,
        "start_time": "2024-10-20T16:30:28.490Z"
      },
      {
        "duration": 171,
        "start_time": "2024-10-20T16:37:40.024Z"
      },
      {
        "duration": 190,
        "start_time": "2024-10-20T16:38:01.169Z"
      },
      {
        "duration": 547,
        "start_time": "2024-10-20T16:38:59.232Z"
      },
      {
        "duration": 756,
        "start_time": "2024-10-20T16:41:50.660Z"
      },
      {
        "duration": 2136,
        "start_time": "2024-10-20T17:07:11.818Z"
      },
      {
        "duration": 719,
        "start_time": "2024-10-20T17:08:46.202Z"
      },
      {
        "duration": 2286,
        "start_time": "2024-10-20T17:09:40.988Z"
      },
      {
        "duration": 125,
        "start_time": "2024-10-20T17:09:46.826Z"
      },
      {
        "duration": 2670,
        "start_time": "2024-10-20T17:09:56.755Z"
      },
      {
        "duration": 1191,
        "start_time": "2024-10-20T17:10:04.731Z"
      },
      {
        "duration": 1520,
        "start_time": "2024-10-20T17:10:50.373Z"
      },
      {
        "duration": 2172,
        "start_time": "2024-10-20T17:11:24.356Z"
      },
      {
        "duration": 1482,
        "start_time": "2024-10-21T07:42:50.353Z"
      },
      {
        "duration": 1283,
        "start_time": "2024-10-21T07:43:13.303Z"
      },
      {
        "duration": 29224,
        "start_time": "2024-10-21T07:43:43.018Z"
      },
      {
        "duration": 2033,
        "start_time": "2024-10-21T07:44:12.244Z"
      },
      {
        "duration": 5338,
        "start_time": "2024-10-21T07:44:14.278Z"
      },
      {
        "duration": 162,
        "start_time": "2024-10-21T07:44:19.618Z"
      },
      {
        "duration": 2506,
        "start_time": "2024-10-21T07:44:19.781Z"
      },
      {
        "duration": 0,
        "start_time": "2024-10-21T07:44:22.290Z"
      },
      {
        "duration": 0,
        "start_time": "2024-10-21T07:44:22.291Z"
      },
      {
        "duration": 0,
        "start_time": "2024-10-21T07:44:22.292Z"
      },
      {
        "duration": 0,
        "start_time": "2024-10-21T07:44:22.293Z"
      },
      {
        "duration": 0,
        "start_time": "2024-10-21T07:44:22.294Z"
      },
      {
        "duration": 0,
        "start_time": "2024-10-21T07:44:22.295Z"
      },
      {
        "duration": 0,
        "start_time": "2024-10-21T07:44:22.297Z"
      },
      {
        "duration": 0,
        "start_time": "2024-10-21T07:44:22.298Z"
      },
      {
        "duration": 0,
        "start_time": "2024-10-21T07:44:22.299Z"
      },
      {
        "duration": 0,
        "start_time": "2024-10-21T07:44:22.300Z"
      },
      {
        "duration": 0,
        "start_time": "2024-10-21T07:44:22.301Z"
      },
      {
        "duration": 0,
        "start_time": "2024-10-21T07:44:22.302Z"
      },
      {
        "duration": 0,
        "start_time": "2024-10-21T07:44:22.303Z"
      },
      {
        "duration": 0,
        "start_time": "2024-10-21T07:44:22.304Z"
      },
      {
        "duration": 0,
        "start_time": "2024-10-21T07:44:22.306Z"
      },
      {
        "duration": 0,
        "start_time": "2024-10-21T07:44:22.307Z"
      },
      {
        "duration": 0,
        "start_time": "2024-10-21T07:44:22.343Z"
      },
      {
        "duration": 0,
        "start_time": "2024-10-21T07:44:22.345Z"
      },
      {
        "duration": 0,
        "start_time": "2024-10-21T07:44:22.346Z"
      },
      {
        "duration": 3336,
        "start_time": "2024-10-21T07:44:57.393Z"
      },
      {
        "duration": 3365,
        "start_time": "2024-10-21T07:46:09.346Z"
      },
      {
        "duration": 923,
        "start_time": "2024-10-21T07:46:22.025Z"
      },
      {
        "duration": 2126,
        "start_time": "2024-10-21T07:46:54.929Z"
      },
      {
        "duration": 548,
        "start_time": "2024-10-21T07:48:31.876Z"
      },
      {
        "duration": 2167,
        "start_time": "2024-10-21T07:48:41.163Z"
      },
      {
        "duration": 6,
        "start_time": "2024-10-21T07:54:40.265Z"
      },
      {
        "duration": 293,
        "start_time": "2024-10-21T07:54:49.425Z"
      },
      {
        "duration": 3442,
        "start_time": "2024-10-21T07:54:56.345Z"
      },
      {
        "duration": 1579,
        "start_time": "2024-10-21T07:55:38.810Z"
      },
      {
        "duration": 2097,
        "start_time": "2024-10-21T07:56:00.563Z"
      },
      {
        "duration": 73,
        "start_time": "2024-10-21T07:59:03.005Z"
      },
      {
        "duration": 2088,
        "start_time": "2024-10-21T07:59:45.509Z"
      },
      {
        "duration": 676,
        "start_time": "2024-10-21T08:05:51.924Z"
      },
      {
        "duration": 2127,
        "start_time": "2024-10-21T08:05:58.034Z"
      },
      {
        "duration": 121,
        "start_time": "2024-10-21T08:07:30.652Z"
      },
      {
        "duration": 15,
        "start_time": "2024-10-21T08:08:08.980Z"
      },
      {
        "duration": 285,
        "start_time": "2024-10-21T08:08:34.141Z"
      },
      {
        "duration": 3328,
        "start_time": "2024-10-21T08:08:43.044Z"
      },
      {
        "duration": 3337,
        "start_time": "2024-10-21T08:09:30.887Z"
      },
      {
        "duration": 244,
        "start_time": "2024-10-21T08:09:37.885Z"
      },
      {
        "duration": 3253,
        "start_time": "2024-10-21T08:09:43.325Z"
      },
      {
        "duration": 3494,
        "start_time": "2024-10-21T08:10:37.511Z"
      },
      {
        "duration": 3019,
        "start_time": "2024-10-21T08:14:07.139Z"
      },
      {
        "duration": 4115,
        "start_time": "2024-10-21T08:15:05.555Z"
      },
      {
        "duration": 270,
        "start_time": "2024-10-21T08:15:31.074Z"
      },
      {
        "duration": 344,
        "start_time": "2024-10-21T08:20:01.456Z"
      },
      {
        "duration": 710,
        "start_time": "2024-10-21T08:20:49.239Z"
      },
      {
        "duration": 2536,
        "start_time": "2024-10-21T08:21:43.816Z"
      },
      {
        "duration": 514,
        "start_time": "2024-10-21T08:22:56.018Z"
      },
      {
        "duration": 214,
        "start_time": "2024-10-21T08:30:03.480Z"
      },
      {
        "duration": 261,
        "start_time": "2024-10-21T08:30:47.991Z"
      },
      {
        "duration": 637,
        "start_time": "2024-10-21T08:30:52.280Z"
      },
      {
        "duration": 249,
        "start_time": "2024-10-21T08:31:08.487Z"
      },
      {
        "duration": 13,
        "start_time": "2024-10-21T08:31:40.472Z"
      },
      {
        "duration": 222,
        "start_time": "2024-10-21T08:31:50.161Z"
      },
      {
        "duration": 250,
        "start_time": "2024-10-21T08:33:24.147Z"
      },
      {
        "duration": 117,
        "start_time": "2024-10-21T08:34:20.835Z"
      },
      {
        "duration": 277,
        "start_time": "2024-10-21T08:34:42.539Z"
      },
      {
        "duration": 622,
        "start_time": "2024-10-21T08:34:45.403Z"
      },
      {
        "duration": 2460,
        "start_time": "2024-10-21T08:34:47.396Z"
      },
      {
        "duration": 1951,
        "start_time": "2024-10-21T08:36:30.892Z"
      },
      {
        "duration": 3399,
        "start_time": "2024-10-21T08:36:36.877Z"
      },
      {
        "duration": 277,
        "start_time": "2024-10-21T08:36:43.572Z"
      },
      {
        "duration": 597,
        "start_time": "2024-10-21T08:36:49.405Z"
      },
      {
        "duration": 2376,
        "start_time": "2024-10-21T08:36:58.606Z"
      },
      {
        "duration": 151,
        "start_time": "2024-10-21T08:37:36.766Z"
      },
      {
        "duration": 253,
        "start_time": "2024-10-21T08:39:49.904Z"
      },
      {
        "duration": 341,
        "start_time": "2024-10-21T08:40:36.096Z"
      },
      {
        "duration": 596,
        "start_time": "2024-10-21T08:40:53.593Z"
      },
      {
        "duration": 588,
        "start_time": "2024-10-21T08:41:43.666Z"
      },
      {
        "duration": 267,
        "start_time": "2024-10-21T16:11:29.559Z"
      },
      {
        "duration": 255,
        "start_time": "2024-10-21T16:12:23.830Z"
      },
      {
        "duration": 3049,
        "start_time": "2024-10-21T16:12:27.765Z"
      },
      {
        "duration": 449,
        "start_time": "2024-10-21T16:12:45.526Z"
      },
      {
        "duration": 12,
        "start_time": "2024-10-21T16:16:50.346Z"
      },
      {
        "duration": 11,
        "start_time": "2024-10-21T16:16:56.849Z"
      },
      {
        "duration": 35,
        "start_time": "2024-10-21T16:17:26.027Z"
      },
      {
        "duration": 261,
        "start_time": "2024-10-21T16:19:53.548Z"
      },
      {
        "duration": 450,
        "start_time": "2024-10-21T16:20:05.109Z"
      },
      {
        "duration": 1055,
        "start_time": "2024-10-21T16:20:08.573Z"
      },
      {
        "duration": 1048,
        "start_time": "2024-10-21T16:20:49.158Z"
      },
      {
        "duration": 1483,
        "start_time": "2024-10-21T16:24:10.385Z"
      },
      {
        "duration": 2693,
        "start_time": "2024-10-21T16:27:31.267Z"
      },
      {
        "duration": 260,
        "start_time": "2024-10-21T16:31:31.398Z"
      },
      {
        "duration": 465,
        "start_time": "2024-10-21T16:31:39.254Z"
      },
      {
        "duration": 1522,
        "start_time": "2024-10-21T16:31:42.472Z"
      },
      {
        "duration": 2657,
        "start_time": "2024-10-21T16:32:02.264Z"
      },
      {
        "duration": 257,
        "start_time": "2024-10-21T16:33:18.248Z"
      },
      {
        "duration": 502,
        "start_time": "2024-10-21T16:33:38.864Z"
      },
      {
        "duration": 262,
        "start_time": "2024-10-21T16:34:25.233Z"
      },
      {
        "duration": 3304,
        "start_time": "2024-10-21T16:34:50.913Z"
      },
      {
        "duration": 512,
        "start_time": "2024-10-21T16:35:34.620Z"
      },
      {
        "duration": 1724,
        "start_time": "2024-10-21T16:37:09.637Z"
      },
      {
        "duration": 2798,
        "start_time": "2024-10-21T16:37:40.508Z"
      },
      {
        "duration": 263,
        "start_time": "2024-10-21T16:42:40.504Z"
      },
      {
        "duration": 3294,
        "start_time": "2024-10-21T16:42:46.816Z"
      },
      {
        "duration": 1806,
        "start_time": "2024-10-21T16:42:53.673Z"
      },
      {
        "duration": 2907,
        "start_time": "2024-10-21T16:43:08.809Z"
      },
      {
        "duration": 13,
        "start_time": "2024-10-21T16:49:02.046Z"
      },
      {
        "duration": 9,
        "start_time": "2024-10-21T16:49:07.741Z"
      },
      {
        "duration": 8,
        "start_time": "2024-10-21T16:49:20.158Z"
      },
      {
        "duration": 10,
        "start_time": "2024-10-21T16:49:45.062Z"
      },
      {
        "duration": 28,
        "start_time": "2024-10-21T16:49:59.815Z"
      },
      {
        "duration": 3196,
        "start_time": "2024-10-21T16:53:37.307Z"
      },
      {
        "duration": 3362,
        "start_time": "2024-10-21T16:56:29.237Z"
      },
      {
        "duration": 1923,
        "start_time": "2024-10-21T17:03:20.251Z"
      },
      {
        "duration": 3328,
        "start_time": "2024-10-21T17:03:35.250Z"
      },
      {
        "duration": 295,
        "start_time": "2024-10-21T17:03:44.891Z"
      },
      {
        "duration": 2204,
        "start_time": "2024-10-21T17:03:56.931Z"
      },
      {
        "duration": 2784,
        "start_time": "2024-10-21T17:04:15.675Z"
      },
      {
        "duration": 40,
        "start_time": "2024-10-21T17:05:49.877Z"
      },
      {
        "duration": 32,
        "start_time": "2024-10-21T17:06:33.030Z"
      },
      {
        "duration": 44,
        "start_time": "2024-10-21T17:06:38.446Z"
      },
      {
        "duration": 29,
        "start_time": "2024-10-21T17:06:51.654Z"
      },
      {
        "duration": 37,
        "start_time": "2024-10-21T17:09:12.119Z"
      },
      {
        "duration": 6558,
        "start_time": "2024-10-21T17:11:05.369Z"
      },
      {
        "duration": 92728,
        "start_time": "2024-10-21T17:22:55.661Z"
      },
      {
        "duration": 3399,
        "start_time": "2024-10-21T17:25:23.688Z"
      },
      {
        "duration": 230,
        "start_time": "2024-10-21T17:25:33.524Z"
      },
      {
        "duration": 8089,
        "start_time": "2024-10-21T17:25:37.039Z"
      },
      {
        "duration": 1916,
        "start_time": "2024-10-21T17:30:42.274Z"
      },
      {
        "duration": 3453,
        "start_time": "2024-10-21T17:30:46.714Z"
      },
      {
        "duration": 284,
        "start_time": "2024-10-21T17:30:53.250Z"
      },
      {
        "duration": 8557,
        "start_time": "2024-10-21T17:31:00.418Z"
      },
      {
        "duration": 1845,
        "start_time": "2024-10-21T17:31:13.154Z"
      },
      {
        "duration": 3041,
        "start_time": "2024-10-21T17:31:46.275Z"
      },
      {
        "duration": 4825,
        "start_time": "2024-10-21T17:32:06.684Z"
      },
      {
        "duration": 240,
        "start_time": "2024-10-21T17:40:52.436Z"
      },
      {
        "duration": 35776,
        "start_time": "2024-10-21T17:41:09.363Z"
      },
      {
        "duration": 173,
        "start_time": "2024-10-21T17:41:45.140Z"
      },
      {
        "duration": 145,
        "start_time": "2024-10-21T17:43:51.734Z"
      },
      {
        "duration": 60,
        "start_time": "2024-10-21T17:46:50.841Z"
      },
      {
        "duration": 74,
        "start_time": "2024-10-21T18:03:40.928Z"
      },
      {
        "duration": 25,
        "start_time": "2024-10-21T18:04:08.362Z"
      },
      {
        "duration": 16,
        "start_time": "2024-10-21T18:04:29.824Z"
      },
      {
        "duration": 18,
        "start_time": "2024-10-21T18:05:10.384Z"
      },
      {
        "duration": 8,
        "start_time": "2024-10-21T18:05:59.966Z"
      },
      {
        "duration": 5,
        "start_time": "2024-10-21T18:22:27.840Z"
      },
      {
        "duration": 6,
        "start_time": "2024-10-21T18:24:38.650Z"
      },
      {
        "duration": 8,
        "start_time": "2024-10-21T18:24:50.402Z"
      },
      {
        "duration": 6,
        "start_time": "2024-10-21T18:25:13.011Z"
      },
      {
        "duration": 21,
        "start_time": "2024-10-21T18:25:32.947Z"
      },
      {
        "duration": 17,
        "start_time": "2024-10-21T18:27:09.613Z"
      },
      {
        "duration": 55,
        "start_time": "2024-10-21T18:28:10.478Z"
      },
      {
        "duration": 2166,
        "start_time": "2024-10-21T18:29:03.007Z"
      },
      {
        "duration": 85099,
        "start_time": "2024-10-21T18:31:16.809Z"
      },
      {
        "duration": 74,
        "start_time": "2024-10-21T18:43:07.690Z"
      },
      {
        "duration": 65,
        "start_time": "2024-10-21T18:44:14.070Z"
      },
      {
        "duration": 9627049,
        "start_time": "2024-10-21T18:44:47.860Z"
      },
      {
        "duration": 5,
        "start_time": "2024-10-21T21:25:14.911Z"
      },
      {
        "duration": 21,
        "start_time": "2024-10-21T21:33:31.144Z"
      },
      {
        "duration": 252,
        "start_time": "2024-10-21T21:33:49.777Z"
      },
      {
        "duration": 185,
        "start_time": "2024-10-21T21:34:51.609Z"
      },
      {
        "duration": 887123,
        "start_time": "2024-10-21T21:36:37.531Z"
      },
      {
        "duration": 728,
        "start_time": "2024-10-21T22:05:04.237Z"
      },
      {
        "duration": 1514,
        "start_time": "2024-10-23T09:11:52.767Z"
      },
      {
        "duration": 0,
        "start_time": "2024-10-23T09:11:54.282Z"
      },
      {
        "duration": 0,
        "start_time": "2024-10-23T09:11:54.283Z"
      },
      {
        "duration": 0,
        "start_time": "2024-10-23T09:11:54.284Z"
      },
      {
        "duration": 0,
        "start_time": "2024-10-23T09:11:54.285Z"
      },
      {
        "duration": 0,
        "start_time": "2024-10-23T09:11:54.286Z"
      },
      {
        "duration": 0,
        "start_time": "2024-10-23T09:11:54.287Z"
      },
      {
        "duration": 0,
        "start_time": "2024-10-23T09:11:54.288Z"
      },
      {
        "duration": 3412,
        "start_time": "2024-10-23T09:13:55.109Z"
      },
      {
        "duration": 2820,
        "start_time": "2024-10-23T09:13:58.523Z"
      },
      {
        "duration": 0,
        "start_time": "2024-10-23T09:14:01.344Z"
      },
      {
        "duration": 0,
        "start_time": "2024-10-23T09:14:01.346Z"
      },
      {
        "duration": 0,
        "start_time": "2024-10-23T09:14:01.347Z"
      },
      {
        "duration": 0,
        "start_time": "2024-10-23T09:14:01.348Z"
      },
      {
        "duration": 0,
        "start_time": "2024-10-23T09:14:01.349Z"
      },
      {
        "duration": 0,
        "start_time": "2024-10-23T09:14:01.350Z"
      },
      {
        "duration": 0,
        "start_time": "2024-10-23T09:14:01.351Z"
      },
      {
        "duration": 4128,
        "start_time": "2024-10-23T09:14:17.168Z"
      },
      {
        "duration": 1860,
        "start_time": "2024-10-23T09:14:21.299Z"
      },
      {
        "duration": 3847,
        "start_time": "2024-10-23T09:14:36.570Z"
      },
      {
        "duration": 572,
        "start_time": "2024-10-23T09:14:40.938Z"
      },
      {
        "duration": 3501,
        "start_time": "2024-10-23T09:15:07.151Z"
      },
      {
        "duration": 16,
        "start_time": "2024-10-23T09:15:12.220Z"
      },
      {
        "duration": 2920,
        "start_time": "2024-10-23T09:15:29.324Z"
      },
      {
        "duration": 10,
        "start_time": "2024-10-23T09:15:32.246Z"
      },
      {
        "duration": 105,
        "start_time": "2024-10-23T09:15:32.258Z"
      },
      {
        "duration": 0,
        "start_time": "2024-10-23T09:15:32.365Z"
      },
      {
        "duration": 0,
        "start_time": "2024-10-23T09:15:32.366Z"
      },
      {
        "duration": 0,
        "start_time": "2024-10-23T09:15:32.367Z"
      },
      {
        "duration": 0,
        "start_time": "2024-10-23T09:15:32.368Z"
      },
      {
        "duration": 0,
        "start_time": "2024-10-23T09:15:32.369Z"
      },
      {
        "duration": 0,
        "start_time": "2024-10-23T09:15:32.370Z"
      },
      {
        "duration": 2,
        "start_time": "2024-10-23T09:17:54.101Z"
      },
      {
        "duration": 61,
        "start_time": "2024-10-23T12:49:57.779Z"
      },
      {
        "duration": 61,
        "start_time": "2024-10-23T12:53:01.748Z"
      },
      {
        "duration": 26333,
        "start_time": "2024-10-23T12:53:30.329Z"
      },
      {
        "duration": 3,
        "start_time": "2024-10-23T12:53:56.664Z"
      },
      {
        "duration": 46,
        "start_time": "2024-10-23T12:53:56.668Z"
      },
      {
        "duration": 2273,
        "start_time": "2024-10-23T12:54:29.474Z"
      },
      {
        "duration": 3727,
        "start_time": "2024-10-23T12:54:33.938Z"
      },
      {
        "duration": 5852,
        "start_time": "2024-10-23T13:06:14.662Z"
      },
      {
        "duration": 282,
        "start_time": "2024-10-23T13:08:13.839Z"
      },
      {
        "duration": 8374,
        "start_time": "2024-10-23T13:08:22.206Z"
      },
      {
        "duration": 3170,
        "start_time": "2024-10-23T13:08:57.927Z"
      },
      {
        "duration": 52,
        "start_time": "2024-10-23T13:10:21.544Z"
      },
      {
        "duration": 1891,
        "start_time": "2024-10-23T13:10:38.328Z"
      },
      {
        "duration": 231,
        "start_time": "2024-10-23T13:12:17.898Z"
      },
      {
        "duration": 8157,
        "start_time": "2024-10-23T13:12:21.281Z"
      },
      {
        "duration": 3106,
        "start_time": "2024-10-23T13:12:29.440Z"
      },
      {
        "duration": 1789,
        "start_time": "2024-10-23T13:12:32.547Z"
      },
      {
        "duration": 2675,
        "start_time": "2024-10-23T13:12:34.338Z"
      },
      {
        "duration": 4910,
        "start_time": "2024-10-23T13:12:56.497Z"
      },
      {
        "duration": 262,
        "start_time": "2024-10-23T13:13:21.498Z"
      },
      {
        "duration": 24464,
        "start_time": "2024-10-23T13:13:44.451Z"
      },
      {
        "duration": 2,
        "start_time": "2024-10-23T13:14:08.917Z"
      },
      {
        "duration": 1893,
        "start_time": "2024-10-23T13:14:08.921Z"
      },
      {
        "duration": 5250,
        "start_time": "2024-10-23T13:14:10.816Z"
      },
      {
        "duration": 312,
        "start_time": "2024-10-23T13:14:16.068Z"
      },
      {
        "duration": 9115,
        "start_time": "2024-10-23T13:14:16.381Z"
      },
      {
        "duration": 540,
        "start_time": "2024-10-23T13:14:25.497Z"
      },
      {
        "duration": 0,
        "start_time": "2024-10-23T13:14:26.039Z"
      },
      {
        "duration": 0,
        "start_time": "2024-10-23T13:14:26.040Z"
      },
      {
        "duration": 0,
        "start_time": "2024-10-23T13:14:26.042Z"
      },
      {
        "duration": 0,
        "start_time": "2024-10-23T13:14:26.043Z"
      },
      {
        "duration": 0,
        "start_time": "2024-10-23T13:14:26.044Z"
      },
      {
        "duration": 0,
        "start_time": "2024-10-23T13:14:26.045Z"
      },
      {
        "duration": 0,
        "start_time": "2024-10-23T13:14:26.046Z"
      },
      {
        "duration": 0,
        "start_time": "2024-10-23T13:14:26.048Z"
      },
      {
        "duration": 0,
        "start_time": "2024-10-23T13:14:26.049Z"
      },
      {
        "duration": 0,
        "start_time": "2024-10-23T13:14:26.050Z"
      },
      {
        "duration": 0,
        "start_time": "2024-10-23T13:14:26.051Z"
      },
      {
        "duration": 0,
        "start_time": "2024-10-23T13:14:26.053Z"
      },
      {
        "duration": 0,
        "start_time": "2024-10-23T13:14:26.054Z"
      },
      {
        "duration": 0,
        "start_time": "2024-10-23T13:14:26.056Z"
      },
      {
        "duration": 3046,
        "start_time": "2024-10-23T13:15:26.812Z"
      },
      {
        "duration": 1648,
        "start_time": "2024-10-23T13:15:35.076Z"
      },
      {
        "duration": 2670,
        "start_time": "2024-10-23T13:15:43.236Z"
      },
      {
        "duration": 4912,
        "start_time": "2024-10-23T13:15:59.524Z"
      },
      {
        "duration": 263,
        "start_time": "2024-10-23T13:16:28.535Z"
      },
      {
        "duration": 36814,
        "start_time": "2024-10-23T13:16:34.332Z"
      },
      {
        "duration": 0,
        "start_time": "2024-10-23T13:17:11.148Z"
      },
      {
        "duration": 0,
        "start_time": "2024-10-23T13:17:11.150Z"
      },
      {
        "duration": 0,
        "start_time": "2024-10-23T13:17:11.151Z"
      },
      {
        "duration": 0,
        "start_time": "2024-10-23T13:17:11.153Z"
      },
      {
        "duration": 0,
        "start_time": "2024-10-23T13:17:11.155Z"
      },
      {
        "duration": 0,
        "start_time": "2024-10-23T13:17:11.156Z"
      },
      {
        "duration": 149890,
        "start_time": "2024-10-23T13:17:25.247Z"
      },
      {
        "duration": 447,
        "start_time": "2024-10-23T13:19:55.139Z"
      },
      {
        "duration": 518,
        "start_time": "2024-10-23T13:19:55.588Z"
      },
      {
        "duration": 144330,
        "start_time": "2024-10-23T13:24:59.156Z"
      },
      {
        "duration": 424,
        "start_time": "2024-10-23T13:27:23.488Z"
      },
      {
        "duration": 500,
        "start_time": "2024-10-23T13:27:23.914Z"
      },
      {
        "duration": 480,
        "start_time": "2024-10-23T13:47:09.840Z"
      },
      {
        "duration": 546,
        "start_time": "2024-10-23T14:50:24.275Z"
      },
      {
        "duration": 9992229,
        "start_time": "2024-10-23T14:50:40.841Z"
      },
      {
        "duration": 309,
        "start_time": "2024-10-23T17:37:13.072Z"
      },
      {
        "duration": 84997,
        "start_time": "2024-10-23T17:37:13.383Z"
      },
      {
        "duration": 1322516,
        "start_time": "2024-10-23T17:38:38.382Z"
      },
      {
        "duration": 155,
        "start_time": "2024-10-23T18:00:40.900Z"
      },
      {
        "duration": 208044,
        "start_time": "2024-10-23T18:00:41.056Z"
      },
      {
        "duration": 138,
        "start_time": "2024-10-23T18:37:42.013Z"
      },
      {
        "duration": 328,
        "start_time": "2024-10-23T18:37:53.524Z"
      },
      {
        "duration": 126,
        "start_time": "2024-10-23T18:38:24.109Z"
      },
      {
        "duration": 332,
        "start_time": "2024-10-23T18:38:31.941Z"
      },
      {
        "duration": 70,
        "start_time": "2024-10-23T18:46:56.854Z"
      }
    ],
    "kernelspec": {
      "display_name": "Python 3",
      "name": "python3"
    },
    "language_info": {
      "codemirror_mode": {
        "name": "ipython",
        "version": 3
      },
      "file_extension": ".py",
      "mimetype": "text/x-python",
      "name": "python",
      "nbconvert_exporter": "python",
      "pygments_lexer": "ipython3",
      "version": "3.12.3"
    },
    "toc": {
      "base_numbering": 1,
      "nav_menu": {},
      "number_sections": true,
      "sideBar": true,
      "skip_h1_title": true,
      "title_cell": "Table of Contents",
      "title_sidebar": "Contents",
      "toc_cell": false,
      "toc_position": {
        "height": "calc(100% - 180px)",
        "left": "10px",
        "top": "150px",
        "width": "349.091px"
      },
      "toc_section_display": true,
      "toc_window_display": false
    },
    "colab": {
      "provenance": [],
      "toc_visible": true,
      "include_colab_link": true
    }
  },
  "nbformat": 4,
  "nbformat_minor": 0
}