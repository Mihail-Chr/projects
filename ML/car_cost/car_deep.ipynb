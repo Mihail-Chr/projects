{
  "nbformat": 4,
  "nbformat_minor": 0,
  "metadata": {
    "colab": {
      "provenance": [],
      "authorship_tag": "ABX9TyP6y16HUGNSyt6Nd320rR0F",
      "include_colab_link": true
    },
    "kernelspec": {
      "name": "python3",
      "display_name": "Python 3"
    },
    "language_info": {
      "name": "python"
    }
  },
  "cells": [
    {
      "cell_type": "markdown",
      "metadata": {
        "id": "view-in-github",
        "colab_type": "text"
      },
      "source": [
        "<a href=\"https://colab.research.google.com/github/Mihail-Chr/projects/blob/main/ML/car_cost/car_deep.ipynb\" target=\"_parent\"><img src=\"https://colab.research.google.com/assets/colab-badge.svg\" alt=\"Open In Colab\"/></a>"
      ]
    },
    {
      "cell_type": "code",
      "source": [
        "! pip install catboost\n",
        "! pip install gensim"
      ],
      "metadata": {
        "id": "5K7dgaWDVSys",
        "outputId": "db19dcc5-6bbb-47a4-c86a-8b03847b3ee3",
        "colab": {
          "base_uri": "https://localhost:8080/"
        }
      },
      "execution_count": null,
      "outputs": [
        {
          "output_type": "stream",
          "name": "stdout",
          "text": [
            "Collecting catboost\n",
            "  Downloading catboost-1.2.8-cp311-cp311-manylinux2014_x86_64.whl.metadata (1.2 kB)\n",
            "Requirement already satisfied: graphviz in /usr/local/lib/python3.11/dist-packages (from catboost) (0.21)\n",
            "Requirement already satisfied: matplotlib in /usr/local/lib/python3.11/dist-packages (from catboost) (3.10.0)\n",
            "Requirement already satisfied: numpy<3.0,>=1.16.0 in /usr/local/lib/python3.11/dist-packages (from catboost) (2.0.2)\n",
            "Requirement already satisfied: pandas>=0.24 in /usr/local/lib/python3.11/dist-packages (from catboost) (2.2.2)\n",
            "Requirement already satisfied: scipy in /usr/local/lib/python3.11/dist-packages (from catboost) (1.16.0)\n",
            "Requirement already satisfied: plotly in /usr/local/lib/python3.11/dist-packages (from catboost) (5.24.1)\n",
            "Requirement already satisfied: six in /usr/local/lib/python3.11/dist-packages (from catboost) (1.17.0)\n",
            "Requirement already satisfied: python-dateutil>=2.8.2 in /usr/local/lib/python3.11/dist-packages (from pandas>=0.24->catboost) (2.9.0.post0)\n",
            "Requirement already satisfied: pytz>=2020.1 in /usr/local/lib/python3.11/dist-packages (from pandas>=0.24->catboost) (2025.2)\n",
            "Requirement already satisfied: tzdata>=2022.7 in /usr/local/lib/python3.11/dist-packages (from pandas>=0.24->catboost) (2025.2)\n",
            "Requirement already satisfied: contourpy>=1.0.1 in /usr/local/lib/python3.11/dist-packages (from matplotlib->catboost) (1.3.2)\n",
            "Requirement already satisfied: cycler>=0.10 in /usr/local/lib/python3.11/dist-packages (from matplotlib->catboost) (0.12.1)\n",
            "Requirement already satisfied: fonttools>=4.22.0 in /usr/local/lib/python3.11/dist-packages (from matplotlib->catboost) (4.59.0)\n",
            "Requirement already satisfied: kiwisolver>=1.3.1 in /usr/local/lib/python3.11/dist-packages (from matplotlib->catboost) (1.4.8)\n",
            "Requirement already satisfied: packaging>=20.0 in /usr/local/lib/python3.11/dist-packages (from matplotlib->catboost) (25.0)\n",
            "Requirement already satisfied: pillow>=8 in /usr/local/lib/python3.11/dist-packages (from matplotlib->catboost) (11.3.0)\n",
            "Requirement already satisfied: pyparsing>=2.3.1 in /usr/local/lib/python3.11/dist-packages (from matplotlib->catboost) (3.2.3)\n",
            "Requirement already satisfied: tenacity>=6.2.0 in /usr/local/lib/python3.11/dist-packages (from plotly->catboost) (8.5.0)\n",
            "Downloading catboost-1.2.8-cp311-cp311-manylinux2014_x86_64.whl (99.2 MB)\n",
            "\u001b[2K   \u001b[90m━━━━━━━━━━━━━━━━━━━━━━━━━━━━━━━━━━━━━━━━\u001b[0m \u001b[32m99.2/99.2 MB\u001b[0m \u001b[31m9.8 MB/s\u001b[0m eta \u001b[36m0:00:00\u001b[0m\n",
            "\u001b[?25hInstalling collected packages: catboost\n"
          ]
        }
      ]
    },
    {
      "cell_type": "code",
      "execution_count": null,
      "metadata": {
        "id": "1WuMUb_gt3ha"
      },
      "outputs": [],
      "source": [
        "from sklearn.dummy import DummyRegressor\n",
        "from sklearn.linear_model import Ridge, LinearRegression, SGDRegressor, PassiveAggressiveRegressor\n",
        "from sklearn.neighbors import KNeighborsRegressor\n",
        "from sklearn.ensemble import RandomForestRegressor\n",
        "from sklearn.svm import SVR\n",
        "from catboost import CatBoostRegressor\n",
        "from lightgbm import LGBMRegressor\n",
        "from sklearn.model_selection import GridSearchCV, cross_val_score\n",
        "import numpy as np\n",
        "\n",
        "RANDOM_STATE = 42\n",
        "\n",
        "def cv_model(clf, X, y):\n",
        "    # Задаём сетки гиперпараметров только для тех моделей, которые были в коде\n",
        "    param_grid = {}\n",
        "    clf_name = clf.__class__.__name__\n",
        "\n",
        "    if clf_name == 'SVR':\n",
        "        param_grid = {'C': np.arange(0.1, 1.2, 0.4)}\n",
        "    elif clf_name == 'Ridge':\n",
        "        param_grid = {'alpha': np.arange(0.3, 1, 0.1)}\n",
        "\n",
        "    if param_grid:\n",
        "        grid = GridSearchCV(\n",
        "            clf,\n",
        "            param_grid=param_grid,\n",
        "            cv=3,\n",
        "            scoring='neg_root_mean_squared_error',\n",
        "            n_jobs=-1,\n",
        "            verbose=0\n",
        "        )\n",
        "        grid.fit(X, y)\n",
        "        best_clf = grid.best_estimator_\n",
        "        best_params = grid.best_params_\n",
        "        best_score = -grid.best_score_\n",
        "        fit_time = np.mean(grid.cv_results_['mean_fit_time'])\n",
        "        score_time = np.mean(grid.cv_results_['mean_score_time'])\n",
        "    else:\n",
        "        # Для моделей без гиперпараметров просто кросс-валидация со средним RMSE\n",
        "        scores = cross_val_score(clf, X, y, cv=3, scoring='neg_root_mean_squared_error', n_jobs=-1)\n",
        "        best_clf = clf.fit(X, y)  # тренируем на всех данных\n",
        "        best_params = {}\n",
        "        best_score = -np.mean(scores)\n",
        "        fit_time = None\n",
        "        score_time = None\n",
        "\n",
        "    print(f\"\\n{clf_name}\")\n",
        "    print(f\"Best params: {best_params}\")\n",
        "    print(f\"Best RMSE: {best_score:.4f}\")\n",
        "    if fit_time is not None:\n",
        "        print(f\"Avg fit time: {fit_time:.3f} sec, avg predict time: {score_time:.3f} sec\")\n",
        "\n",
        "    return {\n",
        "        'model': clf_name,\n",
        "        'best_params': best_params,\n",
        "        'rmse': best_score,\n",
        "        'fit_time': fit_time,\n",
        "        'score_time': score_time\n",
        "    }\n",
        "\n",
        "def cross_validate_all_models(X, y):\n",
        "    results = []\n",
        "    models = [\n",
        "        DummyRegressor(),\n",
        "        Ridge(max_iter=300, random_state=RANDOM_STATE),\n",
        "        KNeighborsRegressor(n_neighbors=80, n_jobs=-1),\n",
        "        LinearRegression(),\n",
        "        RandomForestRegressor(n_estimators=50, warm_start=True, n_jobs=-1, random_state=RANDOM_STATE),\n",
        "        SVR(max_iter=200),\n",
        "        SGDRegressor(alpha=1e-4, n_iter_no_change=3, early_stopping=True),\n",
        "        PassiveAggressiveRegressor(),\n",
        "        CatBoostRegressor(iterations=1000, learning_rate=0.001, depth=6,\n",
        "                          loss_function='RMSE', random_seed=RANDOM_STATE, early_stopping_rounds=400,\n",
        "                          allow_writing_files=False, verbose=False),\n",
        "        LGBMRegressor(metric='neg_root_mean_squared_error', random_state=RANDOM_STATE, verbose=0)\n",
        "    ]\n",
        "\n",
        "    for clf in models:\n",
        "        print(\"=\"*80)\n",
        "        res = cv_model(clf, X, y)\n",
        "        results.append(res)\n",
        "    return results\n",
        "\n",
        "# --- Пример использования ---\n",
        "# X, y — подготовленные признаки и целевая переменная (например, из подготовленного polars -> pandas -> sklearn pipeline)\n",
        "# results = cross_validate_all_models(X, y)\n"
      ]
    },
    {
      "cell_type": "code",
      "source": [],
      "metadata": {
        "id": "DJVyusXyt-2c"
      },
      "execution_count": null,
      "outputs": []
    },
    {
      "cell_type": "code",
      "source": [],
      "metadata": {
        "id": "yOPQCsE5uDIl"
      },
      "execution_count": null,
      "outputs": []
    },
    {
      "cell_type": "code",
      "source": [
        "import time\n",
        "import polars as pl\n",
        "import cupy as cp\n",
        "import numba\n",
        "from numba import njit, prange\n",
        "from cuml.ensemble import RandomForestRegressor\n",
        "from cuml.preprocessing import LabelEncoder\n",
        "from cuml.model_selection import train_test_split\n",
        "from cuml.metrics import mean_squared_error\n",
        "\n",
        "# Загрузка и предобработка данных\n",
        "def load_and_preprocess_data():\n",
        "    # Загрузка данных с помощью Polars\n",
        "    df = pl.read_csv('autos.csv', sep=',', decimal='.')\n",
        "\n",
        "    # Предобработка данных\n",
        "    @njit(parallel=True)\n",
        "    def preprocess(df):\n",
        "        # Обработка пропусков\n",
        "        df = df.fill_null(strategy=\"mean\")\n",
        "\n",
        "        # Кодирование категориальных признаков\n",
        "        cat_cols = df.select_dtypes(include=['category']).columns\n",
        "        df = df.with_columns(\n",
        "            pl.col(col).cast(pl.UInt32) for col in cat_cols\n",
        "        )\n",
        "\n",
        "        # Нормализация числовых признаков\n",
        "        num_cols = df.select_dtypes(include=['float64', 'int64']).columns\n",
        "        df = df.with_columns(\n",
        "            (pl.col(col) - pl.col(col).mean()) / pl.col(col).std()\n",
        "            for col in num_cols\n",
        "        )\n",
        "\n",
        "        return df\n",
        "\n",
        "    df = preprocess(df)\n",
        "    return df\n",
        "\n",
        "# Основная функция\n",
        "def main():\n",
        "    start_time = time.time()\n",
        "\n",
        "    # Загрузка и обработка данных\n",
        "    df = load_and_preprocess_data()\n",
        "\n",
        "    # Разделение на признаки и целевую переменную\n",
        "    X = df.drop_columns('Price')\n",
        "    y = df['Price']\n",
        "\n",
        "    # Преобразование в Cupy\n",
        "    X_cupy = cp.array(X.to_numpy())\n",
        "    y_cupy = cp.array(y.to_numpy())\n",
        "\n",
        "    # Разделение на train/test\n",
        "    X_train, X_test, y_train, y_test = train_test_split(\n",
        "        X_cupy, y_cupy, test_size=0.2, random_state=42\n",
        "    )\n",
        "\n",
        "    # Инициализация модели\n",
        "    model = RandomForestRegressor(n_estimators=100, max_depth=10)\n",
        "\n",
        "    # Обучение модели\n",
        "    train_start = time.time()\n",
        "    model.fit(X_train, y_train)\n",
        "    train_time = time.time() - train_start\n",
        "\n",
        "    # Предсказание\n",
        "    predict_start = time.time()\n",
        "    y_pred = model.predict(X_test)\n",
        "    predict_time = time.time() - predict_start\n",
        "\n",
        "    # Оценка модели\n",
        "    mse = mean_squared_error(y_test, y_pred)\n",
        "\n",
        "    # Вывод результатов\n",
        "    total_time = time.time() - start_time\n",
        "    print(f\"Общее время выполнения: {total_time:.2f} секунд\")\n",
        "    print(f\"Время обучения: {train_time:.2f} секунд\")\n",
        "    print(f\"Время предсказания: {predict_time:.2f} секунд\")\n",
        "    print(f\"MSE: {mse:.2f}\")\n",
        "\n",
        "if __name__ == \"__main__\":\n",
        "    main()\n"
      ],
      "metadata": {
        "id": "9pz_Cn_guCz_"
      },
      "execution_count": null,
      "outputs": []
    },
    {
      "cell_type": "code",
      "source": [],
      "metadata": {
        "id": "WBOfbYOBDs6G"
      },
      "execution_count": null,
      "outputs": []
    },
    {
      "cell_type": "code",
      "source": [],
      "metadata": {
        "id": "gcJwwNQwDtWd"
      },
      "execution_count": null,
      "outputs": []
    },
    {
      "cell_type": "code",
      "source": [],
      "metadata": {
        "id": "yJZhEk4bvHnz"
      },
      "execution_count": null,
      "outputs": []
    },
    {
      "cell_type": "code",
      "source": [],
      "metadata": {
        "id": "jd7LokWxvHkL"
      },
      "execution_count": null,
      "outputs": []
    },
    {
      "cell_type": "code",
      "source": [],
      "metadata": {
        "id": "I0lVEi54vHgu"
      },
      "execution_count": null,
      "outputs": []
    },
    {
      "cell_type": "code",
      "source": [],
      "metadata": {
        "id": "HI4KvCWcvHc7"
      },
      "execution_count": null,
      "outputs": []
    },
    {
      "cell_type": "code",
      "source": [],
      "metadata": {
        "id": "jV31n7T7vHVc"
      },
      "execution_count": null,
      "outputs": []
    },
    {
      "cell_type": "code",
      "source": [],
      "metadata": {
        "id": "OEUVvTvwvHME"
      },
      "execution_count": null,
      "outputs": []
    },
    {
      "cell_type": "code",
      "source": [],
      "metadata": {
        "id": "IwwQGgldDtpH"
      },
      "execution_count": null,
      "outputs": []
    },
    {
      "cell_type": "code",
      "source": [
        " import time\n",
        "import polars as pl\n",
        "import cudf\n",
        "import cupy as cp\n",
        "from numba import njit\n",
        "import numpy as np\n",
        "import matplotlib.pyplot as plt\n",
        "import seaborn as sns\n",
        "from sklearn.model_selection import train_test_split\n",
        "from sklearn.metrics import mean_squared_error, mean_absolute_error\n",
        "from sklearn.preprocessing import StandardScaler, OneHotEncoder\n",
        "from sklearn.compose import ColumnTransformer\n",
        "from sklearn.pipeline import Pipeline\n",
        "from sklearn.dummy import DummyRegressor\n",
        "from sklearn.svm import SVR\n",
        "from sklearn.linear_model import LinearRegression, Ridge\n",
        "from sklearn.ensemble import RandomForestRegressor\n",
        "from sklearn.neighbors import KNeighborsRegressor\n",
        "from cuml.linear_model import LinearRegression as cuLinearRegression, Ridge as cuRidge\n",
        "from cuml.neighbors import KNeighborsRegressor as cuKNeighborsRegressor\n",
        "from cuml.ensemble import RandomForestRegressor as cuRandomForestRegressor\n",
        "from cuml.preprocessing import StandardScaler as cuStandardScaler\n",
        "from catboost import CatBoostRegressor\n",
        "import lightgbm as lgb\n",
        "import warnings\n",
        "\n",
        "warnings.filterwarnings('ignore')\n",
        "RANDOM_STATE = 255\n",
        "\n",
        "from google.colab import drive\n",
        "drive.mount('/content/drive')"
      ],
      "metadata": {
        "id": "W4d_4YRTuCdQ"
      },
      "execution_count": null,
      "outputs": []
    },
    {
      "cell_type": "code",
      "source": [
        "@njit\n",
        "def transform_bool(data, col, true_val, false_val):\n",
        "    return (data == true_val).astype(np.int32)"
      ],
      "metadata": {
        "id": "rL5mLggcD-Jv"
      },
      "execution_count": null,
      "outputs": []
    },
    {
      "cell_type": "code",
      "source": [
        "def preprocess_data(df):\n",
        "    # Обработка пропусков\n",
        "    df = df.with_columns([\n",
        "        pl.col(\"VehicleType\").fill_null(\"unknown\"),\n",
        "        pl.col(\"Gearbox\").fill_null(\"unknown\"),\n",
        "        pl.col(\"Model\").fill_null(\"unknown\"),\n",
        "        pl.col(\"FuelType\").fill_null(\"unknown\"),\n",
        "        pl.col(\"Repaired\").fill_null(\"unknown\")\n",
        "    ])\n",
        "\n",
        "    # Фильтрация по году регистрации\n",
        "    df = df.filter(\n",
        "        (pl.col(\"RegistrationYear\") >= 1950) &\n",
        "        (pl.col(\"RegistrationYear\") <= 2023)\n",
        "    )\n",
        "\n",
        "    # Фильтрация по цене\n",
        "    df = df.filter(\n",
        "        (pl.col(\"Price\") >= 100) &\n",
        "        (pl.col(\"Price\") <= 150000)\n",
        "    )\n",
        "\n",
        "    # Преобразование bool\n",
        "    df = df.with_columns([\n",
        "        transform_bool(pl.col(\"Repaired\"), \"yes\", \"no\").alias(\"Repaired\")\n",
        "    ])\n",
        "\n",
        "    # Удаление ненужных столбцов\n",
        "    df = df.drop([\"DateCrawled\", \"DateCreated\", \"LastSeen\", \"NumberOfPictures\", \"PostalCode\"])\n",
        "\n",
        "    return df"
      ],
      "metadata": {
        "id": "3lF1IrGYvm-I"
      },
      "execution_count": null,
      "outputs": []
    },
    {
      "cell_type": "code",
      "source": [],
      "metadata": {
        "id": "d4YcBR8Svm6m"
      },
      "execution_count": null,
      "outputs": []
    },
    {
      "cell_type": "code",
      "source": [
        "df = pl.read_csv('/content/drive/MyDrive/car_data.csv')"
      ],
      "metadata": {
        "id": "7NhlqZoMvm2n"
      },
      "execution_count": null,
      "outputs": []
    },
    {
      "cell_type": "code",
      "source": [
        "df = preprocess_data(df)\n",
        "\n",
        "cat_col = ['Brand','Model','FuelType','VehicleType','Gearbox','RegistrationMonth','Repaired']\n",
        "num_col = ['Price','RegistrationYear','Power','Kilometer']\n",
        "\n",
        "col_auto_df = ['Price','Brand','Model','RegistrationYear','RegistrationMonth',\n",
        "           'FuelType','VehicleType','Gearbox','Power','Kilometer','Repaired']\n",
        "\n",
        "interval_cols = num_col\n",
        "avto_df = df.copy()\n",
        "avto_df[cat_col] = avto_df[cat_col].astype('category')\n",
        "# 'PHIK матрица'\n",
        "display ('PHIK матрица ')\n",
        "\n",
        "phik_overview = avto_df.phik_matrix( interval_cols=interval_cols)#,n_jobs=-1)\n",
        "plot_correlation_matrix(\n",
        "    phik_overview.values,\n",
        "    x_labels=phik_overview.columns,\n",
        "    y_labels=phik_overview.index,\n",
        "    vmin=0, vmax=1, color_map='Greens',\n",
        "    title=r'correlation $\\phi_K$',\n",
        "    fontsize_factor=1.3,\n",
        "    figsize=(10,9))\n",
        "\n",
        "for i in cat_col:\n",
        "    if avto_df[i].nunique()<20:\n",
        "        sns.countplot(y=i, data=avto_df)\n",
        "        plt.show()\n",
        "\n",
        "for n in num_col:\n",
        "    display(n)\n",
        "    fig, (ax_box, ax_hist) = plt.subplots(2,sharex = True,gridspec_kw = {'height_ratios': (.20, .80)})\n",
        "    sns.boxplot(x = avto_df[n], ax = ax_box)\n",
        "    plt.hist(avto_df[n],bins=100)\n",
        "    ax_box.set(xlabel = '')\n",
        "    ax_hist.set(xlabel = n)\n",
        "    ax_hist.set(ylabel = 'count')\n",
        "    plt.show()"
      ],
      "metadata": {
        "id": "XThB-5cavmyv"
      },
      "execution_count": null,
      "outputs": []
    },
    {
      "cell_type": "code",
      "source": [],
      "metadata": {
        "id": "OoFh_YH8vmu2"
      },
      "execution_count": null,
      "outputs": []
    },
    {
      "cell_type": "code",
      "source": [],
      "metadata": {
        "id": "0tMxqhR7vmqe"
      },
      "execution_count": null,
      "outputs": []
    },
    {
      "cell_type": "code",
      "source": [],
      "metadata": {
        "id": "DG15mI-nvmmG"
      },
      "execution_count": null,
      "outputs": []
    },
    {
      "cell_type": "code",
      "source": [],
      "metadata": {
        "id": "BH435AoTvmiO"
      },
      "execution_count": null,
      "outputs": []
    },
    {
      "cell_type": "code",
      "source": [
        "# Разделение данных на признаки и целевую переменную\n",
        "X = df.drop('Price')\n",
        "y = df['Price']\n",
        "# Разделение на train/test\n",
        "X_train, X_test, y_train, y_test = train_test_split(X, y, test_size=0.25, random_state=42)\n",
        "# Подготовка данных для моделей на CPU и GPU\n",
        "# Для CPU моделей: оставляем в pandas (или numpy)\n",
        "# Для GPU моделей: конвертируем в cuDF\n",
        "# Конвертируем X_train, X_test, y_train, y_test в cuDF\n",
        "X_train_cudf = cudf.DataFrame.from_pandas(X_train)\n",
        "X_test_cudf = cudf.DataFrame.from_pandas(X_test)\n",
        "y_train_cudf = cudf.Series(y_train.values)  # предполагая, что y_train - pandas Series\n",
        "y_test_cudf = cudf.Series(y_test.values)"
      ],
      "metadata": {
        "id": "dr-3sW0vuAv5"
      },
      "execution_count": null,
      "outputs": []
    },
    {
      "cell_type": "code",
      "source": [
        "models_cpu = {\n",
        "     \"Dummy\": DummyRegressor(),\n",
        "     \"SVR\": SVR(),\n",
        "     \"LinearRegression\": LinearRegression(),\n",
        "     \"Ridge\": Ridge(),\n",
        "     \"PassiveAggressive\": PassiveAggressiveRegressor(),\n",
        "     \"SGD\": SGDRegressor(),\n",
        "     \"KNeighbors\": KNeighborsRegressor(),\n",
        "     \"RandomForest\": RandomForestRegressor(),\n",
        " }\n",
        "# Модели, которые будем запускать на GPU через cuML\n",
        "models_gpu_ml = {\n",
        "     \"cuLinearRegression\": cuLinearRegression(),\n",
        "     \"cuRidge\": cuRidge(),\n",
        "     \"cuKNeighbors\": cuKNeighborsRegressor(),\n",
        "     \"cuRandomForest\": cuRandomForestRegressor(),\n",
        " }\n",
        "# Модели, которые могут использовать GPU через свои реализации (CatBoost, LGBM)\n",
        "models_gpu_other = {\n",
        "     \"CatBoost\": CatBoostRegressor(verbose=0, allow_writing_files=False, task_type='GPU'),\n",
        "     \"LGBM\": LGBMRegressor(device='gpu'),\n",
        " }"
      ],
      "metadata": {
        "id": "IDpgcmgZuANr"
      },
      "execution_count": null,
      "outputs": []
    },
    {
      "cell_type": "code",
      "source": [
        " results = []\n",
        "  # 1. Обучение моделей на CPU (используем X_train, y_train в формате pandas)\n",
        " for name, model in models_cpu.items():\n",
        "        start = time.time()\n",
        "        model.fit(X_train, y_train)\n",
        "        train_time = time.time() - start\n",
        "        start = time.time()\n",
        "        y_pred = model.predict(X_test)\n",
        "        predict_time = time.time() - start\n",
        "        rmse = np.sqrt(mean_squared_error(y_test, y_pred))\n",
        "        mae = mean_absolute_error(y_test, y_pred)\n",
        "        results.append({\n",
        "            'model': name,\n",
        "            'train_time': train_time,\n",
        "            'predict_time': predict_time,\n",
        "            'rmse': rmse,\n",
        "            'mae': mae,\n",
        "            'type': 'CPU'\n",
        "        })\n",
        "\n",
        "# 2. Обучение моделей на GPU через cuML (используем X_train_cudf, y_train_cudf)\n",
        "for name, model in models_gpu_ml.items():\n",
        "     start = time.time()\n",
        "     model.fit(X_train_cudf, y_train_cudf)\n",
        "     train_time = time.time() - start\n",
        "     start = time.time()\n",
        "     y_pred = model.predict(X_test_cudf)\n",
        "     predict_time = time.time() - start\n",
        "     # Переведем предсказания в numpy для метрик\n",
        "     y_pred_np = y_pred.to_array()  # для cuML\n",
        "     rmse = np.sqrt(mean_squared_error(y_test, y_pred_np))\n",
        "     mae = mean_absolute_error(y_test, y_pred_np)\n",
        "     results.append({\n",
        "         'model': name,\n",
        "         'train_time': train_time,\n",
        "         'predict_time': predict_time,\n",
        "         'rmse': rmse,\n",
        "         'mae': mae,\n",
        "         'type': 'GPU (cuML)'\n",
        "     })\n",
        "# 3. Обучение CatBoost и LGBM на GPU (но данные в pandas)\n",
        "for name, model in models_gpu_other.items():\n",
        "     start = time.time()\n",
        "     model.fit(X_train, y_train)\n",
        "     train_time = time.time() - start\n",
        "     start = time.time()\n",
        "     y_pred = model.predict(X_test)\n",
        "     predict_time = time.time() - start\n",
        "     rmse = np.sqrt(mean_squared_error(y_test, y_pred))\n",
        "     mae = mean_absolute_error(y_test, y_pred)\n",
        "     results.append({\n",
        "         'model': name,\n",
        "         'train_time': train_time,\n",
        "         'predict_time': predict_time,\n",
        "         'rmse': rmse,\n",
        "         'mae': mae,\n",
        "         'type': 'GPU (other)'\n",
        "     })\n",
        "# Соберем результаты в DataFrame\n",
        "results_df = pl.DataFrame(results)"
      ],
      "metadata": {
        "id": "TqW4DPX8ECPe"
      },
      "execution_count": null,
      "outputs": []
    },
    {
      "cell_type": "code",
      "source": [],
      "metadata": {
        "id": "U4uDcp2FECE-"
      },
      "execution_count": null,
      "outputs": []
    },
    {
      "cell_type": "code",
      "source": [],
      "metadata": {
        "id": "fy4zn25TEB4u"
      },
      "execution_count": null,
      "outputs": []
    },
    {
      "cell_type": "code",
      "source": [],
      "metadata": {
        "id": "UBER3T_vEBqv"
      },
      "execution_count": null,
      "outputs": []
    },
    {
      "cell_type": "code",
      "source": [],
      "metadata": {
        "id": "Q1wqXApuEBcF"
      },
      "execution_count": null,
      "outputs": []
    },
    {
      "cell_type": "code",
      "source": [],
      "metadata": {
        "id": "DIRDHfzoEBLg"
      },
      "execution_count": null,
      "outputs": []
    },
    {
      "cell_type": "code",
      "source": [],
      "metadata": {
        "id": "-zqT6IoKEAvQ"
      },
      "execution_count": null,
      "outputs": []
    }
  ]
}